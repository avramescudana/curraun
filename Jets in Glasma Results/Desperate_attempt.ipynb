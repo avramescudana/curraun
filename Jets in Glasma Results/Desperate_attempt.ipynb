{
 "cells": [
  {
   "cell_type": "markdown",
   "id": "358c34f5",
   "metadata": {},
   "source": [
    "# Try to somehow get all the components>"
   ]
  },
  {
   "cell_type": "markdown",
   "id": "b7aeea2c",
   "metadata": {},
   "source": [
    "We know that \n",
    "$$(\\delta p_{kin})^2 \\equiv (\\delta p)^2 + (gA)^2 - 2g\\delta p \\delta A = p_{kin}^2 - p_0^2 - g^2 A^2 - 2p_0\\delta p - 2g^2 A_0 \\delta_A + 2gp_0A_0 + 2gp_0\\delta A +2g\\delta p A_0$$\n",
    "so taking expectation values and after some algebra, where one has to take into account that some of the terms will vanish, it is possible to get to\n",
    "$$ <(\\delta p_{kin})^2> = <p_{kin}^2> - <p_0^2> - g^2<A^2> - 2g^2<A_0 \\delta A> + 2g<\\delta p A> - 2g<\\delta p \\delta A>$$"
   ]
  },
  {
   "cell_type": "markdown",
   "id": "84422db2",
   "metadata": {},
   "source": [
    "### Import the simulation results"
   ]
  },
  {
   "cell_type": "code",
   "execution_count": 1,
   "id": "efd0c8f4",
   "metadata": {},
   "outputs": [],
   "source": [
    "# We create a list with the files to read\n",
    "\n",
    "Nevs = 100; Nc = 3\n",
    "\n",
    "A_file_list = [['/lustre/HQCD/carlos.lamas/qJetLFH_vQM/output/A_results/result_{%i}_OUTPUT_VGlasma_nophase_R_q_g_1.000_WF_Init_q_Gaussian_nPx0_nPy0_wx_10.000000_wy_10.000000_cQ_%i_hQ_1_mq0_0.100_mq_0.100_mg_0.150_Lperp_2_Nperp_64_Leta_2.500000_Neta_1_Lmin_10.00_Kmax_2_g2mu_0.000_onMPIrank_0_step_32/PIperp/evolution_Piperp_sq_exp_autonomy.dat' %(nev, nc) for nev in range(Nevs)] for nc in range(1, Nc+1)]\n",
    "delta_A_file_list = [['/lustre/HQCD/carlos.lamas/qJetLFH_vQM/output/delta_A_results/result_{%i}_OUTPUT_VGlasma_nophase_R_q_g_1.000_WF_Init_q_Gaussian_nPx0_nPy0_wx_10.000000_wy_10.000000_cQ_%i_hQ_1_mq0_0.100_mq_0.100_mg_0.150_Lperp_2_Nperp_64_Leta_2.500000_Neta_1_Lmin_10.00_Kmax_2_g2mu_0.000_onMPIrank_0_step_32/PIperp/evolution_Piperp_sq_exp_autonomy.dat' %(nev, nc) for nev in range(Nevs)] for nc in range(1, Nc+1)]\n"
   ]
  },
  {
   "cell_type": "code",
   "execution_count": 2,
   "id": "2650bd1a",
   "metadata": {},
   "outputs": [
    {
     "name": "stdout",
     "output_type": "stream",
     "text": [
      "(100, 3, 33, 9) (100, 3, 33, 9)\n"
     ]
    }
   ],
   "source": [
    "# We convert to an array of DataFrames\n",
    "\n",
    "import pandas as pd \n",
    "import numpy as np\n",
    "\n",
    "A_df_list = []\n",
    "delta_A_df_list = []\n",
    "\n",
    "for i in range(Nevs):\n",
    "    A_df = [pd.read_table(A_file_list[c][i], header = None) for c in range(Nc)]\n",
    "    A_df_list.append(A_df)\n",
    "    \n",
    "    delta_A_df = [pd.read_table(delta_A_file_list[c][i], header = None) for c in range(Nc)]\n",
    "    delta_A_df_list.append(delta_A_df)\n",
    "    \n",
    "    \n",
    "\n",
    "A_data = np.array(A_df_list)\n",
    "delta_A_data = np.array(delta_A_df_list)\n",
    "\n",
    "print(A_data.shape, delta_A_data.shape)\n",
    "\n"
   ]
  },
  {
   "cell_type": "code",
   "execution_count": 4,
   "id": "964e47cd",
   "metadata": {},
   "outputs": [],
   "source": [
    "# Average over color and configurations\n",
    "\n",
    "A_data_av = np.average(A_data, axis=(0,1))\n",
    "delta_A_data_av = np.average(delta_A_data, axis=(0,1))"
   ]
  },
  {
   "cell_type": "code",
   "execution_count": null,
   "id": "2386b8e3",
   "metadata": {},
   "outputs": [],
   "source": [
    "# Extract the desired components\n",
    "\n",
    "xplus = A_data_av[:, 0]\n",
    "\n",
    "py2 = A_data_av[:, 5]\n",
    "pz2 = A_data_av[:, 1]\n",
    "\n",
    "Ay2 = A_data_av[:, 6]\n",
    "Az2 = A_data_av[:, 2]\n",
    "\n",
    "pyAy = A_data_av[:, 7]\n",
    "pzAz = A_data_av[:, 3]\n",
    "\n",
    "pydeltaAy = delta_A_data_av[:, 7]\n",
    "pzdeltAz = delta_A_data_av[:, 3]"
   ]
  },
  {
   "cell_type": "code",
   "execution_count": 8,
   "id": "2f254617",
   "metadata": {},
   "outputs": [
    {
     "name": "stdout",
     "output_type": "stream",
     "text": [
      "[80.06975033 80.06975033 80.06647033 80.10673333 80.18678367 80.30112967\n",
      " 80.44366133 80.60856033 80.79059367 80.98469233 81.18538433 81.38693433\n",
      " 81.584097   81.77221367 81.946675   82.102962   82.23764867 82.34961567\n",
      " 82.44081267 82.51595133 82.581168   82.64266433 82.70607533 82.77594767\n",
      " 82.854963   82.943402   83.03947367 83.13992767 83.24037567 83.33565667\n",
      " 83.42064367 83.49144167 83.54633767]\n"
     ]
    }
   ],
   "source": [
    "print(pkin_y2)"
   ]
  },
  {
   "cell_type": "markdown",
   "id": "938b83fb",
   "metadata": {},
   "source": [
    "### Plot the results"
   ]
  },
  {
   "cell_type": "code",
   "execution_count": 12,
   "id": "46775071",
   "metadata": {},
   "outputs": [
    {
     "data": {
      "text/plain": [
       "Text(0, 0.5, '$<p_{kin}^2>$')"
      ]
     },
     "execution_count": 12,
     "metadata": {},
     "output_type": "execute_result"
    },
    {
     "data": {
      "image/png": "[encoded data removed]",
      "text/plain": [
       "<Figure size 640x480 with 1 Axes>"
      ]
     },
     "metadata": {},
     "output_type": "display_data"
    }
   ],
   "source": [
    "# Start with <p_{kin}^2>\n",
    "\n",
    "import matplotlib.pyplot as plt\n",
    "\n",
    "plt.plot(xplus, pkin_y2, 'b^', label = r'$<p_{kin, y}^2>$')\n",
    "plt.plot(xplus, pkin_z2, 'r*', label = r'$<p_{kin, z}^2>$')\n",
    "\n",
    "plt.legend()\n",
    "\n",
    "plt.xlabel(r'$x^+$')\n",
    "plt.ylabel(r'$<p_{kin}^2>$')"
   ]
  },
  {
   "cell_type": "markdown",
   "id": "b0d321de",
   "metadata": {},
   "source": []
  }
 ],
 "metadata": {
  "kernelspec": {
   "display_name": "condacurraun",
   "language": "python",
   "name": "python3"
  },
  "language_info": {
   "codemirror_mode": {
    "name": "ipython",
    "version": 3
   },
   "file_extension": ".py",
   "mimetype": "text/x-python",
   "name": "python",
   "nbconvert_exporter": "python",
   "pygments_lexer": "ipython3",
   "version": "3.10.4"
  }
 },
 "nbformat": 4,
 "nbformat_minor": 5
}
