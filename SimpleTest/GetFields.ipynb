{
 "cells": [
  {
   "cell_type": "markdown",
   "id": "a3b1ddd3",
   "metadata": {},
   "source": [
    "# Extract the toy model fields"
   ]
  },
  {
   "cell_type": "markdown",
   "id": "b3973f73",
   "metadata": {},
   "source": [
    "### Constant potential"
   ]
  },
  {
   "cell_type": "code",
   "execution_count": 1,
   "id": "5b0edb65",
   "metadata": {},
   "outputs": [],
   "source": [
    "import numpy as np\n",
    "\n",
    "# hbar * c [GeV * fm]\n",
    "hbarc = 0.197326 \n",
    "\n",
    "# Simulation box \n",
    "L = 1         \n",
    "N = 128 \n",
    "tau_sim = 0.25    \n",
    "DTS = 8\n",
    "\n",
    "# Derived parameters\n",
    "a = L/N\n",
    "E0 = N / L * hbarc\n",
    "DT = 1.0 / DTS\n",
    "maxt = int(tau_sim / a * DTS)\n",
    "nplus = maxt//DTS\n",
    "\n",
    "# Glasma fields\n",
    "su_group = 'su3'\n",
    "uv = 10.0\n",
    "ir = 0.2\n",
    "g2mu = 1.5\n",
    "\n",
    "\n",
    "g = 2.0          \t\t\n",
    "mu = g2mu / g**2\n",
    "\n",
    "ns = 50      \n",
    "\n",
    "nevents = 1"
   ]
  },
  {
   "cell_type": "code",
   "execution_count": 2,
   "id": "f35e82b6",
   "metadata": {},
   "outputs": [
    {
     "name": "stdout",
     "output_type": "stream",
     "text": [
      "Using Numba\n",
      "Using SU(3)\n",
      "Using double precision\n"
     ]
    },
    {
     "name": "stderr",
     "output_type": "stream",
     "text": [
      "/home2/carlos.lamas/condacurraun/lib/python3.10/site-packages/scipy/__init__.py:132: UserWarning: A NumPy version >=1.21.6 and <1.28.0 is required for this version of SciPy (detected version 1.21.5)\n",
      "  warnings.warn(f\"A NumPy version >={np_minversion} and <{np_maxversion}\"\n"
     ]
    }
   ],
   "source": [
    "import os\n",
    "\n",
    "# Comment this, I need it for JYU GPUs to choose a specific GPU to run on\n",
    "# os.environ[\"CUDA_VISIBLE_DEVICES\"]=\"4\"\n",
    "\n",
    "os.environ[\"MY_NUMBA_TARGET\"] = \"numba\"\n",
    "os.environ[\"PRECISION\"] = \"double\"\n",
    "os.environ[\"GAUGE_GROUP\"] = su_group\n",
    "\n",
    "# Import relevant modules\n",
    "import sys\n",
    "sys.path.append('..')\n",
    "\n",
    "# Glasma modules\n",
    "import curraun.core as core\n",
    "import curraun.mv as mv\n",
    "import curraun.initial as initial\n",
    "initial.DEBUG = False\n",
    "\n",
    "import curraun.su as su\n",
    "from curraun.numba_target import use_cuda\n",
    "if use_cuda:\n",
    "    from numba import cuda\n",
    "\n",
    "# Qhat module\n",
    "import curraun.qhat as qhat\n",
    "\n",
    "import pickle\n",
    "from tqdm import tqdm"
   ]
  },
  {
   "cell_type": "code",
   "execution_count": 3,
   "id": "4ff90ac4",
   "metadata": {},
   "outputs": [
    {
     "name": "stderr",
     "output_type": "stream",
     "text": [
      "/lustre/HQCD/carlos.lamas/curraun/SimpleTest/../curraun/su3.py:80: NumbaPerformanceWarning: \n",
      "The keyword argument 'parallel=True' was specified but no transformation for parallel execution was possible.\n",
      "\n",
      "To find out why, try turning on parallel diagnostics, see https://numba.readthedocs.io/en/stable/user/parallel.html#diagnostics for help.\n",
      "\n",
      "File \"../curraun/su3.py\", line 398:\n",
      "@myjit\n",
      "def mul_s(g0, f):\n",
      "^\n",
      "\n",
      "  ms0 = mul_s(s1, algebra_factors[0])\n",
      "/lustre/HQCD/carlos.lamas/curraun/SimpleTest/../curraun/su3.py:90: NumbaPerformanceWarning: \n",
      "The keyword argument 'parallel=True' was specified but no transformation for parallel execution was possible.\n",
      "\n",
      "To find out why, try turning on parallel diagnostics, see https://numba.readthedocs.io/en/stable/user/parallel.html#diagnostics for help.\n",
      "\n",
      "File \"../curraun/su3.py\", line 369:\n",
      "@myjit\n",
      "def add(g0, g1):\n",
      "^\n",
      "\n",
      "  b0 = add(ms0, ms1)\n",
      "/home2/carlos.lamas/condacurraun/lib/python3.10/site-packages/numba/core/typed_passes.py:329: NumbaPerformanceWarning: \n",
      "The keyword argument 'parallel=True' was specified but no transformation for parallel execution was possible.\n",
      "\n",
      "To find out why, try turning on parallel diagnostics, see https://numba.readthedocs.io/en/stable/user/parallel.html#diagnostics for help.\n",
      "\n",
      "File \"../curraun/su3.py\", line 67:\n",
      "@myjit\n",
      "def get_algebra_element(algebra_factors):\n",
      "^\n",
      "\n",
      "  warnings.warn(errors.NumbaPerformanceWarning(msg,\n",
      "/home2/carlos.lamas/condacurraun/lib/python3.10/site-packages/numba/core/typed_passes.py:329: NumbaPerformanceWarning: \n",
      "The keyword argument 'parallel=True' was specified but no transformation for parallel execution was possible.\n",
      "\n",
      "To find out why, try turning on parallel diagnostics, see https://numba.readthedocs.io/en/stable/user/parallel.html#diagnostics for help.\n",
      "\n",
      "File \"../curraun/su3.py\", line 441:\n",
      "@myjit\n",
      "def unit():\n",
      "^\n",
      "\n",
      "  warnings.warn(errors.NumbaPerformanceWarning(msg,\n",
      "/home2/carlos.lamas/condacurraun/lib/python3.10/site-packages/numba/core/typed_passes.py:329: NumbaPerformanceWarning: \n",
      "The keyword argument 'parallel=True' was specified but no transformation for parallel execution was possible.\n",
      "\n",
      "To find out why, try turning on parallel diagnostics, see https://numba.readthedocs.io/en/stable/user/parallel.html#diagnostics for help.\n",
      "\n",
      "File \"../curraun/su3.py\", line 119:\n",
      "@myjit\n",
      "def mul(a, b):\n",
      "^\n",
      "\n",
      "  warnings.warn(errors.NumbaPerformanceWarning(msg,\n"
     ]
    }
   ],
   "source": [
    "tsteps = int(tau_sim/(L/N))\n",
    "\n",
    "up = np.zeros((tsteps, N, N, su.GROUP_ELEMENTS), dtype=su.GROUP_TYPE)\n",
    "Ay = np.zeros((tsteps, N, N, su.GROUP_ELEMENTS), dtype=su.GROUP_TYPE)\n",
    "Az = np.zeros((tsteps, N, N, su.GROUP_ELEMENTS), dtype=su.GROUP_TYPE)\n",
    "\n",
    "Asq = np.zeros((tsteps, N, N, su.GROUP_ELEMENTS), dtype=su.GROUP_TYPE)\n",
    "\n",
    "for xplus in range (tsteps):\n",
    "    for y in range(N):\n",
    "        for z in range(N):\n",
    "            A = np.full(8,-1j)\n",
    "            Ay[xplus, y, z] = su.get_algebra_element(A)\n",
    "            up[xplus, y, z] = su.unit()\n",
    "            \n",
    "            Asq[xplus, y, z]= su.mul(Ay[xplus, y, z], Ay[xplus, y, z])"
   ]
  },
  {
   "cell_type": "code",
   "execution_count": 4,
   "id": "1b9fbeee",
   "metadata": {},
   "outputs": [
    {
     "name": "stdout",
     "output_type": "stream",
     "text": [
      "[[ 0.78867513-0.j   0.5       -0.5j  0.5       -0.5j]\n",
      " [ 0.5       +0.5j -0.21132487+0.j   0.5       -0.5j]\n",
      " [ 0.5       +0.5j  0.5       +0.5j -0.57735027+0.j ]]\n"
     ]
    }
   ],
   "source": [
    "A_test = Ay[0, 0, 0].reshape(3, 3)\n",
    "print(A_test)"
   ]
  },
  {
   "cell_type": "code",
   "execution_count": 5,
   "id": "1d371827",
   "metadata": {},
   "outputs": [
    {
     "name": "stdout",
     "output_type": "stream",
     "text": [
      "[[1.62200847+0.j         0.78867513-0.28867513j 0.10566243-0.60566243j]\n",
      " [0.78867513+0.28867513j 1.0446582 +0.j         0.10566243+0.39433757j]\n",
      " [0.10566243+0.60566243j 0.10566243-0.39433757j 1.33333333+0.j        ]]\n"
     ]
    }
   ],
   "source": [
    "Asq_test = Asq[0, 0, 0].reshape(3, 3)\n",
    "print(Asq_test)"
   ]
  },
  {
   "cell_type": "code",
   "execution_count": 6,
   "id": "127c08e3",
   "metadata": {},
   "outputs": [
    {
     "name": "stdout",
     "output_type": "stream",
     "text": [
      "(1.3333333333333333+0j)\n"
     ]
    }
   ],
   "source": [
    "print(np.trace(Asq_test)/3)"
   ]
  },
  {
   "cell_type": "code",
   "execution_count": 7,
   "id": "e32fd54d",
   "metadata": {},
   "outputs": [],
   "source": [
    "# Go up one level from 'notebooks' to parent, then into 'simulations/tuomas_guess'\n",
    "save_dir = os.path.join('..', 'SimpleTest', 'ConstantTest')\n",
    "os.makedirs(save_dir, exist_ok=True)\n",
    "\n",
    "np.save(os.path.join(save_dir, 'up.npy'), up)\n",
    "np.save(os.path.join(save_dir, 'Ay.npy'), Ay)\n",
    "np.save(os.path.join(save_dir, 'Az.npy'), Az)"
   ]
  },
  {
   "cell_type": "markdown",
   "id": "0da7388d",
   "metadata": {},
   "source": [
    "### Potential proportional to time"
   ]
  },
  {
   "cell_type": "code",
   "execution_count": 8,
   "id": "c48585e4",
   "metadata": {},
   "outputs": [],
   "source": [
    "import numpy as np\n",
    "\n",
    "# hbar * c [GeV * fm]\n",
    "hbarc = 0.197326 \n",
    "\n",
    "# Simulation box \n",
    "L = 1         \n",
    "N = 128 \n",
    "tau_sim = 0.25    \n",
    "DTS = 8\n",
    "\n",
    "# Derived parameters\n",
    "a = L/N\n",
    "E0 = N / L * hbarc\n",
    "DT = 1.0 / DTS\n",
    "maxt = int(tau_sim / a * DTS)\n",
    "nplus = maxt//DTS\n",
    "\n",
    "# Glasma fields\n",
    "su_group = 'su3'\n",
    "uv = 10.0\n",
    "ir = 0.2\n",
    "g2mu = 1.5\n",
    "\n",
    "\n",
    "g = 2.0          \t\t\n",
    "mu = g2mu / g**2\n",
    "\n",
    "ns = 50      \n",
    "\n",
    "nevents = 1"
   ]
  },
  {
   "cell_type": "code",
   "execution_count": 9,
   "id": "f40e610c",
   "metadata": {},
   "outputs": [],
   "source": [
    "import os\n",
    "\n",
    "# Comment this, I need it for JYU GPUs to choose a specific GPU to run on\n",
    "# os.environ[\"CUDA_VISIBLE_DEVICES\"]=\"4\"\n",
    "\n",
    "os.environ[\"MY_NUMBA_TARGET\"] = \"numba\"\n",
    "os.environ[\"PRECISION\"] = \"double\"\n",
    "os.environ[\"GAUGE_GROUP\"] = su_group\n",
    "\n",
    "# Import relevant modules\n",
    "import sys\n",
    "sys.path.append('..')\n",
    "\n",
    "# Glasma modules\n",
    "import curraun.core as core\n",
    "import curraun.mv as mv\n",
    "import curraun.initial as initial\n",
    "initial.DEBUG = False\n",
    "\n",
    "import curraun.su as su\n",
    "from curraun.numba_target import use_cuda\n",
    "if use_cuda:\n",
    "    from numba import cuda\n",
    "\n",
    "# Qhat module\n",
    "import curraun.qhat as qhat\n",
    "\n",
    "import pickle\n",
    "from tqdm import tqdm"
   ]
  },
  {
   "cell_type": "code",
   "execution_count": 10,
   "id": "eb28c431",
   "metadata": {},
   "outputs": [],
   "source": [
    "tsteps = int(tau_sim/(L/N))\n",
    "\n",
    "up = np.zeros((tsteps, N, N, su.GROUP_ELEMENTS), dtype=su.GROUP_TYPE)\n",
    "Ay = np.zeros((tsteps, N, N, su.GROUP_ELEMENTS), dtype=su.GROUP_TYPE)\n",
    "Az = np.zeros((tsteps, N, N, su.GROUP_ELEMENTS), dtype=su.GROUP_TYPE)\n",
    "\n",
    "Asq = np.zeros((tsteps, N, N, su.GROUP_ELEMENTS), dtype=su.GROUP_TYPE)\n",
    "\n",
    "for xplus in range (tsteps):\n",
    "    for y in range(N):\n",
    "        for z in range(N):\n",
    "            A = np.full(8,-1j*xplus*a/hbarc)\n",
    "            Ay[xplus, y, z] = su.get_algebra_element(A)\n",
    "            up[xplus, y, z] = su.unit()"
   ]
  },
  {
   "cell_type": "code",
   "execution_count": 11,
   "id": "9ca53dc8",
   "metadata": {},
   "outputs": [],
   "source": [
    "# Go up one level from 'notebooks' to parent, then into 'simulations/tuomas_guess'\n",
    "save_dir = os.path.join('..', 'SimpleTest', 'toy_model')\n",
    "os.makedirs(save_dir, exist_ok=True)\n",
    "\n",
    "np.save(os.path.join(save_dir, 'up.npy'), up)\n",
    "np.save(os.path.join(save_dir, 'Ay.npy'), Ay)\n",
    "np.save(os.path.join(save_dir, 'Az.npy'), Az)"
   ]
  },
  {
   "cell_type": "code",
   "execution_count": null,
   "id": "4c9b880b",
   "metadata": {},
   "outputs": [],
   "source": []
  }
 ],
 "metadata": {
  "kernelspec": {
   "display_name": "Python 3",
   "language": "python",
   "name": "python3"
  },
  "language_info": {
   "codemirror_mode": {
    "name": "ipython",
    "version": 3
   },
   "file_extension": ".py",
   "mimetype": "text/x-python",
   "name": "python",
   "nbconvert_exporter": "python",
   "pygments_lexer": "ipython3",
   "version": "3.10.4"
  }
 },
 "nbformat": 4,
 "nbformat_minor": 5
}
