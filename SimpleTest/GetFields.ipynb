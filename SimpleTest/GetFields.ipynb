{
 "cells": [
  {
   "cell_type": "markdown",
   "id": "a3b1ddd3",
   "metadata": {},
   "source": [
    "# Extract the toy model fields"
   ]
  },
  {
   "cell_type": "markdown",
   "id": "b3973f73",
   "metadata": {},
   "source": [
    "### Constant potential"
   ]
  },
  {
   "cell_type": "code",
   "execution_count": 1,
   "id": "5b0edb65",
   "metadata": {},
   "outputs": [],
   "source": [
    "import numpy as np\n",
    "\n",
    "# hbar * c [GeV * fm]\n",
    "hbarc = 0.197326 \n",
    "\n",
    "# Simulation box \n",
    "L = 1         \n",
    "N = 128 \n",
    "tau_sim = 0.25    \n",
    "DTS = 8\n",
    "\n",
    "# Derived parameters\n",
    "a = L/N\n",
    "E0 = N / L * hbarc\n",
    "DT = 1.0 / DTS\n",
    "maxt = int(tau_sim / a * DTS)\n",
    "nplus = maxt//DTS\n",
    "\n",
    "# Glasma fields\n",
    "su_group = 'su3'\n",
    "uv = 10.0\n",
    "ir = 0.2\n",
    "g2mu = 1.5\n",
    "\n",
    "\n",
    "g = 2.0          \t\t\n",
    "mu = g2mu / g**2\n",
    "\n",
    "ns = 50      \n",
    "\n",
    "nevents = 1"
   ]
  },
  {
   "cell_type": "code",
   "execution_count": 2,
   "id": "f35e82b6",
   "metadata": {},
   "outputs": [
    {
     "name": "stdout",
     "output_type": "stream",
     "text": [
      "Using Numba\n",
      "Using SU(3)\n",
      "Using double precision\n"
     ]
    },
    {
     "name": "stderr",
     "output_type": "stream",
     "text": [
      "/home2/carlos.lamas/condacurraun/lib/python3.10/site-packages/scipy/__init__.py:132: UserWarning: A NumPy version >=1.21.6 and <1.28.0 is required for this version of SciPy (detected version 1.21.5)\n",
      "  warnings.warn(f\"A NumPy version >={np_minversion} and <{np_maxversion}\"\n"
     ]
    }
   ],
   "source": [
    "import os\n",
    "\n",
    "# Comment this, I need it for JYU GPUs to choose a specific GPU to run on\n",
    "# os.environ[\"CUDA_VISIBLE_DEVICES\"]=\"4\"\n",
    "\n",
    "os.environ[\"MY_NUMBA_TARGET\"] = \"numba\"\n",
    "os.environ[\"PRECISION\"] = \"double\"\n",
    "os.environ[\"GAUGE_GROUP\"] = su_group\n",
    "\n",
    "# Import relevant modules\n",
    "import sys\n",
    "sys.path.append('..')\n",
    "\n",
    "# Glasma modules\n",
    "import curraun.core as core\n",
    "import curraun.mv as mv\n",
    "import curraun.initial as initial\n",
    "initial.DEBUG = False\n",
    "\n",
    "import curraun.su as su\n",
    "from curraun.numba_target import use_cuda\n",
    "if use_cuda:\n",
    "    from numba import cuda\n",
    "\n",
    "# Qhat module\n",
    "import curraun.qhat as qhat\n",
    "\n",
    "import pickle\n",
    "from tqdm import tqdm"
   ]
  },
  {
   "cell_type": "code",
   "execution_count": 3,
   "id": "4ff90ac4",
   "metadata": {},
   "outputs": [
    {
     "name": "stderr",
     "output_type": "stream",
     "text": [
      "/lustre/HQCD/carlos.lamas/curraun/SimpleTest/../curraun/su3.py:80: NumbaPerformanceWarning: \n",
      "The keyword argument 'parallel=True' was specified but no transformation for parallel execution was possible.\n",
      "\n",
      "To find out why, try turning on parallel diagnostics, see https://numba.readthedocs.io/en/stable/user/parallel.html#diagnostics for help.\n",
      "\n",
      "File \"../curraun/su3.py\", line 398:\n",
      "@myjit\n",
      "def mul_s(g0, f):\n",
      "^\n",
      "\n",
      "  ms0 = mul_s(s1, algebra_factors[0])\n",
      "/lustre/HQCD/carlos.lamas/curraun/SimpleTest/../curraun/su3.py:90: NumbaPerformanceWarning: \n",
      "The keyword argument 'parallel=True' was specified but no transformation for parallel execution was possible.\n",
      "\n",
      "To find out why, try turning on parallel diagnostics, see https://numba.readthedocs.io/en/stable/user/parallel.html#diagnostics for help.\n",
      "\n",
      "File \"../curraun/su3.py\", line 369:\n",
      "@myjit\n",
      "def add(g0, g1):\n",
      "^\n",
      "\n",
      "  b0 = add(ms0, ms1)\n",
      "/home2/carlos.lamas/condacurraun/lib/python3.10/site-packages/numba/core/typed_passes.py:329: NumbaPerformanceWarning: \n",
      "The keyword argument 'parallel=True' was specified but no transformation for parallel execution was possible.\n",
      "\n",
      "To find out why, try turning on parallel diagnostics, see https://numba.readthedocs.io/en/stable/user/parallel.html#diagnostics for help.\n",
      "\n",
      "File \"../curraun/su3.py\", line 67:\n",
      "@myjit\n",
      "def get_algebra_element(algebra_factors):\n",
      "^\n",
      "\n",
      "  warnings.warn(errors.NumbaPerformanceWarning(msg,\n",
      "/home2/carlos.lamas/condacurraun/lib/python3.10/site-packages/numba/core/typed_passes.py:329: NumbaPerformanceWarning: \n",
      "The keyword argument 'parallel=True' was specified but no transformation for parallel execution was possible.\n",
      "\n",
      "To find out why, try turning on parallel diagnostics, see https://numba.readthedocs.io/en/stable/user/parallel.html#diagnostics for help.\n",
      "\n",
      "File \"../curraun/su3.py\", line 441:\n",
      "@myjit\n",
      "def unit():\n",
      "^\n",
      "\n",
      "  warnings.warn(errors.NumbaPerformanceWarning(msg,\n",
      "/home2/carlos.lamas/condacurraun/lib/python3.10/site-packages/numba/core/typed_passes.py:329: NumbaPerformanceWarning: \n",
      "The keyword argument 'parallel=True' was specified but no transformation for parallel execution was possible.\n",
      "\n",
      "To find out why, try turning on parallel diagnostics, see https://numba.readthedocs.io/en/stable/user/parallel.html#diagnostics for help.\n",
      "\n",
      "File \"../curraun/su3.py\", line 119:\n",
      "@myjit\n",
      "def mul(a, b):\n",
      "^\n",
      "\n",
      "  warnings.warn(errors.NumbaPerformanceWarning(msg,\n"
     ]
    }
   ],
   "source": [
    "tsteps = int(tau_sim/(L/N))\n",
    "\n",
    "up = np.zeros((tsteps, N, N, su.GROUP_ELEMENTS), dtype=su.GROUP_TYPE)\n",
    "Ay = np.zeros((tsteps, N, N, su.GROUP_ELEMENTS), dtype=su.GROUP_TYPE)\n",
    "Az = np.zeros((tsteps, N, N, su.GROUP_ELEMENTS), dtype=su.GROUP_TYPE)\n",
    "\n",
    "Asq = np.zeros((tsteps, N, N, su.GROUP_ELEMENTS), dtype=su.GROUP_TYPE)\n",
    "\n",
    "for xplus in range (tsteps):\n",
    "    for y in range(N):\n",
    "        for z in range(N):\n",
    "            A = np.full(8,-1j)\n",
    "            Ay[xplus, y, z] = su.get_algebra_element(A)\n",
    "            up[xplus, y, z] = su.unit()\n",
    "            \n",
    "            Asq[xplus, y, z]= su.mul(Ay[xplus, y, z], Ay[xplus, y, z])"
   ]
  },
  {
   "cell_type": "code",
   "execution_count": 4,
   "id": "1b9fbeee",
   "metadata": {},
   "outputs": [
    {
     "name": "stdout",
     "output_type": "stream",
     "text": [
      "[[ 0.78867513-0.j   0.5       -0.5j  0.5       -0.5j]\n",
      " [ 0.5       +0.5j -0.21132487+0.j   0.5       -0.5j]\n",
      " [ 0.5       +0.5j  0.5       +0.5j -0.57735027+0.j ]]\n"
     ]
    }
   ],
   "source": [
    "A_test = Ay[0, 0, 0].reshape(3, 3)\n",
    "print(A_test)"
   ]
  },
  {
   "cell_type": "code",
   "execution_count": 5,
   "id": "1d371827",
   "metadata": {},
   "outputs": [
    {
     "name": "stdout",
     "output_type": "stream",
     "text": [
      "[[1.62200847+0.j         0.78867513-0.28867513j 0.10566243-0.60566243j]\n",
      " [0.78867513+0.28867513j 1.0446582 +0.j         0.10566243+0.39433757j]\n",
      " [0.10566243+0.60566243j 0.10566243-0.39433757j 1.33333333+0.j        ]]\n"
     ]
    }
   ],
   "source": [
    "Asq_test = Asq[0, 0, 0].reshape(3, 3)\n",
    "print(Asq_test)"
   ]
  },
  {
   "cell_type": "code",
   "execution_count": 6,
   "id": "127c08e3",
   "metadata": {},
   "outputs": [
    {
     "name": "stdout",
     "output_type": "stream",
     "text": [
      "(1.3333333333333333+0j)\n"
     ]
    }
   ],
   "source": [
    "print(np.trace(Asq_test)/3)"
   ]
  },
  {
   "cell_type": "code",
   "execution_count": 7,
   "id": "e32fd54d",
   "metadata": {},
   "outputs": [],
   "source": [
    "# Go up one level from 'notebooks' to parent, then into 'simulations/tuomas_guess'\n",
    "save_dir = os.path.join('..', 'SimpleTest', 'ConstantTest')\n",
    "os.makedirs(save_dir, exist_ok=True)\n",
    "\n",
    "np.save(os.path.join(save_dir, 'up.npy'), up)\n",
    "np.save(os.path.join(save_dir, 'Ay.npy'), Ay)\n",
    "np.save(os.path.join(save_dir, 'Az.npy'), Az)"
   ]
  },
  {
   "cell_type": "markdown",
   "id": "0da7388d",
   "metadata": {},
   "source": [
    "### Potential proportional to time"
   ]
  },
  {
   "cell_type": "code",
   "execution_count": 1,
   "id": "c48585e4",
   "metadata": {},
   "outputs": [],
   "source": [
    "import numpy as np\n",
    "\n",
    "# hbar * c [GeV * fm]\n",
    "hbarc = 0.197326 \n",
    "\n",
    "# Simulation box \n",
    "L = 1         \n",
    "N = 128 \n",
    "tau_sim = 0.25    \n",
    "DTS = 8\n",
    "\n",
    "# Derived parameters\n",
    "a = L/N\n",
    "E0 = N / L * hbarc\n",
    "DT = 1.0 / DTS\n",
    "maxt = int(tau_sim / a * DTS)\n",
    "nplus = maxt//DTS\n",
    "\n",
    "# Glasma fields\n",
    "su_group = 'su3'\n",
    "uv = 10.0\n",
    "ir = 0.2\n",
    "g2mu = 1.5\n",
    "\n",
    "\n",
    "g = 2.0          \t\t\n",
    "mu = g2mu / g**2\n",
    "\n",
    "ns = 50      \n",
    "\n",
    "nevents = 1"
   ]
  },
  {
   "cell_type": "code",
   "execution_count": 2,
   "id": "f40e610c",
   "metadata": {},
   "outputs": [
    {
     "name": "stdout",
     "output_type": "stream",
     "text": [
      "Using Numba\n",
      "Using SU(3)\n",
      "Using double precision\n"
     ]
    },
    {
     "name": "stderr",
     "output_type": "stream",
     "text": [
      "/home2/carlos.lamas/condacurraun/lib/python3.10/site-packages/scipy/__init__.py:132: UserWarning: A NumPy version >=1.21.6 and <1.28.0 is required for this version of SciPy (detected version 1.21.5)\n",
      "  warnings.warn(f\"A NumPy version >={np_minversion} and <{np_maxversion}\"\n"
     ]
    }
   ],
   "source": [
    "import os\n",
    "\n",
    "# Comment this, I need it for JYU GPUs to choose a specific GPU to run on\n",
    "# os.environ[\"CUDA_VISIBLE_DEVICES\"]=\"4\"\n",
    "\n",
    "os.environ[\"MY_NUMBA_TARGET\"] = \"numba\"\n",
    "os.environ[\"PRECISION\"] = \"double\"\n",
    "os.environ[\"GAUGE_GROUP\"] = su_group\n",
    "\n",
    "# Import relevant modules\n",
    "import sys\n",
    "sys.path.append('..')\n",
    "\n",
    "# Glasma modules\n",
    "import curraun.core as core\n",
    "import curraun.mv as mv\n",
    "import curraun.initial as initial\n",
    "initial.DEBUG = False\n",
    "\n",
    "import curraun.su as su\n",
    "from curraun.numba_target import use_cuda\n",
    "if use_cuda:\n",
    "    from numba import cuda\n",
    "\n",
    "# Qhat module\n",
    "import curraun.qhat as qhat\n",
    "\n",
    "import pickle\n",
    "from tqdm import tqdm"
   ]
  },
  {
   "cell_type": "code",
   "execution_count": 3,
   "id": "eb28c431",
   "metadata": {},
   "outputs": [
    {
     "name": "stderr",
     "output_type": "stream",
     "text": [
      "/lustre/HQCD/carlos.lamas/curraun/SimpleTest/../curraun/su3.py:80: NumbaPerformanceWarning: \n",
      "The keyword argument 'parallel=True' was specified but no transformation for parallel execution was possible.\n",
      "\n",
      "To find out why, try turning on parallel diagnostics, see https://numba.readthedocs.io/en/stable/user/parallel.html#diagnostics for help.\n",
      "\n",
      "File \"../curraun/su3.py\", line 398:\n",
      "@myjit\n",
      "def mul_s(g0, f):\n",
      "^\n",
      "\n",
      "  ms0 = mul_s(s1, algebra_factors[0])\n",
      "/lustre/HQCD/carlos.lamas/curraun/SimpleTest/../curraun/su3.py:90: NumbaPerformanceWarning: \n",
      "The keyword argument 'parallel=True' was specified but no transformation for parallel execution was possible.\n",
      "\n",
      "To find out why, try turning on parallel diagnostics, see https://numba.readthedocs.io/en/stable/user/parallel.html#diagnostics for help.\n",
      "\n",
      "File \"../curraun/su3.py\", line 369:\n",
      "@myjit\n",
      "def add(g0, g1):\n",
      "^\n",
      "\n",
      "  b0 = add(ms0, ms1)\n",
      "/home2/carlos.lamas/condacurraun/lib/python3.10/site-packages/numba/core/typed_passes.py:329: NumbaPerformanceWarning: \n",
      "The keyword argument 'parallel=True' was specified but no transformation for parallel execution was possible.\n",
      "\n",
      "To find out why, try turning on parallel diagnostics, see https://numba.readthedocs.io/en/stable/user/parallel.html#diagnostics for help.\n",
      "\n",
      "File \"../curraun/su3.py\", line 67:\n",
      "@myjit\n",
      "def get_algebra_element(algebra_factors):\n",
      "^\n",
      "\n",
      "  warnings.warn(errors.NumbaPerformanceWarning(msg,\n",
      "/home2/carlos.lamas/condacurraun/lib/python3.10/site-packages/numba/core/typed_passes.py:329: NumbaPerformanceWarning: \n",
      "The keyword argument 'parallel=True' was specified but no transformation for parallel execution was possible.\n",
      "\n",
      "To find out why, try turning on parallel diagnostics, see https://numba.readthedocs.io/en/stable/user/parallel.html#diagnostics for help.\n",
      "\n",
      "File \"../curraun/su3.py\", line 441:\n",
      "@myjit\n",
      "def unit():\n",
      "^\n",
      "\n",
      "  warnings.warn(errors.NumbaPerformanceWarning(msg,\n"
     ]
    }
   ],
   "source": [
    "tsteps = int(tau_sim/(L/N))\n",
    "\n",
    "up = np.zeros((tsteps, N, N, su.GROUP_ELEMENTS), dtype=su.GROUP_TYPE)\n",
    "Ay = np.zeros((tsteps, N, N, su.GROUP_ELEMENTS), dtype=su.GROUP_TYPE)\n",
    "Az = np.zeros((tsteps, N, N, su.GROUP_ELEMENTS), dtype=su.GROUP_TYPE)\n",
    "\n",
    "for xplus in range (tsteps):\n",
    "    for y in range(N):\n",
    "        for z in range(N):\n",
    "            A = np.full(8,-1j*xplus*a/hbarc)\n",
    "            Ay[xplus, y, z] = su.get_algebra_element(A)\n",
    "            up[xplus, y, z] = su.unit()\n",
    "        \n",
    "up = up.reshape(tsteps, N*N, su.GROUP_ELEMENTS)\n",
    "Ay = Ay.reshape(tsteps, N*N, su.GROUP_ELEMENTS)\n",
    "Az = Az.reshape(tsteps, N*N, su.GROUP_ELEMENTS)"
   ]
  },
  {
   "cell_type": "code",
   "execution_count": 4,
   "id": "9ca53dc8",
   "metadata": {},
   "outputs": [],
   "source": [
    "# Go up one level from 'notebooks' to parent, then into 'simulations/tuomas_guess'\n",
    "save_dir = os.path.join('..', 'SimpleTest', 'toy_model')\n",
    "os.makedirs(save_dir, exist_ok=True)\n",
    "\n",
    "np.save(os.path.join(save_dir, 'up.npy'), up)\n",
    "np.save(os.path.join(save_dir, 'Ay.npy'), Ay)\n",
    "np.save(os.path.join(save_dir, 'Az.npy'), Az)"
   ]
  },
  {
   "cell_type": "markdown",
   "id": "4c9b880b",
   "metadata": {},
   "source": [
    "### Include canonic momentum broadening"
   ]
  },
  {
   "cell_type": "markdown",
   "id": "fd62382e",
   "metadata": {},
   "source": [
    "Let as now consider $A_y^a = t$ and $A_x^a = y$"
   ]
  },
  {
   "cell_type": "code",
   "execution_count": 1,
   "id": "0a94a64f",
   "metadata": {},
   "outputs": [],
   "source": [
    "import numpy as np\n",
    "\n",
    "# hbar * c [GeV * fm]\n",
    "hbarc = 0.197326 \n",
    "\n",
    "# Simulation box \n",
    "L = 1         \n",
    "N = 128 \n",
    "tau_sim = 0.25    \n",
    "DTS = 8\n",
    "\n",
    "# Derived parameters\n",
    "a = L/N\n",
    "E0 = N / L * hbarc\n",
    "DT = 1.0 / DTS\n",
    "maxt = int(tau_sim / a * DTS)\n",
    "nplus = maxt//DTS\n",
    "\n",
    "# Glasma fields\n",
    "su_group = 'su3'\n",
    "uv = 10.0\n",
    "ir = 0.2\n",
    "g2mu = 1.5\n",
    "\n",
    "\n",
    "g = 2.0          \t\t\n",
    "mu = g2mu / g**2\n",
    "\n",
    "ns = 50      \n",
    "\n",
    "nevents = 1"
   ]
  },
  {
   "cell_type": "code",
   "execution_count": 2,
   "id": "679a1242",
   "metadata": {},
   "outputs": [
    {
     "name": "stdout",
     "output_type": "stream",
     "text": [
      "Using Numba\n",
      "Using SU(3)\n",
      "Using double precision\n"
     ]
    },
    {
     "name": "stderr",
     "output_type": "stream",
     "text": [
      "/home2/carlos.lamas/condacurraun/lib/python3.10/site-packages/scipy/__init__.py:132: UserWarning: A NumPy version >=1.21.6 and <1.28.0 is required for this version of SciPy (detected version 1.21.5)\n",
      "  warnings.warn(f\"A NumPy version >={np_minversion} and <{np_maxversion}\"\n"
     ]
    }
   ],
   "source": [
    "import os\n",
    "\n",
    "# Comment this, I need it for JYU GPUs to choose a specific GPU to run on\n",
    "# os.environ[\"CUDA_VISIBLE_DEVICES\"]=\"4\"\n",
    "\n",
    "os.environ[\"MY_NUMBA_TARGET\"] = \"numba\"\n",
    "os.environ[\"PRECISION\"] = \"double\"\n",
    "os.environ[\"GAUGE_GROUP\"] = su_group\n",
    "\n",
    "# Import relevant modules\n",
    "import sys\n",
    "sys.path.append('..')\n",
    "\n",
    "# Glasma modules\n",
    "import curraun.core as core\n",
    "import curraun.mv as mv\n",
    "import curraun.initial as initial\n",
    "initial.DEBUG = False\n",
    "\n",
    "import curraun.su as su\n",
    "from curraun.numba_target import use_cuda\n",
    "if use_cuda:\n",
    "    from numba import cuda\n",
    "\n",
    "# Qhat module\n",
    "import curraun.qhat as qhat\n",
    "\n",
    "import pickle\n",
    "from tqdm import tqdm"
   ]
  },
  {
   "cell_type": "code",
   "execution_count": 3,
   "id": "d5339f52",
   "metadata": {},
   "outputs": [
    {
     "name": "stderr",
     "output_type": "stream",
     "text": [
      "/lustre/HQCD/carlos.lamas/curraun/SimpleTest/../curraun/su3.py:80: NumbaPerformanceWarning: \n",
      "The keyword argument 'parallel=True' was specified but no transformation for parallel execution was possible.\n",
      "\n",
      "To find out why, try turning on parallel diagnostics, see https://numba.readthedocs.io/en/stable/user/parallel.html#diagnostics for help.\n",
      "\n",
      "File \"../curraun/su3.py\", line 398:\n",
      "@myjit\n",
      "def mul_s(g0, f):\n",
      "^\n",
      "\n",
      "  ms0 = mul_s(s1, algebra_factors[0])\n",
      "/lustre/HQCD/carlos.lamas/curraun/SimpleTest/../curraun/su3.py:90: NumbaPerformanceWarning: \n",
      "The keyword argument 'parallel=True' was specified but no transformation for parallel execution was possible.\n",
      "\n",
      "To find out why, try turning on parallel diagnostics, see https://numba.readthedocs.io/en/stable/user/parallel.html#diagnostics for help.\n",
      "\n",
      "File \"../curraun/su3.py\", line 369:\n",
      "@myjit\n",
      "def add(g0, g1):\n",
      "^\n",
      "\n",
      "  b0 = add(ms0, ms1)\n",
      "/home2/carlos.lamas/condacurraun/lib/python3.10/site-packages/numba/core/typed_passes.py:329: NumbaPerformanceWarning: \n",
      "The keyword argument 'parallel=True' was specified but no transformation for parallel execution was possible.\n",
      "\n",
      "To find out why, try turning on parallel diagnostics, see https://numba.readthedocs.io/en/stable/user/parallel.html#diagnostics for help.\n",
      "\n",
      "File \"../curraun/su3.py\", line 67:\n",
      "@myjit\n",
      "def get_algebra_element(algebra_factors):\n",
      "^\n",
      "\n",
      "  warnings.warn(errors.NumbaPerformanceWarning(msg,\n",
      "/home2/carlos.lamas/condacurraun/lib/python3.10/site-packages/numba/core/typed_passes.py:329: NumbaPerformanceWarning: \n",
      "The keyword argument 'parallel=True' was specified but no transformation for parallel execution was possible.\n",
      "\n",
      "To find out why, try turning on parallel diagnostics, see https://numba.readthedocs.io/en/stable/user/parallel.html#diagnostics for help.\n",
      "\n",
      "File \"../curraun/su3.py\", line 398:\n",
      "@myjit\n",
      "def mul_s(g0, f):\n",
      "^\n",
      "\n",
      "  warnings.warn(errors.NumbaPerformanceWarning(msg,\n",
      "/lustre/HQCD/carlos.lamas/curraun/SimpleTest/../curraun/su3.py:197: NumbaPerformanceWarning: \n",
      "The keyword argument 'parallel=True' was specified but no transformation for parallel execution was possible.\n",
      "\n",
      "To find out why, try turning on parallel diagnostics, see https://numba.readthedocs.io/en/stable/user/parallel.html#diagnostics for help.\n",
      "\n",
      "File \"../curraun/su3.py\", line 119:\n",
      "@myjit\n",
      "def mul(a, b):\n",
      "^\n",
      "\n",
      "  t = mul(t, a)\n",
      "/lustre/HQCD/carlos.lamas/curraun/SimpleTest/../curraun/su3.py:198: NumbaPerformanceWarning: \n",
      "The keyword argument 'parallel=True' was specified but no transformation for parallel execution was possible.\n",
      "\n",
      "To find out why, try turning on parallel diagnostics, see https://numba.readthedocs.io/en/stable/user/parallel.html#diagnostics for help.\n",
      "\n",
      "File \"../curraun/su3.py\", line 398:\n",
      "@myjit\n",
      "def mul_s(g0, f):\n",
      "^\n",
      "\n",
      "  t = mul_s(t, 1/i)\n",
      "/lustre/HQCD/carlos.lamas/curraun/SimpleTest/../curraun/su3.py:200: NumbaPerformanceWarning: \n",
      "The keyword argument 'parallel=True' was specified but no transformation for parallel execution was possible.\n",
      "\n",
      "To find out why, try turning on parallel diagnostics, see https://numba.readthedocs.io/en/stable/user/parallel.html#diagnostics for help.\n",
      "\n",
      "File \"../curraun/su3.py\", line 462:\n",
      "@myjit\n",
      "def sq(a): # TODO: rename to tr_sq? or tr_abs_sq?\n",
      "^\n",
      "\n",
      "  n = sq(t)  # TODO: Is it possible to improve performance by checking this not so often?\n",
      "/home2/carlos.lamas/condacurraun/lib/python3.10/site-packages/numba/core/typed_passes.py:329: NumbaPerformanceWarning: \n",
      "The keyword argument 'parallel=True' was specified but no transformation for parallel execution was possible.\n",
      "\n",
      "To find out why, try turning on parallel diagnostics, see https://numba.readthedocs.io/en/stable/user/parallel.html#diagnostics for help.\n",
      "\n",
      "File \"../curraun/su3.py\", line 184:\n",
      "@myjit\n",
      "def mexp(a):\n",
      "^\n",
      "\n",
      "  warnings.warn(errors.NumbaPerformanceWarning(msg,\n"
     ]
    }
   ],
   "source": [
    "tsteps = int(tau_sim/(L/N))\n",
    "\n",
    "up = np.zeros((tsteps, N, N, su.GROUP_ELEMENTS), dtype=su.GROUP_TYPE)\n",
    "Ax = np.zeros((tsteps, N, N, su.GROUP_ELEMENTS), dtype=su.GROUP_TYPE)\n",
    "Ay = np.zeros((tsteps, N, N, su.GROUP_ELEMENTS), dtype=su.GROUP_TYPE)\n",
    "Az = np.zeros((tsteps, N, N, su.GROUP_ELEMENTS), dtype=su.GROUP_TYPE)\n",
    "\n",
    "for xplus in range (tsteps):\n",
    "    for y in range(N):\n",
    "        for z in range(N):\n",
    "            t_fact = np.full(8,-1j*(xplus*a/hbarc+2))\n",
    "            if y < N//2:\n",
    "                y_fact = np.full(8, -1j*y*a/ hbarc)\n",
    "            else:\n",
    "                y_fact = np.full(8, 1j*(N-y)*a/ hbarc)\n",
    "            \n",
    "            Ay[xplus, y, z] = su.get_algebra_element(t_fact)\n",
    "            Ax[xplus, y, z] = su.get_algebra_element(y_fact)\n",
    "            \n",
    "            Ax_fact = su.mul_s(Ax[xplus, y, z], -1j*a/hbarc)\n",
    "            up[xplus, y, z] = su.mexp(Ax_fact)"
   ]
  },
  {
   "cell_type": "code",
   "execution_count": 4,
   "id": "ec8ac386",
   "metadata": {},
   "outputs": [],
   "source": [
    "# Go up one level from 'notebooks' to parent, then into 'simulations/tuomas_guess'\n",
    "save_dir = os.path.join('..', 'SimpleTest', 'include_canonic+cte')\n",
    "os.makedirs(save_dir, exist_ok=True)\n",
    "\n",
    "np.save(os.path.join(save_dir, 'up.npy'), up.reshape(tsteps, N*N, su.GROUP_ELEMENTS))\n",
    "np.save(os.path.join(save_dir, 'Ay.npy'), Ay.reshape(tsteps, N*N, su.GROUP_ELEMENTS))\n",
    "np.save(os.path.join(save_dir, 'Az.npy'), Az.reshape(tsteps, N*N, su.GROUP_ELEMENTS))"
   ]
  },
  {
   "cell_type": "markdown",
   "id": "d2bdef0d",
   "metadata": {},
   "source": [
    "### Include color rotation"
   ]
  },
  {
   "cell_type": "markdown",
   "id": "4d853f30",
   "metadata": {},
   "source": [
    "Let us consider now that $A_x = y+1$ and $A_y = t$"
   ]
  },
  {
   "cell_type": "code",
   "execution_count": 24,
   "id": "19701622",
   "metadata": {},
   "outputs": [],
   "source": [
    "import numpy as np\n",
    "\n",
    "# hbar * c [GeV * fm]\n",
    "hbarc = 0.197326 \n",
    "\n",
    "# Simulation box \n",
    "L = 1         \n",
    "N = 128 \n",
    "tau_sim = 0.25    \n",
    "DTS = 8\n",
    "\n",
    "# Derived parameters\n",
    "a = L/N\n",
    "E0 = N / L * hbarc\n",
    "DT = 1.0 / DTS\n",
    "maxt = int(tau_sim / a * DTS)\n",
    "nplus = maxt//DTS\n",
    "\n",
    "# Glasma fields\n",
    "su_group = 'su3'\n",
    "uv = 10.0\n",
    "ir = 0.2\n",
    "g2mu = 1.5\n",
    "\n",
    "\n",
    "g = 2.0          \t\t\n",
    "mu = g2mu / g**2\n",
    "\n",
    "ns = 50      \n",
    "\n",
    "nevents = 1"
   ]
  },
  {
   "cell_type": "code",
   "execution_count": 25,
   "id": "1ced0f7c",
   "metadata": {},
   "outputs": [],
   "source": [
    "import os\n",
    "\n",
    "# Comment this, I need it for JYU GPUs to choose a specific GPU to run on\n",
    "# os.environ[\"CUDA_VISIBLE_DEVICES\"]=\"4\"\n",
    "\n",
    "os.environ[\"MY_NUMBA_TARGET\"] = \"numba\"\n",
    "os.environ[\"PRECISION\"] = \"double\"\n",
    "os.environ[\"GAUGE_GROUP\"] = su_group\n",
    "\n",
    "# Import relevant modules\n",
    "import sys\n",
    "sys.path.append('..')\n",
    "\n",
    "# Glasma modules\n",
    "import curraun.core as core\n",
    "import curraun.mv as mv\n",
    "import curraun.initial as initial\n",
    "initial.DEBUG = False\n",
    "\n",
    "import curraun.su as su\n",
    "from curraun.numba_target import use_cuda\n",
    "if use_cuda:\n",
    "    from numba import cuda\n",
    "\n",
    "# Qhat module\n",
    "import curraun.qhat as qhat\n",
    "\n",
    "import pickle\n",
    "from tqdm import tqdm"
   ]
  },
  {
   "cell_type": "markdown",
   "id": "d3924803",
   "metadata": {},
   "source": [
    "Simulate the fields"
   ]
  },
  {
   "cell_type": "code",
   "execution_count": 26,
   "id": "8656f119",
   "metadata": {},
   "outputs": [],
   "source": [
    "tsteps = int(tau_sim/(L/N))\n",
    "\n",
    "up = np.zeros((tsteps, N, N, su.GROUP_ELEMENTS), dtype=su.GROUP_TYPE)\n",
    "Ax = np.zeros((tsteps, N, N, su.GROUP_ELEMENTS), dtype=su.GROUP_TYPE)\n",
    "Ay = np.zeros((tsteps, N, N, su.GROUP_ELEMENTS), dtype=su.GROUP_TYPE)\n",
    "Az = np.zeros((tsteps, N, N, su.GROUP_ELEMENTS), dtype=su.GROUP_TYPE)\n",
    "\n",
    "for xplus in range (tsteps):\n",
    "    for y in range(N):\n",
    "        for z in range(N):\n",
    "            t_fact = np.full(8,-1j*xplus*a/hbarc)\n",
    "            rot_fact = np.full(8, -1j)\n",
    "            \n",
    "            Ay[xplus, y, z] = su.get_algebra_element(t_fact)\n",
    "            Ax[xplus, y, z] = su.get_algebra_element(rot_fact)\n",
    "            \n",
    "            Ax_fact = su.mul_s(Ax[xplus, y, z], -1j*a/hbarc)\n",
    "            up[xplus, y, z] = su.mexp(Ax_fact)"
   ]
  },
  {
   "cell_type": "code",
   "execution_count": 27,
   "id": "3765454f",
   "metadata": {},
   "outputs": [],
   "source": [
    "# Go up one level from 'notebooks' to parent, then into 'simulations/tuomas_guess'\n",
    "save_dir = os.path.join('..', 'SimpleTest', 'include_rotation')\n",
    "os.makedirs(save_dir, exist_ok=True)\n",
    "\n",
    "np.save(os.path.join(save_dir, 'up.npy'), up.reshape(tsteps, N*N, su.GROUP_ELEMENTS))\n",
    "np.save(os.path.join(save_dir, 'Ay.npy'), Ay.reshape(tsteps, N*N, su.GROUP_ELEMENTS))\n",
    "np.save(os.path.join(save_dir, 'Az.npy'), Az.reshape(tsteps, N*N, su.GROUP_ELEMENTS))"
   ]
  },
  {
   "cell_type": "markdown",
   "id": "d9689be1",
   "metadata": {},
   "source": [
    "Obtain the Lorentz force"
   ]
  },
  {
   "cell_type": "code",
   "execution_count": null,
   "id": "e00b5c6d",
   "metadata": {},
   "outputs": [],
   "source": [
    "fy = np.zeros((tsteps, su.GROUP_ELEMENTS), dtype=su.GROUP_TYPE)\n",
    "\n",
    "for t in range (tsteps):\n",
    "    w_fact = su.mul_s(Ax[t, 0, 0], -1j*a/hbarc*t)\n",
    "    w = su.mexp(w_fact)\n",
    "            \n",
    "    aux1 = su.mul(rot_fact, rot_fact)\n",
    "    aux2 = su.mul(aux1, w)\n",
    "    fy[t] = su.mul(aux2, su.dagger(w))"
   ]
  },
  {
   "cell_type": "markdown",
   "id": "eae8a9bd",
   "metadata": {},
   "source": [
    "Integrate the Lorentz force"
   ]
  },
  {
   "cell_type": "code",
   "execution_count": 29,
   "id": "cec40370",
   "metadata": {},
   "outputs": [],
   "source": [
    "Fy = np.zeros((tsteps+1, su.GROUP_ELEMENTS), dtype=su.GROUP_TYPE)\n",
    "for t in range (tsteps):\n",
    "    Fy[t+1] = Fy[t] + su.mul_s(fy[t], a)"
   ]
  },
  {
   "cell_type": "markdown",
   "id": "9d056f54",
   "metadata": {},
   "source": [
    "Get momentum broadening"
   ]
  },
  {
   "cell_type": "code",
   "execution_count": 42,
   "id": "2b67bda4",
   "metadata": {},
   "outputs": [],
   "source": [
    "p2 = np.zeros((tsteps+1), dtype=su.GROUP_TYPE)\n",
    "t_array = np.zeros((tsteps+1), dtype=np.float64)\n",
    "\n",
    "for t in range (tsteps+1):\n",
    "    \n",
    "    aux = su.mul(Fy[t], Fy[t])  \n",
    "    p2[t] = 1/3*su.tr(aux)\n",
    "    \n",
    "    t_array[t] = t * a / hbarc\n",
    "            \n",
    "    "
   ]
  },
  {
   "cell_type": "code",
   "execution_count": 43,
   "id": "0f38bf7a",
   "metadata": {},
   "outputs": [],
   "source": [
    "# We save to file\n",
    "\n",
    "save_dir = os.path.join('..', 'SimpleTest', 'include_rotation')\n",
    "os.makedirs(save_dir, exist_ok=True)\n",
    "\n",
    "np.savetxt(os.path.join(save_dir, 't_class.txt'), t_array.real)\n",
    "np.savetxt(os.path.join(save_dir, 'p2_class.txt'), p2.real)"
   ]
  }
 ],
 "metadata": {
  "kernelspec": {
   "display_name": "Python 3",
   "language": "python",
   "name": "python3"
  },
  "language_info": {
   "codemirror_mode": {
    "name": "ipython",
    "version": 3
   },
   "file_extension": ".py",
   "mimetype": "text/x-python",
   "name": "python",
   "nbconvert_exporter": "python",
   "pygments_lexer": "ipython3",
   "version": "3.10.4"
  }
 },
 "nbformat": 4,
 "nbformat_minor": 5
}
