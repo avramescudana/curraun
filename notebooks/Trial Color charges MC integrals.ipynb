{
 "cells": [
  {
   "cell_type": "code",
   "execution_count": 1,
   "metadata": {},
   "outputs": [
    {
     "name": "stdout",
     "output_type": "stream",
     "text": [
      "Using CUDA\n",
      "Using SU(2)\n",
      "Using double precision\n"
     ]
    }
   ],
   "source": [
    "import os\n",
    "os.environ[\"MY_NUMBA_TARGET\"] = \"cuda\"\n",
    "os.environ[\"GAUGE_GROUP\"] = 'su2'\n",
    "\n",
    "import sys\n",
    "sys.path.append('..')\n",
    "\n",
    "import numpy as np\n",
    "from scipy.stats import unitary_group\n",
    "from curraun.wong import init_charge"
   ]
  },
  {
   "cell_type": "code",
   "execution_count": 3,
   "metadata": {},
   "outputs": [],
   "source": [
    "# gell-mann matrices\n",
    "\n",
    "gm = [\n",
    "    [[0, 1, 0], [1, 0, 0], [0, 0, 0]],\n",
    "    [[0, -1j, 0], [1j, 0, 0], [0, 0, 0]],\n",
    "    [[1, 0, 0], [0, -1, 0], [0, 0, 0]],\n",
    "    [[0, 0, 1], [0, 0, 0], [1, 0, 0]],\n",
    "    [[0, 0, -1j], [0, 0, 0], [1j, 0, 0]],\n",
    "    [[0, 0, 0], [0, 0, 1], [0, 1, 0]],\n",
    "    [[0, 0, 0], [0, 0, -1j], [0, 1j, 0]],\n",
    "    [[1 / np.sqrt(3), 0, 0], [0, 1 / np.sqrt(3), 0], [0, 0, -2 / np.sqrt(3)]]\n",
    "]\n",
    "\n",
    "T = np.array(gm) / 2.0\n",
    "\n",
    "def init_charge(q0):\n",
    "    \"\"\"\n",
    "        Step 1: specific random color vector\n",
    "    \"\"\"\n",
    "    Q0 = np.einsum('ijk,i', T, q0)\n",
    "\n",
    "    \"\"\"\n",
    "        Step 2: create a random SU(3) matrix to rotate Q.\n",
    "    \"\"\"\n",
    "    \n",
    "    V = unitary_group.rvs(3)\n",
    "    detV = np.linalg.det(V)\n",
    "    U = V / detV ** (1 / 3)\n",
    "    Ud = np.conj(U).T\n",
    "\n",
    "    Q = np.einsum('ab,bc,cd', U, Q0, Ud)\n",
    "\n",
    "    \"\"\"\n",
    "        Step 3: Project onto color components\n",
    "    \"\"\"\n",
    "\n",
    "    q = 2 * np.einsum('ijk,kj', T, Q)\n",
    "    return np.real(q)\n",
    "\n",
    "def init_charge_darboux():\n",
    "    \"\"\"\n",
    "        Step 1: specific random color vector\n",
    "    \"\"\"\n",
    "    # Values used to compute the SU(3) Casimirs\n",
    "    # J1, J2 = 1, 0\n",
    "    J1, J2 = 2.84801, 1.00841\n",
    "    # Angle Darboux variables\n",
    "    phi1, phi2, phi3 = np.random.uniform(), np.random.uniform(), np.random.uniform()\n",
    "    # phi1, phi2, phi3 = np.random.uniform(0, 2*np.pi), np.random.uniform(0, 2*np.pi), np.random.uniform(0, 2*np.pi)\n",
    "\n",
    "    search = True\n",
    "    while search:\n",
    "        pi2, pi3 = np.random.uniform(), np.random.uniform()\n",
    "        pi1 = np.random.uniform(-pi3, pi3)\n",
    "\n",
    "        numA = ((J1-J2)/3+pi3+pi2/np.sqrt(3))*((J1+2*J2)/3+pi3+pi2/np.sqrt(3))*((2*J1+J2)/3-pi3-pi2/np.sqrt(3))\n",
    "        numB = ((J2-J1)/3+pi3-pi2/np.sqrt(3))*((J1+2*J2)/3-pi3+pi2/np.sqrt(3))*((2*J1+J2)/3+pi3-pi2/np.sqrt(3))\n",
    "\n",
    "        if (numA>0) & (numB>0):\n",
    "            search = False\n",
    "\n",
    "    A = np.sqrt(numA)/(2*pi3)\n",
    "    B = np.sqrt(numB)/(2*pi3)\n",
    "\n",
    "    pip, pim = np.sqrt(pi3+pi1), np.sqrt(pi3-pi1)\n",
    "    Cpp, Cpm, Cmp, Cmm = np.cos((phi1+np.sqrt(3)*phi2+phi3)/2), np.cos((phi1+np.sqrt(3)*phi2-phi3)/2), np.cos((-phi1+np.sqrt(3)*phi2+phi3)/2), np.cos((-phi1+np.sqrt(3)*phi2-phi3)/2)\n",
    "    Spp, Spm, Smp, Smm = np.sin((phi1+np.sqrt(3)*phi2+phi3)/2), np.sin((phi1+np.sqrt(3)*phi2-phi3)/2), np.sin((-phi1+np.sqrt(3)*phi2+phi3)/2), np.sin((-phi1+np.sqrt(3)*phi2-phi3)/2)\n",
    "\n",
    "    # Color charges\n",
    "    Q1 = np.cos(phi1) * pip * pim\n",
    "    Q2 = np.sin(phi1) * pip * pim\n",
    "    Q3 = pi1\n",
    "    Q4 = Cpp * pip * A + Cpm * pim * B\n",
    "    Q5 = Spp * pip * A + Spm * pim * B\n",
    "    Q6 = Cmp * pim * A - Cmm * pip * B\n",
    "    Q7 = Smp * pim * A - Smm * pip * B\n",
    "    Q8 = pi2\n",
    "    q0 = np.array([Q1, Q2, Q3, Q4, Q5, Q6, Q7, Q8])\n",
    "    \n",
    "    Q0 = np.einsum('ijk,i', T, q0)\n",
    "\n",
    "    \"\"\"\n",
    "        Step 2: create a random SU(3) matrix to rotate Q.\n",
    "    \"\"\"\n",
    "    \n",
    "    V = unitary_group.rvs(3)\n",
    "    detV = np.linalg.det(V)\n",
    "    U = V / detV ** (1 / 3)\n",
    "    Ud = np.conj(U).T\n",
    "\n",
    "    Q = np.einsum('ab,bc,cd', U, Q0, Ud)\n",
    "\n",
    "    \"\"\"\n",
    "        Step 3: Project onto color components\n",
    "    \"\"\"\n",
    "\n",
    "    q = 2 * np.einsum('ijk,kj', T, Q)\n",
    "    return np.real(q)\n",
    "\n",
    "    return q0"
   ]
  },
  {
   "cell_type": "code",
   "execution_count": 2,
   "metadata": {},
   "outputs": [],
   "source": [
    "# q2=4, q3=10/9\n",
    "# q0 = [0., 0., 0., 0., -1.69469, 0., 0., -1.06209]\n",
    "# q2 = 1/3, q3=1/9\n",
    "q0 = [0., 0., 0., 0., 0., 0., 0., -1/np.sqrt(3)]\n",
    "\n",
    "def run_mc(N=10):\n",
    "    Qa = np.zeros((3,))\n",
    "    QaQb = np.zeros((3, 3))\n",
    "    # perform MC integral\n",
    "    for i in range(N):\n",
    "        # q = init_charge(q0)\n",
    "        q =  init_charge('fundamental')\n",
    "        # q = init_charge_darboux()\n",
    "        Qa += q\n",
    "        QaQb += np.outer(q, q)\n",
    "        # normalize\n",
    "    Qa /= N\n",
    "    QaQb /= N\n",
    "    return Qa, QaQb"
   ]
  },
  {
   "cell_type": "code",
   "execution_count": 3,
   "metadata": {},
   "outputs": [
    {
     "name": "stdout",
     "output_type": "stream",
     "text": [
      "<Qa> = [-0.001  0.    -0.   ]\n",
      "<Qa Qb> = \n",
      "[[0.111 0.    0.   ]\n",
      " [0.    0.111 0.   ]\n",
      " [0.    0.    0.111]]\n",
      "<Qa Qb> (diagonal elements) = \n",
      "[0.111 0.111 0.111]\n",
      "<Qa Qa> = 0.333\n"
     ]
    }
   ],
   "source": [
    "Qa, QaQb = run_mc(100000)\n",
    "print('<Qa> = ' + str(np.round(Qa, 3)))\n",
    "print('<Qa Qb> = \\n' + str(np.round(QaQb, 3)))\n",
    "print('<Qa Qb> (diagonal elements) = \\n' + str(np.round(np.diagonal(QaQb), 3)))  \n",
    "print('<Qa Qa> = ' + str(np.round(np.trace(QaQb), 3)))"
   ]
  },
  {
   "cell_type": "code",
   "execution_count": 8,
   "metadata": {},
   "outputs": [],
   "source": [
    "import numpy as np\n",
    "\n",
    "# hbar * c [GeV * fm]\n",
    "hbarc = 0.197326 \n",
    "\n",
    "# Simulation box \n",
    "L = 10      \n",
    "N = 512    \n",
    "tau_sim = 1.0     \n",
    "DTS = 8     \n",
    "\n",
    "# Glasma\n",
    "su_group = 'su3'\n",
    "Qs = 2        \n",
    "ns = 50    \n",
    "factor = 0.8        \n",
    "g2mu = Qs / factor     \n",
    "g = np.pi * np.sqrt(1 / np.log(Qs / 0.2))          \t\t\n",
    "mu = g2mu / g**2          \t\n",
    "ir = 0.1 * g**2 * mu         \n",
    "uv = 10.0           \n",
    "\n",
    "# Wong\n",
    "mass = 10**8      \n",
    "tau_form = 0     \n",
    "pT = 0    \n",
    "ntp = 10**5  \n",
    "nevents = 1    \n",
    "representation = 'fundamental'      \n",
    "boundary = 'periodic'       "
   ]
  },
  {
   "cell_type": "code",
   "execution_count": 9,
   "metadata": {},
   "outputs": [],
   "source": [
    "import os\n",
    "os.environ[\"MY_NUMBA_TARGET\"] = \"cuda\"\n",
    "os.environ[\"PRECISION\"] = \"double\"\n",
    "os.environ[\"GAUGE_GROUP\"] = su_group\n",
    "\n",
    "# Import relevant modules\n",
    "import sys\n",
    "sys.path.append('..')\n",
    "\n",
    "# Glasma modules\n",
    "import curraun.core as core\n",
    "import curraun.mv as mv\n",
    "import curraun.initial as initial\n",
    "initial.DEBUG = False\n",
    "\n",
    "import curraun.su as su\n",
    "from curraun.numba_target import use_cuda\n",
    "if use_cuda:\n",
    "    from numba import cuda"
   ]
  },
  {
   "cell_type": "code",
   "execution_count": 11,
   "metadata": {},
   "outputs": [],
   "source": [
    "# Wong modules\n",
    "from curraun import wong\n",
    "wong.BOUNDARY = boundary\n",
    "wong.CASIMIRS = True\n",
    "from curraun.wong import init_mom_toy, init_pos"
   ]
  },
  {
   "cell_type": "code",
   "execution_count": 14,
   "metadata": {},
   "outputs": [],
   "source": [
    "import pickle\n",
    "from tqdm import tqdm\n",
    "\n",
    "# Simulation routine\n",
    "def simulate(q0, ev): \n",
    "    # Derived parameters\n",
    "    a = L / N\n",
    "    E0 = N / L * hbarc\n",
    "    DT = 1.0 / DTS\n",
    "    formt = int(tau_form / a * DTS)\n",
    "    maxt = int(tau_sim / a * DTS)\n",
    "\n",
    "    # Initialize Glasma fields\n",
    "    s = core.Simulation(N, DT, g)\n",
    "    va = mv.wilson(s, mu=mu / E0, m=ir / E0, uv=uv / E0, num_sheets=ns)\n",
    "    vb = mv.wilson(s, mu=mu / E0, m=ir / E0, uv=uv / E0, num_sheets=ns)\n",
    "    initial.init(s, va, vb)\n",
    "\n",
    "    # Initialize the Wong solver\n",
    "    wong_solver = wong.WongSolver(s, ntp)\n",
    "    x0s, p0s, q0s = np.zeros((ntp, 3)), np.zeros((ntp, 5)), np.zeros((ntp, su.ALGEBRA_ELEMENTS))\n",
    "    masses = mass / E0 * np.ones(ntp)\n",
    "\n",
    "    for i in range(ntp):\n",
    "        x0, p0, q0 = init_pos(s.n), init_mom_toy('pT', pT / E0), init_charge(q0)\n",
    "        x0s[i, :], p0s[i, :], q0s[i, :] = x0, p0, q0\n",
    "\n",
    "    wong_solver.initialize(x0s, p0s, q0s, masses)\n",
    "\n",
    "    mom_broad_T = np.zeros(maxt-formt)\n",
    "\n",
    "    with tqdm(total=maxt) as pbar:\n",
    "        for t in range(maxt):\n",
    "            # Evolve Glasma fields\n",
    "            core.evolve_leapfrog(s)\n",
    "\n",
    "            # Solve Wong's equations\n",
    "            if t>=formt:  \n",
    "                mom_broad = wong_solver.p_sq_mean \n",
    "                mom_broad_T[t-formt] = (mom_broad[0] + mom_broad[1]) * E0**2\n",
    "\n",
    "                wong_solver.evolve()\n",
    "                wong_solver.compute_mom_broad()\n",
    "\n",
    "            pbar.set_description(\"Event \" + str(ev+1))\n",
    "            pbar.update(1)\n",
    "\n",
    "    return mom_broad_T"
   ]
  },
  {
   "cell_type": "code",
   "execution_count": null,
   "metadata": {},
   "outputs": [],
   "source": [
    "q0s = [[0., 0., 0., 0., -1.69469, 0., 0., -1.06209], [0., 0., 0., 0., 0., 0., 0., -1/np.sqrt(3)]]\n",
    "factors = [1/3, 4]\n",
    "\n",
    "mom_broad_T = []\n",
    "\n",
    "for q0 in q0s:\n",
    "    mom_broads_T = []\n",
    "    for ev in range(nevents):\n",
    "        sim_mom_broad_T = simulate(q0, ev)\n",
    "        mom_broads_T.append(sim_mom_broad_T)\n",
    "\n",
    "    avg_mom_broad_T = np.mean(mom_broads_T, axis=0)\n",
    "    mom_broad_T.append(avg_mom_broad_T)\n",
    "\n",
    "formt, maxt = int(tau_form / L * N * DTS), int(tau_sim / L * N * DTS)\n",
    "tau = np.linspace(tau_form, tau_sim, maxt-formt)"
   ]
  },
  {
   "cell_type": "code",
   "execution_count": 23,
   "metadata": {},
   "outputs": [
    {
     "data": {
      "image/png": "[encoded data removed]",
      "text/plain": [
       "<Figure size 504x360 with 1 Axes>"
      ]
     },
     "metadata": {
      "needs_background": "light"
     },
     "output_type": "display_data"
    }
   ],
   "source": [
    "import matplotlib.pyplot as plt\n",
    "\n",
    "plt.style.use('nord_theme_light.mpltstyle')\n",
    "plt.rcParams[\"figure.figsize\"] = (7,5)\n",
    "\n",
    "fig = plt.figure()\n",
    "\n",
    "plt.ylabel(r'$\\langle p_T^2\\rangle\\,\\mathrm{[GeV^2]}$')\n",
    "plt.xlabel(r'$\\tau\\,\\mathrm{[fm/c]}$')\n",
    "\n",
    "labels = [r'$\\mathrm{Heinz\\&Manuel}$', r'$\\mathrm{Johnson\\&Venugopalan}$']\n",
    "labels_factors = [r'$1/3\\times\\mathrm{Heinz\\&Manuel}$', r'$4\\times\\mathrm{Johnson\\&Venugopalan}$']\n",
    "\n",
    "colors = ['#8FBCBB', '#B48EAD']\n",
    "\n",
    "ratio = {}\n",
    "for i in range(len(q0s)):\n",
    "    plt.plot(tau, mom_broad_T[i], label=labels[i], linewidth = 2.5, color=colors[i])\n",
    "    plt.plot(tau, factors[i]*mom_broad_T[i], label=labels_factors[i], linewidth = 2.5, linestyle='--', color=colors[i])\n",
    "\n",
    "# plt.ylim(0.5, 8.5)\n",
    "# plt.xlim(0, 1)\n",
    "\n",
    "plt.legend(loc='upper right')\n",
    "plt.tight_layout()\n",
    "plt.savefig('mom_broad_factors_fundamental.png', dpi=300, transparent=False, facecolor='white')"
   ]
  },
  {
   "cell_type": "code",
   "execution_count": 25,
   "metadata": {},
   "outputs": [
    {
     "name": "stderr",
     "output_type": "stream",
     "text": [
      "Event 1: 100%|██████████| 409/409 [02:19<00:00,  2.93it/s]\n",
      "Event 1: 100%|██████████| 409/409 [02:19<00:00,  2.93it/s]\n"
     ]
    }
   ],
   "source": [
    "q0s = [[np.sqrt(24), 0., 0., 0., 0., 0., 0., 0.], [1/np.sqrt(9), 0., 0., 0., 0., 0., 0., 0.]]\n",
    "factors = [1/8, 27]\n",
    "\n",
    "mom_broad_T = []\n",
    "\n",
    "for q0 in q0s:\n",
    "    mom_broads_T = []\n",
    "    for ev in range(nevents):\n",
    "        sim_mom_broad_T = simulate(q0, ev)\n",
    "        mom_broads_T.append(sim_mom_broad_T)\n",
    "\n",
    "    avg_mom_broad_T = np.mean(mom_broads_T, axis=0)\n",
    "    mom_broad_T.append(avg_mom_broad_T)\n",
    "\n",
    "formt, maxt = int(tau_form / L * N * DTS), int(tau_sim / L * N * DTS)\n",
    "tau = np.linspace(tau_form, tau_sim, maxt-formt)"
   ]
  },
  {
   "cell_type": "code",
   "execution_count": 30,
   "metadata": {},
   "outputs": [
    {
     "data": {
      "image/png": "[encoded data removed]",
      "text/plain": [
       "<Figure size 504x360 with 1 Axes>"
      ]
     },
     "metadata": {
      "needs_background": "light"
     },
     "output_type": "display_data"
    }
   ],
   "source": [
    "factors = [1/8, 27]\n",
    "import matplotlib.pyplot as plt\n",
    "\n",
    "plt.style.use('nord_theme_light.mpltstyle')\n",
    "plt.rcParams[\"figure.figsize\"] = (7,5)\n",
    "\n",
    "fig = plt.figure()\n",
    "\n",
    "plt.ylabel(r'$\\langle p_T^2\\rangle\\,\\mathrm{[GeV^2]}$')\n",
    "plt.xlabel(r'$\\tau\\,\\mathrm{[fm/c]}$')\n",
    "\n",
    "labels = [r'$\\mathrm{Heinz\\&Manuel}$', r'$\\mathrm{Johnson\\&Venugopalan}$']\n",
    "labels_factors = [r'$1/8\\times\\mathrm{Heinz\\&Manuel}$', r'$27\\times\\mathrm{Johnson\\&Venugopalan}$']\n",
    "\n",
    "colors = ['#8FBCBB', '#B48EAD']\n",
    "\n",
    "ratio = {}\n",
    "for i in range(len(q0s)):\n",
    "    plt.plot(tau, mom_broad_T[i], label=labels[i], linewidth = 2.5, color=colors[i])\n",
    "    plt.plot(tau, factors[i]*mom_broad_T[i], label=labels_factors[i], linewidth = 2.5, linestyle='--', color=colors[i])\n",
    "\n",
    "# plt.ylim(0.5, 8.5)\n",
    "# plt.xlim(0, 1)\n",
    "\n",
    "plt.legend(loc='upper right')\n",
    "plt.tight_layout()\n",
    "plt.savefig('mom_broad_factors_adjoint.png', dpi=300, transparent=False, facecolor='white')"
   ]
  }
 ],
 "metadata": {
  "interpreter": {
   "hash": "50fba519a3e3a4634f635ec7332619e3aceac5abb997750bdb88b5674357649c"
  },
  "kernelspec": {
   "display_name": "Python 3.6.13 ('curraun')",
   "language": "python",
   "name": "python3"
  },
  "language_info": {
   "codemirror_mode": {
    "name": "ipython",
    "version": 3
   },
   "file_extension": ".py",
   "mimetype": "text/x-python",
   "name": "python",
   "nbconvert_exporter": "python",
   "pygments_lexer": "ipython3",
   "version": "3.6.13"
  },
  "orig_nbformat": 4
 },
 "nbformat": 4,
 "nbformat_minor": 2
}
