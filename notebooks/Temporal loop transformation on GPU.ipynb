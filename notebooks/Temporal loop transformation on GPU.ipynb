{
 "cells": [
  {
   "cell_type": "markdown",
   "metadata": {},
   "source": [
    "# GPU gauge transformation"
   ]
  },
  {
   "cell_type": "markdown",
   "metadata": {},
   "source": [
    "### Set parametres and eviroment variables"
   ]
  },
  {
   "cell_type": "code",
   "execution_count": 1,
   "metadata": {},
   "outputs": [],
   "source": [
    "import numpy as np\n",
    "\n",
    "# hbar * c [GeV * fm]\n",
    "hbarc = 0.197326 \n",
    "\n",
    "# Simulation box \n",
    "L = 2      \n",
    "# N = 128   \n",
    "N = 16 \n",
    "tau_sim = 1     \n",
    "DTS = 4     \n",
    "\n",
    "# Glasma fields\n",
    "su_group = 'su3'\n",
    "Qs = 2        \n",
    "ns = 50    \n",
    "factor = 0.8        \n",
    "g2mu = Qs / factor     \n",
    "g = np.pi * np.sqrt(1 / np.log(Qs / 0.2))          \t\t\n",
    "mu = g2mu / g**2          \t\n",
    "ir = 0.1 * g**2 * mu         \n",
    "uv = 10.0       \n",
    "\n",
    "# TODO: Run more events\n",
    "nevents = 1"
   ]
  },
  {
   "cell_type": "code",
   "execution_count": 2,
   "metadata": {},
   "outputs": [
    {
     "name": "stdout",
     "output_type": "stream",
     "text": [
      "Using CUDA\n",
      "Using SU(3)\n",
      "Using double precision\n"
     ]
    }
   ],
   "source": [
    "import os\n",
    "\n",
    "# I need to add this line to ask resources from a specific GPU, which is free. Our GPU server has no queing system\n",
    "os.environ[\"CUDA_VISIBLE_DEVICES\"]=\"3\"\n",
    "\n",
    "# os.environ[\"MY_NUMBA_TARGET\"] = \"numba\"\n",
    "os.environ[\"MY_NUMBA_TARGET\"] = \"cuda\"\n",
    "os.environ[\"PRECISION\"] = \"double\"\n",
    "os.environ['GAUGE_GROUP'] = su_group\n",
    "\n",
    "# Import relevant modules\n",
    "import sys\n",
    "sys.path.append('..')\n",
    "\n",
    "# Glasma modules\n",
    "import curraun.core as core\n",
    "import curraun.mv as mv\n",
    "import curraun.initial as initial\n",
    "initial.DEBUG = False\n",
    "\n",
    "import curraun.su as su\n",
    "from curraun.numba_target import use_cuda\n",
    "if use_cuda:\n",
    "    from numba import cuda\n",
    "\n",
    "import curraun.su as su\n",
    "# import curraun.lc_gauge as lc_gauge\n",
    "import curraun.lc_gauge_zindep as lc_gauge\n",
    "# Gauge transformation for U_-\n",
    "lc_gauge.LCDEBUG = True"
   ]
  },
  {
   "cell_type": "markdown",
   "metadata": {},
   "source": [
    "### We define the simulation routine"
   ]
  },
  {
   "cell_type": "code",
   "execution_count": 3,
   "metadata": {},
   "outputs": [],
   "source": [
    "# import pickle\n",
    "from tqdm import tqdm\n",
    "\n",
    "# Simulation routine\n",
    "def simulate(): \n",
    "    output = {}\n",
    "    # Derived parameters\n",
    "    a = L / N\n",
    "    E0 = N / L * hbarc\n",
    "    DT = 1.0 / DTS\n",
    "    maxt = int(tau_sim / a * DTS)\n",
    "\n",
    "    # Initialize Glasma fields\n",
    "    s = core.Simulation(N, DT, g)\n",
    "\n",
    "    #TODO: for testing only, remove after testing\n",
    "    mv.set_seed(1)\n",
    "\n",
    "    va = mv.wilson(s, mu=mu / E0, m=ir / E0, uv=uv / E0, num_sheets=ns)\n",
    "    vb = mv.wilson(s, mu=mu / E0, m=ir / E0, uv=uv / E0, num_sheets=ns)\n",
    "    initial.init(s, va, vb)\n",
    "\n",
    "    # Initialize LC gauge transformation\n",
    "    nplus = maxt//DTS\n",
    "    lc = lc_gauge.LCGaugeTransf(s, nplus)\n",
    "\n",
    "    # Plus gauge link\n",
    "    # xplus=0 is not included\n",
    "    uplus_lc = su.GROUP_TYPE(np.zeros((maxt//DTS-1, N, su.GROUP_ELEMENTS)))\n",
    "\n",
    "    if lc_gauge.LCDEBUG:\n",
    "        # xplus=0 in not included\n",
    "        # also, xplus=maxt is not included\n",
    "        uminus_lc = su.GROUP_TYPE(np.zeros((maxt//DTS-2, N, su.GROUP_ELEMENTS)))\n",
    "\n",
    "    with tqdm(total=maxt) as pbar:\n",
    "        for t in range(maxt):            \n",
    "            # Evolve Glasma fields\n",
    "            core.evolve_leapfrog(s)\n",
    "\n",
    "            if t%DTS == 0:\n",
    "                for xplus in range(maxt//DTS):\n",
    "                    lc.evolve_lc(xplus)\n",
    "                    if xplus == (t//DTS) and xplus != 0:\n",
    "                        uplus_lc[xplus-1] = lc.up_lc.copy()\n",
    "\n",
    "                        if lc_gauge.LCDEBUG:\n",
    "                            if xplus != (maxt//DTS-1):\n",
    "                                uminus_lc[xplus-1] = lc.um_lc.copy()\n",
    "\n",
    "            pbar.update(1)\n",
    "\n",
    "    if use_cuda:\n",
    "        cuda.current_context().deallocations.clear()\n",
    "\n",
    "    output[\"uplus_lc\"] = uplus_lc\n",
    "    output[\"nplus\"] = nplus\n",
    "\n",
    "    if lc.LCDEBUG:\n",
    "        output[\"uminus_lc\"] = uminus_lc\n",
    "\n",
    "    return output"
   ]
  },
  {
   "cell_type": "code",
   "execution_count": 4,
   "metadata": {},
   "outputs": [
    {
     "name": "stderr",
     "output_type": "stream",
     "text": [
      "100%|██████████| 32/32 [00:04<00:00,  6.84it/s]\n"
     ]
    }
   ],
   "source": [
    "output = simulate()"
   ]
  },
  {
   "cell_type": "code",
   "execution_count": 5,
   "metadata": {},
   "outputs": [],
   "source": [
    "uplus_lc = output[\"uplus_lc\"]\n",
    "nplus = output[\"nplus\"]\n",
    "\n",
    "if lc_gauge.LCDEBUG:\n",
    "    uminus_lc = output[\"uminus_lc\"]"
   ]
  },
  {
   "cell_type": "markdown",
   "metadata": {},
   "source": [
    "--- \n",
    "Plots"
   ]
  },
  {
   "cell_type": "code",
   "execution_count": 11,
   "metadata": {},
   "outputs": [
    {
     "data": {
      "image/png": "[encoded data removed]",
      "text/plain": [
       "<Figure size 1080x2160 with 3 Axes>"
      ]
     },
     "metadata": {
      "needs_background": "light"
     },
     "output_type": "display_data"
    }
   ],
   "source": [
    "import matplotlib.pyplot as plt \n",
    "\n",
    "y = 0\n",
    "\n",
    "fig_um, axs_um = plt.subplots(1, 3, figsize=(15,30))\n",
    "\n",
    "for ixplus in range(nplus//3 + 1): \n",
    "    xplus = ixplus * 2 + 1\n",
    "    \n",
    "    uminuc_lc_color = uminus_lc[xplus, y, :].real.reshape(3,3)\n",
    "    axs_um[ixplus].imshow(uminuc_lc_color, cmap='turbo', vmin=0, vmax=1) \n",
    "    axs_um[ixplus].set_title(r'$U_-^{LC}(x^+ = %i $)' %xplus)\n",
    "    # plt.colorbar(plot1, ax = axs[t,0])"
   ]
  },
  {
   "cell_type": "code",
   "execution_count": 14,
   "metadata": {},
   "outputs": [
    {
     "data": {
      "image/png": "[encoded data removed]",
      "text/plain": [
       "<Figure size 1080x2160 with 3 Axes>"
      ]
     },
     "metadata": {
      "needs_background": "light"
     },
     "output_type": "display_data"
    }
   ],
   "source": [
    "fig_up, axs_up = plt.subplots(1, 3, figsize=(15,30))\n",
    "\n",
    "for ixplus in range(nplus//3 + 1): \n",
    "    xplus = ixplus * 2 + 1\n",
    "    \n",
    "    uplus_lc_color = uplus_lc[xplus, y, :].real.reshape(3,3)\n",
    "    axs_up[ixplus].imshow(uplus_lc_color, cmap='turbo', vmin=0, vmax=1) \n",
    "    axs_up[ixplus].set_title(r'$U_+^{LC}(x^+ = %i $)' %xplus)\n",
    "    # plt.colorbar(plot1, ax = axs[t,0])"
   ]
  },
  {
   "cell_type": "markdown",
   "metadata": {},
   "source": [
    "### To do: compare with the CPU version of the code"
   ]
  },
  {
   "cell_type": "markdown",
   "metadata": {},
   "source": [
    "---\n",
    "Test lattice functions."
   ]
  },
  {
   "cell_type": "code",
   "execution_count": null,
   "metadata": {},
   "outputs": [],
   "source": [
    "Ny, Nxplus = N, N//2\n",
    "# Test arrray\n",
    "test = np.zeros(Ny*Nxplus)\n",
    "for i in range(Ny-1):\n",
    "    for j in range(Nxplus-1):\n",
    "        test[i*Nxplus+j] = i*Nxplus+j"
   ]
  },
  {
   "cell_type": "code",
   "execution_count": null,
   "metadata": {},
   "outputs": [],
   "source": [
    "def get_index_nm(ix, iy, n):\n",
    "    return n * ix + iy\n",
    "def get_point_nxm(x, n, m):\n",
    "    r1 = x % n\n",
    "    r0 = (x - r1) // m\n",
    "    return r0, r1"
   ]
  },
  {
   "cell_type": "code",
   "execution_count": null,
   "metadata": {},
   "outputs": [
    {
     "data": {
      "text/plain": [
       "196"
      ]
     },
     "execution_count": 37,
     "metadata": {},
     "output_type": "execute_result"
    }
   ],
   "source": [
    "index = get_index_nm(3, 4, Ny)\n",
    "index"
   ]
  },
  {
   "cell_type": "code",
   "execution_count": null,
   "metadata": {},
   "outputs": [
    {
     "data": {
      "text/plain": [
       "(3, 4)"
      ]
     },
     "execution_count": 38,
     "metadata": {},
     "output_type": "execute_result"
    }
   ],
   "source": [
    "get_point_nxm(index, Nxplus, Ny)"
   ]
  }
 ],
 "metadata": {
  "kernelspec": {
   "display_name": "Python 3",
   "language": "python",
   "name": "python3"
  },
  "language_info": {
   "codemirror_mode": {
    "name": "ipython",
    "version": 3
   },
   "file_extension": ".py",
   "mimetype": "text/x-python",
   "name": "python",
   "nbconvert_exporter": "python",
   "pygments_lexer": "ipython3",
   "version": "3.6.8"
  }
 },
 "nbformat": 4,
 "nbformat_minor": 2
}
