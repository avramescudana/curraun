{
 "cells": [
  {
   "cell_type": "markdown",
   "metadata": {},
   "source": [
    "# GPU gauge transformation"
   ]
  },
  {
   "cell_type": "markdown",
   "metadata": {},
   "source": [
    "### Set parametres and eviroment variables"
   ]
  },
  {
   "cell_type": "code",
   "execution_count": 1,
   "metadata": {},
   "outputs": [],
   "source": [
    "import numpy as np\n",
    "\n",
    "# hbar * c [GeV * fm]\n",
    "hbarc = 0.197326 \n",
    "\n",
    "# Simulation box \n",
    "L = 2      \n",
    "# N = 128   \n",
    "N = 64 \n",
    "tau_sim = 1     \n",
    "DTS = 8     \n",
    "\n",
    "# Glasma fields\n",
    "su_group = 'su3'\n",
    "Qs = 2        \n",
    "ns = 50    \n",
    "factor = 0.8        \n",
    "g2mu = Qs / factor     \n",
    "g = np.pi * np.sqrt(1 / np.log(Qs / 0.2))          \t\t\n",
    "mu = g2mu / g**2          \t\n",
    "ir = 0.1 * g**2 * mu         \n",
    "uv = 10.0       \n",
    "\n",
    "# TODO: Run more events\n",
    "nevents = 1"
   ]
  },
  {
   "cell_type": "code",
   "execution_count": 2,
   "metadata": {},
   "outputs": [
    {
     "name": "stdout",
     "output_type": "stream",
     "text": [
      "Using CUDA\n",
      "Using SU(3)\n",
      "Using double precision\n"
     ]
    }
   ],
   "source": [
    "import os\n",
    "\n",
    "# I need to add this line to ask resources from a specific GPU, which is free. Our GPU server has no queing system\n",
    "os.environ[\"CUDA_VISIBLE_DEVICES\"]=\"3\"\n",
    "\n",
    "# os.environ[\"MY_NUMBA_TARGET\"] = \"numba\"\n",
    "os.environ[\"MY_NUMBA_TARGET\"] = \"cuda\"\n",
    "os.environ[\"PRECISION\"] = \"double\"\n",
    "os.environ['GAUGE_GROUP'] = su_group\n",
    "\n",
    "# Import relevant modules\n",
    "import sys\n",
    "sys.path.append('..')\n",
    "\n",
    "# Glasma modules\n",
    "import curraun.core as core\n",
    "import curraun.mv as mv\n",
    "import curraun.initial as initial\n",
    "initial.DEBUG = False\n",
    "\n",
    "import curraun.su as su\n",
    "from curraun.numba_target import use_cuda\n",
    "if use_cuda:\n",
    "    from numba import cuda\n",
    "\n",
    "import curraun.su as su\n",
    "import curraun.lc_gauge as lc_gauge"
   ]
  },
  {
   "cell_type": "markdown",
   "metadata": {},
   "source": [
    "### We define the simulation routine"
   ]
  },
  {
   "cell_type": "code",
   "execution_count": 3,
   "metadata": {},
   "outputs": [],
   "source": [
    "# import pickle\n",
    "from tqdm import tqdm\n",
    "\n",
    "# Simulation routine\n",
    "def simulate(): \n",
    "    # Derived parameters\n",
    "    a = L / N\n",
    "    E0 = N / L * hbarc\n",
    "    DT = 1.0 / DTS\n",
    "    maxt = int(tau_sim / a * DTS)\n",
    "\n",
    "    # Initialize Glasma fields\n",
    "    s = core.Simulation(N, DT, g)\n",
    "    va = mv.wilson(s, mu=mu / E0, m=ir / E0, uv=uv / E0, num_sheets=ns)\n",
    "    vb = mv.wilson(s, mu=mu / E0, m=ir / E0, uv=uv / E0, num_sheets=ns)\n",
    "    initial.init(s, va, vb)\n",
    "\n",
    "    # Initialize LC gauge transformation\n",
    "    lc = lc_gauge.LCGaugeTransf(s)\n",
    "\n",
    "    # Plus gauge link\n",
    "    # uplus_lc = su.GROUP_TYPE(np.zeros((maxt//DTS-1, N*N, su.GROUP_ELEMENTS)))\n",
    "\n",
    "    with tqdm(total=maxt) as pbar:\n",
    "        for t in range(maxt):            \n",
    "            # Evolve Glasma fields\n",
    "            core.evolve_leapfrog(s)\n",
    "\n",
    "            if t%DTS == 0:\n",
    "                lc.initialize_vlc()\n",
    "\n",
    "                # I checked that vlc0 is correctly initialized an swaped with vlc1\n",
    "                # vlc0 = lc.vlc0.copy()\n",
    "                # print('vlc0=', vlc0[0, :])\n",
    "                # print('vlc0=',vlc0[7, :])\n",
    "\n",
    "                for xplus in range(maxt//DTS):\n",
    "                    lc.evolve_lc(xplus)\n",
    "                    # if xplus > t:\n",
    "                        # print(xplus)\n",
    "                        # vlc0 = lc.vlc0.copy()\n",
    "                        # print('vlc0=', vlc0[7, :])\n",
    "                        # vlc1 = lc.vlc1.copy()\n",
    "                        # print('vlc1=', vlc1[7, :])\n",
    "                    # elif xplus == (t//DTS) and xplus != 0:\n",
    "                    if xplus == (t//DTS) and xplus != 0:\n",
    "                        print(xplus)\n",
    "                        # uplus_lc = lc.up_lc.copy()\n",
    "                        # print(\"uplus_lc=\", uplus_lc[7, :])\n",
    "                        uplus_temp = lc.up_temp.copy()\n",
    "                        print(\"uplus_temp=\", uplus_temp[7, :])\n",
    "\n",
    "\n",
    "            pbar.update(1)\n",
    "\n",
    "    if use_cuda:\n",
    "        cuda.current_context().deallocations.clear()\n",
    "\n",
    "    return uplus_lc"
   ]
  },
  {
   "cell_type": "code",
   "execution_count": 4,
   "metadata": {},
   "outputs": [],
   "source": [
    "# Supress various horribly long warnings\n",
    "import warnings\n",
    "warnings.filterwarnings('ignore')"
   ]
  },
  {
   "cell_type": "code",
   "execution_count": null,
   "metadata": {},
   "outputs": [],
   "source": [
    "uplus_lc = simulate()"
   ]
  }
 ],
 "metadata": {
  "kernelspec": {
   "display_name": "Python 3",
   "language": "python",
   "name": "python3"
  },
  "language_info": {
   "codemirror_mode": {
    "name": "ipython",
    "version": 3
   },
   "file_extension": ".py",
   "mimetype": "text/x-python",
   "name": "python",
   "nbconvert_exporter": "python",
   "pygments_lexer": "ipython3",
   "version": "3.6.8"
  }
 },
 "nbformat": 4,
 "nbformat_minor": 2
}
