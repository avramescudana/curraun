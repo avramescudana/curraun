{
 "cells": [
  {
   "cell_type": "code",
   "execution_count": 2,
   "metadata": {},
   "outputs": [
    {
     "name": "stdout",
     "output_type": "stream",
     "text": [
      "Using CUDA\n",
      "Using SU(2)\n",
      "Using double precision\n",
      "Using double precision\n"
     ]
    }
   ],
   "source": [
    "# Set environment variables \n",
    "import os\n",
    "os.environ[\"MY_NUMBA_TARGET\"] = \"cuda\"\n",
    "os.environ[\"GAUGE_GROUP\"] = \"su2\"\n",
    "os.environ[\"PRECISION\"] = \"double\"\n",
    "\n",
    "# Import curraun and other packages\n",
    "import sys\n",
    "sys.path.append('..')\n",
    "\n",
    "import curraun.core as core\n",
    "import curraun.mv as mv\n",
    "import curraun.kappa as kappa\n",
    "import curraun.qhat as qhat\n",
    "from curraun.energy import Energy\n",
    "import curraun.initial as initial\n",
    "initial.DEBUG = False\n",
    "\n",
    "from curraun.numba_target import use_cuda, use_numba\n",
    "if use_cuda:\n",
    "    from numba import cuda\n",
    "\n",
    "import numpy as np\n",
    "import pickle, datetime\n",
    "from tqdm import tqdm\n",
    "\n",
    "import matplotlib.pyplot as plt\n",
    "\n",
    "from matplotlib import rc\n",
    "rc('text', usetex=True)\n",
    "plt.rcParams[\"figure.figsize\"] = (10, 7)\n",
    "plt.rcParams.update({'font.size':18})\n",
    "\n",
    "# define hbar * c in units of GeV * fm\n",
    "hbarc = 0.197326 "
   ]
  },
  {
   "cell_type": "code",
   "execution_count": 3,
   "metadata": {},
   "outputs": [],
   "source": [
    "def compute(p):    \n",
    "    # output dictionary\n",
    "    output = {}\n",
    "    output[\"p_qhat\"] = []\n",
    "    output[\"p_kappa\"] = []\n",
    "    output[\"energy\"] = []\n",
    "    \n",
    "    output[\"EL\"] = []\n",
    "    output[\"BL\"] = []\n",
    "    output[\"ET\"] = []\n",
    "    output[\"BT\"] = []\n",
    "    \n",
    "    output[\"pL\"] = []\n",
    "    output[\"pT\"] = []\n",
    "    \n",
    "    # derived parameters\n",
    "    a = p['L'] / p['N']\n",
    "    E0 = p['N'] / p['L'] * hbarc\n",
    "    DT = 1.0 / p['DTS']\n",
    "    maxt = int(p['TMAX'] / a) * p['DTS']\n",
    "    \n",
    "    # event loop\n",
    "    for e in range(p['NE']):\n",
    "        # initialization\n",
    "        # print(\"Initializating ...\")\n",
    "        s = core.Simulation(p['N'], DT, p['G'])\n",
    "        va = mv.wilson(s, mu=p['MU'] / E0, m=p['M'] / E0, uv=p['UV'] / E0, num_sheets=p['NS'])\n",
    "        vb = mv.wilson(s, mu=p['MU'] / E0, m=p['M'] / E0, uv=p['UV'] / E0, num_sheets=p['NS'])\n",
    "        initial.init(s, va, vb)\n",
    "\n",
    "        # print(\"Memory of data: {} GB\".format(s.get_ngb()))\n",
    "\n",
    "        # initialize transport computation\n",
    "        kappa_tforce = kappa.TransportedForce(s)\n",
    "        qhat_tforce = qhat.TransportedForce(s)\n",
    "        \n",
    "        # initialize energy computation\n",
    "        en = Energy(s)\n",
    "\n",
    "        # temporary results\n",
    "        p_qhat = []\n",
    "        p_kappa = []\n",
    "        \n",
    "        EL = []\n",
    "        BL = []\n",
    "        ET = []\n",
    "        BT = []\n",
    "        \n",
    "        energy = []\n",
    "        pL = []\n",
    "        pT = []\n",
    "\n",
    "        if use_cuda:\n",
    "            s.copy_to_device()\n",
    "            kappa_tforce.copy_to_device()\n",
    "            qhat_tforce.copy_to_device()\n",
    "\n",
    "            meminfo = cuda.current_context().get_memory_info()\n",
    "            # print(\"CUDA free memory: {:.2f} GB of {:.2f} GB.\".format(meminfo[0] / 1024 ** 3, meminfo[1] / 1024 ** 3))\n",
    "        \n",
    "        with tqdm(total=maxt, file=sys.stdout, miniters=128) as pbar:\n",
    "            for t in range(maxt):\n",
    "                core.evolve_leapfrog(s)\n",
    "                \n",
    "                if t % p['DTS'] == 0:\n",
    "                    if use_cuda:\n",
    "                        # Copy data from device to host\n",
    "                        kappa_tforce.copy_mean_to_host()\n",
    "                        qhat_tforce.copy_mean_to_host()\n",
    "\n",
    "                    # unit factors (GeV^2)\n",
    "                    units = E0 ** 2 / (s.g ** 2)\n",
    "\n",
    "                    # color factors (for quarks)\n",
    "                    Nc = core.su.NC\n",
    "                    f = 2 * s.g ** 2 / (2 * Nc)\n",
    "\n",
    "                    p_qhat.append(qhat_tforce.p_perp_mean * units * f)\n",
    "                    p_kappa.append(kappa_tforce.p_perp_mean * units * f)\n",
    "\n",
    "                    # Energy density calculation\n",
    "                    en.compute()\n",
    "                    \n",
    "                    # unit factors (GeV^3)\n",
    "                    units = E0 ** 3\n",
    "                    EL.append(en.EL_mean * units)\n",
    "                    BL.append(en.BL_mean * units)\n",
    "                    ET.append(en.ET_mean * units)\n",
    "                    BT.append(en.BT_mean * units)\n",
    "                    \n",
    "                    # unit factors (Gev / fm^3)\n",
    "                    units = E0 ** 4 / hbarc ** 3\n",
    "                    energy.append(en.energy_density * units)\n",
    "                    pL.append(en.pL * units)\n",
    "                    pT.append(en.pT * units)\n",
    "                    \n",
    "                    if use_cuda:\n",
    "                        # Copy data back to device\n",
    "                        kappa_tforce.copy_mean_to_device()\n",
    "                        qhat_tforce.copy_mean_to_device()\n",
    "\n",
    "                kappa_tforce.compute()\n",
    "                qhat_tforce.compute()\n",
    "\n",
    "                pbar.set_description('Event {:3d} | {:.2f} GB / {:.2f} GB'.format(e,\n",
    "                                                                                  meminfo[0] / 1024 ** 3,\n",
    "                                                                                  meminfo[1] / 1024 ** 3))\n",
    "                pbar.update(1)\n",
    "        \n",
    "        p_qhat = np.array(p_qhat)     \n",
    "        p_kappa = np.array(p_kappa)\n",
    "        energy = np.array(energy)\n",
    "        \n",
    "        EL = np.array(EL)\n",
    "        BL = np.array(BL)\n",
    "        ET = np.array(ET)\n",
    "        BT = np.array(BT)\n",
    "        \n",
    "        pL = np.array(pL)\n",
    "        pT = np.array(pT)\n",
    "\n",
    "        output[\"p_qhat\"].append(p_qhat)\n",
    "        output[\"p_kappa\"].append(p_kappa)\n",
    "        output[\"energy\"].append(energy)\n",
    "        \n",
    "        output[\"EL\"].append(EL)\n",
    "        output[\"BL\"].append(BL)\n",
    "        output[\"ET\"].append(ET)\n",
    "        output[\"BT\"].append(BT)\n",
    "        \n",
    "        output[\"pL\"].append(pL)\n",
    "        output[\"pT\"].append(pT)\n",
    "    \n",
    "    # perform average over events\n",
    "    \n",
    "    # also add standard deviations\n",
    "    output[\"p_qhat_std\"] = np.std(np.array(output[\"p_qhat\"]), axis=0)\n",
    "    output[\"p_kappa_std\"] = np.std(np.array(output[\"p_kappa\"]), axis=0)\n",
    "    output[\"energy_std\"] = np.std(np.array(output[\"energy\"]), axis=0)\n",
    "    \n",
    "    output[\"EL_std\"] = np.std(np.array(output[\"EL\"]), axis=0)\n",
    "    output[\"BL_std\"] = np.std(np.array(output[\"BL\"]), axis=0)\n",
    "    output[\"ET_std\"] = np.std(np.array(output[\"ET\"]), axis=0)\n",
    "    output[\"BT_std\"] = np.std(np.array(output[\"BT\"]), axis=0)\n",
    "    \n",
    "    output[\"pL_std\"] = np.std(np.array(output[\"pL\"]), axis=0)\n",
    "    output[\"pT_std\"] = np.std(np.array(output[\"pT\"]), axis=0)\n",
    "    \n",
    "    # compute means\n",
    "    output[\"p_qhat\"] = np.mean(np.array(output[\"p_qhat\"]), axis=0)\n",
    "    output[\"p_kappa\"] = np.mean(np.array(output[\"p_kappa\"]), axis=0)\n",
    "    output[\"energy\"] = np.mean(np.array(output[\"energy\"]), axis=0)\n",
    "    \n",
    "    output[\"EL\"] = np.mean(np.array(output[\"EL\"]), axis=0)\n",
    "    output[\"BL\"] = np.mean(np.array(output[\"BL\"]), axis=0)\n",
    "    output[\"ET\"] = np.mean(np.array(output[\"ET\"]), axis=0)\n",
    "    output[\"BT\"] = np.mean(np.array(output[\"BT\"]), axis=0)\n",
    "    \n",
    "    output[\"pL\"] = np.mean(np.array(output[\"pL\"]), axis=0)\n",
    "    output[\"pT\"] = np.mean(np.array(output[\"pT\"]), axis=0)\n",
    "    \n",
    "    # more useful stuff\n",
    "    output[\"tau\"] = np.linspace(0, p['TMAX'], num=int(p['TMAX'] / a))\n",
    "    output[\"E0\"] = E0\n",
    "    \n",
    "    if use_cuda:\n",
    "        cuda.current_context().deallocations.clear()\n",
    "    \n",
    "    return output"
   ]
  },
  {
   "cell_type": "code",
   "execution_count": 4,
   "metadata": {},
   "outputs": [],
   "source": [
    "def run_simulation_weak(m_ratio, tmax, g, fn):\n",
    "    m = 1.0                       # GeV\n",
    "    Q = m / m_ratio               # GeV\n",
    "    mu = Q / (g ** 2)             # GeV\n",
    "    R = 1.0 / m * hbarc           # fm\n",
    "    R_Q = 1.0 / Q * hbarc         # fm\n",
    "    tmax_fm = tmax / m * hbarc    # fm\n",
    "    L = 25.0 / m * hbarc          # fm\n",
    "    \n",
    "    p = {\n",
    "        'L':    25.0 / m * hbarc, # transverse size [fm]\n",
    "        'N':    1024,             # lattice size\n",
    "        'DTS':  16,               # time steps per transverse spacing\n",
    "        'TMAX': tmax_fm,          # max. proper time (tau) [fm]\n",
    "\n",
    "        'G':    g,                # YM coupling constant\n",
    "        'MU':   mu,               # MV model parameter [GeV]\n",
    "        'M':    m,                # IR regulator [GeV]\n",
    "        'UV':   1000000.0,        # UV regulator [GeV]\n",
    "        'NS':   50,               # number of color sheets\n",
    "\n",
    "        'NE':   20,               # number of events\n",
    "    }\n",
    "    print(\"g^2 \\mu = {} m using g = {}\".format(g ** 2 * mu, g))\n",
    "    print(\"IR radius = {} / m\".format(R))\n",
    "    print(\"Q radius = {} / m\".format(R_Q))\n",
    "    print(\"Box size = {} / m\".format(p['L']))\n",
    "    print(\"Max tau = {} / m\".format(tmax_fm))\n",
    "    \n",
    "    res = compute(p)\n",
    "    pickle.dump(res, open(\"./{}.pickle\".format(fn), \"wb\"))"
   ]
  },
  {
   "cell_type": "code",
   "execution_count": null,
   "metadata": {},
   "outputs": [
    {
     "name": "stdout",
     "output_type": "stream",
     "text": [
      "Output: m_Qs_ratio_su2_100.00\n",
      "g^2 \\mu = 0.01 m using g = 2.0\n",
      "IR radius = 0.197326 / m\n",
      "Q radius = 19.7326 / m\n",
      "Box size = 4.93315 / m\n",
      "Max tau = 1.97326 / m\n",
      "Event   0 | 9.41 GB / 11.78 GB:  51%|█████     | 3331/6544 [00:13<00:09, 343.48it/s]"
     ]
    }
   ],
   "source": [
    "m_ratios = [100.0]\n",
    "tmax = 10.0 # in units of m^{-1}\n",
    "g = 2.0\n",
    "\n",
    "for mr in m_ratios:\n",
    "    fn = \"m_Qs_ratio_su2_{:3.2f}\".format(mr)\n",
    "    print(\"Output: {}\".format(fn))\n",
    "    run_simulation_weak(mr, tmax, g, fn)"
   ]
  },
  {
   "cell_type": "code",
   "execution_count": 5,
   "metadata": {},
   "outputs": [],
   "source": [
    "m_ratios = [100.0]\n",
    "fns = [\"m_Qs_ratio_su2_{:3.2f}\".format(mr) for mr in m_ratios]\n",
    "ress = []\n",
    "for fn in fns:\n",
    "    res = pickle.load(open(\"./{}.pickle\".format(fn), \"rb\"))\n",
    "    ress.append(res)"
   ]
  },
  {
   "cell_type": "code",
   "execution_count": 6,
   "metadata": {},
   "outputs": [
    {
     "data": {
      "text/plain": [
       "1"
      ]
     },
     "execution_count": 6,
     "metadata": {},
     "output_type": "execute_result"
    }
   ],
   "source": [
    "len(ress)"
   ]
  },
  {
   "cell_type": "code",
   "execution_count": 7,
   "metadata": {},
   "outputs": [
    {
     "data": {
      "text/plain": [
       "<matplotlib.legend.Legend at 0x7fd1669be710>"
      ]
     },
     "execution_count": 7,
     "metadata": {},
     "output_type": "execute_result"
    },
    {
     "data": {
      "image/png": "[encoded data removed]",
      "text/plain": [
       "<Figure size 432x288 with 1 Axes>"
      ]
     },
     "metadata": {
      "needs_background": "light"
     },
     "output_type": "display_data"
    }
   ],
   "source": [
    "Nc = core.su.NC\n",
    "c = 0.5 * (Nc ** 2 - 1)\n",
    "m_ratios = [100.0]\n",
    "for i, r in enumerate(ress):\n",
    "    Q = 1.0 / m_ratios[i]\n",
    "    plt.plot(r[\"tau\"] / hbarc, r[\"p_qhat\"][:, 1] / Q ** 4 / c,\n",
    "             label=\"$<p_y^2> \\quad (m = {:3.2f} Q_s)$\".format(m_ratios[i]))\n",
    "    plt.plot(r[\"tau\"] / hbarc, r[\"p_qhat\"][:, 2] / Q ** 4 / c,\n",
    "             label=\"$<p_z^2> \\quad (m = {:3.2f} Q_s)$\".format(m_ratios[i]))\n",
    "\n",
    "plt.xlabel(\"$m \\\\tau$\")\n",
    "plt.ylabel(\"$( 2 m^2 )/(Q^4 (N_c^2 - 1)) <p_i^2> $\")\n",
    "#plt.xlim([0, 1])\n",
    "#plt.ylim([0, 0.005])\n",
    "plt.legend()"
   ]
  },
  {
   "cell_type": "code",
   "execution_count": 8,
   "metadata": {},
   "outputs": [],
   "source": [
    "# Create some tables for pgfplots\n",
    "unit_factor = 1.0 / (Q ** 4 * c)\n",
    "m_ratios = [100.0]\n",
    "r = ress[0]\n",
    "data = [r[\"tau\"] / hbarc]\n",
    "Q = 1.0 / m_ratios[0]\n",
    "data.append(r[\"p_qhat\"][:, 1] * unit_factor)\n",
    "data.append(r[\"p_qhat\"][:, 2] * unit_factor)\n",
    "data = np.array(data).T\n",
    "data = np.nan_to_num(data)\n",
    "\n",
    "np.savetxt(\"psquared_weak_su2.dat\", data, header=\"m * tau, m^2 <p^2_y> / (Q^4 * c), m^2 <p^2_z> / (Q^4 * c)\")"
   ]
  },
  {
   "cell_type": "code",
   "execution_count": 17,
   "metadata": {},
   "outputs": [
    {
     "data": {
      "text/plain": [
       "<matplotlib.legend.Legend at 0x7fd1662cce48>"
      ]
     },
     "execution_count": 17,
     "metadata": {},
     "output_type": "execute_result"
    },
    {
     "data": {
      "image/png": "[encoded data removed]",
      "text/plain": [
       "<Figure size 432x288 with 1 Axes>"
      ]
     },
     "metadata": {
      "needs_background": "light"
     },
     "output_type": "display_data"
    }
   ],
   "source": [
    "# Let's take a look at energy densities\n",
    "Q = 1.0 / m_ratios[0]\n",
    "r = ress[0]\n",
    "Nc = 2\n",
    "g = 2\n",
    "f =  g ** 2/ (0.5 * Q ** 4 * Nc * (Nc ** 2 - 1))\n",
    "plt.plot(r[\"tau\"] / hbarc, r[\"EL\"] * f)\n",
    "plt.plot(r[\"tau\"] / hbarc, r[\"BL\"] * f)\n",
    "plt.plot(r[\"tau\"] / hbarc, r[\"ET\"] * f)\n",
    "plt.plot(r[\"tau\"] / hbarc, r[\"BT\"] * f)\n",
    "#plt.ylim([0,0.000000005])\n",
    "#plt.xlim([0, 2.0])\n",
    "plt.xlabel(\"$m \\\\tau$\")\n",
    "plt.ylabel(\"$\\epsilon \\quad [ \\mathrm{GeV}^3 ]$\")\n",
    "plt.legend([\"$\\epsilon_{E, L}$\", \"$\\epsilon_{B, L}$\", \"$\\epsilon_{E, T}$\", \"$\\epsilon_{B, T}$\"])"
   ]
  }
 ],
 "metadata": {
  "kernelspec": {
   "display_name": "Python 3",
   "language": "python",
   "name": "python3"
  },
  "language_info": {
   "codemirror_mode": {
    "name": "ipython",
    "version": 3
   },
   "file_extension": ".py",
   "mimetype": "text/x-python",
   "name": "python",
   "nbconvert_exporter": "python",
   "pygments_lexer": "ipython3",
   "version": "3.6.9"
  }
 },
 "nbformat": 4,
 "nbformat_minor": 2
}
