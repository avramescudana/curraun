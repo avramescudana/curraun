{
    "cells": [
        {
            "cell_type": "markdown",
            "source": [
                "# **Angular correlation between quark-antiquark pairs**"
            ],
            "metadata": {}
        },
        {
            "cell_type": "markdown",
            "source": [
                "Read data from files and compute the angle between the quark and antiquark pair."
            ],
            "metadata": {}
        },
        {
            "cell_type": "code",
            "execution_count": 1,
            "source": [
                "import numpy as np\n",
                "import os\n",
                "import pickle\n",
                "\n",
                "current_path = os.getcwd() \n",
                "quark = 'beauty'\n",
                "\n",
                "# pTs = [0.5, 5.0, 10.0]\n",
                "# ntp = [10, 10, 10]\n",
                "# events, nq = 10, 15\n",
                "\n",
                "pTs = [0.5]\n",
                "\n",
                "# data_tau = pickle.load(open(current_path + '/results/pb+pb_5020gev_su2_pT_0.5_wilson_lines_' + quark + '/ev_1_q_1_tp_1.pickle', \"rb\"))\n",
                "data_tau = pickle.load(open(current_path + '/results/trial_fonll/ev_1_q_1_n_1.pickle', \"rb\"))\n",
                "tau = np.array(data_tau['xmu'])[:, 0]\n",
                "tau_s = 0.1\n",
                "index_tau_s = min(range(len(tau)), key=lambda i: abs(tau[i]-tau_s))\n",
                "\n",
                "p = pickle.load(open(current_path + '/results/trial_fonll/parameters.pickle', \"rb\"))\n",
                "events = p['NEVENTS']\n",
                "\n",
                "angles = {}\n",
                "i = 0\n",
                "for pT in pTs:\n",
                "    # folder = 'pb+pb_5020gev_su2_pT_' + str(pT) + '_wilson_lines_' + quark\n",
                "    folder = 'trial_fonll'\n",
                "    directory = current_path + '/results/' + folder + '/'\n",
                "\n",
                "    angles_pT = []\n",
                "\n",
                "    for ev in range(1, events+1):\n",
                "        # for tp in range(1, ntp[i]+1):\n",
                "        #     for q in range(1, nq+1):\n",
                "        pt, N = p['PTFONLL'], p['NFONLL']\n",
                "        for ipt in range(len(pt)):\n",
                "            for ip in range(N[ipt]):\n",
                "\n",
                "                # Initially, quark and antiquark are produced in opposite directions, so the angle is 180 deg\n",
                "                # file_name_q = 'ev_' + str(ev) + '_q_' + str(q) + '_tp_' + str(tp) + '.npz'\n",
                "                # file_path_q = directory + file_name_q\n",
                "                # data_q = np.load(file_path_q)\n",
                "                # index_q = 0\n",
                "                # pT_q = [data_q['pmu'][index_q, 1], data_q['pmu'][index_q, 2]]\n",
                "\n",
                "                # file_name_aq = 'ev_' + str(ev) + '_aq_' + str(q) + '_tp_' + str(tp) + '.npz'\n",
                "                # file_path_aq = directory + file_name_aq\n",
                "                # data_aq = np.load(file_path_aq)\n",
                "                # index_aq = 0\n",
                "                # pT_aq = [data_aq['pmu'][index_aq, 1], data_aq['pmu'][index_aq, 2]]\n",
                "\n",
                "                # file_name_q = 'ev_' + str(ev) + '_q_' + str(q) + '_tp_' + str(tp) + '.pickle'\n",
                "                file_name_q = 'ev_' + str(ev) + '_q_' + str(ipt+1) + '_n_' + str(ip+1) + '.pickle'\n",
                "                file_path_q = directory + file_name_q\n",
                "                data_q = pickle.load(open(file_path_q, \"rb\"))\n",
                "                # index_q = len(data_q['pmu'][:, 0]) - 1\n",
                "                index_q = index_tau_s\n",
                "                pT_q = [np.array(data_q['pmu'])[index_q, 1], np.array(data_q['pmu'])[index_q, 2]]\n",
                "\n",
                "                # file_name_aq = 'ev_' + str(ev) + '_aq_' + str(q) + '_tp_' + str(tp) + '.pickle'\n",
                "                file_name_aq = 'ev_' + str(ev) + '_aq_' + str(ipt+1) + '_n_' + str(ip+1) + '.pickle'\n",
                "                file_path_aq = directory + file_name_aq\n",
                "                data_aq = pickle.load(open(file_path_aq, \"rb\"))\n",
                "                # index_aq = len(data_aq['pmu'][:, 0]) - 1\n",
                "                index_aq = index_tau_s\n",
                "                pT_aq = [np.array(data_aq['pmu'])[index_aq, 1], np.array(data_aq['pmu'])[index_aq, 2]]\n",
                "\n",
                "                unit_vector_pT_q = pT_q / np.linalg.norm(pT_q)\n",
                "                unit_vector_pT_aq = pT_aq / np.linalg.norm(pT_aq)\n",
                "                dot_product = np.dot(unit_vector_pT_q, unit_vector_pT_aq)\n",
                "                angle = np.arccos(dot_product) * 180 / np.pi\n",
                "                # angle = np.arccos(dot_product)\n",
                "                angles_pT.append(angle)\n",
                "\n",
                "    angles[str(pT)] = angles_pT\n",
                "    i=i+1"
            ],
            "outputs": [],
            "metadata": {}
        },
        {
            "cell_type": "markdown",
            "source": [
                "Plot the results."
            ],
            "metadata": {}
        },
        {
            "cell_type": "code",
            "execution_count": 3,
            "source": [
                "from matplotlib import pyplot as plt\n",
                "import scipy.stats as stats\n",
                "from scipy.interpolate import interp1d\n",
                "from matplotlib.ticker import MultipleLocator\n",
                "\n",
                "plt.rcParams['text.usetex'] = True\n",
                "plt.rcParams[\"figure.figsize\"] = (9, 6)\n",
                "plt.rcParams.update({'font.size':14})\n",
                "\n",
                "fig = plt.figure()\n",
                "ax = plt.subplot(111)\n",
                "plt.title(r'$\\sqrt{s_\\mathrm{PbPb}}=5.02\\,\\,\\mathrm{TeV}$', size = 18)\n",
                "# plt.title(r'$\\mathrm{Pb+Pb}\\,\\,\\, 5.02\\,\\,\\mathrm{TeV}\\,\\,\\,\\mathrm{SU(3)}\\,\\,\\,\\tau=0.4\\,\\mathrm{fm/c}$', size = 18)\n",
                "plt.ylabel(r'$1/N_\\mathrm{pairs}\\,\\mathrm{d}N/\\mathrm{d}\\phi$', size = 18)\n",
                "plt.xlabel(r'$\\Delta\\phi\\,(^\\circ)$', size = 18)\n",
                "\n",
                "# ax.yaxis.set_major_locator(MultipleLocator(0.02))\n",
                "# ax.yaxis.set_minor_locator(MultipleLocator(0.01))\n",
                "# ax.xaxis.set_major_locator(MultipleLocator(10))\n",
                "# ax.xaxis.set_minor_locator(MultipleLocator(5))\n",
                "\n",
                "ax.spines[\"top\"].set_visible(False)\n",
                "ax.spines[\"right\"].set_visible(False)\n",
                "ax.spines['bottom'].set_color('gray')\n",
                "ax.spines['left'].set_color('gray') \n",
                "# ax.tick_params(direction='in', colors='gray',grid_color='gray', grid_alpha=0.5)\n",
                "plt.grid(color = 'gray', linestyle = '-', linewidth = 1, alpha=0.3)\n",
                "ax.xaxis.grid(True, which='minor')\n",
                "ax.yaxis.grid(True, which='minor')\n",
                "plt.grid(b=True, which='minor', color='gray', alpha=0.1)\n",
                "\n",
                "# nbins = [10, 20, 20]\n",
                "nbins_interp = 100\n",
                "phi_low, phi_high = 0, 180\n",
                "\n",
                "# colors = ['#8FBCBB', '#A3BE8C', '#EBCB8B']\n",
                "# pTs = [0.5, 5.0, 10.0]\n",
                "# labels = [r'$0.5$', r'$5.0$', r'$10.0$']\n",
                "nbins = [20]\n",
                "pTs = [0.5]\n",
                "colors = ['#8FBCBB']\n",
                "labels = [r'$0.5$']\n",
                "i=0\n",
                "\n",
                "for pT in pTs:\n",
                "\n",
                "    n, bins, _ = plt.hist(angles[str(pT)], bins=np.linspace(phi_low, phi_high, nbins[i]), density=True, alpha=0.4, color=colors[i], label=labels[i])  \n",
                "    bin_centers = 0.5*(bins[1:]+bins[:-1])\n",
                "\n",
                "    bin_interp = np.linspace(bin_centers[0], bin_centers[len(bin_centers)-1], nbins_interp)\n",
                "    cubic_interp = interp1d(bin_centers, n, kind='cubic')\n",
                "    cubic_results = cubic_interp(bin_interp)\n",
                "    plt.plot(bin_interp, cubic_results, color=colors[i], linewidth = 2.0)\n",
                "    i=i+1\n",
                "\n",
                "leg = ax.legend(fontsize = 16, loc = 'upper left', bbox_to_anchor=(0.033,0.98))\n",
                "leg.get_frame().set_boxstyle('square')\n",
                "leg.set_title(r'$p_T\\,\\mathrm{[GeV]}$',prop={'size':18})\n",
                "\n",
                "textstr = '\\n'.join((\n",
                "        r'${\\huge\\mathrm{SU(2)}}$',\n",
                "        r'$\\mathrm{Charm\\,quark}$',\n",
                "        # r'$\\mathrm{Beauty\\,quark}$',\n",
                "        r'$\\tau=0.4\\,\\mathrm{fm/c}$',\n",
                "    ))\n",
                "\n",
                "props = dict(boxstyle='square', facecolor='white', alpha=0.7, edgecolor='silver', pad=0.5)\n",
                "ax.text(0.24, 0.948, textstr, transform=ax.transAxes, fontsize=16, verticalalignment='top', bbox=props)\n",
                "\n",
                "plt.tight_layout()\n",
                "os.chdir(current_path)\n",
                "# plt.savefig('plots/dNdphi_su2_pT_comp_pb+pb_5020gev_'+ quark + '.png', dpi = 300, facecolor='white', transparent=False)\n",
                "plt.show()"
            ],
            "outputs": [
                {
                    "output_type": "display_data",
                    "data": {
                        "image/png": "[encoded data removed]",
                        "text/plain": [
                            "<Figure size 648x432 with 1 Axes>"
                        ]
                    },
                    "metadata": {
                        "needs_background": "light"
                    }
                }
            ],
            "metadata": {}
        },
        {
            "cell_type": "code",
            "execution_count": null,
            "source": [],
            "outputs": [],
            "metadata": {}
        }
    ],
    "metadata": {
        "orig_nbformat": 4,
        "language_info": {
            "name": "python",
            "version": "3.6.13",
            "mimetype": "text/x-python",
            "codemirror_mode": {
                "name": "ipython",
                "version": 3
            },
            "pygments_lexer": "ipython3",
            "nbconvert_exporter": "python",
            "file_extension": ".py"
        },
        "kernelspec": {
            "name": "python3",
            "display_name": "Python 3.6.13 64-bit ('curraun': conda)"
        },
        "interpreter": {
            "hash": "66b31cdbddf669999fcb207de0f85b9a136e33c1dd522229764e55c1583da068"
        }
    },
    "nbformat": 4,
    "nbformat_minor": 2
}