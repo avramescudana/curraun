{
    "cells": [
        {
            "cell_type": "markdown",
            "metadata": {},
            "source": [
                "# **Early proper time behaviour of beauty quark momentum broadening**"
            ]
        },
        {
            "cell_type": "markdown",
            "metadata": {},
            "source": [
                "### Default simulation parameters for the Glasma and the Wong solvers"
            ]
        },
        {
            "cell_type": "markdown",
            "metadata": {},
            "source": [
                "Simulation parameters chosen for a Glasma characterized by a saturation momentum $Q_s=2\\,\\mathrm{GeV}$ and a beauty quark."
            ]
        },
        {
            "cell_type": "code",
            "execution_count": 2,
            "metadata": {},
            "outputs": [],
            "source": [
                "import numpy as np\n",
                "\n",
                "# hbar * c [GeV * fm]\n",
                "hbarc = 0.197326 \n",
                "\n",
                "# Simulation box \n",
                "L = 10      \n",
                "N = 512    \n",
                "tau_sim = 2.0     \n",
                "DTS = 8     \n",
                "\n",
                "# Glasma fields\n",
                "su_group = 'su3'\n",
                "Qs = 2        \n",
                "ns = 50    \n",
                "factor = 0.8        \n",
                "g2mu = Qs / factor     \n",
                "g = np.pi * np.sqrt(1 / np.log(Qs / 0.2))          \t\t\n",
                "mu = g2mu / g**2          \t\n",
                "ir = 0.1 * g**2 * mu         \n",
                "uv = 10.0       \n",
                "\n",
                "# Wong solver \n",
                "mass = 4.18      \n",
                "tau_form = 0.02\n",
                "pT = 0\n",
                "ntp = 10**5  \n",
                "nevents = 5    \n",
                "representation = 'fundamental'      \n",
                "boundary = 'periodic'       "
            ]
        },
        {
            "cell_type": "markdown",
            "metadata": {},
            "source": [
                "### Set environment variables"
            ]
        },
        {
            "cell_type": "code",
            "execution_count": 3,
            "metadata": {},
            "outputs": [
                {
                    "name": "stdout",
                    "output_type": "stream",
                    "text": [
                        "Using CUDA\n",
                        "Using SU(3)\n",
                        "Using double precision\n",
                        "Using double precision\n"
                    ]
                }
            ],
            "source": [
                "import os\n",
                "os.environ[\"MY_NUMBA_TARGET\"] = \"cuda\"\n",
                "os.environ[\"PRECISION\"] = \"double\"\n",
                "os.environ[\"GAUGE_GROUP\"] = su_group\n",
                "\n",
                "# Import relevant modules\n",
                "import sys\n",
                "sys.path.append('..')\n",
                "\n",
                "# Glasma modules\n",
                "import curraun.core as core\n",
                "import curraun.mv as mv\n",
                "import curraun.initial as initial\n",
                "initial.DEBUG = False\n",
                "\n",
                "import curraun.su as su\n",
                "from curraun.numba_target import use_cuda\n",
                "if use_cuda:\n",
                "    from numba import cuda\n",
                "\n",
                "# Wong modules\n",
                "from curraun import wong\n",
                "wong.BOUNDARY = boundary\n",
                "from curraun.wong import init_mom_toy, init_pos, init_charge"
            ]
        },
        {
            "cell_type": "markdown",
            "metadata": {},
            "source": [
                "### Simulation routine for evolving the Glasma & solving Wong's equations\n",
                "Computes and stores momentum broadening."
            ]
        },
        {
            "cell_type": "code",
            "execution_count": 4,
            "metadata": {},
            "outputs": [],
            "source": [
                "import pickle\n",
                "from tqdm import tqdm\n",
                "\n",
                "# Simulation routine\n",
                "def simulate(ev): \n",
                "    output = {}\n",
                "\n",
                "    # Derived parameters\n",
                "    a = L / N\n",
                "    E0 = N / L * hbarc\n",
                "    DT = 1.0 / DTS\n",
                "    formt = int(tau_form / a * DTS)\n",
                "    maxt = int(tau_sim / a * DTS)\n",
                "\n",
                "    # Initialize Glasma fields\n",
                "    s = core.Simulation(N, DT, g)\n",
                "    va = mv.wilson(s, mu=mu / E0, m=ir / E0, uv=uv / E0, num_sheets=ns)\n",
                "    vb = mv.wilson(s, mu=mu / E0, m=ir / E0, uv=uv / E0, num_sheets=ns)\n",
                "    initial.init(s, va, vb)\n",
                "\n",
                "    # Initialize the Wong solver\n",
                "    wong_solver = wong.WongSolver(s, ntp)\n",
                "    x0s, p0s, q0s = np.zeros((ntp, 3)), np.zeros((ntp, 5)), np.zeros((ntp, su.ALGEBRA_ELEMENTS))\n",
                "    masses = mass / E0 * np.ones(ntp)\n",
                "\n",
                "    for i in range(ntp):\n",
                "        x0, p0, q0 = init_pos(s.n), init_mom_toy('pT', pT / E0), init_charge(representation)\n",
                "        x0s[i, :], p0s[i, :], q0s[i, :] = x0, p0, q0\n",
                "\n",
                "    wong_solver.initialize(x0s, p0s, q0s, masses)\n",
                "\n",
                "    # Momentum broadening from the Wong solver\n",
                "    mom_broad = np.zeros((maxt-formt, 4))\n",
                "\n",
                "    with tqdm(total=maxt) as pbar:\n",
                "        for t in range(maxt):\n",
                "            # Solve Wong's equations\n",
                "            if t>=formt:  \n",
                "                # Compute momentum broadening from Wong solver\n",
                "                mom_broad[t-formt] = wong_solver.p_sq_mean * E0**2\n",
                "                wong_solver.evolve()\n",
                "                wong_solver.compute_mom_broad()\n",
                "\n",
                "            # Evolve Glasma fields\n",
                "            core.evolve_leapfrog(s)\n",
                "\n",
                "            pbar.set_description(\"Event \" + str(ev+1))\n",
                "            pbar.update(1)\n",
                "\n",
                "    output[\"mom_broad\"] = mom_broad\n",
                "\n",
                "    if use_cuda:\n",
                "        cuda.current_context().deallocations.clear()\n",
                "\n",
                "    return output"
            ]
        },
        {
            "cell_type": "markdown",
            "metadata": {},
            "source": [
                "### Running the Wong solver over multiple Glasma events"
            ]
        },
        {
            "cell_type": "code",
            "execution_count": 5,
            "metadata": {},
            "outputs": [
                {
                    "name": "stderr",
                    "output_type": "stream",
                    "text": [
                        "Event 1: 100%|██████████| 819/819 [16:43<00:00,  1.22s/it]\n",
                        "Event 2: 100%|██████████| 819/819 [16:42<00:00,  1.22s/it]\n",
                        "Event 3: 100%|██████████| 819/819 [16:44<00:00,  1.23s/it]\n",
                        "Event 4: 100%|██████████| 819/819 [16:44<00:00,  1.23s/it]\n",
                        "Event 5: 100%|██████████| 819/819 [16:42<00:00,  1.22s/it]\n"
                    ]
                }
            ],
            "source": [
                "mom_broads = []\n",
                "\n",
                "for ev in range(nevents):\n",
                "    output = simulate(ev)\n",
                "    mom_broads.append(output[\"mom_broad\"])\n",
                "\n",
                "mom_broad = np.mean(mom_broads, axis=0)\n",
                "\n",
                "formt, maxt = int(tau_form / L * N * DTS), int(tau_sim / L * N * DTS)\n",
                "tau = np.linspace(tau_form, tau_sim, maxt-formt)\n",
                "\n",
                "output = {}\n",
                "output[\"mom_broad\"], output[\"tau\"] = mom_broad, tau\n",
                "output[\"Qs\"], output[\"hbarc\"] = Qs, hbarc\n",
                "\n",
                "filename = 'wong_beauty.pickle'\n",
                "with open(filename, 'wb') as handle:\n",
                "    pickle.dump(output, handle)"
            ]
        },
        {
            "cell_type": "markdown",
            "metadata": {},
            "source": [
                "## Read data from files using Julia"
            ]
        },
        {
            "cell_type": "code",
            "execution_count": 1,
            "metadata": {},
            "outputs": [
                {
                    "data": {
                        "text/plain": [
                            "(2, 0.197326)"
                        ]
                    },
                    "execution_count": 1,
                    "metadata": {},
                    "output_type": "execute_result"
                }
            ],
            "source": [
                "using Pickle\n",
                "\n",
                "output = Pickle.npyload(\"wong_beauty.pickle\")\n",
                "mom_broad, tau = output[\"mom_broad\"], output[\"tau\"]\n",
                "Qs, hbarc = output[\"Qs\"], output[\"hbarc\"]"
            ]
        },
        {
            "cell_type": "markdown",
            "metadata": {},
            "source": [
                "### Plot transverse and longitudinal momentum broadenings, using Makie from Julia"
            ]
        },
        {
            "cell_type": "code",
            "execution_count": 2,
            "metadata": {},
            "outputs": [
                {
                    "data": {
                        "text/plain": [
                            "string_as_varname (generic function with 1 method)"
                        ]
                    },
                    "execution_count": 2,
                    "metadata": {},
                    "output_type": "execute_result"
                }
            ],
            "source": [
                "function string_as_varname(s::AbstractString,v::Any)\n",
                "    s=Symbol(s)\n",
                "    return @eval (($s) = ($v))\n",
                "end"
            ]
        },
        {
            "cell_type": "code",
            "execution_count": 22,
            "metadata": {},
            "outputs": [
                {
                    "data": {
                        "image/png": "[encoded data removed]",
                        "text/plain": [
                            "Scene (550px, 350px):\n",
                            "  54 Plots:\n",
                            "    ├ Combined{Makie.poly, Tuple{Vector{Vector{Point{2, Float32}}}}}\n",
                            "    ├ LineSegments{Tuple{Vector{Point{2, Float32}}}}\n",
                            "    ├ LineSegments{Tuple{Vector{Point{2, Float32}}}}\n",
                            "    ├ LineSegments{Tuple{Vector{Point{2, Float32}}}}\n",
                            "    ├ LineSegments{Tuple{Vector{Point{2, Float32}}}}\n",
                            "    ├ LineSegments{Tuple{Vector{Point{2, Float32}}}}\n",
                            "    ├ LineSegments{Tuple{Vector{Point{2, Float32}}}}\n",
                            "    ├ MakieCore.Text{Tuple{LaTeXStrings.LaTeXString}}\n",
                            "    ├ Lines{Tuple{Vector{Point{2, Float32}}}}\n",
                            "    ├ MakieCore.Text{Tuple{Vector{Tuple{AbstractString, Point{2, Float32}}}}}\n",
                            "    ├ LineSegments{Tuple{Vector{Point{2, Float32}}}}\n",
                            "    ├ LineSegments{Tuple{Vector{Point{2, Float32}}}}\n",
                            "    ├ MakieCore.Text{Tuple{LaTeXStrings.LaTeXString}}\n",
                            "    ├ Lines{Tuple{Vector{Point{2, Float32}}}}\n",
                            "    ├ MakieCore.Text{Tuple{Vector{Tuple{AbstractString, Point{2, Float32}}}}}\n",
                            "    ├ Lines{Tuple{Vector{Point{2, Float32}}}}\n",
                            "    ├ Lines{Tuple{Vector{Point{2, Float32}}}}\n",
                            "    ├ MakieCore.Text{Tuple{String}}\n",
                            "    ├ Combined{Makie.poly, Tuple{Vector{Vector{Point{2, Float32}}}}}\n",
                            "    ├ LineSegments{Tuple{Vector{Point{2, Float32}}}}\n",
                            "    ├ LineSegments{Tuple{Vector{Point{2, Float32}}}}\n",
                            "    ├ LineSegments{Tuple{Vector{Point{2, Float32}}}}\n",
                            "    ├ LineSegments{Tuple{Vector{Point{2, Float32}}}}\n",
                            "    ├ LineSegments{Tuple{Vector{Point{2, Float32}}}}\n",
                            "    ├ LineSegments{Tuple{Vector{Point{2, Float32}}}}\n",
                            "    ├ MakieCore.Text{Tuple{String}}\n",
                            "    ├ Lines{Tuple{Vector{Point{2, Float32}}}}\n",
                            "    ├ MakieCore.Text{Tuple{Vector{Tuple{AbstractString, Point{2, Float32}}}}}\n",
                            "    ├ LineSegments{Tuple{Vector{Point{2, Float32}}}}\n",
                            "    ├ LineSegments{Tuple{Vector{Point{2, Float32}}}}\n",
                            "    ├ MakieCore.Text{Tuple{String}}\n",
                            "    ├ Lines{Tuple{Vector{Point{2, Float32}}}}\n",
                            "    ├ MakieCore.Text{Tuple{Vector{Tuple{AbstractString, Point{2, Float32}}}}}\n",
                            "    ├ Lines{Tuple{Vector{Point{2, Float32}}}}\n",
                            "    ├ Lines{Tuple{Vector{Point{2, Float32}}}}\n",
                            "    ├ MakieCore.Text{Tuple{String}}\n",
                            "    ├ Combined{Makie.poly, Tuple{Vector{Vector{Point{2, Float32}}}}}\n",
                            "    ├ LineSegments{Tuple{Vector{Point{2, Float32}}}}\n",
                            "    ├ LineSegments{Tuple{Vector{Point{2, Float32}}}}\n",
                            "    ├ LineSegments{Tuple{Vector{Point{2, Float32}}}}\n",
                            "    ├ LineSegments{Tuple{Vector{Point{2, Float32}}}}\n",
                            "    ├ LineSegments{Tuple{Vector{Point{2, Float32}}}}\n",
                            "    ├ LineSegments{Tuple{Vector{Point{2, Float32}}}}\n",
                            "    ├ MakieCore.Text{Tuple{LaTeXStrings.LaTeXString}}\n",
                            "    ├ Lines{Tuple{Vector{Point{2, Float32}}}}\n",
                            "    ├ MakieCore.Text{Tuple{Vector{Tuple{AbstractString, Point{2, Float32}}}}}\n",
                            "    ├ LineSegments{Tuple{Vector{Point{2, Float32}}}}\n",
                            "    ├ LineSegments{Tuple{Vector{Point{2, Float32}}}}\n",
                            "    ├ MakieCore.Text{Tuple{LaTeXStrings.LaTeXString}}\n",
                            "    ├ Lines{Tuple{Vector{Point{2, Float32}}}}\n",
                            "    ├ MakieCore.Text{Tuple{Vector{Tuple{AbstractString, Point{2, Float32}}}}}\n",
                            "    ├ Lines{Tuple{Vector{Point{2, Float32}}}}\n",
                            "    ├ Lines{Tuple{Vector{Point{2, Float32}}}}\n",
                            "    └ MakieCore.Text{Tuple{String}}\n",
                            "  4 Child Scenes:\n",
                            "    ├ Scene (465px, 276px)\n",
                            "    ├ Scene (120px, 120px)\n",
                            "    ├ Scene (180px, 150px)\n",
                            "    └ Scene (550px, 350px)"
                        ]
                    },
                    "metadata": {},
                    "output_type": "display_data"
                }
            ],
            "source": [
                "using CairoMakie\n",
                "using ColorSchemes\n",
                "using Makie.GeometryBasics\n",
                "using ForwardDiff\n",
                "\n",
                "segmented_cmap = cgrad(:lapaz, 11, categorical = true)\n",
                "colors = [segmented_cmap[9], segmented_cmap[6], segmented_cmap[3]]\n",
                "\n",
                "fig = Figure(resolution = (550, 350), font = \"CMU Serif\")\n",
                "ax = Axis(fig[1, 1], \n",
                "        xlabel=L\"\\delta \\tau\\,\\mathrm{[fm/c]}\", ylabel=L\"\\langle \\delta p^2\\,\\rangle\\,\\mathrm{[GeV^2]}\",\n",
                "        rightspinevisible = false, topspinevisible = false, xlabelsize = 20, ylabelsize= 20, xticklabelsize=14, yticklabelsize=14,\n",
                "        xtickalign = 1, xticksize=4, ytickalign=1, yticksize=4, xlabelpadding = -5, xgridvisible = false, ygridvisible = false)\n",
                "\n",
                "colors = [segmented_cmap[1], segmented_cmap[4], segmented_cmap[11]]\n",
                "poly!(ax, Rect(0, 0, 0.3, 7.2), color = :grey95, strokecolor = :grey70, strokewidth = 0.8)\n",
                "lines!(ax, [0, 0.305], [7.2, 28.5], linewidth = 0.8, color=:grey70)\n",
                "lines!(ax, [0.3, 0.82], [0, 15.4], linewidth = 0.8, color=:grey70)\n",
                "\n",
                "\n",
                "perp = lines!(ax, tau.-tau[1], mom_broad[:, 1]+mom_broad[:, 2], linewidth = 1.5, color=colors[1])\n",
                "paral = lines!(ax, tau.-tau[1], mom_broad[:, 3], linewidth = 1.5, color=colors[2])\n",
                "\n",
                "limits!(ax, 0, 2, 0, 30)\n",
                "ax.xticks = ([0, 0.5, 1, 1.5, 2], [\"0\", \"0.5\", \"1\", \"1.5\", \"2\"])\n",
                "ax.yticks = ([10, 20, 30], string.([10, 20, 30]))\n",
                "\n",
                "ax_zoomin = Axis(fig, bbox = BBox(140, 260, 200, 320), \n",
                "        xlabelsize = 14, ylabelsize= 14, xticklabelsize=10, yticklabelsize=10,\n",
                "        xtickalign = 1, xticksize=3, ytickalign=1, yticksize=3, xlabelpadding = -4, xgridvisible = false, ygridvisible = false,\n",
                "        ytickcolor = :grey, xtickcolor = :grey, yticklabelcolor = :grey, xticklabelcolor = :grey, ylabelcolor = :grey, xlabelcolor = :grey,\n",
                "        bottomspinecolor = :grey, topspinecolor = :grey, leftspinecolor = :grey, rightspinecolor = :grey)\n",
                "\n",
                "zoomin_indices = findall(t->t<=0.35, tau)\n",
                "tau_zoomin = tau[zoomin_indices]\n",
                "mom_broad_zoomin = mom_broad[zoomin_indices, :]\n",
                "lines!(ax_zoomin, tau_zoomin.-tau[1], mom_broad_zoomin[:, 1]+mom_broad_zoomin[:, 2], linewidth = 1.5, color=colors[1])\n",
                "lines!(ax_zoomin, tau_zoomin.-tau[1], mom_broad_zoomin[:, 3], linewidth = 1.5, color=colors[2])\n",
                "limits!(ax_zoomin, 0, 0.3, 0, 7.3)\n",
                "ax_zoomin.xticks = ([0, 0.1, 0.2, 0.3], [\"0\", \"0.1\", \"0.2\", \"0.3\"])\n",
                "ax_zoomin.yticks = ([2, 4, 6], [\"2\",\"4\",\"6\"])\n",
                "\n",
                "ax_inset = Axis(fig, bbox = BBox(320, 500, 170, 320), \n",
                "        xlabel=L\"\\delta \\tau\", ylabel=L\"\\mathrm{d}\\langle \\delta p^2\\,\\rangle/\\mathrm{d}\\tau\",\n",
                "        xlabelsize = 14, ylabelsize= 14, xticklabelsize=10, yticklabelsize=10,\n",
                "        xtickalign = 1, xticksize=3, ytickalign=1, yticksize=3, xlabelpadding = -2, xgridvisible = false, ygridvisible = false,\n",
                "        ytickcolor = :grey, xtickcolor = :grey, yticklabelcolor = :grey, xticklabelcolor = :grey, ylabelcolor = :grey, xlabelcolor = :grey,\n",
                "        bottomspinecolor = :grey, topspinecolor = :grey, leftspinecolor = :grey, rightspinecolor = :grey)\n",
                "\n",
                "\n",
                "lines!(ax_inset, (tau.-tau[1])[2:length(tau)], diff(mom_broad[:, 1]+mom_broad[:, 2]) ./ diff(tau), linewidth = 1.5, color=colors[1])\n",
                "lines!(ax_inset, (tau.-tau[1])[2:length(tau)], diff(mom_broad[:, 3]) ./ diff(tau), linewidth = 1.5, color=colors[2])\n",
                "limits!(ax_inset, 0, 1.95, -7, 42)\n",
                "ax_inset.xticks = ([0, 0.5, 1, 1.5, 1.95], [\"0\", \"0.5\", \"1\", \"1.5\", \"2\"])\n",
                "ax_inset.yticks = ([0, 10, 20, 30, 40], string.([0, 10, 20, 30, 40]))\n",
                "\n",
                "legend = [L\"\\langle\\delta p_T^2\\,\\rangle\", L\"\\langle\\delta p_L^2\\,\\rangle\"]\n",
                "axislegend(ax_inset, [perp, paral], legend, labelsize=14, position = :rt, orientation = :vertical, bgcolor = (:white, 0.7), framecolor=(:grey80, 0))\n",
                "\n",
                "display(fig)\n",
                "# save(\"makie_beauty_early_behaviour.png\", fig, px_per_unit = 5.0) "
            ]
        },
        {
            "cell_type": "code",
            "execution_count": 5,
            "metadata": {},
            "outputs": [
                {
                    "data": {
                        "image/png": "[encoded data removed]",
                        "text/plain": [
                            "Scene (550px, 350px):\n",
                            "  54 Plots:\n",
                            "    ├ Combined{Makie.poly, Tuple{Vector{Vector{Point{2, Float32}}}}}\n",
                            "    ├ LineSegments{Tuple{Vector{Point{2, Float32}}}}\n",
                            "    ├ LineSegments{Tuple{Vector{Point{2, Float32}}}}\n",
                            "    ├ LineSegments{Tuple{Vector{Point{2, Float32}}}}\n",
                            "    ├ LineSegments{Tuple{Vector{Point{2, Float32}}}}\n",
                            "    ├ LineSegments{Tuple{Vector{Point{2, Float32}}}}\n",
                            "    ├ LineSegments{Tuple{Vector{Point{2, Float32}}}}\n",
                            "    ├ MakieCore.Text{Tuple{LaTeXStrings.LaTeXString}}\n",
                            "    ├ Lines{Tuple{Vector{Point{2, Float32}}}}\n",
                            "    ├ MakieCore.Text{Tuple{Vector{Tuple{AbstractString, Point{2, Float32}}}}}\n",
                            "    ├ LineSegments{Tuple{Vector{Point{2, Float32}}}}\n",
                            "    ├ LineSegments{Tuple{Vector{Point{2, Float32}}}}\n",
                            "    ├ MakieCore.Text{Tuple{LaTeXStrings.LaTeXString}}\n",
                            "    ├ Lines{Tuple{Vector{Point{2, Float32}}}}\n",
                            "    ├ MakieCore.Text{Tuple{Vector{Tuple{AbstractString, Point{2, Float32}}}}}\n",
                            "    ├ Lines{Tuple{Vector{Point{2, Float32}}}}\n",
                            "    ├ Lines{Tuple{Vector{Point{2, Float32}}}}\n",
                            "    ├ MakieCore.Text{Tuple{String}}\n",
                            "    ├ Combined{Makie.poly, Tuple{Vector{Vector{Point{2, Float32}}}}}\n",
                            "    ├ LineSegments{Tuple{Vector{Point{2, Float32}}}}\n",
                            "    ├ LineSegments{Tuple{Vector{Point{2, Float32}}}}\n",
                            "    ├ LineSegments{Tuple{Vector{Point{2, Float32}}}}\n",
                            "    ├ LineSegments{Tuple{Vector{Point{2, Float32}}}}\n",
                            "    ├ LineSegments{Tuple{Vector{Point{2, Float32}}}}\n",
                            "    ├ LineSegments{Tuple{Vector{Point{2, Float32}}}}\n",
                            "    ├ MakieCore.Text{Tuple{String}}\n",
                            "    ├ Lines{Tuple{Vector{Point{2, Float32}}}}\n",
                            "    ├ MakieCore.Text{Tuple{Vector{Tuple{AbstractString, Point{2, Float32}}}}}\n",
                            "    ├ LineSegments{Tuple{Vector{Point{2, Float32}}}}\n",
                            "    ├ LineSegments{Tuple{Vector{Point{2, Float32}}}}\n",
                            "    ├ MakieCore.Text{Tuple{String}}\n",
                            "    ├ Lines{Tuple{Vector{Point{2, Float32}}}}\n",
                            "    ├ MakieCore.Text{Tuple{Vector{Tuple{AbstractString, Point{2, Float32}}}}}\n",
                            "    ├ Lines{Tuple{Vector{Point{2, Float32}}}}\n",
                            "    ├ Lines{Tuple{Vector{Point{2, Float32}}}}\n",
                            "    ├ MakieCore.Text{Tuple{String}}\n",
                            "    ├ Combined{Makie.poly, Tuple{Vector{Vector{Point{2, Float32}}}}}\n",
                            "    ├ LineSegments{Tuple{Vector{Point{2, Float32}}}}\n",
                            "    ├ LineSegments{Tuple{Vector{Point{2, Float32}}}}\n",
                            "    ├ LineSegments{Tuple{Vector{Point{2, Float32}}}}\n",
                            "    ├ LineSegments{Tuple{Vector{Point{2, Float32}}}}\n",
                            "    ├ LineSegments{Tuple{Vector{Point{2, Float32}}}}\n",
                            "    ├ LineSegments{Tuple{Vector{Point{2, Float32}}}}\n",
                            "    ├ MakieCore.Text{Tuple{LaTeXStrings.LaTeXString}}\n",
                            "    ├ Lines{Tuple{Vector{Point{2, Float32}}}}\n",
                            "    ├ MakieCore.Text{Tuple{Vector{Tuple{AbstractString, Point{2, Float32}}}}}\n",
                            "    ├ LineSegments{Tuple{Vector{Point{2, Float32}}}}\n",
                            "    ├ LineSegments{Tuple{Vector{Point{2, Float32}}}}\n",
                            "    ├ MakieCore.Text{Tuple{LaTeXStrings.LaTeXString}}\n",
                            "    ├ Lines{Tuple{Vector{Point{2, Float32}}}}\n",
                            "    ├ MakieCore.Text{Tuple{Vector{Tuple{AbstractString, Point{2, Float32}}}}}\n",
                            "    ├ Lines{Tuple{Vector{Point{2, Float32}}}}\n",
                            "    ├ Lines{Tuple{Vector{Point{2, Float32}}}}\n",
                            "    └ MakieCore.Text{Tuple{String}}\n",
                            "  4 Child Scenes:\n",
                            "    ├ Scene (458px, 273px)\n",
                            "    ├ Scene (120px, 120px)\n",
                            "    ├ Scene (180px, 150px)\n",
                            "    └ Scene (550px, 350px)"
                        ]
                    },
                    "metadata": {},
                    "output_type": "display_data"
                },
                {
                    "data": {
                        "text/plain": [
                            "CairoScreen{Cairo.CairoSurfaceBase{UInt32}} with surface:\n",
                            "Cairo.CairoSurfaceBase{UInt32}(Ptr{Nothing} @0x000000000ab4a240, 2750.0, 1750.0)\n"
                        ]
                    },
                    "execution_count": 5,
                    "metadata": {},
                    "output_type": "execute_result"
                }
            ],
            "source": [
                "using CairoMakie\n",
                "using ColorSchemes\n",
                "using Makie.GeometryBasics\n",
                "using ForwardDiff\n",
                "\n",
                "wesanderson = [\"#3c9bb3\", \"#78b7c5\", \"#ebcc2a\", \"#e1af00\", \"#9d1700\"]\n",
                "colors = [wesanderson[1], wesanderson[5]]\n",
                "\n",
                "# dimenstion of fundamental representation for SU(3)\n",
                "DR = 3\n",
                "\n",
                "fig = Figure(resolution = (550, 350), font = \"CMU Serif\")\n",
                "ax = Axis(fig[1, 1], \n",
                "        xlabel=L\"\\delta \\tau\\,\\mathrm{[fm/c]}\", ylabel=L\"\\langle \\delta p^2\\,\\rangle\\,\\mathrm{[GeV^2]}\",\n",
                "        rightspinevisible = false, topspinevisible = false, xlabelsize = 22, ylabelsize= 22, xticklabelsize=14, yticklabelsize=14,\n",
                "        xtickalign = 1, xticksize=4, ytickalign=1, yticksize=4, xlabelpadding = -5, xgridvisible = false, ygridvisible = false)\n",
                "\n",
                "poly!(ax, Rect(0, 0, 0.3, 2.45), color = :grey95, strokecolor = :grey70, strokewidth = 0.8)\n",
                "lines!(ax, [0, 0.27], [2.45, 9.45], linewidth = 0.8, color=:grey70)\n",
                "lines!(ax, [0.3, 0.8], [0, 5.1], linewidth = 0.8, color=:grey70)\n",
                "\n",
                "perp = lines!(ax, tau.-tau[1], (mom_broad[:, 1]+mom_broad[:, 2])/DR, linewidth = 1.5, color=colors[1])\n",
                "paral = lines!(ax, tau.-tau[1], mom_broad[:, 3]/DR, linewidth = 1.5, color=colors[2])\n",
                "\n",
                "limits!(ax, 0, 2, 0, 10)\n",
                "ax.xticks = ([0, 0.5, 1, 1.5, 2], [\"0\", \"0.5\", \"1\", \"1.5\", \"2\"])\n",
                "ax.yticks = ([2.5, 5, 7.5, 10], [\"2.5\", \"5\", \"7.5\", \"10\"])\n",
                "\n",
                "ax_zoomin = Axis(fig, bbox = BBox(140, 260, 200, 320), \n",
                "        xlabelsize = 14, ylabelsize= 14, xticklabelsize=10, yticklabelsize=10,\n",
                "        xtickalign = 1, xticksize=3, ytickalign=1, yticksize=3, xlabelpadding = -4, xgridvisible = false, ygridvisible = false,\n",
                "        ytickcolor = :grey, xtickcolor = :grey, yticklabelcolor = :grey, xticklabelcolor = :grey, ylabelcolor = :grey, xlabelcolor = :grey,\n",
                "        bottomspinecolor = :grey, topspinecolor = :grey, leftspinecolor = :grey, rightspinecolor = :grey)\n",
                "\n",
                "zoomin_indices = findall(t->t<=0.35, tau)\n",
                "tau_zoomin = tau[zoomin_indices]\n",
                "mom_broad_zoomin = mom_broad[zoomin_indices, :]\n",
                "lines!(ax_zoomin, tau_zoomin.-tau[1], (mom_broad_zoomin[:, 1]+mom_broad_zoomin[:, 2])/DR, linewidth = 1.5, color=colors[1])\n",
                "lines!(ax_zoomin, tau_zoomin.-tau[1], mom_broad_zoomin[:, 3]/DR, linewidth = 1.5, color=colors[2])\n",
                "limits!(ax_zoomin, 0, 0.3, 0, 2.45)\n",
                "ax_zoomin.xticks = ([0, 0.1, 0.2, 0.3], [\"0\", \"0.1\", \"0.2\", \"0.3\"])\n",
                "ax_zoomin.yticks = ([1, 2], [\"1\",\"2\"])\n",
                "\n",
                "ax_inset = Axis(fig, bbox = BBox(320, 500, 170, 320), \n",
                "        xlabel=L\"\\delta \\tau\", ylabel=L\"\\mathrm{d}\\langle \\delta p^2\\,\\rangle/\\mathrm{d}\\tau\",\n",
                "        xlabelsize = 16, ylabelsize= 16, xticklabelsize=10, yticklabelsize=10,\n",
                "        xtickalign = 1, xticksize=3, ytickalign=1, yticksize=3, xlabelpadding = -2, xgridvisible = false, ygridvisible = false,\n",
                "        ytickcolor = :grey, xtickcolor = :grey, yticklabelcolor = :grey, xticklabelcolor = :grey, ylabelcolor = :grey, xlabelcolor = :grey,\n",
                "        bottomspinecolor = :grey, topspinecolor = :grey, leftspinecolor = :grey, rightspinecolor = :grey)\n",
                "\n",
                "lines!(ax_inset, (tau.-tau[1])[2:length(tau)], diff((mom_broad[:, 1]+mom_broad[:, 2])/DR) ./ diff(tau), linewidth = 1.5, color=colors[1])\n",
                "lines!(ax_inset, (tau.-tau[1])[2:length(tau)], diff(mom_broad[:, 3]/DR) ./ diff(tau), linewidth = 1.5, color=colors[2])\n",
                "limits!(ax_inset, 0, 1.95, -3, 14)\n",
                "ax_inset.xticks = ([0, 0.5, 1, 1.5, 1.95], [\"0\", \"0.5\", \"1\", \"1.5\", \"2\"])\n",
                "ax_inset.yticks = ([0, 5, 10], [\"0\", \"5\", \"10\"])\n",
                "\n",
                "legend = [L\"\\langle\\delta p_L^2\\,\\rangle\", L\"\\langle\\delta p_T^2\\,\\rangle\"]\n",
                "axislegend(ax_inset, [paral, perp], legend, labelsize=18, position = :rt, orientation = :vertical, bgcolor = (:white, 0.7), framecolor=(:grey80, 0))\n",
                "\n",
                "display(fig)\n",
                "save(\"final_beauty_early_behaviour.png\", fig, px_per_unit = 5.0) "
            ]
        }
    ],
    "metadata": {
        "interpreter": {
            "hash": "50fba519a3e3a4634f635ec7332619e3aceac5abb997750bdb88b5674357649c"
        },
        "kernelspec": {
            "display_name": "Julia 1.6.3",
            "language": "julia",
            "name": "julia-1.6"
        },
        "language_info": {
            "file_extension": ".jl",
            "mimetype": "application/julia",
            "name": "julia",
            "version": "1.6.3"
        },
        "orig_nbformat": 4
    },
    "nbformat": 4,
    "nbformat_minor": 2
}
