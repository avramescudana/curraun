{
 "cells": [
  {
   "cell_type": "code",
   "execution_count": 1,
   "metadata": {},
   "outputs": [],
   "source": [
    "import os\n",
    "os.environ[\"CUDA_VISIBLE_DEVICES\"]=\"4,5\""
   ]
  },
  {
   "cell_type": "code",
   "execution_count": 1,
   "metadata": {},
   "outputs": [],
   "source": [
    "import numpy as np\n",
    "\n",
    "# hbar * c [GeV * fm]\n",
    "hbarc = 0.197326 \n",
    "\n",
    "# Simulation box \n",
    "L = 10      \n",
    "N = 512 \n",
    "tau_sim = 0.6     \n",
    "DTS = 8     \n",
    "\n",
    "# Glasma\n",
    "su_group = 'su3'\n",
    "Qs = 2.0     \n",
    "ns = 50      \n",
    "factor = 0.8        \n",
    "uv = 10.0 \n",
    "\n",
    "# Wong\n",
    "quark = 'charm'    \n",
    "mass = 1.275   \n",
    "tau_form = 1/(2*mass)*hbarc    \n",
    "\n",
    "# tau_sim += tau_form\n",
    "\n",
    "initialization = 'pT'         \n",
    "ntp = 10**5 \n",
    "\n",
    "nevents = 2\n",
    "\n",
    "representation = 'quantum fundamental'     \n",
    "# representation = 'test'     \n",
    "# representation = 'fundamental' \n",
    "# representation = 'adjoint' \n",
    "boundary = 'periodic'  \n",
    "form_time = 'm'\n",
    "\n",
    "# pTs = [0, 0.5, 1, 5]\n",
    "# binning = 'pT2'\n",
    "binning = 'pT'\n",
    "npTbins = 21 \n",
    "pTmax = 10\n",
    "if binning=='pT':\n",
    "    pTbins = np.linspace(0, pTmax, npTbins)\n",
    "elif binning=='pT2':\n",
    "    pTbins = np.linspace(0, pTmax**2, npTbins)\n",
    "deltapTbin = pTbins[1] - pTbins[0]"
   ]
  },
  {
   "cell_type": "code",
   "execution_count": 2,
   "metadata": {},
   "outputs": [],
   "source": [
    "# Store relevant parameters in a dictionary\n",
    "p = {\n",
    "    'QUARK': quark,\n",
    "    'MASS': mass,   \n",
    "    'TFORM': tau_form,\n",
    "    'TSIM': tau_sim,\n",
    "    'QS': Qs,            \n",
    "    'NEVENTS': nevents,\n",
    "    'NTP': ntp,   \n",
    "    'PTS': pTbins,\n",
    "    'NPTBINS': npTbins,\n",
    "    'PTMAX': pTmax,\n",
    "    'REPR': representation,\n",
    "    'SUGROUP': su_group,\n",
    "    'FORMTIME': form_time,\n",
    "    'BINNING': binning,\n",
    "    }"
   ]
  },
  {
   "cell_type": "code",
   "execution_count": 3,
   "metadata": {},
   "outputs": [],
   "source": [
    "# rest of parameters  \n",
    "g2mu = p[\"QS\"] / factor     \n",
    "g = np.pi * np.sqrt(1 / np.log(p[\"QS\"] / 0.2))          \t\t\n",
    "mu = g2mu / g**2          \t\n",
    "ir = 0.1 * g2mu     \n",
    "\n",
    "tau_form = 1/(2*p[\"MASS\"])*hbarc\n",
    "tau_sim += tau_form\n",
    "\n",
    "if representation == 'quantum fundamental':\n",
    "    repr_name = 'qfund'\n",
    "elif representation == 'fundamental':\n",
    "    repr_name = 'fund'\n",
    "elif representation == 'adjoint':\n",
    "    repr_name = 'adj'\n",
    "elif representation == 'test':\n",
    "    repr_name = 'test'\n",
    "\n",
    "# Results folder\n",
    "folder = 'test_binning_RAA_' + p[\"QUARK\"] + '_fonll_Qs_' + str(p[\"QS\"]) + '_' + repr_name + '_' + p[\"SUGROUP\"] + '_formt_' + p[\"FORMTIME\"]\n",
    "\n",
    "# filename = 'all_pTs_' + binning + '_bins.pickle'"
   ]
  },
  {
   "cell_type": "code",
   "execution_count": 4,
   "metadata": {},
   "outputs": [
    {
     "name": "stdout",
     "output_type": "stream",
     "text": [
      "Using CUDA\n",
      "Using SU(3)\n",
      "Using double precision\n",
      "Using double precision\n"
     ]
    }
   ],
   "source": [
    "import os\n",
    "os.environ[\"MY_NUMBA_TARGET\"] = \"cuda\"\n",
    "os.environ[\"PRECISION\"] = \"double\"\n",
    "os.environ[\"GAUGE_GROUP\"] = p[\"SUGROUP\"]\n",
    "\n",
    "# Import relevant modules\n",
    "import sys\n",
    "sys.path.append('..')\n",
    "\n",
    "# Glasma modules\n",
    "import curraun.core as core\n",
    "import curraun.mv as mv\n",
    "import curraun.initial as initial\n",
    "initial.DEBUG = False\n",
    "\n",
    "import curraun.su as su\n",
    "from curraun.numba_target import use_cuda\n",
    "if use_cuda:\n",
    "    from numba import cuda\n",
    "\n",
    "# Wong modules\n",
    "from curraun import wong\n",
    "wong.BOUNDARY = boundary\n",
    "wong.WONG_TO_HOST = True\n",
    "from curraun.wong import init_pos, init_charge, init_mom_toy\n",
    "from curraun.particles_correlators import TransMom"
   ]
  },
  {
   "cell_type": "code",
   "execution_count": 5,
   "metadata": {},
   "outputs": [],
   "source": [
    "import pickle\n",
    "from tqdm import tqdm\n",
    "\n",
    "current_path = os.getcwd() \n",
    "results_folder = 'results'\n",
    "if not os.path.isdir(results_folder):\n",
    "    os.makedirs(results_folder)\n",
    "results_path = current_path + '/' + results_folder + '/'"
   ]
  },
  {
   "cell_type": "code",
   "execution_count": 6,
   "metadata": {},
   "outputs": [],
   "source": [
    "def simulate(p, ev, pTbin, deltapTbin): \n",
    "    # Derived parameters\n",
    "    a = L/N\n",
    "    E0 = N/L * hbarc\n",
    "    DT = 1.0 / DTS\n",
    "\n",
    "    if p[\"FORMTIME\"]=='m':\n",
    "        tau_form = 1/(2*p[\"MASS\"])*hbarc\n",
    "    elif p[\"FORMTIME\"]=='mT':\n",
    "        # transverse mass\n",
    "        mT = np.sqrt(p[\"MASS\"]**2+pT**2)   \n",
    "        # formation time given by inverse of transverse mass\n",
    "        tau_form = 1/(2*mT)*hbarc\n",
    "\n",
    "    p[\"TFORM\"] = tau_form\n",
    "\n",
    "    tau_sim = p[\"TSIM\"] + tau_form \n",
    "\n",
    "    formt = int(tau_form / a * DTS)\n",
    "    maxt = int(tau_sim / a * DTS)\n",
    "\n",
    "    # Initialize Glasma fields\n",
    "    s = core.Simulation(N, DT, g)\n",
    "    va = mv.wilson(s, mu=mu / E0, m=ir / E0, uv=uv / E0, num_sheets=ns)\n",
    "    vb = mv.wilson(s, mu=mu / E0, m=ir / E0, uv=uv / E0, num_sheets=ns)\n",
    "    initial.init(s, va, vb)\n",
    "\n",
    "   \n",
    "    # Initialize the Wong solver\n",
    "    wong_solver = wong.WongSolver(s, ntp)\n",
    "    x0s, p0s, q0s = np.zeros((ntp, 3)), np.zeros((ntp, 5)), np.zeros((ntp, su.ALGEBRA_ELEMENTS))\n",
    "    masses = p[\"MASS\"] / E0 * np.ones(ntp)\n",
    "\n",
    "    # pT bins\n",
    "    binning=p[\"BINNING\"]\n",
    "    pTbinlow, pTbinhigh = pTbin, pTbin+deltapTbin\n",
    "    uniform_pTbins = np.sort(np.random.uniform(pTbinlow, pTbinhigh, ntp))\n",
    "    if binning=='pT':\n",
    "        initial_pTbins = uniform_pTbins\n",
    "    elif binning=='pT2':\n",
    "        initial_pTbins = np.sqrt(uniform_pTbins)\n",
    "\n",
    "    for i in range(ntp):\n",
    "        # x0, p0, q0 = init_pos(s.n), init_mom_toy('pT', pT / E0), init_charge(representation)\n",
    "        x0, p0, q0 = init_pos(s.n), init_mom_toy('pT', initial_pTbins[i] / E0), init_charge(representation)\n",
    "        x0s[i, :], p0s[i, :], q0s[i, :] = x0, p0, q0\n",
    "    \n",
    "    wong_solver.initialize(x0s, p0s, q0s, masses)\n",
    "\n",
    "    final_pTbins = np.zeros((maxt-formt, ntp))\n",
    "    compute_pT = TransMom(wong_solver, ntp)\n",
    "\n",
    "    with tqdm(total=maxt) as pbar:\n",
    "        for t in range(maxt):\n",
    "            # Evolve Glasma fields\n",
    "            core.evolve_leapfrog(s)\n",
    "\n",
    "            # Solve Wong's equations\n",
    "            if t>=formt:  \n",
    "                compute_pT.compute()\n",
    "                pTs = compute_pT.pT.copy() * E0\n",
    "                if binning=='pT':\n",
    "                    final_pTbins[t-formt] = pTs\n",
    "                elif binning=='pT2':\n",
    "                    final_pTbins[t-formt] = pTs ** 2\n",
    "\n",
    "                # wong_solver.compute_mom_broad()\n",
    "                \n",
    "                wong_solver.evolve()\n",
    "\n",
    "            pbar.set_description(\"Event \" + str(ev+1))\n",
    "            pbar.update(1)\n",
    "\n",
    "    # output[str(pT)]['pTs_event_'+ str(ev+1)] = pTs\n",
    "    # output[str(pT)]['initial_pTs_event_'+ str(ev+1)] = initial_pTs\n",
    "\n",
    "    tau = np.linspace(0, tau_sim-tau_form, maxt-formt)\n",
    "    # output['tau'] = tau\n",
    "\n",
    "    return tau, final_pTbins, uniform_pTbins"
   ]
  },
  {
   "cell_type": "code",
   "execution_count": 7,
   "metadata": {},
   "outputs": [
    {
     "name": "stdout",
     "output_type": "stream",
     "text": [
      "Charm quark\n",
      "pT = 0.0 GeV\n"
     ]
    },
    {
     "name": "stderr",
     "output_type": "stream",
     "text": [
      "Event 1: 100%|██████████| 277/277 [01:39<00:00,  2.78it/s]\n",
      "Event 2: 100%|██████████| 277/277 [01:21<00:00,  3.40it/s]\n"
     ]
    },
    {
     "name": "stdout",
     "output_type": "stream",
     "text": [
      "pT = 0.5 GeV\n"
     ]
    },
    {
     "name": "stderr",
     "output_type": "stream",
     "text": [
      "Event 1: 100%|██████████| 277/277 [01:17<00:00,  3.59it/s]\n",
      "Event 2: 100%|██████████| 277/277 [01:19<00:00,  3.49it/s]\n"
     ]
    },
    {
     "name": "stdout",
     "output_type": "stream",
     "text": [
      "pT = 1.0 GeV\n"
     ]
    },
    {
     "name": "stderr",
     "output_type": "stream",
     "text": [
      "Event 1: 100%|██████████| 277/277 [01:19<00:00,  3.49it/s]\n",
      "Event 2: 100%|██████████| 277/277 [01:31<00:00,  3.03it/s]\n"
     ]
    },
    {
     "name": "stdout",
     "output_type": "stream",
     "text": [
      "pT = 1.5 GeV\n"
     ]
    },
    {
     "name": "stderr",
     "output_type": "stream",
     "text": [
      "Event 1: 100%|██████████| 277/277 [01:17<00:00,  3.60it/s]\n",
      "Event 2: 100%|██████████| 277/277 [01:22<00:00,  3.35it/s]\n"
     ]
    },
    {
     "name": "stdout",
     "output_type": "stream",
     "text": [
      "pT = 2.0 GeV\n"
     ]
    },
    {
     "name": "stderr",
     "output_type": "stream",
     "text": [
      "Event 1: 100%|██████████| 277/277 [01:20<00:00,  3.44it/s]\n",
      "Event 2: 100%|██████████| 277/277 [01:37<00:00,  2.84it/s]\n"
     ]
    },
    {
     "name": "stdout",
     "output_type": "stream",
     "text": [
      "pT = 2.5 GeV\n"
     ]
    },
    {
     "name": "stderr",
     "output_type": "stream",
     "text": [
      "Event 1: 100%|██████████| 277/277 [01:23<00:00,  3.31it/s]\n",
      "Event 2: 100%|██████████| 277/277 [01:26<00:00,  3.20it/s]\n"
     ]
    },
    {
     "name": "stdout",
     "output_type": "stream",
     "text": [
      "pT = 3.0 GeV\n"
     ]
    },
    {
     "name": "stderr",
     "output_type": "stream",
     "text": [
      "Event 1: 100%|██████████| 277/277 [01:26<00:00,  3.22it/s]\n",
      "Event 2: 100%|██████████| 277/277 [01:31<00:00,  3.03it/s]\n"
     ]
    },
    {
     "name": "stdout",
     "output_type": "stream",
     "text": [
      "pT = 3.5 GeV\n"
     ]
    },
    {
     "name": "stderr",
     "output_type": "stream",
     "text": [
      "Event 1: 100%|██████████| 277/277 [01:33<00:00,  2.97it/s]\n",
      "Event 2: 100%|██████████| 277/277 [01:34<00:00,  2.92it/s]\n"
     ]
    },
    {
     "name": "stdout",
     "output_type": "stream",
     "text": [
      "pT = 4.0 GeV\n"
     ]
    },
    {
     "name": "stderr",
     "output_type": "stream",
     "text": [
      "Event 1: 100%|██████████| 277/277 [01:44<00:00,  2.64it/s]\n",
      "Event 2: 100%|██████████| 277/277 [01:45<00:00,  2.64it/s]\n"
     ]
    },
    {
     "name": "stdout",
     "output_type": "stream",
     "text": [
      "pT = 4.5 GeV\n"
     ]
    },
    {
     "name": "stderr",
     "output_type": "stream",
     "text": [
      "Event 1: 100%|██████████| 277/277 [01:33<00:00,  2.96it/s]\n",
      "Event 2: 100%|██████████| 277/277 [01:35<00:00,  2.90it/s]\n"
     ]
    },
    {
     "name": "stdout",
     "output_type": "stream",
     "text": [
      "pT = 5.0 GeV\n"
     ]
    },
    {
     "name": "stderr",
     "output_type": "stream",
     "text": [
      "Event 1: 100%|██████████| 277/277 [01:40<00:00,  2.74it/s]\n",
      "Event 2: 100%|██████████| 277/277 [01:40<00:00,  2.76it/s]\n"
     ]
    },
    {
     "name": "stdout",
     "output_type": "stream",
     "text": [
      "pT = 5.5 GeV\n"
     ]
    },
    {
     "name": "stderr",
     "output_type": "stream",
     "text": [
      "Event 1: 100%|██████████| 277/277 [01:38<00:00,  2.82it/s]\n",
      "Event 2: 100%|██████████| 277/277 [01:42<00:00,  2.71it/s]\n"
     ]
    },
    {
     "name": "stdout",
     "output_type": "stream",
     "text": [
      "pT = 6.0 GeV\n"
     ]
    },
    {
     "name": "stderr",
     "output_type": "stream",
     "text": [
      "Event 1: 100%|██████████| 277/277 [01:42<00:00,  2.71it/s]\n",
      "Event 2: 100%|██████████| 277/277 [01:36<00:00,  2.86it/s]\n"
     ]
    },
    {
     "name": "stdout",
     "output_type": "stream",
     "text": [
      "pT = 6.5 GeV\n"
     ]
    },
    {
     "name": "stderr",
     "output_type": "stream",
     "text": [
      "Event 1: 100%|██████████| 277/277 [01:38<00:00,  2.82it/s]\n",
      "Event 2: 100%|██████████| 277/277 [01:16<00:00,  3.63it/s]\n"
     ]
    },
    {
     "name": "stdout",
     "output_type": "stream",
     "text": [
      "pT = 7.0 GeV\n"
     ]
    },
    {
     "name": "stderr",
     "output_type": "stream",
     "text": [
      "Event 1: 100%|██████████| 277/277 [01:15<00:00,  3.66it/s]\n",
      "Event 2: 100%|██████████| 277/277 [01:18<00:00,  3.51it/s]\n"
     ]
    },
    {
     "name": "stdout",
     "output_type": "stream",
     "text": [
      "pT = 7.5 GeV\n"
     ]
    },
    {
     "name": "stderr",
     "output_type": "stream",
     "text": [
      "Event 1: 100%|██████████| 277/277 [01:19<00:00,  3.49it/s]\n",
      "Event 2: 100%|██████████| 277/277 [01:16<00:00,  3.64it/s]\n"
     ]
    },
    {
     "name": "stdout",
     "output_type": "stream",
     "text": [
      "pT = 8.0 GeV\n"
     ]
    },
    {
     "name": "stderr",
     "output_type": "stream",
     "text": [
      "Event 1: 100%|██████████| 277/277 [01:15<00:00,  3.68it/s]\n",
      "Event 2: 100%|██████████| 277/277 [01:16<00:00,  3.64it/s]\n"
     ]
    },
    {
     "name": "stdout",
     "output_type": "stream",
     "text": [
      "pT = 8.5 GeV\n"
     ]
    },
    {
     "name": "stderr",
     "output_type": "stream",
     "text": [
      "Event 1: 100%|██████████| 277/277 [01:18<00:00,  3.54it/s]\n",
      "Event 2: 100%|██████████| 277/277 [01:25<00:00,  3.25it/s]\n"
     ]
    },
    {
     "name": "stdout",
     "output_type": "stream",
     "text": [
      "pT = 9.0 GeV\n"
     ]
    },
    {
     "name": "stderr",
     "output_type": "stream",
     "text": [
      "Event 1: 100%|██████████| 277/277 [01:21<00:00,  3.41it/s]\n",
      "Event 2: 100%|██████████| 277/277 [01:14<00:00,  3.72it/s]\n"
     ]
    },
    {
     "name": "stdout",
     "output_type": "stream",
     "text": [
      "pT = 9.5 GeV\n"
     ]
    },
    {
     "name": "stderr",
     "output_type": "stream",
     "text": [
      "Event 1: 100%|██████████| 277/277 [01:13<00:00,  3.75it/s]\n",
      "Event 2: 100%|██████████| 277/277 [01:15<00:00,  3.67it/s]\n"
     ]
    },
    {
     "name": "stdout",
     "output_type": "stream",
     "text": [
      "pT = 10.0 GeV\n"
     ]
    },
    {
     "name": "stderr",
     "output_type": "stream",
     "text": [
      "Event 1: 100%|██████████| 277/277 [01:14<00:00,  3.72it/s]\n",
      "Event 2: 100%|██████████| 277/277 [01:22<00:00,  3.34it/s]\n"
     ]
    }
   ],
   "source": [
    "print(p['QUARK'].capitalize() + \" quark\")\n",
    "os.chdir(results_path)\n",
    "\n",
    "# output = {}\n",
    "# output['parameters'] = p.copy()\n",
    "# output['pTs'] = p['PTS']\n",
    "# output['nevents'] = p[\"NEVENTS\"]\n",
    "\n",
    "wong_folder = folder\n",
    "if not os.path.isdir(wong_folder):\n",
    "    os.makedirs(wong_folder)\n",
    "wong_path = results_path + '/' + wong_folder + '/'\n",
    "os.chdir(wong_path)\n",
    "\n",
    "for ipT, pT in enumerate(p['PTS']):\n",
    "    print(\"pT = \" + str(pT) + \" GeV\")\n",
    "\n",
    "    # output[str(pT)] = {}\n",
    "    for iev, ev in enumerate(range(0, p[\"NEVENTS\"])):\n",
    "        # print(\"event \" + str(iev+1))\n",
    "        tau, final_pTs, initial_pTs = simulate(p, ev, pT, deltapTbin)\n",
    "\n",
    "        filename_pT_ev = binning + '_bin_' + str(ipT+1) + '_ev_' + str(iev+1)\n",
    "        np.savez_compressed(filename_pT_ev, pTs=final_pTs, initial_pTs=initial_pTs)\n",
    "\n",
    "p[\"TAU\"] = tau\n",
    "\n",
    "with open('parameters_'+ binning +'_binning.pickle', 'wb') as handle:\n",
    "    pickle.dump(p, handle)"
   ]
  },
  {
   "cell_type": "markdown",
   "metadata": {},
   "source": [
    "---\n",
    "#### Simple script to extract $R_{AA}$."
   ]
  },
  {
   "cell_type": "code",
   "execution_count": 59,
   "metadata": {},
   "outputs": [
    {
     "data": {
      "image/png": "[encoded data removed]",
      "text/plain": [
       "<Figure size 720x432 with 1 Axes>"
      ]
     },
     "metadata": {
      "needs_background": "light"
     },
     "output_type": "display_data"
    }
   ],
   "source": [
    "import numpy as np\n",
    "import matplotlib.pyplot as plt\n",
    "\n",
    "# Assuming you already have histograms for R(x^2)\n",
    "# Replace the following lines with your actual data\n",
    "x2_values, x2_edges = np.histogram(np.random.normal(0, 1, 10000)**2, bins=50, density=False)\n",
    "x2_midpoints = 0.5 * (x2_edges[1:] + x2_edges[:-1])\n",
    "\n",
    "# Transformation factor\n",
    "transformation_factor = 1 / (2 * np.sqrt(x2_midpoints))\n",
    "\n",
    "# Transform x^2 histogram to x histogram\n",
    "R_x_values = x2_values * transformation_factor * np.diff(x2_edges)\n",
    "\n",
    "# Obtain x values from x^2 midpoints\n",
    "x_midpoints = 0.5 * (np.sqrt(x2_edges[1:]) + np.sqrt(x2_edges[:-1]))\n",
    "# x_values = np.sqrt(x2_midpoints)\n",
    "x_values = x_midpoints\n",
    "\n",
    "x_true_values, x_true_edges = np.histogram(np.random.normal(0, 1, 10000), bins=100, density=False)\n",
    "x_true_midpoints = 0.5 * (x_true_edges[1:] + x_true_edges[:-1])\n",
    "\n",
    "# Plotting histograms for R(x^2) and R(x)\n",
    "plt.figure(figsize=(10, 6))\n",
    "\n",
    "# plt.subplot(2, 1, 1)\n",
    "# plt.bar(x2_midpoints, x2_values, width=np.diff(x2_edges), label='R(x^2)')\n",
    "# plt.plot(x2_midpoints, x2_values, color='red', linestyle='dashed', linewidth=1, label='Bin Centers')\n",
    "# plt.title('Original Distribution R(x^2)')\n",
    "# plt.legend()\n",
    "# plt.xlim(0,16)\n",
    "\n",
    "# Corrected: Plot R(x) as a function of x\n",
    "# plt.subplot(2, 1, 2)\n",
    "plt.bar(x_values, R_x_values, label='R(x)')\n",
    "plt.plot(x_values, R_x_values, color='red', linestyle='dashed', linewidth=1, label='Bin Centers')\n",
    "# plt.bar(x2_midpoints, R_x_values, label='R(x)')\n",
    "# plt.plot(x2_midpoints, R_x_values, color='red', linestyle='dashed', linewidth=1, label='Bin Centers')\n",
    "plt.title('Transformed Distribution R(x)')\n",
    "plt.legend()\n",
    "plt.xlim(0,8)\n",
    "\n",
    "plt.bar(x_true_midpoints, x_true_values, label='R(x)')\n",
    "plt.plot(x_true_midpoints, x_true_values, color='red', linestyle='dashed', linewidth=1, label='Bin Centers')\n",
    "\n",
    "plt.tight_layout()\n",
    "plt.show()\n"
   ]
  },
  {
   "cell_type": "code",
   "execution_count": 72,
   "metadata": {},
   "outputs": [
    {
     "ename": "TypeError",
     "evalue": "'NoneType' object is not iterable",
     "output_type": "error",
     "traceback": [
      "\u001b[0;31m---------------------------------------------------------------------------\u001b[0m",
      "\u001b[0;31mTypeError\u001b[0m                                 Traceback (most recent call last)",
      "\u001b[0;32m<ipython-input-72-7f24af9f6e2a>\u001b[0m in \u001b[0;36m<module>\u001b[0;34m\u001b[0m\n\u001b[1;32m     29\u001b[0m \u001b[0;34m\u001b[0m\u001b[0m\n\u001b[1;32m     30\u001b[0m \u001b[0;31m# Transform R(x) to R(x^2)\u001b[0m\u001b[0;34m\u001b[0m\u001b[0;34m\u001b[0m\u001b[0;34m\u001b[0m\u001b[0m\n\u001b[0;32m---> 31\u001b[0;31m \u001b[0mx2_values\u001b[0m\u001b[0;34m,\u001b[0m \u001b[0mRx2_values\u001b[0m \u001b[0;34m=\u001b[0m \u001b[0mtransform_Rx_to_Rx2\u001b[0m\u001b[0;34m(\u001b[0m\u001b[0mx_values\u001b[0m\u001b[0;34m,\u001b[0m \u001b[0mRx_values\u001b[0m\u001b[0;34m)\u001b[0m\u001b[0;34m\u001b[0m\u001b[0;34m\u001b[0m\u001b[0m\n\u001b[0m\u001b[1;32m     32\u001b[0m \u001b[0;34m\u001b[0m\u001b[0m\n\u001b[1;32m     33\u001b[0m \u001b[0;31m# Transform R(x^2) back to R(x)\u001b[0m\u001b[0;34m\u001b[0m\u001b[0;34m\u001b[0m\u001b[0;34m\u001b[0m\u001b[0m\n",
      "\u001b[0;31mTypeError\u001b[0m: 'NoneType' object is not iterable"
     ]
    }
   ],
   "source": [
    "import numpy as np\n",
    "import matplotlib.pyplot as plt\n",
    "\n",
    "# Function to generate R(x) data\n",
    "def generate_Rx_data(x_values):\n",
    "    return np.exp(-x_values / 2) / np.sqrt(2 * np.pi)\n",
    "\n",
    "# Function to transform R(x) to R(x^2)\n",
    "def transform_Rx_to_Rx2(x_values, Rx_values):\n",
    "    x2_values = x_values**2\n",
    "    bin_midpoints_x = (x_values[:-1] + x_values[1:]) / 2  # Calculate bin midpoints for x\n",
    "    transformation_factor = 1 / (2 * np.sqrt(bin_midpoints_x))\n",
    "    Rx2_values = Rx_values * transformation_factor * np.diff(x_values)\n",
    "    # return x2_values, Rx2_values\n",
    "    return bin_midpoints_x, Rx2_values\n",
    "\n",
    "# Function to transform R(x^2) back to R(x)\n",
    "def transform_Rx2_to_Rx(x2_values, Rx2_values):\n",
    "    x_values = np.sqrt(x2_values)\n",
    "    bin_midpoints_x2 = (x2_values[:-1] + x2_values[1:]) / 2  # Calculate bin midpoints for x^2\n",
    "    transformation_factor = 1 / (2 * bin_midpoints_x2)\n",
    "    Rx_values = Rx2_values / (transformation_factor * np.diff(x2_values))\n",
    "    # return x_values, Rx_values\n",
    "    return bin_midpoints_x2, Rx_values\n",
    "\n",
    "# Generate data for R(x)\n",
    "x_values = np.linspace(0.01, 5, 100)\n",
    "Rx_values = generate_Rx_data(x_values)\n",
    "\n",
    "# Transform R(x) to R(x^2)\n",
    "x2_values, Rx2_values = transform_Rx_to_Rx2(x_values, Rx_values)\n",
    "\n",
    "# Transform R(x^2) back to R(x)\n",
    "x_transformed, Rx_transformed = transform_Rx2_to_Rx(x2_values, Rx2_values)\n",
    "\n",
    "# Plotting histograms for R(x) and R(x) transformed\n",
    "plt.figure(figsize=(10, 6))\n",
    "\n",
    "plt.subplot(2, 1, 1)\n",
    "plt.bar(x_values, Rx_values, width=np.diff(x_values), label='R(x)')\n",
    "plt.title('Original Distribution R(x)')\n",
    "plt.legend()\n",
    "\n",
    "plt.subplot(2, 1, 2)\n",
    "# plt.bar(x_transformed, Rx_transformed, width=np.diff(x_values), label='Transformed R(x)')\n",
    "plt.title('Transformed Distribution R(x)')\n",
    "plt.legend()\n",
    "\n",
    "plt.tight_layout()\n",
    "plt.show()\n"
   ]
  },
  {
   "cell_type": "code",
   "execution_count": 1,
   "metadata": {},
   "outputs": [],
   "source": [
    "import numpy as np\n",
    "import os\n",
    "import pickle\n",
    "\n",
    "import warnings\n",
    "warnings.simplefilter(action='ignore', category=FutureWarning)\n",
    "import pandas as pd\n",
    "\n",
    "import seaborn as sns\n",
    "from scipy import interpolate\n",
    "import scipy.integrate as integrate\n",
    "import matplotlib.pyplot as plt"
   ]
  },
  {
   "cell_type": "markdown",
   "metadata": {},
   "source": [
    "Read data from file. The results are stored in `folder`. "
   ]
  },
  {
   "cell_type": "code",
   "execution_count": 2,
   "metadata": {},
   "outputs": [],
   "source": [
    "current_path = os.getcwd() \n",
    "results_folder = 'results'\n",
    "results_path = current_path + '/' + results_folder + '/'\n",
    "folder= \"test_RAA_charm_fonll_Qs_2.0_fund_su2_formt_m\""
   ]
  },
  {
   "cell_type": "markdown",
   "metadata": {},
   "source": [
    "Choose the proper time slice $\\tau_\\mathrm{stop}$ at which the Glasma $p_T$ values are extracted."
   ]
  },
  {
   "cell_type": "code",
   "execution_count": 3,
   "metadata": {},
   "outputs": [],
   "source": [
    "tau_stop = 0.4"
   ]
  },
  {
   "cell_type": "markdown",
   "metadata": {},
   "source": [
    "Read the Glasma parameters from a `pickle` dictionary. Here the proper time $\\Delta\\tau=tau-tau_\\mathrm{form}$ is also stored."
   ]
  },
  {
   "cell_type": "code",
   "execution_count": 4,
   "metadata": {},
   "outputs": [],
   "source": [
    "with open(results_path+folder+'/parameters.pickle', 'rb') as f:\n",
    "    parameters = pickle.load(f)\n",
    "tau_sim = parameters['TAU']"
   ]
  },
  {
   "cell_type": "markdown",
   "metadata": {},
   "source": [
    "Find the index of $\\tau_\\mathrm{stop}$ in $\\Delta\\tau$."
   ]
  },
  {
   "cell_type": "code",
   "execution_count": 5,
   "metadata": {},
   "outputs": [],
   "source": [
    "def find_nearest(array, value):\n",
    "    array = np.asarray(array)\n",
    "    idx = (np.abs(array - value)).argmin()\n",
    "    return idx"
   ]
  },
  {
   "cell_type": "markdown",
   "metadata": {},
   "source": [
    "Read all the results files from `folder`. They are stored in `*.npz` files, per $p_T$ bin and event number. Each $p_T$ bin contains $p_T$ values uniformly distributed within that bin and $N_\\mathrm{tp}$ test particles. All initial $p_T(\\tau_\\mathrm{form})$ and $p_T(\\tau_\\mathrm{stop})$ are stored in lists."
   ]
  },
  {
   "cell_type": "code",
   "execution_count": 6,
   "metadata": {},
   "outputs": [],
   "source": [
    "pTs_tauform, pTs_taustop = [], []\n",
    "sqpTs_tauform, sqpTs_taustop = [], []\n",
    "id = []\n",
    "\n",
    "counter = 1\n",
    "for ifile, file in enumerate(os.listdir(results_path+folder)):\n",
    "    if file.endswith('.npz'):\n",
    "        result = np.load(results_path+folder+'/'+file)\n",
    "        initial_pTs, pTs = result['initial_pTs'], result['pTs']\n",
    "        for itp in range(parameters['NTP']):\n",
    "            pTs_tauform.append(initial_pTs[itp])\n",
    "            sqpTs_tauform.append(initial_pTs[itp]**2)\n",
    "            tau_index = find_nearest(tau_sim, tau_stop)\n",
    "            pTs_taustop.append(pTs[tau_index, itp])\n",
    "            sqpTs_taustop.append(pTs[tau_index, itp]**2)\n",
    "            # id.append(str((itp+1)*(ifile+1)))\n",
    "            id.append(str(counter))\n",
    "            counter += 1"
   ]
  },
  {
   "cell_type": "markdown",
   "metadata": {},
   "source": [
    "Construct a data frame from the collected $p_T$ values. Each line is unique to each test particle and contains the initial $p_T(\\tau_\\mathrm{form})$ and $p_T(\\tau_\\mathrm{stop})$."
   ]
  },
  {
   "cell_type": "code",
   "execution_count": 7,
   "metadata": {},
   "outputs": [],
   "source": [
    "collect_df = np.column_stack((pTs_tauform, pTs_taustop, sqpTs_tauform, sqpTs_taustop))\n",
    "df = pd.DataFrame(collect_df, columns = ['Initial pT','Final pT', 'Initial pT^2','Final pT^2'], index=id)"
   ]
  },
  {
   "cell_type": "markdown",
   "metadata": {},
   "source": [
    "Sort the data frames by the value of the initial $p_T(\\tau_\\mathrm{form})$. This will be useful for the next step (the FONLL interpolation map will be applied on the initial $p_T(\\tau_\\mathrm{form})$ values)."
   ]
  },
  {
   "cell_type": "code",
   "execution_count": 8,
   "metadata": {},
   "outputs": [],
   "source": [
    "df = df.sort_values(by=['Initial pT'])"
   ]
  },
  {
   "cell_type": "code",
   "execution_count": 9,
   "metadata": {},
   "outputs": [
    {
     "data": {
      "text/html": [
       "<div>\n",
       "<style scoped>\n",
       "    .dataframe tbody tr th:only-of-type {\n",
       "        vertical-align: middle;\n",
       "    }\n",
       "\n",
       "    .dataframe tbody tr th {\n",
       "        vertical-align: top;\n",
       "    }\n",
       "\n",
       "    .dataframe thead th {\n",
       "        text-align: right;\n",
       "    }\n",
       "</style>\n",
       "<table border=\"1\" class=\"dataframe\">\n",
       "  <thead>\n",
       "    <tr style=\"text-align: right;\">\n",
       "      <th></th>\n",
       "      <th>Initial pT</th>\n",
       "      <th>Final pT</th>\n",
       "      <th>Initial pT^2</th>\n",
       "      <th>Final pT^2</th>\n",
       "    </tr>\n",
       "  </thead>\n",
       "  <tbody>\n",
       "    <tr>\n",
       "      <th>10001</th>\n",
       "      <td>0.000017</td>\n",
       "      <td>0.904478</td>\n",
       "      <td>3.057815e-10</td>\n",
       "      <td>0.818080</td>\n",
       "    </tr>\n",
       "    <tr>\n",
       "      <th>1</th>\n",
       "      <td>0.000026</td>\n",
       "      <td>1.021121</td>\n",
       "      <td>6.914065e-10</td>\n",
       "      <td>1.042688</td>\n",
       "    </tr>\n",
       "    <tr>\n",
       "      <th>2</th>\n",
       "      <td>0.000069</td>\n",
       "      <td>0.635074</td>\n",
       "      <td>4.802136e-09</td>\n",
       "      <td>0.403319</td>\n",
       "    </tr>\n",
       "    <tr>\n",
       "      <th>3</th>\n",
       "      <td>0.000122</td>\n",
       "      <td>0.969777</td>\n",
       "      <td>1.493208e-08</td>\n",
       "      <td>0.940468</td>\n",
       "    </tr>\n",
       "    <tr>\n",
       "      <th>4</th>\n",
       "      <td>0.000167</td>\n",
       "      <td>0.346532</td>\n",
       "      <td>2.799449e-08</td>\n",
       "      <td>0.120084</td>\n",
       "    </tr>\n",
       "    <tr>\n",
       "      <th>...</th>\n",
       "      <td>...</td>\n",
       "      <td>...</td>\n",
       "      <td>...</td>\n",
       "      <td>...</td>\n",
       "    </tr>\n",
       "    <tr>\n",
       "      <th>219996</th>\n",
       "      <td>10.999894</td>\n",
       "      <td>10.276287</td>\n",
       "      <td>1.209977e+02</td>\n",
       "      <td>105.602066</td>\n",
       "    </tr>\n",
       "    <tr>\n",
       "      <th>219997</th>\n",
       "      <td>10.999937</td>\n",
       "      <td>11.273129</td>\n",
       "      <td>1.209986e+02</td>\n",
       "      <td>127.083439</td>\n",
       "    </tr>\n",
       "    <tr>\n",
       "      <th>219998</th>\n",
       "      <td>10.999941</td>\n",
       "      <td>9.917108</td>\n",
       "      <td>1.209987e+02</td>\n",
       "      <td>98.349040</td>\n",
       "    </tr>\n",
       "    <tr>\n",
       "      <th>219999</th>\n",
       "      <td>10.999951</td>\n",
       "      <td>11.561095</td>\n",
       "      <td>1.209989e+02</td>\n",
       "      <td>133.658925</td>\n",
       "    </tr>\n",
       "    <tr>\n",
       "      <th>220000</th>\n",
       "      <td>10.999959</td>\n",
       "      <td>12.156221</td>\n",
       "      <td>1.209991e+02</td>\n",
       "      <td>147.773713</td>\n",
       "    </tr>\n",
       "  </tbody>\n",
       "</table>\n",
       "<p>220000 rows × 4 columns</p>\n",
       "</div>"
      ],
      "text/plain": [
       "        Initial pT   Final pT  Initial pT^2  Final pT^2\n",
       "10001     0.000017   0.904478  3.057815e-10    0.818080\n",
       "1         0.000026   1.021121  6.914065e-10    1.042688\n",
       "2         0.000069   0.635074  4.802136e-09    0.403319\n",
       "3         0.000122   0.969777  1.493208e-08    0.940468\n",
       "4         0.000167   0.346532  2.799449e-08    0.120084\n",
       "...            ...        ...           ...         ...\n",
       "219996   10.999894  10.276287  1.209977e+02  105.602066\n",
       "219997   10.999937  11.273129  1.209986e+02  127.083439\n",
       "219998   10.999941   9.917108  1.209987e+02   98.349040\n",
       "219999   10.999951  11.561095  1.209989e+02  133.658925\n",
       "220000   10.999959  12.156221  1.209991e+02  147.773713\n",
       "\n",
       "[220000 rows x 4 columns]"
      ]
     },
     "execution_count": 9,
     "metadata": {},
     "output_type": "execute_result"
    }
   ],
   "source": [
    "df"
   ]
  },
  {
   "cell_type": "markdown",
   "metadata": {},
   "source": [
    "---\n",
    "Read the initial FONLL spectra from file."
   ]
  },
  {
   "cell_type": "code",
   "execution_count": 10,
   "metadata": {},
   "outputs": [],
   "source": [
    "energy = 5500\n",
    "pdf = \"cteq\"\n",
    "quark = \"charm\"\n",
    "version = \"dsdpt\"\n",
    "# version = \"d2sdpt2\"\n",
    "# filename_fonll = \"/fonll_\" + version +\"_\" + quark + \"_\" + str(energy) + \"_\" + pdf + \".txt\"\n",
    "filename_fonll = \"/fonll_dsdpt_\" + quark + \"_\" + str(energy) + \"_\" + pdf + \"_more_points.txt\"\n",
    "fonll = np.loadtxt(current_path + filename_fonll, comments='#')"
   ]
  },
  {
   "cell_type": "markdown",
   "metadata": {},
   "source": [
    "Interpolate the data and store the corresponding FONLL weights as a column in the dataframe `df`. This column will give the weights in the histogram and is obtained by applying the FONLL interpolation map to the vector of initial $p_T(\\tau_\\mathrm{form})$."
   ]
  },
  {
   "cell_type": "code",
   "execution_count": 11,
   "metadata": {},
   "outputs": [],
   "source": [
    "pt_fonll, dsdpt_fonll = fonll[:, 0], fonll[:, 1]\n",
    "if version==\"dsdpt\":\n",
    "    fonll_interp_map = interpolate.interp1d(pt_fonll, dsdpt_fonll)\n",
    "    fonll_tauform = fonll_interp_map(df['Initial pT'])\n",
    "    df['FONLL pT weight'] = fonll_tauform\n",
    "elif version==\"d2sdpt2\":\n",
    "    pt2_fonll, d2sdpt2_fonll = pt_fonll**2, dsdpt_fonll/pt_fonll\n",
    "    # The first point is (0, inf)\n",
    "    pt2_fonll, d2sdpt2_fonll = pt2_fonll[1:len(pt2_fonll)], d2sdpt2_fonll[1:len(d2sdpt2_fonll)]\n",
    "    fonll_interp_map = interpolate.interp1d(pt2_fonll, d2sdpt2_fonll, fill_value=\"extrapolate\")\n",
    "    fonll_tauform = fonll_interp_map(df['Initial pT^2'])\n",
    "    df['FONLL pT^2 weight'] = fonll_tauform"
   ]
  },
  {
   "cell_type": "code",
   "execution_count": 12,
   "metadata": {},
   "outputs": [
    {
     "data": {
      "text/html": [
       "<div>\n",
       "<style scoped>\n",
       "    .dataframe tbody tr th:only-of-type {\n",
       "        vertical-align: middle;\n",
       "    }\n",
       "\n",
       "    .dataframe tbody tr th {\n",
       "        vertical-align: top;\n",
       "    }\n",
       "\n",
       "    .dataframe thead th {\n",
       "        text-align: right;\n",
       "    }\n",
       "</style>\n",
       "<table border=\"1\" class=\"dataframe\">\n",
       "  <thead>\n",
       "    <tr style=\"text-align: right;\">\n",
       "      <th></th>\n",
       "      <th>Initial pT</th>\n",
       "      <th>Final pT</th>\n",
       "      <th>Initial pT^2</th>\n",
       "      <th>Final pT^2</th>\n",
       "      <th>FONLL pT weight</th>\n",
       "    </tr>\n",
       "  </thead>\n",
       "  <tbody>\n",
       "    <tr>\n",
       "      <th>10001</th>\n",
       "      <td>0.000017</td>\n",
       "      <td>0.904478</td>\n",
       "      <td>3.057815e-10</td>\n",
       "      <td>0.818080</td>\n",
       "      <td>3.861015e+03</td>\n",
       "    </tr>\n",
       "    <tr>\n",
       "      <th>1</th>\n",
       "      <td>0.000026</td>\n",
       "      <td>1.021121</td>\n",
       "      <td>6.914065e-10</td>\n",
       "      <td>1.042688</td>\n",
       "      <td>5.805808e+03</td>\n",
       "    </tr>\n",
       "    <tr>\n",
       "      <th>2</th>\n",
       "      <td>0.000069</td>\n",
       "      <td>0.635074</td>\n",
       "      <td>4.802136e-09</td>\n",
       "      <td>0.403319</td>\n",
       "      <td>1.530077e+04</td>\n",
       "    </tr>\n",
       "    <tr>\n",
       "      <th>3</th>\n",
       "      <td>0.000122</td>\n",
       "      <td>0.969777</td>\n",
       "      <td>1.493208e-08</td>\n",
       "      <td>0.940468</td>\n",
       "      <td>2.698088e+04</td>\n",
       "    </tr>\n",
       "    <tr>\n",
       "      <th>4</th>\n",
       "      <td>0.000167</td>\n",
       "      <td>0.346532</td>\n",
       "      <td>2.799449e-08</td>\n",
       "      <td>0.120084</td>\n",
       "      <td>3.694300e+04</td>\n",
       "    </tr>\n",
       "    <tr>\n",
       "      <th>...</th>\n",
       "      <td>...</td>\n",
       "      <td>...</td>\n",
       "      <td>...</td>\n",
       "      <td>...</td>\n",
       "      <td>...</td>\n",
       "    </tr>\n",
       "    <tr>\n",
       "      <th>219996</th>\n",
       "      <td>10.999894</td>\n",
       "      <td>10.276287</td>\n",
       "      <td>1.209977e+02</td>\n",
       "      <td>105.602066</td>\n",
       "      <td>2.894728e+06</td>\n",
       "    </tr>\n",
       "    <tr>\n",
       "      <th>219997</th>\n",
       "      <td>10.999937</td>\n",
       "      <td>11.273129</td>\n",
       "      <td>1.209986e+02</td>\n",
       "      <td>127.083439</td>\n",
       "      <td>2.894680e+06</td>\n",
       "    </tr>\n",
       "    <tr>\n",
       "      <th>219998</th>\n",
       "      <td>10.999941</td>\n",
       "      <td>9.917108</td>\n",
       "      <td>1.209987e+02</td>\n",
       "      <td>98.349040</td>\n",
       "      <td>2.894675e+06</td>\n",
       "    </tr>\n",
       "    <tr>\n",
       "      <th>219999</th>\n",
       "      <td>10.999951</td>\n",
       "      <td>11.561095</td>\n",
       "      <td>1.209989e+02</td>\n",
       "      <td>133.658925</td>\n",
       "      <td>2.894663e+06</td>\n",
       "    </tr>\n",
       "    <tr>\n",
       "      <th>220000</th>\n",
       "      <td>10.999959</td>\n",
       "      <td>12.156221</td>\n",
       "      <td>1.209991e+02</td>\n",
       "      <td>147.773713</td>\n",
       "      <td>2.894655e+06</td>\n",
       "    </tr>\n",
       "  </tbody>\n",
       "</table>\n",
       "<p>220000 rows × 5 columns</p>\n",
       "</div>"
      ],
      "text/plain": [
       "        Initial pT   Final pT  Initial pT^2  Final pT^2  FONLL pT weight\n",
       "10001     0.000017   0.904478  3.057815e-10    0.818080     3.861015e+03\n",
       "1         0.000026   1.021121  6.914065e-10    1.042688     5.805808e+03\n",
       "2         0.000069   0.635074  4.802136e-09    0.403319     1.530077e+04\n",
       "3         0.000122   0.969777  1.493208e-08    0.940468     2.698088e+04\n",
       "4         0.000167   0.346532  2.799449e-08    0.120084     3.694300e+04\n",
       "...            ...        ...           ...         ...              ...\n",
       "219996   10.999894  10.276287  1.209977e+02  105.602066     2.894728e+06\n",
       "219997   10.999937  11.273129  1.209986e+02  127.083439     2.894680e+06\n",
       "219998   10.999941   9.917108  1.209987e+02   98.349040     2.894675e+06\n",
       "219999   10.999951  11.561095  1.209989e+02  133.658925     2.894663e+06\n",
       "220000   10.999959  12.156221  1.209991e+02  147.773713     2.894655e+06\n",
       "\n",
       "[220000 rows x 5 columns]"
      ]
     },
     "execution_count": 12,
     "metadata": {},
     "output_type": "execute_result"
    }
   ],
   "source": [
    "df"
   ]
  },
  {
   "cell_type": "markdown",
   "metadata": {},
   "source": [
    "Plot the FONLL distribution read from the files and the interpolated one."
   ]
  },
  {
   "cell_type": "code",
   "execution_count": 13,
   "metadata": {},
   "outputs": [
    {
     "data": {
      "image/png": "[encoded data removed]",
      "text/plain": [
       "<Figure size 432x288 with 1 Axes>"
      ]
     },
     "metadata": {
      "needs_background": "light"
     },
     "output_type": "display_data"
    }
   ],
   "source": [
    "fig, ax = plt.subplots(1, 1)\n",
    "\n",
    "if version==\"dsdpt\":\n",
    "    ax.plot(pt_fonll, dsdpt_fonll, linewidth=2, color='blue')\n",
    "    ax.plot(df['Initial pT'], fonll_tauform, linewidth=2, color='red')\n",
    "elif version==\"d2sdpt2\":\n",
    "    ax.plot(pt_fonll[1:len(pt_fonll)], d2sdpt2_fonll, linewidth=2, color='blue')\n",
    "    ax.plot(df['Initial pT'], fonll_tauform, linewidth=2, color='red')\n",
    "    plt.yscale(\"log\")\n",
    "\n",
    "# fig.patch.set_facecolor('white')"
   ]
  },
  {
   "cell_type": "code",
   "execution_count": 15,
   "metadata": {},
   "outputs": [],
   "source": [
    "# pTs_col = np.concatenate((df['Initial pT'].to_numpy(), df['Final pT'].to_numpy()))\n",
    "# types_col = np.concatenate((['Initial'] * len(df['Initial pT']),['Final'] * len(df['Final pT'])))\n",
    "\n",
    "# collect_df_pTs = np.column_stack((pTs_col, types_col))\n",
    "# df_pTs = pd.DataFrame(collect_df_pTs, columns = ['pT','Type'])"
   ]
  },
  {
   "cell_type": "markdown",
   "metadata": {},
   "source": [
    "Plot the initial flat $p_T(\\tau_\\mathrm{form})$ (gray) distribution and the distribution of $p_T(\\tau_\\mathrm{stop})$ (blue) after evolving in the Glasma."
   ]
  },
  {
   "cell_type": "code",
   "execution_count": 14,
   "metadata": {},
   "outputs": [],
   "source": [
    "pt_bins = np.arange(0, 16, 0.4)\n",
    "if version==\"d2sdpt2\":\n",
    "    pt2_bins = [pt**2 for pt in pt_bins]\n",
    "norm = 'density'\n",
    "# norm = 'count'"
   ]
  },
  {
   "cell_type": "code",
   "execution_count": 15,
   "metadata": {},
   "outputs": [
    {
     "data": {
      "image/png": "[encoded data removed]",
      "text/plain": [
       "<Figure size 432x288 with 1 Axes>"
      ]
     },
     "metadata": {
      "needs_background": "light"
     },
     "output_type": "display_data"
    }
   ],
   "source": [
    "if version==\"dsdpt\":\n",
    "    sns.histplot(np.array(df['Initial pT']), color='gray', bins=pt_bins, kde=True, fill=False, stat=norm)\n",
    "    sns.histplot(np.array(df['Final pT']), color='blue', bins=pt_bins, kde=True, fill=False, stat=norm)\n",
    "elif version==\"d2sdpt2\":\n",
    "    sns.histplot(np.array(df['Initial pT^2']), color='gray', bins=pt2_bins, kde=True, fill=False, stat=norm)\n",
    "    sns.histplot(np.array(df['Final pT^2']), color='blue', bins=pt2_bins, kde=True, fill=False, stat=norm)\n",
    "    plt.yscale(\"log\")\n",
    "\n",
    "plt.show()"
   ]
  },
  {
   "cell_type": "code",
   "execution_count": 64,
   "metadata": {},
   "outputs": [
    {
     "data": {
      "text/plain": [
       "<AxesSubplot:xlabel='Initial pT', ylabel='Final pT'>"
      ]
     },
     "execution_count": 64,
     "metadata": {},
     "output_type": "execute_result"
    },
    {
     "data": {
      "image/png": "[encoded data removed]",
      "text/plain": [
       "<Figure size 432x288 with 1 Axes>"
      ]
     },
     "metadata": {
      "needs_background": "light"
     },
     "output_type": "display_data"
    }
   ],
   "source": [
    "sns.kdeplot(data=df, x=\"Initial pT\", y=\"Final pT\",fill=True, thresh=0, levels=100, cmap=\"mako\")"
   ]
  },
  {
   "cell_type": "code",
   "execution_count": 26,
   "metadata": {},
   "outputs": [],
   "source": [
    "# if type=='kde':\n",
    "#     sns.kdeplot(np.array(df['Initial pT']), color='gray')\n",
    "#     sns.kdeplot(np.array(df['Final pT']), color='blue')\n",
    "# elif type=='hist':\n",
    "#     sns.histplot(np.array(df['Initial pT']), color='gray', bins=50)\n",
    "#     sns.histplot(np.array(df['Final pT']), color='blue', bins=50)"
   ]
  },
  {
   "cell_type": "markdown",
   "metadata": {},
   "source": [
    "Remove duplicates (for the same initial $p_T(\\tau_\\mathrm{form})$ there are multiple entries in `df` but `kde` or `hist` cannot be constructed when there are duplicate entries."
   ]
  },
  {
   "cell_type": "code",
   "execution_count": 41,
   "metadata": {},
   "outputs": [],
   "source": [
    "#TODO Remove this, it's unnecesary. There was a problem with indexing, now it is fixed\n",
    "# Remove duplicates in df\n",
    "# df_unique = df[~df.index.duplicated()]"
   ]
  },
  {
   "cell_type": "markdown",
   "metadata": {},
   "source": [
    "Construct the histrogram of $p_T(\\tau_\\mathrm{stop})$ with weights given by the corresponding $\\mathrm{FONLL}(p_T(\\tau_\\mathrm{form}))$ for that specific test particle. "
   ]
  },
  {
   "cell_type": "code",
   "execution_count": 16,
   "metadata": {},
   "outputs": [],
   "source": [
    "dens = {}"
   ]
  },
  {
   "cell_type": "code",
   "execution_count": 17,
   "metadata": {},
   "outputs": [
    {
     "data": {
      "image/png": "[encoded data removed]",
      "text/plain": [
       "<Figure size 432x288 with 1 Axes>"
      ]
     },
     "metadata": {
      "needs_background": "light"
     },
     "output_type": "display_data"
    }
   ],
   "source": [
    "# dens[\"tau_form\"] = sns.histplot(data=df, x=\"Initial pT\", weights=\"FONLL weight\", color='gray', bins=40, kde=True, stat=norm)\n",
    "if version==\"dsdpt\":\n",
    "    dens[\"tau_form\"] = sns.histplot(data=df, x=\"Initial pT\", weights=\"FONLL pT weight\", color='gray', bins=pt_bins, kde=True, stat=norm, fill=False)\n",
    "elif version==\"d2sdpt2\":\n",
    "    dens[\"tau_form\"] = sns.histplot(data=df, x=\"Initial pT^2\", weights=\"FONLL pT^2 weight\", color='gray', bins=pt2_bins, kde=True, stat=norm, fill=False)\n",
    "    plt.yscale(\"log\")"
   ]
  },
  {
   "cell_type": "markdown",
   "metadata": {},
   "source": [
    "Extract the values from the density plot, in order to compute $R_{AA}$."
   ]
  },
  {
   "cell_type": "code",
   "execution_count": 18,
   "metadata": {},
   "outputs": [
    {
     "data": {
      "image/png": "[encoded data removed]",
      "text/plain": [
       "<Figure size 432x288 with 1 Axes>"
      ]
     },
     "metadata": {
      "needs_background": "light"
     },
     "output_type": "display_data"
    }
   ],
   "source": [
    "# dens[\"tau_stop\"] = sns.histplot(data=df, x=\"Final pT\", weights=\"FONLL weight\", color='blue', bins=40, kde=True, stat=norm)\n",
    "if version==\"dsdpt\":\n",
    "    dens[\"tau_stop\"] = sns.histplot(data=df, x=\"Final pT\", weights=\"FONLL pT weight\", color='blue', bins=pt_bins, kde=True, stat=norm, fill=False)\n",
    "elif version==\"d2sdpt2\":\n",
    "    dens[\"tau_stop\"] = sns.histplot(data=df, x=\"Final pT^2\", weights=\"FONLL pT^2 weight\", color='blue', bins=pt2_bins, kde=True, stat=norm, fill=False)\n",
    "    plt.yscale(\"log\")"
   ]
  },
  {
   "cell_type": "markdown",
   "metadata": {},
   "source": [
    "Extract `kde` and `hist` values from the axes."
   ]
  },
  {
   "cell_type": "code",
   "execution_count": 19,
   "metadata": {},
   "outputs": [],
   "source": [
    "dens_x, dens_y = {}, {}\n",
    "for it, tau_i in enumerate([\"tau_form\", \"tau_stop\"]):\n",
    "    dens_x[tau_i], dens_y[tau_i] = {}, {}\n",
    "    dens_x[tau_i][\"kde\"], dens_y[tau_i][\"kde\"] = dens[tau_i].get_lines()[0].get_data()[0], dens[tau_i].get_lines()[0].get_data()[1]\n",
    "    dens_x[tau_i][\"hist\"], dens_y[tau_i][\"hist\"] = np.array([h.xy[0] for h in dens[tau_i].patches]), np.array([h.get_height() for h in dens[tau_i].patches])"
   ]
  },
  {
   "cell_type": "markdown",
   "metadata": {},
   "source": [
    "Check normalization of spectra."
   ]
  },
  {
   "cell_type": "code",
   "execution_count": 20,
   "metadata": {},
   "outputs": [
    {
     "name": "stdout",
     "output_type": "stream",
     "text": [
      "tau_form\n",
      "kde\n",
      "0.99795226117563\n",
      "hist\n",
      "0.9940320138357314\n",
      "tau_stop\n",
      "kde\n",
      "0.9979887562646427\n",
      "hist\n",
      "0.995152614373054\n"
     ]
    }
   ],
   "source": [
    "if version==\"dsdpt\":\n",
    "    for tau_i in [\"tau_form\", \"tau_stop\"]:\n",
    "        print(tau_i)\n",
    "        for type in [\"kde\", \"hist\"]:\n",
    "            print(type)\n",
    "            print(integrate.simps(dens_y[tau_i][type], dens_x[tau_i][type]))"
   ]
  },
  {
   "cell_type": "code",
   "execution_count": 21,
   "metadata": {},
   "outputs": [
    {
     "data": {
      "image/png": "[encoded data removed]",
      "text/plain": [
       "<Figure size 432x288 with 1 Axes>"
      ]
     },
     "metadata": {
      "needs_background": "light"
     },
     "output_type": "display_data"
    }
   ],
   "source": [
    "if version==\"dsdpt\":\n",
    "    sns.histplot(data=df, x=\"Initial pT\", weights=\"FONLL pT weight\", color='gray', bins=pt_bins, kde=True, stat=norm, fill=False)\n",
    "    sns.histplot(data=df, x=\"Final pT\", weights=\"FONLL pT weight\", color='blue', bins=pt_bins, kde=True, stat=norm, fill=False)\n",
    "elif version==\"d2sdpt2\":\n",
    "    sns.histplot(data=df, x=\"Initial pT^2\", weights=\"FONLL pT^2 weight\", color='gray', bins=pt2_bins, kde=True, stat=norm, fill=False)\n",
    "    sns.histplot(data=df, x=\"Final pT^2\", weights=\"FONLL pT^2 weight\", color='blue', bins=pt2_bins, kde=True, stat=norm, fill=False)\n",
    "    plt.yscale(\"log\")"
   ]
  },
  {
   "cell_type": "code",
   "execution_count": 22,
   "metadata": {},
   "outputs": [
    {
     "name": "stderr",
     "output_type": "stream",
     "text": [
      "/n/work00/davrames/condacurraun/lib/python3.6/site-packages/ipykernel_launcher.py:5: RuntimeWarning: divide by zero encountered in true_divide\n",
      "  \"\"\"\n",
      "/n/work00/davrames/condacurraun/lib/python3.6/site-packages/ipykernel_launcher.py:5: RuntimeWarning: invalid value encountered in true_divide\n",
      "  \"\"\"\n"
     ]
    },
    {
     "data": {
      "image/png": "[encoded data removed]",
      "text/plain": [
       "<Figure size 432x288 with 1 Axes>"
      ]
     },
     "metadata": {
      "needs_background": "light"
     },
     "output_type": "display_data"
    }
   ],
   "source": [
    "fig_ratio, ax_ratio = plt.subplots(1, 1)\n",
    "\n",
    "colors = ['gray', 'blue']\n",
    "for it, type in enumerate([\"hist\", \"kde\"]):\n",
    "    ratio = np.array(dens_y[\"tau_stop\"][type])/np.array(dens_y[\"tau_form\"][type])\n",
    "    ax_ratio.plot(dens_x[\"tau_stop\"][type], ratio, linewidth=2, color=colors[it])\n",
    "\n",
    "# type_plot = \"kde\"\n",
    "# for it, tau in enumerate([\"tau_form\", \"tau_stop\"]):\n",
    "#     ax_ratio.plot(dens_x[tau][type_plot], dens_y[tau][type_plot], linewidth=1.5, color=colors[it])\n",
    "# ax_ratio.plot(dens_x[\"tau_stop\"][type_plot], dens_y[\"tau_stop\"][type_plot]/dens_y[\"tau_form\"][type_plot], linewidth=2, color=colors[it])\n",
    "\n",
    "# dens_x_pos = dens_x[\"tau_form\"][dens_x[\"tau_form\"]>=0]\n",
    "# dens_y_fonll = fonll_interp_map(dens_x_pos)/integrate.simps(dens_x_pos, fonll_interp_map(dens_x_pos))*(-1)\n",
    "# ax_ratio.plot(dens_x_pos, dens_y_fonll, linewidth=2, color='purple')\n",
    "\n",
    "# ax2.plot(dens_x[\"tau_form\"], np.ones(len(dens_x[\"tau_form\"])), linewidth=2, color='gray')\n",
    "# ax2.plot(dens_x[\"tau_form\"], dens_y[\"tau_stop\"]/dens_y[\"tau_form\"], linewidth=2, color='red')\n",
    "# ax2.set_xlim(0, 2)"
   ]
  }
 ],
 "metadata": {
  "kernelspec": {
   "display_name": "Python 3",
   "language": "python",
   "name": "python3"
  },
  "language_info": {
   "codemirror_mode": {
    "name": "ipython",
    "version": 3
   },
   "file_extension": ".py",
   "mimetype": "text/x-python",
   "name": "python",
   "nbconvert_exporter": "python",
   "pygments_lexer": "ipython3",
   "version": "3.6.8"
  }
 },
 "nbformat": 4,
 "nbformat_minor": 2
}
