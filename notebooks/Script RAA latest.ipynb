{
 "cells": [
  {
   "cell_type": "code",
   "execution_count": 1,
   "metadata": {},
   "outputs": [],
   "source": [
    "import numpy as np\n",
    "\n",
    "# hbar * c [GeV * fm]\n",
    "hbarc = 0.197326 \n",
    "\n",
    "# Simulation box \n",
    "L = 10      \n",
    "N = 512 \n",
    "tau_sim = 0.4     \n",
    "DTS = 8     \n",
    "\n",
    "# Glasma\n",
    "su_group = 'su3'\n",
    "Qs = 2.0     \n",
    "ns = 50      \n",
    "factor = 0.8        \n",
    "uv = 10.0 \n",
    "\n",
    "# Wong\n",
    "quark = 'charm'    \n",
    "mass = 1.275   \n",
    "tau_form = 1/(2*mass)*hbarc    \n",
    "\n",
    "# tau_sim += tau_form\n",
    "\n",
    "initialization = 'pT'         \n",
    "ntp = 10**5  \n",
    "\n",
    "nevents = 2\n",
    "\n",
    "# representation = 'quantum fundamental'     \n",
    "representation = 'fundamental' \n",
    "boundary = 'periodic'  \n",
    "form_time = 'mT'\n",
    "\n",
    "# pTs = [0, 0.5, 1, 5]\n",
    "npTbins = 6 \n",
    "pTmax = 5\n",
    "pTs = np.linspace(0, pTmax, npTbins)\n",
    "deltapT = pTs[1] - pTs[0]"
   ]
  },
  {
   "cell_type": "code",
   "execution_count": 2,
   "metadata": {},
   "outputs": [],
   "source": [
    "# Store relevant parameters in a dictionary\n",
    "p = {\n",
    "    'QUARK': quark,\n",
    "    'MASS': mass,   \n",
    "    'TFORM': tau_form,\n",
    "    'TSIM': tau_sim,\n",
    "    'QS': Qs,            \n",
    "    'NEVENTS': nevents,\n",
    "    'NTP': ntp,   \n",
    "    'PTS': pTs,\n",
    "    'NPTBINS': npTbins,\n",
    "    'PTMAX': pTmax,\n",
    "    'REPR': representation,\n",
    "    'SUGROUP': su_group,\n",
    "    'FORMTIME': form_time,\n",
    "    }"
   ]
  },
  {
   "cell_type": "code",
   "execution_count": 3,
   "metadata": {},
   "outputs": [],
   "source": [
    "# rest of parameters  \n",
    "g2mu = p[\"QS\"] / factor     \n",
    "g = np.pi * np.sqrt(1 / np.log(p[\"QS\"] / 0.2))          \t\t\n",
    "mu = g2mu / g**2          \t\n",
    "ir = 0.1 * g2mu     \n",
    "\n",
    "tau_form = 1/(2*p[\"MASS\"])*hbarc\n",
    "tau_sim += tau_form\n",
    "\n",
    "# Results folder\n",
    "if representation == 'quantum fundamental':\n",
    "    folder = 'RAA_' + p[\"QUARK\"] + '_fonll_Qs_' + str(p[\"QS\"]) + '_qfund_' + p[\"SUGROUP\"] + '_formt_' + p[\"FORMTIME\"]\n",
    "elif representation == 'fundamental':\n",
    "    folder = 'RAA_' + p[\"QUARK\"] + '_fonll_Qs_' + str(p[\"QS\"]) + '_fund_' + p[\"SUGROUP\"] + '_formt_' + p[\"FORMTIME\"]\n",
    "\n",
    "filename = 'all_pTs_pT_bins.pickle'"
   ]
  },
  {
   "cell_type": "code",
   "execution_count": 4,
   "metadata": {},
   "outputs": [
    {
     "name": "stdout",
     "output_type": "stream",
     "text": [
      "Using CUDA\n",
      "Using SU(3)\n",
      "Using double precision\n",
      "Using double precision\n"
     ]
    }
   ],
   "source": [
    "import os\n",
    "os.environ[\"MY_NUMBA_TARGET\"] = \"cuda\"\n",
    "os.environ[\"PRECISION\"] = \"double\"\n",
    "os.environ[\"GAUGE_GROUP\"] = p[\"SUGROUP\"]\n",
    "\n",
    "# Import relevant modules\n",
    "import sys\n",
    "sys.path.append('..')\n",
    "\n",
    "# Glasma modules\n",
    "import curraun.core as core\n",
    "import curraun.mv as mv\n",
    "import curraun.initial as initial\n",
    "initial.DEBUG = False\n",
    "\n",
    "import curraun.su as su\n",
    "from curraun.numba_target import use_cuda\n",
    "if use_cuda:\n",
    "    from numba import cuda\n",
    "\n",
    "# Wong modules\n",
    "from curraun import wong\n",
    "wong.BOUNDARY = boundary\n",
    "wong.WONG_TO_HOST = True\n",
    "from curraun.wong import init_pos, init_charge, init_mom_toy\n",
    "from curraun.particles_correlators import TransMom"
   ]
  },
  {
   "cell_type": "code",
   "execution_count": 5,
   "metadata": {},
   "outputs": [],
   "source": [
    "import pickle\n",
    "from tqdm import tqdm\n",
    "\n",
    "current_path = os.getcwd() \n",
    "results_folder = 'results'\n",
    "if not os.path.isdir(results_folder):\n",
    "    os.makedirs(results_folder)\n",
    "results_path = current_path + '/' + results_folder + '/'"
   ]
  },
  {
   "cell_type": "code",
   "execution_count": 6,
   "metadata": {},
   "outputs": [],
   "source": [
    "def simulate(p, ev, pT, deltapT): \n",
    "    # Derived parameters\n",
    "    a = L/N\n",
    "    E0 = N/L * hbarc\n",
    "    DT = 1.0 / DTS\n",
    "\n",
    "    if p[\"FORMTIME\"]=='m':\n",
    "        tau_form = 1/(2*p[\"MASS\"])*hbarc\n",
    "    elif p[\"FORMTIME\"]=='mT':\n",
    "        # transverse mass\n",
    "        mT = np.sqrt(p[\"MASS\"]**2+pT**2)   \n",
    "        # formation time given by inverse of transverse mass\n",
    "        tau_form = 1/(2*mT)*hbarc\n",
    "\n",
    "    p[\"TFORM\"] = tau_form\n",
    "\n",
    "    tau_sim = p[\"TSIM\"] + tau_form \n",
    "\n",
    "    formt = int(tau_form / a * DTS)\n",
    "    maxt = int(tau_sim / a * DTS)\n",
    "\n",
    "    # Initialize Glasma fields\n",
    "    s = core.Simulation(N, DT, g)\n",
    "    va = mv.wilson(s, mu=mu / E0, m=ir / E0, uv=uv / E0, num_sheets=ns)\n",
    "    vb = mv.wilson(s, mu=mu / E0, m=ir / E0, uv=uv / E0, num_sheets=ns)\n",
    "    initial.init(s, va, vb)\n",
    "\n",
    "   \n",
    "    # Initialize the Wong solver\n",
    "    wong_solver = wong.WongSolver(s, ntp)\n",
    "    x0s, p0s, q0s = np.zeros((ntp, 3)), np.zeros((ntp, 5)), np.zeros((ntp, su.ALGEBRA_ELEMENTS))\n",
    "    masses = p[\"MASS\"] / E0 * np.ones(ntp)\n",
    "\n",
    "    # pT bins\n",
    "    pTlow, pThigh = pT, pT+deltapT\n",
    "    initial_pTs = np.sort(np.random.uniform(pTlow, pThigh, ntp))\n",
    "\n",
    "    for i in range(ntp):\n",
    "        # x0, p0, q0 = init_pos(s.n), init_mom_toy('pT', pT / E0), init_charge(representation)\n",
    "        x0, p0, q0 = init_pos(s.n), init_mom_toy('pT', initial_pTs[i] / E0), init_charge(representation)\n",
    "        x0s[i, :], p0s[i, :], q0s[i, :] = x0, p0, q0\n",
    "    \n",
    "    wong_solver.initialize(x0s, p0s, q0s, masses)\n",
    "\n",
    "    pTs = np.zeros((maxt-formt, ntp))\n",
    "    compute_pT = TransMom(wong_solver, ntp)\n",
    "\n",
    "    with tqdm(total=maxt) as pbar:\n",
    "        for t in range(maxt):\n",
    "            # Evolve Glasma fields\n",
    "            core.evolve_leapfrog(s)\n",
    "\n",
    "            # Solve Wong's equations\n",
    "            if t>=formt:  \n",
    "                compute_pT.compute()\n",
    "                pTs[t-formt] = compute_pT.pT.copy() * E0\n",
    "\n",
    "                wong_solver.compute_mom_broad()\n",
    "                \n",
    "                wong_solver.evolve()\n",
    "\n",
    "            pbar.set_description(\"Event \" + str(ev+1))\n",
    "            pbar.update(1)\n",
    "\n",
    "    # output[str(pT)]['pTs_event_'+ str(ev+1)] = pTs\n",
    "    # output[str(pT)]['initial_pTs_event_'+ str(ev+1)] = initial_pTs\n",
    "\n",
    "    tau = np.linspace(0, tau_sim-tau_form, maxt-formt)\n",
    "    # output['tau'] = tau\n",
    "\n",
    "    return tau, pTs, initial_pTs"
   ]
  },
  {
   "cell_type": "code",
   "execution_count": 7,
   "metadata": {},
   "outputs": [
    {
     "name": "stdout",
     "output_type": "stream",
     "text": [
      "Charm quark\n",
      "pT = 0.0 GeV\n"
     ]
    },
    {
     "name": "stderr",
     "output_type": "stream",
     "text": [
      "Event 1: 100%|██████████| 195/195 [01:08<00:00,  2.86it/s]\n",
      "Event 2: 100%|██████████| 195/195 [01:00<00:00,  3.23it/s]\n"
     ]
    },
    {
     "name": "stdout",
     "output_type": "stream",
     "text": [
      "pT = 1.0 GeV\n"
     ]
    },
    {
     "name": "stderr",
     "output_type": "stream",
     "text": [
      "Event 1: 100%|██████████| 188/188 [00:58<00:00,  3.20it/s]\n",
      "Event 2: 100%|██████████| 188/188 [00:58<00:00,  3.24it/s]\n"
     ]
    },
    {
     "name": "stdout",
     "output_type": "stream",
     "text": [
      "pT = 2.0 GeV\n"
     ]
    },
    {
     "name": "stderr",
     "output_type": "stream",
     "text": [
      "Event 1: 100%|██████████| 180/180 [00:57<00:00,  3.12it/s]\n",
      "Event 2: 100%|██████████| 180/180 [00:58<00:00,  3.10it/s]\n"
     ]
    },
    {
     "name": "stdout",
     "output_type": "stream",
     "text": [
      "pT = 3.0 GeV\n"
     ]
    },
    {
     "name": "stderr",
     "output_type": "stream",
     "text": [
      "Event 1: 100%|██████████| 176/176 [00:56<00:00,  3.10it/s]\n",
      "Event 2: 100%|██████████| 176/176 [00:57<00:00,  3.05it/s]\n"
     ]
    },
    {
     "name": "stdout",
     "output_type": "stream",
     "text": [
      "pT = 4.0 GeV\n"
     ]
    },
    {
     "name": "stderr",
     "output_type": "stream",
     "text": [
      "Event 1: 100%|██████████| 173/173 [00:57<00:00,  3.02it/s]\n",
      "Event 2: 100%|██████████| 173/173 [00:54<00:00,  3.15it/s]\n"
     ]
    },
    {
     "name": "stdout",
     "output_type": "stream",
     "text": [
      "pT = 5.0 GeV\n"
     ]
    },
    {
     "name": "stderr",
     "output_type": "stream",
     "text": [
      "Event 1: 100%|██████████| 171/171 [00:56<00:00,  3.01it/s]\n",
      "Event 2: 100%|██████████| 171/171 [00:56<00:00,  3.04it/s]\n"
     ]
    }
   ],
   "source": [
    "print(p['QUARK'].capitalize() + \" quark\")\n",
    "os.chdir(results_path)\n",
    "\n",
    "# output = {}\n",
    "# output['parameters'] = p.copy()\n",
    "# output['pTs'] = p['PTS']\n",
    "# output['nevents'] = p[\"NEVENTS\"]\n",
    "\n",
    "wong_folder = folder\n",
    "if not os.path.isdir(wong_folder):\n",
    "    os.makedirs(wong_folder)\n",
    "wong_path = results_path + '/' + wong_folder + '/'\n",
    "os.chdir(wong_path)\n",
    "\n",
    "for ipT, pT in enumerate(p['PTS']):\n",
    "    print(\"pT = \" + str(pT) + \" GeV\")\n",
    "\n",
    "    # output[str(pT)] = {}\n",
    "    for iev, ev in enumerate(range(0, p[\"NEVENTS\"])):\n",
    "        # print(\"event \" + str(iev+1))\n",
    "        tau, pTs, initial_pTs = simulate(p, ev, pT, deltapT)\n",
    "\n",
    "        filename_pT_ev = 'pT_bin_' + str(ipT+1) + '_ev_' + str(iev+1)\n",
    "        np.savez_compressed(filename_pT_ev, pTs=pTs, initial_pTs=initial_pTs)\n",
    "\n",
    "p[\"TAU\"] = tau\n",
    "\n",
    "# with open('parameters.pickle', 'wb') as handle:\n",
    "#     pickle.dump(p, handle)"
   ]
  }
 ],
 "metadata": {
  "kernelspec": {
   "display_name": "Python 3",
   "language": "python",
   "name": "python3"
  },
  "language_info": {
   "codemirror_mode": {
    "name": "ipython",
    "version": 3
   },
   "file_extension": ".py",
   "mimetype": "text/x-python",
   "name": "python",
   "nbconvert_exporter": "python",
   "pygments_lexer": "ipython3",
   "version": "3.6.8"
  }
 },
 "nbformat": 4,
 "nbformat_minor": 2
}
