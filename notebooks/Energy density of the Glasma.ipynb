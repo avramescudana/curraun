{
 "cells": [
  {
   "cell_type": "markdown",
   "metadata": {},
   "source": [
    "# Computing the energy density of the Glasma in the MV model\n",
    "\n",
    "In this notebook we compute the energy density of the Glasma in the MV model and compare the result to Tuomas Lappi's value from 2006 (see [**arXiv:hep-ph/0606207**](https://arxiv.org/abs/hep-ph/0606207)). By reproducing the same energy density we can be sure that our code works correctly. At $\\tau_0 = 1.0 / g^2 \\mu$ we obtain $\\varepsilon(\\tau_0) = 0.262 (g^2 \\mu)^4 / g^2 $ which translates to $\\varepsilon(\\tau_0) = 136 \\, \\mathrm{GeV} / \\mathrm{fm}^3$ for $g^2 \\mu = 2.0 \\, \\mathrm{GeV}$ and $\\varepsilon(\\tau_0) = 691 \\, \\mathrm{GeV} / \\mathrm{fm}^3$ for $g^2 \\mu = 3.0 \\, \\mathrm{GeV}$. The numbers from [**arXiv:hep-ph/0606207**](https://arxiv.org/abs/hep-ph/0606207) are $130 \\, \\mathrm{GeV} / \\mathrm{fm}^3$ and $700 \\, \\mathrm{GeV} / \\mathrm{fm}^3$. Close enough."
   ]
  },
  {
   "cell_type": "code",
   "execution_count": 1,
   "metadata": {},
   "outputs": [
    {
     "name": "stdout",
     "output_type": "stream",
     "text": [
      "Using CUDA\n",
      "Using SU(3)\n",
      "Using double precision\n"
     ]
    }
   ],
   "source": [
    "# Set environment variables \n",
    "import os\n",
    "os.environ[\"MY_NUMBA_TARGET\"] = \"cuda\"\n",
    "os.environ[\"GAUGE_GROUP\"] = \"su3\"\n",
    "os.environ[\"PRECISION\"] = \"double\"\n",
    "\n",
    "# Import curraun and other packages\n",
    "import sys\n",
    "sys.path.append('..')\n",
    "\n",
    "import curraun.core as core\n",
    "import curraun.mv as mv\n",
    "from curraun.energy import Energy\n",
    "import curraun.initial as initial\n",
    "initial.DEBUG = False\n",
    "\n",
    "from curraun.numba_target import use_cuda, use_numba\n",
    "if use_cuda:\n",
    "    from numba import cuda\n",
    "\n",
    "import numpy as np\n",
    "import pickle, datetime\n",
    "from tqdm import tqdm_notebook as tqdm\n",
    "import matplotlib.pyplot as plt\n",
    "\n",
    "from matplotlib import rc\n",
    "rc('text', usetex=True)\n",
    "plt.rcParams[\"figure.figsize\"] = (10, 7)\n",
    "plt.rcParams.update({'font.size':18})\n",
    "\n",
    "# define hbar * c in units of GeV * fm\n",
    "hbarc = 0.197326 "
   ]
  },
  {
   "cell_type": "code",
   "execution_count": 2,
   "metadata": {},
   "outputs": [],
   "source": [
    "def compute(p):    \n",
    "    # output dictionary\n",
    "    output = {}\n",
    "    output[\"energy\"] = []\n",
    "    \n",
    "    output[\"EL\"] = []\n",
    "    output[\"BL\"] = []\n",
    "    output[\"ET\"] = []\n",
    "    output[\"BT\"] = []\n",
    "    \n",
    "    output[\"pL\"] = []\n",
    "    output[\"pT\"] = []\n",
    "    \n",
    "    # derived parameters\n",
    "    a = p['L'] / p['N']\n",
    "    E0 = p['N'] / p['L'] * hbarc\n",
    "    DT = 1.0 / p['DTS']\n",
    "    maxt = int(p['TMAX'] / a) * p['DTS']\n",
    "    \n",
    "    start_t = 1\n",
    "    \n",
    "    # event loop\n",
    "    \n",
    "    with tqdm(total=p['NE'], file=sys.stdout) as pbar:\n",
    "        for e in range(p['NE']):\n",
    "            pbar.set_description('Event {:3d}'.format(e))\n",
    "            pbar.update(1)\n",
    "\n",
    "            # initialization\n",
    "            s = core.Simulation(p['N'], DT, p['G'])\n",
    "            va = mv.wilson(s, mu=p['MU'] / E0, m=p['M'] / E0, uv=p['UV'] / E0, num_sheets=p['NS'])\n",
    "            vb = mv.wilson(s, mu=p['MU'] / E0, m=p['M'] / E0, uv=p['UV'] / E0, num_sheets=p['NS'])\n",
    "            initial.init(s, va, vb)\n",
    "\n",
    "            # initialize energy computation\n",
    "            en = Energy(s)\n",
    "\n",
    "            # temporary results\n",
    "\n",
    "            EL = []\n",
    "            BL = []\n",
    "            ET = []\n",
    "            BT = []\n",
    "\n",
    "            energy = []\n",
    "            pL = []\n",
    "            pT = []\n",
    "\n",
    "            taus = []\n",
    "\n",
    "            if use_cuda:\n",
    "                s.copy_to_device()\n",
    "                meminfo = cuda.current_context().get_memory_info()\n",
    "                # print(\"CUDA free memory: {:.2f} GB of {:.2f} GB.\".format(meminfo[0] / 1024 ** 3, meminfo[1] / 1024 ** 3))\n",
    "\n",
    "            for t in tqdm(range(maxt)):\n",
    "                core.evolve_leapfrog(s)\n",
    "\n",
    "                if t >= start_t:\n",
    "                    # unit factors (GeV^2)\n",
    "                    units = E0 ** 2 / (s.g ** 2)\n",
    "\n",
    "                    # color factors (for quarks)\n",
    "                    Nc = core.su.NC\n",
    "                    f = 2 * s.g ** 2 / (2 * Nc)\n",
    "\n",
    "                    # Energy density calculation\n",
    "                    en.compute()\n",
    "\n",
    "                    # unit factors (GeV^3)\n",
    "                    units = E0 ** 4\n",
    "                    EL.append(en.EL_mean * units)\n",
    "                    BL.append(en.BL_mean * units)\n",
    "                    ET.append(en.ET_mean * units)\n",
    "                    BT.append(en.BT_mean * units)\n",
    "\n",
    "                    # unit factors (Gev / fm^3)\n",
    "                    units = E0 ** 4 / hbarc ** 3\n",
    "                    energy.append(en.energy_density * units)\n",
    "\n",
    "                    pL.append(en.pL * units)\n",
    "                    pT.append(en.pT * units)\n",
    "\n",
    "                    taus.append(t)\n",
    "\n",
    "            energy = np.array(energy)\n",
    "\n",
    "            EL = np.array(EL)\n",
    "            BL = np.array(BL)\n",
    "            ET = np.array(ET)\n",
    "            BT = np.array(BT)\n",
    "\n",
    "            pL = np.array(pL)\n",
    "            pT = np.array(pT)\n",
    "\n",
    "            output[\"energy\"].append(energy)\n",
    "\n",
    "            output[\"EL\"].append(EL)\n",
    "            output[\"BL\"].append(BL)\n",
    "            output[\"ET\"].append(ET)\n",
    "            output[\"BT\"].append(BT)\n",
    "\n",
    "            output[\"pL\"].append(pL)\n",
    "            output[\"pT\"].append(pT)\n",
    "            \n",
    "    # perform average over events\n",
    "    \n",
    "    # also add standard deviations\n",
    "    output[\"energy_std\"] = np.std(np.array(output[\"energy\"]), axis=0)\n",
    "    \n",
    "    output[\"EL_std\"] = np.std(np.array(output[\"EL\"]), axis=0)\n",
    "    output[\"BL_std\"] = np.std(np.array(output[\"BL\"]), axis=0)\n",
    "    output[\"ET_std\"] = np.std(np.array(output[\"ET\"]), axis=0)\n",
    "    output[\"BT_std\"] = np.std(np.array(output[\"BT\"]), axis=0)\n",
    "    \n",
    "    output[\"pL_std\"] = np.std(np.array(output[\"pL\"]), axis=0)\n",
    "    output[\"pT_std\"] = np.std(np.array(output[\"pT\"]), axis=0)\n",
    "    \n",
    "    # compute means\n",
    "    output[\"energy\"] = np.mean(np.array(output[\"energy\"]), axis=0)\n",
    "    \n",
    "    output[\"EL\"] = np.mean(np.array(output[\"EL\"]), axis=0)\n",
    "    output[\"BL\"] = np.mean(np.array(output[\"BL\"]), axis=0)\n",
    "    output[\"ET\"] = np.mean(np.array(output[\"ET\"]), axis=0)\n",
    "    output[\"BT\"] = np.mean(np.array(output[\"BT\"]), axis=0)\n",
    "    \n",
    "    output[\"pL\"] = np.mean(np.array(output[\"pL\"]), axis=0)\n",
    "    output[\"pT\"] = np.mean(np.array(output[\"pT\"]), axis=0)\n",
    "    \n",
    "    # more useful stuff\n",
    "    output[\"tau\"] = np.array(taus) / np.max(taus) * p[\"TMAX\"]\n",
    "    output[\"E0\"] = E0\n",
    "    \n",
    "    if use_cuda:\n",
    "        cuda.current_context().deallocations.clear()\n",
    "    \n",
    "    return output"
   ]
  },
  {
   "cell_type": "code",
   "execution_count": 3,
   "metadata": {},
   "outputs": [
    {
     "data": {
      "application/vnd.jupyter.widget-view+json": {
       "model_id": "fdb66ec5812c4317b61c6fe9451b785a",
       "version_major": 2,
       "version_minor": 0
      },
      "text/plain": [
       "HBox(children=(IntProgress(value=0, max=50), HTML(value='')))"
      ]
     },
     "metadata": {},
     "output_type": "display_data"
    },
    {
     "data": {
      "application/vnd.jupyter.widget-view+json": {
       "model_id": "a5fbda6fdd4244ec94db525f4c09c57b",
       "version_major": 2,
       "version_minor": 0
      },
      "text/plain": [
       "HBox(children=(IntProgress(value=0, max=1360), HTML(value='')))"
      ]
     },
     "metadata": {},
     "output_type": "display_data"
    },
    {
     "data": {
      "application/vnd.jupyter.widget-view+json": {
       "model_id": "04c27d6c93c94fbbaa2c43437a67543a",
       "version_major": 2,
       "version_minor": 0
      },
      "text/plain": [
       "HBox(children=(IntProgress(value=0, max=1360), HTML(value='')))"
      ]
     },
     "metadata": {},
     "output_type": "display_data"
    },
    {
     "data": {
      "application/vnd.jupyter.widget-view+json": {
       "model_id": "7f068e1e0d514ca5854a4f3aef54babe",
       "version_major": 2,
       "version_minor": 0
      },
      "text/plain": [
       "HBox(children=(IntProgress(value=0, max=1360), HTML(value='')))"
      ]
     },
     "metadata": {},
     "output_type": "display_data"
    },
    {
     "data": {
      "application/vnd.jupyter.widget-view+json": {
       "model_id": "b893596c4be24b9cbc69bbf7d960051a",
       "version_major": 2,
       "version_minor": 0
      },
      "text/plain": [
       "HBox(children=(IntProgress(value=0, max=1360), HTML(value='')))"
      ]
     },
     "metadata": {},
     "output_type": "display_data"
    },
    {
     "data": {
      "application/vnd.jupyter.widget-view+json": {
       "model_id": "2ef9b6691875472e88cc5773d9ad65d5",
       "version_major": 2,
       "version_minor": 0
      },
      "text/plain": [
       "HBox(children=(IntProgress(value=0, max=1360), HTML(value='')))"
      ]
     },
     "metadata": {},
     "output_type": "display_data"
    },
    {
     "data": {
      "application/vnd.jupyter.widget-view+json": {
       "model_id": "cbe50da64e5e4cf9bcd2bac97557b39f",
       "version_major": 2,
       "version_minor": 0
      },
      "text/plain": [
       "HBox(children=(IntProgress(value=0, max=1360), HTML(value='')))"
      ]
     },
     "metadata": {},
     "output_type": "display_data"
    },
    {
     "data": {
      "application/vnd.jupyter.widget-view+json": {
       "model_id": "c15f73e0f30e4a8484c6462c5186e780",
       "version_major": 2,
       "version_minor": 0
      },
      "text/plain": [
       "HBox(children=(IntProgress(value=0, max=1360), HTML(value='')))"
      ]
     },
     "metadata": {},
     "output_type": "display_data"
    },
    {
     "data": {
      "application/vnd.jupyter.widget-view+json": {
       "model_id": "38a9f73b58d94c86ad97c14858408a20",
       "version_major": 2,
       "version_minor": 0
      },
      "text/plain": [
       "HBox(children=(IntProgress(value=0, max=1360), HTML(value='')))"
      ]
     },
     "metadata": {},
     "output_type": "display_data"
    },
    {
     "data": {
      "application/vnd.jupyter.widget-view+json": {
       "model_id": "aa3e3e4686a341989b1871fecc456bec",
       "version_major": 2,
       "version_minor": 0
      },
      "text/plain": [
       "HBox(children=(IntProgress(value=0, max=1360), HTML(value='')))"
      ]
     },
     "metadata": {},
     "output_type": "display_data"
    },
    {
     "data": {
      "application/vnd.jupyter.widget-view+json": {
       "model_id": "d949c5710ddc45259cd0b793ab77b69e",
       "version_major": 2,
       "version_minor": 0
      },
      "text/plain": [
       "HBox(children=(IntProgress(value=0, max=1360), HTML(value='')))"
      ]
     },
     "metadata": {},
     "output_type": "display_data"
    },
    {
     "data": {
      "application/vnd.jupyter.widget-view+json": {
       "model_id": "07f6987ce9ce42b394978019117c2d68",
       "version_major": 2,
       "version_minor": 0
      },
      "text/plain": [
       "HBox(children=(IntProgress(value=0, max=1360), HTML(value='')))"
      ]
     },
     "metadata": {},
     "output_type": "display_data"
    },
    {
     "data": {
      "application/vnd.jupyter.widget-view+json": {
       "model_id": "824fed7aa4c8429db1be909d6355939b",
       "version_major": 2,
       "version_minor": 0
      },
      "text/plain": [
       "HBox(children=(IntProgress(value=0, max=1360), HTML(value='')))"
      ]
     },
     "metadata": {},
     "output_type": "display_data"
    },
    {
     "data": {
      "application/vnd.jupyter.widget-view+json": {
       "model_id": "1740fa531e8e43c080744c32b78053bb",
       "version_major": 2,
       "version_minor": 0
      },
      "text/plain": [
       "HBox(children=(IntProgress(value=0, max=1360), HTML(value='')))"
      ]
     },
     "metadata": {},
     "output_type": "display_data"
    },
    {
     "data": {
      "application/vnd.jupyter.widget-view+json": {
       "model_id": "a37ee1f0b0e34ee99a37a019cc2fb9b7",
       "version_major": 2,
       "version_minor": 0
      },
      "text/plain": [
       "HBox(children=(IntProgress(value=0, max=1360), HTML(value='')))"
      ]
     },
     "metadata": {},
     "output_type": "display_data"
    },
    {
     "data": {
      "application/vnd.jupyter.widget-view+json": {
       "model_id": "40efefccc3ce4fc59fdb529e105adccd",
       "version_major": 2,
       "version_minor": 0
      },
      "text/plain": [
       "HBox(children=(IntProgress(value=0, max=1360), HTML(value='')))"
      ]
     },
     "metadata": {},
     "output_type": "display_data"
    },
    {
     "data": {
      "application/vnd.jupyter.widget-view+json": {
       "model_id": "b6e7ff79223742d2bd31636d4d0f45d4",
       "version_major": 2,
       "version_minor": 0
      },
      "text/plain": [
       "HBox(children=(IntProgress(value=0, max=1360), HTML(value='')))"
      ]
     },
     "metadata": {},
     "output_type": "display_data"
    },
    {
     "data": {
      "application/vnd.jupyter.widget-view+json": {
       "model_id": "15fde24e20a7482e98f2a1c78ded32d4",
       "version_major": 2,
       "version_minor": 0
      },
      "text/plain": [
       "HBox(children=(IntProgress(value=0, max=1360), HTML(value='')))"
      ]
     },
     "metadata": {},
     "output_type": "display_data"
    },
    {
     "data": {
      "application/vnd.jupyter.widget-view+json": {
       "model_id": "365a4905cce14abe9da0d2223c289f1f",
       "version_major": 2,
       "version_minor": 0
      },
      "text/plain": [
       "HBox(children=(IntProgress(value=0, max=1360), HTML(value='')))"
      ]
     },
     "metadata": {},
     "output_type": "display_data"
    },
    {
     "data": {
      "application/vnd.jupyter.widget-view+json": {
       "model_id": "3a1c2a6936d945328f1839a72ab976bf",
       "version_major": 2,
       "version_minor": 0
      },
      "text/plain": [
       "HBox(children=(IntProgress(value=0, max=1360), HTML(value='')))"
      ]
     },
     "metadata": {},
     "output_type": "display_data"
    },
    {
     "data": {
      "application/vnd.jupyter.widget-view+json": {
       "model_id": "6f54d089ce764539a552268b43be9f8b",
       "version_major": 2,
       "version_minor": 0
      },
      "text/plain": [
       "HBox(children=(IntProgress(value=0, max=1360), HTML(value='')))"
      ]
     },
     "metadata": {},
     "output_type": "display_data"
    },
    {
     "data": {
      "application/vnd.jupyter.widget-view+json": {
       "model_id": "3e00932033b84f2c8fbf15804cbdfa01",
       "version_major": 2,
       "version_minor": 0
      },
      "text/plain": [
       "HBox(children=(IntProgress(value=0, max=1360), HTML(value='')))"
      ]
     },
     "metadata": {},
     "output_type": "display_data"
    },
    {
     "data": {
      "application/vnd.jupyter.widget-view+json": {
       "model_id": "abfb0dadd6594198ada2812d814bc717",
       "version_major": 2,
       "version_minor": 0
      },
      "text/plain": [
       "HBox(children=(IntProgress(value=0, max=1360), HTML(value='')))"
      ]
     },
     "metadata": {},
     "output_type": "display_data"
    },
    {
     "data": {
      "application/vnd.jupyter.widget-view+json": {
       "model_id": "0578bdf22f644c828ee2cca4a3773b1e",
       "version_major": 2,
       "version_minor": 0
      },
      "text/plain": [
       "HBox(children=(IntProgress(value=0, max=1360), HTML(value='')))"
      ]
     },
     "metadata": {},
     "output_type": "display_data"
    },
    {
     "data": {
      "application/vnd.jupyter.widget-view+json": {
       "model_id": "2e0ba7ed496749efa1c389af4b3473c0",
       "version_major": 2,
       "version_minor": 0
      },
      "text/plain": [
       "HBox(children=(IntProgress(value=0, max=1360), HTML(value='')))"
      ]
     },
     "metadata": {},
     "output_type": "display_data"
    },
    {
     "data": {
      "application/vnd.jupyter.widget-view+json": {
       "model_id": "5e1cd049bc184cd3b00a6ba31ff50145",
       "version_major": 2,
       "version_minor": 0
      },
      "text/plain": [
       "HBox(children=(IntProgress(value=0, max=1360), HTML(value='')))"
      ]
     },
     "metadata": {},
     "output_type": "display_data"
    },
    {
     "data": {
      "application/vnd.jupyter.widget-view+json": {
       "model_id": "e55a9ef54ea84109a346c06f45e597fa",
       "version_major": 2,
       "version_minor": 0
      },
      "text/plain": [
       "HBox(children=(IntProgress(value=0, max=1360), HTML(value='')))"
      ]
     },
     "metadata": {},
     "output_type": "display_data"
    },
    {
     "data": {
      "application/vnd.jupyter.widget-view+json": {
       "model_id": "9810123efae142da9fda3a298ce4b879",
       "version_major": 2,
       "version_minor": 0
      },
      "text/plain": [
       "HBox(children=(IntProgress(value=0, max=1360), HTML(value='')))"
      ]
     },
     "metadata": {},
     "output_type": "display_data"
    },
    {
     "data": {
      "application/vnd.jupyter.widget-view+json": {
       "model_id": "2fd05f700d6d4ebeb726d089a2c5eaea",
       "version_major": 2,
       "version_minor": 0
      },
      "text/plain": [
       "HBox(children=(IntProgress(value=0, max=1360), HTML(value='')))"
      ]
     },
     "metadata": {},
     "output_type": "display_data"
    },
    {
     "data": {
      "application/vnd.jupyter.widget-view+json": {
       "model_id": "5f59e34fbe1d4d199d91e5c7b6957c60",
       "version_major": 2,
       "version_minor": 0
      },
      "text/plain": [
       "HBox(children=(IntProgress(value=0, max=1360), HTML(value='')))"
      ]
     },
     "metadata": {},
     "output_type": "display_data"
    },
    {
     "data": {
      "application/vnd.jupyter.widget-view+json": {
       "model_id": "a98558c583644d4c9abc4f9930177cee",
       "version_major": 2,
       "version_minor": 0
      },
      "text/plain": [
       "HBox(children=(IntProgress(value=0, max=1360), HTML(value='')))"
      ]
     },
     "metadata": {},
     "output_type": "display_data"
    },
    {
     "data": {
      "application/vnd.jupyter.widget-view+json": {
       "model_id": "6e75e7a711e340dfb2904ec2faa8b546",
       "version_major": 2,
       "version_minor": 0
      },
      "text/plain": [
       "HBox(children=(IntProgress(value=0, max=1360), HTML(value='')))"
      ]
     },
     "metadata": {},
     "output_type": "display_data"
    },
    {
     "data": {
      "application/vnd.jupyter.widget-view+json": {
       "model_id": "e062367e51fa41f79227d2b1f57f5672",
       "version_major": 2,
       "version_minor": 0
      },
      "text/plain": [
       "HBox(children=(IntProgress(value=0, max=1360), HTML(value='')))"
      ]
     },
     "metadata": {},
     "output_type": "display_data"
    },
    {
     "data": {
      "application/vnd.jupyter.widget-view+json": {
       "model_id": "b9b0f635796549039f99f7338104d770",
       "version_major": 2,
       "version_minor": 0
      },
      "text/plain": [
       "HBox(children=(IntProgress(value=0, max=1360), HTML(value='')))"
      ]
     },
     "metadata": {},
     "output_type": "display_data"
    },
    {
     "data": {
      "application/vnd.jupyter.widget-view+json": {
       "model_id": "4f9b243acb2c43fe89ffba6b18d0f30b",
       "version_major": 2,
       "version_minor": 0
      },
      "text/plain": [
       "HBox(children=(IntProgress(value=0, max=1360), HTML(value='')))"
      ]
     },
     "metadata": {},
     "output_type": "display_data"
    },
    {
     "data": {
      "application/vnd.jupyter.widget-view+json": {
       "model_id": "be4a346d97114504825da7dbb656894a",
       "version_major": 2,
       "version_minor": 0
      },
      "text/plain": [
       "HBox(children=(IntProgress(value=0, max=1360), HTML(value='')))"
      ]
     },
     "metadata": {},
     "output_type": "display_data"
    },
    {
     "data": {
      "application/vnd.jupyter.widget-view+json": {
       "model_id": "572c1112a59f4dde88a3bd8575ede398",
       "version_major": 2,
       "version_minor": 0
      },
      "text/plain": [
       "HBox(children=(IntProgress(value=0, max=1360), HTML(value='')))"
      ]
     },
     "metadata": {},
     "output_type": "display_data"
    },
    {
     "data": {
      "application/vnd.jupyter.widget-view+json": {
       "model_id": "39055fa502c043349ab4b694fc328419",
       "version_major": 2,
       "version_minor": 0
      },
      "text/plain": [
       "HBox(children=(IntProgress(value=0, max=1360), HTML(value='')))"
      ]
     },
     "metadata": {},
     "output_type": "display_data"
    },
    {
     "data": {
      "application/vnd.jupyter.widget-view+json": {
       "model_id": "fe11c51aa72b4ced974d224d6ae081dc",
       "version_major": 2,
       "version_minor": 0
      },
      "text/plain": [
       "HBox(children=(IntProgress(value=0, max=1360), HTML(value='')))"
      ]
     },
     "metadata": {},
     "output_type": "display_data"
    },
    {
     "data": {
      "application/vnd.jupyter.widget-view+json": {
       "model_id": "15011756fbc6435e8b8977d350a84658",
       "version_major": 2,
       "version_minor": 0
      },
      "text/plain": [
       "HBox(children=(IntProgress(value=0, max=1360), HTML(value='')))"
      ]
     },
     "metadata": {},
     "output_type": "display_data"
    },
    {
     "data": {
      "application/vnd.jupyter.widget-view+json": {
       "model_id": "38a70dec04834f41976c482e7c4b2fd7",
       "version_major": 2,
       "version_minor": 0
      },
      "text/plain": [
       "HBox(children=(IntProgress(value=0, max=1360), HTML(value='')))"
      ]
     },
     "metadata": {},
     "output_type": "display_data"
    },
    {
     "data": {
      "application/vnd.jupyter.widget-view+json": {
       "model_id": "247808c2b0e248be9124a2a665e47104",
       "version_major": 2,
       "version_minor": 0
      },
      "text/plain": [
       "HBox(children=(IntProgress(value=0, max=1360), HTML(value='')))"
      ]
     },
     "metadata": {},
     "output_type": "display_data"
    },
    {
     "data": {
      "application/vnd.jupyter.widget-view+json": {
       "model_id": "a193d48b38af4d62851d92f312dc7e03",
       "version_major": 2,
       "version_minor": 0
      },
      "text/plain": [
       "HBox(children=(IntProgress(value=0, max=1360), HTML(value='')))"
      ]
     },
     "metadata": {},
     "output_type": "display_data"
    },
    {
     "data": {
      "application/vnd.jupyter.widget-view+json": {
       "model_id": "47e70f0c2c144338b8a4782df4ec3fa2",
       "version_major": 2,
       "version_minor": 0
      },
      "text/plain": [
       "HBox(children=(IntProgress(value=0, max=1360), HTML(value='')))"
      ]
     },
     "metadata": {},
     "output_type": "display_data"
    },
    {
     "data": {
      "application/vnd.jupyter.widget-view+json": {
       "model_id": "ae8cbbc7165e4a67aff247c78d4ea05b",
       "version_major": 2,
       "version_minor": 0
      },
      "text/plain": [
       "HBox(children=(IntProgress(value=0, max=1360), HTML(value='')))"
      ]
     },
     "metadata": {},
     "output_type": "display_data"
    },
    {
     "data": {
      "application/vnd.jupyter.widget-view+json": {
       "model_id": "0643c1899b3840659e6986c5fe226ae7",
       "version_major": 2,
       "version_minor": 0
      },
      "text/plain": [
       "HBox(children=(IntProgress(value=0, max=1360), HTML(value='')))"
      ]
     },
     "metadata": {},
     "output_type": "display_data"
    },
    {
     "data": {
      "application/vnd.jupyter.widget-view+json": {
       "model_id": "82ff073843f547219131dc50c7b49e50",
       "version_major": 2,
       "version_minor": 0
      },
      "text/plain": [
       "HBox(children=(IntProgress(value=0, max=1360), HTML(value='')))"
      ]
     },
     "metadata": {},
     "output_type": "display_data"
    },
    {
     "data": {
      "application/vnd.jupyter.widget-view+json": {
       "model_id": "d9ba5c36c2f84047823a3594fd6bf431",
       "version_major": 2,
       "version_minor": 0
      },
      "text/plain": [
       "HBox(children=(IntProgress(value=0, max=1360), HTML(value='')))"
      ]
     },
     "metadata": {},
     "output_type": "display_data"
    },
    {
     "data": {
      "application/vnd.jupyter.widget-view+json": {
       "model_id": "f421763971324ff7b3d49b5cfc9bdf5a",
       "version_major": 2,
       "version_minor": 0
      },
      "text/plain": [
       "HBox(children=(IntProgress(value=0, max=1360), HTML(value='')))"
      ]
     },
     "metadata": {},
     "output_type": "display_data"
    },
    {
     "data": {
      "application/vnd.jupyter.widget-view+json": {
       "model_id": "1da3066c59e14d11a626d3e26142ddfc",
       "version_major": 2,
       "version_minor": 0
      },
      "text/plain": [
       "HBox(children=(IntProgress(value=0, max=1360), HTML(value='')))"
      ]
     },
     "metadata": {},
     "output_type": "display_data"
    },
    {
     "data": {
      "application/vnd.jupyter.widget-view+json": {
       "model_id": "9e18228e1d1342e99a61db73d96fbe2e",
       "version_major": 2,
       "version_minor": 0
      },
      "text/plain": [
       "HBox(children=(IntProgress(value=0, max=1360), HTML(value='')))"
      ]
     },
     "metadata": {},
     "output_type": "display_data"
    },
    {
     "name": "stdout",
     "output_type": "stream",
     "text": [
      "\n",
      "1840.33s\n"
     ]
    }
   ],
   "source": [
    "# We compute everything for g^2 \\mu = 1 GeV and then rescale the results.\n",
    "\n",
    "g2mu = 1.0                     # [GeV]\n",
    "RA = 67.7 / (g2mu / hbarc)     # Radius of the nucleus in [fm]\n",
    "F = np.pi * RA ** 2            # Transverse area [fm^2]\n",
    "L = np.sqrt(F)                 # Length of the simulation box [fm]\n",
    "g = 2.0                        # Coupling constant\n",
    "mu = g2mu / g ** 2             # MV model parameter [GeV]\n",
    "m = 0.00001                    # No infrared regulation, except global charge neutrality\n",
    "tau_max = 10.0 / g2mu * hbarc  # Maximum proper time\n",
    "\n",
    "p_lappi = {    \n",
    "    'L':    L,                 # transverse size [fm]\n",
    "    'N':    1024,              # lattice size\n",
    "    'DTS':  16,                # time steps per transverse spacing\n",
    "    'TMAX': tau_max,           # max. proper time (tau) [fm/c]\n",
    "\n",
    "    'G':    g,                 # YM coupling constant\n",
    "    'MU':   mu,                # MV model parameter [GeV]\n",
    "    'M':    m,                 # IR regulator [GeV]\n",
    "    'UV':   100000.0,          # UV regulator [GeV]\n",
    "    'NS':   1,                 # number of color sheets\n",
    "\n",
    "    'NE':   50,                # number of events\n",
    "}\n",
    "\n",
    "from time import time\n",
    "t1 = time()\n",
    "r_lappi = compute(p_lappi)\n",
    "t2 = time()\n",
    "\n",
    "print(\"{:3.2f}s\".format(t2-t1))"
   ]
  },
  {
   "cell_type": "code",
   "execution_count": 4,
   "metadata": {},
   "outputs": [
    {
     "data": {
      "image/png": "[encoded data removed]",
      "text/plain": [
       "<Figure size 432x288 with 1 Axes>"
      ]
     },
     "metadata": {
      "needs_background": "light"
     },
     "output_type": "display_data"
    }
   ],
   "source": [
    "r = r_lappi\n",
    "tau = r[\"tau\"] / hbarc\n",
    "plt.errorbar(tau, r[\"ET\"], yerr=r[\"ET_std\"], errorevery=100, label=\"ET\")\n",
    "plt.errorbar(tau, r[\"BT\"], yerr=r[\"BT_std\"], errorevery=100, label=\"BT\")\n",
    "plt.errorbar(tau, r[\"EL\"], yerr=r[\"EL_std\"], errorevery=100, label=\"EL\")\n",
    "plt.errorbar(tau, r[\"BL\"], yerr=r[\"BL_std\"], errorevery=100, label=\"BL\")\n",
    "\n",
    "plt.ylabel(\"$\\\\tau \\\\varepsilon / (g^2 \\mu)^3$\")\n",
    "plt.xlabel(\"$g^2 \\mu \\\\tau$\")\n",
    "plt.legend()\n",
    "plt.show()\n",
    "#plt.ylabel(\"$\\\\tau \\epsilon \\quad [ \\mathrm{GeV} / \\mathrm{fm}^2 ]$\")"
   ]
  },
  {
   "cell_type": "code",
   "execution_count": 9,
   "metadata": {},
   "outputs": [
    {
     "data": {
      "image/png": "[encoded data removed]",
      "text/plain": [
       "<Figure size 432x288 with 1 Axes>"
      ]
     },
     "metadata": {
      "needs_background": "light"
     },
     "output_type": "display_data"
    }
   ],
   "source": [
    "plt.errorbar(tau, r[\"energy\"] * hbarc ** 3, yerr=r[\"energy_std\"] * hbarc ** 3, errorevery=20)\n",
    "plt.xlabel(\"$g^2 \\\\mu \\\\tau$\")\n",
    "plt.show()"
   ]
  },
  {
   "cell_type": "code",
   "execution_count": 27,
   "metadata": {},
   "outputs": [
    {
     "name": "stdout",
     "output_type": "stream",
     "text": [
      "\\varepsilon(\\tau_0) = 0.2620162199540403 (g^2 \\mu)^4 / g^2\n"
     ]
    }
   ],
   "source": [
    "# energy density at specific tau\n",
    "tau_eval = 1.0\n",
    "tau_eval_index = np.argmin(np.abs(tau - tau_eval))\n",
    "energy_dimless = r[\"energy\"][tau_eval_index] * hbarc ** 3 * g ** 2\n",
    "\n",
    "print(\"\\\\varepsilon(\\\\tau_0) = {} (g^2 \\\\mu)^4 / g^2\".format(energy_dimless))"
   ]
  },
  {
   "cell_type": "code",
   "execution_count": 23,
   "metadata": {},
   "outputs": [
    {
     "name": "stdout",
     "output_type": "stream",
     "text": [
      "Energy density at 'RHIC': 136.40655194743152 GeV/fm^3\n",
      "Energy density at 'LHC': 690.558169233872 GeV/fm^3\n"
     ]
    }
   ],
   "source": [
    "energy_RHIC = energy_dimless * 2.0 ** 4 / hbarc ** 3 / g ** 2\n",
    "energy_LHC = energy_dimless * 3.0 ** 4 / hbarc ** 3 / g ** 2\n",
    "\n",
    "print(\"Energy density at 'RHIC': {} GeV/fm^3\".format(energy_RHIC))\n",
    "print(\"Energy density at 'LHC': {} GeV/fm^3\".format(energy_LHC))"
   ]
  }
 ],
 "metadata": {
  "kernelspec": {
   "display_name": "Python 3",
   "language": "python",
   "name": "python3"
  },
  "language_info": {
   "codemirror_mode": {
    "name": "ipython",
    "version": 3
   },
   "file_extension": ".py",
   "mimetype": "text/x-python",
   "name": "python",
   "nbconvert_exporter": "python",
   "pygments_lexer": "ipython3",
   "version": "3.7.1"
  }
 },
 "nbformat": 4,
 "nbformat_minor": 2
}
