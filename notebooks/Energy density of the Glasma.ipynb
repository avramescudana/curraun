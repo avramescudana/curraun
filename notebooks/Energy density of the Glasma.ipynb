{
 "cells": [
  {
   "cell_type": "markdown",
   "metadata": {},
   "source": [
    "# Computing the energy density of the Glasma in the MV model\n",
    "\n",
    "In this notebook we compute the energy density of the Glasma in the MV model and compare the result to Tuomas Lappi's value from 2006 (see [**arXiv:hep-ph/0606207**](https://arxiv.org/abs/hep-ph/0606207)). By reproducing the same energy density we can be sure that our code works correctly. At $\\tau_0 = 1.0 / g^2 \\mu$ we obtain $\\varepsilon(\\tau_0) = 0.262 (g^2 \\mu)^4 / g^2 $ which translates to $\\varepsilon(\\tau_0) = 136 \\, \\mathrm{GeV} / \\mathrm{fm}^3$ for $g^2 \\mu = 2.0 \\, \\mathrm{GeV}$ and $\\varepsilon(\\tau_0) = 691 \\, \\mathrm{GeV} / \\mathrm{fm}^3$ for $g^2 \\mu = 3.0 \\, \\mathrm{GeV}$. The numbers from [**arXiv:hep-ph/0606207**](https://arxiv.org/abs/hep-ph/0606207) are $130 \\, \\mathrm{GeV} / \\mathrm{fm}^3$ and $700 \\, \\mathrm{GeV} / \\mathrm{fm}^3$. Close enough."
   ]
  },
  {
   "cell_type": "code",
   "execution_count": 1,
   "metadata": {},
   "outputs": [
    {
     "name": "stdout",
     "output_type": "stream",
     "text": [
      "Using CUDA\n",
      "Using SU(3)\n",
      "Using double precision\n"
     ]
    }
   ],
   "source": [
    "# Set environment variables \n",
    "import os\n",
    "os.environ[\"MY_NUMBA_TARGET\"] = \"cuda\"\n",
    "os.environ[\"GAUGE_GROUP\"] = \"su3\"\n",
    "os.environ[\"PRECISION\"] = \"double\"\n",
    "\n",
    "# This line is necessary, because cupy otherwise doesn't find\n",
    "# the cuda installation path. This is probably a configuration\n",
    "# issue and should be removed on other machines.\n",
    "os.environ[\"CUDA_PATH\"] = \"/usr/local/cuda-9.0\"\n",
    "\n",
    "# Import curraun and other packages\n",
    "import sys\n",
    "sys.path.append('..')\n",
    "\n",
    "import curraun.core as core\n",
    "import curraun.mv as mv\n",
    "from curraun.energy import Energy\n",
    "import curraun.initial as initial\n",
    "initial.DEBUG = False\n",
    "\n",
    "from curraun.numba_target import use_cuda, use_numba\n",
    "if use_cuda:\n",
    "    from numba import cuda\n",
    "\n",
    "import numpy as np\n",
    "import pickle, datetime\n",
    "from tqdm import tqdm\n",
    "import matplotlib.pyplot as plt\n",
    "\n",
    "from matplotlib import rc\n",
    "rc('text', usetex=True)\n",
    "plt.rcParams[\"figure.figsize\"] = (10, 7)\n",
    "plt.rcParams.update({'font.size':18})\n",
    "\n",
    "# define hbar * c in units of GeV * fm\n",
    "hbarc = 0.197326 "
   ]
  },
  {
   "cell_type": "code",
   "execution_count": 2,
   "metadata": {},
   "outputs": [],
   "source": [
    "def compute(p):    \n",
    "    # output dictionary\n",
    "    output = {}\n",
    "    output[\"energy\"] = []\n",
    "    \n",
    "    output[\"EL\"] = []\n",
    "    output[\"BL\"] = []\n",
    "    output[\"ET\"] = []\n",
    "    output[\"BT\"] = []\n",
    "    \n",
    "    output[\"pL\"] = []\n",
    "    output[\"pT\"] = []\n",
    "    \n",
    "    # derived parameters\n",
    "    a = p['L'] / p['N']\n",
    "    E0 = p['N'] / p['L'] * hbarc\n",
    "    DT = 1.0 / p['DTS']\n",
    "    maxt = int(p['TMAX'] / a) * p['DTS']\n",
    "    \n",
    "    start_t = 1\n",
    "    \n",
    "    # event loop\n",
    "    for e in range(p['NE']):\n",
    "        print(\"Simulating event {} of {}\".format(e+1, p['NE']))\n",
    "\n",
    "        # initialization\n",
    "        s = core.Simulation(p['N'], DT, p['G'])\n",
    "        va = mv.wilson(s, mu=p['MU'] / E0, m=p['M'] / E0, uv=p['UV'] / E0, num_sheets=p['NS'])\n",
    "        vb = mv.wilson(s, mu=p['MU'] / E0, m=p['M'] / E0, uv=p['UV'] / E0, num_sheets=p['NS'])\n",
    "        initial.init(s, va, vb)\n",
    "\n",
    "        # initialize energy computation\n",
    "        en = Energy(s)\n",
    "\n",
    "        # temporary results\n",
    "\n",
    "        EL = []\n",
    "        BL = []\n",
    "        ET = []\n",
    "        BT = []\n",
    "\n",
    "        energy = []\n",
    "        pL = []\n",
    "        pT = []\n",
    "\n",
    "        taus = []\n",
    "\n",
    "        if use_cuda:\n",
    "            s.copy_to_device()\n",
    "            meminfo = cuda.current_context().get_memory_info()\n",
    "            # print(\"CUDA free memory: {:.2f} GB of {:.2f} GB.\".format(meminfo[0] / 1024 ** 3, meminfo[1] / 1024 ** 3))\n",
    "\n",
    "        for t in tqdm(range(maxt)):\n",
    "            core.evolve_leapfrog(s)\n",
    "\n",
    "            if t >= start_t:\n",
    "                # unit factors (GeV^2)\n",
    "                units = E0 ** 2 / (s.g ** 2)\n",
    "\n",
    "                # color factors (for quarks)\n",
    "                Nc = core.su.NC\n",
    "                f = 2 * s.g ** 2 / (2 * Nc)\n",
    "\n",
    "                # Energy density calculation\n",
    "                en.compute()\n",
    "\n",
    "                # unit factors (GeV^3)\n",
    "                units = E0 ** 4\n",
    "                EL.append(en.EL_mean * units)\n",
    "                BL.append(en.BL_mean * units)\n",
    "                ET.append(en.ET_mean * units)\n",
    "                BT.append(en.BT_mean * units)\n",
    "\n",
    "                # unit factors (Gev / fm^3)\n",
    "                units = E0 ** 4 / hbarc ** 3\n",
    "                energy.append(en.energy_density * units)\n",
    "\n",
    "                pL.append(en.pL * units)\n",
    "                pT.append(en.pT * units)\n",
    "\n",
    "                taus.append(t)\n",
    "\n",
    "        energy = np.array(energy)\n",
    "\n",
    "        EL = np.array(EL)\n",
    "        BL = np.array(BL)\n",
    "        ET = np.array(ET)\n",
    "        BT = np.array(BT)\n",
    "\n",
    "        pL = np.array(pL)\n",
    "        pT = np.array(pT)\n",
    "\n",
    "        output[\"energy\"].append(energy)\n",
    "\n",
    "        output[\"EL\"].append(EL)\n",
    "        output[\"BL\"].append(BL)\n",
    "        output[\"ET\"].append(ET)\n",
    "        output[\"BT\"].append(BT)\n",
    "\n",
    "        output[\"pL\"].append(pL)\n",
    "        output[\"pT\"].append(pT)\n",
    "            \n",
    "    # perform average over events\n",
    "    \n",
    "    # also add standard deviations\n",
    "    output[\"energy_std\"] = np.std(np.array(output[\"energy\"]), axis=0)\n",
    "    \n",
    "    output[\"EL_std\"] = np.std(np.array(output[\"EL\"]), axis=0)\n",
    "    output[\"BL_std\"] = np.std(np.array(output[\"BL\"]), axis=0)\n",
    "    output[\"ET_std\"] = np.std(np.array(output[\"ET\"]), axis=0)\n",
    "    output[\"BT_std\"] = np.std(np.array(output[\"BT\"]), axis=0)\n",
    "    \n",
    "    output[\"pL_std\"] = np.std(np.array(output[\"pL\"]), axis=0)\n",
    "    output[\"pT_std\"] = np.std(np.array(output[\"pT\"]), axis=0)\n",
    "    \n",
    "    # compute means\n",
    "    output[\"energy\"] = np.mean(np.array(output[\"energy\"]), axis=0)\n",
    "    \n",
    "    output[\"EL\"] = np.mean(np.array(output[\"EL\"]), axis=0)\n",
    "    output[\"BL\"] = np.mean(np.array(output[\"BL\"]), axis=0)\n",
    "    output[\"ET\"] = np.mean(np.array(output[\"ET\"]), axis=0)\n",
    "    output[\"BT\"] = np.mean(np.array(output[\"BT\"]), axis=0)\n",
    "    \n",
    "    output[\"pL\"] = np.mean(np.array(output[\"pL\"]), axis=0)\n",
    "    output[\"pT\"] = np.mean(np.array(output[\"pT\"]), axis=0)\n",
    "    \n",
    "    # more useful stuff\n",
    "    output[\"tau\"] = np.array(taus) / np.max(taus) * p[\"TMAX\"]\n",
    "    output[\"E0\"] = E0\n",
    "    \n",
    "    if use_cuda:\n",
    "        cuda.current_context().deallocations.clear()\n",
    "    \n",
    "    return output"
   ]
  },
  {
   "cell_type": "code",
   "execution_count": 3,
   "metadata": {},
   "outputs": [
    {
     "name": "stdout",
     "output_type": "stream",
     "text": [
      "Simulating event 1 of 50\n"
     ]
    },
    {
     "name": "stderr",
     "output_type": "stream",
     "text": [
      "100%|██████████| 1360/1360 [00:37<00:00, 39.95it/s]\n"
     ]
    },
    {
     "name": "stdout",
     "output_type": "stream",
     "text": [
      "Simulating event 2 of 50\n"
     ]
    },
    {
     "name": "stderr",
     "output_type": "stream",
     "text": [
      "100%|██████████| 1360/1360 [00:33<00:00, 40.11it/s]\n"
     ]
    },
    {
     "name": "stdout",
     "output_type": "stream",
     "text": [
      "Simulating event 3 of 50\n"
     ]
    },
    {
     "name": "stderr",
     "output_type": "stream",
     "text": [
      "100%|██████████| 1360/1360 [00:33<00:00, 39.97it/s]\n"
     ]
    },
    {
     "name": "stdout",
     "output_type": "stream",
     "text": [
      "Simulating event 4 of 50\n"
     ]
    },
    {
     "name": "stderr",
     "output_type": "stream",
     "text": [
      "100%|██████████| 1360/1360 [00:33<00:00, 40.34it/s]\n"
     ]
    },
    {
     "name": "stdout",
     "output_type": "stream",
     "text": [
      "Simulating event 5 of 50\n"
     ]
    },
    {
     "name": "stderr",
     "output_type": "stream",
     "text": [
      "100%|██████████| 1360/1360 [00:33<00:00, 40.07it/s]\n"
     ]
    },
    {
     "name": "stdout",
     "output_type": "stream",
     "text": [
      "Simulating event 6 of 50\n"
     ]
    },
    {
     "name": "stderr",
     "output_type": "stream",
     "text": [
      "100%|██████████| 1360/1360 [00:33<00:00, 40.00it/s]\n"
     ]
    },
    {
     "name": "stdout",
     "output_type": "stream",
     "text": [
      "Simulating event 7 of 50\n"
     ]
    },
    {
     "name": "stderr",
     "output_type": "stream",
     "text": [
      "100%|██████████| 1360/1360 [00:33<00:00, 40.15it/s]\n"
     ]
    },
    {
     "name": "stdout",
     "output_type": "stream",
     "text": [
      "Simulating event 8 of 50\n"
     ]
    },
    {
     "name": "stderr",
     "output_type": "stream",
     "text": [
      "100%|██████████| 1360/1360 [00:33<00:00, 40.22it/s]\n"
     ]
    },
    {
     "name": "stdout",
     "output_type": "stream",
     "text": [
      "Simulating event 9 of 50\n"
     ]
    },
    {
     "name": "stderr",
     "output_type": "stream",
     "text": [
      "100%|██████████| 1360/1360 [00:33<00:00, 40.02it/s]\n"
     ]
    },
    {
     "name": "stdout",
     "output_type": "stream",
     "text": [
      "Simulating event 10 of 50\n"
     ]
    },
    {
     "name": "stderr",
     "output_type": "stream",
     "text": [
      "100%|██████████| 1360/1360 [00:33<00:00, 40.31it/s]\n"
     ]
    },
    {
     "name": "stdout",
     "output_type": "stream",
     "text": [
      "Simulating event 11 of 50\n"
     ]
    },
    {
     "name": "stderr",
     "output_type": "stream",
     "text": [
      "100%|██████████| 1360/1360 [00:33<00:00, 40.06it/s]\n"
     ]
    },
    {
     "name": "stdout",
     "output_type": "stream",
     "text": [
      "Simulating event 12 of 50\n"
     ]
    },
    {
     "name": "stderr",
     "output_type": "stream",
     "text": [
      "100%|██████████| 1360/1360 [00:33<00:00, 40.26it/s]\n"
     ]
    },
    {
     "name": "stdout",
     "output_type": "stream",
     "text": [
      "Simulating event 13 of 50\n"
     ]
    },
    {
     "name": "stderr",
     "output_type": "stream",
     "text": [
      "100%|██████████| 1360/1360 [00:33<00:00, 40.05it/s]\n"
     ]
    },
    {
     "name": "stdout",
     "output_type": "stream",
     "text": [
      "Simulating event 14 of 50\n"
     ]
    },
    {
     "name": "stderr",
     "output_type": "stream",
     "text": [
      "100%|██████████| 1360/1360 [00:33<00:00, 40.31it/s]\n"
     ]
    },
    {
     "name": "stdout",
     "output_type": "stream",
     "text": [
      "Simulating event 15 of 50\n"
     ]
    },
    {
     "name": "stderr",
     "output_type": "stream",
     "text": [
      "100%|██████████| 1360/1360 [00:33<00:00, 40.06it/s]\n"
     ]
    },
    {
     "name": "stdout",
     "output_type": "stream",
     "text": [
      "Simulating event 16 of 50\n"
     ]
    },
    {
     "name": "stderr",
     "output_type": "stream",
     "text": [
      "100%|██████████| 1360/1360 [00:33<00:00, 40.27it/s]\n"
     ]
    },
    {
     "name": "stdout",
     "output_type": "stream",
     "text": [
      "Simulating event 17 of 50\n"
     ]
    },
    {
     "name": "stderr",
     "output_type": "stream",
     "text": [
      "100%|██████████| 1360/1360 [00:34<00:00, 39.97it/s]\n"
     ]
    },
    {
     "name": "stdout",
     "output_type": "stream",
     "text": [
      "Simulating event 18 of 50\n"
     ]
    },
    {
     "name": "stderr",
     "output_type": "stream",
     "text": [
      "100%|██████████| 1360/1360 [00:33<00:00, 40.30it/s]\n"
     ]
    },
    {
     "name": "stdout",
     "output_type": "stream",
     "text": [
      "Simulating event 19 of 50\n"
     ]
    },
    {
     "name": "stderr",
     "output_type": "stream",
     "text": [
      "100%|██████████| 1360/1360 [00:33<00:00, 40.01it/s]\n"
     ]
    },
    {
     "name": "stdout",
     "output_type": "stream",
     "text": [
      "Simulating event 20 of 50\n"
     ]
    },
    {
     "name": "stderr",
     "output_type": "stream",
     "text": [
      "100%|██████████| 1360/1360 [00:33<00:00, 40.19it/s]\n"
     ]
    },
    {
     "name": "stdout",
     "output_type": "stream",
     "text": [
      "Simulating event 21 of 50\n"
     ]
    },
    {
     "name": "stderr",
     "output_type": "stream",
     "text": [
      "100%|██████████| 1360/1360 [00:34<00:00, 39.98it/s]\n"
     ]
    },
    {
     "name": "stdout",
     "output_type": "stream",
     "text": [
      "Simulating event 22 of 50\n"
     ]
    },
    {
     "name": "stderr",
     "output_type": "stream",
     "text": [
      "100%|██████████| 1360/1360 [00:33<00:00, 39.13it/s]\n"
     ]
    },
    {
     "name": "stdout",
     "output_type": "stream",
     "text": [
      "Simulating event 23 of 50\n"
     ]
    },
    {
     "name": "stderr",
     "output_type": "stream",
     "text": [
      "100%|██████████| 1360/1360 [00:33<00:00, 40.02it/s]\n"
     ]
    },
    {
     "name": "stdout",
     "output_type": "stream",
     "text": [
      "Simulating event 24 of 50\n"
     ]
    },
    {
     "name": "stderr",
     "output_type": "stream",
     "text": [
      "100%|██████████| 1360/1360 [00:33<00:00, 40.22it/s]\n"
     ]
    },
    {
     "name": "stdout",
     "output_type": "stream",
     "text": [
      "Simulating event 25 of 50\n"
     ]
    },
    {
     "name": "stderr",
     "output_type": "stream",
     "text": [
      "100%|██████████| 1360/1360 [00:33<00:00, 40.05it/s]\n"
     ]
    },
    {
     "name": "stdout",
     "output_type": "stream",
     "text": [
      "Simulating event 26 of 50\n"
     ]
    },
    {
     "name": "stderr",
     "output_type": "stream",
     "text": [
      "100%|██████████| 1360/1360 [00:33<00:00, 40.00it/s]\n"
     ]
    },
    {
     "name": "stdout",
     "output_type": "stream",
     "text": [
      "Simulating event 27 of 50\n"
     ]
    },
    {
     "name": "stderr",
     "output_type": "stream",
     "text": [
      "100%|██████████| 1360/1360 [00:34<00:00, 40.00it/s]\n"
     ]
    },
    {
     "name": "stdout",
     "output_type": "stream",
     "text": [
      "Simulating event 28 of 50\n"
     ]
    },
    {
     "name": "stderr",
     "output_type": "stream",
     "text": [
      "100%|██████████| 1360/1360 [00:33<00:00, 40.21it/s]\n"
     ]
    },
    {
     "name": "stdout",
     "output_type": "stream",
     "text": [
      "Simulating event 29 of 50\n"
     ]
    },
    {
     "name": "stderr",
     "output_type": "stream",
     "text": [
      "100%|██████████| 1360/1360 [00:34<00:00, 39.95it/s]\n"
     ]
    },
    {
     "name": "stdout",
     "output_type": "stream",
     "text": [
      "Simulating event 30 of 50\n"
     ]
    },
    {
     "name": "stderr",
     "output_type": "stream",
     "text": [
      "100%|██████████| 1360/1360 [00:33<00:00, 40.25it/s]\n"
     ]
    },
    {
     "name": "stdout",
     "output_type": "stream",
     "text": [
      "Simulating event 31 of 50\n"
     ]
    },
    {
     "name": "stderr",
     "output_type": "stream",
     "text": [
      "100%|██████████| 1360/1360 [00:33<00:00, 40.06it/s]\n"
     ]
    },
    {
     "name": "stdout",
     "output_type": "stream",
     "text": [
      "Simulating event 32 of 50\n"
     ]
    },
    {
     "name": "stderr",
     "output_type": "stream",
     "text": [
      "100%|██████████| 1360/1360 [00:33<00:00, 40.34it/s]\n"
     ]
    },
    {
     "name": "stdout",
     "output_type": "stream",
     "text": [
      "Simulating event 33 of 50\n"
     ]
    },
    {
     "name": "stderr",
     "output_type": "stream",
     "text": [
      "100%|██████████| 1360/1360 [00:33<00:00, 40.11it/s]\n"
     ]
    },
    {
     "name": "stdout",
     "output_type": "stream",
     "text": [
      "Simulating event 34 of 50\n"
     ]
    },
    {
     "name": "stderr",
     "output_type": "stream",
     "text": [
      "100%|██████████| 1360/1360 [00:33<00:00, 40.29it/s]\n"
     ]
    },
    {
     "name": "stdout",
     "output_type": "stream",
     "text": [
      "Simulating event 35 of 50\n"
     ]
    },
    {
     "name": "stderr",
     "output_type": "stream",
     "text": [
      "100%|██████████| 1360/1360 [00:33<00:00, 40.02it/s]\n"
     ]
    },
    {
     "name": "stdout",
     "output_type": "stream",
     "text": [
      "Simulating event 36 of 50\n"
     ]
    },
    {
     "name": "stderr",
     "output_type": "stream",
     "text": [
      "100%|██████████| 1360/1360 [00:33<00:00, 40.23it/s]\n"
     ]
    },
    {
     "name": "stdout",
     "output_type": "stream",
     "text": [
      "Simulating event 37 of 50\n"
     ]
    },
    {
     "name": "stderr",
     "output_type": "stream",
     "text": [
      "100%|██████████| 1360/1360 [00:33<00:00, 40.06it/s]\n"
     ]
    },
    {
     "name": "stdout",
     "output_type": "stream",
     "text": [
      "Simulating event 38 of 50\n"
     ]
    },
    {
     "name": "stderr",
     "output_type": "stream",
     "text": [
      "100%|██████████| 1360/1360 [00:33<00:00, 40.21it/s]\n"
     ]
    },
    {
     "name": "stdout",
     "output_type": "stream",
     "text": [
      "Simulating event 39 of 50\n"
     ]
    },
    {
     "name": "stderr",
     "output_type": "stream",
     "text": [
      "100%|██████████| 1360/1360 [00:34<00:00, 39.58it/s]\n"
     ]
    },
    {
     "name": "stdout",
     "output_type": "stream",
     "text": [
      "Simulating event 40 of 50\n"
     ]
    },
    {
     "name": "stderr",
     "output_type": "stream",
     "text": [
      "100%|██████████| 1360/1360 [00:33<00:00, 40.04it/s]\n"
     ]
    },
    {
     "name": "stdout",
     "output_type": "stream",
     "text": [
      "Simulating event 41 of 50\n"
     ]
    },
    {
     "name": "stderr",
     "output_type": "stream",
     "text": [
      "100%|██████████| 1360/1360 [00:34<00:00, 39.91it/s]\n"
     ]
    },
    {
     "name": "stdout",
     "output_type": "stream",
     "text": [
      "Simulating event 42 of 50\n"
     ]
    },
    {
     "name": "stderr",
     "output_type": "stream",
     "text": [
      "100%|██████████| 1360/1360 [00:33<00:00, 40.18it/s]\n"
     ]
    },
    {
     "name": "stdout",
     "output_type": "stream",
     "text": [
      "Simulating event 43 of 50\n"
     ]
    },
    {
     "name": "stderr",
     "output_type": "stream",
     "text": [
      "100%|██████████| 1360/1360 [00:33<00:00, 40.00it/s]\n"
     ]
    },
    {
     "name": "stdout",
     "output_type": "stream",
     "text": [
      "Simulating event 44 of 50\n"
     ]
    },
    {
     "name": "stderr",
     "output_type": "stream",
     "text": [
      "100%|██████████| 1360/1360 [00:33<00:00, 40.25it/s]\n"
     ]
    },
    {
     "name": "stdout",
     "output_type": "stream",
     "text": [
      "Simulating event 45 of 50\n"
     ]
    },
    {
     "name": "stderr",
     "output_type": "stream",
     "text": [
      "100%|██████████| 1360/1360 [00:33<00:00, 40.18it/s]\n"
     ]
    },
    {
     "name": "stdout",
     "output_type": "stream",
     "text": [
      "Simulating event 46 of 50\n"
     ]
    },
    {
     "name": "stderr",
     "output_type": "stream",
     "text": [
      "100%|██████████| 1360/1360 [00:33<00:00, 40.31it/s]\n"
     ]
    },
    {
     "name": "stdout",
     "output_type": "stream",
     "text": [
      "Simulating event 47 of 50\n"
     ]
    },
    {
     "name": "stderr",
     "output_type": "stream",
     "text": [
      "100%|██████████| 1360/1360 [00:33<00:00, 40.05it/s]\n"
     ]
    },
    {
     "name": "stdout",
     "output_type": "stream",
     "text": [
      "Simulating event 48 of 50\n"
     ]
    },
    {
     "name": "stderr",
     "output_type": "stream",
     "text": [
      "100%|██████████| 1360/1360 [00:33<00:00, 40.24it/s]\n"
     ]
    },
    {
     "name": "stdout",
     "output_type": "stream",
     "text": [
      "Simulating event 49 of 50\n"
     ]
    },
    {
     "name": "stderr",
     "output_type": "stream",
     "text": [
      "100%|██████████| 1360/1360 [00:33<00:00, 40.17it/s]\n"
     ]
    },
    {
     "name": "stdout",
     "output_type": "stream",
     "text": [
      "Simulating event 50 of 50\n"
     ]
    },
    {
     "name": "stderr",
     "output_type": "stream",
     "text": [
      "100%|██████████| 1360/1360 [00:33<00:00, 40.31it/s]\n"
     ]
    },
    {
     "name": "stdout",
     "output_type": "stream",
     "text": [
      "1849.22s\n"
     ]
    }
   ],
   "source": [
    "# We compute everything for g^2 \\mu = 1 GeV and then rescale the results.\n",
    "\n",
    "g2mu = 1.0                     # [GeV]\n",
    "RA = 67.7 / (g2mu / hbarc)     # Radius of the nucleus in [fm]\n",
    "F = np.pi * RA ** 2            # Transverse area [fm^2]\n",
    "L = np.sqrt(F)                 # Length of the simulation box [fm]\n",
    "g = 2.0                        # Coupling constant\n",
    "mu = g2mu / g ** 2             # MV model parameter [GeV]\n",
    "m = 0.00001                    # No infrared regulation, except global charge neutrality\n",
    "tau_max = 10.0 / g2mu * hbarc  # Maximum proper time\n",
    "\n",
    "p_lappi = {    \n",
    "    'L':    L,                 # transverse size [fm]\n",
    "    'N':    1024,              # lattice size\n",
    "    'DTS':  16,                # time steps per transverse spacing\n",
    "    'TMAX': tau_max,           # max. proper time (tau) [fm/c]\n",
    "\n",
    "    'G':    g,                 # YM coupling constant\n",
    "    'MU':   mu,                # MV model parameter [GeV]\n",
    "    'M':    m,                 # IR regulator [GeV]\n",
    "    'UV':   100000.0,          # UV regulator [GeV]\n",
    "    'NS':   1,                 # number of color sheets\n",
    "\n",
    "    'NE':   50,                # number of events\n",
    "}\n",
    "\n",
    "from time import time\n",
    "t1 = time()\n",
    "r_lappi = compute(p_lappi)\n",
    "t2 = time()\n",
    "\n",
    "print(\"{:3.2f}s\".format(t2-t1))"
   ]
  },
  {
   "cell_type": "code",
   "execution_count": 4,
   "metadata": {},
   "outputs": [
    {
     "data": {
      "image/png": "[encoded data removed]",
      "text/plain": [
       "<Figure size 432x288 with 1 Axes>"
      ]
     },
     "metadata": {
      "needs_background": "light"
     },
     "output_type": "display_data"
    }
   ],
   "source": [
    "r = r_lappi\n",
    "tau = r[\"tau\"] / hbarc\n",
    "plt.errorbar(tau, r[\"ET\"], yerr=r[\"ET_std\"], errorevery=100, label=\"ET\")\n",
    "plt.errorbar(tau, r[\"BT\"], yerr=r[\"BT_std\"], errorevery=100, label=\"BT\")\n",
    "plt.errorbar(tau, r[\"EL\"], yerr=r[\"EL_std\"], errorevery=100, label=\"EL\")\n",
    "plt.errorbar(tau, r[\"BL\"], yerr=r[\"BL_std\"], errorevery=100, label=\"BL\")\n",
    "\n",
    "plt.ylabel(\"$\\\\tau \\\\varepsilon / (g^2 \\mu)^3$\")\n",
    "plt.xlabel(\"$g^2 \\mu \\\\tau$\")\n",
    "plt.legend()\n",
    "plt.show()\n",
    "#plt.ylabel(\"$\\\\tau \\epsilon \\quad [ \\mathrm{GeV} / \\mathrm{fm}^2 ]$\")"
   ]
  },
  {
   "cell_type": "code",
   "execution_count": 5,
   "metadata": {},
   "outputs": [
    {
     "data": {
      "image/png": "[encoded data removed]",
      "text/plain": [
       "<Figure size 432x288 with 1 Axes>"
      ]
     },
     "metadata": {
      "needs_background": "light"
     },
     "output_type": "display_data"
    }
   ],
   "source": [
    "plt.errorbar(tau, r[\"energy\"] * hbarc ** 3, yerr=r[\"energy_std\"] * hbarc ** 3, errorevery=20)\n",
    "plt.xlabel(\"$g^2 \\\\mu \\\\tau$\")\n",
    "plt.show()"
   ]
  },
  {
   "cell_type": "code",
   "execution_count": 6,
   "metadata": {},
   "outputs": [
    {
     "name": "stdout",
     "output_type": "stream",
     "text": [
      "\\varepsilon(\\tau_0) = 0.2628898822390408 (g^2 \\mu)^4 / g^2\n"
     ]
    }
   ],
   "source": [
    "# energy density at specific tau\n",
    "tau_eval = 1.0\n",
    "tau_eval_index = np.argmin(np.abs(tau - tau_eval))\n",
    "energy_dimless = r[\"energy\"][tau_eval_index] * hbarc ** 3 * g ** 2\n",
    "\n",
    "print(\"\\\\varepsilon(\\\\tau_0) = {} (g^2 \\\\mu)^4 / g^2\".format(energy_dimless))"
   ]
  },
  {
   "cell_type": "code",
   "execution_count": 7,
   "metadata": {},
   "outputs": [
    {
     "name": "stdout",
     "output_type": "stream",
     "text": [
      "Energy density at 'RHIC': 136.8613835600864 GeV/fm^3\n",
      "Energy density at 'LHC': 692.8607542729375 GeV/fm^3\n"
     ]
    }
   ],
   "source": [
    "energy_RHIC = energy_dimless * 2.0 ** 4 / hbarc ** 3 / g ** 2\n",
    "energy_LHC = energy_dimless * 3.0 ** 4 / hbarc ** 3 / g ** 2\n",
    "\n",
    "print(\"Energy density at 'RHIC': {} GeV/fm^3\".format(energy_RHIC))\n",
    "print(\"Energy density at 'LHC': {} GeV/fm^3\".format(energy_LHC))"
   ]
  }
 ],
 "metadata": {
  "kernelspec": {
   "display_name": "Python 3",
   "language": "python",
   "name": "python3"
  },
  "language_info": {
   "codemirror_mode": {
    "name": "ipython",
    "version": 3
   },
   "file_extension": ".py",
   "mimetype": "text/x-python",
   "name": "python",
   "nbconvert_exporter": "python",
   "pygments_lexer": "ipython3",
   "version": "3.6.9"
  }
 },
 "nbformat": 4,
 "nbformat_minor": 2
}
