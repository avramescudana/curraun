{
    "cells": [
        {
            "cell_type": "markdown",
            "metadata": {},
            "source": [
                "# **Numerical checks for the WongSolver**\n",
                "In this notebook, we are going to perform various checks on our numerical routine for solving Wong's equations with Glasma background fields. "
            ]
        },
        {
            "cell_type": "markdown",
            "metadata": {},
            "source": [
                "## Conservation of Casimirs and modified Casimir scaling\n",
                "The method used to solve the equation for the color charge, namely $Q(\\tau)=U^\\dagger_{\\tau\\rightarrow \\tau_\\mathrm{form}}Q(\\tau_\\mathrm{form})U_{\\tau\\rightarrow \\tau_\\mathrm{form}}$, with $U_{\\tau\\rightarrow \\tau_\\mathrm{form}}$ a very particular Wilson line constructed on the lattice, assures that $Q\\in \\mathrm{SU(N)}$ throughout the evolution and that the Casimir invariants are conserved. Any representation of $\\mathrm{SU(2)}$ is labeled by a quadratic Casimir defined as $q_{2}=\\sum\\limits_a Q^aQ^a$. Its value is fixed according to $q_{2R}=D_R C_{2R}$ with $D_R$ denoting the dimension of the representation and $C_{2R}$ the group theory invariant in a given representation. For $\\mathrm{SU}(3)$ there is also a cubic Casimir $q_{3}=\\sum\\limits_{abc}d_{abc}Q^aQ^bQ^c$ whose value is assigned as $q_{3R}=D_R C_{3R}$, where $C_{3R}$ is the standard cubic Casimir. This way of fixing the Casimirs $q_{2,3R}=D_R C_{2,3R}$ is taken from [Litim&Manuel2001](https://arxiv.org/abs/hep-ph/0110104). We check numerically that indeed their values are conserved.\n",
                "\n",
                "The momentum broadening $\\delta p_i^2$ extracted from Wong's equations exhibits a modified version of Casimir scaling, namely $\\langle\\delta p^2_i\\rangle_A/\\langle\\delta p^2_i\\rangle_F=q_{2A}/q_{2F}$, where $i=x,y,z$. Once the color charges are initialized in either the fundamental or adjoint representation, this scaling property is numerically checked.\n"
            ]
        },
        {
            "cell_type": "markdown",
            "metadata": {},
            "source": [
                "### Default simulation parameters for the Glasma and the Wong solvers"
            ]
        },
        {
            "cell_type": "markdown",
            "metadata": {},
            "source": [
                "Simulation parameters chosen for a Glasma characterized by a saturation momentum $Q_s=2\\,\\mathrm{GeV}$, in which the dynamics of infinitely massive heavy quarks is evolved numerically."
            ]
        },
        {
            "cell_type": "code",
            "execution_count": 1,
            "metadata": {},
            "outputs": [],
            "source": [
                "import numpy as np\n",
                "\n",
                "# hbar * c [GeV * fm]\n",
                "hbarc = 0.197326 \n",
                "\n",
                "# Simulation box \n",
                "L = 10      \n",
                "N = 512    \n",
                "tau_sim = 2.0     \n",
                "DTS = 8     \n",
                "\n",
                "# Glasma fields\n",
                "su_group = 'su3'\n",
                "Qs = 2        \n",
                "ns = 50    \n",
                "factor = 0.8        \n",
                "g2mu = Qs / factor     \n",
                "g = np.pi * np.sqrt(1 / np.log(Qs / 0.2))          \t\t\n",
                "mu = g2mu / g**2          \t\n",
                "ir = 0.1 * g**2 * mu         \n",
                "uv = 10.0           \n",
                "\n",
                "# Wong solver \n",
                "mass = 10**5   \n",
                "tau_form = 0   \n",
                "pT = 0   \n",
                "ntp = 10**5  \n",
                "nevents = 5    \n",
                "representation = 'fundamental'      \n",
                "boundary = 'periodic'       "
            ]
        },
        {
            "cell_type": "markdown",
            "metadata": {},
            "source": [
                "### Set environment variables"
            ]
        },
        {
            "cell_type": "code",
            "execution_count": 2,
            "metadata": {},
            "outputs": [
                {
                    "name": "stdout",
                    "output_type": "stream",
                    "text": [
                        "Using CUDA\n",
                        "Using SU(3)\n",
                        "Using double precision\n",
                        "Using double precision\n"
                    ]
                }
            ],
            "source": [
                "import os\n",
                "os.environ[\"MY_NUMBA_TARGET\"] = \"cuda\"\n",
                "os.environ[\"PRECISION\"] = \"double\"\n",
                "os.environ[\"GAUGE_GROUP\"] = su_group\n",
                "\n",
                "# Import relevant modules\n",
                "import sys\n",
                "sys.path.append('..')\n",
                "\n",
                "# Glasma modules\n",
                "import curraun.core as core\n",
                "import curraun.mv as mv\n",
                "import curraun.initial as initial\n",
                "initial.DEBUG = False\n",
                "\n",
                "import curraun.su as su\n",
                "from curraun.numba_target import use_cuda\n",
                "if use_cuda:\n",
                "    from numba import cuda\n",
                "\n",
                "# Wong modules\n",
                "from curraun import wong\n",
                "wong.BOUNDARY = boundary\n",
                "wong.CASIMIRS = True\n",
                "from curraun.wong import init_mom_toy, init_pos, init_charge\n",
                "\n",
                "# Dictionary with parameters\n",
                "p = {'representation' : representation}"
            ]
        },
        {
            "cell_type": "markdown",
            "metadata": {},
            "source": [
                "### Simulation routine for evolving the Glasma & solving Wong's equations\n",
                "Computes the transverse and longitudinal momentum broadenings $\\delta p_T^2$ and $\\delta p_L^2$, along with the Casimirs of the color charges."
            ]
        },
        {
            "cell_type": "code",
            "execution_count": 3,
            "metadata": {},
            "outputs": [],
            "source": [
                "import pickle\n",
                "from tqdm import tqdm\n",
                "\n",
                "# Simulation routine\n",
                "def simulate(p, ev): \n",
                "    representation = p[\"representation\"]\n",
                "\n",
                "    output = {}\n",
                "    output[\"parameters\"] = p.copy()\n",
                "\n",
                "    # Derived parameters\n",
                "    a = L / N\n",
                "    E0 = N / L * hbarc\n",
                "    DT = 1.0 / DTS\n",
                "    formt = int(tau_form / a * DTS)\n",
                "    maxt = int(tau_sim / a * DTS)\n",
                "\n",
                "    # Initialize Glasma fields\n",
                "    s = core.Simulation(N, DT, g)\n",
                "    va = mv.wilson(s, mu=mu / E0, m=ir / E0, uv=uv / E0, num_sheets=ns)\n",
                "    vb = mv.wilson(s, mu=mu / E0, m=ir / E0, uv=uv / E0, num_sheets=ns)\n",
                "    initial.init(s, va, vb)\n",
                "\n",
                "    # Initialize the Wong solver\n",
                "    wong_solver = wong.WongSolver(s, ntp)\n",
                "    x0s, p0s, q0s = np.zeros((ntp, 3)), np.zeros((ntp, 5)), np.zeros((ntp, su.ALGEBRA_ELEMENTS))\n",
                "    masses = mass / E0 * np.ones(ntp)\n",
                "\n",
                "    for i in range(ntp):\n",
                "        x0, p0, q0 = init_pos(s.n), init_mom_toy('pT', pT / E0), init_charge(representation)\n",
                "        x0s[i, :], p0s[i, :], q0s[i, :] = x0, p0, q0\n",
                "\n",
                "    wong_solver.initialize(x0s, p0s, q0s, masses)\n",
                "\n",
                "    mom_broad_T, mom_broad_L = np.zeros(maxt-formt), np.zeros(maxt-formt)\n",
                "    casimirs = np.zeros((maxt-formt, ntp, su.CASIMIRS))\n",
                "\n",
                "    with tqdm(total=maxt) as pbar:\n",
                "        for t in range(maxt):\n",
                "            # Evolve Glasma fields\n",
                "            core.evolve_leapfrog(s)\n",
                "\n",
                "            # Solve Wong's equations\n",
                "            if t>=formt:  \n",
                "                mom_broad = wong_solver.p_sq_mean \n",
                "                mom_broad_T[t-formt] = (mom_broad[0] + mom_broad[1]) * E0**2\n",
                "                mom_broad_L[t-formt] = mom_broad[2] * E0**2\n",
                "\n",
                "                wong_solver.evolve()\n",
                "                wong_solver.compute_mom_broad()\n",
                "\n",
                "                wong_solver.compute_casimirs(representation)\n",
                "                casimirs[t-formt] = wong_solver.c.copy()\n",
                "\n",
                "            pbar.set_description(\"Event \" + str(ev+1))\n",
                "            pbar.update(1)\n",
                "\n",
                "    output[\"mom_broad_T\"], output[\"mom_broad_L\"] = mom_broad_T, mom_broad_L\n",
                "    output[\"casimirs\"] = casimirs\n",
                "\n",
                "    return output"
            ]
        },
        {
            "cell_type": "markdown",
            "metadata": {},
            "source": [
                "### Running the Wong solver over multiple Glasma events"
            ]
        },
        {
            "cell_type": "code",
            "execution_count": 4,
            "metadata": {},
            "outputs": [
                {
                    "name": "stdout",
                    "output_type": "stream",
                    "text": [
                        "SU(3) gauge group\n",
                        "Adjoint representation\n"
                    ]
                },
                {
                    "name": "stderr",
                    "output_type": "stream",
                    "text": [
                        "Event 1: 100%|██████████| 819/819 [04:46<00:00,  2.86it/s]\n",
                        "Event 2: 100%|██████████| 819/819 [04:41<00:00,  2.91it/s]\n",
                        "Event 3: 100%|██████████| 819/819 [04:40<00:00,  2.91it/s]\n",
                        "Event 4: 100%|██████████| 819/819 [04:41<00:00,  2.91it/s]\n",
                        "Event 5: 100%|██████████| 819/819 [04:41<00:00,  2.91it/s]\n"
                    ]
                },
                {
                    "name": "stdout",
                    "output_type": "stream",
                    "text": [
                        "Fundamental representation\n"
                    ]
                },
                {
                    "name": "stderr",
                    "output_type": "stream",
                    "text": [
                        "Event 1: 100%|██████████| 819/819 [04:41<00:00,  2.91it/s]\n",
                        "Event 2: 100%|██████████| 819/819 [04:41<00:00,  2.91it/s]\n",
                        "Event 3: 100%|██████████| 819/819 [04:41<00:00,  2.91it/s]\n",
                        "Event 4: 100%|██████████| 819/819 [04:40<00:00,  2.91it/s]\n",
                        "Event 5: 100%|██████████| 819/819 [04:41<00:00,  2.91it/s]\n"
                    ]
                }
            ],
            "source": [
                "print(su_group[0:2].upper() + '(' + su_group[2] + ')' + ' gauge group')\n",
                "representations = ['adjoint', 'fundamental']\n",
                "\n",
                "mom_broad_T, mom_broad_L = {}, {}\n",
                "casimirs = {}\n",
                "\n",
                "for representation in representations:\n",
                "    p[\"representation\"] =  representation\n",
                "    print(representation.capitalize() + ' representation')\n",
                "\n",
                "    mom_broads_T, mom_broads_L = [], []\n",
                "    for ev in range(nevents):\n",
                "        output = simulate(p, ev)\n",
                "        mom_broads_T.append(output[\"mom_broad_T\"])\n",
                "        mom_broads_L.append(output[\"mom_broad_L\"])\n",
                "        if ev==0:\n",
                "            casimirs[representation] = output[\"casimirs\"]\n",
                "\n",
                "    mom_broad_T[representation] = np.mean(mom_broads_T, axis=0)\n",
                "    mom_broad_L[representation] = np.mean(mom_broads_L, axis=0)\n",
                "\n",
                "formt, maxt = int(tau_form / L * N * DTS), int(tau_sim / L * N * DTS)\n",
                "tau = np.linspace(tau_form, tau_sim, maxt-formt)\n",
                "\n",
                "output = {}\n",
                "output[\"mom_broad_T\"], output[\"mom_broad_L\"], output[\"tau\"] = mom_broad_T, mom_broad_L, tau\n",
                "output[\"representations\"] = representations\n",
                "output[\"casimirs\"] = casimirs\n",
                "\n",
                "filename = 'casimir_scaling_' + su_group + '.pickle'\n",
                "with open(filename, 'wb') as handle:\n",
                "    pickle.dump(output, handle)"
            ]
        },
        {
            "cell_type": "markdown",
            "metadata": {},
            "source": [
                "### Read data from files using Julia"
            ]
        },
        {
            "cell_type": "code",
            "execution_count": 2,
            "metadata": {},
            "outputs": [
                {
                    "data": {
                        "text/plain": [
                            "2-element Vector{Any}:\n",
                            " \"adjoint\"\n",
                            " \"fundamental\""
                        ]
                    },
                    "execution_count": 2,
                    "metadata": {},
                    "output_type": "execute_result"
                }
            ],
            "source": [
                "using Pickle\n",
                "\n",
                "su_groups = [\"su2\", \"su3\"]\n",
                "results = Dict()\n",
                "for su_group in su_groups\n",
                "    results[su_group] = Pickle.npyload(\"casimir_scaling_\" * su_group * \".pickle\")\n",
                "end\n",
                "representations = results[\"su2\"][\"representations\"]"
            ]
        },
        {
            "cell_type": "code",
            "execution_count": 3,
            "metadata": {},
            "outputs": [
                {
                    "data": {
                        "text/plain": [
                            "2"
                        ]
                    },
                    "execution_count": 3,
                    "metadata": {},
                    "output_type": "execute_result"
                }
            ],
            "source": [
                "hbarc = 0.197326 \n",
                "Qs = 2"
            ]
        },
        {
            "cell_type": "markdown",
            "metadata": {},
            "source": [
                "### Plot of Casimirs for the color charges as a function of proper time, using Makie from Julia"
            ]
        },
        {
            "cell_type": "code",
            "execution_count": 101,
            "metadata": {},
            "outputs": [
                {
                    "data": {
                        "image/png": "[encoded data removed]",
                        "text/plain": [
                            "Scene (500px, 350px):\n",
                            "  18 Plots:\n",
                            "    ├ Combined{Makie.poly, Tuple{Vector{Vector{Point{2, Float32}}}}}\n",
                            "    ├ LineSegments{Tuple{Vector{Point{2, Float32}}}}\n",
                            "    ├ LineSegments{Tuple{Vector{Point{2, Float32}}}}\n",
                            "    ├ LineSegments{Tuple{Vector{Point{2, Float32}}}}\n",
                            "    ├ LineSegments{Tuple{Vector{Point{2, Float32}}}}\n",
                            "    ├ LineSegments{Tuple{Vector{Point{2, Float32}}}}\n",
                            "    ├ LineSegments{Tuple{Vector{Point{2, Float32}}}}\n",
                            "    ├ MakieCore.Text{Tuple{LaTeXStrings.LaTeXString}}\n",
                            "    ├ Lines{Tuple{Vector{Point{2, Float32}}}}\n",
                            "    ├ MakieCore.Text{Tuple{Vector{Tuple{AbstractString, Point{2, Float32}}}}}\n",
                            "    ├ LineSegments{Tuple{Vector{Point{2, Float32}}}}\n",
                            "    ├ LineSegments{Tuple{Vector{Point{2, Float32}}}}\n",
                            "    ├ MakieCore.Text{Tuple{LaTeXStrings.LaTeXString}}\n",
                            "    ├ Lines{Tuple{Vector{Point{2, Float32}}}}\n",
                            "    ├ MakieCore.Text{Tuple{Vector{Tuple{AbstractString, Point{2, Float32}}}}}\n",
                            "    ├ Lines{Tuple{Vector{Point{2, Float32}}}}\n",
                            "    ├ Lines{Tuple{Vector{Point{2, Float32}}}}\n",
                            "    └ MakieCore.Text{Tuple{String}}\n",
                            "  1 Child Scene:\n",
                            "    └ Scene (404px, 274px)"
                        ]
                    },
                    "metadata": {},
                    "output_type": "display_data"
                },
                {
                    "data": {
                        "text/plain": [
                            "CairoScreen{Cairo.CairoSurfaceBase{UInt32}} with surface:\n",
                            "Cairo.CairoSurfaceBase{UInt32}(Ptr{Nothing} @0x000000002cb2b0d0, 2500.0, 1750.0)\n"
                        ]
                    },
                    "execution_count": 101,
                    "metadata": {},
                    "output_type": "execute_result"
                }
            ],
            "source": [
                "using CairoMakie\n",
                "using ColorSchemes\n",
                "\n",
                "segmented_cmap = cgrad(:starrynight, 11, categorical = true)\n",
                "colors = [segmented_cmap[11], segmented_cmap[4], segmented_cmap[1]]\n",
                "\n",
                "fig = Figure(resolution = (500, 350), font = \"CMU Serif\")\n",
                "ax = Axis(fig[1,1], xlabel=L\"Q_s\\tau\", ylabel=L\"\\mathrm{Casimirs}\",\n",
                "        rightspinevisible = false, topspinevisible = false, xlabelsize = 20, ylabelsize= 20, xticklabelsize=14, yticklabelsize=14,\n",
                "        xtickalign = 1, xticksize=4, ytickalign=1, yticksize=4, xlabelpadding = -5, xgridvisible = false, ygridvisible = false) \n",
                "\n",
                "tau = results[\"su2\"][\"tau\"]\n",
                "casimirs_su2 = results[\"su2\"][\"casimirs\"][\"fundamental\"]\n",
                "lines!(ax, tau*Qs/hbarc, casimirs_su2[:, 1], linewidth = 1.5, color=colors[1])\n",
                "text!(ax, L\"q_{2F}^\\mathrm{SU(2)}\", position = (18.2, 3/2+0.05), color=colors[1], textsize=18)\n",
                "\n",
                "casimirs_su3 = results[\"su3\"][\"casimirs\"][\"fundamental\"]\n",
                "lines!(ax, tau*Qs/hbarc, casimirs_su3[:, 1, 1], linewidth = 1.5, color=colors[2])\n",
                "text!(ax, L\"q_{2F}^\\mathrm{SU(3)}\", position = (18.2, 4+0.05), color=colors[2], textsize=18)\n",
                "\n",
                "lines!(ax, tau*Qs/hbarc, casimirs_su3[:, 1, 2], linewidth = 1.5, color=colors[3])\n",
                "text!(ax, L\"q_{3F}^\\mathrm{SU(3)}\", position = (18.2, 10/3+0.05), color=colors[3], textsize=18)\n",
                "\n",
                "xlims!(ax, 0, 20)\n",
                "ylims!(ax, 3/2-0.5, 4+0.5)\n",
                "# ax.xticks = (0.5*(0:4), [\"0\", \"0.5\", \"1\", \"1.5\", \"2\"])\n",
                "ax.yticks = ([3/2, 10/3, 4], [\"3/2\", \"10/3\", \"4\"])\n",
                "\n",
                "display(fig)\n",
                "save(\"makie_casimirs_su2+su3.png\", fig, px_per_unit = 5.0) "
            ]
        },
        {
            "cell_type": "markdown",
            "metadata": {},
            "source": [
                "### Read data from files"
            ]
        },
        {
            "cell_type": "code",
            "execution_count": null,
            "metadata": {},
            "outputs": [],
            "source": [
                "import pickle\n",
                "\n",
                "su_groups = ['su2', 'su3']\n",
                "results = {}\n",
                "for su_group in su_groups:\n",
                "    results[su_group] = pickle.load(open('casimir_scaling_' + su_group + '.pickle', 'rb'))\n",
                "representations = results['su2']['representations']"
            ]
        },
        {
            "cell_type": "markdown",
            "metadata": {},
            "source": [
                "### Plot of Casimirs for the color charges as a function of proper time"
            ]
        },
        {
            "cell_type": "code",
            "execution_count": 6,
            "metadata": {},
            "outputs": [
                {
                    "data": {
                        "image/png": "[encoded data removed]",
                        "text/plain": [
                            "<Figure size 576x396 with 1 Axes>"
                        ]
                    },
                    "metadata": {
                        "needs_background": "light"
                    },
                    "output_type": "display_data"
                }
            ],
            "source": [
                "import matplotlib.pyplot as plt\n",
                "plt.style.use('custom_style.mpltstyle')\n",
                "plt.rcParams[\"figure.figsize\"] = (8,5.5)\n",
                "import matplotlib\n",
                "matplotlib.rcParams['text.latex.preamble'] = [r'\\usepackage{xfrac}']\n",
                "\n",
                "fig, ax = plt.subplots()\n",
                "\n",
                "plt.ylabel(r'$\\mathrm{Casimirs}$')\n",
                "plt.xlabel(r'$\\tau\\,\\mathrm{[fm/c]}$')\n",
                "\n",
                "labels = [r'$\\mathrm{Adjoint}$', r'$\\mathrm{Fundamental}$']\n",
                "colors = ['#F1D878', '#51777E', '#162534']\n",
                "linestyles = ['--', '-']\n",
                "\n",
                "tau = results['su2']['tau']\n",
                "casimirs_su2 = results['su2']['casimirs']\n",
                "plt.plot(tau, casimirs_su2['fundamental'][:, 0], color=colors[0], linewidth = 2)\n",
                "plt.text(2.05, 1.47, r'\\boldmath$q_{2F}^\\mathrm{SU(2)}$', fontsize=18, color=colors[0])\n",
                "\n",
                "casimirs_su3 = results['su3']['casimirs']\n",
                "plt.plot(tau, casimirs_su3['fundamental'][:, 0, 0], color=colors[1], linewidth = 2)\n",
                "plt.text(2.05, 3.97, r'\\boldmath$q_{2F}^\\mathrm{SU(3)}$', fontsize=18, color=colors[1])\n",
                "\n",
                "plt.plot(tau, casimirs_su3['fundamental'][:, 0, 1], color=colors[2], linewidth = 2)\n",
                "plt.text(2.05, 3.3, r'\\boldmath$q_{3F}^\\mathrm{SU(3)}$', fontsize=18, color=colors[2])\n",
                "\n",
                "ax.set_ylim(3/2-0.3, 4+0.3)\n",
                "yticks = [3/2, 10/3, 4]\n",
                "ax.set_yticks(yticks)\n",
                "ylabels = [r'$\\huge\\sfrac{3}{\\,2}$', r'$\\huge\\sfrac{10}{\\,3}$', r'$4$']\n",
                "ax.set_yticklabels(ylabels)\n",
                "\n",
                "ax.set_xlim(0,2)\n",
                "xticks = [0, 0.5, 1, 1.5, 2]\n",
                "ax.set_xticks(xticks)\n",
                "xlabels = [r'$0$', r'$0.5$', r'$1$', r'$1.5$', r'$2$']\n",
                "ax.set_xticklabels(xlabels)\n",
                "\n",
                "plt.tight_layout()\n",
                "plt.savefig('final_casimirs_su2+su3.png', dpi=300, transparent=False, facecolor='white')"
            ]
        },
        {
            "cell_type": "code",
            "execution_count": 46,
            "metadata": {},
            "outputs": [
                {
                    "data": {
                        "text/plain": [
                            "string_as_varname (generic function with 1 method)"
                        ]
                    },
                    "execution_count": 46,
                    "metadata": {},
                    "output_type": "execute_result"
                }
            ],
            "source": [
                "function string_as_varname(s::AbstractString,v::Any)\n",
                "    s=Symbol(s)\n",
                "    return @eval (($s) = ($v))\n",
                "end"
            ]
        },
        {
            "cell_type": "markdown",
            "metadata": {},
            "source": [
                "### Plot of adjoint and fundamental representation transverse momentum broadenings and modified Casimir scaling, done in Makie from Julia"
            ]
        },
        {
            "cell_type": "code",
            "execution_count": 98,
            "metadata": {},
            "outputs": [
                {
                    "data": {
                        "image/png": "[encoded data removed]",
                        "text/plain": [
                            "Scene (500px, 350px):\n",
                            "  18 Plots:\n",
                            "    ├ Combined{Makie.poly, Tuple{Vector{Vector{Point{2, Float32}}}}}\n",
                            "    ├ LineSegments{Tuple{Vector{Point{2, Float32}}}}\n",
                            "    ├ LineSegments{Tuple{Vector{Point{2, Float32}}}}\n",
                            "    ├ LineSegments{Tuple{Vector{Point{2, Float32}}}}\n",
                            "    ├ LineSegments{Tuple{Vector{Point{2, Float32}}}}\n",
                            "    ├ LineSegments{Tuple{Vector{Point{2, Float32}}}}\n",
                            "    ├ LineSegments{Tuple{Vector{Point{2, Float32}}}}\n",
                            "    ├ MakieCore.Text{Tuple{LaTeXStrings.LaTeXString}}\n",
                            "    ├ Lines{Tuple{Vector{Point{2, Float32}}}}\n",
                            "    ├ MakieCore.Text{Tuple{Vector{Tuple{AbstractString, Point{2, Float32}}}}}\n",
                            "    ├ LineSegments{Tuple{Vector{Point{2, Float32}}}}\n",
                            "    ├ LineSegments{Tuple{Vector{Point{2, Float32}}}}\n",
                            "    ├ MakieCore.Text{Tuple{LaTeXStrings.LaTeXString}}\n",
                            "    ├ Lines{Tuple{Vector{Point{2, Float32}}}}\n",
                            "    ├ MakieCore.Text{Tuple{Vector{Tuple{AbstractString, Point{2, Float32}}}}}\n",
                            "    ├ Lines{Tuple{Vector{Point{2, Float32}}}}\n",
                            "    ├ Lines{Tuple{Vector{Point{2, Float32}}}}\n",
                            "    └ MakieCore.Text{Tuple{String}}\n",
                            "  3 Child Scenes:\n",
                            "    ├ Scene (414px, 274px)\n",
                            "    ├ Scene (500px, 350px)\n",
                            "    └ Scene (500px, 350px)"
                        ]
                    },
                    "metadata": {},
                    "output_type": "display_data"
                },
                {
                    "data": {
                        "text/plain": [
                            "CairoScreen{Cairo.CairoSurfaceBase{UInt32}} with surface:\n",
                            "Cairo.CairoSurfaceBase{UInt32}(Ptr{Nothing} @0x000000002be06190, 2500.0, 1750.0)\n"
                        ]
                    },
                    "execution_count": 98,
                    "metadata": {},
                    "output_type": "execute_result"
                }
            ],
            "source": [
                "fig = Figure(resolution = (500, 350), font = \"CMU Serif\")\n",
                "ax = Axis(fig[1, 1], \n",
                "        xlabel=L\"Q_s\\tau\", ylabel=L\"\\langle \\delta p_\\perp^2\\,\\rangle/ Q_s^2\",\n",
                "        rightspinevisible = false, topspinevisible = false, xlabelsize = 20, ylabelsize= 20, xticklabelsize=14, yticklabelsize=14,\n",
                "        xtickalign = 1, xticksize=4, ytickalign=1, yticksize=4,  xlabelpadding = -5, xgridvisible = false, ygridvisible = false)\n",
                "\n",
                "Ncs = [2, 3]\n",
                "linestyles = [:dash, nothing]\n",
                "\n",
                "for (i,su_group) in enumerate(su_groups)\n",
                "        Nc = Ncs[i]\n",
                "        Df, Da = Nc, Nc^2-1\n",
                "        Cf, Ca = (Nc^2-1)/(2*Nc), Nc\n",
                "\n",
                "        mom_broad_adj, mom_broad_fund = results[su_group][\"mom_broad_T\"][\"adjoint\"], results[su_group][\"mom_broad_T\"][\"fundamental\"]\n",
                "        ratio = mom_broad_adj./mom_broad_fund\n",
                "        tau = results[su_group][\"tau\"]\n",
                "\n",
                "        string_as_varname(su_group*\"_adj\", lines!(ax, tau*Qs/hbarc, mom_broad_adj/Qs^2, linewidth = 1.5, color=colors[3], linestyle=linestyles[i]))\n",
                "        string_as_varname(su_group*\"_fund\", lines!(ax, tau*Qs/hbarc, mom_broad_fund/Qs^2, linewidth = 1.5, color=colors[2], linestyle=linestyles[i]))\n",
                "        string_as_varname(su_group*\"_ratio\", lines!(ax, tau*Qs/hbarc, ratio, linewidth = 1.5, color=colors[1], linestyle=linestyles[i]))\n",
                "end\n",
                "\n",
                "ylims!(ax, 0, 10)\n",
                "xlims!(ax, 0, 20)\n",
                "ax.yticks = ([2, 4, 6, 8, 10], [\"2\", \"4\", \"6\", \"8\", \"10\"])\n",
                "\n",
                "legend_sugroup = [L\"\\mathrm{SU(2)}\", L\"\\mathrm{SU(3)}\"]\n",
                "axislegend(ax, [su2_adj, su3_adj], legend_sugroup, labelsize=14, position = :lt, orientation = :vertical, bgcolor = (:white, 0.7), framecolor=(:grey80, 0))\n",
                "\n",
                "legend_repr = [L\"\\mathrm{Adjoint}\", L\"\\mathrm{Fundamental}\", L\"\\mathrm{Adjoint/fundamental}\"]\n",
                "axislegend(ax, [su3_adj, su3_fund, su3_ratio], legend_repr, labelsize=14, position = :ct, orientation = :vertical, bgcolor = (:white, 0.7), framecolor=(:grey80, 0))\n",
                "\n",
                "display(fig)\n",
                "save(\"makie_casimir_scaling_su2+su3.png\", fig, px_per_unit = 5.0) "
            ]
        },
        {
            "cell_type": "markdown",
            "metadata": {},
            "source": [
                "### Plot of adjoint and fundamental representation transverse momentum broadenings and modified Casimir scaling"
            ]
        },
        {
            "cell_type": "code",
            "execution_count": 8,
            "metadata": {},
            "outputs": [
                {
                    "data": {
                        "image/png": "[encoded data removed]",
                        "text/plain": [
                            "<Figure size 936x360 with 2 Axes>"
                        ]
                    },
                    "metadata": {
                        "needs_background": "light"
                    },
                    "output_type": "display_data"
                }
            ],
            "source": [
                "import matplotlib.pyplot as plt\n",
                "import numpy as np \n",
                "from matplotlib.ticker import MultipleLocator\n",
                "\n",
                "plt.style.use('custom_style.mpltstyle')\n",
                "plt.rcParams[\"figure.figsize\"] = (13,5)\n",
                "\n",
                "fig, ax = plt.subplots(1, 2)\n",
                "\n",
                "colors = ['#F1D878', '#51777E', '#162534']\n",
                "ax[0].set_ylabel(r'$\\langle \\delta p_T^2\\rangle\\,\\mathrm{[GeV^2]}$')\n",
                "\n",
                "Ns = [2, 3]\n",
                "\n",
                "for i, su_group in enumerate(su_groups):\n",
                "    Nc = Ns[i]\n",
                "    Df, Da = Nc, Nc**2-1\n",
                "    Cf, Ca = (Nc**2-1)/(2*Nc), Nc\n",
                "\n",
                "    sigmapt_adj, sigmapt_fund = results[su_group]['mom_broad_T']['adjoint'], results[su_group]['mom_broad_T']['fundamental']\n",
                "    ratio = np.divide(sigmapt_adj, sigmapt_fund)\n",
                "    tau = results[su_group]['tau']\n",
                "\n",
                "    ax[i].plot(tau, sigmapt_adj,  label=r'$\\mathrm{Adjoint}$', linewidth=2, color=colors[2])\n",
                "    ax[i].plot(tau, sigmapt_fund, label=r'$\\mathrm{Fundamental}$', linewidth=2, color=colors[1])\n",
                "    ax[i].plot(tau, ratio, label=r'$\\mathrm{Adjoint/fundamental}$', linewidth=2, color=colors[0])\n",
                "    # ax[i].plot(tau, Ca*Da/(Cf*Df)*np.ones(tau.shape[0]), label=r'$\\mathrm{Casimir\\,scaling\\,}q_{2A}/q_{2F}$', linestyle='--', color=colors[0], linewidth=2)\n",
                "\n",
                "    ax[i].set_xlabel(r'$\\tau\\,\\mathrm{[fm/c]}$')\n",
                "    ax[i].set_ylim(0, 26)\n",
                "    ax[i].set_xlim(0, 2.1)\n",
                "\n",
                "    xticks = [0, 0.5, 1, 1.5, 2]\n",
                "    ax[i].set_xticks(xticks)\n",
                "    xlabels = [r'$0$', r'$0.5$', r'$1$', r'$1.5$', r'$2$']\n",
                "    ax[i].set_xticklabels(xlabels) \n",
                "\n",
                "    ax[i].yaxis.set_major_locator(MultipleLocator(8))\n",
                "    yticks = [2*Ns[i], 8, 16, 24]\n",
                "    ax[i].set_yticks(yticks)\n",
                "    ylabels = [r\"${}$\".format(str(2*Ns[i])), r'$8$', r'$16$', r'$24$']\n",
                "    ax[i].set_yticklabels(ylabels) \n",
                "\n",
                "    ax[i].grid(visible=True, which='major', axis='both')\n",
                "\n",
                "    ax[i].minorticks_on()\n",
                "    ax[i].yaxis.set_minor_locator(MultipleLocator(4))\n",
                "    ax[i].xaxis.set_minor_locator(MultipleLocator(0.25))\n",
                "    ax[i].grid(visible=True, which='minor', axis='both', alpha=0.1, linewidth=0.9)\n",
                "\n",
                "ax[0].legend(loc='upper left',bbox_to_anchor=(0.05,0.95))\n",
                "\n",
                "t0 = ax[0].text(1.75, 7, r'$\\mathrm{SU(2)}$', size=20)\n",
                "t0.set_bbox(dict(facecolor='white', alpha=0.5, edgecolor='white'))\n",
                "t1 = ax[1].text(1.75, 7, r'$\\mathrm{SU(3)}$', size=20)\n",
                "t1.set_bbox(dict(facecolor='white', alpha=0.5, edgecolor='white'))\n",
                "\n",
                "plt.tight_layout()\n",
                "plt.savefig('final_casimir_scaling_su2+su3.png', dpi=300, transparent=False, facecolor='white')"
            ]
        },
        {
            "cell_type": "markdown",
            "metadata": {},
            "source": [
                "### Plot of $SU(3)$ vs. $SU(2)$ transverse momentum broadenings"
            ]
        },
        {
            "cell_type": "code",
            "execution_count": 9,
            "metadata": {},
            "outputs": [
                {
                    "data": {
                        "image/png": "[encoded data removed]",
                        "text/plain": [
                            "<Figure size 540x396 with 1 Axes>"
                        ]
                    },
                    "metadata": {
                        "needs_background": "light"
                    },
                    "output_type": "display_data"
                }
            ],
            "source": [
                "import matplotlib.pyplot as plt\n",
                "import numpy as np\n",
                "from matplotlib.ticker import MultipleLocator\n",
                "import matplotlib\n",
                "matplotlib.rcParams['text.latex.preamble'] = [r'\\usepackage{xfrac}']\n",
                "\n",
                "plt.style.use('custom_style.mpltstyle')\n",
                "plt.rcParams[\"figure.figsize\"] = (7.5,5.5)\n",
                "\n",
                "fig, ax = plt.subplots()\n",
                "\n",
                "ax.set_ylabel(r'$\\langle \\delta p_T^2\\rangle^\\mathrm{SU(3)}/\\langle \\delta p_T^2\\rangle^\\mathrm{SU(2)}$')\n",
                "ax.set_xlabel(r'$\\tau\\,\\mathrm{[fm/c]}$')\n",
                "\n",
                "Ns, labels = [2, 3], [r'$\\mathrm{Adjoint}$', r'$\\mathrm{Fundamental}$']\n",
                "colors = ['#F1D878', '#51777E', '#162534']\n",
                "color_indices = [2, 1]\n",
                "\n",
                "ratio = {}\n",
                "for i, representation in enumerate(representations):\n",
                "    sigmapt_su2, sigmapt_su3 = results['su2']['mom_broad_T'][representation], results['su3']['mom_broad_T'][representation]\n",
                "    ratio[representation] = np.divide(sigmapt_su3, sigmapt_su2)\n",
                "    tau = results['su2']['tau']\n",
                "\n",
                "    ax.plot(tau, ratio[representation], label=labels[i], linewidth = 2, color=colors[color_indices[i]])\n",
                "\n",
                "ratio = np.divide(ratio['adjoint'], ratio['fundamental'])\n",
                "ax.plot(tau, ratio, label=r'$\\mathrm{Adjoint/fundamental}$', linewidth = 2, color=colors[0])\n",
                "\n",
                "ax.set_ylim(0, 8.5)\n",
                "ax.set_xlim(0, 2.1)\n",
                "\n",
                "xticks = [0, 0.5, 1, 1.5, 2]\n",
                "ax.set_xticks(xticks)\n",
                "xlabels = [r'$0$', r'$0.5$', r'$1$', r'$1.5$', r'$2$']\n",
                "ax.set_xticklabels(xlabels) \n",
                "\n",
                "ax.yaxis.set_major_locator(MultipleLocator(3))\n",
                "yticks = [3/2, 3, 9/2, 6]\n",
                "ax.set_yticks(yticks)\n",
                "ylabels = [r'$\\huge\\sfrac{3}{\\,2}$', r'$3$', r'$\\huge\\sfrac{9}{\\,2}$', r'$6$']\n",
                "ax.set_yticklabels(ylabels) \n",
                "\n",
                "ax.legend(loc='upper right',bbox_to_anchor=(0.95,0.95))\n",
                "\n",
                "ax.minorticks_on()\n",
                "ax.yaxis.set_minor_locator(MultipleLocator(1.5))\n",
                "ax.xaxis.set_minor_locator(MultipleLocator(0.25))\n",
                "ax.grid(visible=True, which='major', axis='both')\n",
                "ax.grid(visible=True, which='minor', axis='both', alpha=0.1, linewidth=0.9)\n",
                "\n",
                "plt.tight_layout()\n",
                "plt.savefig('final_mom_broad_ratio_su3_su2.png', dpi=300, transparent=False, facecolor='white')"
            ]
        },
        {
            "cell_type": "markdown",
            "metadata": {},
            "source": [
                "### Plot of $SU(3)$ vs. $SU(2)$ transverse momentum broadenings, done in Makie from Julia"
            ]
        },
        {
            "cell_type": "code",
            "execution_count": 107,
            "metadata": {},
            "outputs": [
                {
                    "data": {
                        "image/png": "[encoded data removed]",
                        "text/plain": [
                            "Scene (500px, 350px):\n",
                            "  18 Plots:\n",
                            "    ├ Combined{Makie.poly, Tuple{Vector{Vector{Point{2, Float32}}}}}\n",
                            "    ├ LineSegments{Tuple{Vector{Point{2, Float32}}}}\n",
                            "    ├ LineSegments{Tuple{Vector{Point{2, Float32}}}}\n",
                            "    ├ LineSegments{Tuple{Vector{Point{2, Float32}}}}\n",
                            "    ├ LineSegments{Tuple{Vector{Point{2, Float32}}}}\n",
                            "    ├ LineSegments{Tuple{Vector{Point{2, Float32}}}}\n",
                            "    ├ LineSegments{Tuple{Vector{Point{2, Float32}}}}\n",
                            "    ├ MakieCore.Text{Tuple{LaTeXStrings.LaTeXString}}\n",
                            "    ├ Lines{Tuple{Vector{Point{2, Float32}}}}\n",
                            "    ├ MakieCore.Text{Tuple{Vector{Tuple{AbstractString, Point{2, Float32}}}}}\n",
                            "    ├ LineSegments{Tuple{Vector{Point{2, Float32}}}}\n",
                            "    ├ LineSegments{Tuple{Vector{Point{2, Float32}}}}\n",
                            "    ├ MakieCore.Text{Tuple{LaTeXStrings.LaTeXString}}\n",
                            "    ├ Lines{Tuple{Vector{Point{2, Float32}}}}\n",
                            "    ├ MakieCore.Text{Tuple{Vector{Tuple{AbstractString, Point{2, Float32}}}}}\n",
                            "    ├ Lines{Tuple{Vector{Point{2, Float32}}}}\n",
                            "    ├ Lines{Tuple{Vector{Point{2, Float32}}}}\n",
                            "    └ MakieCore.Text{Tuple{String}}\n",
                            "  2 Child Scenes:\n",
                            "    ├ Scene (407px, 274px)\n",
                            "    └ Scene (500px, 350px)"
                        ]
                    },
                    "metadata": {},
                    "output_type": "display_data"
                },
                {
                    "data": {
                        "text/plain": [
                            "CairoScreen{Cairo.CairoSurfaceBase{UInt32}} with surface:\n",
                            "Cairo.CairoSurfaceBase{UInt32}(Ptr{Nothing} @0x000000002da8af70, 2500.0, 1750.0)\n"
                        ]
                    },
                    "execution_count": 107,
                    "metadata": {},
                    "output_type": "execute_result"
                }
            ],
            "source": [
                "fig = Figure(resolution = (500, 350), font = \"CMU Serif\")\n",
                "ax = Axis(fig[1, 1], \n",
                "        xlabel=L\"Q_s\\tau\", ylabel=L\"\\langle \\delta p_\\perp^2\\,\\rangle^\\mathrm{SU(3)}/\\langle \\delta p_\\perp^2\\,\\rangle^\\mathrm{SU(2)}\",\n",
                "        rightspinevisible = false, topspinevisible = false, xlabelsize = 20, ylabelsize= 20, xticklabelsize=14, yticklabelsize=14,\n",
                "        xtickalign = 1, xticksize=4, ytickalign=1, yticksize=4,  xlabelpadding = -5, xgridvisible = false, ygridvisible = false)\n",
                "\n",
                "colors = [segmented_cmap[1], segmented_cmap[4], segmented_cmap[11]]\n",
                "\n",
                "ratio = Dict()\n",
                "for (i, representation) in enumerate(representations)\n",
                "        mom_broad_su2, mom_broad_su3 = results[\"su2\"][\"mom_broad_T\"][representation], results[\"su3\"][\"mom_broad_T\"][representation]\n",
                "        ratio[representation] = mom_broad_su3./mom_broad_su2\n",
                "        tau = results[\"su2\"][\"tau\"]\n",
                "        string_as_varname(\"ratio_\"*representation, lines!(ax, tau*Qs/hbarc, ratio[representation], linewidth = 1.5, color=colors[i]))\n",
                "end\n",
                "\n",
                "ratios = ratio[\"adjoint\"]./ratio[\"fundamental\"]\n",
                "string_as_varname(\"ratios\", lines!(ax, tau*Qs/hbarc, ratios, linewidth = 1.5, color=colors[3]))\n",
                "\n",
                "ylims!(ax, 0, 8)\n",
                "xlims!(ax, 0, 20)\n",
                "ax.yticks = ([3/2, 3, 9/2, 6], [\"3/2\", \"3\", \"9/2\", \"6\"])\n",
                "\n",
                "legend_repr = [L\"\\mathrm{Adjoint}\", L\"\\mathrm{Fundamental}\", L\"\\mathrm{Adjoint/fundamental}\"]\n",
                "axislegend(ax, [ratio_adjoint, ratio_fundamental, ratios], legend_repr, labelsize=14, position = :rt, orientation = :vertical, bgcolor = (:white, 0.7), framecolor=(:grey80, 0))\n",
                "\n",
                "display(fig)\n",
                "save(\"makie_ratio_su3_vs_su2.png\", fig, px_per_unit = 5.0) "
            ]
        },
        {
            "cell_type": "code",
            "execution_count": null,
            "metadata": {},
            "outputs": [],
            "source": []
        }
    ],
    "metadata": {
        "interpreter": {
            "hash": "50fba519a3e3a4634f635ec7332619e3aceac5abb997750bdb88b5674357649c"
        },
        "kernelspec": {
            "display_name": "Julia 1.6.3",
            "language": "julia",
            "name": "julia-1.6"
        },
        "language_info": {
            "file_extension": ".jl",
            "mimetype": "application/julia",
            "name": "julia",
            "version": "1.6.3"
        },
        "orig_nbformat": 4
    },
    "nbformat": 4,
    "nbformat_minor": 2
}
