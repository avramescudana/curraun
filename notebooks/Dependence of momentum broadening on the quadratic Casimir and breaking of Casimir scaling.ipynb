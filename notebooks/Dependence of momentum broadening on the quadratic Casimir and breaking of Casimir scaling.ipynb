{
 "cells": [
  {
   "attachments": {},
   "cell_type": "markdown",
   "metadata": {},
   "source": [
    "### Default simulation parameters for the Glasma and the Wong solvers"
   ]
  },
  {
   "cell_type": "code",
   "execution_count": 7,
   "metadata": {},
   "outputs": [],
   "source": [
    "import numpy as np\n",
    "\n",
    "# hbar * c [GeV * fm]\n",
    "hbarc = 0.197326 \n",
    "\n",
    "# Simulation box \n",
    "L = 10      \n",
    "N = 512  \n",
    "# N = 1024  \n",
    "tau_sim = 1.5\n",
    "# tau_sim = 1\n",
    "DTS = 8     \n",
    "\n",
    "# Glasma fields\n",
    "su_group = 'su3'\n",
    "\n",
    "Qs = 2        \n",
    "ns = 50    \n",
    "factor = 0.8        \n",
    "g2mu = Qs / factor     \n",
    "g = np.pi * np.sqrt(1 / np.log(Qs / 0.2))          \t\t\n",
    "mu = g2mu / g**2          \t\n",
    "ir = 0.1 * g**2 * mu  \n",
    " \n",
    "uv = 10.0           \n",
    "\n",
    "# Wong solver \n",
    "quark = 'any'\n",
    "mass = 1   \n",
    "tau_form = 0   \n",
    "pT = 0   \n",
    "ntp = 10**5  \n",
    "# nevents = 10\n",
    "nevents = 2    \n",
    "boundary = 'periodic'       \n",
    "\n",
    "# Store relevant parameters in a dictionary\n",
    "p = {\n",
    "    'QUARK': quark,\n",
    "    'MASS': mass, \n",
    "    'TFORM': tau_form,\n",
    "    'TSIM': tau_sim,\n",
    "    'QS': Qs,            \n",
    "    'NEVENTS': nevents,\n",
    "    'NTP': ntp,   \n",
    "    'PT': pT,\n",
    "    }"
   ]
  },
  {
   "attachments": {},
   "cell_type": "markdown",
   "metadata": {},
   "source": [
    "### Set environment variables"
   ]
  },
  {
   "cell_type": "code",
   "execution_count": 2,
   "metadata": {},
   "outputs": [
    {
     "name": "stdout",
     "output_type": "stream",
     "text": [
      "Using CUDA\n",
      "Using SU(3)\n",
      "Using double precision\n",
      "Using double precision\n"
     ]
    }
   ],
   "source": [
    "import os\n",
    "os.environ[\"MY_NUMBA_TARGET\"] = \"cuda\"\n",
    "os.environ[\"PRECISION\"] = \"double\"\n",
    "os.environ[\"GAUGE_GROUP\"] = su_group\n",
    "\n",
    "# Import relevant modules\n",
    "import sys\n",
    "sys.path.append('..')\n",
    "\n",
    "# Glasma modules\n",
    "import curraun.core as core\n",
    "import curraun.mv as mv\n",
    "import curraun.initial as initial\n",
    "initial.DEBUG = False\n",
    "\n",
    "import curraun.su as su\n",
    "from curraun.numba_target import use_cuda\n",
    "if use_cuda:\n",
    "    from numba import cuda\n",
    "\n",
    "# Wong modules\n",
    "from curraun import wong\n",
    "wong.BOUNDARY = boundary\n",
    "wong.CUB_MOM = False\n",
    "from curraun.wong import init_mom_toy, init_pos"
   ]
  },
  {
   "attachments": {},
   "cell_type": "markdown",
   "metadata": {},
   "source": [
    "#### Initialization of color charge"
   ]
  },
  {
   "cell_type": "code",
   "execution_count": 3,
   "metadata": {},
   "outputs": [],
   "source": [
    "from scipy.stats import unitary_group\n",
    "\n",
    "# gell-mann matrices\n",
    "\n",
    "gm = [\n",
    "    [[0, 1, 0], [1, 0, 0], [0, 0, 0]],\n",
    "    [[0, -1j, 0], [1j, 0, 0], [0, 0, 0]],\n",
    "    [[1, 0, 0], [0, -1, 0], [0, 0, 0]],\n",
    "    [[0, 0, 1], [0, 0, 0], [1, 0, 0]],\n",
    "    [[0, 0, -1j], [0, 0, 0], [1j, 0, 0]],\n",
    "    [[0, 0, 0], [0, 0, 1], [0, 1, 0]],\n",
    "    [[0, 0, 0], [0, 0, -1j], [0, 1j, 0]],\n",
    "    [[1 / np.sqrt(3), 0, 0], [0, 1 / np.sqrt(3), 0], [0, 0, -2 / np.sqrt(3)]]\n",
    "]\n",
    "\n",
    "T = np.array(gm) / 2.0\n",
    "\n",
    "def init_charge(q2):\n",
    "    \"\"\"\n",
    "        Step 1: specific random color vector\n",
    "    \"\"\"\n",
    "    # Here q_3=0\n",
    "    q0 = [np.sqrt(q2), 0., 0., 0., 0., 0., 0., 0.]\n",
    "    Q0 = np.einsum('ijk,i', T, q0)\n",
    "\n",
    "    \"\"\"\n",
    "        Step 2: create a random SU(3) matrix to rotate Q.\n",
    "    \"\"\"\n",
    "    \n",
    "    V = unitary_group.rvs(3)\n",
    "    detV = np.linalg.det(V)\n",
    "    U = V / detV ** (1 / 3)\n",
    "    Ud = np.conj(U).T\n",
    "\n",
    "    Q = np.einsum('ab,bc,cd', U, Q0, Ud)\n",
    "\n",
    "    \"\"\"\n",
    "        Step 3: Project onto color components\n",
    "    \"\"\"\n",
    "\n",
    "    q = 2 * np.einsum('ijk,kj', T, Q)\n",
    "    return np.real(q)"
   ]
  },
  {
   "cell_type": "markdown",
   "metadata": {},
   "source": [
    "- - - \n",
    "# Dependence of momentum broadening on the quadratic Casimir"
   ]
  },
  {
   "cell_type": "code",
   "execution_count": 4,
   "metadata": {},
   "outputs": [],
   "source": [
    "import pickle\n",
    "from tqdm import tqdm\n",
    "\n",
    "# Simulation routine\n",
    "def simulate(p, ev): \n",
    "    q2 = p[\"q2\"]\n",
    "\n",
    "    output = {}\n",
    "    output[\"parameters\"] = p.copy()\n",
    "\n",
    "    tau_form = p[\"TFORM\"]\n",
    "    tau_sim = p[\"TSIM\"] + tau_form \n",
    "    mass = p[\"MASS\"]\n",
    "    pT = p[\"PT\"]\n",
    "\n",
    "    # Derived parameters\n",
    "    a = L / N\n",
    "    E0 = N / L * hbarc\n",
    "    DT = 1.0 / DTS\n",
    "    formt = int(tau_form / a * DTS)\n",
    "    maxt = int(tau_sim / a * DTS)\n",
    "\n",
    "    # Initialize Glasma fields\n",
    "    s = core.Simulation(N, DT, g)\n",
    "    va = mv.wilson(s, mu=mu / E0, m=ir / E0, uv=uv / E0, num_sheets=ns)\n",
    "    vb = mv.wilson(s, mu=mu / E0, m=ir / E0, uv=uv / E0, num_sheets=ns)\n",
    "    initial.init(s, va, vb)\n",
    "\n",
    "    # Initialize the Wong solver\n",
    "    wong_solver = wong.WongSolver(s, ntp)\n",
    "    x0s, p0s, q0s = np.zeros((ntp, 3)), np.zeros((ntp, 5)), np.zeros((ntp, su.ALGEBRA_ELEMENTS))\n",
    "    masses = mass / E0 * np.ones(ntp)\n",
    "\n",
    "    for i in range(ntp):\n",
    "        x0, p0, q0 = init_pos(s.n), init_mom_toy('pT', pT / E0), init_charge(q2)\n",
    "        x0s[i, :], p0s[i, :], q0s[i, :] = x0, p0, q0\n",
    "\n",
    "    wong_solver.initialize(x0s, p0s, q0s, masses)\n",
    "\n",
    "    psq = np.zeros((maxt-formt, 4)) \n",
    "\n",
    "    with tqdm(total=maxt) as pbar:\n",
    "        for t in range(maxt):\n",
    "            # Evolve Glasma fields\n",
    "            core.evolve_leapfrog(s)\n",
    "\n",
    "            # Solve Wong's equations\n",
    "            if t>=formt:  \n",
    "                psq_wong = wong_solver.p_sq_mean\n",
    "                psq[t-formt, :] = psq_wong * E0**2\n",
    "\n",
    "                wong_solver.evolve()\n",
    "                wong_solver.compute_mom_broad()\n",
    "\n",
    "            pbar.set_description(\"Event \" + str(ev+1))\n",
    "            pbar.update(1)\n",
    "\n",
    "    formt, maxt = int(tau_form / L * N * DTS), int(tau_sim / L * N * DTS)\n",
    "    tau = np.linspace(0, tau_sim, maxt-formt)\n",
    "\n",
    "    output[\"psq\"], output[\"tau\"] = psq, tau\n",
    "\n",
    "    return output"
   ]
  },
  {
   "cell_type": "code",
   "execution_count": 5,
   "metadata": {},
   "outputs": [
    {
     "name": "stdout",
     "output_type": "stream",
     "text": [
      "Pxinf quark\n",
      "q2 = 0.0\n"
     ]
    },
    {
     "name": "stderr",
     "output_type": "stream",
     "text": [
      "Event 1: 100%|██████████| 614/614 [04:12<00:00,  2.43it/s]\n",
      "Event 2: 100%|██████████| 614/614 [03:54<00:00,  2.62it/s]\n",
      "Event 3: 100%|██████████| 614/614 [03:53<00:00,  2.63it/s]\n",
      "Event 4: 100%|██████████| 614/614 [03:57<00:00,  2.59it/s]\n",
      "Event 5: 100%|██████████| 614/614 [03:55<00:00,  2.60it/s]\n"
     ]
    },
    {
     "name": "stdout",
     "output_type": "stream",
     "text": [
      "q2 = 0.3333333333333333\n"
     ]
    },
    {
     "name": "stderr",
     "output_type": "stream",
     "text": [
      "Event 1: 100%|██████████| 614/614 [03:53<00:00,  2.62it/s]\n",
      "Event 2: 100%|██████████| 614/614 [03:58<00:00,  2.57it/s]\n",
      "Event 3: 100%|██████████| 614/614 [03:52<00:00,  2.64it/s]\n",
      "Event 4: 100%|██████████| 614/614 [03:56<00:00,  2.60it/s]\n",
      "Event 5: 100%|██████████| 614/614 [03:53<00:00,  2.63it/s]\n"
     ]
    },
    {
     "name": "stdout",
     "output_type": "stream",
     "text": [
      "q2 = 0.6666666666666666\n"
     ]
    },
    {
     "name": "stderr",
     "output_type": "stream",
     "text": [
      "Event 1: 100%|██████████| 614/614 [03:53<00:00,  2.63it/s]\n",
      "Event 2: 100%|██████████| 614/614 [03:44<00:00,  2.74it/s]\n",
      "Event 3: 100%|██████████| 614/614 [03:57<00:00,  2.59it/s]\n",
      "Event 4: 100%|██████████| 614/614 [03:56<00:00,  2.59it/s]\n",
      "Event 5: 100%|██████████| 614/614 [03:48<00:00,  2.69it/s]\n"
     ]
    },
    {
     "name": "stdout",
     "output_type": "stream",
     "text": [
      "q2 = 1.0\n"
     ]
    },
    {
     "name": "stderr",
     "output_type": "stream",
     "text": [
      "Event 1: 100%|██████████| 614/614 [03:45<00:00,  2.72it/s]\n",
      "Event 2: 100%|██████████| 614/614 [03:55<00:00,  2.61it/s]\n",
      "Event 3: 100%|██████████| 614/614 [03:56<00:00,  2.60it/s]\n",
      "Event 4: 100%|██████████| 614/614 [03:56<00:00,  2.60it/s]\n",
      "Event 5: 100%|██████████| 614/614 [03:54<00:00,  2.62it/s]\n"
     ]
    },
    {
     "name": "stdout",
     "output_type": "stream",
     "text": [
      "q2 = 1.3333333333333333\n"
     ]
    },
    {
     "name": "stderr",
     "output_type": "stream",
     "text": [
      "Event 1: 100%|██████████| 614/614 [03:52<00:00,  2.64it/s]\n",
      "Event 2: 100%|██████████| 614/614 [03:51<00:00,  2.66it/s]\n",
      "Event 3: 100%|██████████| 614/614 [03:50<00:00,  2.67it/s]\n",
      "Event 4: 100%|██████████| 614/614 [03:52<00:00,  2.64it/s]\n",
      "Event 5: 100%|██████████| 614/614 [03:43<00:00,  2.74it/s]\n"
     ]
    },
    {
     "name": "stdout",
     "output_type": "stream",
     "text": [
      "q2 = 1.6666666666666665\n"
     ]
    },
    {
     "name": "stderr",
     "output_type": "stream",
     "text": [
      "Event 1: 100%|██████████| 614/614 [03:42<00:00,  2.76it/s]\n",
      "Event 2: 100%|██████████| 614/614 [03:56<00:00,  2.60it/s]\n",
      "Event 3: 100%|██████████| 614/614 [03:55<00:00,  2.61it/s]\n",
      "Event 4: 100%|██████████| 614/614 [03:55<00:00,  2.61it/s]\n",
      "Event 5: 100%|██████████| 614/614 [03:49<00:00,  2.68it/s]\n"
     ]
    },
    {
     "name": "stdout",
     "output_type": "stream",
     "text": [
      "q2 = 2.0\n"
     ]
    },
    {
     "name": "stderr",
     "output_type": "stream",
     "text": [
      "Event 1: 100%|██████████| 614/614 [04:15<00:00,  2.40it/s]\n",
      "Event 2: 100%|██████████| 614/614 [04:15<00:00,  2.40it/s]\n",
      "Event 3: 100%|██████████| 614/614 [04:16<00:00,  2.39it/s]\n",
      "Event 4: 100%|██████████| 614/614 [04:24<00:00,  2.32it/s]\n",
      "Event 5: 100%|██████████| 614/614 [04:20<00:00,  2.35it/s]\n"
     ]
    },
    {
     "name": "stdout",
     "output_type": "stream",
     "text": [
      "q2 = 2.333333333333333\n"
     ]
    },
    {
     "name": "stderr",
     "output_type": "stream",
     "text": [
      "Event 1: 100%|██████████| 614/614 [04:20<00:00,  2.36it/s]\n",
      "Event 2: 100%|██████████| 614/614 [04:21<00:00,  2.35it/s]\n",
      "Event 3: 100%|██████████| 614/614 [04:25<00:00,  2.31it/s]\n",
      "Event 4: 100%|██████████| 614/614 [04:19<00:00,  2.37it/s]\n",
      "Event 5: 100%|██████████| 614/614 [04:16<00:00,  2.39it/s]\n"
     ]
    },
    {
     "name": "stdout",
     "output_type": "stream",
     "text": [
      "q2 = 2.6666666666666665\n"
     ]
    },
    {
     "name": "stderr",
     "output_type": "stream",
     "text": [
      "Event 1: 100%|██████████| 614/614 [04:16<00:00,  2.39it/s]\n",
      "Event 2: 100%|██████████| 614/614 [04:18<00:00,  2.38it/s]\n",
      "Event 3: 100%|██████████| 614/614 [04:18<00:00,  2.37it/s]\n",
      "Event 4: 100%|██████████| 614/614 [04:19<00:00,  2.37it/s]\n",
      "Event 5: 100%|██████████| 614/614 [04:13<00:00,  2.42it/s]\n"
     ]
    },
    {
     "name": "stdout",
     "output_type": "stream",
     "text": [
      "q2 = 3.0\n"
     ]
    },
    {
     "name": "stderr",
     "output_type": "stream",
     "text": [
      "Event 1: 100%|██████████| 614/614 [04:18<00:00,  2.38it/s]\n",
      "Event 2: 100%|██████████| 614/614 [04:20<00:00,  2.36it/s]\n",
      "Event 3: 100%|██████████| 614/614 [04:25<00:00,  2.32it/s]\n",
      "Event 4: 100%|██████████| 614/614 [03:37<00:00,  2.82it/s]\n",
      "Event 5: 100%|██████████| 614/614 [03:37<00:00,  2.83it/s]\n"
     ]
    },
    {
     "name": "stdout",
     "output_type": "stream",
     "text": [
      "q2 = 3.333333333333333\n"
     ]
    },
    {
     "name": "stderr",
     "output_type": "stream",
     "text": [
      "Event 1: 100%|██████████| 614/614 [03:34<00:00,  2.87it/s]\n",
      "Event 2: 100%|██████████| 614/614 [03:37<00:00,  2.82it/s]\n",
      "Event 3: 100%|██████████| 614/614 [03:33<00:00,  2.88it/s]\n",
      "Event 4: 100%|██████████| 614/614 [03:34<00:00,  2.87it/s]\n",
      "Event 5: 100%|██████████| 614/614 [03:54<00:00,  2.62it/s]\n"
     ]
    },
    {
     "name": "stdout",
     "output_type": "stream",
     "text": [
      "q2 = 3.6666666666666665\n"
     ]
    },
    {
     "name": "stderr",
     "output_type": "stream",
     "text": [
      "Event 1: 100%|██████████| 614/614 [03:53<00:00,  2.63it/s]\n",
      "Event 2: 100%|██████████| 614/614 [03:53<00:00,  2.63it/s]\n",
      "Event 3: 100%|██████████| 614/614 [03:40<00:00,  2.79it/s]\n",
      "Event 4: 100%|██████████| 614/614 [03:34<00:00,  2.87it/s]\n",
      "Event 5: 100%|██████████| 614/614 [03:32<00:00,  2.88it/s]\n"
     ]
    },
    {
     "name": "stdout",
     "output_type": "stream",
     "text": [
      "q2 = 4.0\n"
     ]
    },
    {
     "name": "stderr",
     "output_type": "stream",
     "text": [
      "Event 1: 100%|██████████| 614/614 [03:36<00:00,  2.84it/s]\n",
      "Event 2: 100%|██████████| 614/614 [03:35<00:00,  2.85it/s]\n",
      "Event 3: 100%|██████████| 614/614 [03:39<00:00,  2.80it/s]\n",
      "Event 4: 100%|██████████| 614/614 [03:58<00:00,  2.57it/s]\n",
      "Event 5: 100%|██████████| 614/614 [04:03<00:00,  2.52it/s]\n"
     ]
    },
    {
     "name": "stdout",
     "output_type": "stream",
     "text": [
      "q2 = 4.333333333333333\n"
     ]
    },
    {
     "name": "stderr",
     "output_type": "stream",
     "text": [
      "Event 1: 100%|██████████| 614/614 [04:15<00:00,  2.40it/s]\n",
      "Event 2: 100%|██████████| 614/614 [04:18<00:00,  2.37it/s]\n",
      "Event 3: 100%|██████████| 614/614 [03:46<00:00,  2.71it/s]\n",
      "Event 4: 100%|██████████| 614/614 [03:56<00:00,  2.59it/s]\n",
      "Event 5: 100%|██████████| 614/614 [04:00<00:00,  2.55it/s]\n"
     ]
    },
    {
     "name": "stdout",
     "output_type": "stream",
     "text": [
      "q2 = 4.666666666666666\n"
     ]
    },
    {
     "name": "stderr",
     "output_type": "stream",
     "text": [
      "Event 1: 100%|██████████| 614/614 [03:52<00:00,  2.64it/s]\n",
      "Event 2: 100%|██████████| 614/614 [03:52<00:00,  2.64it/s]\n",
      "Event 3: 100%|██████████| 614/614 [03:42<00:00,  2.76it/s]\n",
      "Event 4: 100%|██████████| 614/614 [03:51<00:00,  2.66it/s]\n",
      "Event 5: 100%|██████████| 614/614 [03:40<00:00,  2.79it/s]\n"
     ]
    },
    {
     "name": "stdout",
     "output_type": "stream",
     "text": [
      "q2 = 5.0\n"
     ]
    },
    {
     "name": "stderr",
     "output_type": "stream",
     "text": [
      "Event 1: 100%|██████████| 614/614 [03:49<00:00,  2.67it/s]\n",
      "Event 2: 100%|██████████| 614/614 [03:50<00:00,  2.67it/s]\n",
      "Event 3: 100%|██████████| 614/614 [03:40<00:00,  2.78it/s]\n",
      "Event 4: 100%|██████████| 614/614 [03:38<00:00,  2.81it/s]\n",
      "Event 5: 100%|██████████| 614/614 [03:29<00:00,  2.93it/s]\n"
     ]
    },
    {
     "name": "stdout",
     "output_type": "stream",
     "text": [
      "q2 = 5.333333333333333\n"
     ]
    },
    {
     "name": "stderr",
     "output_type": "stream",
     "text": [
      "Event 1: 100%|██████████| 614/614 [03:45<00:00,  2.72it/s]\n",
      "Event 2: 100%|██████████| 614/614 [04:09<00:00,  2.46it/s]\n",
      "Event 3: 100%|██████████| 614/614 [04:07<00:00,  2.48it/s]\n",
      "Event 4: 100%|██████████| 614/614 [03:53<00:00,  2.63it/s]\n",
      "Event 5: 100%|██████████| 614/614 [03:51<00:00,  2.65it/s]\n"
     ]
    },
    {
     "name": "stdout",
     "output_type": "stream",
     "text": [
      "q2 = 5.666666666666666\n"
     ]
    },
    {
     "name": "stderr",
     "output_type": "stream",
     "text": [
      "Event 1: 100%|██████████| 614/614 [03:50<00:00,  2.66it/s]\n",
      "Event 2: 100%|██████████| 614/614 [03:38<00:00,  2.81it/s]\n",
      "Event 3: 100%|██████████| 614/614 [03:51<00:00,  2.65it/s]\n",
      "Event 4: 100%|██████████| 614/614 [03:50<00:00,  2.66it/s]\n",
      "Event 5: 100%|██████████| 614/614 [03:48<00:00,  2.69it/s]\n"
     ]
    },
    {
     "name": "stdout",
     "output_type": "stream",
     "text": [
      "q2 = 6.0\n"
     ]
    },
    {
     "name": "stderr",
     "output_type": "stream",
     "text": [
      "Event 1: 100%|██████████| 614/614 [03:49<00:00,  2.68it/s]\n",
      "Event 2: 100%|██████████| 614/614 [03:51<00:00,  2.65it/s]\n",
      "Event 3: 100%|██████████| 614/614 [03:51<00:00,  2.66it/s]\n",
      "Event 4: 100%|██████████| 614/614 [03:46<00:00,  2.71it/s]\n",
      "Event 5: 100%|██████████| 614/614 [03:42<00:00,  2.76it/s]\n"
     ]
    },
    {
     "name": "stdout",
     "output_type": "stream",
     "text": [
      "M_5_px_10 quark\n",
      "q2 = 0.0\n"
     ]
    },
    {
     "name": "stderr",
     "output_type": "stream",
     "text": [
      "Event 1: 100%|██████████| 614/614 [03:31<00:00,  2.91it/s]\n",
      "Event 2: 100%|██████████| 614/614 [03:34<00:00,  2.87it/s]\n",
      "Event 3: 100%|██████████| 614/614 [03:41<00:00,  2.77it/s]\n",
      "Event 4: 100%|██████████| 614/614 [03:50<00:00,  2.66it/s]\n",
      "Event 5: 100%|██████████| 614/614 [04:11<00:00,  2.44it/s]\n"
     ]
    },
    {
     "name": "stdout",
     "output_type": "stream",
     "text": [
      "q2 = 0.3333333333333333\n"
     ]
    },
    {
     "name": "stderr",
     "output_type": "stream",
     "text": [
      "Event 1: 100%|██████████| 614/614 [03:51<00:00,  2.65it/s]\n",
      "Event 2: 100%|██████████| 614/614 [03:50<00:00,  2.67it/s]\n",
      "Event 3: 100%|██████████| 614/614 [03:40<00:00,  2.78it/s]\n",
      "Event 4: 100%|██████████| 614/614 [03:51<00:00,  2.65it/s]\n",
      "Event 5: 100%|██████████| 614/614 [04:02<00:00,  2.53it/s]\n"
     ]
    },
    {
     "name": "stdout",
     "output_type": "stream",
     "text": [
      "q2 = 0.6666666666666666\n"
     ]
    },
    {
     "name": "stderr",
     "output_type": "stream",
     "text": [
      "Event 1: 100%|██████████| 614/614 [04:03<00:00,  2.52it/s]\n",
      "Event 2: 100%|██████████| 614/614 [04:05<00:00,  2.50it/s]\n",
      "Event 3: 100%|██████████| 614/614 [03:51<00:00,  2.66it/s]\n",
      "Event 4: 100%|██████████| 614/614 [03:49<00:00,  2.68it/s]\n",
      "Event 5: 100%|██████████| 614/614 [03:43<00:00,  2.75it/s]\n"
     ]
    },
    {
     "name": "stdout",
     "output_type": "stream",
     "text": [
      "q2 = 1.0\n"
     ]
    },
    {
     "name": "stderr",
     "output_type": "stream",
     "text": [
      "Event 1: 100%|██████████| 614/614 [03:37<00:00,  2.83it/s]\n",
      "Event 2: 100%|██████████| 614/614 [03:41<00:00,  2.77it/s]\n",
      "Event 3: 100%|██████████| 614/614 [03:51<00:00,  2.65it/s]\n",
      "Event 4: 100%|██████████| 614/614 [03:51<00:00,  2.65it/s]\n",
      "Event 5: 100%|██████████| 614/614 [04:04<00:00,  2.51it/s]\n"
     ]
    },
    {
     "name": "stdout",
     "output_type": "stream",
     "text": [
      "q2 = 1.3333333333333333\n"
     ]
    },
    {
     "name": "stderr",
     "output_type": "stream",
     "text": [
      "Event 1: 100%|██████████| 614/614 [03:57<00:00,  2.59it/s]\n",
      "Event 2: 100%|██████████| 614/614 [03:49<00:00,  2.68it/s]\n",
      "Event 3: 100%|██████████| 614/614 [03:49<00:00,  2.67it/s]\n",
      "Event 4: 100%|██████████| 614/614 [03:35<00:00,  2.85it/s]\n",
      "Event 5: 100%|██████████| 614/614 [03:36<00:00,  2.84it/s]\n"
     ]
    },
    {
     "name": "stdout",
     "output_type": "stream",
     "text": [
      "q2 = 1.6666666666666665\n"
     ]
    },
    {
     "name": "stderr",
     "output_type": "stream",
     "text": [
      "Event 1: 100%|██████████| 614/614 [04:00<00:00,  2.55it/s]\n",
      "Event 2: 100%|██████████| 614/614 [03:53<00:00,  2.63it/s]\n",
      "Event 3: 100%|██████████| 614/614 [03:50<00:00,  2.66it/s]\n",
      "Event 4: 100%|██████████| 614/614 [03:50<00:00,  2.66it/s]\n",
      "Event 5: 100%|██████████| 614/614 [03:40<00:00,  2.78it/s]\n"
     ]
    },
    {
     "name": "stdout",
     "output_type": "stream",
     "text": [
      "q2 = 2.0\n"
     ]
    },
    {
     "name": "stderr",
     "output_type": "stream",
     "text": [
      "Event 1: 100%|██████████| 614/614 [03:48<00:00,  2.69it/s]\n",
      "Event 2: 100%|██████████| 614/614 [03:49<00:00,  2.67it/s]\n",
      "Event 3: 100%|██████████| 614/614 [03:51<00:00,  2.65it/s]\n",
      "Event 4: 100%|██████████| 614/614 [03:50<00:00,  2.66it/s]\n",
      "Event 5: 100%|██████████| 614/614 [03:51<00:00,  2.65it/s]\n"
     ]
    },
    {
     "name": "stdout",
     "output_type": "stream",
     "text": [
      "q2 = 2.333333333333333\n"
     ]
    },
    {
     "name": "stderr",
     "output_type": "stream",
     "text": [
      "Event 1: 100%|██████████| 614/614 [03:51<00:00,  2.65it/s]\n",
      "Event 2: 100%|██████████| 614/614 [03:51<00:00,  2.66it/s]\n",
      "Event 3: 100%|██████████| 614/614 [03:48<00:00,  2.68it/s]\n",
      "Event 4: 100%|██████████| 614/614 [04:08<00:00,  2.47it/s]\n",
      "Event 5: 100%|██████████| 614/614 [04:05<00:00,  2.50it/s]\n"
     ]
    },
    {
     "name": "stdout",
     "output_type": "stream",
     "text": [
      "q2 = 2.6666666666666665\n"
     ]
    },
    {
     "name": "stderr",
     "output_type": "stream",
     "text": [
      "Event 1: 100%|██████████| 614/614 [04:02<00:00,  2.53it/s]\n",
      "Event 2: 100%|██████████| 614/614 [03:48<00:00,  2.68it/s]\n",
      "Event 3: 100%|██████████| 614/614 [04:00<00:00,  2.55it/s]\n",
      "Event 4: 100%|██████████| 614/614 [04:09<00:00,  2.47it/s]\n",
      "Event 5: 100%|██████████| 614/614 [04:11<00:00,  2.45it/s]\n"
     ]
    },
    {
     "name": "stdout",
     "output_type": "stream",
     "text": [
      "q2 = 3.0\n"
     ]
    },
    {
     "name": "stderr",
     "output_type": "stream",
     "text": [
      "Event 1: 100%|██████████| 614/614 [04:01<00:00,  2.55it/s]\n",
      "Event 2: 100%|██████████| 614/614 [03:54<00:00,  2.61it/s]\n",
      "Event 3: 100%|██████████| 614/614 [03:51<00:00,  2.65it/s]\n",
      "Event 4: 100%|██████████| 614/614 [03:52<00:00,  2.64it/s]\n",
      "Event 5: 100%|██████████| 614/614 [03:49<00:00,  2.68it/s]\n"
     ]
    },
    {
     "name": "stdout",
     "output_type": "stream",
     "text": [
      "q2 = 3.333333333333333\n"
     ]
    },
    {
     "name": "stderr",
     "output_type": "stream",
     "text": [
      "Event 1: 100%|██████████| 614/614 [03:52<00:00,  2.65it/s]\n",
      "Event 2: 100%|██████████| 614/614 [03:49<00:00,  2.67it/s]\n",
      "Event 3: 100%|██████████| 614/614 [03:40<00:00,  2.78it/s]\n",
      "Event 4: 100%|██████████| 614/614 [03:51<00:00,  2.65it/s]\n",
      "Event 5: 100%|██████████| 614/614 [03:49<00:00,  2.68it/s]\n"
     ]
    },
    {
     "name": "stdout",
     "output_type": "stream",
     "text": [
      "q2 = 3.6666666666666665\n"
     ]
    },
    {
     "name": "stderr",
     "output_type": "stream",
     "text": [
      "Event 1: 100%|██████████| 614/614 [03:49<00:00,  2.67it/s]\n",
      "Event 2: 100%|██████████| 614/614 [03:51<00:00,  2.65it/s]\n",
      "Event 3: 100%|██████████| 614/614 [03:51<00:00,  2.65it/s]\n",
      "Event 4: 100%|██████████| 614/614 [03:49<00:00,  2.67it/s]\n",
      "Event 5: 100%|██████████| 614/614 [03:51<00:00,  2.66it/s]\n"
     ]
    },
    {
     "name": "stdout",
     "output_type": "stream",
     "text": [
      "q2 = 4.0\n"
     ]
    },
    {
     "name": "stderr",
     "output_type": "stream",
     "text": [
      "Event 1: 100%|██████████| 614/614 [03:50<00:00,  2.67it/s]\n",
      "Event 2: 100%|██████████| 614/614 [03:52<00:00,  2.64it/s]\n",
      "Event 3: 100%|██████████| 614/614 [03:48<00:00,  2.69it/s]\n",
      "Event 4: 100%|██████████| 614/614 [03:48<00:00,  2.68it/s]\n",
      "Event 5: 100%|██████████| 614/614 [03:52<00:00,  2.64it/s]\n"
     ]
    },
    {
     "name": "stdout",
     "output_type": "stream",
     "text": [
      "q2 = 4.333333333333333\n"
     ]
    },
    {
     "name": "stderr",
     "output_type": "stream",
     "text": [
      "Event 1: 100%|██████████| 614/614 [03:54<00:00,  2.62it/s]\n",
      "Event 2: 100%|██████████| 614/614 [03:57<00:00,  2.58it/s]\n",
      "Event 3: 100%|██████████| 614/614 [03:51<00:00,  2.65it/s]\n",
      "Event 4: 100%|██████████| 614/614 [03:48<00:00,  2.68it/s]\n",
      "Event 5: 100%|██████████| 614/614 [03:52<00:00,  2.64it/s]\n"
     ]
    },
    {
     "name": "stdout",
     "output_type": "stream",
     "text": [
      "q2 = 4.666666666666666\n"
     ]
    },
    {
     "name": "stderr",
     "output_type": "stream",
     "text": [
      "Event 1: 100%|██████████| 614/614 [03:58<00:00,  2.58it/s]\n",
      "Event 2: 100%|██████████| 614/614 [03:52<00:00,  2.64it/s]\n",
      "Event 3: 100%|██████████| 614/614 [03:55<00:00,  2.61it/s]\n",
      "Event 4: 100%|██████████| 614/614 [03:42<00:00,  2.76it/s]\n",
      "Event 5: 100%|██████████| 614/614 [03:49<00:00,  2.67it/s]\n"
     ]
    },
    {
     "name": "stdout",
     "output_type": "stream",
     "text": [
      "q2 = 5.0\n"
     ]
    },
    {
     "name": "stderr",
     "output_type": "stream",
     "text": [
      "Event 1: 100%|██████████| 614/614 [03:55<00:00,  2.61it/s]\n",
      "Event 2: 100%|██████████| 614/614 [04:04<00:00,  2.51it/s]\n",
      "Event 3: 100%|██████████| 614/614 [04:11<00:00,  2.44it/s]\n",
      "Event 4: 100%|██████████| 614/614 [04:01<00:00,  2.54it/s]\n",
      "Event 5: 100%|██████████| 614/614 [03:59<00:00,  2.56it/s]\n"
     ]
    },
    {
     "name": "stdout",
     "output_type": "stream",
     "text": [
      "q2 = 5.333333333333333\n"
     ]
    },
    {
     "name": "stderr",
     "output_type": "stream",
     "text": [
      "Event 1: 100%|██████████| 614/614 [03:51<00:00,  2.65it/s]\n",
      "Event 2: 100%|██████████| 614/614 [03:51<00:00,  2.65it/s]\n",
      "Event 3: 100%|██████████| 614/614 [03:34<00:00,  2.86it/s]\n",
      "Event 4: 100%|██████████| 614/614 [03:47<00:00,  2.69it/s]\n",
      "Event 5: 100%|██████████| 614/614 [03:38<00:00,  2.81it/s]\n"
     ]
    },
    {
     "name": "stdout",
     "output_type": "stream",
     "text": [
      "q2 = 5.666666666666666\n"
     ]
    },
    {
     "name": "stderr",
     "output_type": "stream",
     "text": [
      "Event 1: 100%|██████████| 614/614 [03:39<00:00,  2.79it/s]\n",
      "Event 2: 100%|██████████| 614/614 [03:43<00:00,  2.74it/s]\n",
      "Event 3: 100%|██████████| 614/614 [03:34<00:00,  2.86it/s]\n",
      "Event 4: 100%|██████████| 614/614 [03:40<00:00,  2.79it/s]\n",
      "Event 5: 100%|██████████| 614/614 [03:50<00:00,  2.66it/s]\n"
     ]
    },
    {
     "name": "stdout",
     "output_type": "stream",
     "text": [
      "q2 = 6.0\n"
     ]
    },
    {
     "name": "stderr",
     "output_type": "stream",
     "text": [
      "Event 1: 100%|██████████| 614/614 [03:47<00:00,  2.70it/s]\n",
      "Event 2: 100%|██████████| 614/614 [03:42<00:00,  2.76it/s]\n",
      "Event 3: 100%|██████████| 614/614 [03:33<00:00,  2.87it/s]\n",
      "Event 4: 100%|██████████| 614/614 [03:50<00:00,  2.67it/s]\n",
      "Event 5: 100%|██████████| 614/614 [03:26<00:00,  2.98it/s]\n"
     ]
    },
    {
     "name": "stdout",
     "output_type": "stream",
     "text": [
      "M_0.1_px_5 quark\n",
      "q2 = 0.0\n"
     ]
    },
    {
     "name": "stderr",
     "output_type": "stream",
     "text": [
      "Event 1: 100%|██████████| 614/614 [03:21<00:00,  3.05it/s]\n",
      "Event 2: 100%|██████████| 614/614 [03:23<00:00,  3.02it/s]\n",
      "Event 3: 100%|██████████| 614/614 [03:15<00:00,  3.14it/s]\n",
      "Event 4: 100%|██████████| 614/614 [03:20<00:00,  3.06it/s]\n",
      "Event 5: 100%|██████████| 614/614 [03:20<00:00,  3.06it/s]\n"
     ]
    },
    {
     "name": "stdout",
     "output_type": "stream",
     "text": [
      "q2 = 0.3333333333333333\n"
     ]
    },
    {
     "name": "stderr",
     "output_type": "stream",
     "text": [
      "Event 1: 100%|██████████| 614/614 [03:20<00:00,  3.06it/s]\n",
      "Event 2: 100%|██████████| 614/614 [03:21<00:00,  3.05it/s]\n",
      "Event 3: 100%|██████████| 614/614 [03:20<00:00,  3.06it/s]\n",
      "Event 4: 100%|██████████| 614/614 [03:20<00:00,  3.07it/s]\n",
      "Event 5: 100%|██████████| 614/614 [03:17<00:00,  3.12it/s]\n"
     ]
    },
    {
     "name": "stdout",
     "output_type": "stream",
     "text": [
      "q2 = 0.6666666666666666\n"
     ]
    },
    {
     "name": "stderr",
     "output_type": "stream",
     "text": [
      "Event 1: 100%|██████████| 614/614 [03:21<00:00,  3.05it/s]\n",
      "Event 2: 100%|██████████| 614/614 [03:21<00:00,  3.05it/s]\n",
      "Event 3: 100%|██████████| 614/614 [03:21<00:00,  3.05it/s]\n",
      "Event 4: 100%|██████████| 614/614 [03:24<00:00,  3.01it/s]\n",
      "Event 5: 100%|██████████| 614/614 [03:19<00:00,  3.08it/s]\n"
     ]
    },
    {
     "name": "stdout",
     "output_type": "stream",
     "text": [
      "q2 = 1.0\n"
     ]
    },
    {
     "name": "stderr",
     "output_type": "stream",
     "text": [
      "Event 1: 100%|██████████| 614/614 [03:14<00:00,  3.15it/s]\n",
      "Event 2: 100%|██████████| 614/614 [03:18<00:00,  3.10it/s]\n",
      "Event 3: 100%|██████████| 614/614 [03:19<00:00,  3.07it/s]\n",
      "Event 4: 100%|██████████| 614/614 [03:21<00:00,  3.05it/s]\n",
      "Event 5: 100%|██████████| 614/614 [03:18<00:00,  3.09it/s]\n"
     ]
    },
    {
     "name": "stdout",
     "output_type": "stream",
     "text": [
      "q2 = 1.3333333333333333\n"
     ]
    },
    {
     "name": "stderr",
     "output_type": "stream",
     "text": [
      "Event 1: 100%|██████████| 614/614 [03:19<00:00,  3.08it/s]\n",
      "Event 2: 100%|██████████| 614/614 [03:18<00:00,  3.09it/s]\n",
      "Event 3: 100%|██████████| 614/614 [03:24<00:00,  3.00it/s]\n",
      "Event 4: 100%|██████████| 614/614 [03:22<00:00,  3.03it/s]\n",
      "Event 5: 100%|██████████| 614/614 [03:21<00:00,  3.04it/s]\n"
     ]
    },
    {
     "name": "stdout",
     "output_type": "stream",
     "text": [
      "q2 = 1.6666666666666665\n"
     ]
    },
    {
     "name": "stderr",
     "output_type": "stream",
     "text": [
      "Event 1: 100%|██████████| 614/614 [03:21<00:00,  3.05it/s]\n",
      "Event 2: 100%|██████████| 614/614 [03:21<00:00,  3.05it/s]\n",
      "Event 3: 100%|██████████| 614/614 [03:15<00:00,  3.14it/s]\n",
      "Event 4: 100%|██████████| 614/614 [03:19<00:00,  3.08it/s]\n",
      "Event 5: 100%|██████████| 614/614 [03:24<00:00,  3.01it/s]\n"
     ]
    },
    {
     "name": "stdout",
     "output_type": "stream",
     "text": [
      "q2 = 2.0\n"
     ]
    },
    {
     "name": "stderr",
     "output_type": "stream",
     "text": [
      "Event 1: 100%|██████████| 614/614 [03:21<00:00,  3.05it/s]\n",
      "Event 2: 100%|██████████| 614/614 [03:20<00:00,  3.07it/s]\n",
      "Event 3: 100%|██████████| 614/614 [03:23<00:00,  3.02it/s]\n",
      "Event 4: 100%|██████████| 614/614 [03:14<00:00,  3.15it/s]\n",
      "Event 5: 100%|██████████| 614/614 [03:21<00:00,  3.05it/s]\n"
     ]
    },
    {
     "name": "stdout",
     "output_type": "stream",
     "text": [
      "q2 = 2.333333333333333\n"
     ]
    },
    {
     "name": "stderr",
     "output_type": "stream",
     "text": [
      "Event 1: 100%|██████████| 614/614 [03:21<00:00,  3.05it/s]\n",
      "Event 2: 100%|██████████| 614/614 [03:21<00:00,  3.05it/s]\n",
      "Event 3: 100%|██████████| 614/614 [03:28<00:00,  2.94it/s]\n",
      "Event 4: 100%|██████████| 614/614 [03:28<00:00,  2.94it/s]\n",
      "Event 5: 100%|██████████| 614/614 [03:06<00:00,  3.28it/s]\n"
     ]
    },
    {
     "name": "stdout",
     "output_type": "stream",
     "text": [
      "q2 = 2.6666666666666665\n"
     ]
    },
    {
     "name": "stderr",
     "output_type": "stream",
     "text": [
      "Event 1: 100%|██████████| 614/614 [02:31<00:00,  4.05it/s]\n",
      "Event 2: 100%|██████████| 614/614 [02:29<00:00,  4.09it/s]\n",
      "Event 3: 100%|██████████| 614/614 [02:29<00:00,  4.10it/s]\n",
      "Event 4: 100%|██████████| 614/614 [02:30<00:00,  4.08it/s]\n",
      "Event 5: 100%|██████████| 614/614 [02:30<00:00,  4.08it/s]\n"
     ]
    },
    {
     "name": "stdout",
     "output_type": "stream",
     "text": [
      "q2 = 3.0\n"
     ]
    },
    {
     "name": "stderr",
     "output_type": "stream",
     "text": [
      "Event 1: 100%|██████████| 614/614 [02:29<00:00,  4.10it/s]\n",
      "Event 2: 100%|██████████| 614/614 [02:29<00:00,  4.10it/s]\n",
      "Event 3: 100%|██████████| 614/614 [02:29<00:00,  4.09it/s]\n",
      "Event 4: 100%|██████████| 614/614 [02:29<00:00,  4.10it/s]\n",
      "Event 5: 100%|██████████| 614/614 [02:29<00:00,  4.10it/s]\n"
     ]
    },
    {
     "name": "stdout",
     "output_type": "stream",
     "text": [
      "q2 = 3.333333333333333\n"
     ]
    },
    {
     "name": "stderr",
     "output_type": "stream",
     "text": [
      "Event 1: 100%|██████████| 614/614 [02:30<00:00,  4.07it/s]\n",
      "Event 2: 100%|██████████| 614/614 [02:30<00:00,  4.08it/s]\n",
      "Event 3: 100%|██████████| 614/614 [02:30<00:00,  4.07it/s]\n",
      "Event 4: 100%|██████████| 614/614 [02:30<00:00,  4.07it/s]\n",
      "Event 5: 100%|██████████| 614/614 [02:30<00:00,  4.09it/s]\n"
     ]
    },
    {
     "name": "stdout",
     "output_type": "stream",
     "text": [
      "q2 = 3.6666666666666665\n"
     ]
    },
    {
     "name": "stderr",
     "output_type": "stream",
     "text": [
      "Event 1: 100%|██████████| 614/614 [02:29<00:00,  4.12it/s]\n",
      "Event 2: 100%|██████████| 614/614 [02:29<00:00,  4.11it/s]\n",
      "Event 3: 100%|██████████| 614/614 [02:31<00:00,  4.05it/s]\n",
      "Event 4: 100%|██████████| 614/614 [02:29<00:00,  4.10it/s]\n",
      "Event 5: 100%|██████████| 614/614 [02:30<00:00,  4.09it/s]\n"
     ]
    },
    {
     "name": "stdout",
     "output_type": "stream",
     "text": [
      "q2 = 4.0\n"
     ]
    },
    {
     "name": "stderr",
     "output_type": "stream",
     "text": [
      "Event 1: 100%|██████████| 614/614 [02:30<00:00,  4.08it/s]\n",
      "Event 2: 100%|██████████| 614/614 [02:29<00:00,  4.11it/s]\n",
      "Event 3: 100%|██████████| 614/614 [02:28<00:00,  4.13it/s]\n",
      "Event 4: 100%|██████████| 614/614 [02:28<00:00,  4.12it/s]\n",
      "Event 5: 100%|██████████| 614/614 [02:28<00:00,  4.14it/s]\n"
     ]
    },
    {
     "name": "stdout",
     "output_type": "stream",
     "text": [
      "q2 = 4.333333333333333\n"
     ]
    },
    {
     "name": "stderr",
     "output_type": "stream",
     "text": [
      "Event 1: 100%|██████████| 614/614 [02:28<00:00,  4.13it/s]\n",
      "Event 2: 100%|██████████| 614/614 [02:28<00:00,  4.12it/s]\n",
      "Event 3: 100%|██████████| 614/614 [02:29<00:00,  4.10it/s]\n",
      "Event 4: 100%|██████████| 614/614 [02:29<00:00,  4.11it/s]\n",
      "Event 5: 100%|██████████| 614/614 [02:28<00:00,  4.13it/s]\n"
     ]
    },
    {
     "name": "stdout",
     "output_type": "stream",
     "text": [
      "q2 = 4.666666666666666\n"
     ]
    },
    {
     "name": "stderr",
     "output_type": "stream",
     "text": [
      "Event 1: 100%|██████████| 614/614 [02:28<00:00,  4.13it/s]\n",
      "Event 2: 100%|██████████| 614/614 [02:29<00:00,  4.11it/s]\n",
      "Event 3: 100%|██████████| 614/614 [02:29<00:00,  4.10it/s]\n",
      "Event 4: 100%|██████████| 614/614 [02:29<00:00,  4.11it/s]\n",
      "Event 5: 100%|██████████| 614/614 [02:30<00:00,  4.08it/s]\n"
     ]
    },
    {
     "name": "stdout",
     "output_type": "stream",
     "text": [
      "q2 = 5.0\n"
     ]
    },
    {
     "name": "stderr",
     "output_type": "stream",
     "text": [
      "Event 1: 100%|██████████| 614/614 [02:32<00:00,  4.03it/s]\n",
      "Event 2: 100%|██████████| 614/614 [02:30<00:00,  4.08it/s]\n",
      "Event 3: 100%|██████████| 614/614 [02:29<00:00,  4.10it/s]\n",
      "Event 4: 100%|██████████| 614/614 [02:29<00:00,  4.10it/s]\n",
      "Event 5: 100%|██████████| 614/614 [02:29<00:00,  4.10it/s]\n"
     ]
    },
    {
     "name": "stdout",
     "output_type": "stream",
     "text": [
      "q2 = 5.333333333333333\n"
     ]
    },
    {
     "name": "stderr",
     "output_type": "stream",
     "text": [
      "Event 1: 100%|██████████| 614/614 [02:29<00:00,  4.10it/s]\n",
      "Event 2: 100%|██████████| 614/614 [02:30<00:00,  4.07it/s]\n",
      "Event 3: 100%|██████████| 614/614 [02:29<00:00,  4.10it/s]\n",
      "Event 4: 100%|██████████| 614/614 [02:29<00:00,  4.12it/s]\n",
      "Event 5: 100%|██████████| 614/614 [02:28<00:00,  4.12it/s]\n"
     ]
    },
    {
     "name": "stdout",
     "output_type": "stream",
     "text": [
      "q2 = 5.666666666666666\n"
     ]
    },
    {
     "name": "stderr",
     "output_type": "stream",
     "text": [
      "Event 1: 100%|██████████| 614/614 [02:29<00:00,  4.12it/s]\n",
      "Event 2: 100%|██████████| 614/614 [02:29<00:00,  4.11it/s]\n",
      "Event 3: 100%|██████████| 614/614 [02:30<00:00,  4.09it/s]\n",
      "Event 4: 100%|██████████| 614/614 [02:30<00:00,  4.09it/s]\n",
      "Event 5: 100%|██████████| 614/614 [02:31<00:00,  4.07it/s]\n"
     ]
    },
    {
     "name": "stdout",
     "output_type": "stream",
     "text": [
      "q2 = 6.0\n"
     ]
    },
    {
     "name": "stderr",
     "output_type": "stream",
     "text": [
      "Event 1: 100%|██████████| 614/614 [02:30<00:00,  4.09it/s]\n",
      "Event 2: 100%|██████████| 614/614 [02:30<00:00,  4.09it/s]\n",
      "Event 3: 100%|██████████| 614/614 [02:29<00:00,  4.10it/s]\n",
      "Event 4: 100%|██████████| 614/614 [02:29<00:00,  4.11it/s]\n",
      "Event 5: 100%|██████████| 614/614 [02:29<00:00,  4.09it/s]\n"
     ]
    }
   ],
   "source": [
    "# q2s = [4/3, 4.0]\n",
    "q2s = np.linspace(0, 6, 19)\n",
    "\n",
    "# quarks = ['infmass', 'beauty', 'charm']\n",
    "# quark_masses = [10**6, 4.18, 1.27]\n",
    "\n",
    "quarks = ['pxinf', 'm_5_px_10', 'm_0.1_px_5']\n",
    "quark_masses = [0.1, 5, 0.1]\n",
    "pTs = [1000, 10, 5]\n",
    "\n",
    "# quarks = ['beauty', 'charm']\n",
    "# quark_masses = [4.18, 1.27]\n",
    "\n",
    "# quarks = ['infmass']\n",
    "# quark_masses = [10**6]\n",
    "\n",
    "psq, tau = {}, {}\n",
    "for iq, quark in enumerate(quarks):\n",
    "    print(quarks[iq].capitalize() + \" quark\")\n",
    "    p['QUARK'], p['MASS'], p['PT'] = quark, quark_masses[iq], pTs[iq]\n",
    "    # transverse mass\n",
    "    # mT = np.sqrt(p[\"MASS\"]**2+p[\"PT\"]**2)   \n",
    "    # p['TFORM'] = 1/(2*mT)*hbarc\n",
    "    p['TFORM'] = 0\n",
    "    # if quark=='infmass':\n",
    "        # p['TFORM'] = 0.\n",
    "\n",
    "    psq[quark], tau[quark] = {}, {}\n",
    "\n",
    "    for q2 in q2s:\n",
    "        p[\"q2\"] =  q2\n",
    "        print(\"q2 =\", p[\"q2\"])\n",
    "\n",
    "        psqs = []\n",
    "\n",
    "        for ev in range(nevents):\n",
    "            output = simulate(p, ev)\n",
    "            psqs.append(output[\"psq\"])\n",
    "\n",
    "        psq[quark][str(q2)] = np.mean(psqs, axis=0)\n",
    "\n",
    "    tau[quark] = output[\"tau\"]\n",
    "    \n",
    "\n",
    "output = {}\n",
    "output[\"psq\"], output[\"tau\"] = psq, tau\n",
    "output[\"quarks\"], output[\"q2s\"] = quarks, q2s\n",
    "output[\"masses\"], output[\"pTs\"] = quark_masses, pTs\n",
    "\n",
    "filename = 'jet_mom_broad_q2_dep.pickle'\n",
    "with open(filename, 'wb') as handle:\n",
    "    pickle.dump(output, handle)"
   ]
  },
  {
   "cell_type": "markdown",
   "metadata": {},
   "source": [
    "- - -"
   ]
  },
  {
   "cell_type": "markdown",
   "metadata": {},
   "source": [
    "# Breaking of the Casimir scaling"
   ]
  },
  {
   "cell_type": "code",
   "execution_count": 6,
   "metadata": {},
   "outputs": [
    {
     "name": "stdout",
     "output_type": "stream",
     "text": [
      "Infmass quark\n",
      "q2 = 1.3333333333333333\n"
     ]
    },
    {
     "name": "stderr",
     "output_type": "stream",
     "text": [
      "Event 1: 100%|██████████| 614/614 [02:29<00:00,  4.11it/s]\n",
      "Event 2: 100%|██████████| 614/614 [02:29<00:00,  4.11it/s]\n",
      "Event 3: 100%|██████████| 614/614 [02:30<00:00,  4.09it/s]\n",
      "Event 4: 100%|██████████| 614/614 [02:30<00:00,  4.08it/s]\n",
      "Event 5: 100%|██████████| 614/614 [02:30<00:00,  4.09it/s]\n"
     ]
    },
    {
     "name": "stdout",
     "output_type": "stream",
     "text": [
      "q2 = 3.0\n"
     ]
    },
    {
     "name": "stderr",
     "output_type": "stream",
     "text": [
      "Event 1: 100%|██████████| 614/614 [02:32<00:00,  4.02it/s]\n",
      "Event 2: 100%|██████████| 614/614 [02:30<00:00,  4.09it/s]\n",
      "Event 3: 100%|██████████| 614/614 [02:29<00:00,  4.10it/s]\n",
      "Event 4: 100%|██████████| 614/614 [02:29<00:00,  4.11it/s]\n",
      "Event 5: 100%|██████████| 614/614 [02:29<00:00,  4.11it/s]\n"
     ]
    },
    {
     "name": "stdout",
     "output_type": "stream",
     "text": [
      "Beauty quark\n",
      "q2 = 1.3333333333333333\n"
     ]
    },
    {
     "name": "stderr",
     "output_type": "stream",
     "text": [
      "Event 1: 100%|██████████| 620/620 [02:32<00:00,  4.06it/s]\n",
      "Event 2: 100%|██████████| 620/620 [02:29<00:00,  4.16it/s]\n",
      "Event 3: 100%|██████████| 620/620 [02:29<00:00,  4.15it/s]\n",
      "Event 4: 100%|██████████| 620/620 [02:29<00:00,  4.14it/s]\n",
      "Event 5: 100%|██████████| 620/620 [02:29<00:00,  4.14it/s]\n"
     ]
    },
    {
     "name": "stdout",
     "output_type": "stream",
     "text": [
      "q2 = 3.0\n"
     ]
    },
    {
     "name": "stderr",
     "output_type": "stream",
     "text": [
      "Event 1: 100%|██████████| 620/620 [02:29<00:00,  4.14it/s]\n",
      "Event 2: 100%|██████████| 620/620 [02:29<00:00,  4.13it/s]\n",
      "Event 3: 100%|██████████| 620/620 [02:30<00:00,  4.13it/s]\n",
      "Event 4: 100%|██████████| 620/620 [02:31<00:00,  4.09it/s]\n",
      "Event 5: 100%|██████████| 620/620 [02:30<00:00,  4.12it/s]\n"
     ]
    },
    {
     "name": "stdout",
     "output_type": "stream",
     "text": [
      "Charm quark\n",
      "q2 = 1.3333333333333333\n"
     ]
    },
    {
     "name": "stderr",
     "output_type": "stream",
     "text": [
      "Event 1: 100%|██████████| 622/622 [02:31<00:00,  4.11it/s]\n",
      "Event 2: 100%|██████████| 622/622 [02:30<00:00,  4.13it/s]\n",
      "Event 3: 100%|██████████| 622/622 [02:31<00:00,  4.11it/s]\n",
      "Event 4: 100%|██████████| 622/622 [02:31<00:00,  4.10it/s]\n",
      "Event 5: 100%|██████████| 622/622 [02:31<00:00,  4.10it/s]\n"
     ]
    },
    {
     "name": "stdout",
     "output_type": "stream",
     "text": [
      "q2 = 3.0\n"
     ]
    },
    {
     "name": "stderr",
     "output_type": "stream",
     "text": [
      "Event 1: 100%|██████████| 622/622 [02:31<00:00,  4.11it/s]\n",
      "Event 2: 100%|██████████| 622/622 [02:30<00:00,  4.13it/s]\n",
      "Event 3: 100%|██████████| 622/622 [02:30<00:00,  4.13it/s]\n",
      "Event 4: 100%|██████████| 622/622 [02:32<00:00,  4.07it/s]\n",
      "Event 5: 100%|██████████| 622/622 [02:31<00:00,  4.10it/s]\n"
     ]
    }
   ],
   "source": [
    "q2s = [4/3, 3.0]\n",
    "\n",
    "nevents = 5\n",
    "\n",
    "quarks = ['infmass', 'beauty', 'charm']\n",
    "quark_masses = [10**6, 4.18, 1.27]\n",
    "\n",
    "psq, tau = {}, {}\n",
    "for iq, quark in enumerate(quarks):\n",
    "    print(quarks[iq].capitalize() + \" quark\")\n",
    "    p['QUARK'], p['MASS'] = quark, quark_masses[iq]\n",
    "    # transverse mass\n",
    "    mT = np.sqrt(p[\"MASS\"]**2+p[\"PT\"]**2)   \n",
    "    p['TFORM'] = 1/(2*mT)*hbarc\n",
    "    if quark=='infmass':\n",
    "        p['TFORM'] = 0.\n",
    "\n",
    "    psq[quark], tau[quark] = {}, {}\n",
    "\n",
    "    for q2 in q2s:\n",
    "        p[\"q2\"] =  q2\n",
    "        print(\"q2 =\", p[\"q2\"])\n",
    "\n",
    "        psqs = []\n",
    "\n",
    "        for ev in range(nevents):\n",
    "            output = simulate(p, ev)\n",
    "            psqs.append(output[\"psq\"])\n",
    "\n",
    "        psq[quark][str(q2)] = np.mean(psqs, axis=0)\n",
    "\n",
    "    tau[quark] = output[\"tau\"]\n",
    "    \n",
    "\n",
    "output = {}\n",
    "output[\"psq\"], output[\"tau\"] = psq, tau\n",
    "output[\"quarks\"], output[\"q2s\"] = quarks, q2s\n",
    "\n",
    "filename = 'mom_broad_casimir_scaling_finer_lattice.pickle'\n",
    "with open(filename, 'wb') as handle:\n",
    "    pickle.dump(output, handle)"
   ]
  }
 ],
 "metadata": {
  "kernelspec": {
   "display_name": "Python 3",
   "language": "python",
   "name": "python3"
  },
  "language_info": {
   "codemirror_mode": {
    "name": "ipython",
    "version": 3
   },
   "file_extension": ".py",
   "mimetype": "text/x-python",
   "name": "python",
   "nbconvert_exporter": "python",
   "pygments_lexer": "ipython3",
   "version": "3.6.8"
  },
  "orig_nbformat": 4
 },
 "nbformat": 4,
 "nbformat_minor": 2
}
