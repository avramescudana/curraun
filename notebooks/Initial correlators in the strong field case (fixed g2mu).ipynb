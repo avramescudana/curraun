{
 "cells": [
  {
   "cell_type": "markdown",
   "metadata": {},
   "source": [
    "# Correlators of initial chromoelectric and chromomagnetic fields in the non-perturbative Glasma\n",
    "\n",
    "In this notebook we compute the gauge-invariant field strength correlators for the parameters used in our momentum broadening calculation. We generate Glasma initial conditions and then compute\n",
    "$$\n",
    "C_E(x_T - y_T) = \\big< \\mathrm{Tr} \\left[ E_z(x_T) U_{x \\rightarrow y} E_z(y_T) U_{y \\rightarrow x} \\right] \\big>\n",
    "$$\n",
    "and similarly for the magnetic field $B_z$.\n",
    "\n",
    "We compute everthing at fixed $g^2 \\mu$ and rescale to fixed $Q_s$ according to the numerical results of  [arXiv:0711.3039](https://arxiv.org/abs/0711.3039)."
   ]
  },
  {
   "cell_type": "code",
   "execution_count": 3,
   "metadata": {},
   "outputs": [
    {
     "name": "stdout",
     "output_type": "stream",
     "text": [
      "Using CUDA\n",
      "Using SU(3)\n",
      "Using double precision\n"
     ]
    }
   ],
   "source": [
    "# Set environment variables \n",
    "import os\n",
    "os.environ[\"MY_NUMBA_TARGET\"] = \"cuda\"\n",
    "os.environ[\"GAUGE_GROUP\"] = \"su3\"\n",
    "os.environ[\"PRECISION\"] = \"double\"\n",
    "\n",
    "# This line is necessary, because cupy otherwise doesn't find\n",
    "# the cuda installation path. This is probably a configuration\n",
    "# issue and should be removed on other machines.\n",
    "os.environ[\"CUDA_PATH\"] = \"/usr/local/cuda-9.0\"\n",
    "\n",
    "# Import curraun and other packages\n",
    "import sys\n",
    "sys.path.append('..')\n",
    "\n",
    "import curraun.core as core\n",
    "import curraun.mv as mv\n",
    "import curraun.initial as initial\n",
    "from curraun.correlators import Correlators\n",
    "import numpy as np\n",
    "import matplotlib.pyplot as plt\n",
    "import pickle\n",
    "from tqdm import tqdm\n",
    "\n",
    "from curraun.numba_target import use_cuda, use_numba\n",
    "if use_cuda:\n",
    "    from numba import cuda"
   ]
  },
  {
   "cell_type": "code",
   "execution_count": 4,
   "metadata": {},
   "outputs": [],
   "source": [
    "# Parameters\n",
    "\n",
    "g2mu = 1.0\n",
    "hbarc = 0.197326\n",
    "m_ratios = [0.00, 0.05, 0.10, 0.20]\n",
    "g = 2\n",
    "N = 1024\n",
    "DT = 1 / 16.0\n",
    "UV = 10000.0\n",
    "NS = 50\n",
    "NE = 500"
   ]
  },
  {
   "cell_type": "code",
   "execution_count": null,
   "metadata": {},
   "outputs": [
    {
     "name": "stdout",
     "output_type": "stream",
     "text": [
      "\r",
      "  0%|          | 0/500 [00:00<?, ?it/s]"
     ]
    }
   ],
   "source": [
    "param_sets = len(m_ratios)\n",
    "for param_set in range(param_sets):\n",
    "    # compute everything for g2mu =  1 GeV, rescale for other results\n",
    "    mu = g2mu / g ** 2\n",
    "    m = m_ratios[param_set] * g2mu\n",
    "    L = 100.0 / g2mu * hbarc\n",
    "\n",
    "    # simulation parameters\n",
    "    M = m\n",
    "    MU = mu\n",
    "    G = g\n",
    "    \n",
    "    Ezs = []\n",
    "    Bzs = []\n",
    "    \n",
    "    with tqdm(total=NE, file=sys.stdout) as pbar:\n",
    "        for e in range(NE):\n",
    "            # initialization\n",
    "            initial.DEBUG = False\n",
    "            E0 = N / L * hbarc\n",
    "            s = core.Simulation(N, DT, G)\n",
    "            va = mv.wilson(s, mu=MU / E0, m=M / E0, uv=UV / E0, num_sheets=NS)\n",
    "            vb = mv.wilson(s, mu=MU / E0, m=M / E0, uv=UV / E0, num_sheets=NS)\n",
    "            initial.init(s, va, vb)\n",
    "\n",
    "            if use_cuda:\n",
    "                s.copy_to_device()\n",
    "\n",
    "            corr = Correlators(s)\n",
    "            corr.compute('Ez')\n",
    "            Ez_c = corr.corr.copy()\n",
    "            Ezs.append(Ez_c)\n",
    "            corr.compute('Bz')\n",
    "            Bz_c = corr.corr.copy()\n",
    "            Bzs.append(Bz_c)\n",
    "            \n",
    "            pbar.set_description('Event {} of {}'.format(e+1, NE))\n",
    "            pbar.update(1)\n",
    "\n",
    "    Ezs = np.mean(np.array(Ezs), axis=0)\n",
    "    Bzs = np.mean(np.array(Bzs), axis=0)\n",
    "\n",
    "    Ezs_std = np.std(np.array(Ezs), axis=0)\n",
    "    Bzs_std = np.std(np.array(Bzs), axis=0)\n",
    "    \n",
    "    res = {}\n",
    "    res[\"Ez\"] = Ezs\n",
    "    res[\"Bz\"] = Bzs\n",
    "    \n",
    "    res[\"Ez_std\"] = Ezs_std\n",
    "    res[\"Bz_std\"] = Bzs_std\n",
    "    \n",
    "    fname = \"./initial_correlator_8_set_{}.pickle\".format(param_set)\n",
    "    pickle.dump(res, open(fname, \"wb\"))"
   ]
  },
  {
   "cell_type": "markdown",
   "metadata": {},
   "source": [
    "## Load data from files"
   ]
  },
  {
   "cell_type": "code",
   "execution_count": 5,
   "metadata": {},
   "outputs": [],
   "source": [
    "# load the data\n",
    "import numpy as np\n",
    "import matplotlib.pyplot as plt\n",
    "import pickle\n",
    "results = []\n",
    "param_sets = len(m_ratios)\n",
    "for param_set in range(param_sets):\n",
    "    fname = \"./initial_correlator_8_set_{}.pickle\".format(param_set)\n",
    "    res = pickle.load(open(fname, \"rb\"))\n",
    "    results.append(res)"
   ]
  },
  {
   "cell_type": "markdown",
   "metadata": {},
   "source": [
    "## Coordinate space correlators"
   ]
  },
  {
   "cell_type": "code",
   "execution_count": 23,
   "metadata": {},
   "outputs": [
    {
     "data": {
      "image/png": "[encoded data removed]",
      "text/plain": [
       "<Figure size 432x288 with 1 Axes>"
      ]
     },
     "metadata": {
      "needs_background": "light"
     },
     "output_type": "display_data"
    }
   ],
   "source": [
    "coordinate_data = []\n",
    "\n",
    "Qs_ratios = [1.08, 0.98, 0.85, 0.68]\n",
    "for i, res in enumerate(results):\n",
    "    mu = g2mu / g ** 2\n",
    "    m = m_ratios[i] * g2mu\n",
    "    L = 100.0 / g2mu\n",
    "    Qs = Qs_ratios[i] * g2mu\n",
    "    \n",
    "    r = np.linspace(0, L/2, num=N//2) \n",
    "    r *= Qs\n",
    "    \n",
    "    E0 = N / L * hbarc\n",
    "    Ezs, Bzs = res[\"Ez\"], res[\"Bz\"]\n",
    "    \n",
    "    f = E0 ** 4 / g ** 2 / Qs ** 4\n",
    "    m = m_ratios[i]\n",
    "    Ez_d = r * f * Ezs\n",
    "    Bz_d = r * f * Bzs\n",
    "    \n",
    "    coordinate_data.append(r)\n",
    "    coordinate_data.append(Ez_d)\n",
    "    coordinate_data.append(Bz_d)\n",
    "    \n",
    "    plt.plot(r, Ez_d, 'rx')\n",
    "    plt.plot(r, Bz_d, 'bx')\n",
    "\n",
    "plt.xlim([0, 6.0])\n",
    "plt.grid()\n",
    "plt.xlabel(\"Q_s r\")\n",
    "plt.ylabel(\"r C(r) / Q^3_s\")\n",
    "plt.show()\n",
    "\n",
    "# export data for pgfplots\n",
    "coordinate_data = np.array(coordinate_data).T\n",
    "coordinate_data = np.nan_to_num(coordinate_data)\n",
    "\n",
    "# reduce size of table for smaller plot file size\n",
    "i1 = np.argmin(np.abs(coordinate_data[:, 0] - 6.5))\n",
    "i2 = np.argmin(np.abs(coordinate_data[:, 3] - 6.5))\n",
    "i3 = np.argmin(np.abs(coordinate_data[:, 6] - 6.5))\n",
    "i4 = np.argmin(np.abs(coordinate_data[:, 9] - 6.5))\n",
    "\n",
    "i_max = np.max([i1, i2, i3, i4])\n",
    "coordinate_data = coordinate_data[:i_max, :]\n",
    "np.savetxt(\"strong_correlators_r.dat\", coordinate_data, header=\"Q_s r, r * <E_z E_z>, r * <B_z B_z> (x 4)\")"
   ]
  },
  {
   "cell_type": "markdown",
   "metadata": {},
   "source": [
    "# Momentum space correlators\n",
    "\n",
    "Compute correlators in momentum space by performing the Hankel transformation."
   ]
  },
  {
   "cell_type": "code",
   "execution_count": 88,
   "metadata": {},
   "outputs": [],
   "source": [
    "from scipy.integrate import nquad, simps\n",
    "\n",
    "# since numba does not support scipy.special out of the box, we have to do this:\n",
    "from numba.extending import get_cython_function_address\n",
    "from numba import vectorize, njit\n",
    "import ctypes\n",
    "\n",
    "# J(0,x)\n",
    "addr = get_cython_function_address(\"scipy.special.cython_special\", \"j0\")\n",
    "functype = ctypes.CFUNCTYPE(ctypes.c_double, ctypes.c_double)\n",
    "j0_fn = functype(addr)\n",
    "\n",
    "@vectorize('float64(float64)')\n",
    "def vec_j0(x):\n",
    "    return j0_fn(x)\n",
    "\n",
    "@njit\n",
    "def j0_njit(x):\n",
    "    return vec_j0(x)\n",
    "\n",
    "# J(1, x)\n",
    "addr = get_cython_function_address(\"scipy.special.cython_special\", \"j1\")\n",
    "functype = ctypes.CFUNCTYPE(ctypes.c_double, ctypes.c_double)\n",
    "j1_fn = functype(addr)\n",
    "\n",
    "@vectorize('float64(float64)')\n",
    "def vec_j1(x):\n",
    "    return j1_fn(x)\n",
    "\n",
    "@njit\n",
    "def j1_njit(x):\n",
    "    return vec_j1(x)"
   ]
  },
  {
   "cell_type": "code",
   "execution_count": 94,
   "metadata": {},
   "outputs": [
    {
     "data": {
      "image/png": "[encoded data removed]",
      "text/plain": [
       "<Figure size 432x288 with 1 Axes>"
      ]
     },
     "metadata": {
      "needs_background": "light"
     },
     "output_type": "display_data"
    }
   ],
   "source": [
    "# Restrict the coordinate range used in the Hankel transformation to smooth out noise.\n",
    "lim = 8.0\n",
    "Qs_ratios = [1.08, 0.98, 0.85, 0.68]\n",
    "momentum_data = []\n",
    "\n",
    "for i, res in enumerate(results):\n",
    "    mu = g2mu / g ** 2\n",
    "    m = m_ratios[param_set] * g2mu\n",
    "    L = 100.0 / g2mu\n",
    "    Qs = Qs_ratios[i] * g2mu\n",
    "    E0 = N / L\n",
    "    \n",
    "    f = E0 ** 4 / g ** 2 / Qs ** 4\n",
    "\n",
    "    lim_L = L / lim\n",
    "    lim_N = int(N / lim)\n",
    "\n",
    "    r = np.linspace(0, lim_L, num=lim_N) # in (g^2 \\mu)^{-1}\n",
    "    r *= Qs                              # in (Qs)^{-1}\n",
    "    \n",
    "    Ezs, Bzs = res[\"Ez\"], res[\"Bz\"]\n",
    "    Ez_d = r * f * Ezs[:lim_N]\n",
    "    Bz_d = r * f * Bzs[:lim_N]\n",
    "    \n",
    "    p_range = np.linspace(0.0, 6.0, num=100)\n",
    "    Ez_m = np.array([simps(x=r, y=Ez_d * vec_j0(p * r)) for p in p_range])\n",
    "    Bz_m = np.array([simps(x=r, y=Bz_d * vec_j0(p * r)) for p in p_range])\n",
    "    \n",
    "    momentum_data.append(p_range)\n",
    "    momentum_data.append(Ez_m)\n",
    "    momentum_data.append(Bz_m)\n",
    "    \n",
    "    plt.plot(p_range, Ez_m, 'rx')\n",
    "    plt.plot(p_range, Bz_m, 'bx')\n",
    "plt.xlim([0, 6])\n",
    "plt.xlabel(\"k / Q_s\")\n",
    "plt.ylabel(\"c(k) / Q^2_s\")\n",
    "plt.show()\n",
    "\n",
    "momentum_data = np.array(momentum_data)\n",
    "\n",
    "\n",
    "# export data for pgfplots\n",
    "momentum_data = np.array(momentum_data).T\n",
    "momentum_data = np.nan_to_num(momentum_data)\n",
    "np.savetxt(\"strong_correlators_k.dat\", momentum_data, header=\"k / Q_s, <E_z E_z>, <B_z B_z> (x 4)\")"
   ]
  }
 ],
 "metadata": {
  "kernelspec": {
   "display_name": "Python 3",
   "language": "python",
   "name": "python3"
  },
  "language_info": {
   "codemirror_mode": {
    "name": "ipython",
    "version": 3
   },
   "file_extension": ".py",
   "mimetype": "text/x-python",
   "name": "python",
   "nbconvert_exporter": "python",
   "pygments_lexer": "ipython3",
   "version": "3.6.9"
  }
 },
 "nbformat": 4,
 "nbformat_minor": 2
}
