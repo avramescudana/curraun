{
 "cells": [
  {
   "cell_type": "code",
   "execution_count": 1,
   "metadata": {},
   "outputs": [
    {
     "name": "stdout",
     "output_type": "stream",
     "text": [
      "Using SU(3)\n",
      "Using CUDA\n",
      "Using single precision\n"
     ]
    }
   ],
   "source": [
    "import os\n",
    "os.environ[\"MY_NUMBA_TARGET\"] = \"cuda\"\n",
    "os.environ[\"GAUGE_GROUP\"] = \"su3\"\n",
    "os.environ[\"PRECISION\"] = \"single\"\n",
    "\n",
    "# Import curraun and other packages\n",
    "import sys\n",
    "sys.path.append('..')\n",
    "\n",
    "import curraun.su\n",
    "import curraun.core as core\n",
    "import curraun.mv as mv\n",
    "from curraun.correlators import wilson_correlator\n",
    "from curraun.mv import k2_latt\n",
    "import numpy as np\n",
    "import matplotlib.pyplot as plt\n",
    "\n",
    "from scipy.integrate import quad\n",
    "from scipy.stats import binned_statistic\n",
    "from multiprocessing import Pool\n",
    "from scipy.interpolate import interp2d\n",
    "from tqdm import tqdm\n",
    "\n",
    "hbarc = 0.197326"
   ]
  },
  {
   "cell_type": "code",
   "execution_count": 8,
   "metadata": {},
   "outputs": [
    {
     "name": "stderr",
     "output_type": "stream",
     "text": [
      "100%|██████████| 20/20 [02:33<00:00,  7.68s/it]\n"
     ]
    }
   ],
   "source": [
    "# fix g^2 \\mu to 1 GeV\n",
    "G = 2\n",
    "MU = 0.25\n",
    "g2mu = G ** 2 * MU\n",
    "\n",
    "# simulation parameters\n",
    "L = 100.0 / g2mu * hbarc\n",
    "M = 0.1\n",
    "N = 512\n",
    "DT = 0.125\n",
    "UV = 1000000.0\n",
    "NUMS = 50\n",
    "E0 = N / L * hbarc\n",
    "NE = 20\n",
    "\n",
    "# lattice resolution\n",
    "gamma = g2mu / E0\n",
    "#print(\"\\gamma = g^2 \\mu a = {:3.4f}\".format(gamma))\n",
    "\n",
    "# average wilson correlations\n",
    "s = core.Simulation(N, DT, G)\n",
    "v_corrs = []\n",
    "for i in tqdm(range(NE)):\n",
    "    v = mv.wilson(s, mu=MU / E0, m=M / E0, uv=UV / E0, num_sheets=NUMS)\n",
    "    v_corr = wilson_correlator(v, N)\n",
    "    v_corrs.append(v_corr)\n",
    "\n",
    "v_corrs = np.array(v_corrs)\n",
    "v_corr_mean = np.mean(v_corrs, axis=0)\n",
    "v_corr_std = np.std(v_corrs, axis=0)"
   ]
  },
  {
   "cell_type": "markdown",
   "metadata": {},
   "source": [
    "# Momentum space definition of $Q_s$\n"
   ]
  },
  {
   "cell_type": "code",
   "execution_count": 9,
   "metadata": {},
   "outputs": [],
   "source": [
    "d_A = curraun.su.N_C ** 2 - 1\n",
    "v_fft = np.abs(np.fft.fft2(v_corr_mean)) * d_A"
   ]
  },
  {
   "cell_type": "code",
   "execution_count": 10,
   "metadata": {},
   "outputs": [],
   "source": [
    "k2 = np.zeros((N, N))\n",
    "for ix in range(N):\n",
    "    for iy in range(N):\n",
    "        k2[ix, iy] = np.sqrt(np.sin((np.pi * ix) / N) ** 2 + np.sin((np.pi * iy) / N) ** 2)\n",
    "k2 *= 2 / (L / N) * hbarc"
   ]
  },
  {
   "cell_type": "code",
   "execution_count": 11,
   "metadata": {},
   "outputs": [],
   "source": [
    "scatter_data = []\n",
    "for ix in range(N):\n",
    "    for iy in range(N):\n",
    "        scatter_data.append([k2[ix, iy], k2[ix, iy] ** 2 * v_fft[ix, iy]])"
   ]
  },
  {
   "cell_type": "code",
   "execution_count": 12,
   "metadata": {},
   "outputs": [
    {
     "name": "stdout",
     "output_type": "stream",
     "text": [
      "0.8869947463204051\n"
     ]
    },
    {
     "data": {
      "image/png": "[encoded data removed]",
      "text/plain": [
       "<Figure size 432x288 with 1 Axes>"
      ]
     },
     "metadata": {
      "needs_background": "light"
     },
     "output_type": "display_data"
    }
   ],
   "source": [
    "scatter_data = np.array(scatter_data)\n",
    "\n",
    "bin_means, bin_edges, binnumber = binned_statistic(scatter_data[:, 0], scatter_data[:, 1], bins=400, statistic='mean')\n",
    "bin_means = np.nan_to_num(bin_means)\n",
    "k = (bin_edges[:-1] + bin_edges[1:]) / 2\n",
    "\n",
    "plt.scatter(scatter_data[:, 0], scatter_data[:, 1], marker='x')\n",
    "plt.xlim([0, 4])\n",
    "plt.grid()\n",
    "plt.plot(k, bin_means, 'ro')\n",
    "\n",
    "i_max = np.argmax(bin_means)\n",
    "Qs = k[i_max]\n",
    "print(Qs)"
   ]
  },
  {
   "cell_type": "code",
   "execution_count": null,
   "metadata": {},
   "outputs": [],
   "source": []
  }
 ],
 "metadata": {
  "kernelspec": {
   "display_name": "Python 3",
   "language": "python",
   "name": "python3"
  },
  "language_info": {
   "codemirror_mode": {
    "name": "ipython",
    "version": 3
   },
   "file_extension": ".py",
   "mimetype": "text/x-python",
   "name": "python",
   "nbconvert_exporter": "python",
   "pygments_lexer": "ipython3",
   "version": "3.7.5"
  }
 },
 "nbformat": 4,
 "nbformat_minor": 2
}
