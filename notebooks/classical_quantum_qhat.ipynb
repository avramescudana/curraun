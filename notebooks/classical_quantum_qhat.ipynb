{
 "cells": [
  {
   "cell_type": "markdown",
   "metadata": {},
   "source": [
    "# Notebook to get qhat in David's approach"
   ]
  },
  {
   "cell_type": "markdown",
   "metadata": {},
   "source": [
    "### Simulation parameters"
   ]
  },
  {
   "cell_type": "code",
   "execution_count": 1,
   "metadata": {},
   "outputs": [],
   "source": [
    "import numpy as np\n",
    "\n",
    "# hbar * c [GeV * fm]\n",
    "hbarc = 0.197326 \n",
    "\n",
    "# Simulation box \n",
    "L = 1         \n",
    "N = 128 \n",
    "tau_sim = 0.25    \n",
    "DTS = 8\n",
    "\n",
    "# Derived parameters\n",
    "a = L/N\n",
    "E0 = N / L * hbarc\n",
    "DT = 1.0 / DTS\n",
    "maxt = int(tau_sim / a * DTS)\n",
    "nplus = maxt//DTS\n",
    "\n",
    "# Glasma fields\n",
    "su_group = 'su3'\n",
    "uv = 10.0\n",
    "ir = 0.2\n",
    "g2mu = 1.5\n",
    "\n",
    "\n",
    "g = 1          \t\t\n",
    "mu = g2mu / g**2\n",
    "\n",
    "ns = 50      \n",
    "\n",
    "\n",
    "nevents = 10"
   ]
  },
  {
   "cell_type": "markdown",
   "metadata": {},
   "source": [
    "### Enviroment variables"
   ]
  },
  {
   "cell_type": "code",
   "execution_count": 2,
   "metadata": {},
   "outputs": [
    {
     "name": "stderr",
     "output_type": "stream",
     "text": [
      "/home2/carlos.lamas/condacurraun/lib/python3.10/site-packages/scipy/__init__.py:132: UserWarning: A NumPy version >=1.21.6 and <1.28.0 is required for this version of SciPy (detected version 1.21.5)\n",
      "  warnings.warn(f\"A NumPy version >={np_minversion} and <{np_maxversion}\"\n"
     ]
    },
    {
     "name": "stdout",
     "output_type": "stream",
     "text": [
      "Using CUDA\n",
      "Using SU(3)\n",
      "Using double precision\n"
     ]
    }
   ],
   "source": [
    "import os\n",
    "\n",
    "# Comment this, I need it for JYU GPUs to choose a specific GPU to run on\n",
    "# os.environ[\"CUDA_VISIBLE_DEVICES\"]=\"2,4,7\"\n",
    "\n",
    "# os.environ[\"MY_NUMBA_TARGET\"] = \"numba\"\n",
    "os.environ[\"MY_NUMBA_TARGET\"] = \"cuda\"\n",
    "os.environ[\"PRECISION\"] = \"double\"\n",
    "os.environ[\"GAUGE_GROUP\"] = su_group\n",
    "\n",
    "# Import relevant modules\n",
    "import sys\n",
    "sys.path.append('..')\n",
    "\n",
    "# Glasma modules\n",
    "import curraun.core as core\n",
    "import curraun.mv as mv\n",
    "import curraun.initial as initial\n",
    "initial.DEBUG = False\n",
    "\n",
    "import curraun.su as su\n",
    "from curraun.numba_target import use_cuda\n",
    "if use_cuda:\n",
    "    from numba import cuda\n",
    "\n",
    "# Qhat module\n",
    "import curraun.qhat as qhat\n",
    "import curraun.qhat_qeik as qhat_qeik\n",
    "\n",
    "import pickle\n",
    "from tqdm import tqdm"
   ]
  },
  {
   "cell_type": "markdown",
   "metadata": {},
   "source": [
    "### We simulate the events"
   ]
  },
  {
   "cell_type": "code",
   "execution_count": 3,
   "metadata": {},
   "outputs": [],
   "source": [
    "def simulate_qhat(ev): \n",
    "    # Derived parameters\n",
    "    a = L / N\n",
    "    E0 = N / L * hbarc\n",
    "    DT = 1.0 / DTS\n",
    "    maxt = int(tau_sim / a * DTS)\n",
    "\n",
    "    # Initialize Glasma fields\n",
    "    s = core.Simulation(N, DT, g)\n",
    "    va = mv.wilson(s, mu=mu / E0, m=ir / E0, uv=uv / E0, num_sheets=ns)\n",
    "    vb = mv.wilson(s, mu=mu / E0, m=ir / E0, uv=uv / E0, num_sheets=ns)\n",
    "    initial.init(s, va, vb)\n",
    "\n",
    "    # Initialize the Qhat module\n",
    "    qhat_tforce = qhat.TransportedForce(s)\n",
    "    qhat_qeik_tforce = qhat_qeik.TransportedForce(s)  \n",
    "    # xplus = []\n",
    "    mom_broad, xplus =  [], []\n",
    "    mom_broad_qeik =  []\n",
    "\n",
    "    if use_cuda:\n",
    "        qhat_tforce.copy_to_device()\n",
    "        qhat_qeik_tforce.copy_to_device()\n",
    "\n",
    "    with tqdm(total=maxt) as pbar:\n",
    "        for t in range(maxt):\n",
    "            # Compute momentum broadening from Qhat module\n",
    "            if t % DTS == 0:\n",
    "                if use_cuda:\n",
    "                    qhat_tforce.copy_mean_to_host()\n",
    "                    qhat_qeik_tforce.copy_mean_to_host()\n",
    "\n",
    "                # Units GeV^2\n",
    "                mom_broad.append(qhat_tforce.p_perp_mean * E0 ** 2)\n",
    "                mom_broad_qeik.append(qhat_qeik_tforce.p_perp_mean * E0 ** 2)\n",
    "                # Units GeV^-1\n",
    "                xplus.append(2*t*a/DTS/hbarc)\n",
    "                \n",
    "                if use_cuda:\n",
    "                    qhat_tforce.copy_mean_to_device()\n",
    "                    qhat_qeik_tforce.copy_mean_to_device()\n",
    "            qhat_tforce.compute()\n",
    "            qhat_qeik_tforce.compute()\n",
    "\n",
    "            # Evolve Glasma fields\n",
    "            core.evolve_leapfrog(s)\n",
    "\n",
    "            pbar.set_description(\"Event \" + str(ev+1))\n",
    "            pbar.update(1)\n",
    "\n",
    "    return mom_broad, mom_broad_qeik, xplus\n",
    "    # return mom_broad_qeik, xplus"
   ]
  },
  {
   "cell_type": "code",
   "execution_count": 4,
   "metadata": {},
   "outputs": [
    {
     "name": "stderr",
     "output_type": "stream",
     "text": [
      "Event 1: 100%|██████████| 256/256 [00:07<00:00, 32.18it/s]\n",
      "Event 2: 100%|██████████| 256/256 [00:03<00:00, 77.06it/s]\n",
      "Event 3: 100%|██████████| 256/256 [00:02<00:00, 87.17it/s]\n",
      "Event 4: 100%|██████████| 256/256 [00:03<00:00, 77.91it/s]\n",
      "Event 5: 100%|██████████| 256/256 [00:03<00:00, 72.79it/s]\n",
      "Event 6: 100%|██████████| 256/256 [00:03<00:00, 71.39it/s]\n",
      "Event 7: 100%|██████████| 256/256 [00:03<00:00, 72.73it/s]\n",
      "Event 8: 100%|██████████| 256/256 [00:03<00:00, 71.95it/s]\n",
      "Event 9: 100%|██████████| 256/256 [00:03<00:00, 67.53it/s]\n",
      "Event 10: 100%|██████████| 256/256 [00:03<00:00, 73.82it/s]\n"
     ]
    }
   ],
   "source": [
    "import warnings\n",
    "warnings.filterwarnings('ignore')\n",
    "\n",
    "mom_broads = []\n",
    "mom_broads_qeik = []\n",
    "for ev in range(nevents):\n",
    "    mom_broad_ev, mom_broad_qeik_ev, xplus = simulate_qhat(ev)\n",
    "    # mom_broad_qeik_ev, xplus = simulate_qhat(ev)\n",
    "    mom_broads.append(mom_broad_ev)\n",
    "    mom_broads_qeik.append(mom_broad_qeik_ev)\n",
    "\n",
    "mom_broad = np.mean(mom_broads, axis=0)\n",
    "mom_broad_qeik = np.mean(mom_broads_qeik, axis=0)\n",
    "\n",
    "# mom_sigma = np.std(mom_broads, axis=0)/np.sqrt(N)"
   ]
  },
  {
   "cell_type": "markdown",
   "metadata": {},
   "source": [
    "### We plot the momentum broadening and qhat separately for z and y"
   ]
  },
  {
   "cell_type": "code",
   "execution_count": 13,
   "metadata": {},
   "outputs": [
    {
     "data": {
      "image/png": "[encoded data removed]",
      "text/plain": [
       "<Figure size 600x500 with 1 Axes>"
      ]
     },
     "metadata": {},
     "output_type": "display_data"
    }
   ],
   "source": [
    "import matplotlib.pyplot as plt\n",
    "\n",
    "plt.rcParams['font.family'] = 'DejaVu Serif'\n",
    "plt.rcParams['font.serif'] = ['DejaVu Serif']\n",
    "plt.rcParams['mathtext.fontset'] = 'cm'\n",
    "\n",
    "plt.figure(figsize=(6, 5))\n",
    "\n",
    "plt.tick_params(axis='both', direction='in')\n",
    "plt.xticks(fontsize=18)\n",
    "plt.yticks(fontsize=18)\n",
    "\n",
    "plt.plot(xplus, mom_broad[:, 1]/3, label=r\"$E_y-B_z$\", linewidth=1.5, color='blue')\n",
    "plt.plot(xplus, mom_broad_qeik[:, 2]/3, label=r\"$B_z$\", linewidth=1.5, color='purple')   \n",
    "plt.plot(xplus, mom_broad_qeik[:, 0]/3, label=r\"$\\partial_y A_x$\", linewidth=1.5, color='red')    \n",
    "# # plt.plot(xplus, mom_broad_qeik[:, 1], label=\"DyAx-DxAy\")   \n",
    "\n",
    "plt.xlim([0, max(xplus)])\n",
    "plt.ylim([0, max(mom_broad_qeik[:, 0]/3)*1.1])\n",
    "plt.xlabel(r\"$x^+\\,\\mathrm{[GeV^{-1}]}$\", fontsize=22)\n",
    "plt.ylabel(r\"$\\langle p_y^2\\rangle/D_F\\,\\,\\mathrm{[GeV^{2}]}$\", fontsize=22)\n",
    "\n",
    "plt.grid(color='gray', linestyle='-', linewidth=1.5, alpha=0.2)\n",
    "plt.legend(fontsize=20, frameon=False, ncol=2, loc='upper left')\n",
    "\n",
    "plt.tight_layout()\n",
    "plt.savefig('classical_vs_quantum_mom_broad_y.png', facecolor='w', dpi=600)\n",
    "\n",
    "plt.show()"
   ]
  },
  {
   "cell_type": "code",
   "execution_count": 14,
   "metadata": {},
   "outputs": [],
   "source": [
    "# We save to file\n",
    "\n",
    "np.savetxt('Jets in Glasma Results/mid_rapidity/classical_momentum_broadening.txt', [xplus, mom_broad_qeik[:, 0]/3], fmt='%f')"
   ]
  },
  {
   "cell_type": "code",
   "execution_count": null,
   "metadata": {},
   "outputs": [],
   "source": []
  }
 ],
 "metadata": {
  "kernelspec": {
   "display_name": "Python 3",
   "language": "python",
   "name": "python3"
  },
  "language_info": {
   "codemirror_mode": {
    "name": "ipython",
    "version": 3
   },
   "file_extension": ".py",
   "mimetype": "text/x-python",
   "name": "python",
   "nbconvert_exporter": "python",
   "pygments_lexer": "ipython3",
   "version": "3.10.4"
  }
 },
 "nbformat": 4,
 "nbformat_minor": 2
}
