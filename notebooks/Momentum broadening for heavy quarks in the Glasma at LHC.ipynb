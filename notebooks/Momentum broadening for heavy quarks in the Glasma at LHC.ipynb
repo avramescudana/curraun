{
 "cells": [
  {
   "cell_type": "markdown",
   "source": [
    "# **Momentum variance of heavy quarks immersed in the Glasma**"
   ],
   "metadata": {}
  },
  {
   "cell_type": "markdown",
   "source": [
    "Default simulation parameters chosen for Pb-Pb at 5.02 TeV.\n"
   ],
   "metadata": {}
  },
  {
   "cell_type": "code",
   "execution_count": 1,
   "source": [
    "import numpy as np\n",
    "\n",
    "# General parameters\n",
    "su_group = 'su2'\n",
    "folder = 'pb+pb_5020gev_su2_interp_pT_0.5'\n",
    "\n",
    "# Simulation box parameters\n",
    "L = 10      # Length of simulation box [fm]\n",
    "N = 512     # Number of lattice sites\n",
    "tau_s = 2.0     # Simulation time [fm/c]\n",
    "DTS = 8     # Time step\n",
    "\n",
    "# MV model parameters for Pb-Pb at 5.02 TeV\n",
    "A = 207     # Mass number\n",
    "sqrts = 5020        # Center-of-mass energy [GeV]\n",
    "ns = 50     # Number of color sheets\n",
    "factor = 0.8        # Ratio between Qs/g^2\\mu for Ns = 50 color sheets\n",
    "Qs = np.sqrt(0.13 * A**(1/3) * sqrts**0.25)         # Saturation momentum [GeV]\t\n",
    "g = np.pi * np.sqrt(1 / np.log(Qs / 0.2))           # Running coupling constant\t\t\n",
    "mu = Qs / (g**2 * factor)           # MV model parameter\t\n",
    "m = 0.1 * g**2 * mu         # Infrared regulator [GeV]\n",
    "uv = 10.0           # Ultraviolet regulator [GeV]\n",
    "\n",
    "# Heavy quark related parameters, chosen here for a charm quark\n",
    "mass = 1.5      # Heavy quark mass [GeV]\n",
    "tau_form = 0.06     # Formation time [fm/c]\n",
    "nq = 15     # Number of heavy quarks\n",
    "pT = 0.5    # Initial transverse momentum [GeV]\n",
    "ntp = 10    # Number of test particles\n",
    "\n",
    "# Other numerical parameters\n",
    "nevents = 10    # Number of Glasma events\n",
    "interp = 'yes'     # Interpolate fields or use nearest lattice points"
   ],
   "outputs": [],
   "metadata": {}
  },
  {
   "cell_type": "markdown",
   "source": [
    "Dictionary with standard MV model paramaters."
   ],
   "metadata": {}
  },
  {
   "cell_type": "code",
   "execution_count": 2,
   "source": [
    "p = {\n",
    "    # General parameters\n",
    "    'GROUP':    su_group,       # SU(2) or SU(3) group\n",
    "    'FOLDER':   folder ,         # results folder\n",
    "\n",
    "    # Parameters for simulation box\n",
    "    'L':    L,           # transverse size [fm]\n",
    "    'N':    N,            # lattice size\n",
    "    'DTS':  DTS,             # time steps per transverse spacing\n",
    "    'TMAX': tau_s,          # max. proper time (tau) [fm/c]\n",
    "\n",
    "    # Parameters for MV model\n",
    "    'G':    g,            # YM coupling constant\n",
    "    'MU':   mu,             # MV model parameter [GeV]\n",
    "    'M':    m,              # IR regulator [GeV]\n",
    "    'UV':   uv,           # UV regulator [GeV]\n",
    "    'NS':   ns,             # number of color sheets\n",
    "    \n",
    "    # Parameters for heavy quarks\n",
    "    'MASS': mass,           # mass of HQ [GeV]\n",
    "    'TFORM': tau_form,       # formation time of the HQ [fm/c]\n",
    "    'PT': pT,           # transverse momentum of HQs [GeV]\n",
    "    'NQ': nq,         # number of heavy quarks\n",
    "    'NTP': ntp,         # number of test particles\n",
    "\n",
    "    # Numerical parameters\n",
    "    'NEVENTS': nevents,     # number of Glasma events\n",
    "    'INTERP': interp,       # interpolate fields or use nearest lattice points\n",
    "}"
   ],
   "outputs": [],
   "metadata": {}
  },
  {
   "cell_type": "markdown",
   "source": [
    "Set environment variables."
   ],
   "metadata": {}
  },
  {
   "cell_type": "code",
   "execution_count": 3,
   "source": [
    "import os\n",
    "os.environ[\"MY_NUMBA_TARGET\"] = \"cuda\"\n",
    "os.environ[\"PRECISION\"] = \"double\"\n",
    "if p['GROUP'] == 'su2':\n",
    "    os.environ[\"GAUGE_GROUP\"] = 'su2_complex'\n",
    "elif p['GROUP'] == 'su3':\n",
    "    os.environ[\"GAUGE_GROUP\"] = p['GROUP']\n",
    "\n",
    "# Import curraun and other packages\n",
    "import sys\n",
    "sys.path.append('..')\n",
    "import curraun.core as core\n",
    "import curraun.mv as mv\n",
    "import curraun.initial as initial\n",
    "initial.DEBUG = False\n",
    "from curraun.numba_target import use_cuda\n",
    "if use_cuda:\n",
    "    from numba import cuda\n",
    "from curraun.wong_hq import WongFields, WongPotentials, InitialColorCharge, ColorChargeEvolve, initial_coords, initial_momenta, initial_charge, interpfield, interppotential, update_coords, update_momenta\n",
    "\n",
    "# Define hbar * c in units of GeV * fm\n",
    "hbarc = 0.197326 "
   ],
   "outputs": [
    {
     "output_type": "stream",
     "name": "stdout",
     "text": [
      "Using CUDA\n",
      "Using SU(2) complex\n",
      "Using double precision\n",
      "Using double precision\n"
     ]
    }
   ],
   "metadata": {}
  },
  {
   "cell_type": "markdown",
   "source": [
    "Simulation function."
   ],
   "metadata": {}
  },
  {
   "cell_type": "code",
   "execution_count": 4,
   "source": [
    "def simulate(p, xmu0, pmu0, q0, seed):    \n",
    "    # Derived parameters\n",
    "    a = p['L'] / p['N']\n",
    "    E0 = p['N'] / p['L'] * hbarc\n",
    "    p['E0'] = E0\n",
    "    DT = 1.0 / p['DTS']\n",
    "    maxt = int(p['TMAX'] / a * p['DTS'])\n",
    "    formt = int(p['TFORM'] / a * p['DTS'])\n",
    "    mass = p['MASS']\n",
    "\n",
    "    # Normal units: x/y [fm], eta [1], px/py [GeV], peta [GeV/fm]\n",
    "    # Lattice units\n",
    "    x0, y0, eta0 = xmu0[0]/a, xmu0[1]/a, xmu0[2]\n",
    "    ptau0, px0, py0, peta0 = pmu0[0]/E0, pmu0[1]/E0, pmu0[2]/E0, pmu0[3]*a/E0\n",
    "\n",
    "    s = core.Simulation(p['N'], DT, p['G'])\n",
    "    mv.set_seed(seed)\n",
    "    va = mv.wilson(s, mu=p['MU'] / E0, m=p['M'] / E0, uv=p['UV'] / E0, num_sheets=p['NS'])\n",
    "    vb = mv.wilson(s, mu=p['MU'] / E0, m=p['M'] / E0, uv=p['UV'] / E0, num_sheets=p['NS'])\n",
    "    initial.init(s, va, vb)\n",
    "\n",
    "    fields = WongFields(s)\n",
    "    potentials = WongPotentials(s)\n",
    "    charge_initial = InitialColorCharge(s)\n",
    "    charge_evolve = ColorChargeEvolve(s)\n",
    "\n",
    "    if use_cuda:\n",
    "        s.copy_to_device()\n",
    "\n",
    "    xmu, pmu, constraint, qsq = [], [], [], []\n",
    "\n",
    "    for t in range(maxt):\n",
    "        core.evolve_leapfrog(s)\n",
    "\n",
    "        if t>=formt:  \n",
    "            current_tau = t * DT\n",
    "            tau_step = DT\n",
    "            \n",
    "            if t==formt:\n",
    "                xmu.append([a*current_tau, a*x0, a*y0, eta0])\n",
    "                pmu.append([E0*ptau0, E0*px0, E0*py0, E0/a*peta0])\n",
    "\n",
    "                charge_initial.compute(q0)\n",
    "                Q0 = charge_initial.Q\n",
    "                Qsq0 = charge_initial.Q2[0].real\n",
    "                qsq.append(Qsq0)\n",
    "\n",
    "            # Solve Wong's equations using basic Euler\n",
    "            # Update positions\n",
    "            x1, y1, eta1 = update_coords(x0, y0, eta0, ptau0, px0, py0, peta0, tau_step)\n",
    "\n",
    "            # Convert to physical units\n",
    "            xmu.append([a*current_tau, a*x1, a*y1, eta1])\n",
    "\n",
    "            if interp=='yes':                \n",
    "                trQE_interp, trQB_interp = interpfield(x0, y0, Q0, fields)\n",
    "                Ax_interp, Ay_interp, Aeta_interp = interppotential(x0, y0, 'x', potentials), interppotential(x0, y0, 'y', potentials), interppotential(x0, y0, 'eta', potentials)\n",
    "\n",
    "                # Update momenta using Euler, with interpolated fields\n",
    "                ptau1, ptau2, px1, py1, peta1 = update_momenta(ptau0, px0, py0, peta0, tau_step, current_tau, trQE_interp, trQB_interp, mass, E0)\n",
    "\n",
    "                # Convert to physical units\n",
    "                pmu.append([E0*ptau1, E0*px1, E0*py1, E0/a*peta1])\n",
    "                constraint.append(E0*(ptau2-ptau1))\n",
    "\n",
    "                charge_evolve.compute(Q0, tau_step, ptau0, px0, py0, peta0, Ax_interp, Ay_interp, Aeta_interp)\n",
    "                Q1 = charge_evolve.Q\n",
    "                Qsq = charge_evolve.Q2[0].real\n",
    "                qsq.append(Qsq)\n",
    "               \n",
    "            elif interp=='no':\n",
    "                # Approximate the position of the quark with closest lattice point\n",
    "                # Locations where transverse gauge fields extracted from gauge links are evaluated, in the middle of lattice sites\n",
    "                xhq, yhq = int(round(x0)), int(round(y0))\n",
    "                xahq, yahq = int(round(x0-1/2)), int(round(y0-1/2))\n",
    "\n",
    "                fields.compute(Q0, xhq, yhq)\n",
    "                trQE, trQB = fields.trQE.real, fields.trQB.real\n",
    "\n",
    "                potentials.compute('x', xahq, yhq)\n",
    "                Ax = potentials.Ax\n",
    "                potentials.compute('y', xhq, yahq)\n",
    "                Ay = potentials.Ay\n",
    "                potentials.compute('eta', xhq, yhq)\n",
    "                Aeta = potentials.Aeta\n",
    "\n",
    "                # Update momenta using Euler, with fields evaluated at nearest lattice points\n",
    "                ptau1, ptau2, px1, py1, peta1 = update_momenta(ptau0, px0, py0, peta0, tau_step, current_tau, trQE, trQB, mass, E0)\n",
    "\n",
    "                # Convert to physical units\n",
    "                pmu.append([E0*ptau1, E0*px1, E0*py1, E0/a*peta1])\n",
    "                constraint.append(E0*(ptau2-ptau1))\n",
    "\n",
    "                charge_evolve.compute(Q0, tau_step, ptau0, px0, py0, peta0, Ax, Ay, Aeta)\n",
    "                Q1 = charge_evolve.Q\n",
    "                Qsq = charge_evolve.Q2[0].real\n",
    "                qsq.append(Qsq)\n",
    "\n",
    "            # Swap initial x, p, Q for next time step\n",
    "            x0, y0, eta0 = x1, y1, eta1\n",
    "            px0, py0, peta0, ptau0 = px1, py1, peta1, ptau1\n",
    "            Q0 = Q1\n",
    "\n",
    "    if use_cuda:\n",
    "        s.copy_to_host()\n",
    "        cuda.current_context().deallocations.clear()\n",
    "\n",
    "    return xmu, pmu, constraint, qsq"
   ],
   "outputs": [],
   "metadata": {}
  },
  {
   "cell_type": "markdown",
   "source": [
    "Create folders to store the files resulting from the simulations\n"
   ],
   "metadata": {}
  },
  {
   "cell_type": "code",
   "execution_count": 5,
   "source": [
    "import pickle\n",
    "\n",
    "current_path = os.getcwd() \n",
    "results_folder = 'results'\n",
    "check_results_folder = os.path.isdir(results_folder)\n",
    "if not check_results_folder:\n",
    "    os.makedirs(results_folder)\n",
    "results_path = current_path + '/' + results_folder + '/'\n",
    "os.chdir(results_path)\n",
    "\n",
    "wong_folder = p['FOLDER']\n",
    "check_wong_folder = os.path.isdir(wong_folder)\n",
    "if not check_wong_folder:\n",
    "    os.makedirs(wong_folder)\n",
    "wong_path = results_path + '/' + wong_folder + '/'\n",
    "os.chdir(wong_path)\n",
    "\n",
    "# Save parameters dictionary to file\n",
    "with open('parameters.pickle', 'wb') as handle:\n",
    "    pickle.dump(p, handle)"
   ],
   "outputs": [],
   "metadata": {}
  },
  {
   "cell_type": "markdown",
   "source": [
    "Simulate multiple Glasma events, each event with 15 quarks and 15 antiquarks, produced at the same positions as the quarks, having opposite momenta and random charge. The number of quarks or antiquarks in enlarged by a given number of test particles.\n"
   ],
   "metadata": {}
  },
  {
   "cell_type": "code",
   "execution_count": 6,
   "source": [
    "# from tqdm import tnrange\n",
    "from tqdm.notebook import tqdm\n",
    "\n",
    "# Initializing progress bar objects\n",
    "# Source: https://stackoverflow.com/questions/60928718/python-how-to-replace-tqdm-progress-bar-by-next-one-in-nested-loop\n",
    "outer_loop=tqdm(range(p['NEVENTS']), desc=\"Event\", position=0)\n",
    "mid_loop=tqdm(range(p['NQ']), desc=\"Quark antiquark pair\", position=1)\n",
    "inner_loop=tqdm(range(p['NTP']), desc=\"Test particle\", position=2)\n",
    "\n",
    "\n",
    "for ne in range(len(outer_loop)):\n",
    "    # Fixing the seed in a certain event\n",
    "    seed = ne\n",
    "\n",
    "    mid_loop.refresh() \n",
    "    mid_loop.reset() \n",
    "    outer_loop.update() \n",
    "\n",
    "    for q in range(len(mid_loop)):\n",
    "        inner_loop.refresh()  \n",
    "        inner_loop.reset()  \n",
    "        mid_loop.update()  \n",
    "\n",
    "        for tp in range(len(inner_loop)):\n",
    "            xmu0 = initial_coords(p)\n",
    "            pmu0 = initial_momenta(p)\n",
    "\n",
    "            # Quark\n",
    "            q0 = initial_charge(p)\n",
    "\n",
    "            xmu, pmu, constraint, qsq = simulate(p, xmu0, pmu0, q0, seed)\n",
    "\n",
    "            filename = 'q_' + str(q+1) + '_tp_' + str(tp+1) + '.npz'\n",
    "            np.savez(filename, xmu=xmu, pmu=pmu, constraint=constraint, qsq=qsq)\n",
    "\n",
    "            # Antiquark having opposite momentum and random color charge\n",
    "            q0 = initial_charge(p)\n",
    "            pmu0 = [pmu0[0], -pmu0[1], -pmu0[2], pmu0[3]]\n",
    "\n",
    "            xmu, pmu, constraint, qsq = simulate(p, xmu0, pmu0, q0, seed)\n",
    "\n",
    "            filename = 'aq_' + str(q+1) + '_tp_' + str(tp+1) + '.npz'\n",
    "            np.savez(filename, xmu=xmu, pmu=pmu, constraint=constraint, qsq=qsq) \n",
    "\n",
    "            inner_loop.update()    "
   ],
   "outputs": [
    {
     "output_type": "display_data",
     "data": {
      "text/plain": [
       "Event:   0%|          | 0/10 [00:00<?, ?it/s]"
      ],
      "application/vnd.jupyter.widget-view+json": {
       "version_major": 2,
       "version_minor": 0,
       "model_id": "5b8dc051612541699c5fe14d7d340e4e"
      }
     },
     "metadata": {}
    },
    {
     "output_type": "display_data",
     "data": {
      "text/plain": [
       "Quark antiquark pair:   0%|          | 0/15 [00:00<?, ?it/s]"
      ],
      "application/vnd.jupyter.widget-view+json": {
       "version_major": 2,
       "version_minor": 0,
       "model_id": "d6fa3517022148709612395bfe2cb3ce"
      }
     },
     "metadata": {}
    },
    {
     "output_type": "display_data",
     "data": {
      "text/plain": [
       "Test particle:   0%|          | 0/10 [00:00<?, ?it/s]"
      ],
      "application/vnd.jupyter.widget-view+json": {
       "version_major": 2,
       "version_minor": 0,
       "model_id": "7507d407de854671a0ff236737ccfb24"
      }
     },
     "metadata": {}
    }
   ],
   "metadata": {}
  },
  {
   "cell_type": "markdown",
   "source": [
    "Read the results from files and compute averages."
   ],
   "metadata": {}
  },
  {
   "cell_type": "code",
   "execution_count": 7,
   "source": [
    "x, y = [], []\n",
    "px, py = [], []\n",
    "\n",
    "taui = 0\n",
    "\n",
    "for file in os.listdir(wong_path):\n",
    "    if file.endswith(\".npz\"):\n",
    "        data = np.load(file)\n",
    "        x.append(data['xmu'][:, 1])\n",
    "        y.append(data['xmu'][:, 2])\n",
    "        px.append(data['pmu'][:, 1])\n",
    "        py.append(data['pmu'][:, 2])\n",
    "\n",
    "        if taui==0:\n",
    "            tau=data['xmu'][:, 0]\n",
    "            taui = taui+1\n",
    "\n",
    "time_steps = np.array(px).shape[1]\n",
    "n_events = np.array(px).shape[0]\n",
    "\n",
    "sigmaxt, sigmapt = [], []\n",
    "\n",
    "for i in range(1, time_steps):\n",
    "    sigmaxt.append(((np.array(x)[:, i]-np.array(x)[:, 0]) ** 2+(np.array(y)[:, i]-np.array(y)[:, 0]) ** 2)/2)\n",
    "    sigmapt.append(((np.array(px)[:, i]-np.array(px)[:, 0]) ** 2+(np.array(py)[:, i]-np.array(py)[:, 0]) ** 2)/2)\n",
    "\n",
    "sigmaxt_mean, sigmaxt_std = np.mean(sigmaxt, axis=1), np.std(sigmaxt, axis=1)\n",
    "sigmapt_mean, sigmapt_std = np.mean(sigmapt, axis=1), np.std(sigmapt, axis=1)"
   ],
   "outputs": [],
   "metadata": {}
  },
  {
   "cell_type": "markdown",
   "source": [
    "Plot the momentum variance."
   ],
   "metadata": {}
  },
  {
   "cell_type": "code",
   "execution_count": 14,
   "source": [
    "from mpl_toolkits.axes_grid1.inset_locator import zoomed_inset_axes,mark_inset\n",
    "import matplotlib.pyplot as plt\n",
    "from matplotlib.ticker import MultipleLocator\n",
    "\n",
    "plt.rcParams['text.usetex'] = True\n",
    "plt.rcParams[\"figure.figsize\"] = (9, 6)\n",
    "plt.rcParams.update({'font.size':14})\n",
    "\n",
    "fig = plt.figure()\n",
    "ax = plt.subplot(111)\n",
    "plt.title(r'$\\mathrm{Pb+Pb}\\,\\,\\, 5.02\\,\\,\\mathrm{TeV}\\,\\,\\,\\mathrm{SU(2)}$', size = 18)\n",
    "plt.xlabel(r'$\\tau\\,\\mathrm{[fm/c]}$', size = 18)\n",
    "plt.ylabel(r'$\\sigma_{p_T}\\,\\mathrm{[GeV^2]}$', size = 18)\n",
    "\n",
    "ax.set_xlim(0,2.06)\n",
    "ax.set_ylim(0,2.3)\n",
    "\n",
    "ax.xaxis.set_major_locator(MultipleLocator(0.5))\n",
    "ax.xaxis.set_minor_locator(MultipleLocator(0.25))\n",
    "ax.yaxis.set_major_locator(MultipleLocator(0.5))\n",
    "ax.yaxis.set_minor_locator(MultipleLocator(0.25))\n",
    "\n",
    "ax.spines[\"top\"].set_visible(False)\n",
    "ax.spines[\"right\"].set_visible(False)\n",
    "ax.spines['bottom'].set_color('gray')\n",
    "ax.spines['left'].set_color('gray') \n",
    "# ax.tick_params(direction='in', colors='gray',grid_color='gray', grid_alpha=0.5)\n",
    "ax.yaxis.get_major_ticks()[1].label1.set_visible(False)\n",
    "\n",
    "plt.grid(color = 'gray', linestyle = '-', linewidth = 1, alpha=0.2)\n",
    "\n",
    "ax.plot(tau[1:len(tau)], sigmapt_mean, '-', color = '#8FBCBB', markersize = 0, linewidth = 3)\n",
    "ax.fill_between(tau[1:len(tau)], sigmapt_mean-sigmapt_std/2, sigmapt_mean+sigmapt_std/2, color = '#8FBCBB', alpha=0.3)\n",
    "\n",
    "axins = zoomed_inset_axes(ax,2,loc='upper center')\n",
    "axins.spines['top'].set_color('silver')\n",
    "axins.spines['right'].set_color('silver')\n",
    "axins.spines['bottom'].set_color('silver')\n",
    "axins.spines['left'].set_color('silver') \n",
    "# axins.tick_params(direction='in', colors='silver',grid_color='silver', grid_alpha=0.5)\n",
    "axins.tick_params(direction='in', grid_color='silver', grid_alpha=0.5)\n",
    "\n",
    "axins.xaxis.set_major_locator(MultipleLocator(0.1))\n",
    "axins.yaxis.set_major_locator(MultipleLocator(0.2))\n",
    "\n",
    "axins.yaxis.get_major_ticks()[1].label1.set_visible(False)\n",
    "axins.plot(tau[1:len(tau)], sigmapt_mean, '-', color = '#A3BE8C', markersize = 0, linewidth = 3)\n",
    "axins.fill_between(tau[1:len(tau)], sigmapt_mean-sigmapt_std/2, sigmapt_mean+sigmapt_std/2, color = '#A3BE8C', alpha=0.3)\n",
    "\n",
    "x1,x2,y1,y2 = 0, 0.3, 0, 0.41\n",
    "axins.set_xlim(x1,x2)\n",
    "axins.set_ylim(y1,y2)\n",
    "\n",
    "mark_inset(ax,axins,loc1=2,loc2=4, color='gray', alpha=0.3, fc='silver')\n",
    "\n",
    "textstr = '\\n'.join((\n",
    "    r'$p_T=0.5\\,\\mathrm{GeV}$',\n",
    "    r'$\\tau_\\mathrm{form}=0.06\\,\\mathrm{fm/c}$',\n",
    "    ))\n",
    "props = dict(boxstyle='square', facecolor='white', alpha=0.7, edgecolor='silver', pad=0.5)\n",
    "ax.text(0.05, 0.95, textstr, transform=ax.transAxes, fontsize=16, verticalalignment='top', bbox=props)\n",
    "\n",
    "plt.tight_layout()\n",
    "plt.show()"
   ],
   "outputs": [
    {
     "output_type": "display_data",
     "data": {
      "text/plain": [
       "<Figure size 648x432 with 2 Axes>"
      ],
      "image/png": "[encoded data removed]"
     },
     "metadata": {
      "needs_background": "light"
     }
    }
   ],
   "metadata": {}
  },
  {
   "cell_type": "markdown",
   "source": [
    "Plot the variance in positions."
   ],
   "metadata": {}
  },
  {
   "cell_type": "code",
   "execution_count": 11,
   "source": [
    "fig = plt.figure()\n",
    "ax = plt.subplot(111)\n",
    "plt.title(r'$\\mathrm{Pb+Pb}\\,\\,\\, 5.02\\,\\,\\mathrm{TeV}\\,\\,\\,\\mathrm{SU(2)}$', size = 18)\n",
    "plt.xlabel(r'$\\tau\\,\\mathrm{[fm/c]}$', size = 18)\n",
    "plt.ylabel(r'$\\sigma_{x_T}\\,\\mathrm{[GeV^2]}$', size = 18)\n",
    "\n",
    "ax.set_xlim(0,2.06)\n",
    "ax.set_ylim(0,0.6)\n",
    "\n",
    "ax.xaxis.set_major_locator(MultipleLocator(0.5))\n",
    "ax.xaxis.set_minor_locator(MultipleLocator(0.25))\n",
    "\n",
    "ax.spines[\"top\"].set_visible(False)\n",
    "ax.spines[\"right\"].set_visible(False)\n",
    "ax.spines['bottom'].set_color('gray')\n",
    "ax.spines['left'].set_color('gray') \n",
    "ax.yaxis.get_major_ticks()[0].label1.set_visible(False)\n",
    "\n",
    "plt.grid(color = 'gray', linestyle = '-', linewidth = 1, alpha=0.2)\n",
    "\n",
    "ax.plot(tau[1:len(tau)], sigmaxt_mean, '-', color = '#B48EAD', markersize = 0, linewidth = 3)\n",
    "ax.fill_between(tau[1:len(tau)], sigmaxt_mean-sigmaxt_std/2, sigmaxt_mean+sigmaxt_std/2, color = '#B48EAD', alpha=0.3)\n",
    "\n",
    "textstr = '\\n'.join((\n",
    "    r'$p_T=0.5\\,\\mathrm{GeV}$',\n",
    "    r'$\\tau_\\mathrm{form}=0.06\\,\\mathrm{fm/c}$',\n",
    "    ))\n",
    "props = dict(boxstyle='square', facecolor='white', alpha=0.7, edgecolor='silver', pad=0.5)\n",
    "ax.text(0.05, 0.95, textstr, transform=ax.transAxes, fontsize=16, verticalalignment='top', bbox=props)\n",
    "\n",
    "plt.tight_layout()\n",
    "plt.show()"
   ],
   "outputs": [
    {
     "output_type": "display_data",
     "data": {
      "text/plain": [
       "<Figure size 648x432 with 1 Axes>"
      ],
      "image/png": "[encoded data removed]"
     },
     "metadata": {
      "needs_background": "light"
     }
    }
   ],
   "metadata": {}
  },
  {
   "cell_type": "code",
   "execution_count": null,
   "source": [],
   "outputs": [],
   "metadata": {}
  }
 ],
 "metadata": {
  "interpreter": {
   "hash": "66b31cdbddf669999fcb207de0f85b9a136e33c1dd522229764e55c1583da068"
  },
  "kernelspec": {
   "display_name": "Python 3.6.13 64-bit ('curraun': conda)",
   "name": "python3"
  },
  "language_info": {
   "name": "python",
   "version": ""
  },
  "orig_nbformat": 4
 },
 "nbformat": 4,
 "nbformat_minor": 2
}