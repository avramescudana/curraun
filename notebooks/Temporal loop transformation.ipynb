{
 "cells": [
  {
   "cell_type": "markdown",
   "metadata": {},
   "source": [
    "# Optimized gauge transformation"
   ]
  },
  {
   "cell_type": "markdown",
   "metadata": {},
   "source": [
    "## The goal of this notebook is to perform the gauge transformation in an optimized way inside the temporal loop so we can later move it to the GPU"
   ]
  },
  {
   "cell_type": "markdown",
   "metadata": {},
   "source": [
    "### Set parametres and eviroment variables"
   ]
  },
  {
   "cell_type": "code",
   "execution_count": 2,
   "metadata": {},
   "outputs": [],
   "source": [
    "import numpy as np\n",
    "\n",
    "# hbar * c [GeV * fm]\n",
    "hbarc = 0.197326 \n",
    "\n",
    "# Simulation box \n",
    "L = 2      \n",
    "N = 128   \n",
    "tau_sim = 1     \n",
    "DTS = 8     \n",
    "\n",
    "# Glasma fields\n",
    "su_group = 'su3'\n",
    "Qs = 2        \n",
    "ns = 50    \n",
    "factor = 0.8        \n",
    "g2mu = Qs / factor     \n",
    "g = np.pi * np.sqrt(1 / np.log(Qs / 0.2))          \t\t\n",
    "mu = g2mu / g**2          \t\n",
    "ir = 0.1 * g**2 * mu         \n",
    "uv = 10.0       \n",
    "\n",
    "# TODO: Run more events\n",
    "nevents = 1"
   ]
  },
  {
   "cell_type": "code",
   "execution_count": 3,
   "metadata": {},
   "outputs": [
    {
     "name": "stdout",
     "output_type": "stream",
     "text": [
      "Using Numba\n",
      "Using SU(3)\n",
      "Using double precision\n"
     ]
    }
   ],
   "source": [
    "import os\n",
    "\n",
    "# I need to add this line to ask resources from a specific GPU, which is free. Our GPU server has no queing system\n",
    "os.environ[\"CUDA_VISIBLE_DEVICES\"]=\"3\"\n",
    "\n",
    "os.environ[\"MY_NUMBA_TARGET\"] = \"numba\"\n",
    "os.environ[\"PRECISION\"] = \"double\"\n",
    "os.environ['GAUGE_GROUP'] = su_group\n",
    "\n",
    "# Import relevant modules\n",
    "import sys\n",
    "sys.path.append('..')\n",
    "\n",
    "# Glasma modules\n",
    "import curraun.core as core\n",
    "import curraun.mv as mv\n",
    "import curraun.initial as initial\n",
    "initial.DEBUG = False\n",
    "\n",
    "import curraun.su as su\n",
    "from curraun.numba_target import use_cuda\n",
    "if use_cuda:\n",
    "    from numba import cuda\n",
    "\n",
    "import curraun.su as su\n",
    "import curraun.gauge_transformation as gt\n",
    "# Number of colors\n",
    "Nc = su.NC\n",
    "# Dimension of algebra \n",
    "Dg = su.GROUP_ELEMENTS"
   ]
  },
  {
   "cell_type": "markdown",
   "metadata": {},
   "source": [
    "### We define the simulation routine"
   ]
  },
  {
   "cell_type": "code",
   "execution_count": 4,
   "metadata": {},
   "outputs": [],
   "source": [
    "import pickle\n",
    "from tqdm import tqdm\n",
    "\n",
    "# Simulation routine\n",
    "def simulate(): \n",
    "    # output = {}\n",
    "\n",
    "    # Derived parameters\n",
    "    a = L / N\n",
    "    E0 = N / L * hbarc\n",
    "    DT = 1.0 / DTS\n",
    "    maxt = int(tau_sim / a * DTS)\n",
    "\n",
    "    # Initialize Glasma fields\n",
    "    s = core.Simulation(N, DT, g)\n",
    "    va = mv.wilson(s, mu=mu / E0, m=ir / E0, uv=uv / E0, num_sheets=ns)\n",
    "    vb = mv.wilson(s, mu=mu / E0, m=ir / E0, uv=uv / E0, num_sheets=ns)\n",
    "    initial.init(s, va, vb)\n",
    "\n",
    "    # Plus gauge link\n",
    "    uplus_LC = su.GROUP_TYPE(np.zeros((maxt//DTS-1, N, N, Dg)))\n",
    "    v_LC = su.GROUP_TYPE([[[su.unit() for z in range (N)] for y in range(N)] for xplus in range (maxt//DTS)])\n",
    "\n",
    "    with tqdm(total=maxt) as pbar:\n",
    "        for t in range(maxt):            \n",
    "            # Evolve Glasma fields\n",
    "            core.evolve_leapfrog(s)\n",
    "\n",
    "            # Copy gauge links and gauge fields from the memory of the GPU\n",
    "            if t%DTS == 0:\n",
    "                u1 = s.u1.copy()\n",
    "                u0 = s.u0.copy()\n",
    "                \n",
    "                ux_act = u1[:,0,:].reshape(N,N,Dg)\n",
    "                ux_prev = u0[:,0,:].reshape(N,N,Dg)\n",
    "                \n",
    "                ae_act = s.aeta1.copy().reshape(N, N, Dg)\n",
    "                ae_prev = s.aeta0.copy().reshape(N, N, Dg)\n",
    "                \n",
    "                # We construct the u_+ links over the x^+ axis in a (y,z) transverse lattice\n",
    "                uplus_temp = su.GROUP_TYPE(np.zeros((N,N,Dg)))\n",
    "                \n",
    "                for y in range(N):\n",
    "                    for z in range(N):\n",
    "                        # uplus_temp[y, z] = su.mul(su.mexp(su.mul_s(ae_prev[t//DTS, y], 1j*g*a*(z-N//2))), ux_prev[t//DTS, y])\n",
    "                        uplus_temp[y, z] = gt.get_plus_links(ux_prev[t//DTS,y], ae_prev[t//DTS,y], z, g, a, N)\n",
    "                        # uplus_temp[y, z] = gt.get_plus_links(ux_prev[t//DTS,y], ae_prev[t//DTS,y], z, N)\n",
    "                \n",
    "                \n",
    "                # We construct the gauge operator and transform the field\n",
    "                for xplus in range(maxt//DTS):\n",
    "                    for y in range(N):\n",
    "                        for z  in range(N):\n",
    "                            \n",
    "                            if xplus > (t//DTS): # We construct the gauge operator\n",
    "                                v_prev = v_LC[xplus, y, z]\n",
    "                                # umin = su.mul(su.mexp(su.mul_s(ae_act[2*xplus-t//DTS, y], 1j*g*a*(z-N//2))), su.dagger(ux_act[2*xplus-t//DTS, y]))\n",
    "                                # v_LC[xplus, y, z] = su.mul(umin, v_prev)\n",
    "                                # v_LC[xplus, y, z] = gt.gauge_transformation_operator(ux_act[2*xplus-t//DTS,y], ae_act[2*xplus-t//DTS,y], v_prev, z, N)\n",
    "                                v_LC[xplus, y, z] = gt.gauge_transformation_operator(ux_act[2*xplus-t//DTS,y], ae_act[2*xplus-t//DTS,y], v_prev, z, g, a, N)\n",
    "                                \n",
    "                            elif xplus == (t//DTS) and xplus != 0:\n",
    "                                # uplus_LC[xplus-1, y, z] = su.mul(su.mul(su.dagger(v_LC[xplus, y, z]), uplus_temp[y,z]), v_LC[xplus-1, y, z])\n",
    "                                uplus_LC[xplus-1, y, z] = gt.act_on_links(uplus_temp[y,z], v_LC[xplus, y, z], v_LC[xplus-1, y, z])\n",
    "                                \n",
    "                \n",
    "            \n",
    "            \n",
    "            pbar.update(1)\n",
    "\n",
    "    if use_cuda:\n",
    "        cuda.current_context().deallocations.clear()\n",
    "\n",
    "    return uplus_LC #ux2 #, uy, aeta"
   ]
  },
  {
   "cell_type": "code",
   "execution_count": 4,
   "metadata": {},
   "outputs": [],
   "source": [
    "# Supress various horribly long warnings\n",
    "import warnings\n",
    "warnings.filterwarnings('ignore')"
   ]
  },
  {
   "cell_type": "code",
   "execution_count": null,
   "metadata": {},
   "outputs": [],
   "source": [
    "uplus_LC = simulate()"
   ]
  },
  {
   "cell_type": "code",
   "execution_count": 6,
   "metadata": {},
   "outputs": [
    {
     "data": {
      "image/png": "[encoded data removed]",
      "text/plain": [
       "<Figure size 720x2160 with 28 Axes>"
      ]
     },
     "metadata": {
      "needs_background": "light"
     },
     "output_type": "display_data"
    }
   ],
   "source": [
    "import matplotlib.pyplot as plt \n",
    "\n",
    "t_steps = int(tau_sim*N / L)\n",
    "y = N//2\n",
    "\n",
    "uplus_LC_plot = uplus_LC.reshape(t_steps-1, N, N, 3, 3)\n",
    "\n",
    "fig, axs = plt.subplots(t_steps//10 +1, 2, figsize=(10,30))\n",
    "\n",
    "for t in range(t_steps//10 + 1): \n",
    "    tau = 10*t\n",
    "    plot1 = axs[t,0].imshow(uplus_LC_plot[tau, y, N//2, :, :].real, cmap='turbo', vmin=-0.1, vmax=1) \n",
    "    axs[t,0].set_title(r'$U_+^{LC}; z =0; x^+ = %i $' %tau)\n",
    "    plt.colorbar(plot1, ax = axs[t,0])\n",
    "    axs[t,0].axes.get_xaxis().set_visible(False)\n",
    "    axs[t,0].axes.get_yaxis().set_visible(False)\n",
    "    \n",
    "    plot1 = axs[t, 1].imshow(uplus_LC_plot[tau, y, 0, :, :].real, cmap='turbo', vmin=-0.1, vmax=1)\n",
    "    axs[t,1].set_title(r'$U_+^{LC}; z = -L/2; x^+ = %i $' %tau)\n",
    "    plt.colorbar(plot1, ax = axs[t,1])\n",
    "    axs[t,1].axes.get_xaxis().set_visible(False)\n",
    "    axs[t,1].axes.get_yaxis().set_visible(False)"
   ]
  },
  {
   "cell_type": "markdown",
   "metadata": {},
   "source": [
    "- - -\n",
    "Write the outputs to files. First, the numerical Glasma parameters in `glasma_parameters.txt`."
   ]
  },
  {
   "cell_type": "code",
   "execution_count": 6,
   "metadata": {},
   "outputs": [],
   "source": [
    "# Save relevant parameters to text file\n",
    "param_names = [\"L [fm]\", \"N\", \"a [fm]\", \"tau_sim [fm/c]\", \"tau_steps\"]\n",
    "# The last time step in x^+ in skipped, so only N/2-1 time steps\n",
    "# The lattice discretization in z coincides with the one in y\n",
    "param_values = [L, N, L/N, tau_sim, int(N/2)-1]\n",
    "\n",
    "# output_file = open(\"glasma_parameters_v2.txt\", \"a\")\n",
    "output_file = open(\"glasma_parameters.txt\", \"a\")\n",
    "for p in range(len(param_names)):\n",
    "    output_file.write(param_names[p] + \" \" + str(param_values[p]) + \"\\n\")\n",
    "output_file.close()"
   ]
  },
  {
   "cell_type": "code",
   "execution_count": 8,
   "metadata": {},
   "outputs": [],
   "source": [
    "# Save relevant parameters to text file\n",
    "param_names = [\"L_perp [GeV^-1]\", \"N_perp\", \"time_tot [GeV^-1]\", \"time_step\"]\n",
    "# The last time step in x^+ in skipped, so only N/2-1 time steps\n",
    "# The lattice discretization in z coincides with the one in y\n",
    "param_values = [L/2/hbarc, round(N/2), tau_sim*np.sqrt(2)/hbarc, int(N/2)-1]\n",
    "\n",
    "# output_file = open(\"glasma_parameters_v2.txt\", \"a\")\n",
    "output_file = open(\"glasma_parameters_qjetlfh_input.txt\", \"a\")\n",
    "for p in range(len(param_names)):\n",
    "    output_file.write(param_names[p] + \" \" + str(param_values[p]) + \"\\n\")\n",
    "output_file.close()"
   ]
  },
  {
   "cell_type": "markdown",
   "metadata": {},
   "source": [
    "Second, the transformed gauge link $U_+ (x^+, y, z)$ as a `numpy` array in `uplus_glasma.npy`."
   ]
  },
  {
   "cell_type": "code",
   "execution_count": 7,
   "metadata": {},
   "outputs": [],
   "source": [
    "np.save('uplus_glasma_v2.npy', uplus_LC)"
   ]
  },
  {
   "cell_type": "code",
   "execution_count": 8,
   "metadata": {},
   "outputs": [
    {
     "data": {
      "text/plain": [
       "array([  57.76874157 -72.30425241j,  605.8252771  +48.95880866j,\n",
       "        604.58884761-390.40266559j,  -42.14488255 +30.82561223j,\n",
       "       -335.29760211-124.9891439j , -406.72294646+122.06126378j,\n",
       "          0.83521685 +52.74502048j, -304.58395376+199.72153091j,\n",
       "       -145.08492177+417.02029687j])"
      ]
     },
     "execution_count": 8,
     "metadata": {},
     "output_type": "execute_result"
    }
   ],
   "source": [
    "# I use this values to test that reading the numpy array in C++ is correct\n",
    "uplus_LC[10, 12, 10, :]"
   ]
  },
  {
   "cell_type": "markdown",
   "metadata": {},
   "source": [
    "- - -\n",
    "Read the input file `uplus_glasma.npy` sent to Meijian."
   ]
  },
  {
   "cell_type": "code",
   "execution_count": 4,
   "metadata": {},
   "outputs": [],
   "source": [
    "uplus_file = np.load('uplus_glasma.npy')"
   ]
  },
  {
   "cell_type": "markdown",
   "metadata": {},
   "source": [
    "Output a time slice, let's choose $x^+_\\mathrm{lattice}=10$, the (y,z) dependence, in a `*.txt` file, for Meijian."
   ]
  },
  {
   "cell_type": "code",
   "execution_count": 5,
   "metadata": {},
   "outputs": [],
   "source": [
    "# Output each color components in a different file, as a yz array\n",
    "\n",
    "folder_path = \"uplus_glasma_xplus_10_color/\"\n",
    "\n",
    "if not os.path.exists(folder_path):\n",
    "    os.makedirs(folder_path)\n",
    "\n",
    "for c in range(Dg):\n",
    "    output_file = open(folder_path + \"c_\" + str(c) + \".txt\", \"a\")\n",
    "    for y in range(N):\n",
    "        for z in range(N):\n",
    "            output_file.write(str(uplus_file[10, y, z, c]) + \" \")\n",
    "            if z==(N-1):\n",
    "                output_file.write(str(uplus_file[10, y, z, c]) + \"\\n\")\n",
    "output_file.close()"
   ]
  },
  {
   "cell_type": "code",
   "execution_count": 7,
   "metadata": {},
   "outputs": [],
   "source": [
    "folder_path = \"uplus_glasma_xplus_10_coord/\"\n",
    "\n",
    "if not os.path.exists(folder_path):\n",
    "    os.makedirs(folder_path)\n",
    "\n",
    "# Output all color components for each yz pair in a different file\n",
    "for y in range(N):\n",
    "    for z in range(N):\n",
    "        output_file = open(folder_path + \"y_\" + str(y) + \"_z_\" + str(z) + \".txt\", \"a\")\n",
    "        for c in range(Dg):\n",
    "            output_file.write(str(uplus_file[10, y, z, c]) + \"\\n\")\n",
    "output_file.close()"
   ]
  }
 ],
 "metadata": {
  "kernelspec": {
   "display_name": "Python 3",
   "language": "python",
   "name": "python3"
  },
  "language_info": {
   "codemirror_mode": {
    "name": "ipython",
    "version": 3
   },
   "file_extension": ".py",
   "mimetype": "text/x-python",
   "name": "python",
   "nbconvert_exporter": "python",
   "pygments_lexer": "ipython3",
   "version": "3.6.8"
  }
 },
 "nbformat": 4,
 "nbformat_minor": 2
}
