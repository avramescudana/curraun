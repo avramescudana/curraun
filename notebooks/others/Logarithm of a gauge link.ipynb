{
 "cells": [
  {
   "cell_type": "markdown",
   "metadata": {},
   "source": [
    "### Extract the logatirhm of a SU(2) gauge link"
   ]
  },
  {
   "cell_type": "markdown",
   "metadata": {},
   "source": [
    "Input the list of coefficients for a SU(2) gauge link parametrization, see Eq. (C.7) from [David Mueller's PhD Thesis](https://arxiv.org/abs/1904.04267), more concisely $(u_0, u_1, u_2, u_3)$. This gauge link is obtained from a Glasma SU(2) simulation, using Pooja's parameters."
   ]
  },
  {
   "cell_type": "code",
   "execution_count": 1,
   "metadata": {},
   "outputs": [],
   "source": [
    "ux_param = (0.99910964, -0.02292065, 0.03035651, 0.01824954)"
   ]
  },
  {
   "cell_type": "markdown",
   "metadata": {},
   "source": [
    "### Import packages"
   ]
  },
  {
   "cell_type": "code",
   "execution_count": 2,
   "metadata": {},
   "outputs": [],
   "source": [
    "import numpy as np\n",
    "import math"
   ]
  },
  {
   "cell_type": "markdown",
   "metadata": {},
   "source": [
    "#### Input the Pauli matrices and the 2x2 identity matrix as tuples"
   ]
  },
  {
   "cell_type": "code",
   "execution_count": 3,
   "metadata": {},
   "outputs": [],
   "source": [
    "def complex_tuple(*t):\n",
    "    return tuple(map(np.complex64, t))\n",
    "\n",
    "# Pauli matrices\n",
    "id0 = complex_tuple(1, 0, 0, 1)\n",
    "s1 = complex_tuple(0, 1, 1, 0)\n",
    "s2 = complex_tuple(0, -1j, 1j, 0)\n",
    "s3 = complex_tuple(1, 0, 0, -1)\n",
    "\n",
    "slist = (id0, s1, s2, s3)"
   ]
  },
  {
   "cell_type": "markdown",
   "metadata": {},
   "source": [
    "Convert from SU(2) parametrization coefficients $(u_0, u_1, u_2, u_3)$ to a SU(2) matrix as $\\boxed{U=u_0\\mathbb{1}+\\sum_a u_a\\sigma_a/2}$. Notice that all SU(2) operations (`add`, `mul`, `dagger` and others) are done element-wise. This is slow on the CPU but becomes really fast on GPU."
   ]
  },
  {
   "cell_type": "code",
   "execution_count": 4,
   "metadata": {},
   "outputs": [],
   "source": [
    "def get_algebra_matrix(algebra_param_coeff):\n",
    "    \"\"\"\n",
    "    Contruct the matrix U=u_0 id + i sum_a u_a \\sigma_a/2\n",
    "    \"\"\"\n",
    "    ms0 = mul_s(s1, algebra_param_coeff[1])\n",
    "    ms1 = mul_s(s2, algebra_param_coeff[2])\n",
    "    ms2 = mul_s(s3, algebra_param_coeff[3])\n",
    "\n",
    "    # Add all\n",
    "    b0 = add(ms0, ms1)\n",
    "    b1 = add(b0, ms2)\n",
    "\n",
    "    # Overall factor\n",
    "    res1 = mul_s(b1, 0.5j)\n",
    "\n",
    "    ms3 = mul_s(id0, algebra_param_coeff[0])\n",
    "    res = add(res1, ms3)\n",
    "    return res\n",
    "\n",
    "# group add: g0 = g0 + f * g1\n",
    "def add(g0, g1):\n",
    "    r0 = g0[0] + g1[0]\n",
    "    r1 = g0[1] + g1[1]\n",
    "    r2 = g0[2] + g1[2]\n",
    "    r3 = g0[3] + g1[3]\n",
    "    return r0, r1, r2, r3\n",
    "\n",
    "# multiply by scalar\n",
    "def mul_s(g0, f):\n",
    "    r0 = np.complex64(f) * g0[0]\n",
    "    r1 = np.complex64(f) * g0[1]\n",
    "    r2 = np.complex64(f) * g0[2]\n",
    "    r3 = np.complex64(f) * g0[3]\n",
    "    return r0, r1, r2, r3\n"
   ]
  },
  {
   "cell_type": "markdown",
   "metadata": {},
   "source": [
    "Extract the SU(2) matrix, see that it's close to identity, with small diagonal elements and imaginary parts"
   ]
  },
  {
   "cell_type": "code",
   "execution_count": 5,
   "metadata": {},
   "outputs": [
    {
     "data": {
      "text/plain": [
       "array([ 0.9991096 +0.00912477j,  0.01517825-0.01146032j,\n",
       "       -0.01517825-0.01146032j,  0.9991096 -0.00912477j], dtype=complex64)"
      ]
     },
     "execution_count": 5,
     "metadata": {},
     "output_type": "execute_result"
    }
   ],
   "source": [
    "ux = get_algebra_matrix(ux_param)\n",
    "np.array(ux)"
   ]
  },
  {
   "cell_type": "markdown",
   "metadata": {},
   "source": [
    "Check that the resulting matrix is unitary $U U^\\dagger=\\mathbb{1}$ and its determinant is unity $\\mathrm{det}U=1$"
   ]
  },
  {
   "cell_type": "code",
   "execution_count": 6,
   "metadata": {},
   "outputs": [],
   "source": [
    "def mul(a, b):\n",
    "    \"\"\"SU(2) multiplication: 2x2 matrix multiplication\n",
    "\n",
    "    >>> a=[1, 2, 3, 4]\n",
    "    >>> b=[5, 6, 7, 8]\n",
    "    >>> c=mul(a,b)\n",
    "    >>> c\n",
    "    (19, 22, 43, 50)\n",
    "\n",
    "    # Check with numpy\n",
    "    >>> import numpy as np\n",
    "    >>> ma = np.asarray(a).reshape(2,2)\n",
    "    >>> mb = np.asarray(b).reshape(2,2)\n",
    "    >>> mc = np.matmul(ma, mb)\n",
    "    >>> mc\n",
    "    array([[19, 22],\n",
    "           [43, 50]])\n",
    "\n",
    "    >>> tuple(mc.flatten()) == c\n",
    "    True\n",
    "    \"\"\"\n",
    "    r0 = a[0] * b[0] + a[1] * b[2] \n",
    "    r1 = a[0] * b[1] + a[1] * b[3] \n",
    "    r2 = a[2] * b[0] + a[3] * b[2] \n",
    "    r3 = a[2] * b[1] + a[3] * b[3] \n",
    "    return r0, r1, r2, r3\n",
    "\n",
    "# conjugate transpose\n",
    "def dagger(a):\n",
    "    r0 = a[0].conjugate()\n",
    "    r1 = a[2].conjugate()\n",
    "    r2 = a[1].conjugate()\n",
    "    r3 = a[3].conjugate()\n",
    "    return r0, r1, r2, r3\n",
    "\n",
    "# trace ( a . dagger(a) )\n",
    "def sq(a): \n",
    "    \"\"\"\n",
    "    >>> a = (1,2,3,4)\n",
    "    >>> ta = sq(a)\n",
    "    >>> ta\n",
    "    30.0\n",
    "\n",
    "    >>> tma = tr(mul(a, dagger(a))).real\n",
    "    >>> tma\n",
    "    30\n",
    "\n",
    "    >>> tma == ta\n",
    "    True\n",
    "\n",
    "    :param a:\n",
    "    :return:\n",
    "    \"\"\"\n",
    "    # return tr(mul(a, dagger(a))).real\n",
    "\n",
    "    s = np.float64(0)\n",
    "    for i in range(4):\n",
    "        s += a[i].real * a[i].real + a[i].imag * a[i].imag\n",
    "    return s\n",
    "\n",
    "def check_unitary(u):  \n",
    "    x = mul(u, dagger(u))\n",
    "    d = add(x, mul_s(id0, -1))\n",
    "    s = sq(d)\n",
    "    if s > 1e-4:\n",
    "       print(\"Unitarity is violated\")  \n",
    "    else:\n",
    "        print(\"Unitarity is satisfied\")\n",
    "    return s\n",
    "\n",
    "# determinant\n",
    "def det(a):\n",
    "    res  = a[0] * a[3] - a[1] * a[2]\n",
    "    return res"
   ]
  },
  {
   "cell_type": "code",
   "execution_count": 7,
   "metadata": {},
   "outputs": [
    {
     "name": "stdout",
     "output_type": "stream",
     "text": [
      "Unitarity is satisfied\n"
     ]
    },
    {
     "data": {
      "text/plain": [
       "3.564264261513017e-06"
      ]
     },
     "execution_count": 7,
     "metadata": {},
     "output_type": "execute_result"
    }
   ],
   "source": [
    "check_unitary(ux)"
   ]
  },
  {
   "cell_type": "code",
   "execution_count": 8,
   "metadata": {},
   "outputs": [
    {
     "name": "stdout",
     "output_type": "stream",
     "text": [
      "The determinant is (0.99866503+0j)\n"
     ]
    }
   ],
   "source": [
    "print(\"The determinant is\", det(ux))"
   ]
  },
  {
   "cell_type": "markdown",
   "metadata": {},
   "source": [
    "- - -\n",
    "#### Extract the logarithm of a SU(2) gauge link\n",
    "The function `mlog(a)` evaluates the Taylor series expansion of the logarithm of a matrix `a`. The result is compared with `logm` from the `linalg` library of [SciPy](https://scipy.org/), more details [here](https://docs.scipy.org/doc/scipy/reference/generated/scipy.linalg.logm.html)."
   ]
  },
  {
   "cell_type": "code",
   "execution_count": 9,
   "metadata": {},
   "outputs": [],
   "source": [
    "LOG_MIN_TERMS = -1 # minimum number of terms in Taylor series\n",
    "LOG_MAX_TERMS = 100 # maximum number of terms in Taylor series\n",
    "LOG_ACCURACY_SQUARED = 1.e-32 # 1.e-32 # accuracy\n",
    "\n",
    "# logarithm map\n",
    "def mlog(a):\n",
    "    \"\"\"\n",
    "    Computes logarithm of a matrix using Taylor series\n",
    "\n",
    "    mlog(a) = (a-id0) - (a-id0)^2 / 2 + (a-id0)^3 / 3 - (a-id0)^4 / 4 + ...\n",
    "\n",
    "    Works for matrices close to identity (for example gauge links)\n",
    "    Example and comparison with logm() from Scipy:\n",
    "\n",
    "    >>> Ux = [0.98510928-0.15514118j, 0.06072216+0.04247033j, -0.05816349+0.04591208j, 0.99243458+0.09789123j]\n",
    "    >>> lnUx_CUDA = mlog(Ux)\n",
    "    >>> lnUx_CUDA\n",
    "    ((-5.283685708374216e-09-0.1559693702453399j), (0.05968301710568872+0.04436976704847219j), (-0.059683020380762314+0.044369774147350945j), (-6.818738708510321e-10+0.0980854807916348j))\n",
    "    >>> from scipy.linalg import logm\n",
    "    >>> lnUx_Scipy = np.reshape(logm(np.reshape(Ux, (2, 2))), 2*2)\n",
    "    >>> lnUx_Scipy\n",
    "    array([-5.28368542e-09-0.15596937j,  5.96830171e-02+0.04436977j,\n",
    "           -5.96830204e-02+0.04436977j, -6.81873818e-10+0.09808548j])\n",
    "    >>> lnUx_CUDA - lnUx_Scipy\n",
    "    array([-2.91666427e-16+0.00000000e+00j, -5.55111512e-17-6.93889390e-17j,\n",
    "           4.85722573e-17+4.85722573e-17j, -5.30250034e-17-9.71445147e-17j])\n",
    "    \"\"\"\n",
    "    res = add(a, mul_s(id0, -1))\n",
    "    t = add(a, mul_s(id0, -1))\n",
    "    sign = -1\n",
    "    for i in range(1, LOG_MAX_TERMS):\n",
    "        t = mul(t, add(a, mul_s(id0, -1)))\n",
    "        buff = mul_s(t, sign/(i+1))\n",
    "        res = add(res, buff)\n",
    "        sign = sign * (-1)\n",
    "        n = sq(t) \n",
    "        if (i > LOG_MIN_TERMS) and (math.fabs(n.real) < LOG_ACCURACY_SQUARED):\n",
    "            break\n",
    "        # else:\n",
    "            # print(\"Logarithm did not reach desired accuracy\") \n",
    "\n",
    "    return res"
   ]
  },
  {
   "cell_type": "code",
   "execution_count": 10,
   "metadata": {},
   "outputs": [
    {
     "data": {
      "text/plain": [
       "array([-0.00066793+0.00913155j,  0.01518953-0.01146883j,\n",
       "       -0.01518953-0.01146883j, -0.00066793-0.00913155j], dtype=complex64)"
      ]
     },
     "execution_count": 10,
     "metadata": {},
     "output_type": "execute_result"
    }
   ],
   "source": [
    "lnux_taylor = mlog(ux)\n",
    "np.array(lnux_taylor)"
   ]
  },
  {
   "cell_type": "code",
   "execution_count": 11,
   "metadata": {},
   "outputs": [
    {
     "name": "stdout",
     "output_type": "stream",
     "text": [
      "logm result may be inaccurate, approximate err = 1.7764702346012432e-07\n"
     ]
    },
    {
     "data": {
      "text/plain": [
       "array([-0.00066804+0.00913154j,  0.01518955-0.01146884j,\n",
       "       -0.01518947-0.01146888j, -0.00066794-0.00913151j])"
      ]
     },
     "execution_count": 11,
     "metadata": {},
     "output_type": "execute_result"
    }
   ],
   "source": [
    "from scipy.linalg import logm\n",
    "lnux_scipy = np.reshape(logm(np.reshape(ux, (2, 2))), 2*2)\n",
    "lnux_scipy"
   ]
  },
  {
   "cell_type": "markdown",
   "metadata": {},
   "source": [
    "Comparison of the two ways to extract the logarithm. The difference is of the order of $10^{-7}$, thus they agree very well"
   ]
  },
  {
   "cell_type": "code",
   "execution_count": 12,
   "metadata": {},
   "outputs": [
    {
     "data": {
      "text/plain": [
       "array([ 1.09600173e-07+5.26611089e-09j, -2.89470559e-08+6.23388672e-09j,\n",
       "       -5.19192634e-08+4.98090421e-08j,  9.62030791e-09-3.45076762e-08j])"
      ]
     },
     "execution_count": 12,
     "metadata": {},
     "output_type": "execute_result"
    }
   ],
   "source": [
    "lnux_taylor - lnux_scipy"
   ]
  },
  {
   "cell_type": "markdown",
   "metadata": {},
   "source": [
    "---\n",
    "### Simulation parameters\n",
    "Chosen to match Pooja's, namely\n",
    "- Gauge group SU(3)\n",
    "- Nb. of color sheets $N_s=1$\n",
    "- Nb. of lattice points $N=512$\n",
    "- Transverse simulation length $L=2\\,\\mathrm{fm}$\n",
    "- Leapfrog time step $1/8=0.125$\n",
    "- Simulation time $\\tau_\\mathrm{stop}=0.4\\,\\mathrm{fm/}c$\n",
    "- Saturation momentum $Q_s=3\\,\\mathrm{GeV}$\n",
    "- Coupling constant $g=\\sqrt{2\\pi\\alpha_s}$ with runnning coupling $\\alpha_s=\\dfrac{2\\pi}{\\dfrac{33-2 N_f}{3}}\\dfrac{1}{\\mathrm{log}\\left(\\dfrac{Q_s}{\\lambda_{\\mathrm{QCD}}}\\right)}$\n",
    "- Factor relating the MV model $g^2\\mu$ to the saturation scale $Q_s=0.6 g^2\\mu$ "
   ]
  },
  {
   "cell_type": "code",
   "execution_count": 5,
   "metadata": {},
   "outputs": [],
   "source": [
    "import numpy as np\n",
    "\n",
    "# hbar * c [GeV * fm]\n",
    "hbarc = 0.197326 \n",
    "\n",
    "# Simulation box \n",
    "L = 2      \n",
    "N = 512    \n",
    "tau_sim = 0.1     \n",
    "DTS = 8     \n",
    "\n",
    "# Glasma fields\n",
    "su_group = 'su3'\n",
    "Qs = 3        \n",
    "ns = 1    \n",
    "factor = 0.6        \n",
    "g2mu = Qs / factor     \n",
    "g = np.pi * np.sqrt(1 / np.log(Qs / 0.2))          \t\t\n",
    "mu = g2mu / g**2          \t\n",
    "ir = 0.1 * g**2 * mu         \n",
    "uv = 10.0       \n",
    "\n",
    "nevents = 1"
   ]
  },
  {
   "cell_type": "markdown",
   "metadata": {},
   "source": [
    "### Set environment variables\n",
    "Work with the Numba version, which runs of the CPU."
   ]
  },
  {
   "cell_type": "code",
   "execution_count": 6,
   "metadata": {},
   "outputs": [],
   "source": [
    "import os\n",
    "os.environ[\"MY_NUMBA_TARGET\"] = \"cuda\"\n",
    "os.environ[\"PRECISION\"] = \"double\"\n",
    "os.environ[\"GAUGE_GROUP\"] = su_group\n",
    "\n",
    "# Import relevant modules\n",
    "import sys\n",
    "sys.path.append('..')\n",
    "\n",
    "# Glasma modules\n",
    "import curraun.core as core\n",
    "import curraun.mv as mv\n",
    "import curraun.initial as initial\n",
    "initial.DEBUG = False\n",
    "\n",
    "import curraun.su as su\n",
    "from curraun.numba_target import use_cuda\n",
    "if use_cuda:\n",
    "    from numba import cuda\n",
    "\n",
    "import curraun.su as su\n",
    "Nc = su.NC"
   ]
  },
  {
   "cell_type": "markdown",
   "metadata": {},
   "source": [
    "### Simulation routine for evolving the Glasma fields"
   ]
  },
  {
   "cell_type": "code",
   "execution_count": 7,
   "metadata": {},
   "outputs": [],
   "source": [
    "import pickle\n",
    "from tqdm import tqdm\n",
    "\n",
    "# Simulation routine\n",
    "def simulate(ev): \n",
    "\n",
    "    # Derived parameters\n",
    "    a = L / N\n",
    "    E0 = N / L * hbarc\n",
    "    DT = 1.0 / DTS\n",
    "    maxt = int(tau_sim / a * DTS)\n",
    "\n",
    "    # Initialize Glasma fields\n",
    "    s = core.Simulation(N, DT, g)\n",
    "    va = mv.wilson(s, mu=mu / E0, m=ir / E0, uv=uv / E0, num_sheets=ns)\n",
    "    vb = mv.wilson(s, mu=mu / E0, m=ir / E0, uv=uv / E0, num_sheets=ns)\n",
    "    initial.init(s, va, vb)\n",
    "\n",
    "    # Gauge link along x in a lattice point, at the last simulation time step\n",
    "    lat = 200\n",
    "\n",
    "    with tqdm(total=maxt) as pbar:\n",
    "        for t in range(maxt):            \n",
    "            # Evolve Glasma fields\n",
    "            core.evolve_leapfrog(s)\n",
    "            ui_all = s.u1.copy()\n",
    "            if t==(maxt-1):\n",
    "                ux = ui_all[lat, 1, :].reshape(Nc,Nc)\n",
    "\n",
    "            pbar.set_description(\"Event \" + str(ev+1))\n",
    "            pbar.update(1)\n",
    "\n",
    "    if use_cuda:\n",
    "        cuda.current_context().deallocations.clear()\n",
    "\n",
    "    print(ux)"
   ]
  },
  {
   "cell_type": "code",
   "execution_count": 8,
   "metadata": {},
   "outputs": [
    {
     "name": "stderr",
     "output_type": "stream",
     "text": [
      "Event 1: 100%|██████████| 204/204 [00:47<00:00,  4.26it/s]"
     ]
    },
    {
     "name": "stdout",
     "output_type": "stream",
     "text": [
      "[[ 0.9992373 +0.00597116j -0.00113904-0.00153799j -0.02812345+0.02635478j]\n",
      " [ 0.00200096-0.00037265j  0.99922377+0.01439965j  0.03599992+0.00666049j]\n",
      " [ 0.02845036+0.02599231j -0.03597915+0.00680715j  0.99837853-0.02035784j]]\n"
     ]
    },
    {
     "name": "stderr",
     "output_type": "stream",
     "text": [
      "\n"
     ]
    }
   ],
   "source": [
    "for ev in range(nevents):\n",
    "    output = simulate(ev)"
   ]
  },
  {
   "cell_type": "markdown",
   "metadata": {},
   "source": [
    "- - -\n",
    "### Extract the logatirhm of a SU(3) gauge link"
   ]
  },
  {
   "cell_type": "code",
   "execution_count": 1,
   "metadata": {},
   "outputs": [],
   "source": [
    "import numpy as np\n",
    "import math"
   ]
  },
  {
   "cell_type": "code",
   "execution_count": 2,
   "metadata": {},
   "outputs": [],
   "source": [
    "def complex_tuple(*t):\n",
    "    return tuple(map(np.complex128, t))\n",
    "\n",
    "Nc = 3\n",
    "\n",
    "# Gell-Mann matrices\n",
    "id0 = complex_tuple(1, 0, 0, 0, 1, 0, 0, 0, 1)\n",
    "s1 = complex_tuple(0, 1, 0, 1, 0, 0, 0, 0, 0)\n",
    "s2 = complex_tuple(0, -1j, 0, 1j, 0, 0, 0, 0, 0)\n",
    "s3 = complex_tuple(1, 0, 0, 0, -1, 0, 0, 0, 0)\n",
    "s4 = complex_tuple(0, 0, 1, 0, 0, 0, 1, 0, 0)\n",
    "s5 = complex_tuple(0, 0, -1j, 0, 0, 0, 1j, 0, 0)\n",
    "s6 = complex_tuple(0, 0, 0, 0, 0, 1, 0, 1, 0)\n",
    "s7 = complex_tuple(0, 0, 0, 0, 0, -1j, 0, 1j, 0)\n",
    "s8 = complex_tuple(1 / math.sqrt(3), 0, 0, 0, 1 / math.sqrt(3), 0, 0, 0, -2 / math.sqrt(3))\n",
    "\n",
    "slist = (id0, s1, s2, s3, s4, s5, s6, s7, s8)"
   ]
  },
  {
   "cell_type": "code",
   "execution_count": 3,
   "metadata": {},
   "outputs": [],
   "source": [
    "\"\"\"\n",
    "    SU(3) group & algebra functions\n",
    "\"\"\"\n",
    "\n",
    "# SU(3) group elements are given by 3x3 complex matrices:\n",
    "#   a[0] a[1] a[2]\n",
    "#   a[3] a[4] a[5]\n",
    "#   a[6] a[7] a[8]\n",
    "# (layout corresponds to C-order of numpy array)\n",
    "\n",
    "# su3 multiplication\n",
    "\n",
    "# Generate the matrix multiplication code:\n",
    "# print(\"\\n\".join([\"r{} = \".format(j) + \" + \".join([\"a[{}] * b[{}]\".format(3 * (j // 3) + i, 3 * i + (j % 3)) for i in range(3)]) for j in range(9)]))\n",
    "\n",
    "def mul(a, b):\n",
    "    \"\"\"SU(3) multiplication: 3x3 matrix multiplication\n",
    "\n",
    "    >>> a=[1,2,3,4,5,6,7,8,9]\n",
    "    >>> b=[3,6,8,4,3,2,1,3,4]\n",
    "    >>> c=mul(a,b)\n",
    "    >>> c\n",
    "    (14, 21, 24, 38, 57, 66, 62, 93, 108)\n",
    "\n",
    "    # Check with numpy\n",
    "    >>> import numpy as np\n",
    "    >>> ma = np.asarray(a).reshape(3,3)\n",
    "    >>> mb = np.asarray(b).reshape(3,3)\n",
    "    >>> mc = np.matmul(ma, mb)\n",
    "    >>> mc\n",
    "    array([[ 14,  21,  24],\n",
    "           [ 38,  57,  66],\n",
    "           [ 62,  93, 108]])\n",
    "\n",
    "    >>> tuple(mc.flatten()) == c\n",
    "    True\n",
    "    \"\"\"\n",
    "    r0 = a[0] * b[0] + a[1] * b[3] + a[2] * b[6]\n",
    "    r1 = a[0] * b[1] + a[1] * b[4] + a[2] * b[7]\n",
    "    r2 = a[0] * b[2] + a[1] * b[5] + a[2] * b[8]\n",
    "    r3 = a[3] * b[0] + a[4] * b[3] + a[5] * b[6]\n",
    "    r4 = a[3] * b[1] + a[4] * b[4] + a[5] * b[7]\n",
    "    r5 = a[3] * b[2] + a[4] * b[5] + a[5] * b[8]\n",
    "    r6 = a[6] * b[0] + a[7] * b[3] + a[8] * b[6]\n",
    "    r7 = a[6] * b[1] + a[7] * b[4] + a[8] * b[7]\n",
    "    r8 = a[6] * b[2] + a[7] * b[5] + a[8] * b[8]\n",
    "    return r0, r1, r2, r3, r4, r5, r6, r7, r8\n",
    "\n",
    "EXP_MIN_TERMS = -1 # minimum number of terms in Taylor series\n",
    "EXP_MAX_TERMS = 100 # maximum number of terms in Taylor series\n",
    "EXP_ACCURACY_SQUARED = 1.e-40 # 1.e-32 # accuracy\n",
    "\n",
    "# exponential map\n",
    "def mexp(a):\n",
    "    \"\"\" Calculate exponential using Taylor series\n",
    "\n",
    "    mexp(a) = 1 + a + a^2 / 2 + a^3 / 6 + ...\n",
    "\n",
    "    >>> a = id0\n",
    "    >>> mexp(a)\n",
    "    ((2.7182818284590455+0j), 0j, 0j, 0j, (2.7182818284590455+0j), 0j, 0j, 0j, (2.7182818284590455+0j))\n",
    "\n",
    "    \"\"\"\n",
    "    res = id0\n",
    "    t = id0\n",
    "    for i in range(1, EXP_MAX_TERMS):\n",
    "        t = mul(t, a)\n",
    "        t = mul_s(t, 1/i)\n",
    "        res = add(res, t)\n",
    "        n = sq(t)  # TODO: Is it possible to improve performance by checking this not so often?\n",
    "        if (i > EXP_MIN_TERMS) and (math.fabs(n.real) < EXP_ACCURACY_SQUARED):\n",
    "            break\n",
    "    else:\n",
    "        # print(\"Exponential did not reach desired accuracy: {}\".format(a))   # TODO: remove debugging code\n",
    "        print(\"Exponential did not reach desired accuracy\")  # TODO: remove debugging code\n",
    "    return res\n",
    "\n",
    "LOG_MIN_TERMS = -1 # minimum number of terms in Taylor series\n",
    "LOG_MAX_TERMS = 100 # maximum number of terms in Taylor series\n",
    "LOG_ACCURACY_SQUARED = 1.e-32 # 1.e-32 # accuracy\n",
    "\n",
    "# logarithm map\n",
    "def mlog(a):\n",
    "    \"\"\"\n",
    "    Computes logarithm of a matrix using Taylor series\n",
    "\n",
    "    mlog(a) = (a-id0) - (a-id0)^2 / 2 + (a-id0)^3 / 3 - (a-id0)^4 / 4 + ...\n",
    "\n",
    "    Works for matrices close to identity (for example gauge links)\n",
    "    \"\"\"\n",
    "    res = add(a, mul_s(id0, -1))\n",
    "    t = add(a, mul_s(id0, -1))\n",
    "    sign = -1\n",
    "    for i in range(1, LOG_MAX_TERMS):\n",
    "        t = mul(t, add(a, mul_s(id0, -1)))\n",
    "        buff = mul_s(t, sign/(i+1))\n",
    "        res = add(res, buff)\n",
    "        sign = sign * (-1)\n",
    "        n = sq(t) \n",
    "        if (i > LOG_MIN_TERMS) and (math.fabs(n.real) < LOG_ACCURACY_SQUARED):\n",
    "            break\n",
    "        # else:\n",
    "            # print(\"Logarithm did not reach desired accuracy\") \n",
    "\n",
    "    return res\n",
    "\n",
    "# determinant\n",
    "def det(a):\n",
    "    res  = a[0] * (a[4] * a[8] - a[5] * a[7])\n",
    "    res += a[1] * (a[5] * a[6] - a[3] * a[8])\n",
    "    res += a[2] * (a[3] * a[7] - a[4] * a[6])\n",
    "    return res\n",
    "\n",
    "# group add: g0 = g0 + f * g1\n",
    "def add(g0, g1):\n",
    "    # Unfortunately, tuple creation from list comprehension does not work in numba:\n",
    "    # see https://github.com/numba/numba/issues/2771\n",
    "    #\n",
    "    # result = tuple(g0[i] + g1[i] for i in range(9))\n",
    "    # return result\n",
    "    r0 = g0[0] + g1[0]\n",
    "    r1 = g0[1] + g1[1]\n",
    "    r2 = g0[2] + g1[2]\n",
    "    r3 = g0[3] + g1[3]\n",
    "    r4 = g0[4] + g1[4]\n",
    "    r5 = g0[5] + g1[5]\n",
    "    r6 = g0[6] + g1[6]\n",
    "    r7 = g0[7] + g1[7]\n",
    "    r8 = g0[8] + g1[8]\n",
    "    return r0, r1, r2, r3, r4, r5, r6, r7, r8\n",
    "\n",
    "# multiply by scalar\n",
    "def mul_s(g0, f):\n",
    "    # Unfortunately, tuple creation from list comprehension does not work in numba:\n",
    "    # see https://github.com/numba/numba/issues/2771\n",
    "    #\n",
    "    # result = tuple(f * g0[i] for i in range(9))\n",
    "    # return result\n",
    "    r0 = np.complex128(f) * g0[0]\n",
    "    r1 = np.complex128(f) * g0[1]\n",
    "    r2 = np.complex128(f) * g0[2]\n",
    "    r3 = np.complex128(f) * g0[3]\n",
    "    r4 = np.complex128(f) * g0[4]\n",
    "    r5 = np.complex128(f) * g0[5]\n",
    "    r6 = np.complex128(f) * g0[6]\n",
    "    r7 = np.complex128(f) * g0[7]\n",
    "    r8 = np.complex128(f) * g0[8]\n",
    "    return r0, r1, r2, r3, r4, r5, r6, r7, r8\n",
    "\n",
    "# conjugate transpose\n",
    "def dagger(a):\n",
    "    r0 = a[0].conjugate()\n",
    "    r1 = a[3].conjugate()\n",
    "    r2 = a[6].conjugate()\n",
    "    r3 = a[1].conjugate()\n",
    "    r4 = a[4].conjugate()\n",
    "    r5 = a[7].conjugate()\n",
    "    r6 = a[2].conjugate()\n",
    "    r7 = a[5].conjugate()\n",
    "    r8 = a[8].conjugate()\n",
    "    return r0, r1, r2, r3, r4, r5, r6, r7, r8\n",
    "\n",
    "# trace\n",
    "def tr(a):\n",
    "    return a[0] + a[4] + a[8]\n",
    "\n",
    "# trace ( a . dagger(a) )\n",
    "def sq(a): # TODO: rename to tr_sq? or tr_abs_sq?\n",
    "    \"\"\"\n",
    "    >>> a = (1,2,3,4,6,8,9,5,4)\n",
    "    >>> ta = sq(a)\n",
    "    >>> ta\n",
    "    252\n",
    "\n",
    "    >>> tma = tr(mul(a, dagger(a))).real\n",
    "    >>> tma\n",
    "    252\n",
    "\n",
    "    >>> tma == ta\n",
    "    True\n",
    "\n",
    "    :param a:\n",
    "    :return:\n",
    "    \"\"\"\n",
    "    # return tr(mul(a, dagger(a))).real\n",
    "\n",
    "    s = np.float64(0)\n",
    "    for i in range(9):\n",
    "        s += a[i].real * a[i].real + a[i].imag * a[i].imag\n",
    "    return s\n",
    "\n",
    "def check_unitary(u):  # TODO: remove debugging code\n",
    "    x = mul(u, dagger(u))\n",
    "    d = add(x, mul_s(id0, -1))\n",
    "    s = sq(d)\n",
    "    # if s > 1e-8:\n",
    "    #    print(\"Unitarity violated\")  # TODO: remove debugging code\n",
    "    return s"
   ]
  },
  {
   "cell_type": "code",
   "execution_count": 4,
   "metadata": {},
   "outputs": [],
   "source": [
    "# curraun\n",
    "# ux = complex_tuple(0.9992373 +0.00597116j, -0.00113904-0.00153799j, -0.02812345+0.02635478j, \n",
    "#     0.00200096-0.00037265j,  0.99922377+0.01439965j,  0.03599992+0.00666049j, \n",
    "#     0.02845036+0.02599231j, -0.03597915+0.00680715j,  0.99837853-0.02035784j)\n",
    "# pooja\n",
    "ux = complex_tuple(0.999773332297265+1.200901570480802E-002j, 9.337536969798815E-003+9.373516471449303E-003j,-1.157649128313104E-002+-3.300514581480528E-006j,\n",
    "    -9.049799378893927E-003+9.456078543778054E-003j, 0.999470695182973+-2.638751157253443E-002j, 1.305022491015412E-002+-4.517083466599165E-003j,\n",
    "    1.173464879673716E-002+2.220279658133394E-004j, -1.299671643839491E-002+-4.249900891929569E-003j, 0.999734175041685+1.438233914040814E-002j)"
   ]
  },
  {
   "cell_type": "code",
   "execution_count": 5,
   "metadata": {},
   "outputs": [
    {
     "data": {
      "text/plain": [
       "1.4823476966401162e-31"
      ]
     },
     "execution_count": 5,
     "metadata": {},
     "output_type": "execute_result"
    }
   ],
   "source": [
    "check_unitary(ux)"
   ]
  },
  {
   "cell_type": "code",
   "execution_count": 6,
   "metadata": {},
   "outputs": [
    {
     "name": "stdout",
     "output_type": "stream",
     "text": [
      "The determinant is (1.0000000000000002-3.470743971154097e-18j)\n"
     ]
    }
   ],
   "source": [
    "print(\"The determinant is\", det(ux))"
   ]
  },
  {
   "cell_type": "code",
   "execution_count": 7,
   "metadata": {},
   "outputs": [
    {
     "data": {
      "text/plain": [
       "array([ 1.92188480e-16+0.01200978j,  9.19523417e-03+0.0094164j ,\n",
       "       -1.16575554e-02+0.00010938j, -9.19523417e-03+0.0094164j ,\n",
       "        1.08408557e-16-0.02639329j,  1.30256890e-02-0.00438424j,\n",
       "        1.16575554e-02+0.00010938j, -1.30256890e-02-0.00438424j,\n",
       "       -4.53993708e-17+0.01438351j])"
      ]
     },
     "execution_count": 7,
     "metadata": {},
     "output_type": "execute_result"
    }
   ],
   "source": [
    "lnux_taylor = np.array(mlog(ux))\n",
    "lnux_taylor"
   ]
  },
  {
   "cell_type": "code",
   "execution_count": 14,
   "metadata": {},
   "outputs": [
    {
     "data": {
      "text/plain": [
       "array([ 0.        +0.01200902j,  0.00919367+0.0094148j ,\n",
       "       -0.01165557+0.00010936j, -0.00919367+0.0094148j ,\n",
       "        0.        -0.02638751j,  0.01302347-0.00438349j,\n",
       "        0.01165557+0.00010936j, -0.01302347-0.00438349j,\n",
       "        0.        +0.01438234j])"
      ]
     },
     "execution_count": 14,
     "metadata": {},
     "output_type": "execute_result"
    }
   ],
   "source": [
    "lnux_uudag = np.array(mul_s(add(ux, mul_s(dagger(ux), -1)), 0.5))\n",
    "lnux_uudag"
   ]
  },
  {
   "cell_type": "code",
   "execution_count": 9,
   "metadata": {},
   "outputs": [
    {
     "data": {
      "text/plain": [
       "array([-2.18141477e-16+0.01200978j,  9.19523417e-03+0.0094164j ,\n",
       "       -1.16575554e-02+0.00010938j, -9.19523417e-03+0.0094164j ,\n",
       "       -3.41740525e-16-0.02639329j,  1.30256890e-02-0.00438424j,\n",
       "        1.16575554e-02+0.00010938j, -1.30256890e-02-0.00438424j,\n",
       "       -1.73472348e-16+0.01438351j])"
      ]
     },
     "execution_count": 9,
     "metadata": {},
     "output_type": "execute_result"
    }
   ],
   "source": [
    "from scipy.linalg import logm\n",
    "lnux_scipy = np.reshape(logm(np.reshape(ux, (Nc, Nc))), Nc*Nc)\n",
    "lnux_scipy"
   ]
  },
  {
   "cell_type": "code",
   "execution_count": 10,
   "metadata": {},
   "outputs": [
    {
     "data": {
      "text/plain": [
       "array([ 4.10329958e-16-1.04083409e-17j,  2.02962647e-16+3.62557206e-16j,\n",
       "        1.26634814e-16-5.69409428e-16j,  2.22044605e-16-5.39499001e-16j,\n",
       "        4.50149081e-16+1.80411242e-16j,  1.21430643e-17+1.26634814e-16j,\n",
       "       -9.02056208e-17+5.02663232e-16j, -4.51028104e-17-3.20923843e-16j,\n",
       "        1.28072977e-16-4.85722573e-17j])"
      ]
     },
     "execution_count": 10,
     "metadata": {},
     "output_type": "execute_result"
    }
   ],
   "source": [
    "lnux_taylor - lnux_scipy"
   ]
  },
  {
   "cell_type": "code",
   "execution_count": 15,
   "metadata": {},
   "outputs": [
    {
     "data": {
      "text/plain": [
       "array([ 2.18141477e-16-7.64224652e-07j, -1.56599257e-06-1.60364535e-06j,\n",
       "        1.98535885e-06-1.86182703e-08j,  1.56599257e-06-1.60364535e-06j,\n",
       "        3.41740525e-16+5.77598560e-06j, -2.21832781e-06+7.46662893e-07j,\n",
       "       -1.98535885e-06-1.86182693e-08j,  2.21832781e-06+7.46662893e-07j,\n",
       "        1.73472348e-16-1.16848827e-06j])"
      ]
     },
     "execution_count": 15,
     "metadata": {},
     "output_type": "execute_result"
    }
   ],
   "source": [
    "lnux_uudag - lnux_scipy"
   ]
  },
  {
   "cell_type": "code",
   "execution_count": 12,
   "metadata": {},
   "outputs": [
    {
     "data": {
      "application/javascript": "new Promise(function(resolve, reject) {\n\tvar script = document.createElement(\"script\");\n\tscript.onload = resolve;\n\tscript.onerror = reject;\n\tscript.src = \"https://raw.github.com/marijnh/CodeMirror/master/mode/fortran/fortran.js\";\n\tdocument.head.appendChild(script);\n}).then(() => {\nIPython.config.cell_magic_highlight['magic_fortran'] = {'reg':[/^%%fortran/]};\n});"
     },
     "metadata": {},
     "output_type": "display_data"
    }
   ],
   "source": [
    "%load_ext fortranmagic"
   ]
  },
  {
   "cell_type": "code",
   "execution_count": 16,
   "metadata": {},
   "outputs": [],
   "source": [
    "%%fortran --extra \"-DF2PY_REPORT_ON_ARRAY_COPY=1\"\n",
    "subroutine mlog_taylor_pooja(input, output)\n",
    "   complex(8), dimension(3, 3), intent(in) :: input\n",
    "   complex(8), dimension(3, 3), intent(out) :: output\n",
    "\n",
    "   complex(8), parameter :: i = (0.0D0, 1.0D0)\t\n",
    "   complex(8), dimension(3, 3) :: II, mat_U, mat_U_I, mat_U_I_pow, log_U\n",
    "   integer :: j5\n",
    "\n",
    "   mat_U = input\n",
    "\n",
    "   II = 0.0D0\t\n",
    "   II(1,1) = (1.0D0, 0.0D0) ;\tII(2,2) = (1.0D0, 0.0D0) ;\tII(3,3) = (1.0D0, 0.0D0)\n",
    "\n",
    "   mat_U_I      =  mat_U - II\t\t\n",
    "   mat_U_I_pow  =  II\t\t\t\t\n",
    "   log_U = (0.0D0, 0.0D0)\t\n",
    "\n",
    "   DO j5 = 1, 100\n",
    "      mat_U_I_pow  =  MATMUL(mat_U_I, mat_U_I_pow)\n",
    "      log_U        =  log_U + (((-1.0D0)**(j5+1) )/DBLE(j5))*mat_U_I_pow\t\t\t\t\n",
    "   ENDDO\n",
    "\n",
    "   output = log_U\n",
    "\n",
    "end subroutine"
   ]
  },
  {
   "cell_type": "code",
   "execution_count": 18,
   "metadata": {},
   "outputs": [
    {
     "data": {
      "text/plain": [
       "array([[ 1.92188190e-16+0.01200978j,  9.19523417e-03+0.0094164j ,\n",
       "        -1.16575554e-02+0.00010938j],\n",
       "       [-9.19523417e-03+0.0094164j ,  1.08407143e-16-0.02639329j,\n",
       "         1.30256890e-02-0.00438424j],\n",
       "       [ 1.16575554e-02+0.00010938j, -1.30256890e-02-0.00438424j,\n",
       "        -4.53995715e-17+0.01438351j]])"
      ]
     },
     "execution_count": 18,
     "metadata": {},
     "output_type": "execute_result"
    }
   ],
   "source": [
    "ux_array = np.reshape(np.array(ux), (Nc, Nc))\n",
    "lnux_taylor_pooja = mlog_taylor_pooja(ux_array)\n",
    "lnux_taylor_pooja"
   ]
  },
  {
   "cell_type": "code",
   "execution_count": 19,
   "metadata": {},
   "outputs": [
    {
     "data": {
      "text/plain": [
       "array([0.+0.j, 0.+0.j, 0.+0.j, 0.+0.j, 0.+0.j, 0.+0.j, 0.+0.j, 0.+0.j,\n",
       "       0.+0.j])"
      ]
     },
     "execution_count": 19,
     "metadata": {},
     "output_type": "execute_result"
    }
   ],
   "source": [
    "lnux_taylor - lnux_taylor"
   ]
  },
  {
   "cell_type": "code",
   "execution_count": 20,
   "metadata": {},
   "outputs": [],
   "source": [
    "%%fortran --extra \"-DF2PY_REPORT_ON_ARRAY_COPY=1\"\n",
    "subroutine mlog_uudag_pooja(input, output)\n",
    "   complex(8), dimension(3, 3), intent(in) :: input\n",
    "   complex(8), dimension(3, 3), intent(out) :: output\n",
    "\n",
    "   complex(8), parameter :: i = (0.0D0, 1.0D0)\t\n",
    "   complex(8), dimension(3, 3) :: mat_U, mat_U_dag, log_U\n",
    "   integer :: j5\n",
    "\n",
    "   mat_U = input\n",
    "\n",
    "   mat_U_dag  = DCONJG(TRANSPOSE(mat_U))\t\t\t\t\n",
    "   log_U =\t(1/2.0D0)*(mat_U - mat_U_dag)\n",
    "\n",
    "   output = log_U\n",
    "\n",
    "end subroutine"
   ]
  },
  {
   "cell_type": "code",
   "execution_count": 21,
   "metadata": {},
   "outputs": [
    {
     "data": {
      "text/plain": [
       "array([[ 0.        +0.01200902j,  0.00919367+0.0094148j ,\n",
       "        -0.01165557+0.00010936j],\n",
       "       [-0.00919367+0.0094148j ,  0.        -0.02638751j,\n",
       "         0.01302347-0.00438349j],\n",
       "       [ 0.01165557+0.00010936j, -0.01302347-0.00438349j,\n",
       "         0.        +0.01438234j]])"
      ]
     },
     "execution_count": 21,
     "metadata": {},
     "output_type": "execute_result"
    }
   ],
   "source": [
    "lnux_uudag_pooja = mlog_uudag_pooja(ux_array)\n",
    "lnux_uudag_pooja"
   ]
  },
  {
   "cell_type": "code",
   "execution_count": 22,
   "metadata": {},
   "outputs": [
    {
     "data": {
      "text/plain": [
       "array([0.+0.j, 0.+0.j, 0.+0.j, 0.+0.j, 0.+0.j, 0.+0.j, 0.+0.j, 0.+0.j,\n",
       "       0.+0.j])"
      ]
     },
     "execution_count": 22,
     "metadata": {},
     "output_type": "execute_result"
    }
   ],
   "source": [
    "lnux_uudag - lnux_uudag"
   ]
  }
 ],
 "metadata": {
  "kernelspec": {
   "display_name": "Python 3",
   "language": "python",
   "name": "python3"
  },
  "language_info": {
   "codemirror_mode": {
    "name": "ipython",
    "version": 3
   },
   "file_extension": ".py",
   "mimetype": "text/x-python",
   "name": "python",
   "nbconvert_exporter": "python",
   "pygments_lexer": "ipython3",
   "version": "3.6.8"
  },
  "orig_nbformat": 4
 },
 "nbformat": 4,
 "nbformat_minor": 2
}
