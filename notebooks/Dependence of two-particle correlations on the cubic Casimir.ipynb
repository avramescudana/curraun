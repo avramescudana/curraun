{
 "cells": [
  {
   "attachments": {},
   "cell_type": "markdown",
   "metadata": {},
   "source": [
    "- - -\n",
    "Read from file containing previously generated brute force color vector with fixed $q_2$ few initial color vectors for $q_3$ values of interest. "
   ]
  },
  {
   "cell_type": "code",
   "execution_count": 1,
   "metadata": {},
   "outputs": [],
   "source": [
    "import pickle\n",
    "import numpy as np\n",
    "\n",
    "# q2 = 4.0\n",
    "q2 = 1.33\n",
    "brute_force_q = pickle.load(open('results/brute_force_q2_' + str(q2) + '.pickle', 'rb'))\n",
    "q3s, q0s = brute_force_q[\"q3s\"], brute_force_q[\"q0s\"]"
   ]
  },
  {
   "cell_type": "code",
   "execution_count": 2,
   "metadata": {},
   "outputs": [],
   "source": [
    "# test\n",
    "# q3s_sim = [0]\n",
    "if q2==4.0:\n",
    "    q3s_sim = [0, 1, 2, 3, 4]\n",
    "else:\n",
    "    q3s_sim = [0, 0.2, 0.4, 0.6, 0.8]\n",
    "\n",
    "def find_nearest(array, value):\n",
    "    array = np.asarray(array)\n",
    "    idx = (np.abs(array - value)).argmin()\n",
    "    return idx\n",
    "\n",
    "q0s_sim = np.zeros((len(q3s_sim), 8))\n",
    "for (q3index, q3value) in enumerate(q3s_sim):\n",
    "    q0s_sim[q3index] = q0s[find_nearest(q3s, q3value)]"
   ]
  },
  {
   "cell_type": "code",
   "execution_count": 3,
   "metadata": {},
   "outputs": [],
   "source": [
    "from scipy.stats import unitary_group\n",
    "\n",
    "# gell-mann matrices\n",
    "\n",
    "gm = [\n",
    "    [[0, 1, 0], [1, 0, 0], [0, 0, 0]],\n",
    "    [[0, -1j, 0], [1j, 0, 0], [0, 0, 0]],\n",
    "    [[1, 0, 0], [0, -1, 0], [0, 0, 0]],\n",
    "    [[0, 0, 1], [0, 0, 0], [1, 0, 0]],\n",
    "    [[0, 0, -1j], [0, 0, 0], [1j, 0, 0]],\n",
    "    [[0, 0, 0], [0, 0, 1], [0, 1, 0]],\n",
    "    [[0, 0, 0], [0, 0, -1j], [0, 1j, 0]],\n",
    "    [[1 / np.sqrt(3), 0, 0], [0, 1 / np.sqrt(3), 0], [0, 0, -2 / np.sqrt(3)]]\n",
    "]\n",
    "\n",
    "T = np.array(gm) / 2.0\n",
    "\n",
    "def init_charge(q0):\n",
    "    \"\"\"\n",
    "        Step 1: specific random color vector\n",
    "    \"\"\"\n",
    "    Q0 = np.einsum('ijk,i', T, q0)\n",
    "\n",
    "    \"\"\"\n",
    "        Step 2: create a random SU(3) matrix to rotate Q.\n",
    "    \"\"\"\n",
    "    \n",
    "    V = unitary_group.rvs(3)\n",
    "    detV = np.linalg.det(V)\n",
    "    U = V / detV ** (1 / 3)\n",
    "    Ud = np.conj(U).T\n",
    "\n",
    "    Q = np.einsum('ab,bc,cd', U, Q0, Ud)\n",
    "\n",
    "    \"\"\"\n",
    "        Step 3: Project onto color components\n",
    "    \"\"\"\n",
    "\n",
    "    q = 2 * np.einsum('ijk,kj', T, Q)\n",
    "    return np.real(q)"
   ]
  },
  {
   "attachments": {},
   "cell_type": "markdown",
   "metadata": {},
   "source": [
    "- - -"
   ]
  },
  {
   "cell_type": "code",
   "execution_count": 4,
   "metadata": {},
   "outputs": [],
   "source": [
    "import numpy as np\n",
    "\n",
    "# hbar * c [GeV * fm]\n",
    "hbarc = 0.197326 \n",
    "\n",
    "# Simulation box \n",
    "L = 10      \n",
    "N = 512  \n",
    "# N = 1024  \n",
    "tau_sim = 1.5\n",
    "DTS = 8     \n",
    "\n",
    "# Glasma fields\n",
    "su_group = 'su3'\n",
    "# q2 = 4\n",
    "\n",
    "Qs = 2        \n",
    "ns = 50    \n",
    "factor = 0.8        \n",
    "g2mu = Qs / factor     \n",
    "g = np.pi * np.sqrt(1 / np.log(Qs / 0.2))          \t\t\n",
    "mu = g2mu / g**2          \t\n",
    "ir = 0.1 * g**2 * mu  \n",
    " \n",
    "uv = 10.0           \n",
    "\n",
    "# Wong\n",
    "quark = 'charm'    \n",
    "mass = 1.275       \n",
    "tau_form = 1/(2*mass)*hbarc\n",
    "\n",
    "tau_sim += tau_form\n",
    "\n",
    "# tau_form = 0\n",
    "initialization = 'toy'         \n",
    "pT = 2    \n",
    "ntp = 10**5  \n",
    "nevents = 1    \n",
    "representation = 'fundamental'      \n",
    "boundary = 'periodic'       \n",
    "\n",
    "# Results folder\n",
    "folder = 'corr_' + initialization + '_pT_' + str(pT) + '_' + quark + '_q2_' + str(q2)      \n",
    "\n",
    "# Store relevant parameters in a dictionary\n",
    "p = {\n",
    "    'QUARK': quark,\n",
    "    'MASS': mass,           \n",
    "    'TFORM': tau_form,   \n",
    "    'NTP':  ntp,    \n",
    "    'PT': pT,          \n",
    "    'FOLDER': folder,         \n",
    "    }   "
   ]
  },
  {
   "cell_type": "code",
   "execution_count": 5,
   "metadata": {},
   "outputs": [
    {
     "name": "stdout",
     "output_type": "stream",
     "text": [
      "Using CUDA\n",
      "Using SU(3)\n",
      "Using double precision\n",
      "Using double precision\n"
     ]
    }
   ],
   "source": [
    "import os\n",
    "os.environ[\"MY_NUMBA_TARGET\"] = \"cuda\"\n",
    "os.environ[\"PRECISION\"] = \"double\"\n",
    "os.environ[\"GAUGE_GROUP\"] = su_group\n",
    "\n",
    "# Import relevant modules\n",
    "import sys\n",
    "sys.path.append('..')\n",
    "\n",
    "# Glasma modules\n",
    "import curraun.core as core\n",
    "import curraun.mv as mv\n",
    "import curraun.initial as initial\n",
    "initial.DEBUG = False\n",
    "\n",
    "import curraun.su as su\n",
    "from curraun.numba_target import use_cuda\n",
    "if use_cuda:\n",
    "    from numba import cuda\n",
    "\n",
    "# Wong modules\n",
    "from curraun import wong\n",
    "wong.BOUNDARY = boundary\n",
    "wong.CUB_MOM = False\n",
    "from curraun.wong import init_mom_toy, init_pos\n",
    "\n",
    "from curraun.particles_correlators import Angles"
   ]
  },
  {
   "cell_type": "code",
   "execution_count": 6,
   "metadata": {},
   "outputs": [],
   "source": [
    "import pickle\n",
    "from tqdm import tqdm\n",
    "\n",
    "# Simulation routine\n",
    "def simulate(p, ev):\n",
    "    # q2, q3, q0 = p[\"q2\"], p[\"q3\"], p[\"q0\"]\n",
    "    q0 = p[\"q0\"]\n",
    "\n",
    "    output = {}\n",
    "    output[\"parameters\"] = p.copy()\n",
    "\n",
    "    # Derived parameters\n",
    "    a = L / N\n",
    "    E0 = N / L * hbarc\n",
    "    DT = 1.0 / DTS\n",
    "    formt = int(tau_form / a * DTS)\n",
    "    maxt = int(tau_sim / a * DTS)\n",
    "\n",
    "    # Initialize Glasma fields\n",
    "    s = core.Simulation(N, DT, g)\n",
    "    va = mv.wilson(s, mu=mu / E0, m=ir / E0, uv=uv / E0, num_sheets=ns)\n",
    "    vb = mv.wilson(s, mu=mu / E0, m=ir / E0, uv=uv / E0, num_sheets=ns)\n",
    "    initial.init(s, va, vb)\n",
    "\n",
    "    # Initialize the Wong solver\n",
    "    wong_solver_q = wong.WongSolver(s, ntp)\n",
    "    wong_solver_aq = wong.WongSolver(s, ntp)\n",
    "    x0s_q, p0s_q, q0s_q = np.zeros((ntp, 3)), np.zeros((ntp, 5)), np.zeros((ntp, su.ALGEBRA_ELEMENTS))\n",
    "    x0s_aq, p0s_aq, q0s_aq = np.zeros((ntp, 3)), np.zeros((ntp, 5)), np.zeros((ntp, su.ALGEBRA_ELEMENTS))\n",
    "    masses = mass / E0 * np.ones(ntp)\n",
    "\n",
    "    for i in range(ntp):\n",
    "        if initialization=='toy':\n",
    "            p0_q = init_mom_toy('pT', pT / E0)            \n",
    "\n",
    "        p0_aq = [-p for p in p0_q]\n",
    "        p0s_q[i, :], p0s_aq[i, :] = np.array(p0_q, dtype=object), np.array(p0_aq, dtype=object)\n",
    "\n",
    "        x0_q, q0_q = init_pos(s.n), init_charge(q0)\n",
    "        x0s_q[i, :], q0s_q[i, :] = x0_q, q0_q\n",
    "        x0_aq, q0_aq = x0_q, init_charge(q0)\n",
    "        x0s_aq[i, :], q0s_aq[i, :] = x0_aq, q0_aq\n",
    "\n",
    "    wong_solver_q.initialize(x0s_q, p0s_q, q0s_q, masses)\n",
    "    wong_solver_aq.initialize(x0s_aq, p0s_aq, q0s_aq, masses)\n",
    "\n",
    "    qqbar_angle = Angles(wong_solver_q, wong_solver_aq, ntp)\n",
    "\n",
    "    deta, dphi = np.zeros((maxt-formt, ntp)), np.zeros((maxt-formt, ntp))\n",
    "    pTs = np.zeros((maxt-formt, ntp, 2))\n",
    "\n",
    "    with tqdm(total=maxt) as pbar:\n",
    "        for t in range(maxt):\n",
    "            # Evolve Glasma fields\n",
    "            core.evolve_leapfrog(s)\n",
    "\n",
    "            # Solve Wong's equations\n",
    "            if t>=formt:  \n",
    "                qqbar_angle.compute()\n",
    "                deta[t-formt] = qqbar_angle.deta.copy()\n",
    "                dphi[t-formt] = qqbar_angle.dphi.copy()\n",
    "                pTs[t-formt] = qqbar_angle.pT.copy() * E0\n",
    "                \n",
    "                wong_solver_q.evolve()\n",
    "                wong_solver_aq.evolve()\n",
    "\n",
    "            pbar.set_description(\"Event \" + str(ev+1))\n",
    "            pbar.update(1)\n",
    "\n",
    "    tau = np.linspace(0, tau_sim-p['TFORM'], maxt-formt)\n",
    "    output['tau'] = tau\n",
    "    output['deta'], output['dphi'], output['pTs'] = deta, dphi, pTs\n",
    "\n",
    "    return output"
   ]
  },
  {
   "cell_type": "code",
   "execution_count": 7,
   "metadata": {},
   "outputs": [
    {
     "name": "stdout",
     "output_type": "stream",
     "text": [
      "q3= 0\n"
     ]
    },
    {
     "name": "stderr",
     "output_type": "stream",
     "text": [
      "Event 1: 100%|██████████| 646/646 [04:21<00:00,  2.47it/s]\n"
     ]
    },
    {
     "name": "stdout",
     "output_type": "stream",
     "text": [
      "q3= 0.2\n"
     ]
    },
    {
     "name": "stderr",
     "output_type": "stream",
     "text": [
      "Event 1: 100%|██████████| 646/646 [04:41<00:00,  2.29it/s]\n"
     ]
    },
    {
     "name": "stdout",
     "output_type": "stream",
     "text": [
      "q3= 0.4\n"
     ]
    },
    {
     "name": "stderr",
     "output_type": "stream",
     "text": [
      "Event 1: 100%|██████████| 646/646 [04:48<00:00,  2.24it/s]\n"
     ]
    },
    {
     "name": "stdout",
     "output_type": "stream",
     "text": [
      "q3= 0.6\n"
     ]
    },
    {
     "name": "stderr",
     "output_type": "stream",
     "text": [
      "Event 1: 100%|██████████| 646/646 [04:51<00:00,  2.22it/s]\n"
     ]
    },
    {
     "name": "stdout",
     "output_type": "stream",
     "text": [
      "q3= 0.8\n"
     ]
    },
    {
     "name": "stderr",
     "output_type": "stream",
     "text": [
      "Event 1: 100%|██████████| 646/646 [04:50<00:00,  2.22it/s]\n"
     ]
    }
   ],
   "source": [
    "for ev in range(nevents):\n",
    "    output = {}\n",
    "    output[\"q2\"] = q2\n",
    "    output[\"q3s\"] = q3s_sim\n",
    "    for (q3index, q3value) in enumerate(q3s_sim):\n",
    "        p[\"q0\"] = q0s_sim[q3index, :]\n",
    "        print('q3=', q3value)\n",
    "    \n",
    "        output[q3value] = simulate(p, ev)\n",
    "\n",
    "\n",
    "    current_path = os.getcwd() \n",
    "    results_folder = 'results'\n",
    "    if not os.path.isdir(results_folder):\n",
    "        os.makedirs(results_folder)\n",
    "    results_path = current_path + '/' + results_folder\n",
    "    os.chdir(results_path)\n",
    "\n",
    "    wong_folder = p['FOLDER']\n",
    "    if not os.path.isdir(wong_folder):\n",
    "        os.makedirs(wong_folder)\n",
    "    wong_path = results_path + '/' + wong_folder + '/'\n",
    "    os.chdir(wong_path)\n",
    "\n",
    "    filename = 'event_' + str(ev+1) + '.pickle'\n",
    "    with open(filename, 'wb') as handle:\n",
    "        pickle.dump(output, handle)  "
   ]
  },
  {
   "attachments": {},
   "cell_type": "markdown",
   "metadata": {},
   "source": [
    "- - -\n",
    "### Dependence of correlation on initial $p_T$ or $Q_s$"
   ]
  },
  {
   "cell_type": "code",
   "execution_count": 1,
   "metadata": {},
   "outputs": [],
   "source": [
    "import pickle\n",
    "import numpy as np\n",
    "\n",
    "# ATM run with q2=4\n",
    "q2 = 4.0\n",
    "# q2 = 1.33\n",
    "brute_force_q = pickle.load(open('results/brute_force_q2_' + str(q2) + '.pickle', 'rb'))\n",
    "q3s, q0s = brute_force_q[\"q3s\"], brute_force_q[\"q0s\"]\n",
    "\n",
    "# ATM runt with null q3, perhaps it is not worth it to choose it as random or equal to C3(F)/D(F)\n",
    "# In the end, results weakly depend on the value of q3\n",
    "q3 = 0\n",
    "\n",
    "def find_nearest(array, value):\n",
    "    array = np.asarray(array)\n",
    "    idx = (np.abs(array - value)).argmin()\n",
    "    return idx\n",
    "\n",
    "q0 = q0s[find_nearest(q3s, q3)]"
   ]
  },
  {
   "cell_type": "code",
   "execution_count": 2,
   "metadata": {},
   "outputs": [],
   "source": [
    "from scipy.stats import unitary_group\n",
    "\n",
    "# gell-mann matrices\n",
    "\n",
    "gm = [\n",
    "    [[0, 1, 0], [1, 0, 0], [0, 0, 0]],\n",
    "    [[0, -1j, 0], [1j, 0, 0], [0, 0, 0]],\n",
    "    [[1, 0, 0], [0, -1, 0], [0, 0, 0]],\n",
    "    [[0, 0, 1], [0, 0, 0], [1, 0, 0]],\n",
    "    [[0, 0, -1j], [0, 0, 0], [1j, 0, 0]],\n",
    "    [[0, 0, 0], [0, 0, 1], [0, 1, 0]],\n",
    "    [[0, 0, 0], [0, 0, -1j], [0, 1j, 0]],\n",
    "    [[1 / np.sqrt(3), 0, 0], [0, 1 / np.sqrt(3), 0], [0, 0, -2 / np.sqrt(3)]]\n",
    "]\n",
    "\n",
    "T = np.array(gm) / 2.0\n",
    "\n",
    "def init_charge(q0):\n",
    "    \"\"\"\n",
    "        Step 1: specific random color vector\n",
    "    \"\"\"\n",
    "    Q0 = np.einsum('ijk,i', T, q0)\n",
    "\n",
    "    \"\"\"\n",
    "        Step 2: create a random SU(3) matrix to rotate Q.\n",
    "    \"\"\"\n",
    "    \n",
    "    V = unitary_group.rvs(3)\n",
    "    detV = np.linalg.det(V)\n",
    "    U = V / detV ** (1 / 3)\n",
    "    Ud = np.conj(U).T\n",
    "\n",
    "    Q = np.einsum('ab,bc,cd', U, Q0, Ud)\n",
    "\n",
    "    \"\"\"\n",
    "        Step 3: Project onto color components\n",
    "    \"\"\"\n",
    "\n",
    "    q = 2 * np.einsum('ijk,kj', T, Q)\n",
    "    return np.real(q)"
   ]
  },
  {
   "attachments": {},
   "cell_type": "markdown",
   "metadata": {},
   "source": [
    "- - -"
   ]
  },
  {
   "cell_type": "code",
   "execution_count": 3,
   "metadata": {},
   "outputs": [],
   "source": [
    "# dependence = 'pT'\n",
    "# pTs = [0, 1, 2, 5, 10]\n",
    "\n",
    "dependence = 'Qs'\n",
    "Qss = [1, 1.5, 2, 2.5, 3]"
   ]
  },
  {
   "cell_type": "code",
   "execution_count": 4,
   "metadata": {},
   "outputs": [],
   "source": [
    "import numpy as np\n",
    "\n",
    "# hbar * c [GeV * fm]\n",
    "hbarc = 0.197326 \n",
    "\n",
    "# Simulation box \n",
    "L = 10      \n",
    "N = 512  \n",
    "# N = 1024  \n",
    "tau_sim = 1.5\n",
    "DTS = 8\n",
    "# DTS = 16     \n",
    "\n",
    "# Glasma fields\n",
    "su_group = 'su3'\n",
    "\n",
    "Qs = 2        \n",
    "ns = 50    \n",
    "factor = 0.8        \n",
    "g2mu = Qs / factor     \n",
    "g = np.pi * np.sqrt(1 / np.log(Qs / 0.2))          \t\t\n",
    "mu = g2mu / g**2          \t\n",
    "ir = 0.1 * g**2 * mu  \n",
    " \n",
    "uv = 10.0           \n",
    "\n",
    "# Wong\n",
    "# quark = 'charm'    \n",
    "# mass = 1.275 \n",
    "quark = 'beauty'    \n",
    "mass = 4.18           \n",
    "tau_form = 1/(2*mass)*hbarc\n",
    "\n",
    "tau_sim += tau_form\n",
    "\n",
    "initialization = 'toy'         \n",
    "pT = 2    \n",
    "ntp = 10**5  \n",
    "nevents = 1    \n",
    "representation = 'fundamental'      \n",
    "boundary = 'periodic'       \n",
    "\n",
    "# Results folder\n",
    "folder = 'corr_' + initialization + '_' + dependence + '_dep_' + quark + '_q2_' + str(q2)      \n",
    "\n",
    "# Store relevant parameters in a dictionary\n",
    "p = {\n",
    "    'QS': Qs,\n",
    "    'TAU_SIM': tau_sim,\n",
    "    'QUARK': quark,\n",
    "    'MASS': mass,           \n",
    "    'TFORM': tau_form,   \n",
    "    'NTP':  ntp,    \n",
    "    'PT': pT,          \n",
    "    'FOLDER': folder, \n",
    "    'DEPENDENCE': dependence,        \n",
    "    }   "
   ]
  },
  {
   "cell_type": "code",
   "execution_count": 5,
   "metadata": {},
   "outputs": [
    {
     "name": "stdout",
     "output_type": "stream",
     "text": [
      "Using CUDA\n",
      "Using SU(3)\n",
      "Using double precision\n",
      "Using double precision\n"
     ]
    }
   ],
   "source": [
    "import os\n",
    "os.environ[\"MY_NUMBA_TARGET\"] = \"cuda\"\n",
    "os.environ[\"PRECISION\"] = \"double\"\n",
    "os.environ[\"GAUGE_GROUP\"] = su_group\n",
    "\n",
    "# Import relevant modules\n",
    "import sys\n",
    "sys.path.append('..')\n",
    "\n",
    "# Glasma modules\n",
    "import curraun.core as core\n",
    "import curraun.mv as mv\n",
    "import curraun.initial as initial\n",
    "initial.DEBUG = False\n",
    "\n",
    "import curraun.su as su\n",
    "from curraun.numba_target import use_cuda\n",
    "if use_cuda:\n",
    "    from numba import cuda\n",
    "\n",
    "# Wong modules\n",
    "from curraun import wong\n",
    "wong.BOUNDARY = boundary\n",
    "wong.CUB_MOM = False\n",
    "from curraun.wong import init_mom_toy, init_pos\n",
    "\n",
    "from curraun.particles_correlators import Angles"
   ]
  },
  {
   "cell_type": "code",
   "execution_count": 6,
   "metadata": {},
   "outputs": [],
   "source": [
    "import pickle\n",
    "from tqdm import tqdm\n",
    "\n",
    "# Simulation routine\n",
    "def simulate(p, ev):\n",
    "    if p[\"DEPENDENCE\"]=='pT':\n",
    "        pT = p['PT']\n",
    "    if p[\"DEPENDENCE\"]=='Qs':\n",
    "        pT = p['PT']\n",
    "        Qs = p['QS']\n",
    "        tau_sim = p['TAU_SIM']*3/Qs\n",
    "        g2mu = Qs / 0.8     \n",
    "        g = np.pi * np.sqrt(1 / np.log(Qs / 0.2))          \t\t\n",
    "        mu = g2mu / g**2          \t\n",
    "        ir = 0.1 * g2mu \n",
    "\n",
    "    output = {}\n",
    "    output[\"parameters\"] = p.copy()\n",
    "\n",
    "    # Derived parameters\n",
    "    a = L / N\n",
    "    E0 = N / L * hbarc\n",
    "    DT = 1.0 / DTS\n",
    "    formt = int(tau_form / a * DTS)\n",
    "    maxt = int(tau_sim / a * DTS)\n",
    "\n",
    "    # Initialize Glasma fields\n",
    "    s = core.Simulation(N, DT, g)\n",
    "    va = mv.wilson(s, mu=mu / E0, m=ir / E0, uv=uv / E0, num_sheets=ns)\n",
    "    vb = mv.wilson(s, mu=mu / E0, m=ir / E0, uv=uv / E0, num_sheets=ns)\n",
    "    initial.init(s, va, vb)\n",
    "\n",
    "    # Initialize the Wong solver\n",
    "    wong_solver_q = wong.WongSolver(s, ntp)\n",
    "    wong_solver_aq = wong.WongSolver(s, ntp)\n",
    "    x0s_q, p0s_q, q0s_q = np.zeros((ntp, 3)), np.zeros((ntp, 5)), np.zeros((ntp, su.ALGEBRA_ELEMENTS))\n",
    "    x0s_aq, p0s_aq, q0s_aq = np.zeros((ntp, 3)), np.zeros((ntp, 5)), np.zeros((ntp, su.ALGEBRA_ELEMENTS))\n",
    "    masses = mass / E0 * np.ones(ntp)\n",
    "\n",
    "    for i in range(ntp):\n",
    "        if initialization=='toy':\n",
    "            p0_q = init_mom_toy('pT', pT / E0)            \n",
    "\n",
    "        p0_aq = [-p for p in p0_q]\n",
    "        p0s_q[i, :], p0s_aq[i, :] = np.array(p0_q, dtype=object), np.array(p0_aq, dtype=object)\n",
    "\n",
    "        x0_q, q0_q = init_pos(s.n), init_charge(q0)\n",
    "        x0s_q[i, :], q0s_q[i, :] = x0_q, q0_q\n",
    "        x0_aq, q0_aq = x0_q, init_charge(q0)\n",
    "        x0s_aq[i, :], q0s_aq[i, :] = x0_aq, q0_aq\n",
    "\n",
    "    wong_solver_q.initialize(x0s_q, p0s_q, q0s_q, masses)\n",
    "    wong_solver_aq.initialize(x0s_aq, p0s_aq, q0s_aq, masses)\n",
    "\n",
    "    qqbar_angle = Angles(wong_solver_q, wong_solver_aq, ntp)\n",
    "\n",
    "    deta, dphi = np.zeros((maxt-formt, ntp)), np.zeros((maxt-formt, ntp))\n",
    "    pTs = np.zeros((maxt-formt, ntp, 2))\n",
    "\n",
    "    with tqdm(total=maxt) as pbar:\n",
    "        for t in range(maxt):\n",
    "            # Evolve Glasma fields\n",
    "            core.evolve_leapfrog(s)\n",
    "\n",
    "            # Solve Wong's equations\n",
    "            if t>=formt:  \n",
    "                qqbar_angle.compute()\n",
    "                deta[t-formt] = qqbar_angle.deta.copy()\n",
    "                dphi[t-formt] = qqbar_angle.dphi.copy()\n",
    "                pTs[t-formt] = qqbar_angle.pT.copy() * E0\n",
    "                \n",
    "                wong_solver_q.evolve()\n",
    "                wong_solver_aq.evolve()\n",
    "\n",
    "            pbar.set_description(\"Event \" + str(ev+1))\n",
    "            pbar.update(1)\n",
    "\n",
    "    tau = np.linspace(0, tau_sim-p['TFORM'], maxt-formt)\n",
    "    output['tau'] = tau\n",
    "    output['deta'], output['dphi'], output['pTs'] = deta, dphi, pTs\n",
    "\n",
    "    return output"
   ]
  },
  {
   "cell_type": "code",
   "execution_count": 7,
   "metadata": {},
   "outputs": [
    {
     "name": "stdout",
     "output_type": "stream",
     "text": [
      "Qs= 1\n"
     ]
    },
    {
     "name": "stderr",
     "output_type": "stream",
     "text": [
      "Event 1: 100%|██████████| 1872/1872 [16:28<00:00,  1.89it/s]\n"
     ]
    },
    {
     "name": "stdout",
     "output_type": "stream",
     "text": [
      "Qs= 1.5\n"
     ]
    },
    {
     "name": "stderr",
     "output_type": "stream",
     "text": [
      "Event 1: 100%|██████████| 1248/1248 [09:42<00:00,  2.14it/s]\n"
     ]
    },
    {
     "name": "stdout",
     "output_type": "stream",
     "text": [
      "Qs= 2\n"
     ]
    },
    {
     "name": "stderr",
     "output_type": "stream",
     "text": [
      "Event 1: 100%|██████████| 936/936 [07:11<00:00,  2.17it/s]\n"
     ]
    },
    {
     "name": "stdout",
     "output_type": "stream",
     "text": [
      "Qs= 2.5\n"
     ]
    },
    {
     "name": "stderr",
     "output_type": "stream",
     "text": [
      "Event 1: 100%|██████████| 748/748 [05:52<00:00,  2.12it/s]\n"
     ]
    },
    {
     "name": "stdout",
     "output_type": "stream",
     "text": [
      "Qs= 3\n"
     ]
    },
    {
     "name": "stderr",
     "output_type": "stream",
     "text": [
      "Event 1: 100%|██████████| 624/624 [04:45<00:00,  2.18it/s]\n"
     ]
    }
   ],
   "source": [
    "for ev in range(nevents):\n",
    "    output = {}\n",
    "    output[\"q2\"], output[\"q3\"] = q2, q3\n",
    "\n",
    "    if dependence=='pT':\n",
    "        output[\"pTs\"] = pTs\n",
    "        for (pTindex, pTvalue) in enumerate(pTs):\n",
    "            p[\"PT\"] = pTs[pTindex]\n",
    "            print('pT=', pTvalue)\n",
    "        \n",
    "            output[pTvalue] = simulate(p, ev)\n",
    "\n",
    "    if dependence=='Qs':\n",
    "        output[\"Qss\"] = Qss\n",
    "        for (Qsindex, Qsvalue) in enumerate(Qss):\n",
    "            p[\"QS\"] = Qss[Qsindex]\n",
    "            print('Qs=', Qsvalue)\n",
    "        \n",
    "            output[Qsvalue] = simulate(p, ev)\n",
    "\n",
    "    current_path = os.getcwd() \n",
    "    results_folder = 'results'\n",
    "    if not os.path.isdir(results_folder):\n",
    "        os.makedirs(results_folder)\n",
    "    results_path = current_path + '/' + results_folder\n",
    "    os.chdir(results_path)\n",
    "\n",
    "    wong_folder = p['FOLDER']\n",
    "    if not os.path.isdir(wong_folder):\n",
    "        os.makedirs(wong_folder)\n",
    "    wong_path = results_path + '/' + wong_folder + '/'\n",
    "    os.chdir(wong_path)\n",
    "\n",
    "    filename = 'event_' + str(ev+1) + '.pickle'\n",
    "    with open(filename, 'wb') as handle:\n",
    "        pickle.dump(output, handle)  "
   ]
  }
 ],
 "metadata": {
  "kernelspec": {
   "display_name": "Python 3",
   "language": "python",
   "name": "python3"
  },
  "language_info": {
   "codemirror_mode": {
    "name": "ipython",
    "version": 3
   },
   "file_extension": ".py",
   "mimetype": "text/x-python",
   "name": "python",
   "nbconvert_exporter": "python",
   "pygments_lexer": "ipython3",
   "version": "3.6.8"
  },
  "orig_nbformat": 4
 },
 "nbformat": 4,
 "nbformat_minor": 2
}
