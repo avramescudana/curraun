{
 "cells": [
  {
   "cell_type": "markdown",
   "id": "3c15033e",
   "metadata": {},
   "source": [
    "# A notebook to compute the quantum Lorentz force operator"
   ]
  },
  {
   "cell_type": "markdown",
   "id": "8950ac37",
   "metadata": {},
   "source": [
    "### Simulation parameters and environment variables"
   ]
  },
  {
   "cell_type": "code",
   "execution_count": 7,
   "id": "834cbdb7",
   "metadata": {},
   "outputs": [],
   "source": [
    "import numpy as np\n",
    "\n",
    "# hbar * c [GeV * fm]\n",
    "hbarc = 0.197326 \n",
    "\n",
    "# Simulation box \n",
    "L = 1         \n",
    "N = 128 \n",
    "tau_sim = 0.25    \n",
    "DTS = 8\n",
    "\n",
    "# Derived parameters\n",
    "a = L/N\n",
    "E0 = N / L * hbarc\n",
    "DT = 1.0 / DTS\n",
    "maxt = int(tau_sim / a * DTS)\n",
    "nplus = maxt//DTS\n",
    "\n",
    "# Glasma fields\n",
    "su_group = 'su3'\n",
    "uv = 10.0\n",
    "ir = 0.2\n",
    "g2mu = 1.5\n",
    "\n",
    "\n",
    "g = 2         \t\t\n",
    "mu = g2mu / g**2\n",
    "\n",
    "ns = 50      \n",
    "\n",
    "\n",
    "nevents = 1"
   ]
  },
  {
   "cell_type": "code",
   "execution_count": 8,
   "id": "d8e2a8cb",
   "metadata": {},
   "outputs": [
    {
     "name": "stdout",
     "output_type": "stream",
     "text": [
      "Using Numba\n",
      "Using SU(3)\n",
      "Using double precision\n"
     ]
    },
    {
     "name": "stderr",
     "output_type": "stream",
     "text": [
      "/home2/carlos.lamas/condacurraun/lib/python3.10/site-packages/scipy/__init__.py:132: UserWarning: A NumPy version >=1.21.6 and <1.28.0 is required for this version of SciPy (detected version 1.21.5)\n",
      "  warnings.warn(f\"A NumPy version >={np_minversion} and <{np_maxversion}\"\n"
     ]
    }
   ],
   "source": [
    "\n",
    "import os\n",
    "\n",
    "# Comment this, I need it for JYU GPUs to choose a specific GPU to run on\n",
    "# os.environ[\"CUDA_VISIBLE_DEVICES\"]=\"4\"\n",
    "\n",
    "os.environ[\"MY_NUMBA_TARGET\"] = \"numba\"\n",
    "os.environ[\"PRECISION\"] = \"double\"\n",
    "os.environ[\"GAUGE_GROUP\"] = su_group\n",
    "\n",
    "# Import relevant modules\n",
    "import sys\n",
    "sys.path.append('..')\n",
    "\n",
    "# Glasma modules\n",
    "import curraun.core as core\n",
    "import curraun.mv as mv\n",
    "import curraun.initial as initial\n",
    "initial.DEBUG = False\n",
    "\n",
    "import curraun.su as su\n",
    "from curraun.numba_target import use_cuda\n",
    "if use_cuda:\n",
    "    from numba import cuda\n",
    "\n",
    "# Qhat module\n",
    "import curraun.qhat as qhat\n",
    "\n",
    "import pickle\n",
    "from tqdm import tqdm"
   ]
  },
  {
   "cell_type": "markdown",
   "id": "8dc43b65",
   "metadata": {},
   "source": [
    "### Define the simulation routine"
   ]
  },
  {
   "cell_type": "code",
   "execution_count": 3,
   "id": "e50d9ebb",
   "metadata": {},
   "outputs": [],
   "source": [
    "def simulate_Lorentz(ev): \n",
    "    \n",
    "    # Create a dictionary to store the results\n",
    "    output = {}\n",
    "    \n",
    "    # Derived parameters\n",
    "    a = L / N\n",
    "    E0 = N / L * hbarc\n",
    "    DT = 1.0 / DTS\n",
    "    maxt = int(tau_sim / a * DTS)\n",
    "    nplus = maxt//DTS\n",
    "\n",
    "    # Initialize Glasma fields\n",
    "    s = core.Simulation(N, DT, g)\n",
    "    va = mv.wilson(s, mu=mu / E0, m=ir / E0, uv=uv / E0, num_sheets=ns)\n",
    "    vb = mv.wilson(s, mu=mu / E0, m=ir / E0, uv=uv / E0, num_sheets=ns)\n",
    "    initial.init(s, va, vb)\n",
    "\n",
    "    # Initialize the Qhat module\n",
    "    qhat_tforce = qhat.TransportedForce(s, E0)\n",
    "    \n",
    "    # Create the objects to store the results\n",
    "    up = np.zeros((nplus, N*N, su.GROUP_ELEMENTS), dtype=su.GROUP_TYPE)\n",
    "    \n",
    "    fy = np.zeros((nplus, N*N, su.GROUP_ELEMENTS), dtype=su.GROUP_TYPE)\n",
    "    fz = np.zeros((nplus, N*N, su.GROUP_ELEMENTS), dtype=su.GROUP_TYPE)\n",
    "    \n",
    "    fy2 = np.zeros((nplus, N*N, su.GROUP_ELEMENTS), dtype=su.GROUP_TYPE)\n",
    "    fz2 = np.zeros((nplus, N*N, su.GROUP_ELEMENTS), dtype=su.GROUP_TYPE)\n",
    "\n",
    "    if use_cuda:\n",
    "        qhat_tforce.copy_to_device()\n",
    "\n",
    "    with tqdm(total=maxt) as pbar:\n",
    "        for t in range(maxt):\n",
    "            # Compute momentum broadening from Qhat module\n",
    "            if t % DTS == 0:\n",
    "                \n",
    "                # Compute the integrated Lorentz force\n",
    "                qhat_tforce.compute()\n",
    "                \n",
    "                # Copy results to the CPU\n",
    "                if use_cuda:\n",
    "                    qhat_tforce.copy_to_host()\n",
    "                \n",
    "                fi = qhat_tforce.fi.copy()\n",
    "                fi2 = qhat_tforce.fi2.copy()\n",
    "                up_sim = qhat_tforce.up.copy()\n",
    "                \n",
    "                # Copy the desired components of the integrated Lorentz force\n",
    "                for yz in range(N*N):\n",
    "                    up[t//DTS, yz] = up_sim[0, :]\n",
    "                    \n",
    "                    fy[t//DTS, yz] = fi[0, 1, :]\n",
    "                    fz[t//DTS, yz] = fi[0, 2, :]\n",
    "                    \n",
    "                    fy2[t//DTS, yz] = fi2[0, 1, :]\n",
    "                    fz2[t//DTS, yz] = fi2[0, 2, :]\n",
    "\n",
    "            # Evolve Glasma fields\n",
    "            core.evolve_leapfrog(s)\n",
    "\n",
    "            pbar.set_description(\"Event \" + str(ev+1))\n",
    "            pbar.update(1)\n",
    "            \n",
    "    if use_cuda:\n",
    "        cuda.current_context().deallocations.clear()\n",
    "        \n",
    "    # Store the results\n",
    "    output['up'] = up\n",
    "    \n",
    "    output['fy'] = fy\n",
    "    output['fz'] = fz\n",
    "    \n",
    "    output['fy2'] = fy2\n",
    "    output['fz2'] = fz2\n",
    "\n",
    "    return output"
   ]
  },
  {
   "cell_type": "markdown",
   "id": "b9e201aa",
   "metadata": {},
   "source": [
    "### Run the simulation"
   ]
  },
  {
   "cell_type": "code",
   "execution_count": 4,
   "id": "bd7e0c8a",
   "metadata": {},
   "outputs": [
    {
     "name": "stderr",
     "output_type": "stream",
     "text": [
      "OMP: Info #276: omp_set_nested routine deprecated, please use omp_set_max_active_levels instead.\n",
      "Event 1: 100%|██████████| 256/256 [00:10<00:00, 25.16it/s]\n"
     ]
    }
   ],
   "source": [
    "import warnings\n",
    "warnings.filterwarnings('ignore')\n",
    "\n",
    "for ev in range(nevents):\n",
    "    output = simulate_Lorentz(ev)\n",
    "    \n",
    "    # # Save the files\n",
    "    # save_dir = os.path.join('..', 'simulations', 'LorentzSquared')\n",
    "    # os.makedirs(save_dir, exist_ok=True)\n",
    "\n",
    "    # np.save(os.path.join(save_dir, 'up_%i.npy' % ev), output['up'])\n",
    "    \n",
    "    # # np.save(os.path.join(save_dir, 'Ay_%i.npy' % ev), output['fy'])\n",
    "    # # np.save(os.path.join(save_dir, 'Az_%i.npy' % ev), output['fz'])\n",
    "    \n",
    "    # np.save(os.path.join(save_dir, 'Ay2_%i.npy' % ev), output['fy2'])\n",
    "    # np.save(os.path.join(save_dir, 'Az2_%i.npy' % ev), output['fz2'])\n",
    "\n"
   ]
  },
  {
   "cell_type": "markdown",
   "id": "c494641f",
   "metadata": {},
   "source": [
    "### Debug"
   ]
  },
  {
   "cell_type": "code",
   "execution_count": 5,
   "id": "41fbc326",
   "metadata": {},
   "outputs": [],
   "source": [
    "up = output['up'][:, 0, :]\n",
    "\n",
    "fy = output['fy'][:, 0, :]\n",
    "fz = output['fz'][:, 0, :]\n",
    "\n",
    "fy2 = output['fy2'][:, 0, :]\n",
    "fz2 = output['fz2'][:, 0, :]"
   ]
  },
  {
   "cell_type": "code",
   "execution_count": 6,
   "id": "96870b11",
   "metadata": {},
   "outputs": [
    {
     "name": "stdout",
     "output_type": "stream",
     "text": [
      "[1.+0.j 0.+0.j 0.+0.j 0.+0.j 1.+0.j 0.+0.j 0.+0.j 0.+0.j 1.+0.j]\n",
      "[ 0.        -0.00636639j -0.00247679+0.00013119j -0.002561  +0.00519651j\n",
      "  0.00247679+0.00013119j  0.        +0.00747493j -0.00149944+0.00793189j\n",
      "  0.002561  +0.00519651j  0.00149944+0.00793189j  0.        -0.00110854j]\n",
      "[ 0.        +0.00805992j -0.00430314+0.00366315j -0.00290559-0.00255611j\n",
      "  0.00430314+0.00366315j  0.        -0.01786005j -0.00879988-0.00326505j\n",
      "  0.00290559-0.00255611j  0.00879988-0.00326505j  0.        +0.00980012j]\n",
      "[ 0.05119258-0.00000000e+00j  0.02883778+9.73987553e-03j\n",
      " -0.02648574+4.45949914e-04j  0.02883778-9.73987553e-03j\n",
      "  0.08114091-0.00000000e+00j  0.03669651-1.90664986e-03j\n",
      " -0.02648574-4.45949914e-04j  0.03669651+1.90664986e-03j\n",
      "  0.06376624-4.62419146e-20j]\n",
      "[ 0.07137049-5.40367060e-19j -0.00126613-1.86057265e-02j\n",
      " -0.06091165+4.47072298e-02j -0.00126613+1.86057265e-02j\n",
      "  0.28007117-0.00000000e+00j  0.01879142-3.14405130e-02j\n",
      " -0.06091165-4.47072298e-02j  0.01879142+3.14405130e-02j\n",
      "  0.1270273 +7.59955010e-19j]\n"
     ]
    }
   ],
   "source": [
    "print(up[10])\n",
    "\n",
    "print(fy[10])\n",
    "print(fz[10])\n",
    "\n",
    "print(fy2[10])\n",
    "print(fz2[10])"
   ]
  },
  {
   "cell_type": "code",
   "execution_count": 17,
   "id": "03b331ae",
   "metadata": {},
   "outputs": [],
   "source": [
    "fy2_test = su.GROUP_TYPE([su.mul(fy[t], fy[t]) for t in range(len(fy))])\n",
    "fz2_test = su.GROUP_TYPE([su.mul(fz[t], fz[t]) for t in range(len(fz))])"
   ]
  },
  {
   "cell_type": "code",
   "execution_count": 18,
   "id": "0984aa7c",
   "metadata": {},
   "outputs": [],
   "source": [
    "fy2_tr = [su.tr(fy2[t]) for t in range(len(fy2))]\n",
    "fz2_tr = [su.tr(fz2[t]) for t in range(len(fz2))]\n",
    "\n",
    "fy2_tr_test = [-E0**2 * su.tr(fy2_test[t]) for t in range(len(fy2_test))]\n",
    "fz2_tr_test = [-E0**2 * su.tr(fz2_test[t]) for t in range(len(fz2_test))]"
   ]
  },
  {
   "cell_type": "code",
   "execution_count": null,
   "id": "34578016",
   "metadata": {},
   "outputs": [
    {
     "data": {
      "text/plain": [
       "<matplotlib.legend.Legend at 0x7fd28823a620>"
      ]
     },
     "execution_count": 19,
     "metadata": {},
     "output_type": "execute_result"
    },
    {
     "data": {
      "image/png": "[encoded data removed]",
      "text/plain": [
       "<Figure size 640x480 with 1 Axes>"
      ]
     },
     "metadata": {},
     "output_type": "display_data"
    }
   ],
   "source": [
    "import matplotlib.pyplot as plt\n",
    "\n",
    "xp = np.linspace(0, tau_sim, nplus)\n",
    "\n",
    "plt.plot(xp, fy2_tr)\n",
    "plt.plot(xp, fz2_tr)\n",
    "plt.plot(xp, fy2_tr_test)\n",
    "plt.plot(xp, fz2_tr_test)\n",
    "\n",
    "plt.legend(['fy2_tr', 'fz2_tr', 'fy2_tr_test', 'fz2_tr_test'])"
   ]
  },
  {
   "cell_type": "markdown",
   "id": "6a7cfb57",
   "metadata": {},
   "source": [
    "### Another debug"
   ]
  },
  {
   "cell_type": "code",
   "execution_count": 1,
   "id": "18ce3f9b",
   "metadata": {},
   "outputs": [
    {
     "name": "stdout",
     "output_type": "stream",
     "text": [
      "(100, 32, 16384, 9)\n",
      "(100, 32, 16384, 9)\n"
     ]
    }
   ],
   "source": [
    "import numpy as np\n",
    "\n",
    "nevents = 100\n",
    "\n",
    "data_Ay = np.array([np.load(f\"../simulations/LorentzSquared/Ay2_{i}.npy\") for i in range(nevents)])\n",
    "data_Az = np.array([np.load(f\"../simulations/LorentzSquared/Az2_{i}.npy\") for i in range(nevents)])\n",
    "\n",
    "print(np.shape(data_Ay))\n",
    "print(np.shape(data_Az))"
   ]
  },
  {
   "cell_type": "code",
   "execution_count": 2,
   "id": "ce873d73",
   "metadata": {},
   "outputs": [],
   "source": [
    "# Get the central value\n",
    "\n",
    "data_usefull_Ay = data_Ay[:, :, 0, :]\n",
    "data_usefull_Az = data_Az[:, :, 0, :]\n"
   ]
  },
  {
   "cell_type": "code",
   "execution_count": 3,
   "id": "3fed073d",
   "metadata": {},
   "outputs": [],
   "source": [
    "# Average over configurations\n",
    "\n",
    "Ay2_av = np.average(data_usefull_Ay, axis=0)\n",
    "Az2_av = np.average(data_usefull_Az, axis=0)\n"
   ]
  },
  {
   "cell_type": "code",
   "execution_count": 14,
   "id": "db286153",
   "metadata": {},
   "outputs": [],
   "source": [
    "# Take the trace\n",
    "\n",
    "xplus = np.linspace(0, tau_sim, nplus)\n",
    "\n",
    "py2 = [su.tr(Ay2_av[t]) for t in range(len(Ay2_av))]\n",
    "pz2 = [su.tr(Az2_av[t]) for t in range(len(Az2_av))]"
   ]
  },
  {
   "cell_type": "code",
   "execution_count": 18,
   "id": "6468abc2",
   "metadata": {},
   "outputs": [],
   "source": [
    "# Import the classical results\n",
    "\n",
    "xp = np.loadtxt('/home2/carlos.lamas/curraun/Jets in Glasma Results/ClassicalResults/classical_pi.txt')[0]\n",
    "\n",
    "piy = np.loadtxt('/home2/carlos.lamas/curraun/Jets in Glasma Results/ClassicalResults/classical_pi.txt')[1]\n",
    "piz = np.loadtxt('/home2/carlos.lamas/curraun/Jets in Glasma Results/ClassicalResults/classical_pi.txt')[2]"
   ]
  },
  {
   "cell_type": "code",
   "execution_count": 22,
   "id": "fd1a26a8",
   "metadata": {},
   "outputs": [
    {
     "data": {
      "image/png": "[encoded data removed]",
      "text/plain": [
       "<Figure size 640x480 with 1 Axes>"
      ]
     },
     "metadata": {},
     "output_type": "display_data"
    }
   ],
   "source": [
    "# Plot the results\n",
    "\n",
    "import matplotlib.pyplot as plt\n",
    "\n",
    "plt.plot(xplus, py2, 'b^', label=r'$Tr(f_y^2)$')\n",
    "plt.plot(xplus, pz2, 'r^', label=r'$Tr(f_z^2)$')\n",
    "\n",
    "plt.plot(xp, piy, 'b-', label=r'$p_{kin, y}^2$ (classical)')\n",
    "plt.plot(xp, piz, 'r-', label=r'$p_{kin, z}^2$ (classical)')\n",
    "\n",
    "plt.legend()\n",
    "\n",
    "plt.savefig('DebugLorentz.png', dpi=300)"
   ]
  },
  {
   "cell_type": "code",
   "execution_count": null,
   "id": "d0f9648b",
   "metadata": {},
   "outputs": [],
   "source": []
  }
 ],
 "metadata": {
  "kernelspec": {
   "display_name": "condacurraun",
   "language": "python",
   "name": "python3"
  },
  "language_info": {
   "codemirror_mode": {
    "name": "ipython",
    "version": 3
   },
   "file_extension": ".py",
   "mimetype": "text/x-python",
   "name": "python",
   "nbconvert_exporter": "python",
   "pygments_lexer": "ipython3",
   "version": "3.10.4"
  }
 },
 "nbformat": 4,
 "nbformat_minor": 5
}
