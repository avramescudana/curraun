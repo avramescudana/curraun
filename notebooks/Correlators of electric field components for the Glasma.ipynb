{
    "cells": [
        {
            "cell_type": "markdown",
            "source": [
                "# **Correlators of various components of the color electric fields in the Glasma**"
            ],
            "metadata": {}
        },
        {
            "cell_type": "markdown",
            "source": [
                "Electric fields correlators of the Glasma $\\langle E(\\tau_\\mathrm{form})E(\\tau)\\rangle$, as a function of proper time $\\tau$, evaluated starting from a formation time $\\tau_{\\mathrm{form}}$, averaged over the transverse simulation plane where the fields reside. In this example, the choice for the saturation scale $Q_s$ is suitable for a $\\mathrm{Pb}\\text{-}\\mathrm{Pb}$ collision at LHC energy $\\sqrt{s}=5.02\\,\\mathrm{TeV}$."
            ],
            "metadata": {}
        },
        {
            "cell_type": "markdown",
            "source": [
                "Import all the necessary modules and packages."
            ],
            "metadata": {}
        },
        {
            "cell_type": "code",
            "execution_count": 1,
            "source": [
                "# Set environment variables \n",
                "import os\n",
                "os.environ[\"MY_NUMBA_TARGET\"] = \"cuda\"\n",
                "os.environ[\"GAUGE_GROUP\"] = \"su2\"\n",
                "os.environ[\"PRECISION\"] = \"double\"\n",
                "\n",
                "# Import curraun and other packages\n",
                "import sys\n",
                "sys.path.append('..')\n",
                "\n",
                "import curraun.core as core\n",
                "import curraun.mv as mv\n",
                "import curraun.initial as initial\n",
                "initial.DEBUG = False\n",
                "from curraun.electric_fields import ElectricFields\n",
                "from curraun.electric_fields_correlators import ElectricFieldsCorrelators\n",
                "\n",
                "from curraun.numba_target import use_cuda, use_numba\n",
                "if use_cuda:\n",
                "    from numba import cuda\n",
                "\n",
                "import numpy as np\n",
                "from tqdm.notebook import tqdm"
            ],
            "outputs": [
                {
                    "output_type": "stream",
                    "name": "stdout",
                    "text": [
                        "Using CUDA\n",
                        "Using SU(2)\n",
                        "Using double precision\n",
                        "Using double precision\n",
                        "Using double precision\n"
                    ]
                }
            ],
            "metadata": {}
        },
        {
            "cell_type": "markdown",
            "source": [
                "Simulation routine for a single event, where all the parameters are stored in a dictionary."
            ],
            "metadata": {}
        },
        {
            "cell_type": "code",
            "execution_count": 3,
            "source": [
                "# Define hbar*c [GeV*fm]\n",
                "hbarc = 0.197326 \n",
                "\n",
                "def simulate(p):    \n",
                "    # Derived parameters\n",
                "    a = p['L'] / p['N']\n",
                "    E0 = p['N'] / p['L'] * hbarc\n",
                "    p['E0'] = E0\n",
                "    DT = 1.0 / p['DTS']\n",
                "    maxt = int(p['TMAX'] / a) * p['DTS']\n",
                "    formt = int(p['TFORM'] / a) * p['DTS']\n",
                "\n",
                "    s = core.Simulation(p['N'], DT, p['G'])\n",
                "    va = mv.wilson(s, mu=p['MU'] / E0, m=p['M'] / E0, uv=p['UV'] / E0, num_sheets=p['NS'])\n",
                "    vb = mv.wilson(s, mu=p['MU'] / E0, m=p['M'] / E0, uv=p['UV'] / E0, num_sheets=p['NS'])\n",
                "    initial.init(s, va, vb)\n",
                "\n",
                "    elfields = ElectricFields(s)\n",
                "    elfieldscorr = ElectricFieldsCorrelators(s)\n",
                "\n",
                "    if use_cuda:\n",
                "        s.copy_to_device()\n",
                "\n",
                "    tau = []\n",
                "    EformE_tau = []\n",
                "\n",
                "    for t in range(maxt):\n",
                "        core.evolve_leapfrog(s)\n",
                "\n",
                "        if t==formt:  \n",
                "            elfields = elfields.compute()\n",
                "            Exform, Eyform, Ezform = elfields[:, 0], elfields[:, 1], elfields[:, 2]\n",
                "\n",
                "        elif t>=formt:\n",
                "            EformE = np.zeros((3,3))\n",
                "            EformE[0,0], EformE[1,1], EformE[2,2] = elfieldscorr.compute(Exform, Eyform, Ezform)\n",
                "            EformE[1,0], EformE[2,1], EformE[0,2] = elfieldscorr.compute(Eyform, Ezform, Exform)\n",
                "            EformE[2,0], EformE[0,1], EformE[1,2] = elfieldscorr.compute(Ezform, Exform, Eyform)\n",
                "            # Fields correlator units [GeV / fm^3]\n",
                "            units = E0 ** 4 / hbarc ** 3\n",
                "            EformE *= units\n",
                "\n",
                "            current_tau = t / p['DTS'] * a\n",
                "            tau.append(current_tau)\n",
                "\n",
                "            EformE_tau.append(EformE)\n",
                "\n",
                "    if use_cuda:\n",
                "        s.copy_to_host()\n",
                "        \n",
                "    return p, s, tau, EformE_tau"
            ],
            "outputs": [],
            "metadata": {}
        },
        {
            "cell_type": "markdown",
            "source": [
                "Parameters used in the simulation."
            ],
            "metadata": {}
        },
        {
            "cell_type": "code",
            "execution_count": 4,
            "source": [
                "# Number of color sheets\n",
                "ns = 50\n",
                "# Ratio Qs/g^2\\mu\n",
                "factor = 0.8\n",
                "# Mass number for Pb\n",
                "A = 207\n",
                "# Center-of-mass energy for Pb-Pb at 5.02 TeV [GeV]\n",
                "sqrts = 5020\n",
                "# Saturation scale [GeV]\n",
                "Qs = np.sqrt(0.13 * A**(1/3) * sqrts**0.25)\t\t\n",
                "# Running coupling constant\n",
                "g = np.pi * np.sqrt(1 / np.log(Qs / 0.2))\t\t\n",
                "# MV model parameter [GeV]\n",
                "mu = Qs / (g**2 * factor)\t\n",
                "# Infrared regulator [GeV]\n",
                "m = 0.1 * g**2 * mu   \n",
                "\n",
                "# Formation times [GeV/fm]\n",
                "taus_form = [0.06]\n",
                "# Simulation time [GeV/fm]\n",
                "tau_s = 0.3\n",
                "\n",
                "# Length of simulation box [fm]\n",
                "L = 15\n",
                "# Number of discretization points\n",
                "N = 1024\n",
                "# Numerical time interval\n",
                "DTS = 16\n",
                "# Number of events\n",
                "n_events = 2"
            ],
            "outputs": [],
            "metadata": {}
        },
        {
            "cell_type": "markdown",
            "source": [
                "Running the simulation for multiple events and various values of formation times."
            ],
            "metadata": {}
        },
        {
            "cell_type": "code",
            "execution_count": 5,
            "source": [
                "for tau_form in taus_form:\n",
                "    print(\"Formation time = {:1.2f} [GeV/fm]\".format(tau_form))\n",
                "\n",
                "    all_EformE = []\n",
                "\n",
                "    # Standard MV model paramaters\n",
                "    p = {\n",
                "        # Parameters for simulation box\n",
                "        'L':    L,           # transverse size [fm]\n",
                "        'N':    N,            # lattice size\n",
                "        'DTS':  DTS,             # time steps per transverse spacing\n",
                "        'TMAX': tau_s,          # max. proper time (tau) [fm/c]\n",
                "        'TFORM': tau_form,       # formation time of the HQ [fm/c]\n",
                "\n",
                "        # Parameters for MV model\n",
                "        'G':    g,            # YM coupling constant\n",
                "        'MU':   mu,             # MV model parameter [GeV]\n",
                "        'M':    m,              # IR regulator [GeV]\n",
                "        # 'UV':   10000.0,      # UV regulator [GeV]\n",
                "        'UV':   10.0, \n",
                "        'NS':   ns,             # number of color sheets\n",
                "    }\n",
                "\n",
                "    with tqdm(total=n_events, file=sys.stdout) as pbar:\n",
                "        for nev in range(0, n_events):\n",
                "            p, s, tau, EformE_tau = simulate(p)\n",
                "\n",
                "            all_EformE.append(EformE_tau)\n",
                "\n",
                "            pbar.set_description('Event {} / {}'.format(nev+1, n_events))\n",
                "            pbar.update(1)\n",
                "\n",
                "    avg_EformE, std_EformE = np.mean(all_EformE, axis = 0), np.std(all_EformE, axis = 0)\n",
                "\n",
                "    filename = 'elfieldscorr.npz'\n",
                "    np.savez(filename, avg_EformE=avg_EformE, std_EformE=std_EformE, tau=tau)"
            ],
            "outputs": [
                {
                    "output_type": "stream",
                    "name": "stdout",
                    "text": [
                        "Formation time = 0.06 [GeV/fm]\n"
                    ]
                },
                {
                    "output_type": "display_data",
                    "data": {
                        "text/plain": [
                            "  0%|          | 0/2 [00:00<?, ?it/s]"
                        ],
                        "application/vnd.jupyter.widget-view+json": {
                            "version_major": 2,
                            "version_minor": 0,
                            "model_id": "5c6514a2302c4f0c843e48e36088e1c2"
                        }
                    },
                    "metadata": {}
                }
            ],
            "metadata": {}
        },
        {
            "cell_type": "markdown",
            "source": [
                "Read data from files."
            ],
            "metadata": {}
        },
        {
            "cell_type": "code",
            "execution_count": 7,
            "source": [
                "filename = 'elfieldscorr.npz'\n",
                "data = np.load(filename)\n",
                "avg_EformE, std_EformE, tau = data['avg_EformE'], data['std_EformE'], data['tau']"
            ],
            "outputs": [],
            "metadata": {}
        },
        {
            "cell_type": "markdown",
            "source": [
                "Various commands for plotting."
            ],
            "metadata": {}
        },
        {
            "cell_type": "code",
            "execution_count": 14,
            "source": [
                "import matplotlib.pyplot as plt\n",
                "\n",
                "plt.rcParams['text.usetex'] = True\n",
                "plt.rcParams[\"figure.figsize\"] = (9, 6)\n",
                "plt.rcParams.update({'font.size':13})\n",
                "\n",
                "plt.figure()\n",
                "plt.title(r'$\\mathrm{Pb+Pb\\,\\,5.02\\,\\,TeV}$', size = 18)\n",
                "plt.xlabel(r'$\\tau\\,\\mathrm{[fm/c]}$', size = 18)\n",
                "plt.ylabel(r'$\\Big\\langle E(\\tau_\\mathrm{form})E(\\tau)\\Big\\rangle\\,\\mathrm{[GeV/fm^3]}$', size = 18)\n",
                "\n",
                "ax = plt.gca()\n",
                "ax.spines[\"top\"].set_visible(False)\n",
                "ax.spines[\"right\"].set_visible(False)\n",
                "ax.spines['bottom'].set_color('gray')\n",
                "ax.spines['left'].set_color('gray') \n",
                "ax.tick_params(direction='in', grid_color='gray', grid_alpha=0.5)\n",
                "# ax.tick_params(direction='in', colors='gray',grid_color='gray', grid_alpha=0.5)\n",
                "plt.grid(color = 'gray', linestyle = '-', linewidth = 1, alpha=0.2)\n",
                "\n",
                "colors = ['#8FBCBB', '#A3BE8C', '#B48EAD']\n",
                "\n",
                "# a = L/N\n",
                "# maxt = int(tau_s / a) * DTS\n",
                "# formt = int(taus_form[0] / a) * DTS\n",
                "# tau = np.linspace(taus_form[0], tau_s, maxt-formt-1)\n",
                "\n",
                "plt.plot(tau, avg_EformE[:, 0, 0], '-', color = colors[0], markersize = 0, linewidth = 2.5, label = r'$\\langle E_xE_x\\rangle$', linestyle='solid')\n",
                "plt.plot(tau, avg_EformE[:, 0, 1], '-', color = colors[0], markersize = 0, linewidth = 2.5, label = r'$\\langle E_xE_y\\rangle$', linestyle='dashdot')\n",
                "plt.plot(tau, avg_EformE[:, 0, 2], '-', color = colors[0], markersize = 0, linewidth = 2.5, label = r'$\\langle E_xE_z\\rangle$', linestyle='dotted')\n",
                "# plt.fill_between(tau, avg_corr-std_corr, avg_corr+std_corr, color = colors[i], alpha=0.2)\n",
                "# plt.fill_between(tau, avg_corr, color = colors[i], alpha=0.2)\n",
                "plt.plot(tau, avg_EformE[:, 1, 0], '-', color = colors[1], markersize = 0, linewidth = 2.5, label = r'$\\langle E_yE_x\\rangle$', linestyle='dashdot')\n",
                "plt.plot(tau, avg_EformE[:, 1, 1], '-', color = colors[1], markersize = 0, linewidth = 2.5, label = r'$\\langle E_yE_y\\rangle$', linestyle='solid')\n",
                "plt.plot(tau, avg_EformE[:, 1, 2], '-', color = colors[1], markersize = 0, linewidth = 2.5, label = r'$\\langle E_yE_z\\rangle$', linestyle='dotted')\n",
                "\n",
                "plt.plot(tau, avg_EformE[:, 2, 0], '-', color = colors[2], markersize = 0, linewidth = 2.5, label = r'$\\langle E_zE_x\\rangle$', linestyle='dotted')\n",
                "plt.plot(tau, avg_EformE[:, 2, 1], '-', color = colors[2], markersize = 0, linewidth = 2.5, label = r'$\\langle E_zE_y\\rangle$', linestyle='dashdot')\n",
                "plt.plot(tau, avg_EformE[:, 2, 2], '-', color = colors[2], markersize = 0, linewidth = 2.5, label = r'$\\langle E_zE_z\\rangle$', linestyle='solid')\n",
                "\n",
                "leg = ax.legend(fontsize = 16, loc = 'upper right')\n",
                "leg.get_frame().set_boxstyle('square')\n",
                "# leg.set_title(r'$\\tau_\\mathrm{form}\\,\\mathrm{[fm/c]}$',prop={'size':18})\n",
                "\n",
                "plt.tight_layout()\n",
                "\n",
                "plt.show()"
            ],
            "outputs": [
                {
                    "output_type": "display_data",
                    "data": {
                        "text/plain": [
                            "<Figure size 648x432 with 1 Axes>"
                        ],
                        "image/png": "[encoded data removed]"
                    },
                    "metadata": {
                        "needs_background": "light"
                    }
                }
            ],
            "metadata": {}
        },
        {
            "cell_type": "code",
            "execution_count": null,
            "source": [],
            "outputs": [],
            "metadata": {}
        }
    ],
    "metadata": {
        "orig_nbformat": 4,
        "language_info": {
            "name": "python"
        }
    },
    "nbformat": 4,
    "nbformat_minor": 2
}