{
 "cells": [
  {
   "cell_type": "markdown",
   "id": "6eab831f",
   "metadata": {},
   "source": [
    "### SU(3) matrix exponential\n",
    "Taylor series, improved Taylor series and Cayley-Hamilton."
   ]
  },
  {
   "cell_type": "code",
   "execution_count": 1,
   "id": "2ecfc1ee",
   "metadata": {},
   "outputs": [],
   "source": [
    "su_group = 'su3'"
   ]
  },
  {
   "cell_type": "code",
   "execution_count": 2,
   "id": "9d960119",
   "metadata": {},
   "outputs": [
    {
     "name": "stdout",
     "output_type": "stream",
     "text": [
      "Using SU(3)\n",
      "Using Python\n",
      "Using double precision\n"
     ]
    }
   ],
   "source": [
    "import os\n",
    "os.environ[\"MY_NUMBA_TARGET\"] = \"python\"\n",
    "os.environ[\"PRECISION\"] = \"double\"\n",
    "os.environ[\"GAUGE_GROUP\"] = su_group\n",
    "\n",
    "import sys\n",
    "sys.path.append('..')\n",
    "\n",
    "import curraun.su as su\n",
    "Nc = su.NC\n",
    "\n",
    "import numpy as np\n",
    "from scipy.linalg import expm"
   ]
  },
  {
   "cell_type": "code",
   "execution_count": 3,
   "id": "e4f2b89e",
   "metadata": {},
   "outputs": [],
   "source": [
    "# Normalize determinant to 1\n",
    "def normalize(U):\n",
    "    detU = np.linalg.det(U)\n",
    "    U = U / (detU ** (1/Nc))\n",
    "    return U\n",
    "\n",
    "# Reunitarize using SVD: U = V @ W^\\dagger where U = V S W^\\dagger\n",
    "def unitarize(U):\n",
    "    V, S, Wdag = np.linalg.svd(U)  \n",
    "    Uunit = V @ Wdag              \n",
    "    return Uunit\n",
    "\n",
    "# Check unitarit\n",
    "def check_unitarity(U):\n",
    "    id = np.eye(Nc, dtype=U.dtype)\n",
    "    UdagU = U.conj().T @ U\n",
    "    unit_err = np.linalg.norm(UdagU - id)\n",
    "    return np.allclose(UdagU, id)\n",
    "    # return unit_err"
   ]
  },
  {
   "cell_type": "code",
   "execution_count": 4,
   "id": "e3c03580",
   "metadata": {},
   "outputs": [],
   "source": [
    "def generate_su3_matrix(seed, epsilon=0.1):\n",
    "    \"\"\"Generate a random SU(3) matrix close to identity (group element)\"\"\"\n",
    "    np.random.seed(seed)\n",
    "    H = np.random.randn(Nc, Nc) + 1j * np.random.randn(Nc, Nc) # random complex SU(3) matrix \n",
    "    H = (H + H.conj().T) / 2  # make it Hermitian\n",
    "    H = H - np.trace(H) / Nc * np.eye(Nc)  # make it traceless\n",
    "\n",
    "    generator = 1j * epsilon * H # anti-Hermitian generator\n",
    "    Ugen = np.eye(Nc, dtype=np.complex128) + generator # matrix close to identity\n",
    "    # U = expm(generator) # matrix close to identity\n",
    "\n",
    "    Uunit = unitarize(Ugen) # reunitarize\n",
    "    U = normalize(Uunit) # normalize determinant\n",
    "    \n",
    "    Uflat = U.reshape(Nc*Nc)    \n",
    "\n",
    "    print(f\"Determinant: {np.linalg.det(U)}\")\n",
    "    print(f\"Unitary: {check_unitarity(U)}\")\n",
    "\n",
    "    return Uflat"
   ]
  },
  {
   "cell_type": "code",
   "execution_count": 5,
   "id": "cf093312",
   "metadata": {},
   "outputs": [],
   "source": [
    "def generate_su3_generator(seed, epsilon=0.1):\n",
    "    \"\"\"Generate an anti-Hermitian, traceless generator (algebra element)\"\"\"\n",
    "    np.random.seed(seed)\n",
    "    H = np.random.randn(Nc, Nc) + 1j * np.random.randn(Nc, Nc) \n",
    "    H = (H + H.conj().T) / 2  # make it Hermitian\n",
    "    H = H - np.trace(H) / Nc * np.eye(Nc)  # make it traceless\n",
    "\n",
    "    gen = 1j * epsilon * H  # anti-Hermitian generator\n",
    "    gflat = gen.flatten()\n",
    "\n",
    "    print(f\"Generator trace: {np.trace(gen)}\")\n",
    "    print(f\"Anti-Hermitian: {np.allclose(gen, -gen.conj().T)}\")\n",
    "\n",
    "    return gflat"
   ]
  },
  {
   "cell_type": "code",
   "execution_count": 6,
   "id": "aba8cbdb",
   "metadata": {},
   "outputs": [
    {
     "name": "stdout",
     "output_type": "stream",
     "text": [
      "Determinant: (1.0000000000000004+2.4286128663675305e-17j)\n",
      "Unitary: True\n"
     ]
    },
    {
     "data": {
      "text/plain": [
       "array([ 0.99704112+0.06747425j, -0.01239478+0.00291967j,\n",
       "        0.01437942+0.03142135j,  0.00917845+0.00451592j,\n",
       "        0.99438981-0.04152151j,  0.07534223+0.06069421j,\n",
       "       -0.01671446+0.03118033j, -0.07103392+0.06524495j,\n",
       "        0.99437611-0.02572623j])"
      ]
     },
     "execution_count": 6,
     "metadata": {},
     "output_type": "execute_result"
    }
   ],
   "source": [
    "seed = 314\n",
    "U = generate_su3_matrix(seed, epsilon=0.1)\n",
    "U"
   ]
  },
  {
   "cell_type": "code",
   "execution_count": 7,
   "id": "87afc8fa",
   "metadata": {},
   "outputs": [
    {
     "name": "stdout",
     "output_type": "stream",
     "text": [
      "Generator trace: -6.938893903907228e-18j\n",
      "Anti-Hermitian: True\n"
     ]
    },
    {
     "data": {
      "text/plain": [
       "array([ 0.        +0.06788012j, -0.01086386+0.00374468j,\n",
       "        0.01565808+0.03152477j,  0.01086386+0.00374468j,\n",
       "       -0.        -0.04189415j,  0.07371073+0.06341922j,\n",
       "       -0.01565808+0.03152477j, -0.07371073+0.06341922j,\n",
       "       -0.        -0.02598597j])"
      ]
     },
     "execution_count": 7,
     "metadata": {},
     "output_type": "execute_result"
    }
   ],
   "source": [
    "g = generate_su3_generator(seed, epsilon=0.1)\n",
    "# g = su.unit()\n",
    "g"
   ]
  },
  {
   "cell_type": "code",
   "execution_count": 8,
   "id": "e6dc05a3",
   "metadata": {},
   "outputs": [
    {
     "data": {
      "text/plain": [
       "((0.9970129001406108+0.06779453787960968j),\n",
       " (-0.012461405973638534+0.0029299732680562567j),\n",
       " (0.01444198917438123+0.031571112641057185j),\n",
       " (0.009214392674363641+0.004541460785403434j),\n",
       " (0.9943363606681792-0.04171747533075365j),\n",
       " (0.07570930540860747+0.06097069198649506j),\n",
       " (-0.01679934895756539+0.031327776222991745j),\n",
       " (-0.07135997907640178+0.06556474745785822j),\n",
       " (0.9943225262732092-0.02584730806467606j))"
      ]
     },
     "execution_count": 8,
     "metadata": {},
     "output_type": "execute_result"
    }
   ],
   "source": [
    "# mexp = su.mexp(U, EXP_MAX_TERMS=10, EXP_ACCURACY_SQUARED=1e-32) # SU(3) matrix exponential \n",
    "mexp = su.mexp(g)\n",
    "mexp"
   ]
  },
  {
   "cell_type": "code",
   "execution_count": 9,
   "id": "9cfdbb0d",
   "metadata": {},
   "outputs": [
    {
     "data": {
      "text/plain": [
       "((0.9971059162124398+0.06780238654097549j),\n",
       " (-0.012413324587002107+0.0029558662862404455j),\n",
       " (0.014482134902203467+0.03157419437622305j),\n",
       " (0.009267235820845125+0.004517214878131249j),\n",
       " (0.9945122462188761-0.04173366114283106j),\n",
       " (0.07565804033587903+0.0610557523640876j),\n",
       " (-0.016766061891664265+0.03133850719590927j),\n",
       " (-0.07144351912665911+0.06550745496673603j),\n",
       " (0.9944988861148661-0.025860010007160438j))"
      ]
     },
     "execution_count": 9,
     "metadata": {},
     "output_type": "execute_result"
    }
   ],
   "source": [
    "# mexp_improved = su.mexp_improved(g, exp_quality=1e2, min_n=4)\n",
    "mexp_improved = su.mexp_improved(g)\n",
    "mexp_improved"
   ]
  },
  {
   "cell_type": "code",
   "execution_count": 10,
   "id": "11db2a95",
   "metadata": {},
   "outputs": [
    {
     "data": {
      "text/plain": [
       "((0.997012900140611+0.06779453787960968j),\n",
       " (-0.012461405973638706+0.0029299732680561352j),\n",
       " (0.014441989174380998+0.03157111264105724j),\n",
       " (0.009214392674363414+0.004541460785403573j),\n",
       " (0.9943363606681792-0.041717475330753664j),\n",
       " (0.07570930540860754+0.06097069198649502j),\n",
       " (-0.01679934895756563+0.03132777622299168j),\n",
       " (-0.07135997907640179+0.06556474745785829j),\n",
       " (0.994322526273209-0.02584730806467607j))"
      ]
     },
     "execution_count": 10,
     "metadata": {},
     "output_type": "execute_result"
    }
   ],
   "source": [
    "mexp_cayham = su.mexp_cayham(g)\n",
    "mexp_cayham"
   ]
  },
  {
   "cell_type": "code",
   "execution_count": 11,
   "id": "6afab523",
   "metadata": {},
   "outputs": [
    {
     "data": {
      "text/plain": [
       "array([ 0.9970129 +0.06779454j, -0.01246141+0.00292997j,\n",
       "        0.01444199+0.03157111j,  0.00921439+0.00454146j,\n",
       "        0.99433636-0.04171748j,  0.07570931+0.06097069j,\n",
       "       -0.01679935+0.03132778j, -0.07135998+0.06556475j,\n",
       "        0.99432253-0.02584731j])"
      ]
     },
     "execution_count": 11,
     "metadata": {},
     "output_type": "execute_result"
    }
   ],
   "source": [
    "mexp_scipy = expm(g.reshape(Nc, Nc)).reshape(Nc*Nc)\n",
    "mexp_scipy"
   ]
  },
  {
   "cell_type": "code",
   "execution_count": 12,
   "id": "7fd0c3f8",
   "metadata": {},
   "outputs": [
    {
     "name": "stdout",
     "output_type": "stream",
     "text": [
      "Comparison of matrix exponential methods:\n",
      "Taylor (mexp):            (0.9970129001406108+0.06779453787960968j)\n",
      "Improved (mexp_improved): (0.9971059162124398+0.06780238654097549j)\n",
      "Cayley-Hamilton:          (0.997012900140611+0.06779453787960968j)\n",
      "SciPy (expm):             (0.9970129001406108+0.06779453787960968j)\n",
      "\n",
      "Errors relative to SciPy expm:\n",
      "Taylor error:           0.00e+00\n",
      "Improved Taylor error:  9.33e-05\n",
      "Cayley-Hamilton error:  1.11e-16\n"
     ]
    }
   ],
   "source": [
    "print(\"Comparison of matrix exponential methods:\")\n",
    "print(f\"Taylor (mexp):            {mexp[0]}\")\n",
    "print(f\"Improved (mexp_improved): {mexp_improved[0]}\")\n",
    "print(f\"Cayley-Hamilton:          {mexp_cayham[0]}\")\n",
    "print(f\"SciPy (expm):             {mexp_scipy[0]}\")\n",
    "print()\n",
    "\n",
    "# Check differences from scipy (assuming it's the most accurate)\n",
    "scipy_val = complex(mexp_scipy[0])  \n",
    "print(\"Errors relative to SciPy expm:\")\n",
    "print(f\"Taylor error:           {abs(mexp[0] - scipy_val):.2e}\")\n",
    "print(f\"Improved Taylor error:  {abs(mexp_improved[0] - scipy_val):.2e}\")\n",
    "print(f\"Cayley-Hamilton error:  {abs(mexp_cayham[0] - scipy_val):.2e}\")"
   ]
  }
 ],
 "metadata": {
  "kernelspec": {
   "display_name": "condacurraun",
   "language": "python",
   "name": "python3"
  },
  "language_info": {
   "codemirror_mode": {
    "name": "ipython",
    "version": 3
   },
   "file_extension": ".py",
   "mimetype": "text/x-python",
   "name": "python",
   "nbconvert_exporter": "python",
   "pygments_lexer": "ipython3",
   "version": "3.6.8"
  }
 },
 "nbformat": 4,
 "nbformat_minor": 5
}
