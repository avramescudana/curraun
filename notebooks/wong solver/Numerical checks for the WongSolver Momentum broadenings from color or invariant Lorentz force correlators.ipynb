{
    "cells": [
        {
            "cell_type": "markdown",
            "metadata": {},
            "source": [
                "# **Recover momentum broadenings from correlators of color or invariant Lorentz forces**"
            ]
        },
        {
            "cell_type": "markdown",
            "metadata": {},
            "source": [
                "## Default simulation parameters for the Glasma and the Wong solvers"
            ]
        },
        {
            "cell_type": "code",
            "execution_count": 1,
            "metadata": {},
            "outputs": [],
            "source": [
                "import numpy as np\n",
                "\n",
                "# hbar * c [GeV * fm]\n",
                "hbarc = 0.197326 \n",
                "\n",
                "# Simulation box \n",
                "L = 10      \n",
                "N = 1024    \n",
                "tau_sim = 5.0     \n",
                "DTS = 2     \n",
                "\n",
                "# Glasma\n",
                "su_group = 'su3'\n",
                "Qs = 2        \n",
                "ns = 50    \n",
                "factor = 0.8        \n",
                "g2mu = Qs / factor     \n",
                "g = np.pi * np.sqrt(1 / np.log(Qs / 0.2))          \t\t\n",
                "mu = g2mu / g**2          \t\n",
                "ir = 0.1 * g**2 * mu         \n",
                "uv = 10.0           \n",
                "\n",
                "# Wong\n",
                "mass = 10**3\n",
                "tau_form = 0  \n",
                "pT = 0    \n",
                "ntp = 10**5  \n",
                "nevents = 3    \n",
                "representation = 'fundamental'      \n",
                "boundary = 'periodic'       "
            ]
        },
        {
            "cell_type": "markdown",
            "metadata": {},
            "source": [
                "## Set environment variables and import all relevant modules"
            ]
        },
        {
            "cell_type": "code",
            "execution_count": 2,
            "metadata": {},
            "outputs": [
                {
                    "name": "stdout",
                    "output_type": "stream",
                    "text": [
                        "Using CUDA\n",
                        "Using SU(3)\n",
                        "Using double precision\n",
                        "Using double precision\n"
                    ]
                }
            ],
            "source": [
                "import os\n",
                "os.environ[\"MY_NUMBA_TARGET\"] = \"cuda\"\n",
                "os.environ[\"PRECISION\"] = \"double\"\n",
                "os.environ[\"GAUGE_GROUP\"] = su_group\n",
                "\n",
                "# Import relevant modules\n",
                "import sys\n",
                "sys.path.append('..')\n",
                "\n",
                "# Glasma modules\n",
                "import curraun.core as core\n",
                "import curraun.mv as mv\n",
                "import curraun.initial as initial\n",
                "initial.DEBUG = False\n",
                "\n",
                "# Wong modules\n",
                "from curraun import wong\n",
                "wong.BOUNDARY = boundary\n",
                "from curraun.wong import init_mom_toy, init_pos, init_charge\n",
                "\n",
                "import curraun.kappa_wong as kappa_wong\n",
                "import curraun.kappa as kappa\n",
                "\n",
                "import curraun.su as su\n",
                "from curraun.numba_target import use_cuda\n",
                "if use_cuda:\n",
                "    from numba import cuda"
            ]
        },
        {
            "cell_type": "markdown",
            "metadata": {},
            "source": [
                "# Momentum broadenings from `kappa_wong.py`\n",
                "Computes momentum broadening similarly as in `kappa.py` but with Lorentz forces along the trajectories. This is done either with color or invariant Lorentz forces computed in `wong.py`"
            ]
        },
        {
            "cell_type": "code",
            "execution_count": 3,
            "metadata": {},
            "outputs": [],
            "source": [
                "import pickle\n",
                "from tqdm import tqdm\n",
                "\n",
                "# Simulation routine\n",
                "def simulate(ev): \n",
                "    output = {}\n",
                "\n",
                "    # Derived parameters\n",
                "    a = L / N\n",
                "    E0 = N / L * hbarc\n",
                "    DT = 1.0 / DTS\n",
                "    formt = int(tau_form / a * DTS)\n",
                "    maxt = int(tau_sim / a * DTS)\n",
                "\n",
                "    # Initialize Glasma fields\n",
                "    s = core.Simulation(N, DT, g)\n",
                "    va = mv.wilson(s, mu=mu / E0, m=ir / E0, uv=uv / E0, num_sheets=ns)\n",
                "    vb = mv.wilson(s, mu=mu / E0, m=ir / E0, uv=uv / E0, num_sheets=ns)\n",
                "    initial.init(s, va, vb)\n",
                "\n",
                "    # Initialize the Wong solver\n",
                "    wong_solver = wong.WongSolver(s, ntp)\n",
                "    x0s, p0s, q0s = np.zeros((ntp, 3)), np.zeros((ntp, 5)), np.zeros((ntp, su.ALGEBRA_ELEMENTS))\n",
                "    masses = mass / E0 * np.ones(ntp)\n",
                "\n",
                "    for i in range(ntp):\n",
                "        x0, p0, q0 = init_pos(s.n), init_mom_toy('pT', pT / E0), init_charge(representation)\n",
                "        x0s[i, :], p0s[i, :], q0s[i, :] = x0, p0, q0\n",
                "\n",
                "    wong_solver.initialize(x0s, p0s, q0s, masses)\n",
                "\n",
                "    # Momentum broadening from the Wong solver\n",
                "    mom_broad_wong = np.zeros((maxt-formt, 4))\n",
                "\n",
                "    # Initialize the Kappa module\n",
                "    kappa_tforce = kappa.TransportedForce(s)\n",
                "    mom_broad_kappa, tau_kappa =  [], []\n",
                "\n",
                "    kappa_wong_tforce = kappa_wong.TransportedForce(s, wong_solver, ntp)\n",
                "    mom_broad_kappa_wong_fc, mom_broad_kappa_wong_finv =  [], []\n",
                "\n",
                "    if use_cuda:\n",
                "        kappa_tforce.copy_to_device()\n",
                "        kappa_wong_tforce.copy_to_device()\n",
                "\n",
                "    with tqdm(total=maxt) as pbar:\n",
                "        for t in range(maxt):\n",
                "            # Solve Wong's equations\n",
                "            if t>=formt:  \n",
                "                # Compute momentum broadening from Wong solver\n",
                "                mom_broad_wong[t-formt] = wong_solver.p_sq_mean * E0**2\n",
                "\n",
                "                wong_solver.evolve()\n",
                "                wong_solver.compute_mom_broad()\n",
                "\n",
                "                # Compute momentum broadening from Kappa module\n",
                "                if t % DTS == 0:\n",
                "                    if use_cuda:\n",
                "                        kappa_tforce.copy_mean_to_host()\n",
                "                        kappa_wong_tforce.copy_mean_to_host()\n",
                "\n",
                "                    mom_broad_kappa.append(kappa_tforce.p_perp_mean * E0 ** 2)\n",
                "                    tau_kappa.append(t*a/DTS)\n",
                "\n",
                "                    mom_broad_kappa_wong_fc.append(kappa_wong_tforce.p_perp_mean_fc * E0 ** 2)\n",
                "                    mom_broad_kappa_wong_finv.append(kappa_wong_tforce.p_perp_mean_finv * E0 ** 2)\n",
                "                    \n",
                "                    if use_cuda:\n",
                "                        kappa_tforce.copy_mean_to_device()\n",
                "                        kappa_wong_tforce.copy_mean_to_device()\n",
                "\n",
                "                kappa_tforce.compute()\n",
                "                kappa_wong_tforce.compute(wong_solver)\n",
                "\n",
                "            # Evolve Glasma fields\n",
                "            core.evolve_leapfrog(s)\n",
                "\n",
                "            pbar.set_description(\"Event \" + str(ev+1))\n",
                "            pbar.update(1)\n",
                "\n",
                "    output[\"mom_broad_wong\"] = mom_broad_wong\n",
                "    output[\"mom_broad_kappa\"], output[\"tau_kappa\"] = mom_broad_kappa, tau_kappa\n",
                "    output[\"mom_broad_kappa_wong_fc\"], output[\"mom_broad_kappa_wong_finv\"] = mom_broad_kappa_wong_fc, mom_broad_kappa_wong_finv\n",
                "\n",
                "    if use_cuda:\n",
                "        cuda.current_context().deallocations.clear()\n",
                "\n",
                "    return output"
            ]
        },
        {
            "cell_type": "markdown",
            "metadata": {},
            "source": [
                "## Running the Wong solver over multiple Glasma events"
            ]
        },
        {
            "cell_type": "code",
            "execution_count": 4,
            "metadata": {},
            "outputs": [
                {
                    "name": "stderr",
                    "output_type": "stream",
                    "text": [
                        "Event 1: 100%|██████████| 1024/1024 [51:05<00:00,  2.99s/it]\n",
                        "Event 2: 100%|██████████| 1024/1024 [52:02<00:00,  3.05s/it]\n",
                        "Event 3: 100%|██████████| 1024/1024 [51:04<00:00,  2.99s/it]\n"
                    ]
                }
            ],
            "source": [
                "mom_broads_wong, mom_broads_kappa = [], []\n",
                "mom_broads_kappa_wong_fc, mom_broads_kappa_wong_finv = [], []\n",
                "\n",
                "for ev in range(nevents):\n",
                "    output = simulate(ev)\n",
                "    mom_broads_wong.append(output[\"mom_broad_wong\"])\n",
                "    mom_broads_kappa.append(np.array(output[\"mom_broad_kappa\"]))\n",
                "    mom_broads_kappa_wong_fc.append(np.array(output[\"mom_broad_kappa_wong_fc\"]))\n",
                "    mom_broads_kappa_wong_finv.append(np.array(output[\"mom_broad_kappa_wong_finv\"]))\n",
                "\n",
                "mom_broad_wong, mom_broad_kappa = np.mean(mom_broads_wong, axis=0), np.mean(mom_broads_kappa, axis=0)\n",
                "mom_broad_wong = np.mean(mom_broads_wong, axis=0)\n",
                "mom_broad_kappa_wong_fc, mom_broad_kappa_wong_finv = np.mean(mom_broads_kappa_wong_fc, axis=0), np.mean(mom_broads_kappa_wong_finv, axis=0)\n",
                "\n",
                "formt, maxt = int(tau_form / L * N * DTS), int(tau_sim / L * N * DTS)\n",
                "tau_wong = np.linspace(tau_form, tau_sim, maxt-formt)\n",
                "tau_kappa = np.array(output[\"tau_kappa\"])\n",
                "\n",
                "output = {}\n",
                "output[\"mom_broad_wong\"], output[\"tau_wong\"] = mom_broad_wong, tau_wong\n",
                "output[\"mom_broad_kappa\"], output[\"tau_kappa\"] = mom_broad_kappa, tau_kappa\n",
                "output[\"mom_broad_kappa_wong_fc\"], output[\"mom_broad_kappa_wong_finv\"] = mom_broad_kappa_wong_fc, mom_broad_kappa_wong_finv\n",
                "output[\"Qs\"], output[\"hbarc\"] = Qs, hbarc\n",
                "\n",
                "filename = 'wong_vs_kappa_wong.pickle'\n",
                "with open(filename, 'wb') as handle:\n",
                "    pickle.dump(output, handle) "
            ]
        },
        {
            "cell_type": "markdown",
            "metadata": {},
            "source": [
                "## Read data from file using Julia"
            ]
        },
        {
            "cell_type": "code",
            "execution_count": 2,
            "metadata": {},
            "outputs": [
                {
                    "data": {
                        "text/plain": [
                            "(2, 0.197326)"
                        ]
                    },
                    "metadata": {},
                    "output_type": "display_data"
                }
            ],
            "source": [
                "using Pickle\n",
                "\n",
                "output = Pickle.npyload(\"results/wong_vs_kappa_wong.pickle\")\n",
                "mom_broad_wong, tau_wong = output[\"mom_broad_wong\"], output[\"tau_wong\"]\n",
                "mom_broad_kappa, tau_kappa = output[\"mom_broad_kappa\"], output[\"tau_kappa\"]\n",
                "mom_broad_kappa_wong_fc, mom_broad_kappa_wong_finv = output[\"mom_broad_kappa_wong_fc\"], output[\"mom_broad_kappa_wong_finv\"]\n",
                "Qs, hbarc = output[\"Qs\"], output[\"hbarc\"]"
            ]
        },
        {
            "cell_type": "markdown",
            "metadata": {},
            "source": [
                "## Plot momentum broadenings, using Makie from Julia"
            ]
        },
        {
            "cell_type": "code",
            "execution_count": 3,
            "metadata": {},
            "outputs": [
                {
                    "data": {
                        "text/plain": [
                            "string_as_varname (generic function with 1 method)"
                        ]
                    },
                    "metadata": {},
                    "output_type": "display_data"
                }
            ],
            "source": [
                "function string_as_varname(s::AbstractString,v::Any)\n",
                "    s=Symbol(s)\n",
                "    return @eval (($s) = ($v))\n",
                "end"
            ]
        },
        {
            "cell_type": "code",
            "execution_count": 4,
            "metadata": {},
            "outputs": [
                {
                    "data": {
                        "image/png": "[encoded data removed]",
                        "text/plain": [
                            "Scene (400px, 300px):\n",
                            "  18 Plots:\n",
                            "    ├ Combined{Makie.poly, Tuple{Vector{Vector{Point{2, Float32}}}}}\n",
                            "    ├ LineSegments{Tuple{Vector{Point{2, Float32}}}}\n",
                            "    ├ LineSegments{Tuple{Vector{Point{2, Float32}}}}\n",
                            "    ├ LineSegments{Tuple{Vector{Point{2, Float32}}}}\n",
                            "    ├ LineSegments{Tuple{Vector{Point{2, Float32}}}}\n",
                            "    ├ LineSegments{Tuple{Vector{Point{2, Float32}}}}\n",
                            "    ├ LineSegments{Tuple{Vector{Point{2, Float32}}}}\n",
                            "    ├ MakieCore.Text{Tuple{LaTeXStrings.LaTeXString}}\n",
                            "    ├ Lines{Tuple{Vector{Point{2, Float32}}}}\n",
                            "    ├ MakieCore.Text{Tuple{Vector{Tuple{AbstractString, Point{2, Float32}}}}}\n",
                            "    ├ LineSegments{Tuple{Vector{Point{2, Float32}}}}\n",
                            "    ├ LineSegments{Tuple{Vector{Point{2, Float32}}}}\n",
                            "    ├ MakieCore.Text{Tuple{LaTeXStrings.LaTeXString}}\n",
                            "    ├ Lines{Tuple{Vector{Point{2, Float32}}}}\n",
                            "    ├ MakieCore.Text{Tuple{Vector{Tuple{AbstractString, Point{2, Float32}}}}}\n",
                            "    ├ Lines{Tuple{Vector{Point{2, Float32}}}}\n",
                            "    ├ Lines{Tuple{Vector{Point{2, Float32}}}}\n",
                            "    └ MakieCore.Text{Tuple{String}}\n",
                            "  2 Child Scenes:\n",
                            "    ├ Scene (305px, 227px)\n",
                            "    └ Scene (400px, 300px)"
                        ]
                    },
                    "metadata": {},
                    "output_type": "display_data"
                },
                {
                    "data": {
                        "text/plain": [
                            "CairoScreen{Cairo.CairoSurfaceIOStream{UInt32}} with surface:\n",
                            "Cairo.CairoSurfaceIOStream{UInt32}(Ptr{Nothing} @0x00000000082302d0, 300.0, 225.0, IOContext(IOStream(<file /home/dana/curraun/notebooks/plots/recover_mom_broad_force_corr.pdf>)))\n"
                        ]
                    },
                    "metadata": {},
                    "output_type": "display_data"
                }
            ],
            "source": [
                "using CairoMakie\n",
                "using ColorSchemes\n",
                "\n",
                "custom_colors = [\"#9300d3\", \"#019d73\", \"#57b5e8\"]\n",
                "colors = [custom_colors[1], custom_colors[2], custom_colors[3]]\n",
                "width_line = 1.5\n",
                "\n",
                "fig = Figure(resolution = (400, 300), font = \"CMU Serif\")\n",
                "ax = Axis(fig[1, 1], \n",
                "        xlabel=L\"Q_s\\tau\", ylabel=L\"\\langle \\delta p^2\\,\\rangle/ Q_s^2\",\n",
                "        xlabelsize = 18, ylabelsize= 18, xticklabelsize=14, yticklabelsize=14,\n",
                "        xtickalign = 1, xticksize=4, ytickalign=1, yticksize=4,  xlabelpadding = -5, )\n",
                "\n",
                "# dimenstion of fundamental representation for SU(3)\n",
                "DR = 3\n",
                "\n",
                "tags = [\"x\", \"eta\"]\n",
                "linestyles = [nothing, :dash, :dashdot]\n",
                "for (i, j) in enumerate([1, 3])\n",
                "        if j==3\n",
                "                mb_wong = mom_broad_wong[:, j+1]\n",
                "        else\n",
                "                mb_wong = mom_broad_wong[:, j]\n",
                "        end\n",
                "        mb_kappa_wong_fc = mom_broad_kappa_wong_fc[:, j]\n",
                "        mb_kappa_wong_finv = mom_broad_kappa_wong_finv[:, j]\n",
                "\n",
                "\n",
                "        string_as_varname(\"wong_\"*tags[i], lines!(ax, tau_wong*Qs/hbarc, mb_wong/Qs^2/DR, linewidth = width_line, color=colors[2]))\n",
                "        string_as_varname(\"kappa_wong_fc_dash_\"*tags[i], lines!(ax, tau_kappa*Qs/hbarc, mb_kappa_wong_fc/Qs^2/DR, linewidth = width_line, color=colors[3], linestyle=:dash))\n",
                "        string_as_varname(\"kappa_wong_fc_transp_\"*tags[i], lines!(ax, tau_kappa*Qs/hbarc, mb_kappa_wong_fc/Qs^2/DR, linewidth = width_line, color=(colors[3], 0.4)))\n",
                "        # string_as_varname(\"kappa_wong_finv_\"*tags[i], lines!(ax, tau_kappa*Qs/hbarc, mb_kappa_wong_finv/Qs^2, linewidth = 1.5, color=colors[3]))\n",
                "end\n",
                "\n",
                "ylims!(ax, 0, 0.2)\n",
                "xlims!(ax, 0, 50)\n",
                "yticks = [0.05, 0.1, 0.15, 0.2]\n",
                "ax.yticks = (yticks, string.(yticks))\n",
                "\n",
                "legend = [L\"\\mathrm{particle\\,solver}\", L\"\\mathrm{force\\,correlator}\"]\n",
                "axislegend(ax, [wong_x, [kappa_wong_fc_dash_x, kappa_wong_fc_transp_x]], legend, labelsize=16, position = :rc, orientation = :vertical, bgcolor = (:white, 0.7), framecolor=(:grey80, 0))\n",
                "\n",
                "text!(ax, L\"\\langle \\delta p_{x,y}^2 \\,\\rangle\", position = (43, 0.146), textsize=14)\n",
                "text!(ax, L\"\\langle \\delta (\\tau p_\\eta)^2 \\rangle\", position = (40.2, 0.014), textsize=14)\n",
                "\n",
                "\n",
                "display(fig)\n",
                "save(\"plots/recover_mom_broad_force_corr.png\", fig, px_per_unit=5.0) \n",
                "save(\"plots/recover_mom_broad_force_corr.pdf\", fig) "
            ]
        }
    ],
    "metadata": {
        "interpreter": {
            "hash": "50fba519a3e3a4634f635ec7332619e3aceac5abb997750bdb88b5674357649c"
        },
        "kernelspec": {
            "display_name": "Julia 1.6.3",
            "language": "julia",
            "name": "julia-1.6"
        },
        "language_info": {
            "file_extension": ".jl",
            "mimetype": "application/julia",
            "name": "julia",
            "version": "1.6.3"
        },
        "orig_nbformat": 4
    },
    "nbformat": 4,
    "nbformat_minor": 2
}
