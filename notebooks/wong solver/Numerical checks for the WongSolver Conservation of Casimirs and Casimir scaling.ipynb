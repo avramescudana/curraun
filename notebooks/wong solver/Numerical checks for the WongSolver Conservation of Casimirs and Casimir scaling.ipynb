{
    "cells": [
        {
            "cell_type": "markdown",
            "metadata": {},
            "source": [
                "# **Numerical checks for the WongSolver**\n",
                "In this notebook, we are going to perform various checks on our numerical routine for solving Wong's equations with Glasma background fields. "
            ]
        },
        {
            "cell_type": "markdown",
            "metadata": {},
            "source": [
                "## Conservation of Casimirs and modified Casimir scaling\n",
                "The method used to solve the equation for the color charge, namely $Q(\\tau)=U^\\dagger_{\\tau\\rightarrow \\tau_\\mathrm{form}}Q(\\tau_\\mathrm{form})U_{\\tau\\rightarrow \\tau_\\mathrm{form}}$, with $U_{\\tau\\rightarrow \\tau_\\mathrm{form}}$ a very particular Wilson line constructed on the lattice, assures that $Q\\in \\mathrm{SU(N)}$ throughout the evolution and that the Casimir invariants are conserved. Any representation of $\\mathrm{SU(2)}$ is labeled by a quadratic Casimir defined as $q_{2}=\\sum\\limits_a Q^aQ^a$. Its value is fixed according to $q_{2R}=D_R C_{2R}$ with $D_R$ denoting the dimension of the representation and $C_{2R}$ the group theory invariant in a given representation. For $\\mathrm{SU}(3)$ there is also a cubic Casimir $q_{3}=\\sum\\limits_{abc}d_{abc}Q^aQ^bQ^c$ whose value is assigned as $q_{3R}=D_R C_{3R}$, where $C_{3R}$ is the standard cubic Casimir. This way of fixing the Casimirs $q_{2,3R}=D_R C_{2,3R}$ is taken from [Litim&Manuel2001](https://arxiv.org/abs/hep-ph/0110104). We check numerically that indeed their values are conserved.\n",
                "\n",
                "The momentum broadening $\\delta p_i^2$ extracted from Wong's equations exhibits a modified version of Casimir scaling, namely $\\langle\\delta p^2_i\\rangle_A/\\langle\\delta p^2_i\\rangle_F=q_{2A}/q_{2F}$, where $i=x,y,z$. Once the color charges are initialized in either the fundamental or adjoint representation, this scaling property is numerically checked.\n"
            ]
        },
        {
            "cell_type": "markdown",
            "metadata": {},
            "source": [
                "### Default simulation parameters for the Glasma and the Wong solvers"
            ]
        },
        {
            "cell_type": "markdown",
            "metadata": {},
            "source": [
                "Simulation parameters chosen for a Glasma characterized by a saturation momentum $Q_s=2\\,\\mathrm{GeV}$, in which the dynamics of infinitely massive heavy quarks is evolved numerically."
            ]
        },
        {
            "cell_type": "code",
            "execution_count": 1,
            "metadata": {},
            "outputs": [],
            "source": [
                "import numpy as np\n",
                "\n",
                "# hbar * c [GeV * fm]\n",
                "hbarc = 0.197326 \n",
                "\n",
                "# Simulation box \n",
                "L = 10      \n",
                "N = 512  \n",
                "# N = 1024  \n",
                "tau_sim = 1.2\n",
                "DTS = 16     \n",
                "\n",
                "# Glasma fields\n",
                "su_group = 'su2'\n",
                "\n",
                "Qs = 2        \n",
                "if su_group == 'su2':\n",
                "    Qs = np.sqrt(2/3)*Qs\n",
                "ns = 50    \n",
                "if su_group=='su3':\n",
                "    factor = 0.8        \n",
                "elif su_group=='su2':\n",
                "    factor = np.sqrt(2/3)*0.8 #C2A\n",
                "g2mu = Qs / factor     \n",
                "g = np.pi * np.sqrt(1 / np.log(Qs / 0.2))          \t\t\n",
                "mu = g2mu / g**2          \t\n",
                "ir = 0.1 * g**2 * mu  \n",
                "\n",
                "# dilute limit\n",
                "# ir = 2     \n",
                "\n",
                "uv = 10.0           \n",
                "\n",
                "# Wong solver \n",
                "mass = 10**5   \n",
                "tau_form = 0   \n",
                "pT = 0   \n",
                "ntp = 10**5  \n",
                "nevents = 20    \n",
                "representation = 'fundamental'      \n",
                "boundary = 'periodic'       "
            ]
        },
        {
            "cell_type": "markdown",
            "metadata": {},
            "source": [
                "### Set environment variables"
            ]
        },
        {
            "cell_type": "code",
            "execution_count": 2,
            "metadata": {},
            "outputs": [
                {
                    "name": "stdout",
                    "output_type": "stream",
                    "text": [
                        "Using CUDA\n",
                        "Using SU(2)\n",
                        "Using double precision\n",
                        "Using double precision\n",
                        "Using double precision\n"
                    ]
                }
            ],
            "source": [
                "import os\n",
                "os.environ[\"MY_NUMBA_TARGET\"] = \"cuda\"\n",
                "os.environ[\"PRECISION\"] = \"double\"\n",
                "os.environ[\"GAUGE_GROUP\"] = su_group\n",
                "\n",
                "# Import relevant modules\n",
                "import sys\n",
                "sys.path.append('..')\n",
                "\n",
                "# Glasma modules\n",
                "import curraun.core as core\n",
                "import curraun.mv as mv\n",
                "import curraun.initial as initial\n",
                "initial.DEBUG = False\n",
                "\n",
                "import curraun.su as su\n",
                "from curraun.numba_target import use_cuda\n",
                "if use_cuda:\n",
                "    from numba import cuda\n",
                "\n",
                "# Wong modules\n",
                "from curraun import wong\n",
                "wong.BOUNDARY = boundary\n",
                "wong.CASIMIRS = True\n",
                "from curraun.wong import init_mom_toy, init_pos, init_charge\n",
                "\n",
                "# Dictionary with parameters\n",
                "p = {'representation' : representation}"
            ]
        },
        {
            "cell_type": "markdown",
            "metadata": {},
            "source": [
                "### Simulation routine for evolving the Glasma & solving Wong's equations\n",
                "Computes the transverse and longitudinal momentum broadenings $\\delta p_T^2$ and $\\delta p_L^2$, along with the Casimirs of the color charges."
            ]
        },
        {
            "cell_type": "code",
            "execution_count": 3,
            "metadata": {},
            "outputs": [],
            "source": [
                "import pickle\n",
                "from tqdm import tqdm\n",
                "\n",
                "# Simulation routine\n",
                "def simulate(p, ev): \n",
                "    representation = p[\"representation\"]\n",
                "\n",
                "    output = {}\n",
                "    output[\"parameters\"] = p.copy()\n",
                "\n",
                "    # Derived parameters\n",
                "    a = L / N\n",
                "    E0 = N / L * hbarc\n",
                "    DT = 1.0 / DTS\n",
                "    formt = int(tau_form / a * DTS)\n",
                "    maxt = int(tau_sim / a * DTS)\n",
                "\n",
                "    # Initialize Glasma fields\n",
                "    s = core.Simulation(N, DT, g)\n",
                "    va = mv.wilson(s, mu=mu / E0, m=ir / E0, uv=uv / E0, num_sheets=ns)\n",
                "    vb = mv.wilson(s, mu=mu / E0, m=ir / E0, uv=uv / E0, num_sheets=ns)\n",
                "    initial.init(s, va, vb)\n",
                "\n",
                "    # Initialize the Wong solver\n",
                "    wong_solver = wong.WongSolver(s, ntp)\n",
                "    x0s, p0s, q0s = np.zeros((ntp, 3)), np.zeros((ntp, 5)), np.zeros((ntp, su.ALGEBRA_ELEMENTS))\n",
                "    masses = mass / E0 * np.ones(ntp)\n",
                "\n",
                "    for i in range(ntp):\n",
                "        x0, p0, q0 = init_pos(s.n), init_mom_toy('pT', pT / E0), init_charge(representation)\n",
                "        x0s[i, :], p0s[i, :], q0s[i, :] = x0, p0, q0\n",
                "\n",
                "    wong_solver.initialize(x0s, p0s, q0s, masses)\n",
                "\n",
                "    mom_broad_T, mom_broad_L = np.zeros(maxt-formt), np.zeros(maxt-formt)\n",
                "    casimirs = np.zeros((maxt-formt, ntp, su.CASIMIRS))\n",
                "\n",
                "    with tqdm(total=maxt) as pbar:\n",
                "        for t in range(maxt):\n",
                "            # Evolve Glasma fields\n",
                "            core.evolve_leapfrog(s)\n",
                "\n",
                "            # Solve Wong's equations\n",
                "            if t>=formt:  \n",
                "                mom_broad = wong_solver.p_sq_mean \n",
                "                mom_broad_T[t-formt] = (mom_broad[0] + mom_broad[1]) * E0**2\n",
                "                mom_broad_L[t-formt] = mom_broad[2] * E0**2\n",
                "\n",
                "                wong_solver.evolve()\n",
                "                wong_solver.compute_mom_broad()\n",
                "\n",
                "                wong_solver.compute_casimirs(representation)\n",
                "                casimirs[t-formt] = wong_solver.c.copy()\n",
                "\n",
                "            pbar.set_description(\"Event \" + str(ev+1))\n",
                "            pbar.update(1)\n",
                "\n",
                "    output[\"mom_broad_T\"], output[\"mom_broad_L\"] = mom_broad_T, mom_broad_L\n",
                "    output[\"casimirs\"] = casimirs\n",
                "\n",
                "    return output"
            ]
        },
        {
            "cell_type": "markdown",
            "metadata": {},
            "source": [
                "### Running the Wong solver over multiple Glasma events"
            ]
        },
        {
            "cell_type": "code",
            "execution_count": 4,
            "metadata": {},
            "outputs": [
                {
                    "name": "stdout",
                    "output_type": "stream",
                    "text": [
                        "SU(2) gauge group\n",
                        "Adjoint representation\n"
                    ]
                },
                {
                    "name": "stderr",
                    "output_type": "stream",
                    "text": [
                        "Event 1: 100%|██████████| 983/983 [01:28<00:00, 11.12it/s]\n",
                        "Event 2: 100%|██████████| 983/983 [01:24<00:00, 11.57it/s]\n",
                        "Event 3: 100%|██████████| 983/983 [01:25<00:00, 11.56it/s]\n",
                        "Event 4: 100%|██████████| 983/983 [01:25<00:00, 11.53it/s]\n",
                        "Event 5: 100%|██████████| 983/983 [01:25<00:00, 11.54it/s]\n",
                        "Event 6: 100%|██████████| 983/983 [01:25<00:00, 11.55it/s]\n",
                        "Event 7: 100%|██████████| 983/983 [01:25<00:00, 11.56it/s]\n",
                        "Event 8: 100%|██████████| 983/983 [01:25<00:00, 11.56it/s]\n",
                        "Event 9: 100%|██████████| 983/983 [01:25<00:00, 11.56it/s]\n",
                        "Event 10: 100%|██████████| 983/983 [01:25<00:00, 11.55it/s]\n",
                        "Event 11: 100%|██████████| 983/983 [01:25<00:00, 11.55it/s]\n",
                        "Event 12: 100%|██████████| 983/983 [01:25<00:00, 11.55it/s]\n",
                        "Event 13: 100%|██████████| 983/983 [01:25<00:00, 11.56it/s]\n",
                        "Event 14: 100%|██████████| 983/983 [01:25<00:00, 11.56it/s]\n",
                        "Event 15: 100%|██████████| 983/983 [01:25<00:00, 11.55it/s]\n",
                        "Event 16: 100%|██████████| 983/983 [01:25<00:00, 11.56it/s]\n",
                        "Event 17: 100%|██████████| 983/983 [01:25<00:00, 11.55it/s]\n",
                        "Event 18: 100%|██████████| 983/983 [01:25<00:00, 11.55it/s]\n",
                        "Event 19: 100%|██████████| 983/983 [01:25<00:00, 11.55it/s]\n",
                        "Event 20: 100%|██████████| 983/983 [01:25<00:00, 11.55it/s]\n"
                    ]
                },
                {
                    "name": "stdout",
                    "output_type": "stream",
                    "text": [
                        "Fundamental representation\n"
                    ]
                },
                {
                    "name": "stderr",
                    "output_type": "stream",
                    "text": [
                        "Event 1: 100%|██████████| 983/983 [01:25<00:00, 11.55it/s]\n",
                        "Event 2: 100%|██████████| 983/983 [01:25<00:00, 11.55it/s]\n",
                        "Event 3: 100%|██████████| 983/983 [01:25<00:00, 11.54it/s]\n",
                        "Event 4: 100%|██████████| 983/983 [01:25<00:00, 11.54it/s]\n",
                        "Event 5: 100%|██████████| 983/983 [01:25<00:00, 11.56it/s]\n",
                        "Event 6: 100%|██████████| 983/983 [01:25<00:00, 11.54it/s]\n",
                        "Event 7: 100%|██████████| 983/983 [01:25<00:00, 11.55it/s]\n",
                        "Event 8: 100%|██████████| 983/983 [01:25<00:00, 11.54it/s]\n",
                        "Event 9: 100%|██████████| 983/983 [01:25<00:00, 11.54it/s]\n",
                        "Event 10: 100%|██████████| 983/983 [01:25<00:00, 11.55it/s]\n",
                        "Event 11: 100%|██████████| 983/983 [01:25<00:00, 11.55it/s]\n",
                        "Event 12: 100%|██████████| 983/983 [01:25<00:00, 11.54it/s]\n",
                        "Event 13: 100%|██████████| 983/983 [01:25<00:00, 11.55it/s]\n",
                        "Event 14: 100%|██████████| 983/983 [01:25<00:00, 11.55it/s]\n",
                        "Event 15: 100%|██████████| 983/983 [01:25<00:00, 11.55it/s]\n",
                        "Event 16: 100%|██████████| 983/983 [01:25<00:00, 11.55it/s]\n",
                        "Event 17: 100%|██████████| 983/983 [01:25<00:00, 11.55it/s]\n",
                        "Event 18: 100%|██████████| 983/983 [01:25<00:00, 11.55it/s]\n",
                        "Event 19: 100%|██████████| 983/983 [01:25<00:00, 11.56it/s]\n",
                        "Event 20: 100%|██████████| 983/983 [01:25<00:00, 11.54it/s]\n"
                    ]
                }
            ],
            "source": [
                "print(su_group[0:2].upper() + '(' + su_group[2] + ')' + ' gauge group')\n",
                "representations = ['adjoint', 'fundamental']\n",
                "\n",
                "mom_broad_T, mom_broad_L = {}, {}\n",
                "casimirs = {}\n",
                "\n",
                "for representation in representations:\n",
                "    p[\"representation\"] =  representation\n",
                "    print(representation.capitalize() + ' representation')\n",
                "\n",
                "    mom_broads_T, mom_broads_L = [], []\n",
                "    for ev in range(nevents):\n",
                "        output = simulate(p, ev)\n",
                "        mom_broads_T.append(output[\"mom_broad_T\"])\n",
                "        mom_broads_L.append(output[\"mom_broad_L\"])\n",
                "        if ev==0:\n",
                "            casimirs[representation] = output[\"casimirs\"]\n",
                "\n",
                "    mom_broad_T[representation] = np.mean(mom_broads_T, axis=0)\n",
                "    mom_broad_L[representation] = np.mean(mom_broads_L, axis=0)\n",
                "\n",
                "formt, maxt = int(tau_form / L * N * DTS), int(tau_sim / L * N * DTS)\n",
                "tau = np.linspace(tau_form, tau_sim, maxt-formt)\n",
                "\n",
                "output = {}\n",
                "output[\"mom_broad_T\"], output[\"mom_broad_L\"], output[\"tau\"] = mom_broad_T, mom_broad_L, tau\n",
                "output[\"representations\"] = representations\n",
                "output[\"casimirs\"] = casimirs\n",
                "\n",
                "# filename = 'casimir_scaling_' + su_group + '.pickle'\n",
                "filename = 'casimir_scaling_' + su_group + '_dilute.pickle'\n",
                "with open(filename, 'wb') as handle:\n",
                "    pickle.dump(output, handle)"
            ]
        },
        {
            "cell_type": "markdown",
            "metadata": {},
            "source": [
                "### Read data from files using Julia"
            ]
        },
        {
            "cell_type": "code",
            "execution_count": 1,
            "metadata": {},
            "outputs": [
                {
                    "data": {
                        "text/plain": [
                            "2-element Vector{Any}:\n",
                            " \"adjoint\"\n",
                            " \"fundamental\""
                        ]
                    },
                    "metadata": {},
                    "output_type": "display_data"
                }
            ],
            "source": [
                "using Pickle\n",
                "\n",
                "su_groups = [\"su2\", \"su3\"]\n",
                "results = Dict()\n",
                "results[\"dilute\"], results[\"dense\"] = Dict(), Dict()\n",
                "for su_group in su_groups\n",
                "    results[\"dense\"][su_group] = Pickle.npyload(\"results/casimir_scaling_\" * su_group * \".pickle\")\n",
                "    results[\"dilute\"][su_group] = Pickle.npyload(\"results/casimir_scaling_\" * su_group * \"_dilute.pickle\")\n",
                "end\n",
                "representations = results[\"dense\"][\"su2\"][\"representations\"]"
            ]
        },
        {
            "cell_type": "code",
            "execution_count": 2,
            "metadata": {},
            "outputs": [
                {
                    "data": {
                        "text/plain": [
                            "2"
                        ]
                    },
                    "metadata": {},
                    "output_type": "display_data"
                }
            ],
            "source": [
                "hbarc = 0.197326 \n",
                "Qs = 2"
            ]
        },
        {
            "cell_type": "code",
            "execution_count": 3,
            "metadata": {},
            "outputs": [],
            "source": [
                "DR, CR = Dict(), Dict()\n",
                "QsR = Dict()\n",
                "Nc = [2, 3]\n",
                "for (i, su_group) in enumerate(su_groups)\n",
                "    N = Nc[i]\n",
                "    DR[su_group], CR[su_group] = Dict(), Dict()\n",
                "    DR[su_group][\"fundamental\"], DR[su_group][\"adjoint\"] = N, N^2-1\n",
                "    CR[su_group][\"fundamental\"], CR[su_group][\"adjoint\"] = (N^2-1)/(2*N), N\n",
                "end\n",
                "\n",
                "for (i, su_group) in enumerate(su_groups)\n",
                "    N = Nc[i]\n",
                "    QsR[su_group] = Dict()\n",
                "    for (j, repr) in enumerate(representations)\n",
                "        QsR[su_group][repr] = Qs*sqrt(CR[su_group][repr]/CR[\"su3\"][\"adjoint\"])\n",
                "    end\n",
                "end"
            ]
        },
        {
            "cell_type": "code",
            "execution_count": 4,
            "metadata": {},
            "outputs": [
                {
                    "data": {
                        "text/plain": [
                            "string_as_varname (generic function with 1 method)"
                        ]
                    },
                    "metadata": {},
                    "output_type": "display_data"
                }
            ],
            "source": [
                "function string_as_varname(s::AbstractString,v::Any)\n",
                "    s=Symbol(s)\n",
                "    return @eval (($s) = ($v))\n",
                "end"
            ]
        },
        {
            "cell_type": "code",
            "execution_count": 5,
            "metadata": {},
            "outputs": [
                {
                    "data": {
                        "image/png": "[encoded data removed]",
                        "text/plain": [
                            "Scene (450px, 500px):\n",
                            "  36 Plots:\n",
                            "    ├ Combined{Makie.poly, Tuple{Vector{Vector{Point{2, Float32}}}}}\n",
                            "    ├ LineSegments{Tuple{Vector{Point{2, Float32}}}}\n",
                            "    ├ LineSegments{Tuple{Vector{Point{2, Float32}}}}\n",
                            "    ├ LineSegments{Tuple{Vector{Point{2, Float32}}}}\n",
                            "    ├ LineSegments{Tuple{Vector{Point{2, Float32}}}}\n",
                            "    ├ LineSegments{Tuple{Vector{Point{2, Float32}}}}\n",
                            "    ├ LineSegments{Tuple{Vector{Point{2, Float32}}}}\n",
                            "    ├ MakieCore.Text{Tuple{LaTeXStrings.LaTeXString}}\n",
                            "    ├ Lines{Tuple{Vector{Point{2, Float32}}}}\n",
                            "    ├ MakieCore.Text{Tuple{Vector{Tuple{AbstractString, Point{2, Float32}}}}}\n",
                            "    ├ LineSegments{Tuple{Vector{Point{2, Float32}}}}\n",
                            "    ├ LineSegments{Tuple{Vector{Point{2, Float32}}}}\n",
                            "    ├ MakieCore.Text{Tuple{LaTeXStrings.LaTeXString}}\n",
                            "    ├ Lines{Tuple{Vector{Point{2, Float32}}}}\n",
                            "    ├ MakieCore.Text{Tuple{Vector{Tuple{AbstractString, Point{2, Float32}}}}}\n",
                            "    ├ Lines{Tuple{Vector{Point{2, Float32}}}}\n",
                            "    ├ Lines{Tuple{Vector{Point{2, Float32}}}}\n",
                            "    ├ MakieCore.Text{Tuple{String}}\n",
                            "    ├ Combined{Makie.poly, Tuple{Vector{Vector{Point{2, Float32}}}}}\n",
                            "    ├ LineSegments{Tuple{Vector{Point{2, Float32}}}}\n",
                            "    ├ LineSegments{Tuple{Vector{Point{2, Float32}}}}\n",
                            "    ├ LineSegments{Tuple{Vector{Point{2, Float32}}}}\n",
                            "    ├ LineSegments{Tuple{Vector{Point{2, Float32}}}}\n",
                            "    ├ LineSegments{Tuple{Vector{Point{2, Float32}}}}\n",
                            "    ├ LineSegments{Tuple{Vector{Point{2, Float32}}}}\n",
                            "    ├ MakieCore.Text{Tuple{LaTeXStrings.LaTeXString}}\n",
                            "    ├ Lines{Tuple{Vector{Point{2, Float32}}}}\n",
                            "    ├ MakieCore.Text{Tuple{Vector{Tuple{AbstractString, Point{2, Float32}}}}}\n",
                            "    ├ LineSegments{Tuple{Vector{Point{2, Float32}}}}\n",
                            "    ├ LineSegments{Tuple{Vector{Point{2, Float32}}}}\n",
                            "    ├ MakieCore.Text{Tuple{LaTeXStrings.LaTeXString}}\n",
                            "    ├ Lines{Tuple{Vector{Point{2, Float32}}}}\n",
                            "    ├ MakieCore.Text{Tuple{Vector{Tuple{AbstractString, Point{2, Float32}}}}}\n",
                            "    ├ Lines{Tuple{Vector{Point{2, Float32}}}}\n",
                            "    ├ Lines{Tuple{Vector{Point{2, Float32}}}}\n",
                            "    └ MakieCore.Text{Tuple{String}}\n",
                            "  4 Child Scenes:\n",
                            "    ├ Scene (358px, 267px)\n",
                            "    ├ Scene (358px, 134px)\n",
                            "    ├ Scene (450px, 500px)\n",
                            "    └ Scene (450px, 500px)"
                        ]
                    },
                    "metadata": {},
                    "output_type": "display_data"
                },
                {
                    "data": {
                        "text/plain": [
                            "CairoScreen{Cairo.CairoSurfaceBase{UInt32}} with surface:\n",
                            "Cairo.CairoSurfaceBase{UInt32}(Ptr{Nothing} @0x000000000b1aec00, 2250.0, 2500.0)\n"
                        ]
                    },
                    "metadata": {},
                    "output_type": "display_data"
                }
            ],
            "source": [
                "using CairoMakie\n",
                "using ColorSchemes\n",
                "using UnicodeFun\n",
                "\n",
                "custom_colors = [\"#9300d3\", \"#019d73\", \"#57b5e8\"]\n",
                "colors = [custom_colors[1], custom_colors[2], custom_colors[3]]\n",
                "width_line = 1.5\n",
                "\n",
                "fig = Figure(resolution = (450, 500), font = \"CMU Serif\")\n",
                "ylabels = [L\"\\langle \\delta p_T^2\\,\\rangle_R^{\\mathrm{SU}(N_c)}\\,\\mathrm{[GeV^2]}\", L\"\\langle \\delta p_T^2\\,\\rangle^\\mathrm{SU(3)}/\\langle \\delta p_T^2\\,\\rangle^\\mathrm{SU(2)}\"]\n",
                "axes = [Axis(fig[j, 1], \n",
                "        xlabel=L\"\\tau\\,\\mathrm{[fm/}c\\mathrm{]}\", ylabel=ylabels[j],\n",
                "        xlabelsize = 18, ylabelsize= 18, xticklabelsize=14, yticklabelsize=14,\n",
                "        xtickalign = 1, xticksize=4, ytickalign=1, yticksize=4,  xlabelpadding = -5) for j in 1:2] \n",
                "\n",
                "hidexdecorations!(axes[1], ticks = false, ticklabels = false, grid=false)\n",
                "rowsize!(fig.layout, 1, Relative(2/3))\n",
                "rowsize!(fig.layout, 2, Relative(1/3))\n",
                "rowgap!(fig.layout, 10)\n",
                "\n",
                "linestyles = [:dash, nothing]\n",
                "\n",
                "tau = results[\"dense\"][\"su2\"][\"tau\"]\n",
                "\n",
                "for (i,su_group) in enumerate(su_groups)\n",
                "        mom_broad_adj, mom_broad_fund = results[\"dense\"][su_group][\"mom_broad_T\"][\"adjoint\"]/DR[su_group][\"adjoint\"], results[\"dense\"][su_group][\"mom_broad_T\"][\"fundamental\"]/DR[su_group][\"fundamental\"]\n",
                "        ratio = mom_broad_adj./mom_broad_fund\n",
                "        tau = results[\"dense\"][su_group][\"tau\"]\n",
                "\n",
                "        string_as_varname(su_group*\"_adj\", lines!(axes[1], tau, mom_broad_adj, linewidth = width_line, color=colors[3], linestyle=linestyles[i]))\n",
                "        string_as_varname(su_group*\"_fund\", lines!(axes[1], tau, mom_broad_fund, linewidth = width_line, color=colors[2], linestyle=linestyles[i]))\n",
                "        string_as_varname(su_group*\"_ratio\", lines!(axes[1], tau, ratio, linewidth = width_line, color=colors[1], linestyle=linestyles[i]))\n",
                "        if i==1 \n",
                "                lines!(axes[1], tau, mom_broad_adj, linewidth = width_line, color=(colors[3], 0.4))\n",
                "                lines!(axes[1], tau, mom_broad_fund, linewidth = width_line, color=(colors[2], 0.4))\n",
                "                lines!(axes[1], tau, ratio, linewidth = width_line, color=(colors[1], 0.4))                \n",
                "        end\n",
                "end\n",
                "\n",
                "color_index = [3, 2]\n",
                "for (i, repr) in enumerate(representations)\n",
                "        mom_broad_su2, mom_broad_su3 = results[\"dense\"][\"su2\"][\"mom_broad_T\"][repr]/DR[\"su2\"][repr], results[\"dense\"][\"su3\"][\"mom_broad_T\"][repr]/DR[\"su3\"][repr]\n",
                "        band!(axes[1], tau, mom_broad_su2, mom_broad_su3, color=(colors[color_index[i]], 0.05))\n",
                "end\n",
                "\n",
                "ratio_su2 = (results[\"dense\"][\"su2\"][\"mom_broad_T\"][\"adjoint\"]./DR[\"su2\"][\"adjoint\"])./(results[\"dense\"][\"su2\"][\"mom_broad_T\"][\"fundamental\"]./DR[\"su2\"][\"fundamental\"])\n",
                "ratio_su3 = (results[\"dense\"][\"su3\"][\"mom_broad_T\"][\"adjoint\"]./DR[\"su3\"][\"adjoint\"])./(results[\"dense\"][\"su3\"][\"mom_broad_T\"][\"fundamental\"]./DR[\"su3\"][\"fundamental\"])\n",
                "band!(axes[1], tau, ratio_su2, ratio_su3, color=(colors[1], 0.05))\n",
                "\n",
                "axes[1].xticks = ([0, 0.5, 1, 1.5, 2], [\"0\", \"0.5\", \"1\", \"1.5\", \"2\"])\n",
                "axes[2].xticks = ([0, 0.5, 1, 1.5, 2], [\"0\", \"0.5\", \"1\", \"1.5\", \"2\"])\n",
                "\n",
                "\n",
                "ylims!(axes[1], -0.2, 4)\n",
                "xlims!(axes[1], 0, 1.5)\n",
                "axes[1].yticks = ([1, 2, 9/4, 8/3, 3, 4], [\"1\", \"2\", \"9/4\", \"8/3\", \"3\", \"4\"])\n",
                "\n",
                "su2 = [LineElement(color = colors[3], linestyle = \"-\", linewidth = width_line), LineElement(color = (colors[3], 0.4), linewidth = width_line)]\n",
                "su3 = [LineElement(color = colors[3], linewidth = width_line)]\n",
                "\n",
                "\n",
                "legend_repr = [L\"A\", L\"F\",L\"A/F\", ]\n",
                "axislegend(axes[1], [su3_adj, su3_fund, su3_ratio], legend_repr, L\"R\\quad\", labelsize=16, \n",
                "bgcolor = (:white, 0.7), framecolor=(:grey80, 0),\n",
                "        orientation = :horizontal, position=:lt,               \n",
                "        titleposition = :left, titlesize=16, \n",
                ")\n",
                "\n",
                "legend_sugroup = [L\"\\mathrm{SU(2)}\", L\"\\mathrm{SU(3)}\"]\n",
                "axislegend(axes[1], [su2, su3], legend_sugroup, labelsize=16, \n",
                "orientation = :horizontal, position = :rb, \n",
                "bgcolor = (:white, 0.7), framecolor=(:grey80, 0))\n",
                "\n",
                "colors_reversed = reverse([colors[1], colors[2], colors[3]])\n",
                "ratio = Dict()\n",
                "for (i, representation) in enumerate(representations)\n",
                "        mom_broad_su2, mom_broad_su3 = results[\"dense\"][\"su2\"][\"mom_broad_T\"][representation]./DR[\"su2\"][representation], results[\"dense\"][\"su3\"][\"mom_broad_T\"][representation]./DR[\"su3\"][representation]\n",
                "        ratio[representation] = mom_broad_su3./mom_broad_su2\n",
                "        tau = results[\"dense\"][\"su2\"][\"tau\"]\n",
                "        string_as_varname(\"ratio_\"*representation, lines!(axes[2], tau, ratio[representation], linewidth = 1.5, color=colors_reversed[i]))\n",
                "end\n",
                "\n",
                "\n",
                "xlims!(axes[2], 0, 1.5)\n",
                "\n",
                "lines!(axes[2], tau, ones(length(tau)), color=(:gray, 0.7), linewidth=width_line+0.3, linestyle=:dash)\n",
                "lines!(axes[2], tau, ones(length(tau)), color=(:gray, 0.4), linewidth=width_line+0.3)\n",
                "ylims!(axes[2], 0.8, 3.2)\n",
                "axes[2].yticks = ([1, 2, 3], [\"1\", \"2\", \"3\"])\n",
                "\n",
                "display(fig)\n",
                "save(\"plots/casimir_scaling_ratio_su2+su3.pdf\", fig) \n",
                "save(\"plots/casimir_scaling_ratio_su2+su3.png\", fig, px_per_unit=5.0) "
            ]
        },
        {
            "cell_type": "code",
            "execution_count": 8,
            "metadata": {},
            "outputs": [
                {
                    "data": {
                        "image/png": "[encoded data removed]",
                        "text/plain": [
                            "Scene (400px, 300px):\n",
                            "  18 Plots:\n",
                            "    ├ Combined{Makie.poly, Tuple{Vector{Vector{Point{2, Float32}}}}}\n",
                            "    ├ LineSegments{Tuple{Vector{Point{2, Float32}}}}\n",
                            "    ├ LineSegments{Tuple{Vector{Point{2, Float32}}}}\n",
                            "    ├ LineSegments{Tuple{Vector{Point{2, Float32}}}}\n",
                            "    ├ LineSegments{Tuple{Vector{Point{2, Float32}}}}\n",
                            "    ├ LineSegments{Tuple{Vector{Point{2, Float32}}}}\n",
                            "    ├ LineSegments{Tuple{Vector{Point{2, Float32}}}}\n",
                            "    ├ MakieCore.Text{Tuple{LaTeXStrings.LaTeXString}}\n",
                            "    ├ Lines{Tuple{Vector{Point{2, Float32}}}}\n",
                            "    ├ MakieCore.Text{Tuple{Vector{Tuple{AbstractString, Point{2, Float32}}}}}\n",
                            "    ├ LineSegments{Tuple{Vector{Point{2, Float32}}}}\n",
                            "    ├ LineSegments{Tuple{Vector{Point{2, Float32}}}}\n",
                            "    ├ MakieCore.Text{Tuple{LaTeXStrings.LaTeXString}}\n",
                            "    ├ Lines{Tuple{Vector{Point{2, Float32}}}}\n",
                            "    ├ MakieCore.Text{Tuple{Vector{Tuple{AbstractString, Point{2, Float32}}}}}\n",
                            "    ├ Lines{Tuple{Vector{Point{2, Float32}}}}\n",
                            "    ├ Lines{Tuple{Vector{Point{2, Float32}}}}\n",
                            "    └ MakieCore.Text{Tuple{String}}\n",
                            "  3 Child Scenes:\n",
                            "    ├ Scene (303px, 229px)\n",
                            "    ├ Scene (400px, 300px)\n",
                            "    └ Scene (400px, 300px)"
                        ]
                    },
                    "metadata": {},
                    "output_type": "display_data"
                }
            ],
            "source": [
                "using CairoMakie\n",
                "using ColorSchemes\n",
                "using UnicodeFun\n",
                "\n",
                "custom_colors = [\"#9300d3\", \"#019d73\", \"#57b5e8\"]\n",
                "colors = [custom_colors[1], custom_colors[2], custom_colors[3]]\n",
                "width_line = 1.5\n",
                "\n",
                "fig = Figure(resolution = (400, 300), font = \"CMU Serif\")\n",
                "axes = Axis(fig[1, 1], \n",
                "        xlabel=L\"\\tau\\,\\mathrm{[fm/c]}\", ylabel=L\"\\langle \\delta p_T^2\\,\\rangle_R^\\mathrm{SU(3)}/\\langle \\delta p_T^2\\,\\rangle_R^\\mathrm{SU(2)}\",\n",
                "        xlabelsize = 18, ylabelsize= 18, xticklabelsize=14, yticklabelsize=14,\n",
                "        xtickalign = 1, xticksize=4, ytickalign=1, yticksize=4,  xlabelpadding = -5) \n",
                "\n",
                "\n",
                "linestyles = [:dash, nothing]\n",
                "tau = results[\"dense\"][\"su2\"][\"tau\"]\n",
                "\n",
                "colors_reversed = reverse([colors[1], colors[2], colors[3]])\n",
                "ratio = Dict()\n",
                "for (i, representation) in enumerate(representations)\n",
                "        mom_broad_su2, mom_broad_su3 = results[\"dense\"][\"su2\"][\"mom_broad_T\"][representation]./DR[\"su2\"][representation], results[\"dense\"][\"su3\"][\"mom_broad_T\"][representation]./DR[\"su3\"][representation]\n",
                "        ratio[representation] = mom_broad_su3./mom_broad_su2\n",
                "        tau = results[\"dense\"][\"su2\"][\"tau\"]\n",
                "        string_as_varname(\"ratio_\"*representation, lines!(axes, tau, ratio[representation], linewidth = 1.5, color=colors_reversed[i]))\n",
                "end\n",
                "\n",
                "legend_repr = [L\"A\", L\"F\"]\n",
                "axislegend(axes, [ratio_adjoint, ratio_fundamental], legend_repr, L\"R\\quad\", labelsize=16, \n",
                "bgcolor = (:white, 0.7), framecolor=(:grey80, 0),\n",
                "        orientation = :horizontal, position=(1, 1),               \n",
                "        titleposition = :left, titlesize=16, \n",
                ")\n",
                "\n",
                "xlims!(axes, 0, 2)\n",
                "axes.xticks = ([0, 0.5, 1, 1.5, 2], [\"0\", \"0.5\", \"1\", \"1.5\", \"2\"])\n",
                "\n",
                "# v1\n",
                "ylims!(axes, 1.4, 3.1)\n",
                "axes.yticks = ([3/2, 16/9, 2, 2.5, 3], [\"3/2\", \"16/9\", \"2\", \"2.5\", \"3\"])\n",
                "\n",
                "dense = lines!(axes, tau, 3/2*ones(length(tau)), color=colors[3], linestyle=:dash)\n",
                "dilute = lines!(axes, tau, 3/2*ones(length(tau)), color=(colors[3], 0.4))\n",
                "\n",
                "lines!(axes, tau, 16/9*ones(length(tau)), color=colors[2], linestyle=:dash)\n",
                "lines!(axes, tau, 16/9*ones(length(tau)), color=(colors[2], 0.4))\n",
                "\n",
                "# v2\n",
                "# ylims!(axes, 1.5, 3.5)\n",
                "# axes.yticks = ([2, 8/3, 9/4, 3], [\"2\", \"8/3\", \"9/4\", \"3\"])\n",
                "\n",
                "# v2\n",
                "# dense = lines!(axes, tau, 9/4*ones(length(tau)), color=colors[3], linestyle=:dash)\n",
                "# dilute = lines!(axes, tau, 9/4*ones(length(tau)), color=(colors[3], 0.4))\n",
                "\n",
                "# lines!(axes, tau, 8/3*ones(length(tau)), color=colors[2], linestyle=:dash)\n",
                "# lines!(axes, tau, 8/3*ones(length(tau)), color=(colors[2], 0.4))\n",
                "\n",
                "legend_glasma = [L\"\\mathrm{dilute}\", L\"\\mathrm{dense}\"]\n",
                "axislegend(axes, [[dilute, dense], ratio_adjoint], legend_glasma, labelsize=16, position = (1,0.8), \n",
                "orientation = :horizontal, bgcolor = (:white, 0.7), framecolor=(:grey80, 0))\n",
                "\n",
                "display(fig)\n",
                "\n",
                "# save(\"plots/ratio_su2su3_v1_casimir.pdf\", fig) \n",
                "# save(\"plots/ratio_su2su3_v1_casimir.png\", fig, px_per_unit=5.0) \n",
                "\n",
                "# save(\"plots/ratio_su2su3_v2_paper.pdf\", fig) \n",
                "# save(\"plots/ratio_su2su3_v2_paper.png\", fig, px_per_unit=5.0) "
            ]
        },
        {
            "cell_type": "code",
            "execution_count": 9,
            "metadata": {},
            "outputs": [
                {
                    "data": {
                        "image/png": "[encoded data removed]",
                        "text/plain": [
                            "Scene (400px, 300px):\n",
                            "  18 Plots:\n",
                            "    ├ Combined{Makie.poly, Tuple{Vector{Vector{Point{2, Float32}}}}}\n",
                            "    ├ LineSegments{Tuple{Vector{Point{2, Float32}}}}\n",
                            "    ├ LineSegments{Tuple{Vector{Point{2, Float32}}}}\n",
                            "    ├ LineSegments{Tuple{Vector{Point{2, Float32}}}}\n",
                            "    ├ LineSegments{Tuple{Vector{Point{2, Float32}}}}\n",
                            "    ├ LineSegments{Tuple{Vector{Point{2, Float32}}}}\n",
                            "    ├ LineSegments{Tuple{Vector{Point{2, Float32}}}}\n",
                            "    ├ MakieCore.Text{Tuple{LaTeXStrings.LaTeXString}}\n",
                            "    ├ Lines{Tuple{Vector{Point{2, Float32}}}}\n",
                            "    ├ MakieCore.Text{Tuple{Vector{Tuple{AbstractString, Point{2, Float32}}}}}\n",
                            "    ├ LineSegments{Tuple{Vector{Point{2, Float32}}}}\n",
                            "    ├ LineSegments{Tuple{Vector{Point{2, Float32}}}}\n",
                            "    ├ MakieCore.Text{Tuple{LaTeXStrings.LaTeXString}}\n",
                            "    ├ Lines{Tuple{Vector{Point{2, Float32}}}}\n",
                            "    ├ MakieCore.Text{Tuple{Vector{Tuple{AbstractString, Point{2, Float32}}}}}\n",
                            "    ├ Lines{Tuple{Vector{Point{2, Float32}}}}\n",
                            "    ├ Lines{Tuple{Vector{Point{2, Float32}}}}\n",
                            "    └ MakieCore.Text{Tuple{String}}\n",
                            "  3 Child Scenes:\n",
                            "    ├ Scene (305px, 224px)\n",
                            "    ├ Scene (400px, 300px)\n",
                            "    └ Scene (400px, 300px)"
                        ]
                    },
                    "metadata": {},
                    "output_type": "display_data"
                },
                {
                    "data": {
                        "text/plain": [
                            "CairoScreen{Cairo.CairoSurfaceIOStream{UInt32}} with surface:\n",
                            "Cairo.CairoSurfaceIOStream{UInt32}(Ptr{Nothing} @0x000000000cbda700, 300.0, 225.0, IOContext(IOStream(<file /home/dana/curraun/notebooks/plots/ratio_su2su3_dilute_dense.pdf>)))\n"
                        ]
                    },
                    "metadata": {},
                    "output_type": "display_data"
                }
            ],
            "source": [
                "# using BSplineKit\n",
                "using BasicInterpolators\n",
                "\n",
                "using CairoMakie\n",
                "using ColorSchemes\n",
                "using UnicodeFun\n",
                "\n",
                "custom_colors = [\"#9300d3\", \"#019d73\", \"#57b5e8\"]\n",
                "colors = [custom_colors[1], custom_colors[2], custom_colors[3]]\n",
                "width_line = 1.5\n",
                "\n",
                "fig = Figure(resolution = (400, 300), font = \"CMU Serif\")\n",
                "axes = Axis(fig[1, 1], \n",
                "        xlabel=L\"Q_{s,A}^{\\mathrm{SU}(N_c)}\\tau\", \n",
                "        ylabel=L\"\\langle \\delta \\tilde{p}_T^2\\,\\rangle_R^\\mathrm{SU(3)}/\\langle \\delta \\tilde{p}_T^2\\,\\rangle_R^\\mathrm{SU(2)}\",\n",
                "        xlabelsize = 18, ylabelsize= 18, xticklabelsize=14, yticklabelsize=14,\n",
                "        xtickalign = 1, xticksize=4, ytickalign=1, yticksize=4,  xlabelpadding = -5) \n",
                "\n",
                "\n",
                "linestyles = [:dash, nothing]\n",
                "cases = [\"dilute\", \"dense\"]\n",
                "colors_reversed = reverse([colors[1], colors[2], colors[3]])\n",
                "\n",
                "ratio = Dict()\n",
                "\n",
                "mom_broad = Dict()\n",
                "QsAtau = Dict()\n",
                "for case in cases\n",
                "        QsAtau[case] = Dict()\n",
                "end\n",
                "\n",
                "for group in su_groups\n",
                "        mom_broad[group] = Dict()\n",
                "        tau_dense = results[\"dense\"][group][\"tau\"]\n",
                "        QsAtau[\"dense\"][group] = tau_dense.*QsR[group][\"adjoint\"]/hbarc\n",
                "\n",
                "        tau_dilute = results[\"dilute\"][group][\"tau\"]\n",
                "        QsAtau[\"dilute\"][group] = tau_dilute.*QsR[group][\"adjoint\"]/hbarc\n",
                "end\n",
                "\n",
                "\n",
                "for (c, case) in enumerate(cases)\n",
                "        for (i, representation) in enumerate(representations)\n",
                "\n",
                "                mom_broad_su2 = results[case][\"su2\"][\"mom_broad_T\"][representation]./DR[\"su2\"][representation]./((QsR[\"su2\"][representation])^2)./CR[\"su2\"][\"adjoint\"]\n",
                "                mom_broad_su3 = results[case][\"su3\"][\"mom_broad_T\"][representation]./DR[\"su3\"][representation]./((QsR[\"su3\"][representation])^2)./CR[\"su3\"][\"adjoint\"]\n",
                "                mom_broad[\"su2\"][representation], mom_broad[\"su3\"][representation] = mom_broad_su2, mom_broad_su3\n",
                "\n",
                "                interp_dense = LinearInterpolator(QsAtau[case][\"su3\"], mom_broad_su3)\n",
                "                mom_broad_su3_interp = interp_dense.(QsAtau[case][\"su2\"])\n",
                "\n",
                "                ratio[representation] = mom_broad_su3_interp./mom_broad_su2\n",
                "                string_as_varname(\"ratio_\"*representation, lines!(axes, QsAtau[case][\"su2\"], ratio[representation], linewidth = 1.5, \n",
                "                color=colors_reversed[c], linestyle=linestyles[i]))\n",
                "                if representation==\"adjoint\"\n",
                "                        lines!(axes, QsAtau[case][\"su2\"], ratio[representation], linewidth = 1.5, color=(colors_reversed[c], 0.4))\n",
                "                end\n",
                "        end\n",
                "end\n",
                "\n",
                "xlims!(axes, -0.05, 8)\n",
                "axes.yticks = ([0.5, 0.75, 1], [\"0.5\", \"0.75\", \"1\"])\n",
                "\n",
                "ylims!(axes, 0.4, 1.2)\n",
                "\n",
                "factor = Dict()\n",
                "for repr in representations\n",
                "        factor[repr] = (QsR[\"su2\"][repr]/QsR[\"su3\"][repr])^2\n",
                "end\n",
                "\n",
                "\n",
                "lines!(axes, QsAtau[\"dense\"][\"su2\"], factor[\"adjoint\"]*3/2*ones(length(QsAtau[\"dense\"][\"su2\"])), color=colors[1], linestyle=:dash, linewidth = 1.8)\n",
                "lines!(axes, QsAtau[\"dense\"][\"su2\"], factor[\"adjoint\"]*3/2*ones(length(QsAtau[\"dense\"][\"su2\"])), color=(colors[1], 0.4), linewidth = 1.8)\n",
                "\n",
                "fundamental = lines!(axes, QsAtau[\"dense\"][\"su2\"], factor[\"fundamental\"]*16/9*ones(length(QsAtau[\"dense\"][\"su2\"])), color=colors[1], linewidth = 1.5)\n",
                "\n",
                "adjoint = [LineElement(color = colors[1], linestyle = \"-\", linewidth = width_line), LineElement(color = (colors[1], 0.4), linewidth = width_line)]\n",
                "\n",
                "legend_repr = [L\"A\", L\"F\"]\n",
                "axislegend(axes, [adjoint, fundamental], legend_repr, L\"R\\quad\", labelsize=14, \n",
                "bgcolor = (:white, 0.7), framecolor=(:grey80, 0),\n",
                "        orientation = :horizontal, position=:rb,               \n",
                "        titleposition = :left, titlesize=14, \n",
                ")\n",
                "\n",
                "dilute = [LineElement(color = colors[3], linewidth = width_line)]\n",
                "dense = [LineElement(color = colors[2], linewidth = width_line)]\n",
                "\n",
                "legend_case = [L\"\\mathrm{dense}\", L\"\\mathrm{dilute\\,limit}\", L\"\\mathrm{dilute}\"]\n",
                "axislegend(axes, [dense, dilute, fundamental], legend_case, labelsize=14, \n",
                "bgcolor = (:white, 0.7), framecolor=(:grey80, 0),\n",
                "        orientation = :horizontal, position=:ct,               \n",
                "        titleposition = :left, \n",
                ")\n",
                "\n",
                "display(fig)\n",
                "\n",
                "save(\"plots/ratio_su2su3_dilute_dense.png\", fig, px_per_unit=5.0) \n",
                "save(\"plots/ratio_su2su3_dilute_dense.pdf\", fig) "
            ]
        },
        {
            "cell_type": "code",
            "execution_count": 11,
            "metadata": {},
            "outputs": [
                {
                    "data": {
                        "image/png": "[encoded data removed]",
                        "text/plain": [
                            "Scene (400px, 350px):\n",
                            "  18 Plots:\n",
                            "    ├ Combined{Makie.poly, Tuple{Vector{Vector{Point{2, Float32}}}}}\n",
                            "    ├ LineSegments{Tuple{Vector{Point{2, Float32}}}}\n",
                            "    ├ LineSegments{Tuple{Vector{Point{2, Float32}}}}\n",
                            "    ├ LineSegments{Tuple{Vector{Point{2, Float32}}}}\n",
                            "    ├ LineSegments{Tuple{Vector{Point{2, Float32}}}}\n",
                            "    ├ LineSegments{Tuple{Vector{Point{2, Float32}}}}\n",
                            "    ├ LineSegments{Tuple{Vector{Point{2, Float32}}}}\n",
                            "    ├ MakieCore.Text{Tuple{LaTeXStrings.LaTeXString}}\n",
                            "    ├ Lines{Tuple{Vector{Point{2, Float32}}}}\n",
                            "    ├ MakieCore.Text{Tuple{Vector{Tuple{AbstractString, Point{2, Float32}}}}}\n",
                            "    ├ LineSegments{Tuple{Vector{Point{2, Float32}}}}\n",
                            "    ├ LineSegments{Tuple{Vector{Point{2, Float32}}}}\n",
                            "    ├ MakieCore.Text{Tuple{LaTeXStrings.LaTeXString}}\n",
                            "    ├ Lines{Tuple{Vector{Point{2, Float32}}}}\n",
                            "    ├ MakieCore.Text{Tuple{Vector{Tuple{AbstractString, Point{2, Float32}}}}}\n",
                            "    ├ Lines{Tuple{Vector{Point{2, Float32}}}}\n",
                            "    ├ Lines{Tuple{Vector{Point{2, Float32}}}}\n",
                            "    └ MakieCore.Text{Tuple{String}}\n",
                            "  1 Child Scene:\n",
                            "    └ Scene (323px, 279px)"
                        ]
                    },
                    "metadata": {},
                    "output_type": "display_data"
                },
                {
                    "data": {
                        "text/plain": [
                            "CairoScreen{Cairo.CairoSurfaceBase{UInt32}} with surface:\n",
                            "Cairo.CairoSurfaceBase{UInt32}(Ptr{Nothing} @0x000000000b1676c0, 2000.0, 1750.0)\n"
                        ]
                    },
                    "metadata": {},
                    "output_type": "display_data"
                }
            ],
            "source": [
                "using CairoMakie\n",
                "using ColorSchemes\n",
                "using UnicodeFun\n",
                "\n",
                "custom_colors = [\"#9300d3\", \"#019d73\", \"#57b5e8\"]\n",
                "colors = [custom_colors[1], custom_colors[2], custom_colors[3]]\n",
                "width_line = 1.5\n",
                "\n",
                "fig = Figure(resolution = (400, 350), font = \"CMU Serif\")\n",
                "axes = Axis(fig[1, 1], \n",
                "        xlabel=L\"\\tau\\,\\mathrm{[fm/c]}\", ylabel=L\"\\langle \\delta p_T^2\\,\\rangle_A^{\\mathrm{SU}(3)}/\\langle \\delta p_T^2\\,\\rangle_F^{\\mathrm{SU}(2)}\",\n",
                "        xlabelsize = 18, ylabelsize= 18, xticklabelsize=14, yticklabelsize=14,\n",
                "        xtickalign = 1, xticksize=4, ytickalign=1, yticksize=4,  xlabelpadding = -5) \n",
                "\n",
                "linestyles = [:dash, nothing]\n",
                "\n",
                "tau = results[\"dense\"][\"su2\"][\"tau\"]\n",
                "\n",
                "mom_broad_adj_su3 = results[\"dense\"][\"su3\"][\"mom_broad_T\"][\"adjoint\"]/DR[\"su3\"][\"adjoint\"]       \n",
                "mom_broad_fund_su2 = results[\"dense\"][\"su2\"][\"mom_broad_T\"][\"fundamental\"]/DR[\"su2\"][\"fundamental\"]        \n",
                "\n",
                "lines!(axes, tau, mom_broad_adj_su3./mom_broad_fund_su2, linewidth = width_line, color=colors[3])\n",
                "\n",
                "lines!(axes, tau, 4*ones(length(tau)), color=colors[3], linestyle=:dash)\n",
                "lines!(axes, tau, 4*ones(length(tau)), color=(colors[3], 0.4))\n",
                "\n",
                "xlims!(axes, 0, 2)\n",
                "axes.xticks = ([0, 0.5, 1, 1.5, 2], [\"0\", \"0.5\", \"1\", \"1.5\", \"2\"])\n",
                "\n",
                "\n",
                "display(fig)\n",
                "save(\"plots/casimir_scaling_dense_adjsu3fundsu2.pdf\", fig) \n",
                "save(\"plots/casimir_scaling_dense_adjsu3fundsu2.png\", fig, px_per_unit=5.0) "
            ]
        }
    ],
    "metadata": {
        "kernelspec": {
            "display_name": "Julia 1.6.3",
            "language": "julia",
            "name": "julia-1.6"
        },
        "language_info": {
            "file_extension": ".jl",
            "mimetype": "application/julia",
            "name": "julia",
            "version": "1.6.3"
        },
        "orig_nbformat": 4,
        "vscode": {
            "interpreter": {
                "hash": "50fba519a3e3a4634f635ec7332619e3aceac5abb997750bdb88b5674357649c"
            }
        }
    },
    "nbformat": 4,
    "nbformat_minor": 2
}
