{
 "cells": [
  {
   "cell_type": "markdown",
   "metadata": {},
   "source": [
    "# Coulomb gauge transformation"
   ]
  },
  {
   "cell_type": "markdown",
   "metadata": {},
   "source": [
    "### Simulation parameters"
   ]
  },
  {
   "cell_type": "code",
   "execution_count": 2,
   "metadata": {},
   "outputs": [],
   "source": [
    "import numpy as np\n",
    "\n",
    "# hbar * c [GeV * fm]\n",
    "hbarc = 0.197326 \n",
    "\n",
    "# Simulation box \n",
    "L = 2      \n",
    "N = 256   \n",
    "tau_sim = 0.2     \n",
    "DTS = 8     \n",
    "\n",
    "# Glasma fields\n",
    "su_group = 'su3'\n",
    "Qs = 2        \n",
    "ns = 50    \n",
    "factor = 0.8        \n",
    "g2mu = Qs / factor     \n",
    "g = np.pi * np.sqrt(1 / np.log(Qs / 0.2))          \t\t\n",
    "mu = g2mu / g**2          \t\n",
    "ir = 0.1 * g**2 * mu         \n",
    "uv = 10.0       \n",
    "\n",
    "nevents = 1"
   ]
  },
  {
   "cell_type": "markdown",
   "metadata": {},
   "source": [
    "### Environment variables"
   ]
  },
  {
   "cell_type": "code",
   "execution_count": 4,
   "metadata": {},
   "outputs": [],
   "source": [
    "import os\n",
    "\n",
    "# I need to add this line to ask resources from a specific GPU, which is free. Our GPU server has no queing system\n",
    "os.environ[\"CUDA_VISIBLE_DEVICES\"]=\"3\"\n",
    "\n",
    "os.environ[\"MY_NUMBA_TARGET\"] = \"cuda\"\n",
    "# os.environ[\"MY_NUMBA_TARGET\"] = \"numba\"\n",
    "os.environ[\"PRECISION\"] = \"double\"\n",
    "os.environ['GAUGE_GROUP'] = su_group\n",
    "\n",
    "# Import relevant modules\n",
    "import sys\n",
    "sys.path.append('..')\n",
    "\n",
    "# Glasma modules\n",
    "import curraun.core as core\n",
    "import curraun.mv as mv\n",
    "import curraun.initial as initial\n",
    "initial.DEBUG = False\n",
    "\n",
    "import curraun.su as su\n",
    "import curraun.lattice as latt\n",
    "from curraun.numba_target import use_cuda\n",
    "if use_cuda:\n",
    "    from numba import cuda\n",
    "\n",
    "import curraun.su as su\n",
    "# Number of colors\n",
    "Nc = su.NC\n",
    "# Dimension of algebra \n",
    "Dg = su.GROUP_ELEMENTS"
   ]
  },
  {
   "cell_type": "markdown",
   "metadata": {},
   "source": [
    "### Extract gauge field from gauge link"
   ]
  },
  {
   "cell_type": "code",
   "execution_count": 5,
   "metadata": {},
   "outputs": [],
   "source": [
    "def ln_ah(ui):\n",
    "    buf0 = su.dagger(ui)\n",
    "    buf1 = su.mul_s(buf0, -1)\n",
    "    buf2 = su.add(ui, buf1)\n",
    "    # buf3 = su.mul_s(buf2, -0.5j)\n",
    "    buf3 = su.mul_s(buf2, 0.5)\n",
    "    ai = np.array(buf3)\n",
    "    return ai"
   ]
  },
  {
   "cell_type": "markdown",
   "metadata": {},
   "source": [
    "### Simulate glasma"
   ]
  },
  {
   "cell_type": "code",
   "execution_count": 8,
   "metadata": {},
   "outputs": [],
   "source": [
    "import pickle\n",
    "from tqdm import tqdm\n",
    "\n",
    "# Simulation routine\n",
    "def simulate(): \n",
    "\n",
    "    # Derived parameters\n",
    "    a = L / N\n",
    "    E0 = N / L * hbarc\n",
    "    DT = 1.0 / DTS\n",
    "    maxt = int(tau_sim / a * DTS)\n",
    "\n",
    "    # Initialize Glasma fields\n",
    "    s = core.Simulation(N, DT, g)\n",
    "    va = mv.wilson(s, mu=mu / E0, m=ir / E0, uv=uv / E0, num_sheets=ns)\n",
    "    vb = mv.wilson(s, mu=mu / E0, m=ir / E0, uv=uv / E0, num_sheets=ns)\n",
    "    initial.init(s, va, vb)\n",
    "\n",
    "    # Transverse gauge links\n",
    "    ax = su.GROUP_TYPE(np.zeros((maxt//DTS, N*N, Dg)))\n",
    "    ax_taylor = su.GROUP_TYPE(np.zeros((maxt//DTS, N*N, Dg)))\n",
    "\n",
    "    with tqdm(total=maxt) as pbar:\n",
    "        for t in range(maxt):            \n",
    "            # Evolve Glasma fields\n",
    "            core.evolve_leapfrog(s)\n",
    "\n",
    "            # Copy gauge links and gauge fields from the memory of the GPU\n",
    "            if t%DTS == 0:\n",
    "                ui = s.u1.copy()\n",
    "                ax[t//DTS] = np.apply_along_axis(ln_ah, 1, ui[:, 0, :])\n",
    "                        \n",
    "            pbar.update(1)\n",
    "\n",
    "    if use_cuda:\n",
    "        cuda.current_context().deallocations.clear()\n",
    "\n",
    "    return ax"
   ]
  },
  {
   "cell_type": "markdown",
   "metadata": {},
   "source": [
    "### Run simulations"
   ]
  },
  {
   "cell_type": "code",
   "execution_count": 9,
   "metadata": {},
   "outputs": [],
   "source": [
    "# Supress various horribly long warnings\n",
    "import warnings\n",
    "warnings.filterwarnings('ignore')"
   ]
  }
 ],
 "metadata": {
  "kernelspec": {
   "display_name": "Python 3",
   "language": "python",
   "name": "python3"
  },
  "language_info": {
   "codemirror_mode": {
    "name": "ipython",
    "version": 3
   },
   "file_extension": ".py",
   "mimetype": "text/x-python",
   "name": "python",
   "nbconvert_exporter": "python",
   "pygments_lexer": "ipython3",
   "version": "3.6.8"
  }
 },
 "nbformat": 4,
 "nbformat_minor": 2
}
