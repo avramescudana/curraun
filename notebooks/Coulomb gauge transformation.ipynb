{
 "cells": [
  {
   "cell_type": "markdown",
   "metadata": {},
   "source": [
    "# Coulomb gauge transformation"
   ]
  },
  {
   "cell_type": "markdown",
   "metadata": {},
   "source": [
    "### Simulation parameters"
   ]
  },
  {
   "cell_type": "code",
   "execution_count": 1,
   "metadata": {},
   "outputs": [],
   "source": [
    "import numpy as np\n",
    "\n",
    "# hbar * c [GeV * fm]\n",
    "hbarc = 0.197326 \n",
    "\n",
    "# Simulation box \n",
    "L = 2      \n",
    "N = 64   \n",
    "tau_sim = 0.1     \n",
    "DTS = 4     \n",
    "\n",
    "# Glasma fields\n",
    "su_group = 'su3'\n",
    "Qs = 2        \n",
    "ns = 50    \n",
    "factor = 0.8        \n",
    "g2mu = Qs / factor     \n",
    "g = np.pi * np.sqrt(1 / np.log(Qs / 0.2))          \t\t\n",
    "mu = g2mu / g**2          \t\n",
    "ir = 0.1 * g**2 * mu         \n",
    "uv = 10.0       \n",
    "\n",
    "nevents = 1"
   ]
  },
  {
   "cell_type": "markdown",
   "metadata": {},
   "source": [
    "### Environment variables"
   ]
  },
  {
   "cell_type": "code",
   "execution_count": 2,
   "metadata": {},
   "outputs": [
    {
     "name": "stdout",
     "output_type": "stream",
     "text": [
      "Using CUDA\n",
      "Using SU(3)\n",
      "Using double precision\n"
     ]
    }
   ],
   "source": [
    "import os\n",
    "\n",
    "# I need to add this line to ask resources from a specific GPU, which is free. Our GPU server has no queing system\n",
    "os.environ[\"CUDA_VISIBLE_DEVICES\"]=\"0,1,2,4\"\n",
    "\n",
    "os.environ[\"MY_NUMBA_TARGET\"] = \"cuda\"\n",
    "# os.environ[\"MY_NUMBA_TARGET\"] = \"numba\"\n",
    "os.environ[\"PRECISION\"] = \"double\"\n",
    "os.environ['GAUGE_GROUP'] = su_group\n",
    "\n",
    "# Import relevant modules\n",
    "import sys\n",
    "sys.path.append('..')\n",
    "\n",
    "# Glasma modules\n",
    "import curraun.core as core\n",
    "import curraun.mv as mv\n",
    "import curraun.initial as initial\n",
    "initial.DEBUG = False\n",
    "\n",
    "import curraun.su as su\n",
    "import curraun.lattice as latt\n",
    "from curraun.numba_target import use_cuda\n",
    "if use_cuda:\n",
    "    from numba import cuda\n",
    "\n",
    "import curraun.su as su\n",
    "import curraun.coulomb as coulomb"
   ]
  },
  {
   "cell_type": "markdown",
   "metadata": {},
   "source": [
    "### Simulate glasma"
   ]
  },
  {
   "cell_type": "code",
   "execution_count": 3,
   "metadata": {},
   "outputs": [],
   "source": [
    "niter = 1\n",
    "# alpha abelian should be 1/p^2_max \n",
    "# p_max = 2*pi/L in lattice units 2*pi/N\n",
    "alpha = 1/(2*np.pi/N)**2"
   ]
  },
  {
   "cell_type": "code",
   "execution_count": 4,
   "metadata": {},
   "outputs": [],
   "source": [
    "from numba.core.errors import NumbaPerformanceWarning\n",
    "import warnings\n",
    "\n",
    "warnings.simplefilter('ignore', category=NumbaPerformanceWarning)"
   ]
  },
  {
   "cell_type": "code",
   "execution_count": 5,
   "metadata": {},
   "outputs": [
    {
     "name": "stdout",
     "output_type": "stream",
     "text": [
      "[ 0.92163634+0.16247409j -0.11953315+0.21930026j -0.22855192-0.09783592j\n",
      "  0.11918451+0.22860275j  0.95647261-0.014839j    0.13508971-0.01505174j\n",
      "  0.20720859-0.12161029j -0.13182339+0.07198447j  0.94831001-0.14291427j]\n",
      "[ 0.96307996+0.21812744j  0.06798308-0.10717217j -0.04204003-0.08380019j\n",
      " -0.07686323-0.09296004j  0.89396636-0.4127579j   0.09901926+0.07810712j\n",
      "  0.08727411-0.05226005j -0.0828849 +0.08647303j  0.96618304+0.20443816j]\n"
     ]
    }
   ],
   "source": [
    "import pickle\n",
    "from tqdm import tqdm\n",
    "\n",
    "# Simulation routine\n",
    "# def simulate(): \n",
    "\n",
    "# Derived parameters\n",
    "a = L / N\n",
    "E0 = N / L * hbarc\n",
    "DT = 1.0 / DTS\n",
    "maxt = int(tau_sim / a * DTS)\n",
    "\n",
    "# Initialize Glasma fields\n",
    "s = core.Simulation(N, DT, g)\n",
    "va = mv.wilson(s, mu=mu / E0, m=ir / E0, uv=uv / E0, num_sheets=ns)\n",
    "vb = mv.wilson(s, mu=mu / E0, m=ir / E0, uv=uv / E0, num_sheets=ns)\n",
    "initial.init(s, va, vb)\n",
    "\n",
    "coul = coulomb.CoulombGaugeTransf(s, alpha)\n",
    "\n",
    "# with tqdm(total=maxt) as pbar:\n",
    "# for t in range(maxt):      \n",
    "#TODO: evolve the glasma fields, at the moment consider only 1 evolution step\n",
    "\n",
    "# Evolve Glasma fields\n",
    "core.evolve_leapfrog(s)\n",
    "\n",
    "coulomb.gauge_transform(coul, alpha)\n",
    "delta0 = coul.delta0.copy()\n",
    "# print(delta0)\n",
    "\n",
    "# c = coul.c.copy()\n",
    "# print(c)\n",
    "\n",
    "# thetax = coul.thetax.copy()\n",
    "# print(thetax)\n",
    "\n",
    "# print('theta=', coul.theta)\n",
    "\n",
    "# g1 = coul.g1.copy()\n",
    "# print(g1)\n",
    "\n",
    "ug0 = coul.ug0.copy()\n",
    "print(ug0[1, 0, :])\n",
    "\n",
    "ug1 = coul.ug1.copy()\n",
    "print(ug1[1, 0, :])\n",
    "\n",
    "# pbar.update(1)\n",
    "\n",
    "if use_cuda:\n",
    "    cuda.current_context().deallocations.clear()\n",
    "\n",
    "# return ax"
   ]
  },
  {
   "cell_type": "markdown",
   "metadata": {},
   "source": [
    "### Run simulations"
   ]
  },
  {
   "cell_type": "code",
   "execution_count": 6,
   "metadata": {},
   "outputs": [],
   "source": [
    "# Supress various horribly long warnings\n",
    "import warnings\n",
    "warnings.filterwarnings('ignore')"
   ]
  }
 ],
 "metadata": {
  "kernelspec": {
   "display_name": "Python 3",
   "language": "python",
   "name": "python3"
  },
  "language_info": {
   "codemirror_mode": {
    "name": "ipython",
    "version": 3
   },
   "file_extension": ".py",
   "mimetype": "text/x-python",
   "name": "python",
   "nbconvert_exporter": "python",
   "pygments_lexer": "ipython3",
   "version": "3.6.8"
  }
 },
 "nbformat": 4,
 "nbformat_minor": 2
}
