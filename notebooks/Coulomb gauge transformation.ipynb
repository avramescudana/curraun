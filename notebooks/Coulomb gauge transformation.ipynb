{
 "cells": [
  {
   "cell_type": "markdown",
   "metadata": {},
   "source": [
    "# Coulomb gauge transformation"
   ]
  },
  {
   "cell_type": "markdown",
   "metadata": {},
   "source": [
    "### Simulation parameters"
   ]
  },
  {
   "cell_type": "code",
   "execution_count": 1,
   "metadata": {},
   "outputs": [],
   "source": [
    "import numpy as np\n",
    "\n",
    "# hbar * c [GeV * fm]\n",
    "hbarc = 0.197326 \n",
    "\n",
    "# Simulation box \n",
    "L = 2      \n",
    "N = 64\n",
    "# N = 512  \n",
    "tau_sim = 0.2   \n",
    "DTS = 4     \n",
    "\n",
    "# Glasma fields\n",
    "su_group = 'su3'\n",
    "# Qs = 2\n",
    "Qs = 1\n",
    "\n",
    "ns = 50    \n",
    "factor = 0.8        \n",
    "g2mu = Qs / factor     \n",
    "g = np.pi * np.sqrt(1 / np.log(Qs / 0.2))          \t\t\n",
    "mu = g2mu / g**2          \t\n",
    "ir = 0.1 * g**2 * mu         \n",
    "uv = 10.0       \n",
    "\n",
    "nevents = 1"
   ]
  },
  {
   "cell_type": "markdown",
   "metadata": {},
   "source": [
    "### Environment variables"
   ]
  },
  {
   "cell_type": "code",
   "execution_count": 2,
   "metadata": {},
   "outputs": [
    {
     "name": "stdout",
     "output_type": "stream",
     "text": [
      "Using CUDA\n",
      "Using SU(3)\n",
      "Using double precision\n"
     ]
    }
   ],
   "source": [
    "import os\n",
    "\n",
    "# I need to add this line to ask resources from a specific GPU, which is free. Our GPU server has no queing system\n",
    "# os.environ[\"CUDA_VISIBLE_DEVICES\"]=\"1, 6\"\n",
    "\n",
    "os.environ[\"MY_NUMBA_TARGET\"] = \"cuda\"\n",
    "# os.environ[\"MY_NUMBA_TARGET\"] = \"numba\"\n",
    "os.environ[\"PRECISION\"] = \"double\"\n",
    "os.environ['GAUGE_GROUP'] = su_group\n",
    "\n",
    "# Import relevant modules\n",
    "import sys\n",
    "sys.path.append('..')\n",
    "\n",
    "# Glasma modules\n",
    "import curraun.core as core\n",
    "import curraun.mv as mv\n",
    "import curraun.initial as initial\n",
    "initial.DEBUG = False\n",
    "\n",
    "import curraun.su as su\n",
    "import curraun.lattice as latt\n",
    "from curraun.numba_target import use_cuda\n",
    "if use_cuda:\n",
    "    from numba import cuda\n",
    "\n",
    "import curraun.su as su\n",
    "import curraun.coulomb as coulomb\n",
    "coulomb.DEBUG = True\n",
    "coulomb.TRANS_GLASMA = True\n",
    "\n",
    "import curraun.energy as energy"
   ]
  },
  {
   "cell_type": "markdown",
   "metadata": {},
   "source": [
    "### Simulate glasma"
   ]
  },
  {
   "cell_type": "code",
   "execution_count": 3,
   "metadata": {},
   "outputs": [
    {
     "name": "stdout",
     "output_type": "stream",
     "text": [
      "ed_glasma = 0.0010862593684687336\n",
      "alpha: 0.019261093311212417\n",
      "Maximum iterations reached with accuracy: 1e-4\n",
      "ed_coul = 0.0010862593684687345\n"
     ]
    }
   ],
   "source": [
    "import pickle\n",
    "from tqdm import tqdm\n",
    "\n",
    "# Simulation routine\n",
    "# def simulate(): \n",
    "\n",
    "# Derived parameters\n",
    "a = L / N\n",
    "E0 = N / L * hbarc\n",
    "DT = 1.0 / DTS\n",
    "maxt = int(tau_sim / a * DTS)\n",
    "\n",
    "# Initialize Glasma fields\n",
    "s = core.Simulation(N, DT, g)\n",
    "va = mv.wilson(s, mu=mu / E0, m=ir / E0, uv=uv / E0, num_sheets=ns)\n",
    "vb = mv.wilson(s, mu=mu / E0, m=ir / E0, uv=uv / E0, num_sheets=ns)\n",
    "initial.init(s, va, vb)\n",
    "\n",
    "# if use_cuda:\n",
    "#     s.copy_to_device()\n",
    "\n",
    "# with tqdm(total=maxt) as pbar:\n",
    "#     for t in range(maxt):      \n",
    "#         #TODO: evolve the glasma fields, at the moment consider only 1 evolution step\n",
    "\n",
    "#         # Evolve Glasma fields\n",
    "#         core.evolve_leapfrog(s)\n",
    "\n",
    "#         pbar.update(1)\n",
    "\n",
    "core.evolve_leapfrog(s)\n",
    "\n",
    "ed_glasma = energy.Energy(s)\n",
    "ed_glasma.compute(s)\n",
    "print('ed_glasma =', ed_glasma.energy_density)\n",
    "\n",
    "c = coulomb.CoulombGaugeTransf(s)\n",
    "\n",
    "coulomb.init_gauge_transf(c)\n",
    "coulomb.iter_gauge_transf(c)\n",
    "\n",
    "ed_coul = energy.Energy(c)\n",
    "ed_coul.compute(c)\n",
    "print('ed_coul =', ed_coul.energy_density)\n",
    "\n",
    "if use_cuda:\n",
    "    cuda.current_context().deallocations.clear()"
   ]
  }
 ],
 "metadata": {
  "kernelspec": {
   "display_name": "condacurraun",
   "language": "python",
   "name": "python3"
  },
  "language_info": {
   "codemirror_mode": {
    "name": "ipython",
    "version": 3
   },
   "file_extension": ".py",
   "mimetype": "text/x-python",
   "name": "python",
   "nbconvert_exporter": "python",
   "pygments_lexer": "ipython3",
   "version": "3.6.8"
  }
 },
 "nbformat": 4,
 "nbformat_minor": 2
}
