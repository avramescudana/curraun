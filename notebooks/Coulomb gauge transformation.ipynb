{
 "cells": [
  {
   "cell_type": "markdown",
   "metadata": {},
   "source": [
    "# Coulomb gauge transformation"
   ]
  },
  {
   "cell_type": "markdown",
   "metadata": {},
   "source": [
    "### Simulation parameters"
   ]
  },
  {
   "cell_type": "code",
   "execution_count": null,
   "metadata": {},
   "outputs": [],
   "source": [
    "import numpy as np\n",
    "\n",
    "# hbar * c [GeV * fm]\n",
    "hbarc = 0.197326 \n",
    "\n",
    "# Simulation box \n",
    "L = 2      \n",
    "N = 64 \n",
    "# N = 512  \n",
    "tau_sim = 1.0     \n",
    "DTS = 4     \n",
    "\n",
    "# Glasma fields\n",
    "su_group = 'su3'\n",
    "Qs = 2     \n",
    "\n",
    "ns = 50    \n",
    "factor = 0.8        \n",
    "g2mu = Qs / factor     \n",
    "g = np.pi * np.sqrt(1 / np.log(Qs / 0.2))          \t\t\n",
    "mu = g2mu / g**2          \t\n",
    "ir = 0.1 * g**2 * mu         \n",
    "uv = 10.0       \n",
    "\n",
    "nevents = 1"
   ]
  },
  {
   "cell_type": "markdown",
   "metadata": {},
   "source": [
    "### Environment variables"
   ]
  },
  {
   "cell_type": "code",
   "execution_count": null,
   "metadata": {},
   "outputs": [
    {
     "name": "stdout",
     "output_type": "stream",
     "text": [
      "Using CUDA\n",
      "Using SU(3)\n",
      "Using double precision\n"
     ]
    }
   ],
   "source": [
    "import os\n",
    "\n",
    "# I need to add this line to ask resources from a specific GPU, which is free. Our GPU server has no queing system\n",
    "os.environ[\"CUDA_VISIBLE_DEVICES\"]=\"0,1,4,5,6,7\"\n",
    "\n",
    "os.environ[\"MY_NUMBA_TARGET\"] = \"cuda\"\n",
    "os.environ[\"PRECISION\"] = \"double\"\n",
    "os.environ['GAUGE_GROUP'] = su_group\n",
    "\n",
    "# Import relevant modules\n",
    "import sys\n",
    "sys.path.append('..')\n",
    "\n",
    "# Glasma modules\n",
    "import curraun.core as core\n",
    "import curraun.mv as mv\n",
    "import curraun.initial as initial\n",
    "initial.DEBUG = False\n",
    "\n",
    "import curraun.su as su\n",
    "import curraun.lattice as latt\n",
    "from curraun.numba_target import use_cuda\n",
    "if use_cuda:\n",
    "    from numba import cuda\n",
    "\n",
    "import curraun.su as su\n",
    "import curraun.coulomb as coulomb"
   ]
  },
  {
   "cell_type": "markdown",
   "metadata": {},
   "source": [
    "### Simulate glasma"
   ]
  },
  {
   "cell_type": "code",
   "execution_count": null,
   "metadata": {},
   "outputs": [],
   "source": [
    "niter = 10\n",
    "\n",
    "# alpha abelian\n",
    "factor_alpha = 1.0\n",
    "alpha = 4.0 * (np.sin((np.pi * (N-1)) / N) ** 2 + np.sin((np.pi * (N-1)) / N) ** 2) * factor_alpha"
   ]
  },
  {
   "cell_type": "code",
   "execution_count": 4,
   "metadata": {},
   "outputs": [],
   "source": [
    "from numba.core.errors import NumbaPerformanceWarning\n",
    "import warnings\n",
    "\n",
    "warnings.simplefilter('ignore', category=NumbaPerformanceWarning)"
   ]
  },
  {
   "cell_type": "code",
   "execution_count": null,
   "metadata": {},
   "outputs": [
    {
     "name": "stdout",
     "output_type": "stream",
     "text": [
      "niter= 1\n",
      "theta= 1.201135474612858\n",
      "niter= 2\n",
      "theta= 1.5487818332170829e-06\n",
      "niter= 3\n",
      "theta= 4.098232641920193e-20\n",
      "niter= 4\n",
      "theta= 1.416067715847816e-40\n",
      "niter= 5\n",
      "theta= 5.987293096491756e-68\n",
      "niter= 6\n",
      "theta= 2.947511351147737e-102\n",
      "niter= 7\n",
      "theta= 2.06459900877772e-143\n",
      "niter= 8\n",
      "theta= 2.0394026917280923e-191\n",
      "niter= 9\n",
      "theta= 2.5786226100769e-246\n",
      "niter= 10\n",
      "theta= 4.1896887609857804e-308\n"
     ]
    }
   ],
   "source": [
    "import pickle\n",
    "from tqdm import tqdm\n",
    "\n",
    "# Simulation routine\n",
    "# def simulate(): \n",
    "\n",
    "# Derived parameters\n",
    "a = L / N\n",
    "E0 = N / L * hbarc\n",
    "DT = 1.0 / DTS\n",
    "maxt = int(tau_sim / a * DTS)\n",
    "\n",
    "# Initialize Glasma fields\n",
    "s = core.Simulation(N, DT, g)\n",
    "va = mv.wilson(s, mu=mu / E0, m=ir / E0, uv=uv / E0, num_sheets=ns)\n",
    "vb = mv.wilson(s, mu=mu / E0, m=ir / E0, uv=uv / E0, num_sheets=ns)\n",
    "initial.init(s, va, vb)\n",
    "\n",
    "# with tqdm(total=maxt) as pbar:\n",
    "#     for t in range(maxt):      \n",
    "#         #TODO: evolve the glasma fields, at the moment consider only 1 evolution step\n",
    "\n",
    "#         # Evolve Glasma fields\n",
    "#         core.evolve_leapfrog(s)\n",
    "\n",
    "#         pbar.update(1)\n",
    "\n",
    "core.evolve_leapfrog(s)\n",
    "\n",
    "coul = coulomb.CoulombGaugeTransf(s)\n",
    "coulomb.init_gauge_transform(coul)\n",
    "\n",
    "for iter in range(niter):\n",
    "    print('niter=', iter+1)\n",
    "\n",
    "    coulomb.gauge_transform(coul, alpha)\n",
    "\n",
    "    theta = coul.theta.copy()\n",
    "    print('theta=', theta)\n",
    "\n",
    "if use_cuda:\n",
    "    cuda.current_context().deallocations.clear()"
   ]
  }
 ],
 "metadata": {
  "kernelspec": {
   "display_name": "Python 3",
   "language": "python",
   "name": "python3"
  },
  "language_info": {
   "codemirror_mode": {
    "name": "ipython",
    "version": 3
   },
   "file_extension": ".py",
   "mimetype": "text/x-python",
   "name": "python",
   "nbconvert_exporter": "python",
   "pygments_lexer": "ipython3",
   "version": "3.6.8"
  }
 },
 "nbformat": 4,
 "nbformat_minor": 2
}
