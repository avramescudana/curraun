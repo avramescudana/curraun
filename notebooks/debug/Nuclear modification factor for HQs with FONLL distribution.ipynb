{
 "cells": [
  {
   "cell_type": "code",
   "execution_count": 6,
   "metadata": {},
   "outputs": [],
   "source": [
    "import numpy as np\n",
    "\n",
    "# hbar * c [GeV * fm]\n",
    "hbarc = 0.197326 \n",
    "\n",
    "# Simulation box \n",
    "L = 10      \n",
    "N = 512 \n",
    "tau_sim = 1.5     \n",
    "DTS = 8     \n",
    "\n",
    "# Glasma for Pb-Pb at 5.02 TeV\n",
    "# su_group = 'su3'\n",
    "# A = 207     \n",
    "# sqrts = 5020        \n",
    "# ns = 50     \n",
    "# factor = 0.8        \n",
    "# Qs = np.sqrt(0.13 * A**(1/3) * sqrts**0.25)        \n",
    "# g = np.pi * np.sqrt(1 / np.log(Qs / 0.2))          \n",
    "# mu = Qs / (g**2 * factor)          \t\n",
    "# ir = 0.1 * g**2 * mu         \n",
    "# uv = 10.0         \n",
    "\n",
    "# Glasma\n",
    "su_group = 'su3'\n",
    "Qs = 2.0        \n",
    "ns = 50    \n",
    "factor = 0.8        \n",
    "g2mu = Qs / factor     \n",
    "g = np.pi * np.sqrt(1 / np.log(Qs / 0.2))          \t\t\n",
    "mu = g2mu / g**2          \t\n",
    "ir = 0.1 * g2mu         \n",
    "uv = 10.0 \n",
    "\n",
    "# Wong\n",
    "quark = 'charm'    \n",
    "mass = 1.275       \n",
    "tau_form = 1/(2*mass)*hbarc\n",
    "\n",
    "tau_sim += tau_form\n",
    "\n",
    "# tau_form = 0\n",
    "initialization = 'fonll'         \n",
    "ntp = 10**5  \n",
    "\n",
    "nevents_offset = 5\n",
    "nevents = 20    \n",
    "\n",
    "representation = 'fundamental'      \n",
    "boundary = 'periodic'   \n",
    "\n",
    "# Results folder\n",
    "folder = 'RAA_' + quark + '_fonll_Qs_' + str(Qs)\n",
    "\n",
    "# Store relevant parameters in a dictionary\n",
    "p = {\n",
    "    'QUARK': quark,\n",
    "    'MASS': mass,           \n",
    "    'TFORM': tau_form,   \n",
    "    'NTP':  ntp,  \n",
    "    'FOLDER': folder,             \n",
    "    }"
   ]
  },
  {
   "cell_type": "code",
   "execution_count": 7,
   "metadata": {},
   "outputs": [],
   "source": [
    "import os\n",
    "os.environ[\"MY_NUMBA_TARGET\"] = \"cuda\"\n",
    "os.environ[\"PRECISION\"] = \"double\"\n",
    "os.environ[\"GAUGE_GROUP\"] = su_group\n",
    "\n",
    "# Import relevant modules\n",
    "import sys\n",
    "sys.path.append('..')\n",
    "\n",
    "# Glasma modules\n",
    "import curraun.core as core\n",
    "import curraun.mv as mv\n",
    "import curraun.initial as initial\n",
    "initial.DEBUG = False\n",
    "\n",
    "import curraun.su as su\n",
    "from curraun.numba_target import use_cuda\n",
    "if use_cuda:\n",
    "    from numba import cuda\n",
    "\n",
    "# Wong modules\n",
    "from curraun import wong\n",
    "wong.BOUNDARY = boundary\n",
    "wong.WONG_TO_HOST = True\n",
    "from curraun.wong import init_pos, init_charge, init_mom_toy, init_mom_fonll\n",
    "from curraun.particles_correlators import TransMom"
   ]
  },
  {
   "cell_type": "code",
   "execution_count": 8,
   "metadata": {},
   "outputs": [],
   "source": [
    "import pickle\n",
    "from tqdm import tqdm\n",
    "\n",
    "current_path = os.getcwd() \n",
    "results_folder = 'results'\n",
    "if not os.path.isdir(results_folder):\n",
    "    os.makedirs(results_folder)\n",
    "results_path = current_path + '/' + results_folder + '/'"
   ]
  },
  {
   "cell_type": "code",
   "execution_count": 9,
   "metadata": {},
   "outputs": [],
   "source": [
    "def simulate(p, ev): \n",
    "    os.chdir(results_path)\n",
    "\n",
    "    output = {}\n",
    "    output['parameters'] = p.copy()\n",
    "\n",
    "    # Derived parameters\n",
    "    a = L/N\n",
    "    E0 = N/L * hbarc\n",
    "    DT = 1.0 / DTS\n",
    "    formt = int(p['TFORM'] / a * DTS)\n",
    "    maxt = int(tau_sim / a * DTS)\n",
    "\n",
    "    # Initialize Glasma fields\n",
    "    s = core.Simulation(N, DT, g)\n",
    "    va = mv.wilson(s, mu=mu / E0, m=ir / E0, uv=uv / E0, num_sheets=ns)\n",
    "    vb = mv.wilson(s, mu=mu / E0, m=ir / E0, uv=uv / E0, num_sheets=ns)\n",
    "    initial.init(s, va, vb)\n",
    "\n",
    "    # fonll\n",
    "    pTs_fonll, ntp_fonll = init_mom_fonll(p)\n",
    "    ntp = ntp_fonll\n",
    "\n",
    "    # Initialize the Wong solver\n",
    "    wong_solver = wong.WongSolver(s, ntp)\n",
    "    x0s, p0s, q0s = np.zeros((ntp, 3)), np.zeros((ntp, 5)), np.zeros((ntp, su.ALGEBRA_ELEMENTS))\n",
    "    masses = mass / E0 * np.ones(ntp)\n",
    "\n",
    "    for i in range(ntp):\n",
    "        # fonll\n",
    "        pT = pTs_fonll[i] / E0\n",
    "        p0 = init_mom_toy('pT', pT)\n",
    "\n",
    "        p0s[i, :] = np.array(p0, dtype=object)\n",
    "\n",
    "        x0, q0 = init_pos(s.n), init_charge(representation)\n",
    "        x0s[i, :], q0s[i, :] = x0, q0\n",
    "    \n",
    "    wong_solver.initialize(x0s, p0s, q0s, masses)\n",
    "\n",
    "    pTs = np.zeros((maxt-formt, ntp))\n",
    "    compute_pT = TransMom(wong_solver, ntp)\n",
    "\n",
    "    with tqdm(total=maxt) as pbar:\n",
    "        for t in range(maxt):\n",
    "            # Evolve Glasma fields\n",
    "            core.evolve_leapfrog(s)\n",
    "\n",
    "            # Solve Wong's equations\n",
    "            if t>=formt:  \n",
    "                compute_pT.compute()\n",
    "                pTs[t-formt] = compute_pT.pT.copy() * E0\n",
    "                \n",
    "                wong_solver.evolve()\n",
    "\n",
    "            pbar.set_description(\"Event \" + str(ev+1))\n",
    "            pbar.update(1)\n",
    "\n",
    "    tau = np.linspace(0, tau_sim-p['TFORM'], maxt-formt)\n",
    "    output['tau'], output['pTs'] = tau, pTs\n",
    "    output[\"pTs_fonll\"], output[\"ntp_fonl\"] = pTs_fonll, ntp_fonll\n",
    "\n",
    "    wong_folder = p['FOLDER']\n",
    "    if not os.path.isdir(wong_folder):\n",
    "        os.makedirs(wong_folder)\n",
    "    wong_path = results_path + '/' + wong_folder + '/'\n",
    "    os.chdir(wong_path)\n",
    "\n",
    "    filename = 'event_' + str(ev+1) + '.pickle'\n",
    "    with open(filename, 'wb') as handle:\n",
    "        pickle.dump(output, handle)\n",
    "    return output"
   ]
  },
  {
   "cell_type": "code",
   "execution_count": 6,
   "metadata": {},
   "outputs": [],
   "source": [
    "pTs_fonll, ntp_fonll = init_mom_fonll(p)"
   ]
  },
  {
   "cell_type": "code",
   "execution_count": 5,
   "metadata": {},
   "outputs": [],
   "source": [
    "import matplotlib.pyplot as plt\n",
    "plt.style.use('nord_theme_light.mpltstyle')\n",
    "plt.rcParams[\"figure.figsize\"] = (8, 6)\n",
    "plt.rcParams[\"text.usetex\"] = False"
   ]
  },
  {
   "cell_type": "code",
   "execution_count": 10,
   "metadata": {},
   "outputs": [
    {
     "data": {
      "image/png": "[encoded data removed]",
      "text/plain": [
       "<Figure size 576x432 with 1 Axes>"
      ]
     },
     "metadata": {
      "needs_background": "light"
     },
     "output_type": "display_data"
    }
   ],
   "source": [
    "plt.hist(pTs_fonll)\n",
    "plt.tight_layout()"
   ]
  },
  {
   "cell_type": "code",
   "execution_count": 12,
   "metadata": {},
   "outputs": [],
   "source": [
    "import seaborn as sns"
   ]
  },
  {
   "cell_type": "code",
   "execution_count": 16,
   "metadata": {},
   "outputs": [
    {
     "data": {
      "text/plain": [
       "<seaborn.axisgrid.FacetGrid at 0x7f200830be10>"
      ]
     },
     "execution_count": 16,
     "metadata": {},
     "output_type": "execute_result"
    },
    {
     "data": {
      "image/png": "[encoded data removed]",
      "text/plain": [
       "<Figure size 360x360 with 1 Axes>"
      ]
     },
     "metadata": {
      "needs_background": "light"
     },
     "output_type": "display_data"
    }
   ],
   "source": [
    "sns.displot(pTs_fonll, kind=\"kde\")"
   ]
  },
  {
   "cell_type": "code",
   "execution_count": 10,
   "metadata": {},
   "outputs": [
    {
     "name": "stdout",
     "output_type": "stream",
     "text": [
      "Charm quark\n"
     ]
    },
    {
     "name": "stderr",
     "output_type": "stream",
     "text": [
      "Event 6: 100%|██████████| 646/646 [02:37<00:00,  4.10it/s]\n",
      "Event 7: 100%|██████████| 646/646 [02:37<00:00,  4.10it/s]\n",
      "Event 8: 100%|██████████| 646/646 [02:37<00:00,  4.10it/s]\n",
      "Event 9:  61%|██████    | 393/646 [01:34<01:02,  4.03it/s]"
     ]
    }
   ],
   "source": [
    "# quarks = ['jet']\n",
    "# quark_masses = [1]\n",
    "# pTs = [100]\n",
    "# formation_times = [0]\n",
    "\n",
    "# quarks = ['beauty']\n",
    "# quark_masses = [4.18]\n",
    "# pTs = [2]\n",
    "# formation_times = [0.02]\n",
    "\n",
    "quarks = [quark]\n",
    "quark_masses = [mass]\n",
    "formation_times = [tau_form]\n",
    "\n",
    "for iq in range(len(quarks)):\n",
    "    print(quarks[iq].capitalize() + \" quark\")\n",
    "    p['QUARK'], p['MASS'] = quarks[iq], quark_masses[iq]\n",
    "    p['TFORM'] = formation_times[iq]\n",
    "\n",
    "    for ev in range(nevents_offset, nevents+nevents_offset):\n",
    "        simulate(p, ev)"
   ]
  }
 ],
 "metadata": {
  "kernelspec": {
   "display_name": "Python 3",
   "language": "python",
   "name": "python3"
  },
  "language_info": {
   "codemirror_mode": {
    "name": "ipython",
    "version": 3
   },
   "file_extension": ".py",
   "mimetype": "text/x-python",
   "name": "python",
   "nbconvert_exporter": "python",
   "pygments_lexer": "ipython3",
   "version": "3.6.8"
  },
  "orig_nbformat": 4
 },
 "nbformat": 4,
 "nbformat_minor": 2
}
