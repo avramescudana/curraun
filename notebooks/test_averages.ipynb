{
 "cells": [
  {
   "cell_type": "markdown",
   "id": "e03f2182",
   "metadata": {},
   "source": [
    "# Extract $\\frac{1}{N_C}Tr(A_\\perp^2)$ to compare with classical simulation"
   ]
  },
  {
   "cell_type": "markdown",
   "id": "8511a54f",
   "metadata": {},
   "source": [
    "### Set up and configuration"
   ]
  },
  {
   "cell_type": "code",
   "execution_count": 1,
   "id": "32c215d0",
   "metadata": {},
   "outputs": [],
   "source": [
    "import numpy as np\n",
    "\n",
    "# hbar * c [GeV * fm]\n",
    "hbarc = 0.197326 \n",
    "\n",
    "# Simulation box \n",
    "L = 1         \n",
    "N = 128 \n",
    "tau_sim = 0.25    \n",
    "DTS = 8\n",
    "\n",
    "# Derived parameters\n",
    "a = L/N\n",
    "E0 = N / L * hbarc\n",
    "DT = 1.0 / DTS\n",
    "maxt = int(tau_sim / a * DTS)\n",
    "nplus = maxt//DTS\n",
    "\n",
    "# Glasma fields\n",
    "su_group = 'su3'\n",
    "uv = 10.0\n",
    "ir = 0.2\n",
    "g2mu = 1.5\n",
    "\n",
    "\n",
    "g = 2.0          \t\t\n",
    "mu = g2mu / g**2\n",
    "\n",
    "ns = 50      \n",
    "\n",
    "nevents = 1"
   ]
  },
  {
   "cell_type": "code",
   "execution_count": 2,
   "id": "85ce3bd1",
   "metadata": {},
   "outputs": [
    {
     "name": "stdout",
     "output_type": "stream",
     "text": [
      "Using Numba\n",
      "Using SU(3)\n",
      "Using double precision\n"
     ]
    },
    {
     "name": "stderr",
     "output_type": "stream",
     "text": [
      "/home2/carlos.lamas/condacurraun/lib/python3.10/site-packages/scipy/__init__.py:132: UserWarning: A NumPy version >=1.21.6 and <1.28.0 is required for this version of SciPy (detected version 1.21.5)\n",
      "  warnings.warn(f\"A NumPy version >={np_minversion} and <{np_maxversion}\"\n"
     ]
    }
   ],
   "source": [
    "import os\n",
    "\n",
    "os.environ[\"MY_NUMBA_TARGET\"] = \"numba\"\n",
    "os.environ[\"PRECISION\"] = \"double\"\n",
    "os.environ['GAUGE_GROUP'] = su_group\n",
    "\n",
    "# Import relevant modules\n",
    "import sys\n",
    "sys.path.append('..')\n",
    "\n",
    "# Glasma modules\n",
    "import curraun.core as core\n",
    "import curraun.mv as mv\n",
    "import curraun.initial as initial\n",
    "initial.DEBUG = False\n",
    "\n",
    "import curraun.su as su\n",
    "from curraun.numba_target import use_cuda\n",
    "if use_cuda:\n",
    "    from numba import cuda\n",
    "\n",
    "import curraun.su as su\n",
    "import curraun.pi_fields as pi"
   ]
  },
  {
   "cell_type": "markdown",
   "id": "574056b2",
   "metadata": {},
   "source": [
    "### Simulation"
   ]
  },
  {
   "cell_type": "markdown",
   "id": "be5bb9ca",
   "metadata": {},
   "source": [
    "Define the simultion routine"
   ]
  },
  {
   "cell_type": "code",
   "execution_count": 3,
   "id": "32aa89f6",
   "metadata": {},
   "outputs": [],
   "source": [
    "from tqdm import tqdm\n",
    "\n",
    "# Simulation rutine\n",
    "def simulate():\n",
    "    output = {}\n",
    "    \n",
    "    # Derived parameters\n",
    "    a = L/N\n",
    "    E0 = N / L * hbarc\n",
    "    DT = 1.0 / DTS\n",
    "    maxt = int(tau_sim / a * DTS)\n",
    "    nplus = maxt//DTS\n",
    "    \n",
    "    # We create the object simulation\n",
    "    s = core.Simulation(N, DT, g)\n",
    "\n",
    "    # We initilize the Glasma fields\n",
    "    va = mv.wilson(s, mu=mu / E0, m=ir / E0, uv=uv / E0, num_sheets=ns)\n",
    "    vb = mv.wilson(s, mu=mu / E0, m=ir / E0, uv=uv / E0, num_sheets=ns)\n",
    "    initial.init(s, va, vb)\n",
    "    \n",
    "    # We create objects to store the necessary fields\n",
    "    # up = np.zeros((nplus, N*N, su.GROUP_ELEMENTS), dtype=su.GROUP_TYPE)\n",
    "    # Ay = np.zeros((nplus, N*N, su.GROUP_ELEMENTS), dtype=su.GROUP_TYPE)\n",
    "    Az = np.zeros((nplus, N*N, su.GROUP_ELEMENTS), dtype=su.GROUP_TYPE)\n",
    "    \n",
    "    # We create the object Glasma fields\n",
    "    gf = pi.GlasmaFields(s)\n",
    "    gf.init()\n",
    "    \n",
    "    # We simulate the event and store the fields when the spatial and temporal lattices match\n",
    "    with tqdm(total=nplus) as pbar:    \n",
    "        for t in range(maxt):\n",
    "            \n",
    "            # Evolve the Glasma fields\n",
    "            core.evolve_leapfrog(s)\n",
    "            \n",
    "            # Store the fields\n",
    "            if t % DTS == 0:\n",
    "                \n",
    "                xplus = t//DTS\n",
    "                \n",
    "                gf.compute_fields(xplus, a/hbarc)\n",
    "                \n",
    "                # up[xplus] = gf.up.copy()\n",
    "                # Ay[xplus] = gf.ay.copy()\n",
    "                Az[xplus] = gf.az.copy()\n",
    "                \n",
    "                pbar.update(1) \n",
    "    \n",
    "    if use_cuda:\n",
    "        cuda.current_context().deallocations.clear()\n",
    "    \n",
    "    # We write the transformed fields in a dictionary\n",
    "    # output[\"up\"] = up\n",
    "    # output[\"Ay\"] = Ay\n",
    "    output[\"Az\"] = Az\n",
    "    \n",
    "    return output"
   ]
  },
  {
   "cell_type": "markdown",
   "id": "fd656474",
   "metadata": {},
   "source": [
    "Run the simulation"
   ]
  },
  {
   "cell_type": "code",
   "execution_count": 4,
   "id": "b048ba97",
   "metadata": {},
   "outputs": [
    {
     "name": "stdout",
     "output_type": "stream",
     "text": [
      "Event 0\n"
     ]
    },
    {
     "name": "stderr",
     "output_type": "stream",
     "text": [
      "OMP: Info #276: omp_set_nested routine deprecated, please use omp_set_max_active_levels instead.\n",
      "100%|██████████| 32/32 [00:04<00:00,  6.94it/s]\n"
     ]
    }
   ],
   "source": [
    "import warnings\n",
    "warnings.filterwarnings('ignore')\n",
    "\n",
    "for n in range (nevents):\n",
    "    \n",
    "    print('Event %i' % n)\n",
    "    output = simulate()\n",
    "    \n",
    "    # up = output['up']\n",
    "    # Ay = output['Ay']\n",
    "    Az = output['Az']\n",
    "\n",
    "    # # Go up one level from 'notebooks' to parent, then into 'simulations/tuomas_guess'\n",
    "    # save_dir = os.path.join('..', 'simulations', 'tuomas_guess')\n",
    "    # os.makedirs(save_dir, exist_ok=True)\n",
    "\n",
    "    # np.save(os.path.join(save_dir, 'up_%i.npy' % n), up)\n",
    "    # np.save(os.path.join(save_dir, 'Ay_%i.npy' % n), Ay)\n",
    "    # np.save(os.path.join(save_dir, 'Az_%i.npy' % n), Az)\n",
    "    "
   ]
  },
  {
   "cell_type": "markdown",
   "id": "a4e1fcf3",
   "metadata": {},
   "source": [
    "### Plot the results"
   ]
  },
  {
   "cell_type": "code",
   "execution_count": 5,
   "id": "f32a9e3f",
   "metadata": {},
   "outputs": [],
   "source": [
    "A0 = Az[:, 0, :].reshape(maxt//DTS, 3, 3)"
   ]
  },
  {
   "cell_type": "code",
   "execution_count": 10,
   "id": "573389be",
   "metadata": {},
   "outputs": [
    {
     "name": "stdout",
     "output_type": "stream",
     "text": [
      "[[ 2.68155095e-02+4.22673767e-20j  1.51713953e-05+2.29980502e-02j\n",
      "   3.67196293e-02-2.34289854e-02j]\n",
      " [ 1.51713953e-05-2.29980502e-02j  9.08684956e-03-3.38423115e-20j\n",
      "  -4.97530318e-02+3.93997480e-02j]\n",
      " [ 3.67196293e-02+2.34289854e-02j -4.97530318e-02-3.93997480e-02j\n",
      "  -3.59023591e-02-6.50336248e-20j]]\n"
     ]
    }
   ],
   "source": [
    "print(A0[2])"
   ]
  },
  {
   "cell_type": "code",
   "execution_count": 6,
   "id": "c0470626",
   "metadata": {},
   "outputs": [],
   "source": [
    "A2 = np.array([A0[xplus] @ A0[xplus] for xplus in range(nplus)])"
   ]
  },
  {
   "cell_type": "code",
   "execution_count": 7,
   "id": "f593f3a5",
   "metadata": {},
   "outputs": [],
   "source": [
    "A_av = [1/3 * np.trace(A0[xplus]) for xplus in range(nplus)]"
   ]
  },
  {
   "cell_type": "code",
   "execution_count": 9,
   "id": "ce003111",
   "metadata": {},
   "outputs": [
    {
     "data": {
      "text/plain": [
       "[<matplotlib.lines.Line2D at 0x7f82786251e0>]"
      ]
     },
     "execution_count": 9,
     "metadata": {},
     "output_type": "execute_result"
    },
    {
     "data": {
      "image/png": "[encoded data removed]",
      "text/plain": [
       "<Figure size 640x480 with 1 Axes>"
      ]
     },
     "metadata": {},
     "output_type": "display_data"
    }
   ],
   "source": [
    "import matplotlib.pyplot as plt\n",
    "\n",
    "plt.plot(A_av)"
   ]
  },
  {
   "cell_type": "code",
   "execution_count": null,
   "id": "4c47eb72",
   "metadata": {},
   "outputs": [],
   "source": []
  }
 ],
 "metadata": {
  "kernelspec": {
   "display_name": "Python 3",
   "language": "python",
   "name": "python3"
  },
  "language_info": {
   "codemirror_mode": {
    "name": "ipython",
    "version": 3
   },
   "file_extension": ".py",
   "mimetype": "text/x-python",
   "name": "python",
   "nbconvert_exporter": "python",
   "pygments_lexer": "ipython3",
   "version": "3.10.4"
  }
 },
 "nbformat": 4,
 "nbformat_minor": 5
}
