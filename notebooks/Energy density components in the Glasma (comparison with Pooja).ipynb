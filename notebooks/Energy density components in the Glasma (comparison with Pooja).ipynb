{
 "cells": [
  {
   "cell_type": "code",
   "execution_count": 1,
   "metadata": {},
   "outputs": [],
   "source": [
    "# version = \"lattice\"\n",
    "# version = \"gaugefields\"\n",
    "version = \"gaugefields_betterBL\""
   ]
  },
  {
   "cell_type": "markdown",
   "metadata": {},
   "source": [
    "### Run the Glasma code"
   ]
  },
  {
   "cell_type": "markdown",
   "metadata": {},
   "source": [
    "Import packages"
   ]
  },
  {
   "cell_type": "code",
   "execution_count": 2,
   "metadata": {},
   "outputs": [
    {
     "name": "stdout",
     "output_type": "stream",
     "text": [
      "Using CUDA\n",
      "Using SU(3)\n",
      "Using double precision\n",
      "Using double precision\n"
     ]
    }
   ],
   "source": [
    "# Set environment variables \n",
    "import os\n",
    "os.environ[\"MY_NUMBA_TARGET\"] = \"cuda\"\n",
    "os.environ[\"GAUGE_GROUP\"] = \"su3\"\n",
    "os.environ[\"PRECISION\"] = \"double\"\n",
    "\n",
    "# Import curraun \n",
    "import sys\n",
    "sys.path.append('..')\n",
    "\n",
    "import curraun.core as core\n",
    "import curraun.mv as mv\n",
    "if version==\"lattice\":\n",
    "    from curraun.energy_update import Energy\n",
    "else:\n",
    "    from curraun.energy_update import Energy_GaugeFields as Energy\n",
    "import curraun.initial as initial\n",
    "initial.DEBUG = False\n",
    "\n",
    "from curraun.numba_target import use_cuda, use_numba\n",
    "if use_cuda:\n",
    "    from numba import cuda"
   ]
  },
  {
   "cell_type": "markdown",
   "metadata": {},
   "source": [
    "---\n",
    "### Simulation parameters\n",
    "Chosen to match Pooja's, namely\n",
    "- Gauge group SU(3)\n",
    "- Nb. of color sheets $N_s=1$\n",
    "- Nb. of lattice points $N=512$\n",
    "- Transverse simulation length $L=2\\,\\mathrm{fm}$\n",
    "- Leapfrog time step $1/8=0.125$\n",
    "- Simulation time $\\tau_\\mathrm{stop}=0.4\\,\\mathrm{fm/}c$\n",
    "- Saturation momentum $Q_s=3\\,\\mathrm{GeV}$\n",
    "- Coupling constant $g=\\sqrt{2\\pi\\alpha_s}$ with runnning coupling $\\alpha_s=\\dfrac{2\\pi}{\\dfrac{33-2 N_f}{3}}\\dfrac{1}{\\mathrm{log}\\left(\\dfrac{Q_s}{\\lambda_{\\mathrm{QCD}}}\\right)}$\n",
    "- Factor relating the MV model $g^2\\mu$ to the saturation scale $Q_s=0.6 g^2\\mu$ "
   ]
  },
  {
   "cell_type": "code",
   "execution_count": 3,
   "metadata": {},
   "outputs": [],
   "source": [
    "import numpy as np\n",
    "\n",
    "# hbar * c [GeV * fm]\n",
    "hbarc = 0.197326 \n",
    "\n",
    "# Simulation box \n",
    "L = 2      \n",
    "N = 512    \n",
    "tau_sim = 0.4     \n",
    "DTS = 8     \n",
    "\n",
    "# Glasma fields\n",
    "su_group = 'su3'\n",
    "Qs = 3        \n",
    "ns = 1    \n",
    "factor = 0.6        \n",
    "g2mu = Qs / factor     \n",
    "g = np.pi * np.sqrt(1 / np.log(Qs / 0.2))          \t\t\n",
    "mu = g2mu / g**2          \t\n",
    "ir = 0.1 * g**2 * mu         \n",
    "uv = 10.0       \n",
    "\n",
    "nevents = 20"
   ]
  },
  {
   "cell_type": "markdown",
   "metadata": {},
   "source": [
    "### Simulation routine for evolving the Glasma fields"
   ]
  },
  {
   "cell_type": "code",
   "execution_count": 4,
   "metadata": {},
   "outputs": [],
   "source": [
    "import pickle\n",
    "from tqdm import tqdm\n",
    "\n",
    "# Simulation routine\n",
    "def simulate(ev): \n",
    "    output = {}\n",
    "\n",
    "    output[\"tau\"] = []\n",
    "    output[\"E\"], output[\"B\"] = [], [] \n",
    "\n",
    "    # Derived parameters\n",
    "    a = L / N\n",
    "    E0 = N / L * hbarc\n",
    "    DT = 1.0 / DTS\n",
    "    maxt = int(tau_sim / a) * DTS\n",
    "\n",
    "    # Initialize Glasma fields\n",
    "    s = core.Simulation(N, DT, g)\n",
    "    va = mv.wilson(s, mu=mu / E0, m=ir / E0, uv=uv / E0, num_sheets=ns)\n",
    "    vb = mv.wilson(s, mu=mu / E0, m=ir / E0, uv=uv / E0, num_sheets=ns)\n",
    "    initial.init(s, va, vb)\n",
    "\n",
    "    # Initialize energy computation\n",
    "    en = Energy(s)\n",
    "\n",
    "    if use_cuda:\n",
    "        s.copy_to_device()\n",
    "\n",
    "\n",
    "    with tqdm(total=maxt) as pbar:\n",
    "        for t in range(maxt):            \n",
    "            # Evolve Glasma fields\n",
    "            core.evolve_leapfrog(s)\n",
    "\n",
    "            if t>=1:\n",
    "                # Energy density calculation\n",
    "                en.compute()\n",
    "\n",
    "                # [GeV^4]\n",
    "                units_edcomp = E0 ** 4 \n",
    " \n",
    "                output[\"E\"].append(en.E_mean * units_edcomp)\n",
    "                output[\"B\"].append(en.B_mean * units_edcomp)\n",
    "\n",
    "                output[\"tau\"].append(t * a / DTS)\n",
    "\n",
    "\n",
    "            pbar.set_description(\"Event \" + str(ev+1))\n",
    "            pbar.update(1)\n",
    "    \n",
    "    output[\"E\"], output[\"B\"] = np.array(output[\"E\"]), np.array(output[\"B\"])\n",
    "\n",
    "    if use_cuda:\n",
    "        cuda.current_context().deallocations.clear()\n",
    "\n",
    "    return output"
   ]
  },
  {
   "cell_type": "code",
   "execution_count": 5,
   "metadata": {},
   "outputs": [
    {
     "name": "stderr",
     "output_type": "stream",
     "text": [
      "Event 1: 100%|██████████| 816/816 [00:37<00:00, 21.98it/s]\n",
      "Event 2: 100%|██████████| 816/816 [00:31<00:00, 26.26it/s]\n",
      "Event 3: 100%|██████████| 816/816 [00:31<00:00, 26.21it/s]\n",
      "Event 4: 100%|██████████| 816/816 [00:31<00:00, 26.19it/s]\n",
      "Event 5: 100%|██████████| 816/816 [00:31<00:00, 26.10it/s]\n",
      "Event 6: 100%|██████████| 816/816 [00:30<00:00, 26.42it/s]\n",
      "Event 7: 100%|██████████| 816/816 [00:31<00:00, 26.16it/s]\n",
      "Event 8: 100%|██████████| 816/816 [00:31<00:00, 26.20it/s]\n",
      "Event 9: 100%|██████████| 816/816 [00:31<00:00, 26.14it/s]\n",
      "Event 10: 100%|██████████| 816/816 [00:30<00:00, 26.53it/s]\n",
      "Event 11: 100%|██████████| 816/816 [00:31<00:00, 25.83it/s]\n",
      "Event 12: 100%|██████████| 816/816 [00:31<00:00, 25.99it/s]\n",
      "Event 13: 100%|██████████| 816/816 [00:30<00:00, 26.33it/s]\n",
      "Event 14: 100%|██████████| 816/816 [00:31<00:00, 26.14it/s]\n",
      "Event 15: 100%|██████████| 816/816 [00:31<00:00, 26.31it/s]\n",
      "Event 16: 100%|██████████| 816/816 [00:31<00:00, 26.21it/s]\n",
      "Event 17: 100%|██████████| 816/816 [00:31<00:00, 26.25it/s]\n",
      "Event 18: 100%|██████████| 816/816 [00:30<00:00, 26.46it/s]\n",
      "Event 19: 100%|██████████| 816/816 [00:31<00:00, 25.91it/s]\n",
      "Event 20: 100%|██████████| 816/816 [00:30<00:00, 26.47it/s]\n"
     ]
    }
   ],
   "source": [
    "collect_E, collect_B = [], []\n",
    "\n",
    "for ev in range(nevents):\n",
    "    output = simulate(ev)\n",
    "\n",
    "    collect_E.append(output[\"E\"])\n",
    "    collect_B.append(output[\"B\"])\n",
    "\n",
    "E_avg, B_avg = np.mean(np.array(collect_E), axis=0), np.mean(np.array(collect_B), axis=0)\n",
    "E_std, B_std = np.std(np.array(collect_E), axis=0), np.std(np.array(collect_B), axis=0)\n",
    "tau = output[\"tau\"]"
   ]
  },
  {
   "cell_type": "code",
   "execution_count": 6,
   "metadata": {},
   "outputs": [],
   "source": [
    "results = {}\n",
    "results[\"tau\"] = tau\n",
    "results[\"E_avg\"], results[\"B_avg\"] = E_avg, B_avg\n",
    "results[\"E_std\"], results[\"B_std\"] = E_std, B_std\n",
    "# Useful unit conversion\n",
    "results[\"E0\"], results[\"hbarc\"] = N / L * hbarc, hbarc\n",
    "\n",
    "if version==\"lattice\":\n",
    "    filename = 'results/ed_comp_gaugelinks.pickle'\n",
    "elif version==\"gaugefields\":\n",
    "    filename = 'results/ed_comp_gaugefields.pickle'\n",
    "else:\n",
    "    filename = 'results/ed_comp_gaugefields_betterBL.pickle'\n",
    "with open(filename, 'wb') as handle:\n",
    "    pickle.dump(results, handle)"
   ]
  },
  {
   "cell_type": "markdown",
   "metadata": {},
   "source": [
    "---\n",
    "### Read results from file"
   ]
  },
  {
   "cell_type": "code",
   "execution_count": 1,
   "metadata": {},
   "outputs": [],
   "source": [
    "import pickle\n",
    "\n",
    "results = pickle.load(open(\"ed_comp_gaugelinks.pickle\", \"rb\"))\n",
    "\n",
    "tau = results[\"tau\"]\n",
    "E_avg, B_avg = results[\"E_avg\"], results[\"B_avg\"]\n",
    "E_std, B_std = results[\"E_std\"], results[\"B_std\"]\n",
    "E0, hbarc = results[\"E0\"], results[\"hbarc\"]"
   ]
  },
  {
   "cell_type": "markdown",
   "metadata": {},
   "source": [
    "### Pooja's energy density\n",
    "Read XMGrace file in Python using [Python module to load xmgrace plots into numpy arrays\n",
    "](https://gist.github.com/mlund/e8add748a9071b2ea983)"
   ]
  },
  {
   "cell_type": "code",
   "execution_count": 2,
   "metadata": {},
   "outputs": [],
   "source": [
    "import numpy as np\n",
    "import re\n",
    "\n",
    "class LoadGrace:\n",
    "  \"\"\"\n",
    "  Simple module to load a Grace file (.agr) plot and extract\n",
    "  legends, comments, and -- importantly -- data into numpy arrays.\n",
    "  \"\"\"\n",
    "  \n",
    "  def __init__(self, filename):\n",
    "    self._sets = []\n",
    "    self._legends = []\n",
    "    self._comments = []\n",
    "\n",
    "    f = open(filename, 'r')\n",
    "    for line in f:\n",
    "      if re.compile('@    s(.*) legend').search(line):\n",
    "        self._legends.append( line.split('\"')[1] )\n",
    "\n",
    "      if re.compile('@    s(.*) comment').search(line):\n",
    "        self._comments.append( line.split('\"')[1] )\n",
    "\n",
    "      if '@target' in line:\n",
    "        tmp = []\n",
    "        next(f)\n",
    "        for row in f:\n",
    "          if row!='&\\n':\n",
    "            tmp.append( np.fromstring( row, sep=' ' ) )\n",
    "          else:\n",
    "            self._sets.append( np.array(tmp) )\n",
    "            break\n",
    "    f.close()\n",
    "\n",
    "  def sets(self): return self._sets\n",
    "  def legends(self): return self._legends\n",
    "  def comments(self): return self._comments\n",
    "  def __len__(self): return len(self._sets)"
   ]
  },
  {
   "cell_type": "code",
   "execution_count": 3,
   "metadata": {},
   "outputs": [
    {
     "name": "stdout",
     "output_type": "stream",
     "text": [
      "# legend=\\xe\\f{}\\sE\\sx comment=/home/pooja45/Desktop/Research/6_SU(3)/Dana/Liu_SU3_Qs3_Server_2/fort.1001\n",
      "[[4.8828125e-04 2.0165907e-02]\n",
      " [9.7656250e-04 5.0319575e-02]\n",
      " [1.4648438e-03 1.0034802e-01]\n",
      " ...\n",
      " [3.9892578e-01 6.9915177e-01]\n",
      " [3.9941406e-01 6.9828426e-01]\n",
      " [3.9990234e-01 6.9741977e-01]]\n",
      "# legend=\\xe\\f{}\\sE\\sy comment=/home/pooja45/Desktop/Research/6_SU(3)/Dana/Liu_SU3_Qs3_Server_2/fort.1002\n",
      "[[4.8828125e-04 2.0071435e-02]\n",
      " [9.7656250e-04 5.0083938e-02]\n",
      " [1.4648438e-03 9.9878403e-02]\n",
      " ...\n",
      " [3.9892578e-01 7.0329518e-01]\n",
      " [3.9941406e-01 7.0242757e-01]\n",
      " [3.9990234e-01 7.0155926e-01]]\n",
      "# legend=\\xe\\f{}\\sE\\sz comment=/home/pooja45/Desktop/Research/6_SU(3)/Dana/Liu_SU3_Qs3_Server_2/fort.1003\n",
      "[[4.8828125e-04 6.8417609e+01]\n",
      " [9.7656250e-04 6.8300254e+01]\n",
      " [1.4648438e-03 6.8105480e+01]\n",
      " ...\n",
      " [3.9892578e-01 1.3053423e+00]\n",
      " [3.9941406e-01 1.3035420e+00]\n",
      " [3.9990234e-01 1.3017477e+00]]\n",
      "# legend=\\xe\\f{}\\sB\\sx comment=/home/pooja45/Desktop/Research/6_SU(3)/Dana/Liu_SU3_Qs3_Server_2/fort.1004\n",
      "[[4.8828125e-04 0.0000000e+00]\n",
      " [9.7656250e-04 2.4359212e-03]\n",
      " [1.4648438e-03 1.7285682e-02]\n",
      " ...\n",
      " [3.9892578e-01 7.0910906e-01]\n",
      " [3.9941406e-01 7.0818482e-01]\n",
      " [3.9990234e-01 7.0726288e-01]]\n",
      "# legend=\\xe\\f{}\\sB\\sy comment=/home/pooja45/Desktop/Research/6_SU(3)/Dana/Liu_SU3_Qs3_Server_2/fort.1005\n",
      "[[4.8828125e-04 0.0000000e+00]\n",
      " [9.7656250e-04 2.4675124e-03]\n",
      " [1.4648438e-03 1.7509862e-02]\n",
      " ...\n",
      " [3.9892578e-01 7.2026414e-01]\n",
      " [3.9941406e-01 7.1932663e-01]\n",
      " [3.9990234e-01 7.1839054e-01]]\n",
      "# legend=\\xe\\f{}\\sB\\sz comment=/home/pooja45/Desktop/Research/6_SU(3)/Dana/Liu_SU3_Qs3_Server_2/fort.1006\n",
      "[[4.8828125e-04 6.9502074e+01]\n",
      " [9.7656250e-04 6.9502074e+01]\n",
      " [1.4648438e-03 6.9394860e+01]\n",
      " ...\n",
      " [3.9892578e-01 1.2605608e+00]\n",
      " [3.9941406e-01 1.2590303e+00]\n",
      " [3.9990234e-01 1.2575050e+00]]\n"
     ]
    }
   ],
   "source": [
    "d =  LoadGrace(\"Energy_density.agr\")\n",
    "\n",
    "for i in range(0, len(d)):\n",
    "    print('# legend=' + d.legends()[i] + ' comment=' + d.comments()[i])\n",
    "    print(d.sets()[i])"
   ]
  },
  {
   "cell_type": "code",
   "execution_count": 4,
   "metadata": {},
   "outputs": [],
   "source": [
    "tau_p = d.sets()[1][:, 0]\n",
    "\n",
    "E_p = np.transpose(np.array([d.sets()[i][:, 1] for i in [0, 1, 2]]))\n",
    "B_p = np.transpose(np.array([d.sets()[i][:, 1] for i in [3, 4, 5]]))\n"
   ]
  },
  {
   "cell_type": "code",
   "execution_count": 26,
   "metadata": {},
   "outputs": [
    {
     "name": "stderr",
     "output_type": "stream",
     "text": [
      "/home/dana/anaconda3/envs/curraun/lib/python3.6/site-packages/ipykernel_launcher.py:20: RuntimeWarning: divide by zero encountered in true_divide\n"
     ]
    }
   ],
   "source": [
    "from scipy import interpolate\n",
    "\n",
    "ratios_E, ratios_B = [], []\n",
    "for i in [0, 2]:\n",
    "    if i==2:\n",
    "        interp_map_E = interpolate.interp1d(tau_p, E_p[:, i])\n",
    "        E_p_interp = interp_map_E(tau)\n",
    "        ratios_E.append(E_avg[:, i]/E_p_interp)\n",
    "\n",
    "        interp_map_B = interpolate.interp1d(tau_p, B_p[:, i])\n",
    "        B_p_interp = interp_map_B(tau)\n",
    "        ratios_B.append(B_avg[:, i]/B_p_interp)\n",
    "    else:\n",
    "        interp_map_E = interpolate.interp1d(tau_p, E_p[:, i]+E_p[:, i+1])\n",
    "        E_p_interp = interp_map_E(tau)\n",
    "        ratios_E.append((E_avg[:, i]+E_avg[:, i+1])/E_p_interp)\n",
    "\n",
    "        interp_map_B = interpolate.interp1d(tau_p, B_p[:, i]+B_p[:, i+1])\n",
    "        B_p_interp = interp_map_B(tau)\n",
    "        ratios_B.append((B_avg[:, i]+B_avg[:, i+1])/B_p_interp)"
   ]
  },
  {
   "cell_type": "code",
   "execution_count": 34,
   "metadata": {},
   "outputs": [
    {
     "data": {
      "image/png": "[encoded data removed]",
      "text/plain": [
       "<Figure size 360x576 with 2 Axes>"
      ]
     },
     "metadata": {
      "needs_background": "light"
     },
     "output_type": "display_data"
    }
   ],
   "source": [
    "import matplotlib.pyplot as plt\n",
    "import matplotlib as mpl\n",
    "from matplotlib.lines import Line2D\n",
    "\n",
    "plt.style.use('nord_theme_light.mpltstyle')\n",
    "plt.rcParams[\"figure.figsize\"] = (5, 8)\n",
    "\n",
    "cmap_rb = mpl.cm.get_cmap('RdBu', 20)\n",
    "colors = [cmap_rb(0.9), cmap_rb(0.7), cmap_rb(0.3), cmap_rb(0.1)]\n",
    "\n",
    "fig, ax = plt.subplots(2, 1)\n",
    "\n",
    "ax[0].plot(tau_p, (E_p[:, 0] + E_p[:, 1]), linewidth=2, color=colors[0])\n",
    "ax[0].plot(tau_p, (B_p[:, 0] + B_p[:, 1]), linewidth=2, color=colors[1])\n",
    "\n",
    "ax[0].plot(tau_p, E_p[:, 2], linewidth=2, color=colors[2])\n",
    "ax[0].plot(tau_p, B_p[:, 2], linewidth=2, color=colors[3])\n",
    "\n",
    "ax[0].plot(tau, E_avg[:, 0] + E_avg[:, 1], linewidth=2, color=colors[0], linestyle='--')\n",
    "ax[0].plot(tau, B_avg[:, 0] + B_avg[:, 1], linewidth=2, color=colors[1], linestyle='--')\n",
    "\n",
    "ax[0].plot(tau, E_avg[:, 2], linewidth=2, color=colors[2], linestyle='--')\n",
    "ax[0].plot(tau, B_avg[:, 2], linewidth=2, color=colors[3], linestyle='--')\n",
    "\n",
    "ax[1].plot(tau, ratios_E[0], linewidth=2, color=colors[0])\n",
    "ax[1].plot(tau, ratios_B[0], linewidth=2, color=colors[1])\n",
    "\n",
    "ax[1].plot(tau, ratios_E[1], linewidth=2, color=colors[2])\n",
    "ax[1].plot(tau, ratios_B[1], linewidth=2, color=colors[3])\n",
    "\n",
    "for i in range(2):\n",
    "    ax[i].set_xlim(0, 0.4)\n",
    "ax[1].set_ylim(1, 3.5)\n",
    "\n",
    "# legends\n",
    "handles, labels = ax[1].get_legend_handles_labels()\n",
    "ed_labels = [r'$\\varepsilon_{E, T}$', r'$\\varepsilon_{B, T}$', r'$\\varepsilon_{E, L}$', r'$\\varepsilon_{B, L}$']\n",
    "ed_lines = []\n",
    "for ic, icolor in enumerate(colors):\n",
    "    line = Line2D([0], [0], label=ed_labels[ic], color=colors[ic], linewidth=2)\n",
    "    ed_lines.append(line)\n",
    "\n",
    "handles.extend(ed_lines)\n",
    "ax[1].legend(handles=handles, fontsize=16, loc='lower right')\n",
    "\n",
    "handles, labels = ax[0].get_legend_handles_labels()\n",
    "line_dana = Line2D([0], [0], label=r'$\\mathrm{Dana}$', linestyle='--', color=colors[0], linewidth=2)\n",
    "line_pooja = Line2D([0], [0], label=r'$\\mathrm{Pooja}$', color=colors[0], linewidth=2)\n",
    "handles.extend([line_pooja, line_dana])\n",
    "ax[0].legend(handles=handles, fontsize=16, loc='upper right')\n",
    "\n",
    "ax[1].set_xlabel(r'$\\tau\\,\\mathrm{[fm/}c\\mathrm{]}$')\n",
    "ax[0].set_ylabel(r'$\\varepsilon\\,\\mathrm{[GeV^4]}$')\n",
    "ax[1].set_ylabel(r'$\\varepsilon_{\\mathrm{Dana}}/\\varepsilon_{\\mathrm{Pooja}}$')\n",
    "\n",
    "plt.tight_layout()\n",
    "plt.savefig('ed_comp_pooja_vs_dana.pdf', format='pdf')"
   ]
  },
  {
   "cell_type": "markdown",
   "metadata": {},
   "source": [
    "---\n",
    "### Extract energy density components from the gauge fields"
   ]
  },
  {
   "cell_type": "code",
   "execution_count": 23,
   "metadata": {},
   "outputs": [],
   "source": [
    "import pickle\n",
    "\n",
    "results = {}\n",
    "results[\"links\"] = pickle.load(open(\"ed_comp_gaugelinks.pickle\", \"rb\"))\n",
    "# results[\"potentials\"] = pickle.load(open(\"ed_comp_gaugefields.pickle\", \"rb\"))\n",
    "results[\"potentials\"] = pickle.load(open(\"ed_comp_gaugefields_betterBL.pickle\", \"rb\"))\n",
    "\n",
    "tau = {}\n",
    "E_avg, B_avg = {}, {}\n",
    "E_std, B_std = {}, {}\n",
    "\n",
    "for version in [\"links\", \"potentials\"]:\n",
    "    tau[version] = results[version][\"tau\"]\n",
    "    E_avg[version], B_avg[version] = results[version][\"E_avg\"], results[version][\"B_avg\"]\n",
    "    E_std[version], B_std[version] = results[version][\"E_std\"], results[version][\"B_std\"]\n",
    "\n",
    "E0, hbarc = results[\"links\"][\"E0\"], results[\"links\"][\"hbarc\"]"
   ]
  },
  {
   "cell_type": "code",
   "execution_count": 29,
   "metadata": {},
   "outputs": [
    {
     "name": "stderr",
     "output_type": "stream",
     "text": [
      "/tmp/ipykernel_39779/1344705173.py:8: MatplotlibDeprecationWarning: The get_cmap function was deprecated in Matplotlib 3.7 and will be removed two minor releases later. Use ``matplotlib.colormaps[name]`` or ``matplotlib.colormaps.get_cmap(obj)`` instead.\n",
      "  cmap_rb = mpl.cm.get_cmap('RdBu', 20)\n"
     ]
    },
    {
     "data": {
      "image/png": "[encoded data removed]",
      "text/plain": [
       "<Figure size 500x800 with 2 Axes>"
      ]
     },
     "metadata": {},
     "output_type": "display_data"
    }
   ],
   "source": [
    "import matplotlib.pyplot as plt\n",
    "import matplotlib as mpl\n",
    "from matplotlib.lines import Line2D\n",
    "\n",
    "plt.style.use('nord_theme_light.mpltstyle')\n",
    "plt.rcParams[\"figure.figsize\"] = (5, 8)\n",
    "\n",
    "cmap_rb = mpl.cm.get_cmap('RdBu', 20)\n",
    "colors = [cmap_rb(0.9), cmap_rb(0.7), cmap_rb(0.3), cmap_rb(0.1)]\n",
    "\n",
    "fig, ax = plt.subplots(2, 1)\n",
    "\n",
    "linestyles = ['-', '--']\n",
    "\n",
    "for (iv, version) in enumerate([\"potentials\", \"links\"]):\n",
    "# for (iv, version) in enumerate([\"links\"]):\n",
    "\n",
    "    ax[0].plot(tau[version], E_avg[version][:, 0] + E_avg[version][:, 1], linewidth=2, color=colors[0], linestyle=linestyles[iv])\n",
    "    ax[0].plot(tau[version], B_avg[version][:, 0] + B_avg[version][:, 1], linewidth=2, color=colors[1], linestyle=linestyles[iv])\n",
    "\n",
    "    ax[0].plot(tau[version], E_avg[version][:, 2], linewidth=2, color=colors[2], linestyle=linestyles[iv])\n",
    "    ax[0].plot(tau[version], B_avg[version][:, 2], linewidth=2, color=colors[3], linestyle=linestyles[iv])\n",
    "\n",
    "dif_EL = (E_avg[\"potentials\"][:, 2]-E_avg[\"links\"][:, 2])/E_avg[\"potentials\"][:, 2]*100\n",
    "dif_BL = (B_avg[\"potentials\"][:, 2]-B_avg[\"links\"][:, 2])/B_avg[\"potentials\"][:, 2]*100\n",
    "# dif_EL = (E_avg[\"potentials\"][:, 2])/E_avg[\"links\"][:, 2]\n",
    "# dif_BL = (B_avg[\"potentials\"][:, 2])/B_avg[\"links\"][:, 2]\n",
    "ax[1].plot(tau[version], dif_EL, linewidth=2, color=colors[2])\n",
    "ax[1].plot(tau[version], dif_BL, linewidth=2, color=colors[3])\n",
    "\n",
    "dif_ET = (E_avg[\"potentials\"][:, 0]+E_avg[\"potentials\"][:, 1]-E_avg[\"links\"][:, 0]-E_avg[\"links\"][:, 1])/(E_avg[\"potentials\"][:, 0]+E_avg[\"potentials\"][:, 1])*100\n",
    "dif_BT = (B_avg[\"potentials\"][:, 0]+B_avg[\"potentials\"][:, 1]-B_avg[\"links\"][:, 0]-B_avg[\"links\"][:, 1])/(B_avg[\"potentials\"][:, 0]+B_avg[\"potentials\"][:, 1])*100\n",
    "# dif_ET = (E_avg[\"potentials\"][:, 0]+E_avg[\"potentials\"][:, 1])/(E_avg[\"links\"][:, 0]+E_avg[\"links\"][:, 1])\n",
    "# dif_BT = (B_avg[\"potentials\"][:, 0]+B_avg[\"potentials\"][:, 1])/(B_avg[\"links\"][:, 0]+B_avg[\"links\"][:, 1])\n",
    "ax[1].plot(tau[version], dif_ET, linewidth=2, color=colors[0])\n",
    "ax[1].plot(tau[version], dif_BT, linewidth=2, color=colors[1])\n",
    "\n",
    "for i in range(2):\n",
    "    ax[i].set_xlim(0, 0.4)\n",
    "\n",
    "#legends\n",
    "handles, labels = ax[0].get_legend_handles_labels()\n",
    "ed_labels = [r'$\\varepsilon_{E, T}$', r'$\\varepsilon_{B, T}$', r'$\\varepsilon_{E, L}$', r'$\\varepsilon_{B, L}$']\n",
    "ed_lines = []\n",
    "for ic, icolor in enumerate(colors):\n",
    "    line = Line2D([0], [0], label=ed_labels[ic], color=colors[ic], linewidth=2)\n",
    "    ed_lines.append(line)\n",
    "\n",
    "handles.extend(ed_lines)\n",
    "ax[0].legend(handles=handles, fontsize=16, loc='upper right')\n",
    "\n",
    "handles, labels = ax[1].get_legend_handles_labels()\n",
    "line_dana = Line2D([0], [0], label=r'$\\mathrm{Gauge\\,links}$', linestyle='--', color=colors[0], linewidth=2)\n",
    "line_pooja = Line2D([0], [0], label=r'$\\mathrm{Gauge\\,fields}$', color=colors[0], linewidth=2)\n",
    "handles.extend([line_pooja, line_dana])\n",
    "ax[1].legend(handles=handles, fontsize=16, loc='upper right')\n",
    "\n",
    "ax[1].set_xlabel(r'$\\tau\\,\\mathrm{[fm/}c\\mathrm{]}$')\n",
    "ax[0].set_ylabel(r'$\\varepsilon\\,\\mathrm{[GeV^4]}$')\n",
    "ax[1].set_ylabel(r'$\\delta\\varepsilon/\\varepsilon\\,[\\%]$')\n",
    "\n",
    "plt.tight_layout()\n",
    "# plt.savefig('ed_comp_gauge_links_vs_fields_better_BL_zoomin.pdf', format='pdf')"
   ]
  }
 ],
 "metadata": {
  "kernelspec": {
   "display_name": "Python 3",
   "language": "python",
   "name": "python3"
  },
  "language_info": {
   "codemirror_mode": {
    "name": "ipython",
    "version": 3
   },
   "file_extension": ".py",
   "mimetype": "text/x-python",
   "name": "python",
   "nbconvert_exporter": "python",
   "pygments_lexer": "ipython3",
   "version": "3.6.8"
  }
 },
 "nbformat": 4,
 "nbformat_minor": 2
}
