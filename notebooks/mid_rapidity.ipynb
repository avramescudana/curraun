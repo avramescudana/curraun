{
 "cells": [
  {
   "cell_type": "markdown",
   "metadata": {},
   "source": [
    "# Mid-rapidity claculation"
   ]
  },
  {
   "cell_type": "markdown",
   "metadata": {},
   "source": [
    "Simplest case where we consider z=0 and use that in the eikonal limit the gauge transformation is not needed"
   ]
  },
  {
   "cell_type": "markdown",
   "metadata": {},
   "source": [
    "### Set Up"
   ]
  },
  {
   "cell_type": "markdown",
   "metadata": {},
   "source": [
    "Set parameters and environment variables"
   ]
  },
  {
   "cell_type": "code",
   "execution_count": 1,
   "metadata": {},
   "outputs": [],
   "source": [
    "import numpy as np\n",
    "\n",
    "# hbar * c [GeV * fm]\n",
    "hbarc = 0.197326 \n",
    "\n",
    "# Simulation box \n",
    "L = 1         \n",
    "N = 128 \n",
    "tau_sim = 0.25    \n",
    "DTS = 8\n",
    "\n",
    "# Derived parameters\n",
    "a = L/N\n",
    "E0 = N / L * hbarc\n",
    "DT = 1.0 / DTS\n",
    "maxt = int(tau_sim / a * DTS)\n",
    "nplus = maxt//DTS\n",
    "\n",
    "# Glasma fields\n",
    "su_group = 'su3'\n",
    "uv = 10.0\n",
    "ir = 0.2\n",
    "g2mu = 1.5\n",
    "\n",
    "\n",
    "g = 1          \t\t\n",
    "mu = g2mu / g**2\n",
    "\n",
    "ns = 50      \n",
    "\n",
    "\n",
    "nevents = 100"
   ]
  },
  {
   "cell_type": "code",
   "execution_count": 2,
   "metadata": {},
   "outputs": [
    {
     "name": "stderr",
     "output_type": "stream",
     "text": [
      "/home2/carlos.lamas/condacurraun/lib/python3.10/site-packages/scipy/__init__.py:132: UserWarning: A NumPy version >=1.21.6 and <1.28.0 is required for this version of SciPy (detected version 1.21.5)\n",
      "  warnings.warn(f\"A NumPy version >={np_minversion} and <{np_maxversion}\"\n"
     ]
    },
    {
     "name": "stdout",
     "output_type": "stream",
     "text": [
      "Using Numba\n",
      "Using SU(3)\n",
      "Using double precision\n"
     ]
    }
   ],
   "source": [
    "import os\n",
    "\n",
    "os.environ[\"MY_NUMBA_TARGET\"] = \"numba\"\n",
    "os.environ[\"PRECISION\"] = \"double\"\n",
    "os.environ['GAUGE_GROUP'] = su_group\n",
    "\n",
    "# Import relevant modules\n",
    "import sys\n",
    "sys.path.append('..')\n",
    "\n",
    "# Glasma modules\n",
    "import curraun.core as core\n",
    "import curraun.mv as mv\n",
    "import curraun.initial as initial\n",
    "initial.DEBUG = False\n",
    "\n",
    "import curraun.su as su\n",
    "from curraun.numba_target import use_cuda\n",
    "if use_cuda:\n",
    "    from numba import cuda\n",
    "\n",
    "import curraun.su as su\n",
    "import curraun.mid_rapidity as mr"
   ]
  },
  {
   "cell_type": "markdown",
   "metadata": {},
   "source": [
    "### Simulation"
   ]
  },
  {
   "cell_type": "markdown",
   "metadata": {},
   "source": [
    "We define the simulation routine"
   ]
  },
  {
   "cell_type": "code",
   "execution_count": 3,
   "metadata": {},
   "outputs": [],
   "source": [
    "from tqdm import tqdm\n",
    "\n",
    "# Simulation rutine\n",
    "def simulate():\n",
    "    output = {}\n",
    "    \n",
    "    # Derived parameters\n",
    "    a = L/N\n",
    "    E0 = N / L * hbarc\n",
    "    DT = 1.0 / DTS\n",
    "    maxt = int(tau_sim / a * DTS)\n",
    "    nplus = maxt//DTS\n",
    "    \n",
    "    # We create the object simulation\n",
    "    s = core.Simulation(N, DT, g)\n",
    "\n",
    "    # We initilize the Glasma fields\n",
    "    va = mv.wilson(s, mu=mu / E0, m=ir / E0, uv=uv / E0, num_sheets=ns)\n",
    "    vb = mv.wilson(s, mu=mu / E0, m=ir / E0, uv=uv / E0, num_sheets=ns)\n",
    "    initial.init(s, va, vb)\n",
    "    \n",
    "    # We create and object to store the gauge links\n",
    "    up = np.zeros((nplus, N*N, su.GROUP_ELEMENTS), dtype=su.GROUP_TYPE)\n",
    "    \n",
    "    # We create the object gauge link\n",
    "    plink = mr.PlusLink(s)\n",
    "    \n",
    "    plink.init()\n",
    "    \n",
    "    # We simulate the event and store the U_+ when the temporal and spatial lattices match\n",
    "    with tqdm(total=nplus) as pbar:\n",
    "        for t in range(maxt):\n",
    "            \n",
    "            # Evolve the Glasma fields\n",
    "            core.evolve_leapfrog(s)\n",
    "            \n",
    "            # When the time and space lattices match we store the fields\n",
    "            if t%DTS == 0:\n",
    "                \n",
    "                xplus = t//DTS\n",
    "                \n",
    "                plink.compute_plus_link(xplus)\n",
    "                \n",
    "                up[t//DTS] = plink.up.copy()\n",
    "                \n",
    "                pbar.update(1)\n",
    "            \n",
    "    if use_cuda:\n",
    "        cuda.current_context().deallocations.clear()\n",
    "    \n",
    "    # We write the transformed fields in a dictionary\n",
    "    output[\"up\"] = up\n",
    "    \n",
    "    return output"
   ]
  },
  {
   "cell_type": "markdown",
   "metadata": {},
   "source": [
    "We run the simulation"
   ]
  },
  {
   "cell_type": "code",
   "execution_count": 4,
   "metadata": {},
   "outputs": [
    {
     "name": "stdout",
     "output_type": "stream",
     "text": [
      "Event 0\n"
     ]
    },
    {
     "name": "stderr",
     "output_type": "stream",
     "text": [
      "OMP: Info #276: omp_set_nested routine deprecated, please use omp_set_max_active_levels instead.\n",
      "100%|██████████| 32/32 [00:04<00:00,  6.97it/s]\n"
     ]
    }
   ],
   "source": [
    "import warnings\n",
    "warnings.filterwarnings('ignore')\n",
    "\n",
    "for n in range (nevents):\n",
    "    \n",
    "    print('Event %i' % n)\n",
    "    output = simulate()\n",
    "    \n",
    "    up = output['up']\n",
    "    \n",
    "    np.save(os.path.join('simulations', 'mid_rapidity', 'result_%i.npy' %n), up)"
   ]
  },
  {
   "cell_type": "markdown",
   "metadata": {},
   "source": [
    "### Visualizing the results"
   ]
  },
  {
   "cell_type": "markdown",
   "metadata": {},
   "source": [
    "We extract the color components"
   ]
  },
  {
   "cell_type": "code",
   "execution_count": 5,
   "metadata": {},
   "outputs": [],
   "source": [
    "up_r = up.reshape(nplus, N, N, su.GROUP_ELEMENTS)\n",
    "up_comp = np.apply_along_axis(su.get_algebra_factors_from_group_element_approximate, 3, up_r)"
   ]
  },
  {
   "cell_type": "code",
   "execution_count": 6,
   "metadata": {},
   "outputs": [
    {
     "data": {
      "image/png": "[encoded data removed]",
      "text/plain": [
       "<Figure size 3000x500 with 8 Axes>"
      ]
     },
     "metadata": {},
     "output_type": "display_data"
    }
   ],
   "source": [
    "# We plot the temporal gauge results\n",
    "import matplotlib.pyplot as plt\n",
    "\n",
    "fig, axs = plt.subplots(1, nplus//8, figsize=(30,5))\n",
    "fig.suptitle(r'$A_+^{temp}(x^+, y, z)$', fontsize=20)\n",
    "\n",
    "for t in range(nplus//8): \n",
    "    xplus = 8*t\n",
    "    \n",
    "    plot1 = axs[t].imshow(up_comp[xplus, :, :, 0].real, cmap='RdBu', vmin=-0.1, vmax=0.1) \n",
    "    cbar = plt.colorbar(plot1, ax = axs[t])\n",
    "    \n",
    "    axs[t].set_xticklabels([]); axs[t].set_yticklabels([])\n",
    "    axs[t].set_ylabel('y', fontsize=20); axs[t].set_xlabel('z', fontsize=20)\n",
    "    axs[t].set_title(r'$x^+ = %.2f\\ GeV^{-1}$' %(2*a*xplus/hbarc), fontsize=20)\n",
    "    \n",
    "# plt.savefig('zoom arround z=0')"
   ]
  },
  {
   "cell_type": "markdown",
   "metadata": {},
   "source": [
    "## Light cone gauge calculation"
   ]
  },
  {
   "cell_type": "markdown",
   "metadata": {},
   "source": [
    "Let us transform the fields to the LC gauge to see if the results are modified"
   ]
  },
  {
   "cell_type": "code",
   "execution_count": 1,
   "metadata": {},
   "outputs": [],
   "source": [
    "import numpy as np\n",
    "\n",
    "# hbar * c [GeV * fm]\n",
    "hbarc = 0.197326 \n",
    "\n",
    "# Simulation box \n",
    "L = 1         \n",
    "N = 128 \n",
    "tau_sim = 0.25    \n",
    "DTS = 8\n",
    "\n",
    "# Derived parameters\n",
    "a = L/N\n",
    "E0 = N / L * hbarc\n",
    "DT = 1.0 / DTS\n",
    "maxt = int(tau_sim / a * DTS)\n",
    "nplus = maxt//DTS\n",
    "\n",
    "# Glasma fields\n",
    "su_group = 'su3'\n",
    "uv = 10.0\n",
    "ir = 0.2\n",
    "g2mu = 1.5\n",
    "\n",
    "\n",
    "g = 1          \t\t\n",
    "mu = g2mu / g**2\n",
    "\n",
    "ns = 50      \n",
    "\n",
    "\n",
    "nevents = 1"
   ]
  },
  {
   "cell_type": "code",
   "execution_count": 2,
   "metadata": {},
   "outputs": [
    {
     "name": "stderr",
     "output_type": "stream",
     "text": [
      "/home2/carlos.lamas/condacurraun/lib/python3.10/site-packages/scipy/__init__.py:132: UserWarning: A NumPy version >=1.21.6 and <1.28.0 is required for this version of SciPy (detected version 1.21.5)\n",
      "  warnings.warn(f\"A NumPy version >={np_minversion} and <{np_maxversion}\"\n"
     ]
    },
    {
     "name": "stdout",
     "output_type": "stream",
     "text": [
      "Using CUDA\n",
      "Using SU(3)\n",
      "Using double precision\n"
     ]
    }
   ],
   "source": [
    "import os\n",
    "\n",
    "os.environ[\"MY_NUMBA_TARGET\"] = \"cuda\"\n",
    "os.environ[\"PRECISION\"] = \"double\"\n",
    "os.environ['GAUGE_GROUP'] = su_group\n",
    "\n",
    "# Import relevant modules\n",
    "import sys\n",
    "sys.path.append('..')\n",
    "\n",
    "# Glasma modules\n",
    "import curraun.core as core\n",
    "import curraun.mv as mv\n",
    "import curraun.initial as initial\n",
    "initial.DEBUG = False\n",
    "\n",
    "import curraun.su as su\n",
    "from curraun.numba_target import use_cuda\n",
    "if use_cuda:\n",
    "    from numba import cuda\n",
    "\n",
    "import curraun.su as su\n",
    "import curraun.mid_rapidity_lc as mr"
   ]
  },
  {
   "cell_type": "code",
   "execution_count": 3,
   "metadata": {},
   "outputs": [],
   "source": [
    "from tqdm import tqdm\n",
    "\n",
    "# Simulation rutine\n",
    "def simulate():\n",
    "    output = {}\n",
    "    \n",
    "    # Derived parameters\n",
    "    a = L/N\n",
    "    E0 = N / L * hbarc\n",
    "    DT = 1.0 / DTS\n",
    "    maxt = int(tau_sim / a * DTS)\n",
    "    nplus = maxt//DTS\n",
    "    \n",
    "    # We create the object simulation\n",
    "    s = core.Simulation(N, DT, g)\n",
    "\n",
    "    # We initilize the Glasma fields\n",
    "    va = mv.wilson(s, mu=mu / E0, m=ir / E0, uv=uv / E0, num_sheets=ns)\n",
    "    vb = mv.wilson(s, mu=mu / E0, m=ir / E0, uv=uv / E0, num_sheets=ns)\n",
    "    initial.init(s, va, vb)\n",
    "    \n",
    "    # We create the objects to store the fields at every time step\n",
    "    ux_sim = np.zeros((nplus, N*N, su.GROUP_ELEMENTS), dtype=su.GROUP_TYPE)\n",
    "    \n",
    "    # We create and object to store the gauge links\n",
    "    up = np.zeros((nplus-1, N*N, su.GROUP_ELEMENTS), dtype=su.GROUP_TYPE)\n",
    "    \n",
    "    # We create the object gauge link\n",
    "    plink = mr.PlusLink(s)\n",
    "    \n",
    "    plink.init()\n",
    "    \n",
    "    # We simulate the event and store the Glasma fields at every time step\n",
    "    with tqdm(total=nplus) as pbar:\n",
    "        for t in range(maxt):\n",
    "            \n",
    "            # Evolve the Glasma fields\n",
    "            core.evolve_leapfrog(s)\n",
    "            \n",
    "            # When the time and space lattices match we store the fields\n",
    "            if t%DTS == 0:\n",
    "                \n",
    "                xplus == t//DTS\n",
    "                \n",
    "                u1 = s.u1.copy()\n",
    "                up[t//DTS] = u1[:, 0, :]\n",
    "                \n",
    "                plink.compute_plus_link(xplus, ux_sim)\n",
    "            \n",
    "                \n",
    "        \n",
    "                pbar.update(1)\n",
    "            \n",
    "    if use_cuda:\n",
    "        cuda.current_context().deallocations.clear() \n",
    "    \n",
    "    # We write the transformed fields in a dictionary\n",
    "    output[\"up\"] = up\n",
    "    \n",
    "    return output"
   ]
  },
  {
   "cell_type": "code",
   "execution_count": 4,
   "metadata": {},
   "outputs": [
    {
     "name": "stdout",
     "output_type": "stream",
     "text": [
      "Event 0\n"
     ]
    },
    {
     "name": "stderr",
     "output_type": "stream",
     "text": [
      "  0%|          | 0/32 [00:01<?, ?it/s]\n"
     ]
    },
    {
     "ename": "NameError",
     "evalue": "name 'xplus' is not defined",
     "output_type": "error",
     "traceback": [
      "\u001b[0;31m---------------------------------------------------------------------------\u001b[0m",
      "\u001b[0;31mNameError\u001b[0m                                 Traceback (most recent call last)",
      "Cell \u001b[0;32mIn[4], line 7\u001b[0m\n\u001b[1;32m      4\u001b[0m \u001b[38;5;28;01mfor\u001b[39;00m n \u001b[38;5;129;01min\u001b[39;00m \u001b[38;5;28mrange\u001b[39m (nevents):\n\u001b[1;32m      6\u001b[0m     \u001b[38;5;28mprint\u001b[39m(\u001b[38;5;124m'\u001b[39m\u001b[38;5;124mEvent \u001b[39m\u001b[38;5;132;01m%i\u001b[39;00m\u001b[38;5;124m'\u001b[39m \u001b[38;5;241m%\u001b[39m n)\n\u001b[0;32m----> 7\u001b[0m     output \u001b[38;5;241m=\u001b[39m \u001b[43msimulate\u001b[49m\u001b[43m(\u001b[49m\u001b[43m)\u001b[49m\n\u001b[1;32m      9\u001b[0m     up \u001b[38;5;241m=\u001b[39m output[\u001b[38;5;124m'\u001b[39m\u001b[38;5;124mup\u001b[39m\u001b[38;5;124m'\u001b[39m]\n",
      "Cell \u001b[0;32mIn[3], line 43\u001b[0m, in \u001b[0;36msimulate\u001b[0;34m()\u001b[0m\n\u001b[1;32m     40\u001b[0m \u001b[38;5;66;03m# When the time and space lattices match we store the fields\u001b[39;00m\n\u001b[1;32m     41\u001b[0m \u001b[38;5;28;01mif\u001b[39;00m t\u001b[38;5;241m%\u001b[39mDTS \u001b[38;5;241m==\u001b[39m \u001b[38;5;241m0\u001b[39m:\n\u001b[0;32m---> 43\u001b[0m     \u001b[43mxplus\u001b[49m \u001b[38;5;241m==\u001b[39m t\u001b[38;5;241m/\u001b[39m\u001b[38;5;241m/\u001b[39mDTS\n\u001b[1;32m     45\u001b[0m     u1 \u001b[38;5;241m=\u001b[39m s\u001b[38;5;241m.\u001b[39mu1\u001b[38;5;241m.\u001b[39mcopy()\n\u001b[1;32m     46\u001b[0m     up[t\u001b[38;5;241m/\u001b[39m\u001b[38;5;241m/\u001b[39mDTS] \u001b[38;5;241m=\u001b[39m u1[:, \u001b[38;5;241m0\u001b[39m, :]\n",
      "\u001b[0;31mNameError\u001b[0m: name 'xplus' is not defined"
     ]
    }
   ],
   "source": [
    "import warnings\n",
    "warnings.filterwarnings('ignore')\n",
    "\n",
    "for n in range (nevents):\n",
    "    \n",
    "    print('Event %i' % n)\n",
    "    output = simulate()\n",
    "    \n",
    "    up = output['up']\n",
    "    \n",
    "    # np.save(os.path.join('simulations', 'mid_rapidity', 'result_%i.npy' %n), up)"
   ]
  }
 ],
 "metadata": {
  "kernelspec": {
   "display_name": "Python 3",
   "language": "python",
   "name": "python3"
  },
  "language_info": {
   "codemirror_mode": {
    "name": "ipython",
    "version": 3
   },
   "file_extension": ".py",
   "mimetype": "text/x-python",
   "name": "python",
   "nbconvert_exporter": "python",
   "pygments_lexer": "ipython3",
   "version": "3.10.4"
  }
 },
 "nbformat": 4,
 "nbformat_minor": 2
}
