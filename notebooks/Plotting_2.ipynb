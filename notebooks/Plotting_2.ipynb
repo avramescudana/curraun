{
 "cells": [
  {
   "cell_type": "code",
   "execution_count": null,
   "metadata": {},
   "outputs": [],
   "source": [
    "import matplotlib.pyplot as plt\n",
    "import pandas as pd\n",
    "import os\n",
    "\n",
    "from matplotlib import rc\n",
    "\n",
    "# rc('text', usetex=True)\n",
    "plt.rcParams[\"figure.figsize\"] = (10, 7)\n",
    "plt.rcParams.update({'font.size':18})\n",
    "\n",
    "\n",
    "\n",
    "# !!!!!!!!!!!!!!!!!!!!!!!!!!!!!!!!!!!!!!!!!!!!!!!!!!!!!!!!!!!!!!!!!!!!!!!!!!!!!!!!!!!!!!!!!!!!!!!!!!!!!!!!!!!!!!!!!!!!!!!!!!!!!!\n",
    "# Plotting:    1/alpha² Tr(E' - E)^2 / Tr(E^2)     vs     g^2 mu tau         for alpha = , N = 256, m_noise = \n",
    "# !!!!!!!!!!!!!!!!!!!!!!!!!!!!!!!!!!!!!!!!!!!!!!!!!!!!!!!!!!!!!!!!!!!!!!!!!!!!!!!!!!!!!!!!!!!!!!!!!!!!!!!!!!!!!!!!!!!!!!!!!!!!!!\n",
    "\n",
    "plt.title(r\"$g^2 \\mu \\tau$    vs    $ \\mathrm {\\frac{Tr(E'_{\\eta} - E_{\\eta})^2}{Tr(E_{\\eta}^2)} }$\")               # Plot title\n",
    "plt.xlabel(r\"$g^2 \\mu \\tau$\")                                                                                       # Plot X-Axis Label\n",
    "plt.ylabel(r\"$ \\mathrm {\\frac{Tr(E'_{\\eta} - E_{\\eta})^2}{Tr(E_{\\eta}^2)} }$\")                                      # Plot Y-Axis Label\n",
    "\n",
    "# Plotting for N = 256, alpha = 0.001  without Fourier Transform\n",
    "base_path1 = \"/home/pooja/Desktop/Research/curraun/notebooks/Plots_Data_18042025/Data_files/\"\n",
    "filename = \"data_tau_diffEeta_alpha2_N256_alpha001.csv\"\n",
    "file_path = os.path.join(base_path1, filename)\n",
    "df = pd.read_csv(file_path)\n",
    "plt.plot(df[\"tau\"], df[\"diff_Eeta_alpha2\"], label=rf\"$N = 256 $, $\\alpha = 0.001 $\", color='red', linestyle=\"solid\", linewidth=2.0)\n",
    "\n",
    "\n",
    "# Plotting for N = 256, alpha = 0.001, m_noise = 0.1\n",
    "base_path2 = \"/home/pooja/Desktop/Research/curraun/notebooks/Plots_Data_27042025/Data_files/\"\n",
    "filename = \"data_tau_diffEeta_alpha2_N256_a0001_m01.csv\"\n",
    "file_path = os.path.join(base_path2, filename)\n",
    "df = pd.read_csv(file_path)\n",
    "plt.plot(df[\"tau\"], df[\"diff_Eeta_alpha2\"], label=rf\"$N = 256 $, $\\alpha = 0.001 $, $m_{{noise}} = 0.1 $\", color='blue', linestyle=\"dashed\", linewidth=2.0)\n",
    "\n",
    "# Plotting for N = 256, alpha = 0.001, m_noise = 0.001\n",
    "filename = \"data_tau_diffEeta_alpha2_N256_a0001_m0001.csv\"\n",
    "file_path = os.path.join(base_path2, filename)\n",
    "df = pd.read_csv(file_path)\n",
    "plt.plot(df[\"tau\"], df[\"diff_Eeta_alpha2\"], label=rf\"$N = 256 $, $\\alpha = 0.001 $, $m_{{noise}} = 0.001 $\", color='blue', linestyle=\"dashed\", linewidth=2.0)\n",
    "\n",
    "plt.legend()\n",
    "plt.savefig('ComparePlot_g2mutau_diffEeta_alpha2_alpha001.png', dpi=600)                              # Save the plot\n",
    "plt.show()\n",
    "# //////////////////////////////////////////////////////////////////////////////////////////////////////////////////////////////\n",
    "# //////////////////////////////////////////////////////////////////////////////////////////////////////////////////////////////"
   ]
  }
 ],
 "metadata": {
  "kernelspec": {
   "display_name": "Python 3",
   "language": "python",
   "name": "python3"
  },
  "language_info": {
   "codemirror_mode": {
    "name": "ipython",
    "version": 3
   },
   "file_extension": ".py",
   "mimetype": "text/x-python",
   "name": "python",
   "nbconvert_exporter": "python",
   "pygments_lexer": "ipython3",
   "version": "3.12.7"
  }
 },
 "nbformat": 4,
 "nbformat_minor": 2
}
