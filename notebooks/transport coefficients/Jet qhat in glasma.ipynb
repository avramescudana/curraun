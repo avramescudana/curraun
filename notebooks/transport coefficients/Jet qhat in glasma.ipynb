{
 "cells": [
  {
   "cell_type": "markdown",
   "metadata": {},
   "source": [
    "### Simulation parameters"
   ]
  },
  {
   "cell_type": "code",
   "execution_count": 2,
   "metadata": {},
   "outputs": [],
   "source": [
    "import numpy as np\n",
    "\n",
    "# hbar * c [GeV * fm]\n",
    "hbarc = 0.197326 \n",
    "\n",
    "# Simulation box \n",
    "L = 2      \n",
    "N = 1024 \n",
    "tau_sim = 0.2    \n",
    "DTS = 16\n",
    "\n",
    "# Glasma\n",
    "su_group = 'su3'\n",
    "Qs = 2.0        \n",
    "ns = 50    \n",
    "factorqs = 0.8        \n",
    "g2mu = Qs / factorqs   \n",
    "g = np.pi * np.sqrt(1 / np.log(Qs / 0.2))          \t\t\n",
    "mu = g2mu / g**2      \n",
    "factorm = 0.1    \t\n",
    "ir = factorm * g**2 * mu         \n",
    "uv = 10.0           "
   ]
  },
  {
   "cell_type": "markdown",
   "metadata": {},
   "source": [
    "### Environment variables"
   ]
  },
  {
   "cell_type": "code",
   "execution_count": 3,
   "metadata": {},
   "outputs": [
    {
     "name": "stdout",
     "output_type": "stream",
     "text": [
      "Using CUDA\n",
      "Using SU(3)\n",
      "Using double precision\n",
      "Using double precision\n"
     ]
    }
   ],
   "source": [
    "import os\n",
    "\n",
    "# Comment this, I need it for JYU GPUs to choose a specific GPU to run on\n",
    "os.environ[\"CUDA_VISIBLE_DEVICES\"]=\"2,3,4,6\"\n",
    "\n",
    "os.environ[\"MY_NUMBA_TARGET\"] = \"cuda\"\n",
    "os.environ[\"PRECISION\"] = \"double\"\n",
    "os.environ[\"GAUGE_GROUP\"] = su_group\n",
    "\n",
    "# Import relevant modules\n",
    "import sys\n",
    "sys.path.append('/n/work00/davrames/curraun/')\n",
    "\n",
    "# Glasma modules\n",
    "import curraun.core as core\n",
    "import curraun.mv as mv\n",
    "import curraun.initial as initial\n",
    "initial.DEBUG = False\n",
    "\n",
    "import curraun.su as su\n",
    "from curraun.numba_target import use_cuda\n",
    "if use_cuda:\n",
    "    from numba import cuda\n",
    "\n",
    "# Qhat module\n",
    "import curraun.qhat as qhat\n",
    "\n",
    "import pickle\n",
    "from tqdm import tqdm"
   ]
  },
  {
   "cell_type": "markdown",
   "metadata": {},
   "source": [
    "### Run $\\hat{q}$ module"
   ]
  },
  {
   "cell_type": "code",
   "execution_count": 4,
   "metadata": {},
   "outputs": [],
   "source": [
    "def simulate_qhat(ev): \n",
    "    # Derived parameters\n",
    "    a = L / N\n",
    "    E0 = N / L * hbarc\n",
    "    DT = 1.0 / DTS\n",
    "    maxt = int(tau_sim / a * DTS)\n",
    "\n",
    "    # Initialize Glasma fields\n",
    "    s = core.Simulation(N, DT, g)\n",
    "    va = mv.wilson(s, mu=mu / E0, m=ir / E0, uv=uv / E0, num_sheets=ns)\n",
    "    vb = mv.wilson(s, mu=mu / E0, m=ir / E0, uv=uv / E0, num_sheets=ns)\n",
    "    initial.init(s, va, vb)\n",
    "\n",
    "    # Initialize the Qhat module\n",
    "    qhat_tforce = qhat.TransportedForce(s)\n",
    "    mom_broad =  []\n",
    "    # xplus = []\n",
    "    tau = []\n",
    "\n",
    "    if use_cuda:\n",
    "        qhat_tforce.copy_to_device()\n",
    "\n",
    "    with tqdm(total=maxt) as pbar:\n",
    "        for t in range(maxt):\n",
    "            # Compute momentum broadening from Qhat module\n",
    "            if t % DTS == 0:\n",
    "                if use_cuda:\n",
    "                    qhat_tforce.copy_mean_to_host()\n",
    "\n",
    "                # Units GeV^2\n",
    "                mom_broad.append(qhat_tforce.p_perp_mean * E0 ** 2)\n",
    "                # Units GeV^-1\n",
    "                # xplus.append(t*a/DTS/hbarc)\n",
    "                tau.append(t*a/DTS)\n",
    "                \n",
    "                if use_cuda:\n",
    "                    qhat_tforce.copy_mean_to_device()\n",
    "            qhat_tforce.compute()\n",
    "\n",
    "            # Evolve Glasma fields\n",
    "            core.evolve_leapfrog(s)\n",
    "\n",
    "            pbar.set_description(\"Event \" + str(ev+1))\n",
    "            pbar.update(1)\n",
    "\n",
    "    # return mom_broad, xplus\n",
    "    return mom_broad, tau"
   ]
  },
  {
   "cell_type": "markdown",
   "metadata": {},
   "source": [
    "### Run multiple Glasma events, do averages"
   ]
  },
  {
   "cell_type": "code",
   "execution_count": 5,
   "metadata": {},
   "outputs": [
    {
     "name": "stderr",
     "output_type": "stream",
     "text": [
      "Event 1: 100%|██████████| 1638/1638 [19:08<00:00,  1.43it/s]\n",
      "Event 2: 100%|██████████| 1638/1638 [20:29<00:00,  1.33it/s]\n",
      "Event 3: 100%|██████████| 1638/1638 [16:32<00:00,  1.65it/s]\n",
      "Event 4: 100%|██████████| 1638/1638 [13:08<00:00,  2.08it/s]\n",
      "Event 5: 100%|██████████| 1638/1638 [13:04<00:00,  2.09it/s]\n",
      "Event 6: 100%|██████████| 1638/1638 [13:08<00:00,  2.08it/s]\n",
      "Event 7: 100%|██████████| 1638/1638 [13:07<00:00,  2.08it/s]\n",
      "Event 8: 100%|██████████| 1638/1638 [13:09<00:00,  2.08it/s]\n",
      "Event 9: 100%|██████████| 1638/1638 [13:07<00:00,  2.08it/s]\n",
      "Event 10: 100%|██████████| 1638/1638 [13:06<00:00,  2.08it/s]\n"
     ]
    }
   ],
   "source": [
    "nevents = 10\n",
    "\n",
    "mom_broads = []\n",
    "for ev in range(nevents):\n",
    "    mom_broad_ev, tau = simulate_qhat(ev)\n",
    "    mom_broads.append(mom_broad_ev)\n",
    "\n",
    "mom_broad = np.mean(mom_broads, axis=0)"
   ]
  },
  {
   "cell_type": "code",
   "execution_count": 6,
   "metadata": {},
   "outputs": [],
   "source": [
    "output = {\n",
    "    'mom_broad': mom_broad,\n",
    "    # 'xplus': xplus,\n",
    "    'hbarc': hbarc,\n",
    "    'tau' : tau,\n",
    "    'L': L,\n",
    "    'N': N,\n",
    "    'tau_sim': tau_sim,\n",
    "    'DTS': DTS,\n",
    "    'Qs': Qs,\n",
    "    'ns': ns,\n",
    "    'factorqs': factorqs,\n",
    "    'g2mu': g2mu,\n",
    "    'g': g,\n",
    "    'mu': mu,\n",
    "    'ir': ir,\n",
    "    'uv': uv\n",
    "}"
   ]
  },
  {
   "cell_type": "code",
   "execution_count": 7,
   "metadata": {},
   "outputs": [],
   "source": [
    "with open(f'qhat_eik_qs_2gev.pickle', 'wb') as f:\n",
    "    pickle.dump(output, f)"
   ]
  },
  {
   "cell_type": "markdown",
   "metadata": {},
   "source": [
    "### Plot $\\delta p^2$ and $\\hat{q}$"
   ]
  },
  {
   "cell_type": "code",
   "execution_count": 7,
   "metadata": {},
   "outputs": [],
   "source": [
    "import matplotlib.pyplot as plt\n",
    "\n",
    "from matplotlib import rc\n",
    "# rc('text', usetex=True)\n",
    "plt.rcParams[\"figure.figsize\"] = (7, 6)\n",
    "plt.rcParams.update({'font.size':18})"
   ]
  },
  {
   "cell_type": "code",
   "execution_count": null,
   "metadata": {},
   "outputs": [
    {
     "data": {
      "image/png": "[encoded data removed]",
      "text/plain": [
       "<Figure size 504x432 with 1 Axes>"
      ]
     },
     "metadata": {
      "needs_background": "light"
     },
     "output_type": "display_data"
    }
   ],
   "source": [
    "labels = [\"x\", \"y\", \"z\"]\n",
    "\n",
    "# for i in range(3):\n",
    "for i in [1,2]:\n",
    "    # plt.plot(xplus, mom_broad[:, i], label=labels[i])\n",
    "    plt.plot(tau, mom_broad[:, i], label=labels[i])\n",
    "\n",
    "# plt.plot(xplus, mom_broad[:, 1] + mom_broad[:, 2], label=\"y+z\")\n",
    "\n",
    "# plt.xlabel(\"xplus (1/GeV)\")\n",
    "plt.xlabel(\"tau (fm/c)\")\n",
    "plt.ylabel(\"mom broad (GeV²)\")\n",
    "plt.xlim([0, 5])\n",
    "# plt.ylim([0, 8])\n",
    "plt.legend()\n",
    "plt.show()"
   ]
  },
  {
   "cell_type": "code",
   "execution_count": null,
   "metadata": {},
   "outputs": [
    {
     "data": {
      "image/png": "[encoded data removed]",
      "text/plain": [
       "<Figure size 504x432 with 1 Axes>"
      ]
     },
     "metadata": {
      "needs_background": "light"
     },
     "output_type": "display_data"
    }
   ],
   "source": [
    "labels = [\"x\", \"y\", \"z\"]\n",
    "\n",
    "# for i in range(3):\n",
    "for i in [1,2]:\n",
    "    # qhat = np.diff(mom_broad[:, i]) / np.diff(xplus)\n",
    "    # plt.plot(xplus[1:len(xplus)], qhat, label=labels[i])\n",
    "    qhat = np.diff(mom_broad[:, i]) / np.diff(tau)\n",
    "    plt.plot(tau[1:len(tau)], qhat, label=labels[i])\n",
    "\n",
    "# plt.xlabel(\"xplus (1/GeV)\")\n",
    "plt.xlabel(\"tau (fm/c)\")\n",
    "plt.ylabel(\"qhat (GeV³)\")\n",
    "plt.xlim([0, 5])\n",
    "# plt.ylim([0, 8])\n",
    "plt.legend()\n",
    "plt.show()"
   ]
  }
 ],
 "metadata": {
  "kernelspec": {
   "display_name": "Python 3",
   "language": "python",
   "name": "python3"
  },
  "language_info": {
   "codemirror_mode": {
    "name": "ipython",
    "version": 3
   },
   "file_extension": ".py",
   "mimetype": "text/x-python",
   "name": "python",
   "nbconvert_exporter": "python",
   "pygments_lexer": "ipython3",
   "version": "3.6.8"
  }
 },
 "nbformat": 4,
 "nbformat_minor": 2
}
