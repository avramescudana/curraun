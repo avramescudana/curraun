{
 "cells": [
  {
   "cell_type": "markdown",
   "metadata": {},
   "source": [
    "# LC gauge transformation of Glasma using gauge fields\n",
    "Done following Meijian's Mathematica notebook."
   ]
  },
  {
   "cell_type": "markdown",
   "metadata": {},
   "source": [
    "### Extract the gauge fields\n",
    "First, let's extract the Glasma gauge fields $A^x(x,y,\\tau)$ and $A^y(x,y,\\tau)$ as logarithms of the corresponding gauge links. We will use the same simulation parameters as in the `Light cone gauge transformation of the Glasma fields.ipynb` notebook."
   ]
  },
  {
   "cell_type": "markdown",
   "metadata": {},
   "source": [
    "#### Simulation parameters"
   ]
  },
  {
   "cell_type": "code",
   "execution_count": 1,
   "metadata": {},
   "outputs": [],
   "source": [
    "import numpy as np\n",
    "\n",
    "# hbar * c [GeV * fm]\n",
    "hbarc = 0.197326 \n",
    "\n",
    "# Simulation box \n",
    "L = 2      \n",
    "N = 128   \n",
    "tau_sim = 1     \n",
    "DTS = 8     \n",
    "\n",
    "# Glasma fields\n",
    "su_group = 'su3'\n",
    "Qs = 2        \n",
    "ns = 50    \n",
    "factor = 0.8        \n",
    "g2mu = Qs / factor     \n",
    "g = np.pi * np.sqrt(1 / np.log(Qs / 0.2))          \t\t\n",
    "mu = g2mu / g**2          \t\n",
    "ir = 0.1 * g**2 * mu         \n",
    "uv = 10.0       \n",
    "\n",
    "# TODO: Run more events\n",
    "nevents = 1"
   ]
  },
  {
   "cell_type": "markdown",
   "metadata": {},
   "source": [
    "#### Environment variables"
   ]
  },
  {
   "cell_type": "code",
   "execution_count": 2,
   "metadata": {},
   "outputs": [
    {
     "name": "stdout",
     "output_type": "stream",
     "text": [
      "Using Numba\n",
      "Using SU(3)\n",
      "Using double precision\n"
     ]
    }
   ],
   "source": [
    "import os\n",
    "\n",
    "# I need to add this line to ask resources from a specific GPU, which is free. Our GPU server has no queing system\n",
    "os.environ[\"CUDA_VISIBLE_DEVICES\"]=\"3\"\n",
    "\n",
    "# os.environ[\"MY_NUMBA_TARGET\"] = \"cuda\"\n",
    "os.environ[\"MY_NUMBA_TARGET\"] = \"numba\"\n",
    "os.environ[\"PRECISION\"] = \"double\"\n",
    "os.environ['GAUGE_GROUP'] = su_group\n",
    "\n",
    "# Import relevant modules\n",
    "import sys\n",
    "sys.path.append('..')\n",
    "\n",
    "# Glasma modules\n",
    "import curraun.core as core\n",
    "import curraun.mv as mv\n",
    "import curraun.initial as initial\n",
    "initial.DEBUG = False\n",
    "\n",
    "import curraun.su as su\n",
    "import curraun.lattice as latt\n",
    "from curraun.numba_target import use_cuda\n",
    "if use_cuda:\n",
    "    from numba import cuda\n",
    "\n",
    "import curraun.su as su\n",
    "# Number of colors\n",
    "Nc = su.NC\n",
    "# Dimension of algebra \n",
    "Dg = su.GROUP_ELEMENTS"
   ]
  },
  {
   "cell_type": "markdown",
   "metadata": {},
   "source": [
    "### 1. Test the extraction of the gauge field"
   ]
  },
  {
   "cell_type": "markdown",
   "metadata": {},
   "source": [
    "#### Simulation routine for evolving the Glasma fields\n",
    "The gauge field is extracted as the logarithm of the gauge link \n",
    "$$\\boxed{A_i(x,y,\\tau)=\\,\\mathrm{ln} \\,U_i(x,y,\\tau)},$$\n",
    "with $i=x,y$ and $g$ and $a$ absorbed in the numerical definition of the gauge field. Notice that the gauge field is not evaluated in the midpoint $x+a/2$ since this is already a $\\mathcal{O}(a^2)$ correction. As extracted in the notebook [Extract the logatirhm of a SU(3) gauge link\n",
    "](https://github.com/avramescudana/curraun/blob/wong/notebooks/Logarithm%20of%20a%20SU(3)%20gauge%20link.ipynb), the fastest and simplest way to extract the logarithm of a gauge link is using the anti-hermitian part \n",
    "$$\\boxed{\\mathrm{ln}\\,U=\\dfrac{U-U^\\dagger}{2}}.$$ \n",
    "It is equivalent to performing a Taylor series of the logarithm,"
   ]
  },
  {
   "cell_type": "code",
   "execution_count": 3,
   "metadata": {},
   "outputs": [],
   "source": [
    "def ln_ah(ui):\n",
    "    buf0 = su.dagger(ui)\n",
    "    buf1 = su.mul_s(buf0, -1)\n",
    "    buf2 = su.add(ui, buf1)\n",
    "    # buf3 = su.mul_s(buf2, -0.5j)\n",
    "    buf3 = su.mul_s(buf2, 0.5)\n",
    "    ai = np.array(buf3)\n",
    "    return ai"
   ]
  },
  {
   "cell_type": "markdown",
   "metadata": {},
   "source": [
    "Alternatively, extract the logarithm of a gauge link as a Taylor series."
   ]
  },
  {
   "cell_type": "code",
   "execution_count": 4,
   "metadata": {},
   "outputs": [],
   "source": [
    "def ln_taylor(ui):\n",
    "    buf1 = su.mlog(ui)\n",
    "    # buf2 = su.mul_s(buf1, -1.0j)\n",
    "    buf2 = su.mul_s(buf1, 1.0)\n",
    "    ai = np.array(buf2)\n",
    "    return ai"
   ]
  },
  {
   "cell_type": "code",
   "execution_count": 5,
   "metadata": {},
   "outputs": [],
   "source": [
    "import pickle\n",
    "from tqdm import tqdm\n",
    "\n",
    "# Simulation routine\n",
    "def simulate(): \n",
    "\n",
    "    # Derived parameters\n",
    "    a = L / N\n",
    "    E0 = N / L * hbarc\n",
    "    DT = 1.0 / DTS\n",
    "    maxt = int(tau_sim / a * DTS)\n",
    "\n",
    "    # Initialize Glasma fields\n",
    "    s = core.Simulation(N, DT, g)\n",
    "    va = mv.wilson(s, mu=mu / E0, m=ir / E0, uv=uv / E0, num_sheets=ns)\n",
    "    vb = mv.wilson(s, mu=mu / E0, m=ir / E0, uv=uv / E0, num_sheets=ns)\n",
    "    initial.init(s, va, vb)\n",
    "\n",
    "    # Transverse gauge links\n",
    "    ax = su.GROUP_TYPE(np.zeros((maxt//DTS, N*N, Dg)))\n",
    "    ax_taylor = su.GROUP_TYPE(np.zeros((maxt//DTS, N*N, Dg)))\n",
    "\n",
    "    with tqdm(total=maxt) as pbar:\n",
    "        for t in range(maxt):            \n",
    "            # Evolve Glasma fields\n",
    "            core.evolve_leapfrog(s)\n",
    "\n",
    "            # Copy gauge links and gauge fields from the memory of the GPU\n",
    "            if t%DTS == 0:\n",
    "                ui = s.u1.copy()\n",
    "                ax[t//DTS] = np.apply_along_axis(ln_ah, 1, ui[:, 0, :])\n",
    "                ax_taylor[t//DTS] = np.apply_along_axis(ln_taylor, 1, ui[:, 0, :])\n",
    "                        \n",
    "            pbar.update(1)\n",
    "\n",
    "    if use_cuda:\n",
    "        cuda.current_context().deallocations.clear()\n",
    "\n",
    "    return ax, ax_taylor"
   ]
  },
  {
   "cell_type": "markdown",
   "metadata": {},
   "source": [
    "#### Run the simulation "
   ]
  },
  {
   "cell_type": "code",
   "execution_count": 6,
   "metadata": {},
   "outputs": [],
   "source": [
    "# Supress various horribly long warnings\n",
    "import warnings\n",
    "warnings.filterwarnings('ignore')"
   ]
  },
  {
   "cell_type": "code",
   "execution_count": 7,
   "metadata": {},
   "outputs": [
    {
     "name": "stderr",
     "output_type": "stream",
     "text": [
      "100%|██████████| 512/512 [03:14<00:00,  2.63it/s]\n"
     ]
    }
   ],
   "source": [
    "ax_ah, ax_taylor = simulate()"
   ]
  },
  {
   "cell_type": "code",
   "execution_count": 8,
   "metadata": {},
   "outputs": [
    {
     "data": {
      "text/plain": [
       "array([-4.04308346e-16,  1.57188497e-05,  5.72589787e-05, -1.57188497e-05,\n",
       "        2.83908176e-16, -3.07097789e-05, -5.72589787e-05,  3.07097789e-05,\n",
       "       -6.20648342e-16])"
      ]
     },
     "execution_count": 8,
     "metadata": {},
     "output_type": "execute_result"
    }
   ],
   "source": [
    "ax_taylor_comp = np.apply_along_axis(su.get_algebra_factors_from_group_element_approximate, 0, ax_taylor[:,:,:])\n",
    "ax_ah_comp = np.apply_along_axis(su.get_algebra_factors_from_group_element_approximate, 0, ax_ah[:,:,:])\n",
    "\n",
    "ax_taylor_comp[1,1,:] - ax_ah_comp[1,1,:] "
   ]
  },
  {
   "cell_type": "markdown",
   "metadata": {},
   "source": [
    "- - -"
   ]
  },
  {
   "cell_type": "markdown",
   "metadata": {},
   "source": [
    "### 2. Extract the gauge fields"
   ]
  },
  {
   "cell_type": "code",
   "execution_count": 9,
   "metadata": {},
   "outputs": [],
   "source": [
    "def ln_ah(ui):\n",
    "    buf0 = su.dagger(ui)\n",
    "    buf1 = su.mul_s(buf0, -1)\n",
    "    buf2 = su.add(ui, buf1)\n",
    "    # buf3 = su.mul_s(buf2, -0.5j)\n",
    "    buf3 = su.mul_s(buf2, 0.5)\n",
    "    ai = np.array(buf3)\n",
    "    return ai"
   ]
  },
  {
   "cell_type": "code",
   "execution_count": 10,
   "metadata": {},
   "outputs": [],
   "source": [
    "import pickle\n",
    "from tqdm import tqdm\n",
    "\n",
    "# Simulation routine\n",
    "def simulate(): \n",
    "\n",
    "    # Derived parameters\n",
    "    a = L / N\n",
    "    E0 = N / L * hbarc\n",
    "    DT = 1.0 / DTS\n",
    "    maxt = int(tau_sim / a * DTS)\n",
    "\n",
    "    # Initialize Glasma fields\n",
    "    s = core.Simulation(N, DT, g)\n",
    "    va = mv.wilson(s, mu=mu / E0, m=ir / E0, uv=uv / E0, num_sheets=ns)\n",
    "    vb = mv.wilson(s, mu=mu / E0, m=ir / E0, uv=uv / E0, num_sheets=ns)\n",
    "    initial.init(s, va, vb)\n",
    "\n",
    "    # Transverse gauge links\n",
    "    ax = su.GROUP_TYPE(np.zeros((maxt//DTS, N*N, Dg)))\n",
    "    ay = su.GROUP_TYPE(np.zeros((maxt//DTS, N*N, Dg)))\n",
    "\n",
    "    with tqdm(total=maxt) as pbar:\n",
    "        for t in range(maxt):            \n",
    "            # Evolve Glasma fields\n",
    "            core.evolve_leapfrog(s)\n",
    "\n",
    "            # Copy gauge links and gauge fields from the memory of the GPU\n",
    "            if t%DTS == 0:\n",
    "                ui = s.u1.copy()\n",
    "                ax[t//DTS] = np.apply_along_axis(ln_ah, 1, ui[:, 0, :])\n",
    "                ay[t//DTS] = np.apply_along_axis(ln_ah, 1, ui[:, 1, :])\n",
    "                        \n",
    "            pbar.update(1)\n",
    "\n",
    "    if use_cuda:\n",
    "        cuda.current_context().deallocations.clear()\n",
    "\n",
    "    return ax, ay"
   ]
  },
  {
   "cell_type": "code",
   "execution_count": 11,
   "metadata": {},
   "outputs": [],
   "source": [
    "# Supress various horribly long warnings\n",
    "import warnings\n",
    "warnings.filterwarnings('ignore')"
   ]
  },
  {
   "cell_type": "code",
   "execution_count": 12,
   "metadata": {},
   "outputs": [
    {
     "name": "stderr",
     "output_type": "stream",
     "text": [
      "100%|██████████| 512/512 [00:34<00:00, 14.66it/s]\n"
     ]
    }
   ],
   "source": [
    "ax, ay = simulate()"
   ]
  },
  {
   "cell_type": "code",
   "execution_count": 13,
   "metadata": {},
   "outputs": [],
   "source": [
    "ax_comp = np.apply_along_axis(su.get_algebra_factors_from_group_element_approximate, 0, ax[:,:,:])\n",
    "ay_comp = np.apply_along_axis(su.get_algebra_factors_from_group_element_approximate, 0, ay[:,:,:])"
   ]
  },
  {
   "cell_type": "markdown",
   "metadata": {},
   "source": [
    "### 3. Construct the gauge transformation\n",
    "\n",
    "In the temporal gauge $A^\\tau=0$ and at midrapidity $\\eta=z=0$ the Glasma fields in LC coordinates are expressible as \n",
    "$$A^\\pm_\\mathrm{temp}(x^+,x^-,y,z=0)=\\pm C A^x(\\tau,x,y),\\quad A^y_\\mathrm{temp}(x^+,x^-,y,z=0)=A^y(\\tau,x,y).$$ \n",
    "Here $C$ is a constant appearing in the definition of the LC coordinates $x^\\pm = C(t\\pm x)$. We are interested in expressing these fields in a LC lattice. \n",
    "\n",
    "Additionally, we work in the eikonal limit for which the $x^-$ dependence is not relevant. Thus, we choose $x^-=0$ and construct the LC gauge transformation operator in a triangular lattice. The gauge transformation is given by \n",
    "$$\\mathcal{U}^\\dagger_\\mathrm{LC}(x^+,y,z=0)=\\prod\\limits_k \\mathcal{U}^\\dagger_\\mathrm{LC}(x^+,x^-_k,y,z=0),$$ \n",
    "where each infinitesimal piece is \n",
    "$$\\mathcal{U}^\\dagger_\\mathrm{LC}(x^+,x^-_k,y,z=0)=\\mathrm{exp}\\Bigg\\{\\dfrac{\\mathrm{i}g}{2C^2}\\delta x^- A^+_\\mathrm{temp}(x^+,x^-_k,y,z=0)\\Bigg\\}.$$ \n",
    "\n",
    "If we work with a LC lattice of spacing $\\delta x^-=\\sqrt{2}a$ suitable for a LC convention $C=1/\\sqrt{2}$, the infinitesimal LC gauge trasformation becomes \n",
    "$$\\mathcal{U}^\\dagger_\\mathrm{LC}(x^+,x^-_k,y,z=0)=\\mathrm{exp}\\Big\\{\\mathrm{i}g a A^x(x^+,x^-_k,y,z=0)\\Big\\}.$$ \n",
    "\n",
    "- - -\n",
    "\n",
    "Let us closely follow Carlos' code for constructing the LC gauge transformation from [LC Coordinate Lattice](https://github.com/avramescudana/curraun/blob/jets/notebooks/LC%20Coordinate%20Lattice.ipynb)."
   ]
  },
  {
   "cell_type": "code",
   "execution_count": 14,
   "metadata": {},
   "outputs": [],
   "source": [
    "t_steps = np.shape(ax)[0]\n",
    "N = np.int(np.sqrt(np.shape(ax)[1]))\n",
    "Dg = np.shape(ax)[2]"
   ]
  },
  {
   "cell_type": "code",
   "execution_count": 15,
   "metadata": {},
   "outputs": [],
   "source": [
    "ax_r = ax.reshape((t_steps, N, N, Dg))\n",
    "ay_r = ay.reshape((t_steps, N, N, Dg))"
   ]
  },
  {
   "cell_type": "markdown",
   "metadata": {},
   "source": [
    "#### 3.1 We write the relevant magnitude in LC coordinates"
   ]
  },
  {
   "cell_type": "code",
   "execution_count": 16,
   "metadata": {},
   "outputs": [],
   "source": [
    "# We define a function that, given a set of gauge fields, returns the values over the x^+ axis\n",
    "# Notice that we do not carry the constant C because in the end it will \"cancel\" out with an appropiate choice of LC lattice spacing\n",
    "\n",
    "def get_xplus_axis_fields (a):\n",
    "    aplus = su.GROUP_TYPE(np.zeros((t_steps, N, Dg)))\n",
    "    for t in range (t_steps):\n",
    "        aplus[t, :, :] = a[t,t,:,:]\n",
    "    return aplus"
   ]
  },
  {
   "cell_type": "code",
   "execution_count": 17,
   "metadata": {},
   "outputs": [],
   "source": [
    "aplus_r = get_xplus_axis_fields(ax_r)"
   ]
  },
  {
   "cell_type": "code",
   "execution_count": 18,
   "metadata": {},
   "outputs": [
    {
     "data": {
      "text/plain": [
       "(64, 128, 9)"
      ]
     },
     "execution_count": 18,
     "metadata": {},
     "output_type": "execute_result"
    }
   ],
   "source": [
    "aplus_r.shape"
   ]
  },
  {
   "cell_type": "markdown",
   "metadata": {},
   "source": [
    "#### 3.2 We gauge transform the relevant quantity to LC gauge"
   ]
  },
  {
   "cell_type": "code",
   "execution_count": 19,
   "metadata": {},
   "outputs": [],
   "source": [
    "def exp_gauge_field(a):\n",
    "    # return su.mexp(a)\n",
    "    exp = np.apply_along_axis(su.mexp, 1, a)\n",
    "    return exp"
   ]
  },
  {
   "cell_type": "code",
   "execution_count": 20,
   "metadata": {},
   "outputs": [],
   "source": [
    "# We construct a function that gives the gauge operator at a given point\n",
    "\n",
    "def gauge_operator(a, xplus, xminus):\n",
    "    v = su.GROUP_TYPE(np.array([su.unit() for i in range(N)]))\n",
    "    for t in range(xplus+xminus):\n",
    "        buffer1 = v\n",
    "        # Here I rexpondentiate the logarithm of a gauge link. It is quite redundant\n",
    "        #TODO: Use here directly the gauge link? \n",
    "        aux = exp_gauge_field(a[t, 2*xplus-t, :, :])\n",
    "        buffer2 = np.apply_along_axis(su.dagger, 1, aux)\n",
    "        v = np.array([su.mul(buffer1[i, :], buffer2[i, :]) for i in range(N)])\n",
    "    return v"
   ]
  },
  {
   "cell_type": "code",
   "execution_count": 21,
   "metadata": {},
   "outputs": [],
   "source": [
    "# We construct an array with the gauge operator over the x^+ axis\n",
    "\n",
    "v_LC = su.GROUP_TYPE(np.zeros((t_steps, N, Dg)))\n",
    "\n",
    "for t in range (t_steps):\n",
    "    v_LC[t,:,:] = gauge_operator(ax_r, t, 0)"
   ]
  },
  {
   "cell_type": "code",
   "execution_count": 23,
   "metadata": {},
   "outputs": [
    {
     "data": {
      "text/plain": [
       "(64, 128, 9)"
      ]
     },
     "execution_count": 23,
     "metadata": {},
     "output_type": "execute_result"
    }
   ],
   "source": [
    "v_LC.shape"
   ]
  },
  {
   "cell_type": "markdown",
   "metadata": {},
   "source": [
    "#### 3.2 We apply the gauge transformation\n",
    "This is the part that is different from Carlos' code from [LC Coordinate Lattice](https://github.com/avramescudana/curraun/blob/jets/notebooks/LC%20Coordinate%20Lattice.ipynb).\n",
    "\n",
    "The gauge transformation is done at the level of the gauge fields, namely \n",
    "$$A_\\mu^\\mathrm{LC}(x_\\mathrm{LC}^\\mathrm{eik})=\\mathcal{U}_\\mathrm{LC}(x_\\mathrm{LC}^\\mathrm{eik}) A_\\mu^\\mathrm{temp}(x_\\mathrm{LC}^\\mathrm{eik}) \\mathcal{U}_\\mathrm{LC}^\\dagger(x_\\mathrm{LC}^\\mathrm{eik})+\\dfrac{\\mathrm{i}}{g}\\mathcal{U}_\\mathrm{LC}(x_\\mathrm{LC}^\\mathrm{eik})\\partial_\\mu \\mathcal{U}_\\mathrm{LC}^\\dagger(x_\\mathrm{LC}^\\mathrm{eik}),$$ \n",
    "where $x_\\mathrm{LC}^\\mathrm{eik}\\equiv (x^+, y, z=0)$. Notice that there is no $x^-$ dependence since we work in the eikonal limit.\n",
    "\n",
    "In her approach, Meijian applies the partial derivative on the gauge transformation as \n",
    "$$\\partial_\\mu \\mathcal{U}_\\mathrm{LC}^\\dagger(x_\\mathrm{LC}^\\mathrm{eik})=\\dfrac{\\mathrm{i}g}{2C^2}\\delta x^- \\sum\\limits_k \\partial_\\mu A^+_\\mathrm{temp}(x^+,x^-_k,y,z=0)\\,\\,\\mathcal{U}_\\mathrm{LC}^\\dagger(x_\\mathrm{LC}^\\mathrm{eik}).$$\n",
    "\n",
    "Further, the partial derivative of the gauge field may be extracted as\n",
    "$$\\partial_\\mu A_\\mu^\\mathrm{LC}(x_\\mathrm{LC})\\equiv \\dfrac{1}{2\\delta x^\\mu}\\Big[A_\\mu^\\mathrm{LC}(x_\\mathrm{LC}+\\delta x^\\mu\\hat{e}_\\mu)-A_\\mu^\\mathrm{LC}(x_\\mathrm{LC}-\\delta x^\\mu\\hat{e}_\\mu)\\Big]$$\n",
    "which represent the symmetric definition of the partial derivative on the lattice. Here $\\delta x^\\mu$ is the lattice spacing along the direction $\\hat{e}_\\mu$ and $x_\\mathrm{LC}\\pm\\delta x^\\mu\\hat{e}_\\mu$ is the four vector where the component $\\mu$ is displaced by $\\pm\\delta x^\\mu$. In our LC lattice construction, $C=1/\\sqrt{2}$ and $\\delta x^\\pm = \\sqrt{2}a$.\n",
    "\n",
    "- - -\n",
    "Alternatively, one may directly extract the partial derivative of the gauge transformation operator in the LC lattice as\n",
    "$$\\partial_\\mu \\mathcal{U}_\\mathrm{LC}^\\dagger(x_\\mathrm{LC}^\\mathrm{eik})\\equiv \\dfrac{1}{2\\delta x^\\mu}\\Big[\\mathcal{U}_\\mathrm{LC}^\\dagger(x_\\mathrm{LC}^\\mathrm{eik}+\\delta x^\\mu\\hat{e}_\\mu)^\\mathrm{eik}-\\mathcal{U}_\\mathrm{LC}^\\dagger(x_\\mathrm{LC}-\\delta x^\\mu\\hat{e}_\\mu)\\Big]$$\n",
    "but this would yield incorrect results for the $\\partial_-$ derivative since we dropped the $x^-$ dependence in $U^\\dagger(x_\\mathrm{LC}^\\mathrm{eik})$. The $x^-$ derivative will be $\\partial_- \\mathcal{U}_\\mathrm{LC}^\\dagger(x_\\mathrm{LC}^\\mathrm{eik})=0$, but the LC time $x^+$ derivative will have a finite contribution as\n",
    "$$\\partial_+ \\mathcal{U}_\\mathrm{LC}^\\dagger(x_\\mathrm{LC}^\\mathrm{eik})\\equiv \\dfrac{1}{2\\delta x^+}\\Big[\\mathcal{U}_\\mathrm{LC}^\\dagger(x^++\\delta x^+, y, z=0)-\\mathcal{U}_\\mathrm{LC}^\\dagger(x^+-\\delta x^+, y, z=0)\\Big]$$\n",
    "and similarly for spatial $y$ derivative\n",
    "$$\\partial_y \\mathcal{U}_\\mathrm{LC}^\\dagger(x_\\mathrm{LC}^\\mathrm{eik})\\equiv \\dfrac{1}{2\\delta y}\\Big[\\mathcal{U}_\\mathrm{LC}^\\dagger(x^+, y+\\delta y, z=0)-\\mathcal{U}_\\mathrm{LC}^\\dagger(x^+, y-\\delta y, z=0)\\Big]$$"
   ]
  },
  {
   "cell_type": "markdown",
   "metadata": {},
   "source": [
    "- - -\n",
    "Gauge transformation of $A^+_\\mathrm{temp}$, which should yield $A^+_\\mathrm{LC}=0$."
   ]
  },
  {
   "cell_type": "code",
   "execution_count": 32,
   "metadata": {},
   "outputs": [],
   "source": [
    "aplus_LC = su.GROUP_TYPE(np.zeros(np.shape(v_LC)))"
   ]
  },
  {
   "cell_type": "code",
   "execution_count": 33,
   "metadata": {},
   "outputs": [],
   "source": [
    "for i in range(v_LC.shape[0]):\n",
    "    for j in range(v_LC.shape[1]):\n",
    "        aplus_LC[i,j,:] = latt.act(aplus_r[i,j,:], v_LC[i,j,:])"
   ]
  },
  {
   "cell_type": "code",
   "execution_count": 35,
   "metadata": {},
   "outputs": [
    {
     "data": {
      "text/plain": [
       "array([ 0.        +0.02572523j,  0.06554996+0.0065007j ,\n",
       "        0.04576416+0.03783409j, -0.06554996+0.0065007j ,\n",
       "        0.        +0.10690635j, -0.03971413-0.01257774j,\n",
       "       -0.04576416+0.03783409j,  0.03971413-0.01257774j,\n",
       "        0.        -0.1325716j ])"
      ]
     },
     "execution_count": 35,
     "metadata": {},
     "output_type": "execute_result"
    }
   ],
   "source": [
    "aplus_r[0, 0, :]"
   ]
  },
  {
   "cell_type": "code",
   "execution_count": 36,
   "metadata": {},
   "outputs": [
    {
     "data": {
      "text/plain": [
       "array([ 0.00852662-9.00091144e-20j, -0.00143115-9.62093310e-03j,\n",
       "       -0.00152094+5.97237457e-03j, -0.00143115+9.62093310e-03j,\n",
       "        0.01750344-1.05727315e-20j,  0.0035686 +1.16325066e-03j,\n",
       "       -0.00152094-5.97237457e-03j,  0.0035686 -1.16325066e-03j,\n",
       "        0.02283642+1.18992949e-19j])"
      ]
     },
     "execution_count": 36,
     "metadata": {},
     "output_type": "execute_result"
    }
   ],
   "source": [
    "aplus_LC[0, 0, :]"
   ]
  },
  {
   "cell_type": "code",
   "execution_count": 38,
   "metadata": {},
   "outputs": [
    {
     "data": {
      "text/plain": [
       "((1.0086301002076181-9.087632922040728e-20j),\n",
       " (-0.0014491686502802032-0.009735508356578446j),\n",
       " (-0.0015419368293170558+0.006048673624108561j),\n",
       " (-0.0014491686502802032+0.009735508356578446j),\n",
       " (1.0177126206572829-1.0974219441042696e-20j),\n",
       " (0.0036133043488473064+0.0011752012276957653j),\n",
       " (-0.0015419368293170558-0.006048673624108561j),\n",
       " (0.0036133043488473064-0.0011752012276957653j),\n",
       " (1.0231256202296646+1.2171592333920434e-19j))"
      ]
     },
     "execution_count": 38,
     "metadata": {},
     "output_type": "execute_result"
    }
   ],
   "source": [
    "su.mexp(aplus_LC[0, 0, :])"
   ]
  },
  {
   "cell_type": "markdown",
   "metadata": {},
   "source": [
    "- - -\n",
    "### Output Glasma fields to files\n",
    "Write $A_x$, $A_y$ and $A_\\eta$ to `*.txt` files. Each time $\\tau$ slice folder contains a file whose name is formated as `Ax_x_4_y_6.txt` with all the color components of the gauge field at that lattice location."
   ]
  },
  {
   "cell_type": "code",
   "execution_count": 1,
   "metadata": {},
   "outputs": [],
   "source": [
    "import numpy as np\n",
    "\n",
    "# hbar * c [GeV * fm]\n",
    "hbarc = 0.197326 \n",
    "\n",
    "# Simulation box           \n",
    "\n",
    "N = 8  \n",
    "L = 0.4 \n",
    "tau_sim = 0.8 \n",
    "\n",
    "# N = 32  \n",
    "# L = 1.6  \n",
    "\n",
    "N = 64  \n",
    "L = 1.6  \n",
    "# Such that Qs a << 1\n",
    "\n",
    "DTS = 4   \n",
    "\n",
    "# Glasma fields\n",
    "su_group = 'su3'\n",
    "Qs = 2        \n",
    "ns = 50    \n",
    "factor = 0.8        \n",
    "g2mu = Qs / factor     \n",
    "g = np.pi * np.sqrt(1 / np.log(Qs / 0.2))          \t\t\n",
    "mu = g2mu / g**2          \t\n",
    "ir = 0.1 * g**2 * mu         \n",
    "uv = 10.0       \n",
    "\n",
    "# TODO: Run more events\n",
    "nevents = 1"
   ]
  },
  {
   "cell_type": "code",
   "execution_count": 2,
   "metadata": {},
   "outputs": [
    {
     "name": "stdout",
     "output_type": "stream",
     "text": [
      "Using Numba\n",
      "Using SU(3)\n",
      "Using double precision\n"
     ]
    }
   ],
   "source": [
    "import os\n",
    "\n",
    "# I need to add this line to ask resources from a specific GPU, which is free. Our GPU server has no queing system\n",
    "os.environ[\"CUDA_VISIBLE_DEVICES\"]=\"3\"\n",
    "\n",
    "# os.environ[\"MY_NUMBA_TARGET\"] = \"cuda\"\n",
    "os.environ[\"MY_NUMBA_TARGET\"] = \"numba\"\n",
    "os.environ[\"PRECISION\"] = \"double\"\n",
    "os.environ['GAUGE_GROUP'] = su_group\n",
    "\n",
    "# Import relevant modules\n",
    "import sys\n",
    "sys.path.append('..')\n",
    "\n",
    "# Glasma modules\n",
    "import curraun.core as core\n",
    "import curraun.mv as mv\n",
    "import curraun.initial as initial\n",
    "initial.DEBUG = False\n",
    "\n",
    "import curraun.su as su\n",
    "import curraun.lattice as latt\n",
    "from curraun.numba_target import use_cuda\n",
    "if use_cuda:\n",
    "    from numba import cuda\n",
    "\n",
    "import curraun.su as su\n",
    "# Number of colors\n",
    "Nc = su.NC\n",
    "# Dimension of algebra \n",
    "Dg = su.GROUP_ELEMENTS"
   ]
  },
  {
   "cell_type": "code",
   "execution_count": 3,
   "metadata": {},
   "outputs": [],
   "source": [
    "def ln_ah(ui):\n",
    "    buf0 = su.dagger(ui)\n",
    "    buf1 = su.mul_s(buf0, -1)\n",
    "    buf2 = su.add(ui, buf1)\n",
    "    # buf3 = su.mul_s(buf2, -0.5j)\n",
    "    buf3 = su.mul_s(buf2, 0.5)\n",
    "    ai = np.array(buf3)\n",
    "    return ai"
   ]
  },
  {
   "cell_type": "code",
   "execution_count": 4,
   "metadata": {},
   "outputs": [],
   "source": [
    "import pickle\n",
    "from tqdm import tqdm\n",
    "\n",
    "# Simulation routine\n",
    "def simulate(): \n",
    "\n",
    "    # Derived parameters\n",
    "    a = L / N\n",
    "    E0 = N / L * hbarc\n",
    "    DT = 1.0 / DTS\n",
    "    maxt = int(tau_sim / a * DTS)\n",
    "\n",
    "    # Initialize Glasma fields\n",
    "    s = core.Simulation(N, DT, g)\n",
    "    va = mv.wilson(s, mu=mu / E0, m=ir / E0, uv=uv / E0, num_sheets=ns)\n",
    "    vb = mv.wilson(s, mu=mu / E0, m=ir / E0, uv=uv / E0, num_sheets=ns)\n",
    "    initial.init(s, va, vb)\n",
    "\n",
    "    # Transverse gauge links\n",
    "    # ax = su.GROUP_TYPE(np.zeros((maxt, N*N, Dg)))\n",
    "    # ay = su.GROUP_TYPE(np.zeros((maxt, N*N, Dg)))\n",
    "    # aeta = su.GROUP_TYPE(np.zeros((maxt, N*N, Dg)))\n",
    "    a = su.GROUP_TYPE(np.zeros((maxt//DTS, 3, N*N, Dg)))\n",
    "\n",
    "    with tqdm(total=maxt) as pbar:\n",
    "        for t in range(maxt):            \n",
    "            # Evolve Glasma fields\n",
    "            core.evolve_leapfrog(s)\n",
    "\n",
    "            # Copy gauge links and gauge fields from the memory of the GPU\n",
    "\n",
    "            if t%DTS == 0:\n",
    "                ui = s.u1.copy()\n",
    "                # ax[t] = np.apply_along_axis(ln_ah, 1, ui[:, 0, :])\n",
    "                # ax[t] = np.apply_along_axis(ln_ah, 1, ui[:, 1, :])\n",
    "                # aeta[t] = s.aeta1.copy()\n",
    "\n",
    "                lattice_dimension = g * a\n",
    "                #TODO: The fields are outputed in lattice units, should I convert?\n",
    "                physical_units = E0 ** 2\n",
    "                #TODO: Should I output the gauge links in physical units?\n",
    "\n",
    "                a[t//DTS, 0, :, :] = np.apply_along_axis(ln_ah, 1, ui[:, 0, :])\n",
    "                a[t//DTS, 1, :, :] = np.apply_along_axis(ln_ah, 1, ui[:, 1, :])\n",
    "                a[t//DTS, 2, :, :] = s.aeta1.copy()\n",
    "                        \n",
    "            pbar.update(1)\n",
    "\n",
    "    if use_cuda:\n",
    "        cuda.current_context().deallocations.clear()\n",
    "\n",
    "    # return ax, ay, aeta\n",
    "    return a"
   ]
  },
  {
   "cell_type": "code",
   "execution_count": 5,
   "metadata": {},
   "outputs": [],
   "source": [
    "# Supress various horribly long warnings\n",
    "import warnings\n",
    "warnings.filterwarnings('ignore')"
   ]
  },
  {
   "cell_type": "code",
   "execution_count": 6,
   "metadata": {},
   "outputs": [
    {
     "name": "stderr",
     "output_type": "stream",
     "text": [
      "100%|██████████| 128/128 [00:13<00:00,  9.38it/s]\n"
     ]
    }
   ],
   "source": [
    "# ax, ay, aeta = simulate()\n",
    "a = simulate()"
   ]
  },
  {
   "cell_type": "code",
   "execution_count": 7,
   "metadata": {},
   "outputs": [],
   "source": [
    "# ax_comp = np.apply_along_axis(su.get_algebra_factors_from_group_element_approximate, 2, ax)\n",
    "# ay_comp = np.apply_along_axis(su.get_algebra_factors_from_group_element_approximate, 2, ay)\n",
    "# aeta_comp = np.apply_along_axis(su.get_algebra_factors_from_group_element_approximate, 2, aeta)\n",
    "\n",
    "a_comp = np.apply_along_axis(su.get_algebra_factors_from_group_element_approximate, 3, a)"
   ]
  },
  {
   "cell_type": "code",
   "execution_count": 8,
   "metadata": {},
   "outputs": [],
   "source": [
    "comps = [\"ax\", \"ay\", \"aeta\"]\n",
    "# comps = [\"ax\"]\n",
    "\n",
    "for mu in range(len(comps)):\n",
    "    folder_path = \"results/glasma_\" + str(N) + \"x\" + str(N) + \"_latt_\" + comps[mu] + \"_comp/\"\n",
    "    amu = a_comp[:, mu, :, :]\n",
    "\n",
    "    if not os.path.exists(folder_path):\n",
    "        os.makedirs(folder_path)\n",
    "\n",
    "    # Output all color components in the xy plane, each time slice in a different file\n",
    "    for it in range(amu.shape[0]):\n",
    "        output_file = open(folder_path + \"tau_\" + str(it+1) + \".txt\", \"a\")\n",
    "        for ix in range(amu.shape[1]):\n",
    "            for ic in range(amu.shape[2]):\n",
    "                if ic==(amu.shape[2]-1):\n",
    "                    output_file.write(str(amu[it, ix, ic]) + \"\\n\")\n",
    "                else:\n",
    "                    output_file.write(str(amu[it, ix, ic]) + \" \")\n",
    "    output_file.close()"
   ]
  },
  {
   "cell_type": "code",
   "execution_count": null,
   "metadata": {},
   "outputs": [],
   "source": [
    "# Older test version, a single component\n",
    "folder_path = \"ax_glasma/\"\n",
    "\n",
    "if not os.path.exists(folder_path):\n",
    "    os.makedirs(folder_path)\n",
    "\n",
    "# Output all color components in the xy plane, each time slice in a different file\n",
    "for it in range(ax_comp.shape[0]):\n",
    "    output_file = open(folder_path + \"tau_\" + str(it) + \".txt\", \"a\")\n",
    "    for ix in range(ax_comp.shape[1]):\n",
    "        for ic in range(Dg-1):\n",
    "            if ic==(Dg-2):\n",
    "                output_file.write(str(ax_comp[it, ix, ic]) + \"\\n\")\n",
    "            else:\n",
    "                output_file.write(str(ax_comp[it, ix, ic]) + \" \")\n",
    "output_file.close()"
   ]
  }
 ],
 "metadata": {
  "kernelspec": {
   "display_name": "Python 3",
   "language": "python",
   "name": "python3"
  },
  "language_info": {
   "codemirror_mode": {
    "name": "ipython",
    "version": 3
   },
   "file_extension": ".py",
   "mimetype": "text/x-python",
   "name": "python",
   "nbconvert_exporter": "python",
   "pygments_lexer": "ipython3",
   "version": "3.10.4"
  }
 },
 "nbformat": 4,
 "nbformat_minor": 2
}
