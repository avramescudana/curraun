{
 "cells": [
  {
   "cell_type": "markdown",
   "metadata": {},
   "source": [
    "# LC gauge transformation of Glasma using gauge fields\n",
    "Done following Meijian's Mathematica notebook."
   ]
  },
  {
   "cell_type": "markdown",
   "metadata": {},
   "source": [
    "### Extract the gauge fields\n",
    "First, let's extract the Glasma gauge fields $A^x(x,y,\\tau)$ and $A^y(x,y,\\tau)$ as logarithms of the corresponding gauge links. We will use the same simulation parameters as in the `Light cone gauge transformation of the Glasma fields.ipynb` notebook."
   ]
  },
  {
   "cell_type": "markdown",
   "metadata": {},
   "source": [
    "#### Simulation parameters"
   ]
  },
  {
   "cell_type": "code",
   "execution_count": 1,
   "metadata": {},
   "outputs": [],
   "source": [
    "import numpy as np\n",
    "\n",
    "# hbar * c [GeV * fm]\n",
    "hbarc = 0.197326 \n",
    "\n",
    "# Simulation box \n",
    "L = 2      \n",
    "N = 128   \n",
    "tau_sim = 1     \n",
    "DTS = 8     \n",
    "\n",
    "# Glasma fields\n",
    "su_group = 'su3'\n",
    "Qs = 2        \n",
    "ns = 50    \n",
    "factor = 0.8        \n",
    "g2mu = Qs / factor     \n",
    "g = np.pi * np.sqrt(1 / np.log(Qs / 0.2))          \t\t\n",
    "mu = g2mu / g**2          \t\n",
    "ir = 0.1 * g**2 * mu         \n",
    "uv = 10.0       \n",
    "\n",
    "# TODO: Run more events\n",
    "nevents = 1"
   ]
  },
  {
   "cell_type": "markdown",
   "metadata": {},
   "source": [
    "#### Environment variables"
   ]
  },
  {
   "cell_type": "code",
   "execution_count": 2,
   "metadata": {},
   "outputs": [
    {
     "name": "stdout",
     "output_type": "stream",
     "text": [
      "Using Numba\n",
      "Using SU(3)\n",
      "Using double precision\n"
     ]
    }
   ],
   "source": [
    "import os\n",
    "\n",
    "# I need to add this line to ask resources from a specific GPU, which is free. Our GPU server has no queing system\n",
    "os.environ[\"CUDA_VISIBLE_DEVICES\"]=\"1\"\n",
    "\n",
    "# os.environ[\"MY_NUMBA_TARGET\"] = \"cuda\"\n",
    "os.environ[\"MY_NUMBA_TARGET\"] = \"numba\"\n",
    "os.environ[\"PRECISION\"] = \"double\"\n",
    "os.environ['GAUGE_GROUP'] = su_group\n",
    "\n",
    "# Import relevant modules\n",
    "import sys\n",
    "sys.path.append('..')\n",
    "\n",
    "# Glasma modules\n",
    "import curraun.core as core\n",
    "import curraun.mv as mv\n",
    "import curraun.initial as initial\n",
    "initial.DEBUG = False\n",
    "\n",
    "import curraun.su as su\n",
    "from curraun.numba_target import use_cuda\n",
    "if use_cuda:\n",
    "    from numba import cuda\n",
    "\n",
    "import curraun.su as su\n",
    "# Number of colors\n",
    "Nc = su.NC\n",
    "# Dimension of algebra \n",
    "Dg = su.GROUP_ELEMENTS"
   ]
  },
  {
   "cell_type": "markdown",
   "metadata": {},
   "source": [
    "#### Simulation routine for evolving the Glasma fields\n",
    "The gauge field is extracted as the logarithm of the gauge link $\\boxed{A_i(x,y,\\tau)=\\,\\mathrm{ln} \\,U_i(x,y,\\tau)}$ with $i=x,y$ and $g$ and $a$ absorbed in the numerical definition of the gauge field. Notice that the gauge field is not evaluated in the midpoint $x+a/2$ since this is already a $\\mathcal{O}(a^2)$ correction. As extracted in the notebook [Extract the logatirhm of a SU(3) gauge link\n",
    "](https://github.com/avramescudana/curraun/blob/wong/notebooks/Logarithm%20of%20a%20SU(3)%20gauge%20link.ipynb), the fastest and simplest way to extract the logarithm of a gauge link is using the anti-hermitian part $\\boxed{\\mathrm{ln}\\,U=\\dfrac{U-U^\\dagger}{2}}$. It is equivalent to performing a Taylor series of the logarithm,"
   ]
  },
  {
   "cell_type": "code",
   "execution_count": 16,
   "metadata": {},
   "outputs": [],
   "source": [
    "def ln_ah(ui):\n",
    "    buf0 = su.dagger(ui)\n",
    "    buf1 = su.mul_s(buf0, -1)\n",
    "    buf2 = su.add(ui, buf1)\n",
    "    # buf3 = su.mul_s(buf2, -0.5j)\n",
    "    buf3 = su.mul_s(buf2, 0.5)\n",
    "    ai = np.array(buf3)\n",
    "    return ai"
   ]
  },
  {
   "cell_type": "markdown",
   "metadata": {},
   "source": [
    "Alternatively, extract the logarithm of a gauge link as a Taylor series."
   ]
  },
  {
   "cell_type": "code",
   "execution_count": 17,
   "metadata": {},
   "outputs": [],
   "source": [
    "def ln_taylor(ui):\n",
    "    buf1 = su.mlog(ui)\n",
    "    # buf2 = su.mul_s(buf1, -1.0j)\n",
    "    buf2 = su.mul_s(buf1, 1.0)\n",
    "    ai = np.array(buf2)\n",
    "    return ai"
   ]
  },
  {
   "cell_type": "code",
   "execution_count": 5,
   "metadata": {},
   "outputs": [],
   "source": [
    "import pickle\n",
    "from tqdm import tqdm\n",
    "\n",
    "# Simulation routine\n",
    "def simulate(): \n",
    "\n",
    "    # Derived parameters\n",
    "    a = L / N\n",
    "    E0 = N / L * hbarc\n",
    "    DT = 1.0 / DTS\n",
    "    maxt = int(tau_sim / a * DTS)\n",
    "\n",
    "    # Initialize Glasma fields\n",
    "    s = core.Simulation(N, DT, g)\n",
    "    va = mv.wilson(s, mu=mu / E0, m=ir / E0, uv=uv / E0, num_sheets=ns)\n",
    "    vb = mv.wilson(s, mu=mu / E0, m=ir / E0, uv=uv / E0, num_sheets=ns)\n",
    "    initial.init(s, va, vb)\n",
    "\n",
    "    # Transverse gauge links\n",
    "    ax_ah = su.GROUP_TYPE(np.zeros((maxt//DTS, N*N, Dg)))\n",
    "    ax_taylor = su.GROUP_TYPE(np.zeros((maxt//DTS, N*N, Dg)))\n",
    "    # ay = su.GROUP_TYPE(np.zeros((maxt//DTS, N*N, Dg)))\n",
    "\n",
    "    with tqdm(total=maxt) as pbar:\n",
    "        for t in range(maxt):            \n",
    "            # Evolve Glasma fields\n",
    "            core.evolve_leapfrog(s)\n",
    "\n",
    "            # Copy gauge links and gauge fields from the memory of the GPU\n",
    "            if t%DTS == 0:\n",
    "                ui = s.u1.copy()\n",
    "                ax_ah[t//DTS] = np.apply_along_axis(ln_ah, 1, ui[:, 0, :])\n",
    "                ax_taylor[t//DTS] = np.apply_along_axis(ln_taylor, 1, ui[:, 0, :])\n",
    "                        \n",
    "            pbar.update(1)\n",
    "\n",
    "    if use_cuda:\n",
    "        cuda.current_context().deallocations.clear()\n",
    "\n",
    "    return ax_ah, ax_taylor"
   ]
  },
  {
   "cell_type": "markdown",
   "metadata": {},
   "source": [
    "#### Run the simulation "
   ]
  },
  {
   "cell_type": "code",
   "execution_count": 6,
   "metadata": {},
   "outputs": [],
   "source": [
    "# Supress various horribly long warnings\n",
    "import warnings\n",
    "warnings.filterwarnings('ignore')"
   ]
  },
  {
   "cell_type": "code",
   "execution_count": 18,
   "metadata": {},
   "outputs": [
    {
     "name": "stderr",
     "output_type": "stream",
     "text": [
      "100%|██████████| 512/512 [02:52<00:00,  2.97it/s]\n"
     ]
    }
   ],
   "source": [
    "ax_ah, ax_taylor = simulate()"
   ]
  },
  {
   "cell_type": "code",
   "execution_count": 24,
   "metadata": {},
   "outputs": [],
   "source": [
    "ax_taylor_comp = np.apply_along_axis(su.get_algebra_factors_from_group_element_approximate, 0, ax_taylor[:,:,:])\n",
    "ax_ah_comp = np.apply_along_axis(su.get_algebra_factors_from_group_element_approximate, 0, ax_ah[:,:,:])"
   ]
  },
  {
   "cell_type": "code",
   "execution_count": 25,
   "metadata": {},
   "outputs": [
    {
     "data": {
      "text/plain": [
       "array([ 5.22083382e-16,  9.75446383e-05,  2.15475542e-05, -9.75446383e-05,\n",
       "        1.81232363e-16,  8.31505661e-05, -2.15475542e-05, -8.31505661e-05,\n",
       "       -4.02775912e-16])"
      ]
     },
     "execution_count": 25,
     "metadata": {},
     "output_type": "execute_result"
    }
   ],
   "source": [
    "ax_taylor_comp[1,1,:] - ax_ah_comp[1,1,:] "
   ]
  }
 ],
 "metadata": {
  "kernelspec": {
   "display_name": "Python 3",
   "language": "python",
   "name": "python3"
  },
  "language_info": {
   "codemirror_mode": {
    "name": "ipython",
    "version": 3
   },
   "file_extension": ".py",
   "mimetype": "text/x-python",
   "name": "python",
   "nbconvert_exporter": "python",
   "pygments_lexer": "ipython3",
   "version": "3.6.8"
  }
 },
 "nbformat": 4,
 "nbformat_minor": 2
}
