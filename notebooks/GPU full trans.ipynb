{
 "cells": [
  {
   "cell_type": "markdown",
   "metadata": {},
   "source": [
    "# Corrected gauge transformation on the GPU"
   ]
  },
  {
   "cell_type": "markdown",
   "metadata": {},
   "source": [
    "Set parameters and environment variables"
   ]
  },
  {
   "cell_type": "code",
   "execution_count": 1,
   "metadata": {},
   "outputs": [],
   "source": [
    "import numpy as np\n",
    "\n",
    "# hbar * c [GeV * fm]\n",
    "hbarc = 0.197326 \n",
    "\n",
    "# Simulation box \n",
    "L = 2.5         \n",
    "N = 128 \n",
    "tau_sim = 1.25    \n",
    "DTS = 8\n",
    "\n",
    "# Derived parameters\n",
    "a = L/N\n",
    "E0 = N / L * hbarc\n",
    "DT = 1.0 / DTS\n",
    "maxt = int(tau_sim / a * DTS)\n",
    "nplus = maxt//DTS     \n",
    "\n",
    "# Glasma fields\n",
    "su_group = 'su3'\n",
    "Qs = 2        \n",
    "ns = 50    \n",
    "factor = 0.68        \n",
    "g2mu = Qs / factor     \n",
    "g = np.pi * np.sqrt(1 / np.log(Qs / 0.2))          \t\t\n",
    "mu = g2mu / g**2          \t\n",
    "ir = 0.2 * g**2 * mu         \n",
    "uv = 10.0       \n",
    "\n",
    "\n",
    "nevents = 100"
   ]
  },
  {
   "cell_type": "code",
   "execution_count": 2,
   "metadata": {},
   "outputs": [
    {
     "name": "stderr",
     "output_type": "stream",
     "text": [
      "/home2/carlos.lamas/condacurraun/lib/python3.10/site-packages/scipy/__init__.py:132: UserWarning: A NumPy version >=1.21.6 and <1.28.0 is required for this version of SciPy (detected version 1.21.5)\n",
      "  warnings.warn(f\"A NumPy version >={np_minversion} and <{np_maxversion}\"\n"
     ]
    },
    {
     "name": "stdout",
     "output_type": "stream",
     "text": [
      "Using CUDA\n",
      "Using SU(3)\n",
      "Using double precision\n"
     ]
    }
   ],
   "source": [
    "import os\n",
    "\n",
    "os.environ[\"MY_NUMBA_TARGET\"] = \"cuda\"\n",
    "os.environ[\"PRECISION\"] = \"double\"\n",
    "os.environ['GAUGE_GROUP'] = su_group\n",
    "\n",
    "# Import relevant modules\n",
    "import sys\n",
    "sys.path.append('..')\n",
    "\n",
    "# Glasma modules\n",
    "import curraun.core as core\n",
    "import curraun.mv as mv\n",
    "import curraun.initial as initial\n",
    "initial.DEBUG = False\n",
    "\n",
    "import curraun.su as su\n",
    "from curraun.numba_target import use_cuda\n",
    "if use_cuda:\n",
    "    from numba import cuda\n",
    "\n",
    "import curraun.su as su\n",
    "import curraun.gauge_trans as lc_gauge"
   ]
  },
  {
   "cell_type": "markdown",
   "metadata": {},
   "source": [
    "We create the simulation routine"
   ]
  },
  {
   "cell_type": "code",
   "execution_count": 4,
   "metadata": {},
   "outputs": [],
   "source": [
    "from tqdm import tqdm\n",
    "\n",
    "# Simulation rutine\n",
    "def simulate():\n",
    "    output = {}\n",
    "    \n",
    "    # Derived parameters\n",
    "    a = L/N\n",
    "    E0 = N / L * hbarc\n",
    "    DT = 1.0 / DTS\n",
    "    maxt = int(tau_sim / a * DTS)\n",
    "    \n",
    "    # We create the object simulation\n",
    "    s = core.Simulation(N, DT, g)\n",
    "\n",
    "    # We initilize the Glasma fields\n",
    "    va = mv.wilson(s, mu=mu / E0, m=ir / E0, uv=uv / E0, num_sheets=ns)\n",
    "    vb = mv.wilson(s, mu=mu / E0, m=ir / E0, uv=uv / E0, num_sheets=ns)\n",
    "    initial.init(s, va, vb)\n",
    "    \n",
    "    # We create the objects to store the fields at every time step\n",
    "    ux_sim = np.zeros((maxt, N*N, su.GROUP_ELEMENTS), dtype=su.GROUP_TYPE)\n",
    "    aeta_sim = np.zeros((maxt, N*N, su.GROUP_ELEMENTS), dtype=su.GROUP_TYPE)\n",
    "    \n",
    "    # We simulate the event and store the Glasma fields at every time step\n",
    "    with tqdm(total=maxt) as pbar:\n",
    "        for t in range(maxt):\n",
    "            \n",
    "            # Evolve the Glasma fields\n",
    "            core.evolve_leapfrog(s)\n",
    "            \n",
    "            # We store the fields\n",
    "            u1 = s.u1.copy()\n",
    "            ux_sim[t] = u1[:, 0, :]\n",
    "            \n",
    "            aeta_sim[t] = s.aeta1.copy()\n",
    "        \n",
    "            pbar.update(1)\n",
    "    \n",
    "    \n",
    "    # We reshape the field arrays in a suitable way for the GPu gauge transformation\n",
    "    ux = ux_sim.reshape((maxt*N*N, su.GROUP_ELEMENTS))\n",
    "    aeta = aeta_sim.reshape((maxt*N*N, su.GROUP_ELEMENTS))\n",
    "    \n",
    "    # We create the necessary objects for the gauge transformations\n",
    "    nplus = maxt//DTS\n",
    "    lc = lc_gauge.LCGaugeTransf(s, nplus, ux, aeta)\n",
    "    \n",
    "    # We create an object to store the final gauge links\n",
    "    up_lc = su.GROUP_TYPE(np.zeros((nplus-1, N*N, su.GROUP_ELEMENTS)))\n",
    "    \n",
    "    # We copy the fields to the GPU\n",
    "    lc.init()\n",
    "    \n",
    "    # We start the gauge transformation\n",
    "    with tqdm(total=nplus) as pbar:\n",
    "        for xplus in range(nplus):\n",
    "                \n",
    "            # We evolve the fields and perform the simulation\n",
    "            lc.evolve_lc(xplus)\n",
    "                \n",
    "            if xplus != 0:\n",
    "                up_lc[xplus-1] = lc.up_lc_reorder.copy()\n",
    "                \n",
    "        \n",
    "            pbar.update(1)\n",
    "\n",
    "    if use_cuda:\n",
    "        cuda.current_context().deallocations.clear()\n",
    "    \n",
    "    # Initialize the jet at the third time step\n",
    "    up_lc[0, :, :] = up_lc[1, :, :] = up_lc[2, :, :] = su.unit()    \n",
    "    \n",
    "    # We write the transformed fields in a dictionary\n",
    "    output[\"up_lc\"] = up_lc\n",
    "    \n",
    "    return output"
   ]
  },
  {
   "cell_type": "markdown",
   "metadata": {},
   "source": [
    "We perform the simulation"
   ]
  },
  {
   "cell_type": "code",
   "execution_count": 5,
   "metadata": {},
   "outputs": [
    {
     "name": "stdout",
     "output_type": "stream",
     "text": [
      "Event 0\n"
     ]
    },
    {
     "name": "stderr",
     "output_type": "stream",
     "text": [
      "100%|██████████| 512/512 [00:06<00:00, 79.64it/s] \n",
      "100%|██████████| 64/64 [00:01<00:00, 56.20it/s]\n"
     ]
    },
    {
     "name": "stdout",
     "output_type": "stream",
     "text": [
      "Event 1\n"
     ]
    },
    {
     "name": "stderr",
     "output_type": "stream",
     "text": [
      "100%|██████████| 512/512 [00:05<00:00, 93.20it/s] \n",
      "100%|██████████| 64/64 [00:00<00:00, 224.59it/s]\n"
     ]
    },
    {
     "name": "stdout",
     "output_type": "stream",
     "text": [
      "Event 2\n"
     ]
    },
    {
     "name": "stderr",
     "output_type": "stream",
     "text": [
      "100%|██████████| 512/512 [00:05<00:00, 99.32it/s] \n",
      "100%|██████████| 64/64 [00:00<00:00, 328.84it/s]\n"
     ]
    },
    {
     "name": "stdout",
     "output_type": "stream",
     "text": [
      "Event 3\n"
     ]
    },
    {
     "name": "stderr",
     "output_type": "stream",
     "text": [
      "100%|██████████| 512/512 [00:05<00:00, 99.46it/s] \n",
      "100%|██████████| 64/64 [00:00<00:00, 323.82it/s]\n"
     ]
    },
    {
     "name": "stdout",
     "output_type": "stream",
     "text": [
      "Event 4\n"
     ]
    },
    {
     "name": "stderr",
     "output_type": "stream",
     "text": [
      "100%|██████████| 512/512 [00:05<00:00, 97.11it/s] \n",
      "100%|██████████| 64/64 [00:00<00:00, 219.47it/s]\n"
     ]
    },
    {
     "name": "stdout",
     "output_type": "stream",
     "text": [
      "Event 5\n"
     ]
    },
    {
     "name": "stderr",
     "output_type": "stream",
     "text": [
      "100%|██████████| 512/512 [00:05<00:00, 97.97it/s] \n",
      "100%|██████████| 64/64 [00:00<00:00, 332.11it/s]\n"
     ]
    },
    {
     "name": "stdout",
     "output_type": "stream",
     "text": [
      "Event 6\n"
     ]
    },
    {
     "name": "stderr",
     "output_type": "stream",
     "text": [
      "100%|██████████| 512/512 [00:05<00:00, 98.47it/s] \n",
      "100%|██████████| 64/64 [00:00<00:00, 323.69it/s]\n"
     ]
    },
    {
     "name": "stdout",
     "output_type": "stream",
     "text": [
      "Event 7\n"
     ]
    },
    {
     "name": "stderr",
     "output_type": "stream",
     "text": [
      "100%|██████████| 512/512 [00:05<00:00, 94.34it/s] \n",
      "100%|██████████| 64/64 [00:00<00:00, 322.54it/s]\n"
     ]
    },
    {
     "name": "stdout",
     "output_type": "stream",
     "text": [
      "Event 8\n"
     ]
    },
    {
     "name": "stderr",
     "output_type": "stream",
     "text": [
      "100%|██████████| 512/512 [00:05<00:00, 102.23it/s]\n",
      "100%|██████████| 64/64 [00:00<00:00, 325.29it/s]\n"
     ]
    },
    {
     "name": "stdout",
     "output_type": "stream",
     "text": [
      "Event 9\n"
     ]
    },
    {
     "name": "stderr",
     "output_type": "stream",
     "text": [
      "100%|██████████| 512/512 [00:05<00:00, 100.14it/s]\n",
      "100%|██████████| 64/64 [00:00<00:00, 336.52it/s]\n"
     ]
    },
    {
     "name": "stdout",
     "output_type": "stream",
     "text": [
      "Event 10\n"
     ]
    },
    {
     "name": "stderr",
     "output_type": "stream",
     "text": [
      "100%|██████████| 512/512 [00:05<00:00, 93.10it/s] \n",
      "100%|██████████| 64/64 [00:00<00:00, 327.24it/s]\n"
     ]
    },
    {
     "name": "stdout",
     "output_type": "stream",
     "text": [
      "Event 11\n"
     ]
    },
    {
     "name": "stderr",
     "output_type": "stream",
     "text": [
      "100%|██████████| 512/512 [00:05<00:00, 97.73it/s] \n",
      "100%|██████████| 64/64 [00:00<00:00, 331.03it/s]\n"
     ]
    },
    {
     "name": "stdout",
     "output_type": "stream",
     "text": [
      "Event 12\n"
     ]
    },
    {
     "name": "stderr",
     "output_type": "stream",
     "text": [
      "100%|██████████| 512/512 [00:05<00:00, 97.74it/s] \n",
      "100%|██████████| 64/64 [00:00<00:00, 312.17it/s]\n"
     ]
    },
    {
     "name": "stdout",
     "output_type": "stream",
     "text": [
      "Event 13\n"
     ]
    },
    {
     "name": "stderr",
     "output_type": "stream",
     "text": [
      "100%|██████████| 512/512 [00:05<00:00, 100.42it/s]\n",
      "100%|██████████| 64/64 [00:00<00:00, 329.57it/s]\n"
     ]
    },
    {
     "name": "stdout",
     "output_type": "stream",
     "text": [
      "Event 14\n"
     ]
    },
    {
     "name": "stderr",
     "output_type": "stream",
     "text": [
      "100%|██████████| 512/512 [00:05<00:00, 95.90it/s] \n",
      "100%|██████████| 64/64 [00:00<00:00, 330.42it/s]\n"
     ]
    },
    {
     "name": "stdout",
     "output_type": "stream",
     "text": [
      "Event 15\n"
     ]
    },
    {
     "name": "stderr",
     "output_type": "stream",
     "text": [
      "100%|██████████| 512/512 [00:05<00:00, 97.71it/s] \n",
      "100%|██████████| 64/64 [00:00<00:00, 219.76it/s]\n"
     ]
    },
    {
     "name": "stdout",
     "output_type": "stream",
     "text": [
      "Event 16\n"
     ]
    },
    {
     "name": "stderr",
     "output_type": "stream",
     "text": [
      "100%|██████████| 512/512 [00:05<00:00, 97.75it/s] \n",
      "100%|██████████| 64/64 [00:00<00:00, 325.05it/s]\n"
     ]
    },
    {
     "name": "stdout",
     "output_type": "stream",
     "text": [
      "Event 17\n"
     ]
    },
    {
     "name": "stderr",
     "output_type": "stream",
     "text": [
      "100%|██████████| 512/512 [00:04<00:00, 103.36it/s]\n",
      "100%|██████████| 64/64 [00:00<00:00, 276.71it/s]\n"
     ]
    },
    {
     "name": "stdout",
     "output_type": "stream",
     "text": [
      "Event 18\n"
     ]
    },
    {
     "name": "stderr",
     "output_type": "stream",
     "text": [
      "100%|██████████| 512/512 [00:05<00:00, 94.19it/s] \n",
      "100%|██████████| 64/64 [00:00<00:00, 332.54it/s]\n"
     ]
    },
    {
     "name": "stdout",
     "output_type": "stream",
     "text": [
      "Event 19\n"
     ]
    },
    {
     "name": "stderr",
     "output_type": "stream",
     "text": [
      "100%|██████████| 512/512 [00:05<00:00, 90.43it/s] \n",
      "100%|██████████| 64/64 [00:00<00:00, 323.78it/s]\n"
     ]
    },
    {
     "name": "stdout",
     "output_type": "stream",
     "text": [
      "Event 20\n"
     ]
    },
    {
     "name": "stderr",
     "output_type": "stream",
     "text": [
      "100%|██████████| 512/512 [00:05<00:00, 89.07it/s] \n",
      "100%|██████████| 64/64 [00:00<00:00, 340.97it/s]\n"
     ]
    },
    {
     "name": "stdout",
     "output_type": "stream",
     "text": [
      "Event 21\n"
     ]
    },
    {
     "name": "stderr",
     "output_type": "stream",
     "text": [
      "100%|██████████| 512/512 [00:05<00:00, 89.20it/s] \n",
      "100%|██████████| 64/64 [00:00<00:00, 330.27it/s]\n"
     ]
    },
    {
     "name": "stdout",
     "output_type": "stream",
     "text": [
      "Event 22\n"
     ]
    },
    {
     "name": "stderr",
     "output_type": "stream",
     "text": [
      "100%|██████████| 512/512 [00:05<00:00, 100.43it/s]\n",
      "100%|██████████| 64/64 [00:00<00:00, 304.36it/s]\n"
     ]
    },
    {
     "name": "stdout",
     "output_type": "stream",
     "text": [
      "Event 23\n"
     ]
    },
    {
     "name": "stderr",
     "output_type": "stream",
     "text": [
      "100%|██████████| 512/512 [00:04<00:00, 102.50it/s]\n",
      "100%|██████████| 64/64 [00:00<00:00, 335.05it/s]\n"
     ]
    },
    {
     "name": "stdout",
     "output_type": "stream",
     "text": [
      "Event 24\n"
     ]
    },
    {
     "name": "stderr",
     "output_type": "stream",
     "text": [
      "100%|██████████| 512/512 [00:05<00:00, 89.00it/s] \n",
      "100%|██████████| 64/64 [00:00<00:00, 328.93it/s]\n"
     ]
    },
    {
     "name": "stdout",
     "output_type": "stream",
     "text": [
      "Event 25\n"
     ]
    },
    {
     "name": "stderr",
     "output_type": "stream",
     "text": [
      "100%|██████████| 512/512 [00:05<00:00, 98.50it/s] \n",
      "100%|██████████| 64/64 [00:00<00:00, 322.95it/s]\n"
     ]
    },
    {
     "name": "stdout",
     "output_type": "stream",
     "text": [
      "Event 26\n"
     ]
    },
    {
     "name": "stderr",
     "output_type": "stream",
     "text": [
      "100%|██████████| 512/512 [00:05<00:00, 100.23it/s]\n",
      "100%|██████████| 64/64 [00:00<00:00, 330.92it/s]\n"
     ]
    },
    {
     "name": "stdout",
     "output_type": "stream",
     "text": [
      "Event 27\n"
     ]
    },
    {
     "name": "stderr",
     "output_type": "stream",
     "text": [
      "100%|██████████| 512/512 [00:05<00:00, 97.00it/s] \n",
      "100%|██████████| 64/64 [00:00<00:00, 324.66it/s]\n"
     ]
    },
    {
     "name": "stdout",
     "output_type": "stream",
     "text": [
      "Event 28\n"
     ]
    },
    {
     "name": "stderr",
     "output_type": "stream",
     "text": [
      "100%|██████████| 512/512 [00:05<00:00, 96.72it/s] \n",
      "100%|██████████| 64/64 [00:00<00:00, 325.55it/s]\n"
     ]
    },
    {
     "name": "stdout",
     "output_type": "stream",
     "text": [
      "Event 29\n"
     ]
    },
    {
     "name": "stderr",
     "output_type": "stream",
     "text": [
      "100%|██████████| 512/512 [00:05<00:00, 100.45it/s]\n",
      "100%|██████████| 64/64 [00:00<00:00, 324.11it/s]\n"
     ]
    },
    {
     "name": "stdout",
     "output_type": "stream",
     "text": [
      "Event 30\n"
     ]
    },
    {
     "name": "stderr",
     "output_type": "stream",
     "text": [
      "100%|██████████| 512/512 [00:05<00:00, 99.21it/s] \n",
      "100%|██████████| 64/64 [00:00<00:00, 221.80it/s]\n"
     ]
    },
    {
     "name": "stdout",
     "output_type": "stream",
     "text": [
      "Event 31\n"
     ]
    },
    {
     "name": "stderr",
     "output_type": "stream",
     "text": [
      "100%|██████████| 512/512 [00:05<00:00, 99.84it/s] \n",
      "100%|██████████| 64/64 [00:00<00:00, 229.71it/s]\n"
     ]
    },
    {
     "name": "stdout",
     "output_type": "stream",
     "text": [
      "Event 32\n"
     ]
    },
    {
     "name": "stderr",
     "output_type": "stream",
     "text": [
      "100%|██████████| 512/512 [00:05<00:00, 100.97it/s]\n",
      "100%|██████████| 64/64 [00:00<00:00, 345.09it/s]\n"
     ]
    },
    {
     "name": "stdout",
     "output_type": "stream",
     "text": [
      "Event 33\n"
     ]
    },
    {
     "name": "stderr",
     "output_type": "stream",
     "text": [
      "100%|██████████| 512/512 [00:05<00:00, 98.11it/s] \n",
      "100%|██████████| 64/64 [00:00<00:00, 327.63it/s]\n"
     ]
    },
    {
     "name": "stdout",
     "output_type": "stream",
     "text": [
      "Event 34\n"
     ]
    },
    {
     "name": "stderr",
     "output_type": "stream",
     "text": [
      "100%|██████████| 512/512 [00:05<00:00, 94.92it/s] \n",
      "100%|██████████| 64/64 [00:00<00:00, 323.80it/s]\n"
     ]
    },
    {
     "name": "stdout",
     "output_type": "stream",
     "text": [
      "Event 35\n"
     ]
    },
    {
     "name": "stderr",
     "output_type": "stream",
     "text": [
      "100%|██████████| 512/512 [00:05<00:00, 98.85it/s] \n",
      "100%|██████████| 64/64 [00:00<00:00, 329.64it/s]\n"
     ]
    },
    {
     "name": "stdout",
     "output_type": "stream",
     "text": [
      "Event 36\n"
     ]
    },
    {
     "name": "stderr",
     "output_type": "stream",
     "text": [
      "100%|██████████| 512/512 [00:04<00:00, 105.99it/s]\n",
      "100%|██████████| 64/64 [00:00<00:00, 324.94it/s]\n"
     ]
    },
    {
     "name": "stdout",
     "output_type": "stream",
     "text": [
      "Event 37\n"
     ]
    },
    {
     "name": "stderr",
     "output_type": "stream",
     "text": [
      "100%|██████████| 512/512 [00:05<00:00, 99.80it/s] \n",
      "100%|██████████| 64/64 [00:00<00:00, 346.15it/s]\n"
     ]
    },
    {
     "name": "stdout",
     "output_type": "stream",
     "text": [
      "Event 38\n"
     ]
    },
    {
     "name": "stderr",
     "output_type": "stream",
     "text": [
      "100%|██████████| 512/512 [00:05<00:00, 102.36it/s]\n",
      "100%|██████████| 64/64 [00:00<00:00, 343.71it/s]\n"
     ]
    },
    {
     "name": "stdout",
     "output_type": "stream",
     "text": [
      "Event 39\n"
     ]
    },
    {
     "name": "stderr",
     "output_type": "stream",
     "text": [
      "100%|██████████| 512/512 [00:04<00:00, 102.77it/s]\n",
      "100%|██████████| 64/64 [00:00<00:00, 322.66it/s]\n"
     ]
    },
    {
     "name": "stdout",
     "output_type": "stream",
     "text": [
      "Event 40\n"
     ]
    },
    {
     "name": "stderr",
     "output_type": "stream",
     "text": [
      "100%|██████████| 512/512 [00:05<00:00, 91.33it/s] \n",
      "100%|██████████| 64/64 [00:00<00:00, 351.12it/s]\n"
     ]
    },
    {
     "name": "stdout",
     "output_type": "stream",
     "text": [
      "Event 41\n"
     ]
    },
    {
     "name": "stderr",
     "output_type": "stream",
     "text": [
      "100%|██████████| 512/512 [00:05<00:00, 98.56it/s] \n",
      "100%|██████████| 64/64 [00:00<00:00, 323.15it/s]\n"
     ]
    },
    {
     "name": "stdout",
     "output_type": "stream",
     "text": [
      "Event 42\n"
     ]
    },
    {
     "name": "stderr",
     "output_type": "stream",
     "text": [
      "100%|██████████| 512/512 [00:05<00:00, 99.82it/s] \n",
      "100%|██████████| 64/64 [00:00<00:00, 324.50it/s]\n"
     ]
    },
    {
     "name": "stdout",
     "output_type": "stream",
     "text": [
      "Event 43\n"
     ]
    },
    {
     "name": "stderr",
     "output_type": "stream",
     "text": [
      "100%|██████████| 512/512 [00:05<00:00, 100.24it/s]\n",
      "100%|██████████| 64/64 [00:00<00:00, 325.43it/s]\n"
     ]
    },
    {
     "name": "stdout",
     "output_type": "stream",
     "text": [
      "Event 44\n"
     ]
    },
    {
     "name": "stderr",
     "output_type": "stream",
     "text": [
      "100%|██████████| 512/512 [00:05<00:00, 100.00it/s]\n",
      "100%|██████████| 64/64 [00:00<00:00, 333.01it/s]\n"
     ]
    },
    {
     "name": "stdout",
     "output_type": "stream",
     "text": [
      "Event 45\n"
     ]
    },
    {
     "name": "stderr",
     "output_type": "stream",
     "text": [
      "100%|██████████| 512/512 [00:05<00:00, 98.06it/s] \n",
      "100%|██████████| 64/64 [00:00<00:00, 321.15it/s]\n"
     ]
    },
    {
     "name": "stdout",
     "output_type": "stream",
     "text": [
      "Event 46\n"
     ]
    },
    {
     "name": "stderr",
     "output_type": "stream",
     "text": [
      "100%|██████████| 512/512 [00:05<00:00, 98.98it/s] \n",
      "100%|██████████| 64/64 [00:00<00:00, 337.23it/s]\n"
     ]
    },
    {
     "name": "stdout",
     "output_type": "stream",
     "text": [
      "Event 47\n"
     ]
    },
    {
     "name": "stderr",
     "output_type": "stream",
     "text": [
      "100%|██████████| 512/512 [00:05<00:00, 96.62it/s] \n",
      "100%|██████████| 64/64 [00:00<00:00, 323.74it/s]\n"
     ]
    },
    {
     "name": "stdout",
     "output_type": "stream",
     "text": [
      "Event 48\n"
     ]
    },
    {
     "name": "stderr",
     "output_type": "stream",
     "text": [
      "100%|██████████| 512/512 [00:05<00:00, 98.59it/s] \n",
      "100%|██████████| 64/64 [00:00<00:00, 342.74it/s]\n"
     ]
    },
    {
     "name": "stdout",
     "output_type": "stream",
     "text": [
      "Event 49\n"
     ]
    },
    {
     "name": "stderr",
     "output_type": "stream",
     "text": [
      "100%|██████████| 512/512 [00:05<00:00, 98.56it/s] \n",
      "100%|██████████| 64/64 [00:00<00:00, 337.99it/s]\n"
     ]
    },
    {
     "name": "stdout",
     "output_type": "stream",
     "text": [
      "Event 50\n"
     ]
    },
    {
     "name": "stderr",
     "output_type": "stream",
     "text": [
      "100%|██████████| 512/512 [00:05<00:00, 94.14it/s] \n",
      "100%|██████████| 64/64 [00:00<00:00, 293.13it/s]\n"
     ]
    },
    {
     "name": "stdout",
     "output_type": "stream",
     "text": [
      "Event 51\n"
     ]
    },
    {
     "name": "stderr",
     "output_type": "stream",
     "text": [
      "100%|██████████| 512/512 [00:05<00:00, 100.20it/s]\n",
      "100%|██████████| 64/64 [00:00<00:00, 330.28it/s]\n"
     ]
    },
    {
     "name": "stdout",
     "output_type": "stream",
     "text": [
      "Event 52\n"
     ]
    },
    {
     "name": "stderr",
     "output_type": "stream",
     "text": [
      "100%|██████████| 512/512 [00:05<00:00, 96.23it/s] \n",
      "100%|██████████| 64/64 [00:00<00:00, 325.62it/s]\n"
     ]
    },
    {
     "name": "stdout",
     "output_type": "stream",
     "text": [
      "Event 53\n"
     ]
    },
    {
     "name": "stderr",
     "output_type": "stream",
     "text": [
      "100%|██████████| 512/512 [00:05<00:00, 100.18it/s]\n",
      "100%|██████████| 64/64 [00:00<00:00, 330.17it/s]\n"
     ]
    },
    {
     "name": "stdout",
     "output_type": "stream",
     "text": [
      "Event 54\n"
     ]
    },
    {
     "name": "stderr",
     "output_type": "stream",
     "text": [
      "100%|██████████| 512/512 [00:05<00:00, 99.67it/s] \n",
      "100%|██████████| 64/64 [00:00<00:00, 322.55it/s]\n"
     ]
    },
    {
     "name": "stdout",
     "output_type": "stream",
     "text": [
      "Event 55\n"
     ]
    },
    {
     "name": "stderr",
     "output_type": "stream",
     "text": [
      "100%|██████████| 512/512 [00:05<00:00, 98.99it/s] \n",
      "100%|██████████| 64/64 [00:00<00:00, 329.10it/s]\n"
     ]
    },
    {
     "name": "stdout",
     "output_type": "stream",
     "text": [
      "Event 56\n"
     ]
    },
    {
     "name": "stderr",
     "output_type": "stream",
     "text": [
      "100%|██████████| 512/512 [00:05<00:00, 97.60it/s] \n",
      "100%|██████████| 64/64 [00:00<00:00, 341.77it/s]\n"
     ]
    },
    {
     "name": "stdout",
     "output_type": "stream",
     "text": [
      "Event 57\n"
     ]
    },
    {
     "name": "stderr",
     "output_type": "stream",
     "text": [
      "100%|██████████| 512/512 [00:05<00:00, 101.80it/s]\n",
      "100%|██████████| 64/64 [00:00<00:00, 327.03it/s]\n"
     ]
    },
    {
     "name": "stdout",
     "output_type": "stream",
     "text": [
      "Event 58\n"
     ]
    },
    {
     "name": "stderr",
     "output_type": "stream",
     "text": [
      "100%|██████████| 512/512 [00:05<00:00, 100.25it/s]\n",
      "100%|██████████| 64/64 [00:00<00:00, 326.16it/s]\n"
     ]
    },
    {
     "name": "stdout",
     "output_type": "stream",
     "text": [
      "Event 59\n"
     ]
    },
    {
     "name": "stderr",
     "output_type": "stream",
     "text": [
      "100%|██████████| 512/512 [00:05<00:00, 100.60it/s]\n",
      "100%|██████████| 64/64 [00:00<00:00, 331.05it/s]\n"
     ]
    },
    {
     "name": "stdout",
     "output_type": "stream",
     "text": [
      "Event 60\n"
     ]
    },
    {
     "name": "stderr",
     "output_type": "stream",
     "text": [
      "100%|██████████| 512/512 [00:05<00:00, 97.72it/s] \n",
      "100%|██████████| 64/64 [00:00<00:00, 328.57it/s]\n"
     ]
    },
    {
     "name": "stdout",
     "output_type": "stream",
     "text": [
      "Event 61\n"
     ]
    },
    {
     "name": "stderr",
     "output_type": "stream",
     "text": [
      "100%|██████████| 512/512 [00:05<00:00, 99.99it/s] \n",
      "100%|██████████| 64/64 [00:00<00:00, 334.59it/s]\n"
     ]
    },
    {
     "name": "stdout",
     "output_type": "stream",
     "text": [
      "Event 62\n"
     ]
    },
    {
     "name": "stderr",
     "output_type": "stream",
     "text": [
      "100%|██████████| 512/512 [00:05<00:00, 89.82it/s]\n",
      "100%|██████████| 64/64 [00:00<00:00, 319.16it/s]\n"
     ]
    },
    {
     "name": "stdout",
     "output_type": "stream",
     "text": [
      "Event 63\n"
     ]
    },
    {
     "name": "stderr",
     "output_type": "stream",
     "text": [
      "100%|██████████| 512/512 [00:05<00:00, 97.58it/s] \n",
      "100%|██████████| 64/64 [00:00<00:00, 329.09it/s]\n"
     ]
    },
    {
     "name": "stdout",
     "output_type": "stream",
     "text": [
      "Event 64\n"
     ]
    },
    {
     "name": "stderr",
     "output_type": "stream",
     "text": [
      "100%|██████████| 512/512 [00:05<00:00, 89.36it/s] \n",
      "100%|██████████| 64/64 [00:00<00:00, 330.55it/s]\n"
     ]
    },
    {
     "name": "stdout",
     "output_type": "stream",
     "text": [
      "Event 65\n"
     ]
    },
    {
     "name": "stderr",
     "output_type": "stream",
     "text": [
      "100%|██████████| 512/512 [00:05<00:00, 95.34it/s] \n",
      "100%|██████████| 64/64 [00:00<00:00, 324.54it/s]\n"
     ]
    },
    {
     "name": "stdout",
     "output_type": "stream",
     "text": [
      "Event 66\n"
     ]
    },
    {
     "name": "stderr",
     "output_type": "stream",
     "text": [
      "100%|██████████| 512/512 [00:05<00:00, 98.12it/s] \n",
      "100%|██████████| 64/64 [00:00<00:00, 345.06it/s]\n"
     ]
    },
    {
     "name": "stdout",
     "output_type": "stream",
     "text": [
      "Event 67\n"
     ]
    },
    {
     "name": "stderr",
     "output_type": "stream",
     "text": [
      "100%|██████████| 512/512 [00:05<00:00, 95.24it/s] \n",
      "100%|██████████| 64/64 [00:00<00:00, 336.23it/s]\n"
     ]
    },
    {
     "name": "stdout",
     "output_type": "stream",
     "text": [
      "Event 68\n"
     ]
    },
    {
     "name": "stderr",
     "output_type": "stream",
     "text": [
      "100%|██████████| 512/512 [00:05<00:00, 94.15it/s] \n",
      "100%|██████████| 64/64 [00:00<00:00, 329.75it/s]\n"
     ]
    },
    {
     "name": "stdout",
     "output_type": "stream",
     "text": [
      "Event 69\n"
     ]
    },
    {
     "name": "stderr",
     "output_type": "stream",
     "text": [
      "100%|██████████| 512/512 [00:05<00:00, 91.66it/s] \n",
      "100%|██████████| 64/64 [00:00<00:00, 330.22it/s]\n"
     ]
    },
    {
     "name": "stdout",
     "output_type": "stream",
     "text": [
      "Event 70\n"
     ]
    },
    {
     "name": "stderr",
     "output_type": "stream",
     "text": [
      "100%|██████████| 512/512 [00:05<00:00, 100.17it/s]\n",
      "100%|██████████| 64/64 [00:00<00:00, 328.42it/s]\n"
     ]
    },
    {
     "name": "stdout",
     "output_type": "stream",
     "text": [
      "Event 71\n"
     ]
    },
    {
     "name": "stderr",
     "output_type": "stream",
     "text": [
      "100%|██████████| 512/512 [00:05<00:00, 100.69it/s]\n",
      "100%|██████████| 64/64 [00:00<00:00, 331.80it/s]\n"
     ]
    },
    {
     "name": "stdout",
     "output_type": "stream",
     "text": [
      "Event 72\n"
     ]
    },
    {
     "name": "stderr",
     "output_type": "stream",
     "text": [
      "100%|██████████| 512/512 [00:05<00:00, 100.81it/s]\n",
      "100%|██████████| 64/64 [00:00<00:00, 324.59it/s]\n"
     ]
    },
    {
     "name": "stdout",
     "output_type": "stream",
     "text": [
      "Event 73\n"
     ]
    },
    {
     "name": "stderr",
     "output_type": "stream",
     "text": [
      "100%|██████████| 512/512 [00:05<00:00, 96.60it/s] \n",
      "100%|██████████| 64/64 [00:00<00:00, 326.00it/s]\n"
     ]
    },
    {
     "name": "stdout",
     "output_type": "stream",
     "text": [
      "Event 74\n"
     ]
    },
    {
     "name": "stderr",
     "output_type": "stream",
     "text": [
      "100%|██████████| 512/512 [00:05<00:00, 97.71it/s] \n",
      "100%|██████████| 64/64 [00:00<00:00, 320.49it/s]\n"
     ]
    },
    {
     "name": "stdout",
     "output_type": "stream",
     "text": [
      "Event 75\n"
     ]
    },
    {
     "name": "stderr",
     "output_type": "stream",
     "text": [
      "100%|██████████| 512/512 [00:05<00:00, 97.66it/s] \n",
      "100%|██████████| 64/64 [00:00<00:00, 331.20it/s]\n"
     ]
    },
    {
     "name": "stdout",
     "output_type": "stream",
     "text": [
      "Event 76\n"
     ]
    },
    {
     "name": "stderr",
     "output_type": "stream",
     "text": [
      "100%|██████████| 512/512 [00:05<00:00, 97.58it/s] \n",
      "100%|██████████| 64/64 [00:00<00:00, 323.24it/s]\n"
     ]
    },
    {
     "name": "stdout",
     "output_type": "stream",
     "text": [
      "Event 77\n"
     ]
    },
    {
     "name": "stderr",
     "output_type": "stream",
     "text": [
      "100%|██████████| 512/512 [00:05<00:00, 100.93it/s]\n",
      "100%|██████████| 64/64 [00:00<00:00, 322.49it/s]\n"
     ]
    },
    {
     "name": "stdout",
     "output_type": "stream",
     "text": [
      "Event 78\n"
     ]
    },
    {
     "name": "stderr",
     "output_type": "stream",
     "text": [
      "100%|██████████| 512/512 [00:05<00:00, 100.74it/s]\n",
      "100%|██████████| 64/64 [00:00<00:00, 343.93it/s]\n"
     ]
    },
    {
     "name": "stdout",
     "output_type": "stream",
     "text": [
      "Event 79\n"
     ]
    },
    {
     "name": "stderr",
     "output_type": "stream",
     "text": [
      "100%|██████████| 512/512 [00:05<00:00, 101.82it/s]\n",
      "100%|██████████| 64/64 [00:00<00:00, 334.53it/s]\n"
     ]
    },
    {
     "name": "stdout",
     "output_type": "stream",
     "text": [
      "Event 80\n"
     ]
    },
    {
     "name": "stderr",
     "output_type": "stream",
     "text": [
      "100%|██████████| 512/512 [00:05<00:00, 95.48it/s] \n",
      "100%|██████████| 64/64 [00:00<00:00, 322.20it/s]\n"
     ]
    },
    {
     "name": "stdout",
     "output_type": "stream",
     "text": [
      "Event 81\n"
     ]
    },
    {
     "name": "stderr",
     "output_type": "stream",
     "text": [
      "100%|██████████| 512/512 [00:05<00:00, 99.96it/s] \n",
      "100%|██████████| 64/64 [00:00<00:00, 325.43it/s]\n"
     ]
    },
    {
     "name": "stdout",
     "output_type": "stream",
     "text": [
      "Event 82\n"
     ]
    },
    {
     "name": "stderr",
     "output_type": "stream",
     "text": [
      "100%|██████████| 512/512 [00:05<00:00, 98.29it/s] \n",
      "100%|██████████| 64/64 [00:00<00:00, 343.25it/s]\n"
     ]
    },
    {
     "name": "stdout",
     "output_type": "stream",
     "text": [
      "Event 83\n"
     ]
    },
    {
     "name": "stderr",
     "output_type": "stream",
     "text": [
      "100%|██████████| 512/512 [00:05<00:00, 96.95it/s] \n",
      "100%|██████████| 64/64 [00:00<00:00, 348.10it/s]\n"
     ]
    },
    {
     "name": "stdout",
     "output_type": "stream",
     "text": [
      "Event 84\n"
     ]
    },
    {
     "name": "stderr",
     "output_type": "stream",
     "text": [
      "100%|██████████| 512/512 [00:05<00:00, 102.25it/s]\n",
      "100%|██████████| 64/64 [00:00<00:00, 330.43it/s]\n"
     ]
    },
    {
     "name": "stdout",
     "output_type": "stream",
     "text": [
      "Event 85\n"
     ]
    },
    {
     "name": "stderr",
     "output_type": "stream",
     "text": [
      "100%|██████████| 512/512 [00:05<00:00, 99.16it/s] \n",
      "100%|██████████| 64/64 [00:00<00:00, 345.28it/s]\n"
     ]
    },
    {
     "name": "stdout",
     "output_type": "stream",
     "text": [
      "Event 86\n"
     ]
    },
    {
     "name": "stderr",
     "output_type": "stream",
     "text": [
      "100%|██████████| 512/512 [00:05<00:00, 102.21it/s]\n",
      "100%|██████████| 64/64 [00:00<00:00, 331.03it/s]\n"
     ]
    },
    {
     "name": "stdout",
     "output_type": "stream",
     "text": [
      "Event 87\n"
     ]
    },
    {
     "name": "stderr",
     "output_type": "stream",
     "text": [
      "100%|██████████| 512/512 [00:05<00:00, 100.58it/s]\n",
      "100%|██████████| 64/64 [00:00<00:00, 327.76it/s]\n"
     ]
    },
    {
     "name": "stdout",
     "output_type": "stream",
     "text": [
      "Event 88\n"
     ]
    },
    {
     "name": "stderr",
     "output_type": "stream",
     "text": [
      "100%|██████████| 512/512 [00:05<00:00, 95.06it/s] \n",
      "100%|██████████| 64/64 [00:00<00:00, 332.27it/s]\n"
     ]
    },
    {
     "name": "stdout",
     "output_type": "stream",
     "text": [
      "Event 89\n"
     ]
    },
    {
     "name": "stderr",
     "output_type": "stream",
     "text": [
      "100%|██████████| 512/512 [00:05<00:00, 100.92it/s]\n",
      "100%|██████████| 64/64 [00:00<00:00, 323.00it/s]\n"
     ]
    },
    {
     "name": "stdout",
     "output_type": "stream",
     "text": [
      "Event 90\n"
     ]
    },
    {
     "name": "stderr",
     "output_type": "stream",
     "text": [
      "100%|██████████| 512/512 [00:05<00:00, 100.10it/s]\n",
      "100%|██████████| 64/64 [00:00<00:00, 329.24it/s]\n"
     ]
    },
    {
     "name": "stdout",
     "output_type": "stream",
     "text": [
      "Event 91\n"
     ]
    },
    {
     "name": "stderr",
     "output_type": "stream",
     "text": [
      "100%|██████████| 512/512 [00:05<00:00, 100.27it/s]\n",
      "100%|██████████| 64/64 [00:00<00:00, 334.54it/s]\n"
     ]
    },
    {
     "name": "stdout",
     "output_type": "stream",
     "text": [
      "Event 92\n"
     ]
    },
    {
     "name": "stderr",
     "output_type": "stream",
     "text": [
      "100%|██████████| 512/512 [00:05<00:00, 100.32it/s]\n",
      "100%|██████████| 64/64 [00:00<00:00, 323.35it/s]\n"
     ]
    },
    {
     "name": "stdout",
     "output_type": "stream",
     "text": [
      "Event 93\n"
     ]
    },
    {
     "name": "stderr",
     "output_type": "stream",
     "text": [
      "100%|██████████| 512/512 [00:05<00:00, 100.91it/s]\n",
      "100%|██████████| 64/64 [00:00<00:00, 324.10it/s]\n"
     ]
    },
    {
     "name": "stdout",
     "output_type": "stream",
     "text": [
      "Event 94\n"
     ]
    },
    {
     "name": "stderr",
     "output_type": "stream",
     "text": [
      "100%|██████████| 512/512 [00:05<00:00, 88.00it/s]\n",
      "100%|██████████| 64/64 [00:00<00:00, 325.02it/s]\n"
     ]
    },
    {
     "name": "stdout",
     "output_type": "stream",
     "text": [
      "Event 95\n"
     ]
    },
    {
     "name": "stderr",
     "output_type": "stream",
     "text": [
      "100%|██████████| 512/512 [00:05<00:00, 99.25it/s] \n",
      "100%|██████████| 64/64 [00:00<00:00, 345.83it/s]\n"
     ]
    },
    {
     "name": "stdout",
     "output_type": "stream",
     "text": [
      "Event 96\n"
     ]
    },
    {
     "name": "stderr",
     "output_type": "stream",
     "text": [
      "100%|██████████| 512/512 [00:05<00:00, 95.84it/s] \n",
      "100%|██████████| 64/64 [00:00<00:00, 337.66it/s]\n"
     ]
    },
    {
     "name": "stdout",
     "output_type": "stream",
     "text": [
      "Event 97\n"
     ]
    },
    {
     "name": "stderr",
     "output_type": "stream",
     "text": [
      "100%|██████████| 512/512 [00:05<00:00, 100.35it/s]\n",
      "100%|██████████| 64/64 [00:00<00:00, 324.49it/s]\n"
     ]
    },
    {
     "name": "stdout",
     "output_type": "stream",
     "text": [
      "Event 98\n"
     ]
    },
    {
     "name": "stderr",
     "output_type": "stream",
     "text": [
      "100%|██████████| 512/512 [00:05<00:00, 93.71it/s]\n",
      "100%|██████████| 64/64 [00:00<00:00, 326.36it/s]\n"
     ]
    },
    {
     "name": "stdout",
     "output_type": "stream",
     "text": [
      "Event 99\n"
     ]
    },
    {
     "name": "stderr",
     "output_type": "stream",
     "text": [
      "100%|██████████| 512/512 [00:05<00:00, 97.58it/s] \n",
      "100%|██████████| 64/64 [00:00<00:00, 326.99it/s]\n"
     ]
    }
   ],
   "source": [
    "import warnings\n",
    "warnings.filterwarnings('ignore')\n",
    "\n",
    "for n in range (nevents):\n",
    "    \n",
    "    print('Event %i' % n)\n",
    "    output = simulate()\n",
    "    \n",
    "    up_lc = output['up_lc']\n",
    "    \n",
    "    np.save(os.path.join('simulations', 'gpu_full', 'result_%i.npy' %n), up_lc)"
   ]
  },
  {
   "cell_type": "markdown",
   "metadata": {},
   "source": [
    "We plot the results"
   ]
  },
  {
   "cell_type": "code",
   "execution_count": 17,
   "metadata": {},
   "outputs": [],
   "source": [
    "# We extract the color components\n",
    "up_lc_r = up_lc.reshape(nplus-1, N, N, su.GROUP_ELEMENTS)\n",
    "up_lc_comp = np.apply_along_axis(su.get_algebra_factors_from_group_element_approximate, 3, up_lc_r)"
   ]
  },
  {
   "cell_type": "code",
   "execution_count": 18,
   "metadata": {},
   "outputs": [
    {
     "data": {
      "image/png": "[encoded data removed]",
      "text/plain": [
       "<Figure size 3000x500 with 8 Axes>"
      ]
     },
     "metadata": {},
     "output_type": "display_data"
    }
   ],
   "source": [
    "# We plot the temporal gauge results\n",
    "import matplotlib.pyplot as plt\n",
    "\n",
    "fig, axs = plt.subplots(1, nplus//20 +1, figsize=(30,5))\n",
    "fig.suptitle(r'$A_+^{temp}(x^+, y, z)$', fontsize=20)\n",
    "\n",
    "for t in range(nplus//20 + 1): \n",
    "    xplus = 20*t\n",
    "    \n",
    "    plot1 = axs[t].imshow(up_lc_comp[xplus, :, :, 0].real, cmap='RdBu', vmin=-1, vmax=1) \n",
    "    cbar = plt.colorbar(plot1, ax = axs[t])\n",
    "    \n",
    "    axs[t].set_xticklabels([]); axs[t].set_yticklabels([])\n",
    "    axs[t].set_ylabel('y', fontsize=20); axs[t].set_xlabel('z', fontsize=20)\n",
    "    axs[t].set_title(r'$x^+ = %.2f\\ GeV^{-1}$' %(2*a*xplus/hbarc), fontsize=20)\n",
    "    \n",
    "# plt.savefig('temporal_gauge_fields')"
   ]
  }
 ],
 "metadata": {
  "kernelspec": {
   "display_name": "Python 3",
   "language": "python",
   "name": "python3"
  },
  "language_info": {
   "codemirror_mode": {
    "name": "ipython",
    "version": 3
   },
   "file_extension": ".py",
   "mimetype": "text/x-python",
   "name": "python",
   "nbconvert_exporter": "python",
   "pygments_lexer": "ipython3",
   "version": "3.10.4"
  }
 },
 "nbformat": 4,
 "nbformat_minor": 2
}
