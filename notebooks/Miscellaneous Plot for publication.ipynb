{
 "cells": [
  {
   "cell_type": "markdown",
   "metadata": {},
   "source": [
    "# **Numerical checks**"
   ]
  },
  {
   "cell_type": "markdown",
   "metadata": {},
   "source": [
    "### Default simulation parameters for the Glasma and the Wong solvers"
   ]
  },
  {
   "cell_type": "code",
   "execution_count": 1,
   "metadata": {},
   "outputs": [],
   "source": [
    "import numpy as np\n",
    "\n",
    "# hbar * c [GeV * fm]\n",
    "hbarc = 0.197326 \n",
    "\n",
    "# Simulation box \n",
    "L = 10      \n",
    "N = 512    \n",
    "tau_sim = 2.0     \n",
    "DTS = 8     \n",
    "\n",
    "# Glasma\n",
    "su_group = 'su2'\n",
    "Qs = 2        \n",
    "ns = 50    \n",
    "factor = 0.8        \n",
    "g2mu = Qs / factor     \n",
    "g = np.pi * np.sqrt(1 / np.log(Qs / 0.2))          \t\t\n",
    "mu = g2mu / g**2          \t\n",
    "ir = 0.1 * g**2 * mu         \n",
    "uv = 10.0           \n",
    "\n",
    "# Wong \n",
    "mass = 10**5   \n",
    "tau_form = 0   \n",
    "pT = 0   \n",
    "ntp = 10**5  \n",
    "nevents = 1    \n",
    "representation = 'fundamental'      \n",
    "boundary = 'periodic'       "
   ]
  },
  {
   "cell_type": "markdown",
   "metadata": {},
   "source": [
    "### Set environment variables"
   ]
  },
  {
   "cell_type": "code",
   "execution_count": 2,
   "metadata": {},
   "outputs": [
    {
     "name": "stdout",
     "output_type": "stream",
     "text": [
      "Using CUDA\n",
      "Using SU(2)\n",
      "Using double precision\n",
      "Using double precision\n",
      "Using double precision\n"
     ]
    }
   ],
   "source": [
    "import os\n",
    "os.environ[\"MY_NUMBA_TARGET\"] = \"cuda\"\n",
    "os.environ[\"PRECISION\"] = \"double\"\n",
    "os.environ[\"GAUGE_GROUP\"] = su_group\n",
    "\n",
    "# Import relevant modules\n",
    "import sys\n",
    "sys.path.append('..')\n",
    "\n",
    "# Glasma modules\n",
    "import curraun.core as core\n",
    "import curraun.mv as mv\n",
    "import curraun.initial as initial\n",
    "initial.DEBUG = False\n",
    "\n",
    "import curraun.su as su\n",
    "from curraun.numba_target import use_cuda\n",
    "if use_cuda:\n",
    "    from numba import cuda"
   ]
  },
  {
   "cell_type": "markdown",
   "metadata": {},
   "source": [
    "## **Conservation of Casimirs & Casimir scaling**"
   ]
  },
  {
   "cell_type": "code",
   "execution_count": 3,
   "metadata": {},
   "outputs": [],
   "source": [
    "# Wong modules\n",
    "from curraun import wong\n",
    "wong.BOUNDARY = boundary\n",
    "wong.CASIMIRS = True\n",
    "from curraun.wong import init_mom_toy, init_pos, init_charge\n",
    "\n",
    "# Dictionary with paraameters\n",
    "p = {'representation' : representation}"
   ]
  },
  {
   "cell_type": "markdown",
   "metadata": {},
   "source": [
    "### Simulation routine for evolving the Glasma & solving Wong's equations\n",
    "Computes momentum broadening and Casimirs of color charges"
   ]
  },
  {
   "cell_type": "code",
   "execution_count": 4,
   "metadata": {},
   "outputs": [],
   "source": [
    "import pickle\n",
    "from tqdm import tqdm\n",
    "\n",
    "# Simulation routine\n",
    "def simulate(p, ev): \n",
    "    representation = p[\"representation\"]\n",
    "\n",
    "    output = {}\n",
    "    output[\"parameters\"] = p.copy()\n",
    "\n",
    "    # Derived parameters\n",
    "    a = L / N\n",
    "    E0 = N / L * hbarc\n",
    "    DT = 1.0 / DTS\n",
    "    formt = int(tau_form / a * DTS)\n",
    "    maxt = int(tau_sim / a * DTS)\n",
    "\n",
    "    # Initialize Glasma fields\n",
    "    s = core.Simulation(N, DT, g)\n",
    "    va = mv.wilson(s, mu=mu / E0, m=ir / E0, uv=uv / E0, num_sheets=ns)\n",
    "    vb = mv.wilson(s, mu=mu / E0, m=ir / E0, uv=uv / E0, num_sheets=ns)\n",
    "    initial.init(s, va, vb)\n",
    "\n",
    "    # Initialize the Wong solver\n",
    "    wong_solver = wong.WongSolver(s, ntp)\n",
    "    x0s, p0s, q0s = np.zeros((ntp, 3)), np.zeros((ntp, 5)), np.zeros((ntp, su.ALGEBRA_ELEMENTS))\n",
    "    masses = mass / E0 * np.ones(ntp)\n",
    "\n",
    "    for i in range(ntp):\n",
    "        x0, p0, q0 = init_pos(s.n), init_mom_toy('pT', pT / E0), init_charge(representation)\n",
    "        x0s[i, :], p0s[i, :], q0s[i, :] = x0, p0, q0\n",
    "\n",
    "    wong_solver.initialize(x0s, p0s, q0s, masses)\n",
    "\n",
    "    mom_broad_T, mom_broad_L = np.zeros(maxt-formt), np.zeros(maxt-formt)\n",
    "    casimirs = np.zeros((maxt-formt, ntp, su.CASIMIRS))\n",
    "\n",
    "    with tqdm(total=maxt) as pbar:\n",
    "        for t in range(maxt):\n",
    "            # Evolve Glasma fields\n",
    "            core.evolve_leapfrog(s)\n",
    "\n",
    "            # Solve Wong's equations\n",
    "            if t>=formt:  \n",
    "                mom_broad = wong_solver.p_sq_mean \n",
    "                mom_broad_T[t-formt] = (mom_broad[0] + mom_broad[1]) * E0**2\n",
    "                mom_broad_L[t-formt] = mom_broad[2] * E0**2\n",
    "\n",
    "                wong_solver.evolve()\n",
    "                wong_solver.compute_mom_broad()\n",
    "\n",
    "                wong_solver.compute_casimirs(representation)\n",
    "                casimirs[t-formt] = wong_solver.c.copy()\n",
    "\n",
    "            pbar.set_description(\"Event \" + str(ev+1))\n",
    "            pbar.update(1)\n",
    "\n",
    "    output[\"mom_broad_T\"], output[\"mom_broad_L\"] = mom_broad_T, mom_broad_L\n",
    "    output[\"casimirs\"] = casimirs\n",
    "\n",
    "    return output"
   ]
  },
  {
   "cell_type": "markdown",
   "metadata": {},
   "source": [
    "### Running the Wong solver over multiple Glasma events"
   ]
  },
  {
   "cell_type": "code",
   "execution_count": null,
   "metadata": {},
   "outputs": [],
   "source": []
  }
 ],
 "metadata": {
  "interpreter": {
   "hash": "50fba519a3e3a4634f635ec7332619e3aceac5abb997750bdb88b5674357649c"
  },
  "kernelspec": {
   "display_name": "Python 3.6.13 ('curraun')",
   "language": "python",
   "name": "python3"
  },
  "language_info": {
   "codemirror_mode": {
    "name": "ipython",
    "version": 3
   },
   "file_extension": ".py",
   "mimetype": "text/x-python",
   "name": "python",
   "nbconvert_exporter": "python",
   "pygments_lexer": "ipython3",
   "version": "3.6.13"
  },
  "orig_nbformat": 4
 },
 "nbformat": 4,
 "nbformat_minor": 2
}
