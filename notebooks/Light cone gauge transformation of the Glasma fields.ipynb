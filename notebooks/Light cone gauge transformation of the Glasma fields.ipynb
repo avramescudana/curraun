{
 "cells": [
  {
   "cell_type": "markdown",
   "metadata": {},
   "source": [
    "# Gauge transformation of the Glasma fields to the transverse light cone gauge\n",
    "In this notebook, we perform the gauge transformation of the Glasma fields from the temporal gauge $A^\\tau=0$ to the transverse light cone gauge $\\underline{A}^+=0$. This is done in steps: \n",
    "- **Step 1**: Run a Glasma simulation and write the gauge links (and fields) to file\n",
    "    - This is done for a single Glasma event, it should later on be ran for multiple events. <span style=\"color:blue\">*(To do) Run multiple events.*</span>\n",
    "    - At the moment we write to file the transverse gauge links and the rapidity gauge fields as an exercise, only the transverse gauge links might be used in the gauge transformation for a jet at $\\eta=0$ midrapidity\n",
    "    - In the end, we will most likely want to skip this step and do all the operations on the memory of the GPU <span style=\"color:blue\">*(To do) Write the code on GPU.*</span> but a technically troublesome part is the fact that, in the end, the jet evolution might require the whole $\\tau$ information of the gauge fields. The solver only stores the information at two consecutive time steps $\\tau_i$ and $\\tau_{i+1}$. We will deal with this issue later. <span style=\"color:blue\">*(To do) Store the whole $\\tau$ information for the jet evolution.*</span>\n",
    "- **Step 2**: Read the Glasma fields from files and plot them\n",
    "    - Take a single color components and plot the field as a function of $(x,y)$ at different $\\tau$ values\n",
    "    - It will be instructive to vizualize the fields and how they change after the gauge transformation, as similarly done by Meijian in her Mathematica notebook.\n",
    "- **Step 3**: Implement the gauge transformation for a single time step\n",
    "    - For this step, we need to work out the formalism and figure out how exactly to perform the gauge transformation. In her Mathematica notebook, Meijian does the gauge transformation at the level of gauge fields but with our lattice solver, we will want to do it using gauge links, in a gauge invariant way. Esentially the gauge transformation will be done via color gauge rotations. In practice, for this we will use routines from the source files `su3.py` and `lattice.py`, namely the function `act(u,a)` which does the color rotation operation operation $A\\mapsto UAU^\\dagger$. <span style=\"color:blue\">*(To do) Figure out how to numerically perform the gauge transformation using gauge links.*</span>\n",
    "    - As such, let's divide this task into subtasks\n",
    "        - **Step 3.1** Read the gauge links and fields from files. This will be later done on the GPU.\n",
    "        - **Step 3.2** Do the coordinate transformation of the gauge fields from temporal to transverse light-cone gauge and perform the gauge transformation. The technicalities of this step still need to be figures out.\n",
    "        - **Step 3.3** As done in **Step 2**, plot the gauge transformed fields, only a single color component.\n",
    "- Next steps...\n"
   ]
  },
  {
   "cell_type": "markdown",
   "metadata": {},
   "source": [
    "- - -\n",
    "## **Step 1** \n",
    "Run a Glasma simulation and write the gauge links (and fields) to file"
   ]
  },
  {
   "cell_type": "markdown",
   "metadata": {},
   "source": [
    "#### Simulation parameters\n",
    "- Gauge group $\\mathrm{SU}(3)$\n",
    "- Nb. of color sheets $N_s=50$\n",
    "- Nb. of lattice points $N$\n",
    "- Transverse simulation length $L$\n",
    "- Leapfrog time step $1/\\mathrm{DTS}=1/8=0.125$\n",
    "- Simulation time $\\tau_\\mathrm{sim}$\n",
    "- Saturation momentum $Q_s=2\\,\\mathrm{GeV}$\n",
    "- Coupling constant $g=\\sqrt{2\\pi\\alpha_s}$ with runnning coupling $\\alpha_s=\\dfrac{2\\pi}{\\dfrac{33-2 N_f}{3}}\\dfrac{1}{\\mathrm{log}\\left(\\dfrac{Q_s}{\\lambda_{\\mathrm{QCD}}}\\right)}$\n",
    "- Factor relating the MV model $g^2\\mu$ to the saturation scale $Q_s=0.8 g^2\\mu$, taken from [T. Lappi - Wilson line correlator in the MV model: relating the glasma to deep inelastic scattering](https://arxiv.org/abs/0711.3039) for $N_s=50$, see *Fig. 4*"
   ]
  },
  {
   "cell_type": "code",
   "execution_count": 1,
   "metadata": {},
   "outputs": [],
   "source": [
    "import numpy as np\n",
    "\n",
    "# hbar * c [GeV * fm]\n",
    "hbarc = 0.197326 \n",
    "\n",
    "# Simulation box \n",
    "L = 2      \n",
    "N = 128   \n",
    "tau_sim = 0.1     \n",
    "DTS = 8     \n",
    "\n",
    "# Glasma fields\n",
    "su_group = 'su3'\n",
    "Qs = 2        \n",
    "ns = 50    \n",
    "factor = 0.8        \n",
    "g2mu = Qs / factor     \n",
    "g = np.pi * np.sqrt(1 / np.log(Qs / 0.2))          \t\t\n",
    "mu = g2mu / g**2          \t\n",
    "ir = 0.1 * g**2 * mu         \n",
    "uv = 10.0       \n",
    "\n",
    "# TODO: Run more events\n",
    "nevents = 1"
   ]
  },
  {
   "cell_type": "markdown",
   "metadata": {},
   "source": [
    "#### Set environment variables\n",
    "Here we choose if we run with the GPU `cuda` version or with the CPU `numba` or (very slow) `python` versions. Additionaly, we import all the necessary Glasma modules included in the `curraun` folder. Each code functionality is typically implemented in a different source file. This will also be the case for the gauge transformation and jet evolution code."
   ]
  },
  {
   "cell_type": "code",
   "execution_count": 2,
   "metadata": {},
   "outputs": [
    {
     "name": "stdout",
     "output_type": "stream",
     "text": [
      "Using CUDA\n",
      "Using SU(3)\n",
      "Using double precision\n"
     ]
    }
   ],
   "source": [
    "import os\n",
    "\n",
    "# I need to add this line to ask resources from a specific GPU, which is free. Our GPU server has no queing system\n",
    "os.environ[\"CUDA_VISIBLE_DEVICES\"]=\"1\"\n",
    "\n",
    "os.environ[\"MY_NUMBA_TARGET\"] = \"cuda\"\n",
    "os.environ[\"PRECISION\"] = \"double\"\n",
    "os.environ[\"GAUGE_GROUP\"] = su_group\n",
    "\n",
    "# Import relevant modules\n",
    "import sys\n",
    "sys.path.append('..')\n",
    "\n",
    "# Glasma modules\n",
    "import curraun.core as core\n",
    "import curraun.mv as mv\n",
    "import curraun.initial as initial\n",
    "initial.DEBUG = False\n",
    "\n",
    "import curraun.su as su\n",
    "from curraun.numba_target import use_cuda\n",
    "if use_cuda:\n",
    "    from numba import cuda\n",
    "\n",
    "import curraun.su as su\n",
    "# Number of colors\n",
    "Nc = su.NC\n",
    "# Dimension of algebra \n",
    "Dg = su.GROUP_ELEMENTS"
   ]
  },
  {
   "cell_type": "markdown",
   "metadata": {},
   "source": [
    "#### Simulation routine for evolving the Glasma fields\n",
    "Here the Glasma fields are numerically evolved, the transverse gauge link and rapidity gauge field are copied from the memory of the GPU and stored in arrays."
   ]
  },
  {
   "cell_type": "code",
   "execution_count": 3,
   "metadata": {},
   "outputs": [],
   "source": [
    "import pickle\n",
    "from tqdm import tqdm\n",
    "\n",
    "# Simulation routine\n",
    "# def simulate(ev): \n",
    "def simulate(): \n",
    "    # output = {}\n",
    "\n",
    "    # Derived parameters\n",
    "    a = L / N\n",
    "    E0 = N / L * hbarc\n",
    "    DT = 1.0 / DTS\n",
    "    maxt = int(tau_sim / a * DTS)\n",
    "\n",
    "    # Initialize Glasma fields\n",
    "    s = core.Simulation(N, DT, g)\n",
    "    va = mv.wilson(s, mu=mu / E0, m=ir / E0, uv=uv / E0, num_sheets=ns)\n",
    "    vb = mv.wilson(s, mu=mu / E0, m=ir / E0, uv=uv / E0, num_sheets=ns)\n",
    "    initial.init(s, va, vb)\n",
    "\n",
    "     # Transverse gauge links\n",
    "    # ux = np.zeros((maxt, N, N, Dg))\n",
    "    # uy = np.zeros((maxt, N, N, Dg))\n",
    "    # aeta = np.zeros((maxt, N, N, Dg))\n",
    "    ux = np.zeros((maxt, N*N, Dg))\n",
    "    uy = np.zeros((maxt, N*N, Dg))\n",
    "    aeta = np.zeros((maxt, N*N, Dg))\n",
    "\n",
    "    with tqdm(total=maxt) as pbar:\n",
    "        for t in range(maxt):            \n",
    "            # Evolve Glasma fields\n",
    "            core.evolve_leapfrog(s)\n",
    "\n",
    "            # Copy gauge links and gauge fields from the memory of the GPU\n",
    "            ui = s.u1.copy()\n",
    "            # ux[t] = ui[:, 0, :].reshape(N,N,Dg)\n",
    "            # uy[t] = ui[:, 1, :].reshape(N,N,Dg)\n",
    "            ux[t] = ui[:, 0, :]\n",
    "            uy[t] = ui[:, 1, :]\n",
    "\n",
    "            ae = s.aeta1.copy()\n",
    "            # aeta[t] = ae.reshape(N,N,Dg)\n",
    "            aeta[t] = ae\n",
    "            \n",
    "            pbar.update(1)\n",
    "\n",
    "    if use_cuda:\n",
    "        cuda.current_context().deallocations.clear()\n",
    "\n",
    "    # output['ux'], output['uy'], output['aeta'] = ux, uy, aeta\n",
    "    return ux, uy, aeta"
   ]
  },
  {
   "cell_type": "markdown",
   "metadata": {},
   "source": [
    "#### Run the simulation and write to file"
   ]
  },
  {
   "cell_type": "code",
   "execution_count": 4,
   "metadata": {},
   "outputs": [],
   "source": [
    "# Supress various horribly long warnings\n",
    "import warnings\n",
    "warnings.filterwarnings('ignore')"
   ]
  },
  {
   "cell_type": "code",
   "execution_count": 5,
   "metadata": {},
   "outputs": [
    {
     "name": "stderr",
     "output_type": "stream",
     "text": [
      "100%|██████████| 51/51 [00:04<00:00, 12.58it/s]\n"
     ]
    }
   ],
   "source": [
    "ux, uy, aeta = simulate()"
   ]
  },
  {
   "cell_type": "code",
   "execution_count": 6,
   "metadata": {},
   "outputs": [],
   "source": [
    "# Store relevant parameters in a dictionary\n",
    "p = {\n",
    "    'TSIM': tau_sim,\n",
    "    'QS': Qs,            \n",
    "    'SUGROUP': su_group,\n",
    "    'L': L,\n",
    "    'N': N,\n",
    "    'DTS': DTS,\n",
    "    'DG': Dg,\n",
    "    # and others later on...\n",
    "    }\n",
    "\n",
    "with open('parameters_gauge_transf_glasma_test.pickle', 'wb') as handle:\n",
    "    pickle.dump(p, handle)"
   ]
  },
  {
   "cell_type": "code",
   "execution_count": 7,
   "metadata": {},
   "outputs": [],
   "source": [
    "np.savez_compressed('gauge_links_fields_glasma_test.npz', ux=ux, uy=uy, aeta=aeta)"
   ]
  }
 ],
 "metadata": {
  "kernelspec": {
   "display_name": "Python 3",
   "language": "python",
   "name": "python3"
  },
  "language_info": {
   "codemirror_mode": {
    "name": "ipython",
    "version": 3
   },
   "file_extension": ".py",
   "mimetype": "text/x-python",
   "name": "python",
   "nbconvert_exporter": "python",
   "pygments_lexer": "ipython3",
   "version": "3.6.8"
  }
 },
 "nbformat": 4,
 "nbformat_minor": 2
}
