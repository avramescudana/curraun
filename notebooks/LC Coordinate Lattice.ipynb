{
 "cells": [
  {
   "cell_type": "markdown",
   "metadata": {},
   "source": [
    "# Gauge transformation of the gauge links in a LC coordinate lattice"
   ]
  },
  {
   "cell_type": "markdown",
   "metadata": {},
   "source": [
    "## Step 0"
   ]
  },
  {
   "cell_type": "markdown",
   "metadata": {},
   "source": [
    "### Writting the fields from files"
   ]
  },
  {
   "cell_type": "code",
   "execution_count": 2,
   "metadata": {},
   "outputs": [
    {
     "name": "stdout",
     "output_type": "stream",
     "text": [
      "Using SU(3)\n",
      "Using Numba\n",
      "Using double precision\n"
     ]
    },
    {
     "name": "stderr",
     "output_type": "stream",
     "text": [
      "/home2/carlos.lamas/condacurraun/lib/python3.10/site-packages/scipy/__init__.py:132: UserWarning: A NumPy version >=1.21.6 and <1.28.0 is required for this version of SciPy (detected version 1.21.5)\n",
      "  warnings.warn(f\"A NumPy version >={np_minversion} and <{np_maxversion}\"\n"
     ]
    }
   ],
   "source": [
    "import os\n",
    "\n",
    "os.environ[\"MY_NUMBA_TARGET\"] = \"numba\"\n",
    "os.environ[\"PRECISION\"] = \"double\"\n",
    "os.environ['GAUGE_GROUP'] = 'su3'\n",
    "\n",
    "import curraun.su as su\n",
    "import numpy as np\n",
    "import pickle"
   ]
  },
  {
   "cell_type": "code",
   "execution_count": 3,
   "metadata": {},
   "outputs": [],
   "source": [
    "# We read the fields\n",
    "\n",
    "fields = np.load('gauge_links_fields_glasma_test.npz')\n",
    "ux = fields['ux']\n",
    "\n",
    "with open('parameters_gauge_transf_glasma_test.pickle', 'rb') as f:\n",
    "    param = pickle.load(f)"
   ]
  },
  {
   "cell_type": "code",
   "execution_count": 4,
   "metadata": {},
   "outputs": [
    {
     "name": "stdout",
     "output_type": "stream",
     "text": [
      "(64, 16384, 9)\n"
     ]
    }
   ],
   "source": [
    "print(np.shape(ux))"
   ]
  },
  {
   "cell_type": "code",
   "execution_count": 5,
   "metadata": {},
   "outputs": [],
   "source": [
    "# We get the relevant parameters\n",
    "\n",
    "N = param['N']\n",
    "Dg = param['DG']\n",
    "\n",
    "t_steps = np.shape(ux)[0]"
   ]
  },
  {
   "cell_type": "code",
   "execution_count": 6,
   "metadata": {},
   "outputs": [
    {
     "name": "stdout",
     "output_type": "stream",
     "text": [
      "(64, 128, 128, 9)\n"
     ]
    }
   ],
   "source": [
    "# We reshape the transverse component into a N*N matrix\n",
    "\n",
    "ux_r = ux.reshape((t_steps, N, N, Dg))\n",
    "\n",
    "print(np.shape(ux_r))"
   ]
  },
  {
   "cell_type": "markdown",
   "metadata": {},
   "source": [
    "## Step 1"
   ]
  },
  {
   "cell_type": "markdown",
   "metadata": {},
   "source": [
    "### We write the relevant magnitude in LC coordinates"
   ]
  },
  {
   "cell_type": "code",
   "execution_count": 7,
   "metadata": {},
   "outputs": [],
   "source": [
    "# We define a function that, given a set of gauge links, returns the values over the x^+ axis\n",
    "\n",
    "def get_xplus_axis_links (u):\n",
    "    uminus = su.GROUP_TYPE(np.zeros((t_steps, N, Dg)))\n",
    "    for t in range (t_steps):\n",
    "        uminus[t, :, :] = u[t,t,:,:]\n",
    "    uplus = np.apply_along_axis(su.dagger, 2, uminus)\n",
    "    return uplus, uminus"
   ]
  },
  {
   "cell_type": "code",
   "execution_count": 8,
   "metadata": {},
   "outputs": [
    {
     "name": "stdout",
     "output_type": "stream",
     "text": [
      "(64, 128, 9)\n",
      "(64, 128, 9)\n"
     ]
    },
    {
     "name": "stderr",
     "output_type": "stream",
     "text": [
      "/home2/carlos.lamas/condacurraun/lib/python3.10/site-packages/numba/core/typed_passes.py:329: NumbaPerformanceWarning: \n",
      "The keyword argument 'parallel=True' was specified but no transformation for parallel execution was possible.\n",
      "\n",
      "To find out why, try turning on parallel diagnostics, see https://numba.readthedocs.io/en/stable/user/parallel.html#diagnostics for help.\n",
      "\n",
      "File \"../curraun/su3.py\", line 347:\n",
      "@myjit\n",
      "def dagger(a):\n",
      "^\n",
      "\n",
      "  warnings.warn(errors.NumbaPerformanceWarning(msg,\n"
     ]
    }
   ],
   "source": [
    "u_plus_temp, u_minus_temp = get_xplus_axis_links(ux_r)\n",
    "\n",
    "print(np.shape(u_plus_temp))\n",
    "print(np.shape(u_minus_temp))"
   ]
  },
  {
   "cell_type": "markdown",
   "metadata": {},
   "source": [
    "## Step 2"
   ]
  },
  {
   "cell_type": "markdown",
   "metadata": {},
   "source": [
    "### We gauge transform the relevant quantity to LC gauge"
   ]
  },
  {
   "cell_type": "code",
   "execution_count": 9,
   "metadata": {},
   "outputs": [],
   "source": [
    "# We construct a function that gives the gauge operator at a given point of the x^+ axis\n",
    "\n",
    "def gauge_operator(u, xplus):\n",
    "    v = su.GROUP_TYPE(np.array([su.unit() for i in range(N)]))\n",
    "    for t in range(xplus):\n",
    "        buffer1 = v\n",
    "        aux = u[t, 2*xplus-t, :, :]\n",
    "        buffer2 = np.apply_along_axis(su.dagger, 1, aux)\n",
    "        v = np.array([su.mul(buffer1[i, :], buffer2[i, :]) for i in range(N)])\n",
    "    return v"
   ]
  },
  {
   "cell_type": "code",
   "execution_count": 10,
   "metadata": {},
   "outputs": [
    {
     "name": "stderr",
     "output_type": "stream",
     "text": [
      "/home2/carlos.lamas/condacurraun/lib/python3.10/site-packages/numba/core/typed_passes.py:329: NumbaPerformanceWarning: \n",
      "The keyword argument 'parallel=True' was specified but no transformation for parallel execution was possible.\n",
      "\n",
      "To find out why, try turning on parallel diagnostics, see https://numba.readthedocs.io/en/stable/user/parallel.html#diagnostics for help.\n",
      "\n",
      "File \"../curraun/su3.py\", line 371:\n",
      "@myjit\n",
      "def unit():\n",
      "^\n",
      "\n",
      "  warnings.warn(errors.NumbaPerformanceWarning(msg,\n"
     ]
    },
    {
     "name": "stderr",
     "output_type": "stream",
     "text": [
      "/home2/carlos.lamas/condacurraun/lib/python3.10/site-packages/numba/core/typed_passes.py:329: NumbaPerformanceWarning: \n",
      "The keyword argument 'parallel=True' was specified but no transformation for parallel execution was possible.\n",
      "\n",
      "To find out why, try turning on parallel diagnostics, see https://numba.readthedocs.io/en/stable/user/parallel.html#diagnostics for help.\n",
      "\n",
      "File \"../curraun/su3.py\", line 119:\n",
      "@myjit\n",
      "def mul(a, b):\n",
      "^\n",
      "\n",
      "  warnings.warn(errors.NumbaPerformanceWarning(msg,\n"
     ]
    },
    {
     "name": "stdout",
     "output_type": "stream",
     "text": [
      "(64, 128, 9)\n"
     ]
    }
   ],
   "source": [
    "# We construct an array with the gauge operator at every x^+ step\n",
    "\n",
    "v_LC = su.GROUP_TYPE(np.zeros((t_steps, N, Dg)))\n",
    "\n",
    "for t in range (t_steps):\n",
    "    v_LC[t,:,:] = gauge_operator(ux_r, t)\n",
    "\n",
    "print(np.shape(v_LC))"
   ]
  },
  {
   "cell_type": "code",
   "execution_count": 17,
   "metadata": {},
   "outputs": [],
   "source": [
    "# We construct a function that performs the gauge transformation\n",
    "\n",
    "def act_plus_link (u,v):\n",
    "    v_h = np.apply_along_axis(su.dagger, 2, v)\n",
    "    buffer1 = np.array([[su.mul(v[t+1, i, :], u[t, i, :]) for i in range(N)] for t in range(t_steps-1)]) #TODO: What happens with the last step?\n",
    "    result =  np.array([[su.mul(buffer1[t, i, :], v_h[t, i, :]) for i in range(N)] for t in range(t_steps-1)])\n",
    "    return result"
   ]
  },
  {
   "cell_type": "code",
   "execution_count": 18,
   "metadata": {},
   "outputs": [
    {
     "name": "stdout",
     "output_type": "stream",
     "text": [
      "(63, 128, 9)\n"
     ]
    }
   ],
   "source": [
    "# We transform the plus link\n",
    "\n",
    "uplus_LC = act_plus_link(u_plus_temp, v_LC)\n",
    "\n",
    "print(np.shape(uplus_LC))"
   ]
  }
 ],
 "metadata": {
  "kernelspec": {
   "display_name": "Python 3",
   "language": "python",
   "name": "python3"
  },
  "language_info": {
   "codemirror_mode": {
    "name": "ipython",
    "version": 3
   },
   "file_extension": ".py",
   "mimetype": "text/x-python",
   "name": "python",
   "nbconvert_exporter": "python",
   "pygments_lexer": "ipython3",
   "version": "3.10.4"
  }
 },
 "nbformat": 4,
 "nbformat_minor": 2
}
