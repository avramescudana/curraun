{
 "cells": [
  {
   "cell_type": "markdown",
   "metadata": {},
   "source": [
    "# Gauge transformation of the gauge links in a LC coordinate lattice"
   ]
  },
  {
   "cell_type": "markdown",
   "metadata": {},
   "source": [
    "## Step 0"
   ]
  },
  {
   "cell_type": "markdown",
   "metadata": {},
   "source": [
    "### Writting the fields from files"
   ]
  },
  {
   "cell_type": "code",
   "execution_count": 1,
   "metadata": {},
   "outputs": [
    {
     "name": "stdout",
     "output_type": "stream",
     "text": [
      "Using SU(3)\n",
      "Using Numba\n",
      "Using double precision\n"
     ]
    }
   ],
   "source": [
    "import os\n",
    "\n",
    "os.environ[\"MY_NUMBA_TARGET\"] = \"numba\"\n",
    "os.environ[\"PRECISION\"] = \"double\"\n",
    "os.environ['GAUGE_GROUP'] = 'su3'\n",
    "\n",
    "# Import relevant modules\n",
    "import sys\n",
    "sys.path.append('..')\n",
    "\n",
    "import curraun.su as su\n",
    "import numpy as np\n",
    "import pickle"
   ]
  },
  {
   "cell_type": "code",
   "execution_count": 2,
   "metadata": {},
   "outputs": [],
   "source": [
    "# I need to add this line to ask resources from a specific GPU, which is free. Our GPU server has no queing system\n",
    "os.environ[\"CUDA_VISIBLE_DEVICES\"]=\"3\""
   ]
  },
  {
   "cell_type": "code",
   "execution_count": 3,
   "metadata": {},
   "outputs": [],
   "source": [
    "# We read the fields\n",
    "\n",
    "fields = np.load('gauge_links_fields_glasma_test.npz')\n",
    "ux = fields['ux']; aeta = fields['aeta']\n",
    "\n",
    "with open('parameters_gauge_transf_glasma_test.pickle', 'rb') as f:\n",
    "    param = pickle.load(f)"
   ]
  },
  {
   "cell_type": "code",
   "execution_count": 4,
   "metadata": {},
   "outputs": [
    {
     "name": "stdout",
     "output_type": "stream",
     "text": [
      "(64, 16384, 9)\n",
      "(64, 16384, 9)\n"
     ]
    }
   ],
   "source": [
    "print(np.shape(ux))\n",
    "print(np.shape(aeta))"
   ]
  },
  {
   "cell_type": "code",
   "execution_count": 5,
   "metadata": {},
   "outputs": [],
   "source": [
    "# We get the relevant parameters\n",
    "\n",
    "N = param['N']\n",
    "Dg = param['DG']\n",
    "L = param['L']\n",
    "Qs = param['QS']\n",
    "\n",
    "t_steps = np.shape(ux)[0]\n",
    "\n",
    "a = L/N\n",
    "g = np.pi * np.sqrt(1 / np.log(Qs / 0.2))"
   ]
  },
  {
   "cell_type": "code",
   "execution_count": 6,
   "metadata": {},
   "outputs": [
    {
     "name": "stdout",
     "output_type": "stream",
     "text": [
      "(64, 128, 128, 9)\n",
      "(64, 128, 128, 9)\n"
     ]
    }
   ],
   "source": [
    "# We reshape the transverse component into a N*N matrix\n",
    "\n",
    "ux_r = ux.reshape((t_steps, N, N, Dg))\n",
    "aeta_r = aeta.reshape((t_steps, N, N, Dg))\n",
    "\n",
    "print(np.shape(ux_r))\n",
    "print(np.shape(aeta_r))"
   ]
  },
  {
   "cell_type": "markdown",
   "metadata": {},
   "source": [
    "## Step 1"
   ]
  },
  {
   "cell_type": "code",
   "execution_count": 7,
   "metadata": {},
   "outputs": [],
   "source": [
    "# Supress various horribly long warnings\n",
    "import warnings\n",
    "warnings.filterwarnings('ignore')"
   ]
  },
  {
   "cell_type": "markdown",
   "metadata": {},
   "source": [
    "### We write the relevant magnitude in LC coordinates"
   ]
  },
  {
   "cell_type": "code",
   "execution_count": 8,
   "metadata": {},
   "outputs": [],
   "source": [
    "# We construct the z links from Aeta\n",
    "\n",
    "uz = su.GROUP_TYPE([[[[su.mexp(su.mul_s(aeta_r[t,x,y], 1j*g*a*(z-N//2))) for z in range(N)] for y in range(N)] for x in range(N)] for t in range(t_steps)])"
   ]
  },
  {
   "cell_type": "code",
   "execution_count": null,
   "metadata": {},
   "outputs": [
    {
     "name": "stdout",
     "output_type": "stream",
     "text": [
      "[[15.23139035-3.13020387e-15j  9.91365669-1.80581101e+00j\n",
      "   2.70348908-9.12942161e+00j]\n",
      " [ 9.91365669+1.80581101e+00j  6.87114893+6.37258503e-16j\n",
      "   2.59251031-5.48640699e+00j]\n",
      " [ 2.70348908+9.12942161e+00j  2.59251031+5.48640699e+00j\n",
      "   6.66638882+2.17145878e-15j]]\n"
     ]
    }
   ],
   "source": [
    "uz_test = uz.reshape(t_steps, N, N, N, 3, 3)\n",
    "print(uz_test[t_steps//2, N//2, N//2, 0, :, :])"
   ]
  },
  {
   "cell_type": "code",
   "execution_count": null,
   "metadata": {},
   "outputs": [],
   "source": [
    "# We define a function that, given a set of gauge links, returns the values over the x^+ axis\n",
    "\n",
    "def get_LC_links (u_x):\n",
    "    uminus = su.GROUP_TYPE([[[[su.mul(uz[t,x,y,z],u_x[t,x,y]) for z in range(N)] for y in range(N)] for x in range(N)] for t in range(t_steps)])\n",
    "    uplus = su.GROUP_TYPE([[[[su.mul(uz[t,x,y,z],su.GROUP_TYPE(su.dagger(u_x[t,x,y]))) for z in range(N)] for y in range(N)] for x in range(N)] for t in range(t_steps)])\n",
    "    return uplus, uminus"
   ]
  },
  {
   "cell_type": "code",
   "execution_count": null,
   "metadata": {},
   "outputs": [
    {
     "name": "stderr",
     "output_type": "stream",
     "text": [
      "/home2/carlos.lamas/condacurraun/lib/python3.10/site-packages/numba/core/typed_passes.py:329: NumbaPerformanceWarning: \n",
      "The keyword argument 'parallel=True' was specified but no transformation for parallel execution was possible.\n",
      "\n",
      "To find out why, try turning on parallel diagnostics, see https://numba.readthedocs.io/en/stable/user/parallel.html#diagnostics for help.\n",
      "\n",
      "File \"../curraun/su3.py\", line 119:\n",
      "@myjit\n",
      "def mul(a, b):\n",
      "^\n",
      "\n",
      "  warnings.warn(errors.NumbaPerformanceWarning(msg,\n",
      "/home2/carlos.lamas/condacurraun/lib/python3.10/site-packages/numba/core/typed_passes.py:329: NumbaPerformanceWarning: \n",
      "The keyword argument 'parallel=True' was specified but no transformation for parallel execution was possible.\n",
      "\n",
      "To find out why, try turning on parallel diagnostics, see https://numba.readthedocs.io/en/stable/user/parallel.html#diagnostics for help.\n",
      "\n",
      "File \"../curraun/su3.py\", line 416:\n",
      "@myjit\n",
      "def dagger(a):\n",
      "^\n",
      "\n",
      "  warnings.warn(errors.NumbaPerformanceWarning(msg,\n"
     ]
    }
   ],
   "source": [
    "u_plus_temp, u_minus_temp = get_LC_links(ux_r)\n",
    "\n",
    "print(np.shape(u_plus_temp))\n",
    "print(np.shape(u_minus_temp))"
   ]
  },
  {
   "cell_type": "code",
   "execution_count": null,
   "metadata": {},
   "outputs": [
    {
     "name": "stdout",
     "output_type": "stream",
     "text": [
      "[ 0.99766304+0.00598429j -0.05701835+0.03213106j  0.01072109+0.0153036j\n",
      "  0.05689127+0.032335j    0.99784253-0.00343299j  0.00397506+0.00073196j\n",
      " -0.01100067+0.01514778j -0.00384629-0.00046327j  0.99981396-0.00256212j]\n"
     ]
    }
   ],
   "source": [
    "print(u_plus_temp[t_steps//2, N//2, N//2, N//2, :])"
   ]
  },
  {
   "cell_type": "markdown",
   "metadata": {},
   "source": [
    "## Step 2"
   ]
  },
  {
   "cell_type": "markdown",
   "metadata": {},
   "source": [
    "### We gauge transform the relevant quantity to LC gauge"
   ]
  },
  {
   "cell_type": "code",
   "execution_count": null,
   "metadata": {},
   "outputs": [],
   "source": [
    "# We construct a function that gives the gauge operator at a given point\n",
    "\n",
    "def gauge_operator(u, x):\n",
    "    v = su.GROUP_TYPE([[su.unit() for z in range(N)] for y in range(N)])\n",
    "    for t in range(x//2):\n",
    "        buffer = v\n",
    "        v = su.GROUP_TYPE([[su.mul(u[t,x-t,y,z], buffer[y,z]) for z in range(N)] for y in range(N)])\n",
    "    return v"
   ]
  },
  {
   "cell_type": "code",
   "execution_count": null,
   "metadata": {},
   "outputs": [
    {
     "name": "stderr",
     "output_type": "stream",
     "text": [
      "/home2/carlos.lamas/condacurraun/lib/python3.10/site-packages/numba/core/typed_passes.py:329: NumbaPerformanceWarning: \n",
      "The keyword argument 'parallel=True' was specified but no transformation for parallel execution was possible.\n",
      "\n",
      "To find out why, try turning on parallel diagnostics, see https://numba.readthedocs.io/en/stable/user/parallel.html#diagnostics for help.\n",
      "\n",
      "File \"../curraun/su3.py\", line 440:\n",
      "@myjit\n",
      "def unit():\n",
      "^\n",
      "\n",
      "  warnings.warn(errors.NumbaPerformanceWarning(msg,\n"
     ]
    },
    {
     "name": "stdout",
     "output_type": "stream",
     "text": [
      "(64, 128, 128, 9)\n"
     ]
    }
   ],
   "source": [
    "# We construct an array with the gauge operator over the x^+ axis\n",
    "\n",
    "v_LC = su.GROUP_TYPE(np.zeros((t_steps, N, N, Dg)))\n",
    "for x in range (N):\n",
    "    if x%2 == 0:\n",
    "        v_LC[x//2,:,:,:] = gauge_operator(u_minus_temp, x)\n",
    "\n",
    "print(np.shape(v_LC))"
   ]
  },
  {
   "cell_type": "code",
   "execution_count": null,
   "metadata": {},
   "outputs": [],
   "source": [
    "# We construct a function that performs the gauge transformation of the plus link\n",
    "\n",
    "def act_plus_link (u,v):\n",
    "    buffer1 = su.GROUP_TYPE([[[su.mul(su.GROUP_TYPE(su.dagger(v[t+1, y, z])), u[t, t, y,z]) for z in range(N)] for y in range(N)] for t in range(t_steps-1)])\n",
    "    r = su.GROUP_TYPE([[[su.mul(buffer1[t,y,z], v[t,y,z]) for z in range(N)] for y in range(N)] for t in range (t_steps-1)])\n",
    "    return r"
   ]
  },
  {
   "cell_type": "code",
   "execution_count": null,
   "metadata": {},
   "outputs": [
    {
     "name": "stdout",
     "output_type": "stream",
     "text": [
      "(63, 128, 128, 9)\n"
     ]
    }
   ],
   "source": [
    "# We transform the plus link\n",
    "\n",
    "uplus_LC = act_plus_link(u_plus_temp, v_LC)\n",
    "\n",
    "print(np.shape(uplus_LC))"
   ]
  },
  {
   "cell_type": "code",
   "execution_count": null,
   "metadata": {},
   "outputs": [
    {
     "name": "stdout",
     "output_type": "stream",
     "text": [
      "[[ 0.98675732-0.03360514j -0.1039674 +0.02680459j  0.11679902-0.00331073j]\n",
      " [ 0.11605198-0.01505914j  0.95867834-0.21079397j -0.07940447+0.12845949j]\n",
      " [-0.10646263-0.01231045j  0.08754094+0.13156985j  0.95056108+0.24489541j]]\n"
     ]
    }
   ],
   "source": [
    "# We plot U_+ at one point of the axis to have some intuition about its value\n",
    "\n",
    "uplus_LC_r = uplus_LC.reshape((t_steps-1, N, N, 3, 3))\n",
    "print(uplus_LC_r[t_steps//2, N//2, N//2, :])"
   ]
  },
  {
   "cell_type": "markdown",
   "metadata": {},
   "source": [
    "Close to the identity but not exactly"
   ]
  },
  {
   "cell_type": "markdown",
   "metadata": {},
   "source": [
    "- - -\n",
    "We write the $U_+$ gauge link to file"
   ]
  },
  {
   "cell_type": "code",
   "execution_count": null,
   "metadata": {},
   "outputs": [],
   "source": [
    "np.savez_compressed('uplus_lc_gauge_transf.npz', uplus=uplus_LC)"
   ]
  },
  {
   "cell_type": "markdown",
   "metadata": {},
   "source": [
    "Output $U_-$ in a format that is appropriate to be read in C++."
   ]
  },
  {
   "cell_type": "code",
   "execution_count": null,
   "metadata": {},
   "outputs": [],
   "source": [
    "np.save('uplus_lc_gauge_transf.npy', uplus_LC)"
   ]
  },
  {
   "cell_type": "code",
   "execution_count": null,
   "metadata": {},
   "outputs": [],
   "source": [
    "np.save('uplus_lc_gauge_transf_time_slice.npy', uplus_LC[0,:,:])"
   ]
  },
  {
   "cell_type": "code",
   "execution_count": null,
   "metadata": {},
   "outputs": [
    {
     "data": {
      "text/plain": [
       "array([[  483.23899082  +35.29614002j,   103.72231235 +402.92047194j,\n",
       "         -905.94491618 +328.53044308j, ...,\n",
       "        -1150.62104561 -539.9960488j ,   124.3258352 -1085.76277859j,\n",
       "         2530.08348345  +45.1517677j ],\n",
       "       [  423.60666853  +32.93389287j,    86.29899416 +353.5159403j ,\n",
       "         -797.5353005  +278.74966409j, ...,\n",
       "        -1013.58940194 -467.37590573j,   109.96745488 -951.06040883j,\n",
       "         2221.57542579  +40.08563928j],\n",
       "       [  371.39216146  +30.64321045j,    71.54408279 +310.15529436j,\n",
       "         -702.13900221 +236.12296619j, ...,\n",
       "         -892.91773736 -404.33868017j,    97.28836533 -833.0396597j ,\n",
       "         1950.75533197  +35.6125991j ],\n",
       "       ...,\n",
       "       [   11.65210487   +3.09189244j,   -22.41367466  +21.49225837j,\n",
       "           16.11846664   +7.80620902j, ...,\n",
       "          117.93349516  +46.23525336j,  -289.14324542 +250.4267971j ,\n",
       "          182.73881488 +111.11015529j],\n",
       "       [   12.95542042   +2.79056924j,   -23.07412717  +25.47561879j,\n",
       "           18.40108937   +7.51086684j, ...,\n",
       "          132.97012874  +53.1043739j ,  -324.90432362 +283.13816652j,\n",
       "          206.70073096 +125.14442744j],\n",
       "       [   14.45013408   +2.36902167j,   -23.59407498  +30.1182789j ,\n",
       "           21.02598233   +7.03004302j, ...,\n",
       "          149.93788599  +60.97157497j,  -365.12912289 +320.11202373j,\n",
       "          233.8074215  +140.95990244j]])"
      ]
     },
     "execution_count": 20,
     "metadata": {},
     "output_type": "execute_result"
    }
   ],
   "source": [
    "uplus_LC[10,17,:]"
   ]
  },
  {
   "cell_type": "markdown",
   "metadata": {},
   "source": [
    "## Step 3"
   ]
  },
  {
   "cell_type": "markdown",
   "metadata": {},
   "source": [
    "### We transform $U_-$ to LC gauge as a check"
   ]
  },
  {
   "cell_type": "code",
   "execution_count": null,
   "metadata": {},
   "outputs": [],
   "source": [
    "# We construct a function with the gauge operator at the next x^- step to the x^+ axis\n",
    "\n",
    "v_LC_plus1 = su.GROUP_TYPE([[[su.mul(u_minus_temp[t,t,y,z], v_LC[t,y,z]) for z in range(N)] for y in range(N)] for t in range(t_steps-1)])"
   ]
  },
  {
   "cell_type": "code",
   "execution_count": null,
   "metadata": {},
   "outputs": [],
   "source": [
    "# We construct a function that performs the gauge transformation of the minus links\n",
    "\n",
    "def act_minus_links(u, v, aux): #TODO: Writte the function with only u and v as inputs?\n",
    "    buffer1 = su.GROUP_TYPE([[[su.mul(su.GROUP_TYPE(su.dagger(aux[t, y, z])), u[t, t, y,z]) for z in range(N)] for y in range(N)] for t in range(t_steps-1)])\n",
    "    r = su.GROUP_TYPE([[[su.mul(buffer1[t,y,z], v[t,y,z]) for z in range(N)] for y in range(N)] for t in range (t_steps-1)])\n",
    "    return r"
   ]
  },
  {
   "cell_type": "code",
   "execution_count": null,
   "metadata": {},
   "outputs": [
    {
     "name": "stdout",
     "output_type": "stream",
     "text": [
      "(63, 128, 128, 9)\n"
     ]
    }
   ],
   "source": [
    "# We transform the minus link\n",
    "\n",
    "uminus_LC = act_minus_links(u_minus_temp, v_LC, v_LC_plus1)\n",
    "\n",
    "print(np.shape(uminus_LC))"
   ]
  },
  {
   "cell_type": "code",
   "execution_count": null,
   "metadata": {},
   "outputs": [
    {
     "name": "stdout",
     "output_type": "stream",
     "text": [
      "[[ 1.00000000e+00+1.38777878e-17j  2.84494650e-16-4.46864767e-15j\n",
      "  -6.86950496e-15-9.71106408e-15j]\n",
      " [ 3.85108612e-16+4.38538095e-15j  1.00000000e+00+2.77555756e-17j\n",
      "   1.05471187e-15+3.03421484e-15j]\n",
      " [-6.84174939e-15+9.67281810e-15j  1.02695630e-15-3.02535774e-15j\n",
      "   1.00000000e+00+3.21075414e-18j]]\n"
     ]
    }
   ],
   "source": [
    "# We plot U_- at one point of the axis to check that it is close to identity\n",
    "\n",
    "uminus_LC_r = uminus_LC.reshape((t_steps-1, N, N, 3, 3))\n",
    "print(uminus_LC_r[t_steps//2, N//2, N//2, :, :])"
   ]
  },
  {
   "cell_type": "markdown",
   "metadata": {},
   "source": [
    "The gauge links in minus direction are indeed transformed to the identity. Much closer to 1 that $U_+$ links"
   ]
  },
  {
   "cell_type": "markdown",
   "metadata": {},
   "source": [
    "# Step 4"
   ]
  },
  {
   "cell_type": "markdown",
   "metadata": {},
   "source": [
    "### We plot the transformed links"
   ]
  },
  {
   "cell_type": "code",
   "execution_count": null,
   "metadata": {},
   "outputs": [
    {
     "data": {
      "image/png": "[encoded data removed]",
      "text/plain": [
       "<Figure size 1000x3000 with 28 Axes>"
      ]
     },
     "metadata": {},
     "output_type": "display_data"
    }
   ],
   "source": [
    "import matplotlib.pyplot as plt \n",
    "\n",
    "y = N//2; z = N//2\n",
    "\n",
    "fig, axs = plt.subplots(t_steps//10 +1, 3, figsize=(15,30))\n",
    "\n",
    "for t in range(t_steps//10 + 1): \n",
    "    tau = 10*t\n",
    "    \n",
    "    plot1 = axs[t,0].imshow(uplus_LC_r[tau, y, z, :, :].real, cmap='turbo', vmin=-0.1, vmax=1) \n",
    "    axs[t,0].set_title(r'$U_+^{LC}; z=0; x^+ = %i $' %tau)\n",
    "    plt.colorbar(plot1, ax = axs[t,0])\n",
    "    axs[t,0].axes.get_xaxis().set_visible(False)\n",
    "    axs[t,0].axes.get_yaxis().set_visible(False)\n",
    "    \n",
    "    plot2 = axs[t,1].imshow(uplus_LC_r[tau, y, 0, :, :].real, cmap='turbo', vmin=-0.1, vmax=1) \n",
    "    axs[t,1].set_title(r'$U_+^{LC}; z=-L/2; x^+ = %i $' %tau)\n",
    "    plt.colorbar(plot1, ax = axs[t,1])\n",
    "    axs[t,1].axes.get_xaxis().set_visible(False)\n",
    "    axs[t,1].axes.get_yaxis().set_visible(False)\n",
    "    \n",
    "    plot3 = axs[t, 2].imshow(uminus_LC_r[tau, y, z, :, :].real, cmap='turbo', vmin=-0.1, vmax=1)\n",
    "    axs[t,2].set_title(r'$U_-^{LC}; x^+ = %i $' %tau)\n",
    "    plt.colorbar(plot3, ax = axs[t,2])\n",
    "    axs[t,2].axes.get_xaxis().set_visible(False)\n",
    "    axs[t,2].axes.get_yaxis().set_visible(False)"
   ]
  },
  {
   "cell_type": "code",
   "execution_count": null,
   "metadata": {},
   "outputs": [
    {
     "name": "stderr",
     "output_type": "stream",
     "text": [
      "/home2/carlos.lamas/condacurraun/lib/python3.10/site-packages/numba/core/typed_passes.py:329: NumbaPerformanceWarning: \n",
      "The keyword argument 'parallel=True' was specified but no transformation for parallel execution was possible.\n",
      "\n",
      "To find out why, try turning on parallel diagnostics, see https://numba.readthedocs.io/en/stable/user/parallel.html#diagnostics for help.\n",
      "\n",
      "File \"../curraun/su3.py\", line 416:\n",
      "@myjit\n",
      "def dagger(a):\n",
      "^\n",
      "\n",
      "  warnings.warn(errors.NumbaPerformanceWarning(msg,\n",
      "OMP: Info #276: omp_set_nested routine deprecated, please use omp_set_max_active_levels instead.\n",
      "/lustre/HQCD/carlos.lamas/curraun/curraun/su3.py:460: NumbaWarning: \n",
      "Compilation is falling back to object mode WITH looplifting enabled because Function \"sq\" failed type inference due to: No implementation of function Function(<built-in function iadd>) found for signature:\n",
      " \n",
      " >>> iadd(float64, array(float64, 2d, C))\n",
      " \n",
      "There are 16 candidate implementations:\n",
      "  - Of which 14 did not match due to:\n",
      "  Overload of function 'iadd': File: <numerous>: Line N/A.\n",
      "    With argument(s): '(float64, array(float64, 2d, C))':\n",
      "   No match.\n",
      "  - Of which 2 did not match due to:\n",
      "  Operator Overload in function 'iadd': File: unknown: Line unknown.\n",
      "    With argument(s): '(float64, array(float64, 2d, C))':\n",
      "   No match for registered cases:\n",
      "    * (int64, int64) -> int64\n",
      "    * (int64, uint64) -> int64\n",
      "    * (uint64, int64) -> int64\n",
      "    * (uint64, uint64) -> uint64\n",
      "    * (float32, float32) -> float32\n",
      "    * (float64, float64) -> float64\n",
      "    * (complex64, complex64) -> complex64\n",
      "    * (complex128, complex128) -> complex128\n",
      "\n",
      "During: typing of intrinsic-call at /lustre/HQCD/carlos.lamas/curraun/curraun/su3.py (482)\n",
      "\n",
      "File \"../curraun/su3.py\", line 482:\n",
      "def sq(a): # TODO: rename to tr_sq? or tr_abs_sq?\n",
      "    <source elided>\n",
      "    for i in range(9):\n",
      "        s += a[i].real * a[i].real + a[i].imag * a[i].imag\n",
      "        ^\n",
      "\n",
      "  @myjit\n",
      "/lustre/HQCD/carlos.lamas/curraun/curraun/su3.py:460: NumbaWarning: \n",
      "Compilation is falling back to object mode WITHOUT looplifting enabled because Function \"sq\" failed type inference due to: Cannot determine Numba type of <class 'numba.core.dispatcher.LiftedLoop'>\n",
      "\n",
      "File \"../curraun/su3.py\", line 481:\n",
      "def sq(a): # TODO: rename to tr_sq? or tr_abs_sq?\n",
      "    <source elided>\n",
      "    s = GROUP_TYPE_REAL(0)\n",
      "    for i in range(9):\n",
      "    ^\n",
      "\n",
      "  @myjit\n",
      "/home2/carlos.lamas/condacurraun/lib/python3.10/site-packages/numba/core/object_mode_passes.py:151: NumbaWarning: Function \"sq\" was compiled in object mode without forceobj=True, but has lifted loops.\n",
      "\n",
      "File \"../curraun/su3.py\", line 480:\n",
      "def sq(a): # TODO: rename to tr_sq? or tr_abs_sq?\n",
      "    <source elided>\n",
      "\n",
      "    s = GROUP_TYPE_REAL(0)\n",
      "    ^\n",
      "\n",
      "  warnings.warn(errors.NumbaWarning(warn_msg,\n",
      "/home2/carlos.lamas/condacurraun/lib/python3.10/site-packages/numba/core/object_mode_passes.py:161: NumbaDeprecationWarning: \n",
      "Fall-back from the nopython compilation path to the object mode compilation path has been detected, this is deprecated behaviour.\n",
      "\n",
      "For more information visit https://numba.readthedocs.io/en/stable/reference/deprecation.html#deprecation-of-object-mode-fall-back-behaviour-when-using-jit\n",
      "\n",
      "File \"../curraun/su3.py\", line 480:\n",
      "def sq(a): # TODO: rename to tr_sq? or tr_abs_sq?\n",
      "    <source elided>\n",
      "\n",
      "    s = GROUP_TYPE_REAL(0)\n",
      "    ^\n",
      "\n",
      "  warnings.warn(errors.NumbaDeprecationWarning(msg,\n",
      "/lustre/HQCD/carlos.lamas/curraun/curraun/su3.py:460: NumbaWarning: Code running in object mode won't allow parallel execution despite nogil=True.\n",
      "  @myjit\n",
      "/lustre/HQCD/carlos.lamas/curraun/curraun/su3.py:460: NumbaWarning: \n",
      "Compilation is falling back to object mode WITHOUT looplifting enabled because Function \"sq\" failed type inference due to: No implementation of function Function(<built-in function iadd>) found for signature:\n",
      " \n",
      " >>> iadd(float64, array(float64, 2d, C))\n",
      " \n",
      "There are 16 candidate implementations:\n",
      "    - Of which 14 did not match due to:\n",
      "    Overload of function 'iadd': File: <numerous>: Line N/A.\n",
      "      With argument(s): '(float64, array(float64, 2d, C))':\n",
      "     No match.\n",
      "    - Of which 2 did not match due to:\n",
      "    Operator Overload in function 'iadd': File: unknown: Line unknown.\n",
      "      With argument(s): '(float64, array(float64, 2d, C))':\n",
      "     No match for registered cases:\n",
      "      * (int64, int64) -> int64\n",
      "      * (int64, uint64) -> int64\n",
      "      * (uint64, int64) -> int64\n",
      "      * (uint64, uint64) -> uint64\n",
      "      * (float32, float32) -> float32\n",
      "      * (float64, float64) -> float64\n",
      "      * (complex64, complex64) -> complex64\n",
      "      * (complex128, complex128) -> complex128\n",
      "\n",
      "During: typing of intrinsic-call at /lustre/HQCD/carlos.lamas/curraun/curraun/su3.py (482)\n",
      "\n",
      "File \"../curraun/su3.py\", line 482:\n",
      "def sq(a): # TODO: rename to tr_sq? or tr_abs_sq?\n",
      "    <source elided>\n",
      "    for i in range(9):\n",
      "        s += a[i].real * a[i].real + a[i].imag * a[i].imag\n",
      "        ^\n",
      "\n",
      "  @myjit\n",
      "/home2/carlos.lamas/condacurraun/lib/python3.10/site-packages/numba/core/object_mode_passes.py:151: NumbaWarning: Function \"sq\" was compiled in object mode without forceobj=True.\n",
      "\n",
      "File \"../curraun/su3.py\", line 481:\n",
      "def sq(a): # TODO: rename to tr_sq? or tr_abs_sq?\n",
      "    <source elided>\n",
      "    s = GROUP_TYPE_REAL(0)\n",
      "    for i in range(9):\n",
      "    ^\n",
      "\n",
      "  warnings.warn(errors.NumbaWarning(warn_msg,\n",
      "/home2/carlos.lamas/condacurraun/lib/python3.10/site-packages/numba/core/object_mode_passes.py:161: NumbaDeprecationWarning: \n",
      "Fall-back from the nopython compilation path to the object mode compilation path has been detected, this is deprecated behaviour.\n",
      "\n",
      "For more information visit https://numba.readthedocs.io/en/stable/reference/deprecation.html#deprecation-of-object-mode-fall-back-behaviour-when-using-jit\n",
      "\n",
      "File \"../curraun/su3.py\", line 481:\n",
      "def sq(a): # TODO: rename to tr_sq? or tr_abs_sq?\n",
      "    <source elided>\n",
      "    s = GROUP_TYPE_REAL(0)\n",
      "    for i in range(9):\n",
      "    ^\n",
      "\n",
      "  warnings.warn(errors.NumbaDeprecationWarning(msg,\n",
      "/lustre/HQCD/carlos.lamas/curraun/curraun/su3.py:460: NumbaWarning: Code running in object mode won't allow parallel execution despite nogil=True.\n",
      "  @myjit\n"
     ]
    },
    {
     "name": "stdout",
     "output_type": "stream",
     "text": [
      "[[ 1.42226024e+02+12.2314761j   2.12280150e+00 -2.18985028j\n",
      "   8.87825597e-01 +0.07042107j ...  1.14067471e+00 -0.17547594j\n",
      "  -4.76249704e-02 -1.03390546j  1.24390535e+02+10.20470349j]\n",
      " [ 1.42228471e+02+12.23146181j  2.12321635e+00 -2.19022188j\n",
      "   8.87674638e-01 +0.07044964j ...  1.14087340e+00 -0.17544563j\n",
      "  -4.76043372e-02 -1.03406811j  1.24392278e+02+10.20466556j]\n",
      " [ 1.42230914e+02+12.23144722j  2.12363114e+00 -2.19059343j\n",
      "   8.87523713e-01 +0.07047818j ...  1.14107213e+00 -0.17541529j\n",
      "  -4.75836884e-02 -1.03423081j  1.24394022e+02+10.20462762j]\n",
      " ...\n",
      " [ 1.42505395e+02+12.22737017j  2.17419673e+00 -2.23580497j\n",
      "   8.69220566e-01 +0.0737936j  ...  1.16587180e+00 -0.17141211j\n",
      "  -4.49206235e-02 -1.0545269j   1.24608687e+02+10.19992496j]\n",
      " [ 1.42507414e+02+12.22731836j  2.17460395e+00 -2.2361684j\n",
      "   8.69073877e-01 +0.07381902j ...  1.16607632e+00 -0.17137729j\n",
      "  -4.48979414e-02 -1.05469423j  1.24610434e+02+10.19988643j]\n",
      " [ 1.42509428e+02+12.22726624j  2.17501111e+00 -2.23653176j\n",
      "   8.68927223e-01 +0.07384442j ...  1.16628088e+00 -0.17134242j\n",
      "  -4.48752421e-02 -1.05486161j  1.24612181e+02+10.19984789j]]\n",
      "[[ 1832.40823764 +794.31252959j -2465.44909429 -455.64124498j\n",
      "   -469.8947864 -1017.3597695j  ... -1048.53950218 +754.11720406j\n",
      "   1847.76767375-1909.62999193j  1013.75531745  -36.61001744j]\n",
      " [ 1844.50702108 +798.59714981j -2504.46015267 -463.33480546j\n",
      "   -480.97722561-1045.35661823j ... -1071.99859471 +771.78624543j\n",
      "   1896.08419379-1962.049559j    1052.26896327  -37.90614576j]\n",
      " [ 1858.45628452 +803.65863354j -2543.90148828 -471.3361694j\n",
      "   -492.39912812-1074.40027347j ... -1096.09251637 +789.93969212j\n",
      "   1945.9282042 -2016.30503539j  1092.77639249  -39.26517102j]\n",
      " ...\n",
      " [  616.82052286 +238.33994837j  2061.98129532 -721.63457962j\n",
      "    375.35482325 +859.99898492j ...  1661.7761981 -1956.91827061j\n",
      "  -6922.77770267-1741.72631533j  3021.23343271  -82.57156279j]\n",
      " [  593.7361939  +229.32848568j  2002.47971616 -703.11055867j\n",
      "    367.05502015 +843.0489347j  ...  1621.87919406-1910.50129024j\n",
      "  -6804.95768201-1751.04476713j  2982.177519    -82.50864778j]\n",
      " [  571.79919568 +220.76811706j  1945.15136209 -685.26203295j\n",
      "    358.9802867  +826.49134257j ...  1583.25541626-1865.67084858j\n",
      "  -6688.83726455-1763.17476722j  2946.12960047  -82.54689738j]]\n",
      "[[ 1.79178277e+21-9.55331092e+20j  5.94313108e+21-8.61570589e+21j\n",
      "   1.77822385e+21+1.11493078e+22j ... -3.04389100e+21-5.43782840e+21j\n",
      "  -4.25941823e+21+2.82918057e+21j  3.48620614e+21-4.48378052e+20j]\n",
      " [ 1.81786450e+21-9.69187528e+20j  6.20488000e+21-8.73609158e+21j\n",
      "   1.87150246e+21+1.14803718e+22j ... -3.12078570e+21-5.58084670e+21j\n",
      "  -4.38967564e+21+2.92641794e+21j  3.62073837e+21-4.64905655e+20j]\n",
      " [ 1.84660024e+21-9.84366044e+20j  6.47691442e+21-8.85802379e+21j\n",
      "   1.97002471e+21+1.18237200e+22j ... -3.19990983e+21-5.72800505e+21j\n",
      "  -4.52458412e+21+3.02776060e+21j  3.76212532e+21-4.82240324e+20j]\n",
      " ...\n",
      " [ 1.13289496e+21-5.61396322e+20j -2.27721817e+21+1.98160553e+20j\n",
      "  -8.72437243e+20-6.50888325e+21j ...  1.45112525e+21+1.26630198e+22j\n",
      "   6.74325588e+22-2.96541509e+22j  9.50478096e+21+7.74141032e+19j]\n",
      " [ 1.08699136e+21-5.38610955e+20j -2.23842331e+21+1.90976669e+20j\n",
      "  -8.53248300e+20-6.32023744e+21j ...  1.41461303e+21+1.22709577e+22j\n",
      "   6.77017987e+22-3.03294553e+22j  9.42966410e+21+1.06341732e+20j]\n",
      " [ 1.04335095e+21-5.16951419e+20j -2.19903143e+21+1.84026585e+20j\n",
      "  -8.34217016e+20-6.13712079e+21j ...  1.37864468e+21+1.18929809e+22j\n",
      "   6.79720695e+22-3.10145856e+22j  9.36685355e+21+1.35203096e+20j]]\n",
      "[[ 1.84013620e+55+2.83991616e+54j -5.45914780e+55-8.77133911e+55j\n",
      "  -1.64671642e+55+1.11713656e+56j ...  1.57090837e+55-5.98671384e+55j\n",
      "  -3.76603192e+55+3.21162889e+55j  1.81960900e+55+3.15549112e+54j]\n",
      " [ 1.78797676e+55+2.68679679e+54j -5.24828806e+55-8.70982647e+55j\n",
      "  -1.72161067e+55+1.16903188e+56j ...  1.64183186e+55-6.25037396e+55j\n",
      "  -3.93521175e+55+3.35857096e+55j  1.91450443e+55+3.32018822e+54j]\n",
      " [ 1.74115083e+55+2.54398067e+54j -5.01632439e+55-8.62857910e+55j\n",
      "  -1.79951318e+55+1.22312499e+56j ...  1.71574019e+55-6.52438084e+55j\n",
      "  -4.11155270e+55+3.51206620e+55j  2.01468882e+55+3.49408298e+54j]\n",
      " ...\n",
      " [ 3.72385660e+54+1.71376631e+53j -7.98648363e+54-3.60358154e+54j\n",
      "  -7.87050270e+54-7.04741291e+55j ... -7.74133104e+55+1.44196815e+56j\n",
      "   2.89457213e+56-1.44268801e+56j  1.01127013e+56+4.06357763e+55j]\n",
      " [ 3.55493627e+54+1.64030607e+53j -7.66241035e+54-3.44838980e+54j\n",
      "  -7.63474689e+54-6.80289607e+55j ... -7.49620772e+55+1.39004934e+56j\n",
      "   2.81323222e+56-1.41346480e+56j  1.03831717e+56+4.19154380e+55j]\n",
      " [ 3.39481335e+54+1.57041744e+53j -7.35231431e+54-3.30055455e+54j\n",
      "  -7.40486105e+54-6.56670115e+55j ... -7.25854155e+55+1.34012836e+56j\n",
      "   2.73371591e+56-1.38445020e+56j  1.06759330e+56+4.32781375e+55j]]\n",
      "[[ 8.34357094e+97-1.08962409e+97j -4.32719519e+97-9.48072903e+96j\n",
      "  -1.64841949e+97-3.85152292e+96j ... -1.22555247e+97+4.04750608e+96j\n",
      "   6.36373264e+96-3.55045691e+95j  3.70607319e+96+1.34196526e+95j]\n",
      " [ 9.15824695e+97-1.19809565e+97j -4.57072740e+97-1.01833088e+97j\n",
      "  -1.74622672e+97-4.07638176e+96j ... -1.29825906e+97+4.28452314e+96j\n",
      "   6.75579468e+96-3.82909877e+95j  3.94685080e+96+1.43003405e+95j]\n",
      " [ 1.00693477e+98-1.31968152e+97j -4.82672369e+97-1.09429164e+97j\n",
      "  -1.84986142e+97-4.31422251e+96j ... -1.37529480e+97+4.53530842e+96j\n",
      "   7.17206428e+96-4.13228308e+95j  4.20416907e+96+1.52426677e+95j]\n",
      " ...\n",
      " [ 5.94016613e+96-6.50494953e+95j -7.56374430e+96+4.98735273e+96j\n",
      "   3.48694602e+97+5.77097652e+96j ...  3.84266239e+97-6.01034183e+96j\n",
      "  -7.00410740e+97+3.54363260e+97j  4.40051911e+98+5.36981678e+97j]\n",
      " [ 5.64282972e+96-6.17419582e+95j -7.20680826e+96+4.75604679e+96j\n",
      "   3.32648484e+97+5.49540653e+96j ...  3.66655381e+97-5.71881529e+96j\n",
      "  -6.67257861e+97+3.42729162e+97j  4.08091816e+98+4.97871129e+97j]\n",
      " [ 5.36192744e+96-5.86215361e+95j -6.86759317e+96+4.53581394e+96j\n",
      "   3.17337901e+97+5.23331679e+96j ...  3.49850182e+97-5.44194102e+96j\n",
      "  -6.35586341e+97+3.31217713e+97j  3.77970598e+98+4.61004312e+97j]]\n",
      "[[ 1.33844045e+130-5.53182367e+129j  9.92737224e+128+1.73934706e+128j\n",
      "  -4.96278465e+128-3.79484419e+128j ... -6.35137190e+128+1.17415567e+129j\n",
      "  -1.32011089e+128+1.30094555e+128j  1.87748930e+128-3.53994059e+127j]\n",
      " [ 1.42293251e+130-6.03471529e+129j  1.05061216e+129+1.92825896e+128j\n",
      "  -5.23194954e+128-3.99727808e+128j ... -6.72966956e+128+1.24351543e+129j\n",
      "  -1.39092956e+128+1.37107243e+128j  1.98994986e+128-3.75182430e+127j]\n",
      " [ 1.49238353e+130-6.49869708e+129j  1.11130690e+129+2.14035365e+128j\n",
      "  -5.51470129e+128-4.20951537e+128j ... -7.13091681e+128+1.31700446e+129j\n",
      "  -1.46556433e+128+1.44501867e+128j  2.10943898e+128-3.97692998e+127j]\n",
      " ...\n",
      " [ 5.17798332e+127-6.31672462e+127j  5.90991287e+127-3.47711715e+127j\n",
      "   1.71337018e+128+6.66719806e+126j ...  4.55496790e+127-2.07579472e+128j\n",
      "   9.53163412e+127-1.44210855e+128j  5.13296528e+128-2.28684560e+128j]\n",
      " [ 4.84355028e+127-5.90808727e+127j  5.53999735e+127-3.26041009e+127j\n",
      "   1.60505805e+128+6.24221577e+126j ...  4.27476634e+127-1.94442345e+128j\n",
      "   8.91983019e+127-1.35157867e+128j  4.69699892e+128-2.09556162e+128j]\n",
      " [ 4.53164392e+127-5.52705057e+127j  5.19345073e+127-3.05727982e+127j\n",
      "   1.50369509e+128+5.84474614e+126j ...  4.01146511e+127-1.82142945e+128j\n",
      "   8.34759212e+127-1.26667181e+128j  4.30483309e+128-1.92308982e+128j]]\n"
     ]
    }
   ],
   "source": [
    "for t in range (t_steps//10):\n",
    "\n",
    "    n = su.tr(np.array(su.mul(u_plus_temp[10*t, N//2, :], su.dagger(uplus_LC[10*t, N//2, :]))) - su.unit())\n",
    "    d = su.sq(u_plus_temp[10*t, N//2, :] - su.unit())\n",
    "\n",
    "    r = n/d\n",
    "    print(r)\n",
    "# plt.imshow(p.real, cmap='turbo', vmin=-0.1, vmax=1) \n"
   ]
  }
 ],
 "metadata": {
  "kernelspec": {
   "display_name": "Python 3",
   "language": "python",
   "name": "python3"
  },
  "language_info": {
   "codemirror_mode": {
    "name": "ipython",
    "version": 3
   },
   "file_extension": ".py",
   "mimetype": "text/x-python",
   "name": "python",
   "nbconvert_exporter": "python",
   "pygments_lexer": "ipython3",
   "version": "3.6.8"
  }
 },
 "nbformat": 4,
 "nbformat_minor": 2
}
