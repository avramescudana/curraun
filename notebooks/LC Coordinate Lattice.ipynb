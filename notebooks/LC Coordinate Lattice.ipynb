{
 "cells": [
  {
   "cell_type": "markdown",
   "metadata": {},
   "source": [
    "# Gauge transformation of the gauge links in a LC coordinate lattice"
   ]
  },
  {
   "cell_type": "markdown",
   "metadata": {},
   "source": [
    "## Step 0"
   ]
  },
  {
   "cell_type": "markdown",
   "metadata": {},
   "source": [
    "### Writting the fields from files"
   ]
  },
  {
   "cell_type": "code",
   "execution_count": 1,
   "metadata": {},
   "outputs": [
    {
     "name": "stdout",
     "output_type": "stream",
     "text": [
      "Using SU(3)\n",
      "Using Numba\n",
      "Using double precision\n"
     ]
    }
   ],
   "source": [
    "import os\n",
    "\n",
    "os.environ[\"MY_NUMBA_TARGET\"] = \"numba\"\n",
    "os.environ[\"PRECISION\"] = \"double\"\n",
    "os.environ['GAUGE_GROUP'] = 'su3'\n",
    "\n",
    "# Import relevant modules\n",
    "import sys\n",
    "sys.path.append('..')\n",
    "\n",
    "import curraun.su as su\n",
    "import numpy as np\n",
    "import pickle"
   ]
  },
  {
   "cell_type": "code",
   "execution_count": 2,
   "metadata": {},
   "outputs": [],
   "source": [
    "# We read the fields\n",
    "\n",
    "fields = np.load('gauge_links_fields_glasma_test.npz')\n",
    "ux = fields['ux']\n",
    "\n",
    "with open('parameters_gauge_transf_glasma_test.pickle', 'rb') as f:\n",
    "    param = pickle.load(f)"
   ]
  },
  {
   "cell_type": "code",
   "execution_count": 3,
   "metadata": {},
   "outputs": [
    {
     "name": "stdout",
     "output_type": "stream",
     "text": [
      "(64, 16384, 9)\n"
     ]
    }
   ],
   "source": [
    "print(np.shape(ux))"
   ]
  },
  {
   "cell_type": "code",
   "execution_count": 4,
   "metadata": {},
   "outputs": [],
   "source": [
    "# We get the relevant parameters\n",
    "\n",
    "N = param['N']\n",
    "Dg = param['DG']\n",
    "\n",
    "t_steps = np.shape(ux)[0]"
   ]
  },
  {
   "cell_type": "code",
   "execution_count": 5,
   "metadata": {},
   "outputs": [
    {
     "name": "stdout",
     "output_type": "stream",
     "text": [
      "(64, 128, 128, 9)\n"
     ]
    }
   ],
   "source": [
    "# We reshape the transverse component into a N*N matrix\n",
    "\n",
    "ux_r = ux.reshape((t_steps, N, N, Dg))\n",
    "\n",
    "print(np.shape(ux_r))"
   ]
  },
  {
   "cell_type": "markdown",
   "metadata": {},
   "source": [
    "## Step 1"
   ]
  },
  {
   "cell_type": "markdown",
   "metadata": {},
   "source": [
    "### We write the relevant magnitude in LC coordinates"
   ]
  },
  {
   "cell_type": "code",
   "execution_count": 6,
   "metadata": {},
   "outputs": [],
   "source": [
    "# We define a function that, given a set of gauge links, returns the values over the x^+ axis\n",
    "\n",
    "def get_xplus_axis_links (u):\n",
    "    uminus = su.GROUP_TYPE(np.zeros((t_steps, N, Dg)))\n",
    "    for t in range (t_steps):\n",
    "        uminus[t, :, :] = u[t,t,:,:]\n",
    "    uplus = np.apply_along_axis(su.dagger, 2, uminus)\n",
    "    return uplus, uminus"
   ]
  },
  {
   "cell_type": "code",
   "execution_count": 7,
   "metadata": {},
   "outputs": [
    {
     "name": "stdout",
     "output_type": "stream",
     "text": [
      "(64, 128, 9)\n",
      "(64, 128, 9)\n"
     ]
    },
    {
     "name": "stderr",
     "output_type": "stream",
     "text": [
      "/n/work00/davrames/condacurraun/lib/python3.6/site-packages/numba/core/typed_passes.py:314: NumbaPerformanceWarning: \u001b[1m\n",
      "The keyword argument 'parallel=True' was specified but no transformation for parallel execution was possible.\n",
      "\n",
      "To find out why, try turning on parallel diagnostics, see https://numba.pydata.org/numba-doc/latest/user/parallel.html#diagnostics for help.\n",
      "\u001b[1m\n",
      "File \"../curraun/su3.py\", line 376:\u001b[0m\n",
      "\u001b[1m@myjit\n",
      "\u001b[1mdef dagger(a):\n",
      "\u001b[0m\u001b[1m^\u001b[0m\u001b[0m\n",
      "\u001b[0m\n",
      "  state.func_ir.loc))\n"
     ]
    }
   ],
   "source": [
    "u_plus_temp, u_minus_temp = get_xplus_axis_links(ux_r)\n",
    "\n",
    "print(np.shape(u_plus_temp))\n",
    "print(np.shape(u_minus_temp))"
   ]
  },
  {
   "cell_type": "markdown",
   "metadata": {},
   "source": [
    "## Step 2"
   ]
  },
  {
   "cell_type": "markdown",
   "metadata": {},
   "source": [
    "### We gauge transform the relevant quantity to LC gauge"
   ]
  },
  {
   "cell_type": "code",
   "execution_count": 8,
   "metadata": {},
   "outputs": [],
   "source": [
    "# We construct a function that gives the gauge operator at a given point\n",
    "\n",
    "def gauge_operator(u, xplus, xminus):\n",
    "    v = su.GROUP_TYPE(np.array([su.unit() for i in range(N)]))\n",
    "    for t in range(xplus+xminus):\n",
    "        buffer1 = v\n",
    "        aux = u[t, 2*xplus-t, :, :]\n",
    "        buffer2 = np.apply_along_axis(su.dagger, 1, aux)\n",
    "        v = np.array([su.mul(buffer1[i, :], buffer2[i, :]) for i in range(N)])\n",
    "    return v"
   ]
  },
  {
   "cell_type": "code",
   "execution_count": 9,
   "metadata": {},
   "outputs": [
    {
     "name": "stderr",
     "output_type": "stream",
     "text": [
      "/n/work00/davrames/condacurraun/lib/python3.6/site-packages/numba/core/typed_passes.py:314: NumbaPerformanceWarning: \u001b[1m\n",
      "The keyword argument 'parallel=True' was specified but no transformation for parallel execution was possible.\n",
      "\n",
      "To find out why, try turning on parallel diagnostics, see https://numba.pydata.org/numba-doc/latest/user/parallel.html#diagnostics for help.\n",
      "\u001b[1m\n",
      "File \"../curraun/su3.py\", line 400:\u001b[0m\n",
      "\u001b[1m@myjit\n",
      "\u001b[1mdef unit():\n",
      "\u001b[0m\u001b[1m^\u001b[0m\u001b[0m\n",
      "\u001b[0m\n",
      "  state.func_ir.loc))\n",
      "/n/work00/davrames/condacurraun/lib/python3.6/site-packages/numba/core/typed_passes.py:314: NumbaPerformanceWarning: \u001b[1m\n",
      "The keyword argument 'parallel=True' was specified but no transformation for parallel execution was possible.\n",
      "\n",
      "To find out why, try turning on parallel diagnostics, see https://numba.pydata.org/numba-doc/latest/user/parallel.html#diagnostics for help.\n",
      "\u001b[1m\n",
      "File \"../curraun/su3.py\", line 119:\u001b[0m\n",
      "\u001b[1m@myjit\n",
      "\u001b[1mdef mul(a, b):\n",
      "\u001b[0m\u001b[1m^\u001b[0m\u001b[0m\n",
      "\u001b[0m\n",
      "  state.func_ir.loc))\n"
     ]
    },
    {
     "name": "stdout",
     "output_type": "stream",
     "text": [
      "(64, 128, 9)\n"
     ]
    }
   ],
   "source": [
    "# We construct an array with the gauge operator over the x^+ axis\n",
    "\n",
    "v_LC = su.GROUP_TYPE(np.zeros((t_steps, N, Dg)))\n",
    "\n",
    "for t in range (t_steps):\n",
    "    v_LC[t,:,:] = gauge_operator(ux_r, t, 0)\n",
    "\n",
    "print(np.shape(v_LC))"
   ]
  },
  {
   "cell_type": "code",
   "execution_count": 10,
   "metadata": {},
   "outputs": [],
   "source": [
    "# We construct a function that performs the gauge transformation of the plus links\n",
    "\n",
    "def act_plus_link (u,v):\n",
    "    v_h = np.apply_along_axis(su.dagger, 2, v)\n",
    "    buffer1 = np.array([[su.mul(v[t+1, i, :], u[t, i, :]) for i in range(N)] for t in range(t_steps-1)]) #TODO: What happens with the last step?\n",
    "    result =  np.array([[su.mul(buffer1[t, i, :], v_h[t, i, :]) for i in range(N)] for t in range(t_steps-1)])\n",
    "    return result"
   ]
  },
  {
   "cell_type": "code",
   "execution_count": 11,
   "metadata": {},
   "outputs": [
    {
     "name": "stdout",
     "output_type": "stream",
     "text": [
      "(63, 128, 9)\n"
     ]
    }
   ],
   "source": [
    "# We transform the plus link\n",
    "\n",
    "uplus_LC = act_plus_link(u_plus_temp, v_LC)\n",
    "\n",
    "print(np.shape(uplus_LC))"
   ]
  },
  {
   "cell_type": "code",
   "execution_count": 12,
   "metadata": {},
   "outputs": [
    {
     "name": "stdout",
     "output_type": "stream",
     "text": [
      "[[ 9.77469277e-01+0.12189837j -1.00256275e-01+0.04577707j\n",
      "  -5.88726903e-02-0.11866653j]\n",
      " [ 1.20945556e-01+0.05412687j  9.61823711e-01-0.1616666j\n",
      "   4.74477447e-04+0.17663887j]\n",
      " [ 6.76759851e-02-0.0869311j   2.03708597e-02+0.19025569j\n",
      "   9.74463342e-01+0.04088937j]]\n"
     ]
    }
   ],
   "source": [
    "# We plot U_+ at one point of the axis to have some intuition about its value\n",
    "\n",
    "uplus_LC_r = uplus_LC.reshape((t_steps-1, N, 3, 3))\n",
    "print(uplus_LC_r[t_steps//2, N//2, :])"
   ]
  },
  {
   "cell_type": "markdown",
   "metadata": {},
   "source": [
    "Close to the identity but not exactly"
   ]
  },
  {
   "cell_type": "markdown",
   "metadata": {},
   "source": [
    "- - -\n",
    "We write the $U_+$ gauge link to file"
   ]
  },
  {
   "cell_type": "code",
   "execution_count": 13,
   "metadata": {},
   "outputs": [],
   "source": [
    "np.savez_compressed('uplus_lc_gauge_transf.npz', uplus=uplus_LC)"
   ]
  },
  {
   "cell_type": "markdown",
   "metadata": {},
   "source": [
    "Output $U_-$ in a format that is appropriate to be read in C++."
   ]
  },
  {
   "cell_type": "code",
   "execution_count": 16,
   "metadata": {},
   "outputs": [],
   "source": [
    "np.save('uplus_lc_gauge_transf.npy', uplus_LC)"
   ]
  },
  {
   "cell_type": "code",
   "execution_count": 17,
   "metadata": {},
   "outputs": [],
   "source": [
    "np.save('uplus_lc_gauge_transf_time_slice.npy', uplus_LC[0,:,:])"
   ]
  },
  {
   "cell_type": "code",
   "execution_count": 22,
   "metadata": {},
   "outputs": [
    {
     "data": {
      "text/plain": [
       "array([ 0.98540433-0.01465645j,  0.05555779+0.10766926j,\n",
       "       -0.08772258+0.07993065j, -0.06103636+0.11230477j,\n",
       "        0.9868802 -0.03568809j, -0.05860681+0.07086093j,\n",
       "        0.0728335 +0.08438591j,  0.05309051+0.08541597j,\n",
       "        0.98743578+0.04929902j])"
      ]
     },
     "execution_count": 22,
     "metadata": {},
     "output_type": "execute_result"
    }
   ],
   "source": [
    "uplus_LC[10,17,:]"
   ]
  },
  {
   "cell_type": "markdown",
   "metadata": {},
   "source": [
    "## Step 3"
   ]
  },
  {
   "cell_type": "markdown",
   "metadata": {},
   "source": [
    "### We transform $U_-$ to LC gauge as a check"
   ]
  },
  {
   "cell_type": "code",
   "execution_count": 15,
   "metadata": {},
   "outputs": [
    {
     "name": "stdout",
     "output_type": "stream",
     "text": [
      "(64, 128, 9)\n"
     ]
    }
   ],
   "source": [
    "# We construct a function with the gauge operator at the next x^- step to the x^+ axis\n",
    "\n",
    "aux = su.GROUP_TYPE(np.zeros((t_steps, N, Dg)))\n",
    "\n",
    "for t in range (t_steps):\n",
    "    aux[t,:,:] = gauge_operator(ux_r, t, 1)\n",
    "\n",
    "print(np.shape(aux))"
   ]
  },
  {
   "cell_type": "code",
   "execution_count": 16,
   "metadata": {},
   "outputs": [],
   "source": [
    "# We construct a function that performs the gauge transformation of the minus links\n",
    "\n",
    "def act_minus_links(u, v, vplus1): #TODO: Writte the function with only u and v as inputs?\n",
    "    v_h = np.apply_along_axis(su.dagger, 2, v)\n",
    "    buffer1 = np.array([[su.mul(vplus1[t, i, :], u[t, i, :]) for i in range(N)] for t in range(t_steps-1)]) #TODO: What happens with the last step?\n",
    "    result =  np.array([[su.mul(buffer1[t, i, :], v_h[t, i, :]) for i in range(N)] for t in range(t_steps-1)])\n",
    "    return result"
   ]
  },
  {
   "cell_type": "code",
   "execution_count": 17,
   "metadata": {},
   "outputs": [
    {
     "name": "stdout",
     "output_type": "stream",
     "text": [
      "(63, 128, 9)\n"
     ]
    }
   ],
   "source": [
    "# We transform the minus link\n",
    "\n",
    "uminus_LC = act_minus_links(u_minus_temp, v_LC, aux)\n",
    "\n",
    "print(np.shape(uminus_LC))"
   ]
  },
  {
   "cell_type": "code",
   "execution_count": 18,
   "metadata": {},
   "outputs": [
    {
     "name": "stdout",
     "output_type": "stream",
     "text": [
      "[[ 1.00000000e+00+1.04037499e-17j -2.13717932e-15+3.13727410e-15j\n",
      "   1.94289029e-16-5.01391308e-15j]\n",
      " [-2.16493490e-15-3.14264487e-15j  1.00000000e+00-6.10934549e-18j\n",
      "   2.66453526e-15-1.41494329e-14j]\n",
      " [ 3.05311332e-16+4.92670506e-15j  2.66453526e-15+1.40610269e-14j\n",
      "   1.00000000e+00+2.28012149e-17j]]\n"
     ]
    }
   ],
   "source": [
    "# We plot U_- at one point of the axis to check that it is close to identity\n",
    "\n",
    "uminus_LC_r = uminus_LC.reshape((t_steps-1, N, 3, 3))\n",
    "print(uminus_LC_r[t_steps//2, N//2, :, :])"
   ]
  },
  {
   "cell_type": "markdown",
   "metadata": {},
   "source": [
    "The gauge links in minus direction are indeed transformed to the identity. Much closer to 1 that $U_+$ links"
   ]
  },
  {
   "cell_type": "markdown",
   "metadata": {},
   "source": [
    "# Step 4"
   ]
  },
  {
   "cell_type": "markdown",
   "metadata": {},
   "source": [
    "### We plot the transformed links"
   ]
  },
  {
   "cell_type": "code",
   "execution_count": 19,
   "metadata": {},
   "outputs": [
    {
     "data": {
      "image/png": "[encoded data removed]",
      "text/plain": [
       "<Figure size 720x2160 with 28 Axes>"
      ]
     },
     "metadata": {
      "needs_background": "light"
     },
     "output_type": "display_data"
    }
   ],
   "source": [
    "import matplotlib.pyplot as plt \n",
    "\n",
    "y = N//2\n",
    "\n",
    "fig, axs = plt.subplots(t_steps//10 +1, 2, figsize=(10,30))\n",
    "\n",
    "for t in range(t_steps//10 + 1): \n",
    "    tau = 10*t\n",
    "    plot1 = axs[t,0].imshow(uplus_LC_r[tau, y, :, :].real, cmap='turbo', vmin=-0.1, vmax=1) \n",
    "    axs[t,0].set_title(r'$U_+^{LC}; x^+ = %i $' %tau)\n",
    "    plt.colorbar(plot1, ax = axs[t,0])\n",
    "    axs[t,0].axes.get_xaxis().set_visible(False)\n",
    "    axs[t,0].axes.get_yaxis().set_visible(False)\n",
    "    \n",
    "    plot1 = axs[t, 1].imshow(uminus_LC_r[tau, y, :, :].real, cmap='turbo', vmin=-0.1, vmax=1)\n",
    "    axs[t,1].set_title(r'$U_-^{LC}; x^+ = %i $' %tau)\n",
    "    plt.colorbar(plot1, ax = axs[t,1])\n",
    "    axs[t,1].axes.get_xaxis().set_visible(False)\n",
    "    axs[t,1].axes.get_yaxis().set_visible(False)"
   ]
  }
 ],
 "metadata": {
  "kernelspec": {
   "display_name": "Python 3",
   "language": "python",
   "name": "python3"
  },
  "language_info": {
   "codemirror_mode": {
    "name": "ipython",
    "version": 3
   },
   "file_extension": ".py",
   "mimetype": "text/x-python",
   "name": "python",
   "nbconvert_exporter": "python",
   "pygments_lexer": "ipython3",
   "version": "3.6.8"
  }
 },
 "nbformat": 4,
 "nbformat_minor": 2
}
