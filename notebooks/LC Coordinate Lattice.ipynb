{
 "cells": [
  {
   "cell_type": "markdown",
   "metadata": {},
   "source": [
    "# Gauge transformation of the gauge links in a LC coordinate lattice"
   ]
  },
  {
   "cell_type": "markdown",
   "metadata": {},
   "source": [
    "## Step 1"
   ]
  },
  {
   "cell_type": "markdown",
   "metadata": {},
   "source": [
    "We write the relevant gauge link in a $(x^+, x^-, y)$ lattice"
   ]
  },
  {
   "cell_type": "code",
   "execution_count": 2,
   "metadata": {},
   "outputs": [
    {
     "name": "stdout",
     "output_type": "stream",
     "text": [
      "Using SU(3)\n",
      "Using Numba\n",
      "Using double precision\n"
     ]
    },
    {
     "name": "stderr",
     "output_type": "stream",
     "text": [
      "/home2/carlos.lamas/condacurraun/lib/python3.10/site-packages/scipy/__init__.py:132: UserWarning: A NumPy version >=1.21.6 and <1.28.0 is required for this version of SciPy (detected version 1.21.5)\n",
      "  warnings.warn(f\"A NumPy version >={np_minversion} and <{np_maxversion}\"\n"
     ]
    }
   ],
   "source": [
    "import os\n",
    "\n",
    "os.environ[\"MY_NUMBA_TARGET\"] = \"numba\"\n",
    "os.environ[\"PRECISION\"] = \"double\"\n",
    "os.environ['GAUGE_GROUP'] = 'su3'\n",
    "\n",
    "import curraun.su as su\n",
    "import numpy as np\n",
    "import pickle"
   ]
  },
  {
   "cell_type": "code",
   "execution_count": 3,
   "metadata": {},
   "outputs": [],
   "source": [
    "# We read the fields\n",
    "\n",
    "fields = np.load('gauge_links_fields_glasma_test.npz')\n",
    "ux = fields['ux']\n",
    "\n",
    "with open('parameters_gauge_transf_glasma_test.pickle', 'rb') as f:\n",
    "    param = pickle.load(f)"
   ]
  },
  {
   "cell_type": "code",
   "execution_count": 4,
   "metadata": {},
   "outputs": [
    {
     "name": "stdout",
     "output_type": "stream",
     "text": [
      "(64, 16384, 9)\n"
     ]
    }
   ],
   "source": [
    "print(np.shape(ux))"
   ]
  },
  {
   "cell_type": "code",
   "execution_count": 5,
   "metadata": {},
   "outputs": [],
   "source": [
    "# We get the relevant parameters\n",
    "\n",
    "N = param['N']\n",
    "Dg = param['DG']\n",
    "\n",
    "t_steps = np.shape(ux)[0]"
   ]
  },
  {
   "cell_type": "code",
   "execution_count": 6,
   "metadata": {},
   "outputs": [
    {
     "name": "stdout",
     "output_type": "stream",
     "text": [
      "(64, 128, 128, 9)\n"
     ]
    }
   ],
   "source": [
    "# We reshape the transverse component into a N*N matrix\n",
    "\n",
    "ux_r = ux.reshape((t_steps, N, N, Dg))\n",
    "\n",
    "print(np.shape(ux_r))"
   ]
  },
  {
   "cell_type": "code",
   "execution_count": 15,
   "metadata": {},
   "outputs": [],
   "source": [
    "# We define a function that takes a Milne lattice functions and puts it in the LC lattice\n",
    "\n",
    "def change_lattice(u):\n",
    "    u_LC = su.GROUP_TYPE(np.zeros((t_steps//2, t_steps//2, N, Dg)))\n",
    "\n",
    "    for i in range(t_steps//2):\n",
    "        for j in range(t_steps//2):\n",
    "            u_LC[i,j,:,:] = u[i+j,i-j+N//2,:,:]\n",
    "    \n",
    "    return u_LC"
   ]
  },
  {
   "cell_type": "code",
   "execution_count": 16,
   "metadata": {},
   "outputs": [
    {
     "name": "stdout",
     "output_type": "stream",
     "text": [
      "(32, 32, 128, 9)\n"
     ]
    }
   ],
   "source": [
    "# We transform the Ux links to the LC coordinates\n",
    "\n",
    "ux_LC = change_lattice(ux_r)\n",
    "\n",
    "print(np.shape(ux_LC))"
   ]
  },
  {
   "cell_type": "code",
   "execution_count": 17,
   "metadata": {},
   "outputs": [],
   "source": [
    "# We get the plus and minus direction links\n",
    "\n",
    "uminus = np.apply_along_axis(su.dagger, 3, ux_LC)\n",
    "uplus = ux_LC"
   ]
  },
  {
   "cell_type": "markdown",
   "metadata": {},
   "source": [
    "## Step 2"
   ]
  },
  {
   "cell_type": "markdown",
   "metadata": {},
   "source": [
    "We gauge transform the field in the LC lattice"
   ]
  },
  {
   "cell_type": "code",
   "execution_count": 19,
   "metadata": {},
   "outputs": [],
   "source": [
    "# We write the gauge transformation operator at a given (x^+, x^-) point\n",
    "\n",
    "def gauge_operator(u, xplus): #The input has to be written in the Milne lattice (TODO: writte the input in LC lattice ?)\n",
    "    buffer1 = np.array([su.unit() for j in range(N)])\n",
    "    v = su.GROUP_TYPE(np.zeros((t_steps//2, N, Dg)))\n",
    "    \n",
    "    for i in range(-xplus, t_steps//2):\n",
    "        buffer2 = ux_r[xplus + i, xplus - i + N//2, :, :]\n",
    "        r = np.array([su.mul(buffer2[j, :], buffer1[j, :]) for j in range(N)])\n",
    "        if i>0:\n",
    "            v[i, :, :]\n",
    "        buffer1 = r\n",
    "        \n",
    "    return v"
   ]
  },
  {
   "cell_type": "code",
   "execution_count": 21,
   "metadata": {},
   "outputs": [],
   "source": [
    "# We create a matrix that contains the gauge transformation operator at every point\n",
    "\n",
    "v_LC = su.GROUP_TYPE(np.zeros((t_steps//2, t_steps//2, N, Dg)))\n",
    "\n",
    "for k in range(t_steps//2):\n",
    "    v_LC[k,:,:,:] = gauge_operator(ux_r, k)"
   ]
  },
  {
   "cell_type": "code",
   "execution_count": 22,
   "metadata": {},
   "outputs": [
    {
     "name": "stdout",
     "output_type": "stream",
     "text": [
      "(32, 32, 128, 9)\n"
     ]
    }
   ],
   "source": [
    "print(np.shape(v_LC))"
   ]
  }
 ],
 "metadata": {
  "kernelspec": {
   "display_name": "Python 3",
   "language": "python",
   "name": "python3"
  },
  "language_info": {
   "codemirror_mode": {
    "name": "ipython",
    "version": 3
   },
   "file_extension": ".py",
   "mimetype": "text/x-python",
   "name": "python",
   "nbconvert_exporter": "python",
   "pygments_lexer": "ipython3",
   "version": "3.10.4"
  }
 },
 "nbformat": 4,
 "nbformat_minor": 2
}
