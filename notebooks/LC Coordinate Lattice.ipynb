{
 "cells": [
  {
   "cell_type": "markdown",
   "metadata": {},
   "source": [
    "# Gauge transformation of the gauge links in a LC coordinate lattice"
   ]
  },
  {
   "cell_type": "markdown",
   "metadata": {},
   "source": [
    "## Step 0"
   ]
  },
  {
   "cell_type": "markdown",
   "metadata": {},
   "source": [
    "### Writting the fields from files"
   ]
  },
  {
   "cell_type": "code",
   "execution_count": 1,
   "metadata": {},
   "outputs": [
    {
     "name": "stdout",
     "output_type": "stream",
     "text": [
      "Using SU(3)\n",
      "Using Numba\n",
      "Using double precision\n"
     ]
    },
    {
     "name": "stderr",
     "output_type": "stream",
     "text": [
      "/home2/carlos.lamas/condacurraun/lib/python3.10/site-packages/scipy/__init__.py:132: UserWarning: A NumPy version >=1.21.6 and <1.28.0 is required for this version of SciPy (detected version 1.21.5)\n",
      "  warnings.warn(f\"A NumPy version >={np_minversion} and <{np_maxversion}\"\n"
     ]
    }
   ],
   "source": [
    "import os\n",
    "\n",
    "os.environ[\"MY_NUMBA_TARGET\"] = \"numba\"\n",
    "os.environ[\"PRECISION\"] = \"double\"\n",
    "os.environ['GAUGE_GROUP'] = 'su3'\n",
    "\n",
    "import curraun.su as su\n",
    "import numpy as np\n",
    "import pickle"
   ]
  },
  {
   "cell_type": "code",
   "execution_count": 2,
   "metadata": {},
   "outputs": [],
   "source": [
    "# We read the fields\n",
    "\n",
    "fields = np.load('gauge_links_fields_glasma_test.npz')\n",
    "ux = fields['ux']; aeta = fields['aeta']\n",
    "\n",
    "with open('parameters_gauge_transf_glasma_test.pickle', 'rb') as f:\n",
    "    param = pickle.load(f)"
   ]
  },
  {
   "cell_type": "code",
   "execution_count": 3,
   "metadata": {},
   "outputs": [
    {
     "name": "stdout",
     "output_type": "stream",
     "text": [
      "(64, 16384, 9)\n",
      "(64, 16384, 9)\n"
     ]
    }
   ],
   "source": [
    "print(np.shape(ux))\n",
    "print(np.shape(aeta))"
   ]
  },
  {
   "cell_type": "code",
   "execution_count": 4,
   "metadata": {},
   "outputs": [],
   "source": [
    "# We get the relevant parameters\n",
    "\n",
    "N = param['N']\n",
    "Dg = param['DG']\n",
    "L = param['L']\n",
    "Qs = param['QS']\n",
    "\n",
    "t_steps = np.shape(ux)[0]\n",
    "\n",
    "a = L/N\n",
    "g = np.pi * np.sqrt(1 / np.log(Qs / 0.2))"
   ]
  },
  {
   "cell_type": "code",
   "execution_count": 5,
   "metadata": {},
   "outputs": [
    {
     "name": "stdout",
     "output_type": "stream",
     "text": [
      "(64, 128, 128, 9)\n",
      "(64, 128, 128, 9)\n"
     ]
    }
   ],
   "source": [
    "# We reshape the transverse component into a N*N matrix\n",
    "\n",
    "ux_r = ux.reshape((t_steps, N, N, Dg))\n",
    "aeta_r = aeta.reshape((t_steps, N, N, Dg))\n",
    "\n",
    "print(np.shape(ux_r))\n",
    "print(np.shape(aeta_r))"
   ]
  },
  {
   "cell_type": "markdown",
   "metadata": {},
   "source": [
    "## Step 1"
   ]
  },
  {
   "cell_type": "markdown",
   "metadata": {},
   "source": [
    "### We write the relevant magnitude in LC coordinates"
   ]
  },
  {
   "cell_type": "code",
   "execution_count": 25,
   "metadata": {},
   "outputs": [
    {
     "name": "stderr",
     "output_type": "stream",
     "text": [
      "/home2/carlos.lamas/condacurraun/lib/python3.10/site-packages/numba/core/typed_passes.py:329: NumbaPerformanceWarning: \n",
      "The keyword argument 'parallel=True' was specified but no transformation for parallel execution was possible.\n",
      "\n",
      "To find out why, try turning on parallel diagnostics, see https://numba.readthedocs.io/en/stable/user/parallel.html#diagnostics for help.\n",
      "\n",
      "File \"../curraun/su3.py\", line 397:\n",
      "@myjit\n",
      "def mul_s(g0, f):\n",
      "^\n",
      "\n",
      "  warnings.warn(errors.NumbaPerformanceWarning(msg,\n",
      "/lustre/HQCD/carlos.lamas/curraun/curraun/su3.py:197: NumbaPerformanceWarning: \n",
      "The keyword argument 'parallel=True' was specified but no transformation for parallel execution was possible.\n",
      "\n",
      "To find out why, try turning on parallel diagnostics, see https://numba.readthedocs.io/en/stable/user/parallel.html#diagnostics for help.\n",
      "\n",
      "File \"../curraun/su3.py\", line 119:\n",
      "@myjit\n",
      "def mul(a, b):\n",
      "^\n",
      "\n",
      "  t = mul(t, a)\n",
      "/home2/carlos.lamas/condacurraun/lib/python3.10/site-packages/numba/core/typed_passes.py:329: NumbaPerformanceWarning: \n",
      "The keyword argument 'parallel=True' was specified but no transformation for parallel execution was possible.\n",
      "\n",
      "To find out why, try turning on parallel diagnostics, see https://numba.readthedocs.io/en/stable/user/parallel.html#diagnostics for help.\n",
      "\n",
      "File \"../curraun/su3.py\", line 184:\n",
      "@myjit\n",
      "def mexp(a):\n",
      "^\n",
      "\n",
      "  warnings.warn(errors.NumbaPerformanceWarning(msg,\n"
     ]
    }
   ],
   "source": [
    "# We construct the z links from Aeta\n",
    "\n",
    "uz = su.GROUP_TYPE([[[[su.mexp(su.mul_s(aeta_r[t,x,y], 1j*g*a*(z-N//2))) for z in range(N)] for y in range(N)] for x in range(N)] for t in range(t_steps)])"
   ]
  },
  {
   "cell_type": "code",
   "execution_count": 26,
   "metadata": {},
   "outputs": [
    {
     "name": "stdout",
     "output_type": "stream",
     "text": [
      "[[ 13.89927604+6.22154970e-15j   4.32828135+8.52270231e+00j\n",
      "   -9.24560958-2.14675070e+01j]\n",
      " [  4.32828135-8.52270231e+00j   7.49830605-9.18208511e-15j\n",
      "  -16.02494962-1.46596648e+00j]\n",
      " [ -9.24560958+2.14675070e+01j -16.02494962+1.46596648e+00j\n",
      "   39.6040058 +1.61717580e-14j]]\n"
     ]
    }
   ],
   "source": [
    "uz_test = uz.reshape(t_steps, N, N, N, 3, 3)\n",
    "print(uz_test[t_steps//2, N//2, N//2, 0, :, :])"
   ]
  },
  {
   "cell_type": "code",
   "execution_count": 27,
   "metadata": {},
   "outputs": [],
   "source": [
    "# We define a function that, given a set of gauge links, returns the values over the x^+ axis\n",
    "\n",
    "def get_LC_links (u_x):\n",
    "    uminus = su.GROUP_TYPE([[[[su.mul(uz[t,x,y,z],u_x[t,x,y]) for z in range(N)] for y in range(N)] for x in range(N)] for t in range(t_steps)])\n",
    "    uplus = su.GROUP_TYPE([[[[su.mul(uz[t,x,y,z],su.GROUP_TYPE(su.dagger(u_x[t,x,y]))) for z in range(N)] for y in range(N)] for x in range(N)] for t in range(t_steps)])\n",
    "    return uplus, uminus"
   ]
  },
  {
   "cell_type": "code",
   "execution_count": 28,
   "metadata": {},
   "outputs": [
    {
     "name": "stdout",
     "output_type": "stream",
     "text": [
      "(64, 128, 128, 128, 9)\n",
      "(64, 128, 128, 128, 9)\n"
     ]
    }
   ],
   "source": [
    "u_plus_temp, u_minus_temp = get_LC_links(ux_r)\n",
    "\n",
    "print(np.shape(u_plus_temp))\n",
    "print(np.shape(u_minus_temp))"
   ]
  },
  {
   "cell_type": "code",
   "execution_count": 29,
   "metadata": {},
   "outputs": [
    {
     "name": "stdout",
     "output_type": "stream",
     "text": [
      "[ 0.99766304+0.00598429j -0.05701835+0.03213106j  0.01072109+0.0153036j\n",
      "  0.05689127+0.032335j    0.99784253-0.00343299j  0.00397506+0.00073196j\n",
      " -0.01100067+0.01514778j -0.00384629-0.00046327j  0.99981396-0.00256212j]\n"
     ]
    }
   ],
   "source": [
    "print(u_plus_temp[t_steps//2, N//2, N//2, N//2, :])"
   ]
  },
  {
   "cell_type": "markdown",
   "metadata": {},
   "source": [
    "## Step 2"
   ]
  },
  {
   "cell_type": "markdown",
   "metadata": {},
   "source": [
    "### We gauge transform the relevant quantity to LC gauge"
   ]
  },
  {
   "cell_type": "code",
   "execution_count": 30,
   "metadata": {},
   "outputs": [],
   "source": [
    "# We construct a function that gives the gauge operator at a given point\n",
    "\n",
    "def gauge_operator(u, x):\n",
    "    v = su.GROUP_TYPE([[su.unit() for z in range(N)] for y in range(N)])\n",
    "    for t in range(x//2):\n",
    "        buffer = v\n",
    "        v = su.GROUP_TYPE([[su.mul(u[t,x-t,y,z], buffer[y,z]) for z in range(N)] for y in range(N)])\n",
    "    return v"
   ]
  },
  {
   "cell_type": "code",
   "execution_count": 31,
   "metadata": {},
   "outputs": [
    {
     "name": "stderr",
     "output_type": "stream",
     "text": [
      "/home2/carlos.lamas/condacurraun/lib/python3.10/site-packages/numba/core/typed_passes.py:329: NumbaPerformanceWarning: \n",
      "The keyword argument 'parallel=True' was specified but no transformation for parallel execution was possible.\n",
      "\n",
      "To find out why, try turning on parallel diagnostics, see https://numba.readthedocs.io/en/stable/user/parallel.html#diagnostics for help.\n",
      "\n",
      "File \"../curraun/su3.py\", line 440:\n",
      "@myjit\n",
      "def unit():\n",
      "^\n",
      "\n",
      "  warnings.warn(errors.NumbaPerformanceWarning(msg,\n"
     ]
    },
    {
     "name": "stdout",
     "output_type": "stream",
     "text": [
      "(64, 128, 128, 9)\n"
     ]
    }
   ],
   "source": [
    "# We construct an array with the gauge operator over the x^+ axis\n",
    "\n",
    "v_LC = su.GROUP_TYPE(np.zeros((t_steps, N, N, Dg)))\n",
    "for x in range (N):\n",
    "    if x%2 == 0:\n",
    "        v_LC[x//2,:,:,:] = gauge_operator(u_minus_temp, x)\n",
    "\n",
    "print(np.shape(v_LC))"
   ]
  },
  {
   "cell_type": "code",
   "execution_count": 32,
   "metadata": {},
   "outputs": [],
   "source": [
    "# We construct a function that performs the gauge transformation of the plus link\n",
    "\n",
    "def act_plus_link (u,v):\n",
    "    buffer1 = su.GROUP_TYPE([[[su.mul(su.GROUP_TYPE(su.dagger(v[t+1, y, z])), u[t, t, y,z]) for z in range(N)] for y in range(N)] for t in range(t_steps-1)])\n",
    "    r = su.GROUP_TYPE([[[su.mul(buffer1[t,y,z], v[t,y,z]) for z in range(N)] for y in range(N)] for t in range (t_steps-1)])\n",
    "    return r"
   ]
  },
  {
   "cell_type": "code",
   "execution_count": 33,
   "metadata": {},
   "outputs": [
    {
     "name": "stdout",
     "output_type": "stream",
     "text": [
      "(63, 128, 128, 9)\n"
     ]
    }
   ],
   "source": [
    "# We transform the plus link\n",
    "\n",
    "uplus_LC = act_plus_link(u_plus_temp, v_LC)\n",
    "\n",
    "print(np.shape(uplus_LC))"
   ]
  },
  {
   "cell_type": "code",
   "execution_count": 34,
   "metadata": {},
   "outputs": [
    {
     "name": "stdout",
     "output_type": "stream",
     "text": [
      "[[ 0.98675732-0.03360514j -0.1039674 +0.02680459j  0.11679902-0.00331073j]\n",
      " [ 0.11605198-0.01505914j  0.95867834-0.21079397j -0.07940447+0.12845949j]\n",
      " [-0.10646263-0.01231045j  0.08754094+0.13156985j  0.95056108+0.24489541j]]\n"
     ]
    }
   ],
   "source": [
    "# We plot U_+ at one point of the axis to have some intuition about its value\n",
    "\n",
    "uplus_LC_r = uplus_LC.reshape((t_steps-1, N, N, 3, 3))\n",
    "print(uplus_LC_r[t_steps//2, N//2, N//2, :])"
   ]
  },
  {
   "cell_type": "markdown",
   "metadata": {},
   "source": [
    "Close to the identity but not exactly"
   ]
  },
  {
   "cell_type": "markdown",
   "metadata": {},
   "source": [
    "## Step 3"
   ]
  },
  {
   "cell_type": "markdown",
   "metadata": {},
   "source": [
    "### We transform $U_-$ to LC gauge as a check"
   ]
  },
  {
   "cell_type": "code",
   "execution_count": 54,
   "metadata": {},
   "outputs": [],
   "source": [
    "# We construct a function with the gauge operator at the next x^- step to the x^+ axis\n",
    "\n",
    "v_LC_plus1 = su.GROUP_TYPE([[[su.mul(u_minus_temp[t+1,t-1,y,z], v_LC[t,y,z]) for z in range(N)] for y in range(N)] for t in range(t_steps-1)])"
   ]
  },
  {
   "cell_type": "code",
   "execution_count": 59,
   "metadata": {},
   "outputs": [
    {
     "name": "stdout",
     "output_type": "stream",
     "text": [
      "((0.9982771502410732-0.049962718501213116j), (0.01840524470039707-0.008504370441913893j), (0.013218412540937858+0.0189909001190809j), (-0.01843508476633659-0.007308717660413846j), (0.999565571199153-0.009566035915441461j), (-0.007064087233639625-0.01827536039466166j), (-0.013679774403311515+0.01913248898138556j), (0.007860120130976122-0.01744422519382576j), (0.997766983024799+0.059512828383093366j))\n"
     ]
    }
   ],
   "source": [
    "r = su.mul(su.GROUP_TYPE(su.dagger(u_minus_temp[t-1, t+1, y, z])), u_minus_temp[t,t,y,z])\n",
    "print(r)"
   ]
  },
  {
   "cell_type": "code",
   "execution_count": 55,
   "metadata": {},
   "outputs": [],
   "source": [
    "# We construct a function that performs the gauge transformation of the minus links\n",
    "\n",
    "def act_minus_links(u, v, aux): #TODO: Writte the function with only u and v as inputs?\n",
    "    buffer1 = su.GROUP_TYPE([[[su.mul(su.GROUP_TYPE(su.dagger(aux[t, y, z])), u[t, t, y,z]) for z in range(N)] for y in range(N)] for t in range(t_steps-1)])\n",
    "    r = su.GROUP_TYPE([[[su.mul(buffer1[t,y,z], v[t,y,z]) for z in range(N)] for y in range(N)] for t in range (t_steps-1)])\n",
    "    return r"
   ]
  },
  {
   "cell_type": "code",
   "execution_count": 57,
   "metadata": {},
   "outputs": [
    {
     "name": "stdout",
     "output_type": "stream",
     "text": [
      "(63, 128, 128, 9)\n"
     ]
    }
   ],
   "source": [
    "# We transform the minus link\n",
    "\n",
    "uminus_LC = act_minus_links(u_minus_temp, v_LC, v_LC_plus1)\n",
    "\n",
    "print(np.shape(uminus_LC))"
   ]
  },
  {
   "cell_type": "code",
   "execution_count": 58,
   "metadata": {},
   "outputs": [
    {
     "name": "stdout",
     "output_type": "stream",
     "text": [
      "[[ 0.99919118+0.01113717j -0.02553184+0.00935592j -0.01694606-0.02159581j]\n",
      " [ 0.02476677+0.00932946j  0.9992828 -0.00495239j -0.01088555-0.0242987j ]\n",
      " [ 0.01754612-0.02201495j  0.0103879 -0.02370733j  0.99924934-0.00618728j]]\n"
     ]
    }
   ],
   "source": [
    "# We plot U_- at one point of the axis to check that it is close to identity\n",
    "\n",
    "uminus_LC_r = uminus_LC.reshape((t_steps-1, N, N, 3, 3))\n",
    "print(uminus_LC_r[t_steps//2, N//2, N//2, :, :])"
   ]
  },
  {
   "cell_type": "markdown",
   "metadata": {},
   "source": [
    "The gauge links in minus direction are indeed transformed to the identity. Much closer to 1 that $U_+$ links"
   ]
  },
  {
   "cell_type": "markdown",
   "metadata": {},
   "source": [
    "# Step 4"
   ]
  },
  {
   "cell_type": "markdown",
   "metadata": {},
   "source": [
    "### We plot the transformed links"
   ]
  },
  {
   "cell_type": "code",
   "execution_count": 53,
   "metadata": {},
   "outputs": [
    {
     "data": {
      "image/png": "[encoded data removed]",
      "text/plain": [
       "<Figure size 1000x3000 with 28 Axes>"
      ]
     },
     "metadata": {},
     "output_type": "display_data"
    }
   ],
   "source": [
    "import matplotlib.pyplot as plt \n",
    "\n",
    "y = N//2; z = N//2\n",
    "\n",
    "fig, axs = plt.subplots(t_steps//10 +1, 2, figsize=(10,30))\n",
    "\n",
    "for t in range(t_steps//10 + 1): \n",
    "    tau = 10*t\n",
    "    plot1 = axs[t,0].imshow(uplus_LC_r[tau, y, z, :, :].real, cmap='turbo', vmin=-0.1, vmax=1) \n",
    "    axs[t,0].set_title(r'$U_+^{LC}; x^+ = %i $' %tau)\n",
    "    plt.colorbar(plot1, ax = axs[t,0])\n",
    "    axs[t,0].axes.get_xaxis().set_visible(False)\n",
    "    axs[t,0].axes.get_yaxis().set_visible(False)\n",
    "    \n",
    "    plot1 = axs[t, 1].imshow(uminus_LC_r[tau, y, z, :, :].real, cmap='turbo', vmin=-0.1, vmax=1)\n",
    "    axs[t,1].set_title(r'$U_-^{LC}; x^+ = %i $' %tau)\n",
    "    plt.colorbar(plot1, ax = axs[t,1])\n",
    "    axs[t,1].axes.get_xaxis().set_visible(False)\n",
    "    axs[t,1].axes.get_yaxis().set_visible(False)"
   ]
  },
  {
   "cell_type": "code",
   "execution_count": 26,
   "metadata": {},
   "outputs": [
    {
     "name": "stdout",
     "output_type": "stream",
     "text": [
      "(-0.43545867840567715+0.010681594557779981j)\n",
      "(-8.253658668429253-0.3721170428229103j)\n",
      "(-0.6227661635576565+0.010763920515429633j)\n",
      "(-8.445802461570052+0.0870091056798502j)\n",
      "(-2.472325082776163+0.02419007299067866j)\n",
      "(-0.5599836889724112+0.01824553756008831j)\n"
     ]
    },
    {
     "name": "stderr",
     "output_type": "stream",
     "text": [
      "/home2/carlos.lamas/condacurraun/lib/python3.10/site-packages/numba/core/typed_passes.py:329: NumbaPerformanceWarning: \n",
      "The keyword argument 'parallel=True' was specified but no transformation for parallel execution was possible.\n",
      "\n",
      "To find out why, try turning on parallel diagnostics, see https://numba.readthedocs.io/en/stable/user/parallel.html#diagnostics for help.\n",
      "\n",
      "File \"../curraun/su3.py\", line 387:\n",
      "@myjit\n",
      "def tr(a):\n",
      "^\n",
      "\n",
      "  warnings.warn(errors.NumbaPerformanceWarning(msg,\n"
     ]
    }
   ],
   "source": [
    "for t in range (t_steps//10):\n",
    "\n",
    "    n = su.tr(np.array(su.mul(u_plus_temp[10*t, N//2, :], su.dagger(uplus_LC[10*t, N//2, :]))) - su.unit())\n",
    "    d = su.sq(u_plus_temp[10*t, N//2, :] - su.unit())\n",
    "\n",
    "    r = n/d\n",
    "    print(r)\n",
    "# plt.imshow(p.real, cmap='turbo', vmin=-0.1, vmax=1) \n"
   ]
  }
 ],
 "metadata": {
  "kernelspec": {
   "display_name": "Python 3",
   "language": "python",
   "name": "python3"
  },
  "language_info": {
   "codemirror_mode": {
    "name": "ipython",
    "version": 3
   },
   "file_extension": ".py",
   "mimetype": "text/x-python",
   "name": "python",
   "nbconvert_exporter": "python",
   "pygments_lexer": "ipython3",
   "version": "3.10.4"
  }
 },
 "nbformat": 4,
 "nbformat_minor": 2
}
