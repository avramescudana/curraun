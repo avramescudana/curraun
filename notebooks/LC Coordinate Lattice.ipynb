{
 "cells": [
  {
   "cell_type": "markdown",
   "metadata": {},
   "source": [
    "# Gauge transformation of the gauge links in a LC coordinate lattice"
   ]
  },
  {
   "cell_type": "markdown",
   "metadata": {},
   "source": [
    "## Step 0"
   ]
  },
  {
   "cell_type": "markdown",
   "metadata": {},
   "source": [
    "### Writting the fields from files"
   ]
  },
  {
   "cell_type": "code",
   "execution_count": 1,
   "metadata": {},
   "outputs": [
    {
     "name": "stdout",
     "output_type": "stream",
     "text": [
      "Using SU(3)\n",
      "Using Numba\n",
      "Using double precision\n"
     ]
    }
   ],
   "source": [
    "import os\n",
    "\n",
    "os.environ[\"MY_NUMBA_TARGET\"] = \"numba\"\n",
    "os.environ[\"PRECISION\"] = \"double\"\n",
    "os.environ['GAUGE_GROUP'] = 'su3'\n",
    "\n",
    "# Import relevant modules\n",
    "import sys\n",
    "sys.path.append('..')\n",
    "\n",
    "import curraun.su as su\n",
    "import numpy as np\n",
    "import pickle"
   ]
  },
  {
   "cell_type": "code",
   "execution_count": 2,
   "metadata": {},
   "outputs": [],
   "source": [
    "# I need to add this line to ask resources from a specific GPU, which is free. Our GPU server has no queing system\n",
    "os.environ[\"CUDA_VISIBLE_DEVICES\"]=\"3\""
   ]
  },
  {
   "cell_type": "code",
   "execution_count": 3,
   "metadata": {},
   "outputs": [],
   "source": [
    "# We read the fields\n",
    "\n",
    "fields = np.load('gauge_links_fields_glasma_test.npz')\n",
    "ux = fields['ux']; aeta = fields['aeta']\n",
    "\n",
    "with open('parameters_gauge_transf_glasma_test.pickle', 'rb') as f:\n",
    "    param = pickle.load(f)"
   ]
  },
  {
   "cell_type": "code",
   "execution_count": 4,
   "metadata": {},
   "outputs": [
    {
     "name": "stdout",
     "output_type": "stream",
     "text": [
      "(64, 16384, 9)\n",
      "(64, 16384, 9)\n"
     ]
    }
   ],
   "source": [
    "print(np.shape(ux))\n",
    "print(np.shape(aeta))"
   ]
  },
  {
   "cell_type": "code",
   "execution_count": 5,
   "metadata": {},
   "outputs": [],
   "source": [
    "# We get the relevant parameters\n",
    "\n",
    "N = param['N']\n",
    "Dg = param['DG']\n",
    "L = param['L']\n",
    "Qs = param['QS']\n",
    "\n",
    "t_steps = np.shape(ux)[0]\n",
    "\n",
    "a = L/N\n",
    "g = np.pi * np.sqrt(1 / np.log(Qs / 0.2))"
   ]
  },
  {
   "cell_type": "code",
   "execution_count": 6,
   "metadata": {},
   "outputs": [
    {
     "name": "stdout",
     "output_type": "stream",
     "text": [
      "(64, 128, 128, 9)\n",
      "(64, 128, 128, 9)\n"
     ]
    }
   ],
   "source": [
    "# We reshape the transverse component into a N*N matrix\n",
    "\n",
    "ux_r = ux.reshape((t_steps, N, N, Dg))\n",
    "aeta_r = aeta.reshape((t_steps, N, N, Dg))\n",
    "\n",
    "print(np.shape(ux_r))\n",
    "print(np.shape(aeta_r))"
   ]
  },
  {
   "cell_type": "markdown",
   "metadata": {},
   "source": [
    "## Step 1"
   ]
  },
  {
   "cell_type": "code",
   "execution_count": 7,
   "metadata": {},
   "outputs": [],
   "source": [
    "# Supress various horribly long warnings\n",
    "import warnings\n",
    "warnings.filterwarnings('ignore')"
   ]
  },
  {
   "cell_type": "markdown",
   "metadata": {},
   "source": [
    "### We write the relevant magnitude in LC coordinates"
   ]
  },
  {
   "cell_type": "code",
   "execution_count": 8,
   "metadata": {},
   "outputs": [],
   "source": [
    "# We construct the z links from Aeta\n",
    "\n",
    "uz = su.GROUP_TYPE([[[[su.mexp(su.mul_s(aeta_r[t,x,y], 1j*g*a*(z-N//2))) for z in range(N)] for y in range(N)] for x in range(N)] for t in range(t_steps)])"
   ]
  },
  {
   "cell_type": "code",
   "execution_count": 7,
   "metadata": {},
   "outputs": [
    {
     "name": "stdout",
     "output_type": "stream",
     "text": [
      "[[15.23139035-3.13020387e-15j  9.91365669-1.80581101e+00j\n",
      "   2.70348908-9.12942161e+00j]\n",
      " [ 9.91365669+1.80581101e+00j  6.87114893+6.37258503e-16j\n",
      "   2.59251031-5.48640699e+00j]\n",
      " [ 2.70348908+9.12942161e+00j  2.59251031+5.48640699e+00j\n",
      "   6.66638882+2.17145878e-15j]]\n"
     ]
    }
   ],
   "source": [
    "uz_test = uz.reshape(t_steps, N, N, N, 3, 3)\n",
    "print(uz_test[t_steps//2, N//2, N//2, 0, :, :])"
   ]
  },
  {
   "cell_type": "code",
   "execution_count": 8,
   "metadata": {},
   "outputs": [],
   "source": [
    "# We define a function that, given a set of gauge links, returns the values over the x^+ axis\n",
    "\n",
    "def get_LC_links (u_x):\n",
    "    uminus = su.GROUP_TYPE([[[[su.mul(uz[t,x,y,z],u_x[t,x,y]) for z in range(N)] for y in range(N)] for x in range(N)] for t in range(t_steps)])\n",
    "    uplus = su.GROUP_TYPE([[[[su.mul(uz[t,x,y,z],su.GROUP_TYPE(su.dagger(u_x[t,x,y]))) for z in range(N)] for y in range(N)] for x in range(N)] for t in range(t_steps)])\n",
    "    return uplus, uminus"
   ]
  },
  {
   "cell_type": "code",
   "execution_count": 9,
   "metadata": {},
   "outputs": [
    {
     "name": "stderr",
     "output_type": "stream",
     "text": [
      "/home2/carlos.lamas/condacurraun/lib/python3.10/site-packages/numba/core/typed_passes.py:329: NumbaPerformanceWarning: \n",
      "The keyword argument 'parallel=True' was specified but no transformation for parallel execution was possible.\n",
      "\n",
      "To find out why, try turning on parallel diagnostics, see https://numba.readthedocs.io/en/stable/user/parallel.html#diagnostics for help.\n",
      "\n",
      "File \"../curraun/su3.py\", line 119:\n",
      "@myjit\n",
      "def mul(a, b):\n",
      "^\n",
      "\n",
      "  warnings.warn(errors.NumbaPerformanceWarning(msg,\n",
      "/home2/carlos.lamas/condacurraun/lib/python3.10/site-packages/numba/core/typed_passes.py:329: NumbaPerformanceWarning: \n",
      "The keyword argument 'parallel=True' was specified but no transformation for parallel execution was possible.\n",
      "\n",
      "To find out why, try turning on parallel diagnostics, see https://numba.readthedocs.io/en/stable/user/parallel.html#diagnostics for help.\n",
      "\n",
      "File \"../curraun/su3.py\", line 416:\n",
      "@myjit\n",
      "def dagger(a):\n",
      "^\n",
      "\n",
      "  warnings.warn(errors.NumbaPerformanceWarning(msg,\n"
     ]
    },
    {
     "name": "stdout",
     "output_type": "stream",
     "text": [
      "(64, 128, 128, 128, 9)\n",
      "(64, 128, 128, 128, 9)\n"
     ]
    }
   ],
   "source": [
    "u_plus_temp, u_minus_temp = get_LC_links(ux_r)\n",
    "\n",
    "print(np.shape(u_plus_temp))\n",
    "print(np.shape(u_minus_temp))"
   ]
  },
  {
   "cell_type": "code",
   "execution_count": 10,
   "metadata": {},
   "outputs": [
    {
     "name": "stdout",
     "output_type": "stream",
     "text": [
      "[ 0.99609203+0.04924128j -0.03978841+0.0410501j   0.03107388+0.0337957j\n",
      "  0.03606158+0.04559253j  0.99604994+0.00064922j  0.06490415-0.01710036j\n",
      " -0.03280965+0.03033767j -0.06591281-0.01647303j  0.99543185-0.05002718j]\n"
     ]
    }
   ],
   "source": [
    "print(u_plus_temp[t_steps//2, N//2, N//2, N//2, :])"
   ]
  },
  {
   "cell_type": "markdown",
   "metadata": {},
   "source": [
    "## Step 2"
   ]
  },
  {
   "cell_type": "markdown",
   "metadata": {},
   "source": [
    "### We gauge transform the relevant quantity to LC gauge"
   ]
  },
  {
   "cell_type": "code",
   "execution_count": 11,
   "metadata": {},
   "outputs": [],
   "source": [
    "# We construct a function that gives the gauge operator at a given point\n",
    "\n",
    "def gauge_operator(u, x):\n",
    "    v = su.GROUP_TYPE([[su.unit() for z in range(N)] for y in range(N)])\n",
    "    for t in range(x//2):\n",
    "        buffer = v\n",
    "        v = su.GROUP_TYPE([[su.mul(u[t,x-t,y,z], buffer[y,z]) for z in range(N)] for y in range(N)])\n",
    "    return v"
   ]
  },
  {
   "cell_type": "code",
   "execution_count": 12,
   "metadata": {},
   "outputs": [
    {
     "name": "stderr",
     "output_type": "stream",
     "text": [
      "/home2/carlos.lamas/condacurraun/lib/python3.10/site-packages/numba/core/typed_passes.py:329: NumbaPerformanceWarning: \n",
      "The keyword argument 'parallel=True' was specified but no transformation for parallel execution was possible.\n",
      "\n",
      "To find out why, try turning on parallel diagnostics, see https://numba.readthedocs.io/en/stable/user/parallel.html#diagnostics for help.\n",
      "\n",
      "File \"../curraun/su3.py\", line 440:\n",
      "@myjit\n",
      "def unit():\n",
      "^\n",
      "\n",
      "  warnings.warn(errors.NumbaPerformanceWarning(msg,\n"
     ]
    },
    {
     "name": "stdout",
     "output_type": "stream",
     "text": [
      "(64, 128, 128, 9)\n"
     ]
    }
   ],
   "source": [
    "# We construct an array with the gauge operator over the x^+ axis\n",
    "\n",
    "v_LC = su.GROUP_TYPE(np.zeros((t_steps, N, N, Dg)))\n",
    "for x in range (N):\n",
    "    if x%2 == 0:\n",
    "        v_LC[x//2,:,:,:] = gauge_operator(u_minus_temp, x)\n",
    "\n",
    "print(np.shape(v_LC))"
   ]
  },
  {
   "cell_type": "code",
   "execution_count": 13,
   "metadata": {},
   "outputs": [],
   "source": [
    "# We construct a function that performs the gauge transformation of the plus link\n",
    "\n",
    "def act_plus_link (u,v):\n",
    "    buffer1 = su.GROUP_TYPE([[[su.mul(su.GROUP_TYPE(su.dagger(v[t+1, y, z])), u[t, t, y,z]) for z in range(N)] for y in range(N)] for t in range(t_steps-1)])\n",
    "    r = su.GROUP_TYPE([[[su.mul(buffer1[t,y,z], v[t,y,z]) for z in range(N)] for y in range(N)] for t in range (t_steps-1)])\n",
    "    return r"
   ]
  },
  {
   "cell_type": "code",
   "execution_count": 14,
   "metadata": {},
   "outputs": [
    {
     "name": "stdout",
     "output_type": "stream",
     "text": [
      "(63, 128, 128, 9)\n"
     ]
    }
   ],
   "source": [
    "# We transform the plus link\n",
    "\n",
    "uplus_LC = act_plus_link(u_plus_temp, v_LC)\n",
    "\n",
    "print(np.shape(uplus_LC))"
   ]
  },
  {
   "cell_type": "code",
   "execution_count": 15,
   "metadata": {},
   "outputs": [
    {
     "name": "stdout",
     "output_type": "stream",
     "text": [
      "[[ 0.97204886+0.20191745j -0.01077528+0.1186107j   0.00228295+0.01267032j]\n",
      " [-0.00490373+0.11933453j  0.97630274-0.07841198j  0.16226099+0.00954559j]\n",
      " [-0.00610297-0.00695198j -0.15732139+0.0418318j   0.97894823-0.12277978j]]\n"
     ]
    }
   ],
   "source": [
    "# We plot U_+ at one point of the axis to have some intuition about its value\n",
    "\n",
    "uplus_LC_r = uplus_LC.reshape((t_steps-1, N, N, 3, 3))\n",
    "print(uplus_LC_r[t_steps//2, N//2, N//2, :])"
   ]
  },
  {
   "cell_type": "markdown",
   "metadata": {},
   "source": [
    "Close to the identity but not exactly"
   ]
  },
  {
   "cell_type": "markdown",
   "metadata": {},
   "source": [
    "- - -\n",
    "We write the $U_+$ gauge link to file"
   ]
  },
  {
   "cell_type": "code",
   "execution_count": 16,
   "metadata": {},
   "outputs": [],
   "source": [
    "np.savez_compressed('uplus_lc_gauge_transf.npz', uplus=uplus_LC)"
   ]
  },
  {
   "cell_type": "markdown",
   "metadata": {},
   "source": [
    "Output $U_-$ in a format that is appropriate to be read in C++."
   ]
  },
  {
   "cell_type": "code",
   "execution_count": 17,
   "metadata": {},
   "outputs": [],
   "source": [
    "np.save('uplus_lc_gauge_transf.npy', uplus_LC)"
   ]
  },
  {
   "cell_type": "code",
   "execution_count": 18,
   "metadata": {},
   "outputs": [],
   "source": [
    "np.save('uplus_lc_gauge_transf_time_slice.npy', uplus_LC[0,:,:])"
   ]
  },
  {
   "cell_type": "code",
   "execution_count": 19,
   "metadata": {},
   "outputs": [
    {
     "data": {
      "text/plain": [
       "array([[ 706.4163219  +193.70964699j, 1163.25841786 +184.5304715j ,\n",
       "        -513.67618837 +233.0378473j , ..., -290.10619631 -269.73354495j,\n",
       "        -512.82359212 -378.47429261j,  305.01971967  +16.55916983j],\n",
       "       [ 619.40668728 +166.71154832j, 1023.08621209 +163.71444135j,\n",
       "        -448.12213673 +204.70808803j, ..., -254.51001217 -234.60183263j,\n",
       "        -449.73282816 -332.87986893j,  265.91774589  +13.81013781j],\n",
       "       [ 543.07814899 +143.35841761j,  899.78557965 +145.25980633j,\n",
       "        -390.8476069  +179.83680732j, ..., -223.26737025 -203.99503126j,\n",
       "        -394.38735723 -292.7666465j ,  231.7900657   +11.46331201j],\n",
       "       ...,\n",
       "       [ 724.171148   -105.24103983j,   28.74775595 -462.73773936j,\n",
       "         142.19288313-1559.94465039j, ...,  419.45637894+1313.47217337j,\n",
       "         869.58324371  -89.10620232j, 2945.07676697 -217.75478219j],\n",
       "       [ 835.49858612 -121.45199784j,   32.05149871 -535.28547063j,\n",
       "         165.11537364-1795.39399142j, ...,  482.95244329+1508.27185315j,\n",
       "        1000.88518697 -105.66171428j, 3374.46992671 -249.30684857j],\n",
       "       [ 963.89258438 -140.1432613j ,   35.71388252 -619.08811676j,\n",
       "         191.63079569-2066.29708941j, ...,  555.98800716+1731.99592966j,\n",
       "        1151.88408944 -125.05455649j, 3866.56807105 -285.45603898j]])"
      ]
     },
     "execution_count": 19,
     "metadata": {},
     "output_type": "execute_result"
    }
   ],
   "source": [
    "uplus_LC[10,17,:]"
   ]
  },
  {
   "cell_type": "markdown",
   "metadata": {},
   "source": [
    "## Step 3"
   ]
  },
  {
   "cell_type": "markdown",
   "metadata": {},
   "source": [
    "### We transform $U_-$ to LC gauge as a check"
   ]
  },
  {
   "cell_type": "code",
   "execution_count": 20,
   "metadata": {},
   "outputs": [],
   "source": [
    "# We construct a function with the gauge operator at the next x^- step to the x^+ axis\n",
    "\n",
    "v_LC_plus1 = su.GROUP_TYPE([[[su.mul(u_minus_temp[t,t,y,z], v_LC[t,y,z]) for z in range(N)] for y in range(N)] for t in range(t_steps-1)])"
   ]
  },
  {
   "cell_type": "code",
   "execution_count": 21,
   "metadata": {},
   "outputs": [],
   "source": [
    "# We construct a function that performs the gauge transformation of the minus links\n",
    "\n",
    "def act_minus_links(u, v, aux): #TODO: Writte the function with only u and v as inputs?\n",
    "    buffer1 = su.GROUP_TYPE([[[su.mul(su.GROUP_TYPE(su.dagger(aux[t, y, z])), u[t, t, y,z]) for z in range(N)] for y in range(N)] for t in range(t_steps-1)])\n",
    "    r = su.GROUP_TYPE([[[su.mul(buffer1[t,y,z], v[t,y,z]) for z in range(N)] for y in range(N)] for t in range (t_steps-1)])\n",
    "    return r"
   ]
  },
  {
   "cell_type": "code",
   "execution_count": 22,
   "metadata": {},
   "outputs": [
    {
     "name": "stdout",
     "output_type": "stream",
     "text": [
      "(63, 128, 128, 9)\n"
     ]
    }
   ],
   "source": [
    "# We transform the minus link\n",
    "\n",
    "uminus_LC = act_minus_links(u_minus_temp, v_LC, v_LC_plus1)\n",
    "\n",
    "print(np.shape(uminus_LC))"
   ]
  },
  {
   "cell_type": "code",
   "execution_count": 23,
   "metadata": {},
   "outputs": [
    {
     "name": "stdout",
     "output_type": "stream",
     "text": [
      "[[ 1.00000000e+00-6.93889390e-17j  9.49934575e-15-1.13312137e-14j\n",
      "  -3.15719673e-15-2.03021684e-15j]\n",
      " [ 9.56613261e-15+1.14006027e-14j  1.00000000e+00+8.32667268e-17j\n",
      "  -2.88657986e-15+3.18013443e-15j]\n",
      " [-3.02535774e-15+1.81972493e-15j -3.05311332e-15-3.19189120e-15j\n",
      "   1.00000000e+00-5.78094473e-17j]]\n"
     ]
    }
   ],
   "source": [
    "# We plot U_- at one point of the axis to check that it is close to identity\n",
    "\n",
    "uminus_LC_r = uminus_LC.reshape((t_steps-1, N, N, 3, 3))\n",
    "print(uminus_LC_r[t_steps//2, N//2, N//2, :, :])"
   ]
  },
  {
   "cell_type": "markdown",
   "metadata": {},
   "source": [
    "The gauge links in minus direction are indeed transformed to the identity. Much closer to 1 that $U_+$ links"
   ]
  },
  {
   "cell_type": "markdown",
   "metadata": {},
   "source": [
    "# Step 4"
   ]
  },
  {
   "cell_type": "markdown",
   "metadata": {},
   "source": [
    "### We plot the transformed links"
   ]
  },
  {
   "cell_type": "code",
   "execution_count": 24,
   "metadata": {},
   "outputs": [
    {
     "data": {
      "image/png": "[encoded data removed]",
      "text/plain": [
       "<Figure size 1500x3000 with 42 Axes>"
      ]
     },
     "metadata": {},
     "output_type": "display_data"
    }
   ],
   "source": [
    "import matplotlib.pyplot as plt \n",
    "\n",
    "y = N//2; z = N//2\n",
    "\n",
    "fig, axs = plt.subplots(t_steps//10 +1, 3, figsize=(15,30))\n",
    "\n",
    "for t in range(t_steps//10 + 1): \n",
    "    tau = 10*t\n",
    "    \n",
    "    plot1 = axs[t,0].imshow(uplus_LC_r[tau, y, z, :, :].real, cmap='turbo', vmin=-0.1, vmax=1) \n",
    "    axs[t,0].set_title(r'$U_+^{LC}; z=0; x^+ = %i $' %tau)\n",
    "    plt.colorbar(plot1, ax = axs[t,0])\n",
    "    axs[t,0].axes.get_xaxis().set_visible(False)\n",
    "    axs[t,0].axes.get_yaxis().set_visible(False)\n",
    "    \n",
    "    plot2 = axs[t,1].imshow(uplus_LC_r[tau, y, 0, :, :].real, cmap='turbo', vmin=-0.1, vmax=1) \n",
    "    axs[t,1].set_title(r'$U_+^{LC}; z=-L/2; x^+ = %i $' %tau)\n",
    "    plt.colorbar(plot1, ax = axs[t,1])\n",
    "    axs[t,1].axes.get_xaxis().set_visible(False)\n",
    "    axs[t,1].axes.get_yaxis().set_visible(False)\n",
    "    \n",
    "    plot3 = axs[t, 2].imshow(uminus_LC_r[tau, y, z, :, :].real, cmap='turbo', vmin=-0.1, vmax=1)\n",
    "    axs[t,2].set_title(r'$U_-^{LC}; x^+ = %i $' %tau)\n",
    "    plt.colorbar(plot3, ax = axs[t,2])\n",
    "    axs[t,2].axes.get_xaxis().set_visible(False)\n",
    "    axs[t,2].axes.get_yaxis().set_visible(False)"
   ]
  },
  {
   "cell_type": "code",
   "execution_count": 25,
   "metadata": {},
   "outputs": [
    {
     "name": "stderr",
     "output_type": "stream",
     "text": [
      "/home2/carlos.lamas/condacurraun/lib/python3.10/site-packages/numba/core/typed_passes.py:329: NumbaPerformanceWarning: \n",
      "The keyword argument 'parallel=True' was specified but no transformation for parallel execution was possible.\n",
      "\n",
      "To find out why, try turning on parallel diagnostics, see https://numba.readthedocs.io/en/stable/user/parallel.html#diagnostics for help.\n",
      "\n",
      "File \"../curraun/su3.py\", line 416:\n",
      "@myjit\n",
      "def dagger(a):\n",
      "^\n",
      "\n",
      "  warnings.warn(errors.NumbaPerformanceWarning(msg,\n",
      "OMP: Info #276: omp_set_nested routine deprecated, please use omp_set_max_active_levels instead.\n"
     ]
    },
    {
     "name": "stderr",
     "output_type": "stream",
     "text": [
      "/lustre/HQCD/carlos.lamas/curraun/curraun/su3.py:460: NumbaWarning: \n",
      "Compilation is falling back to object mode WITH looplifting enabled because Function \"sq\" failed type inference due to: No implementation of function Function(<built-in function iadd>) found for signature:\n",
      " \n",
      " >>> iadd(float64, array(float64, 2d, C))\n",
      " \n",
      "There are 16 candidate implementations:\n",
      "  - Of which 14 did not match due to:\n",
      "  Overload of function 'iadd': File: <numerous>: Line N/A.\n",
      "    With argument(s): '(float64, array(float64, 2d, C))':\n",
      "   No match.\n",
      "  - Of which 2 did not match due to:\n",
      "  Operator Overload in function 'iadd': File: unknown: Line unknown.\n",
      "    With argument(s): '(float64, array(float64, 2d, C))':\n",
      "   No match for registered cases:\n",
      "    * (int64, int64) -> int64\n",
      "    * (int64, uint64) -> int64\n",
      "    * (uint64, int64) -> int64\n",
      "    * (uint64, uint64) -> uint64\n",
      "    * (float32, float32) -> float32\n",
      "    * (float64, float64) -> float64\n",
      "    * (complex64, complex64) -> complex64\n",
      "    * (complex128, complex128) -> complex128\n",
      "\n",
      "During: typing of intrinsic-call at /lustre/HQCD/carlos.lamas/curraun/curraun/su3.py (482)\n",
      "\n",
      "File \"../curraun/su3.py\", line 482:\n",
      "def sq(a): # TODO: rename to tr_sq? or tr_abs_sq?\n",
      "    <source elided>\n",
      "    for i in range(9):\n",
      "        s += a[i].real * a[i].real + a[i].imag * a[i].imag\n",
      "        ^\n",
      "\n",
      "  @myjit\n",
      "/lustre/HQCD/carlos.lamas/curraun/curraun/su3.py:460: NumbaWarning: \n",
      "Compilation is falling back to object mode WITHOUT looplifting enabled because Function \"sq\" failed type inference due to: Cannot determine Numba type of <class 'numba.core.dispatcher.LiftedLoop'>\n",
      "\n",
      "File \"../curraun/su3.py\", line 481:\n",
      "def sq(a): # TODO: rename to tr_sq? or tr_abs_sq?\n",
      "    <source elided>\n",
      "    s = GROUP_TYPE_REAL(0)\n",
      "    for i in range(9):\n",
      "    ^\n",
      "\n",
      "  @myjit\n",
      "/home2/carlos.lamas/condacurraun/lib/python3.10/site-packages/numba/core/object_mode_passes.py:151: NumbaWarning: Function \"sq\" was compiled in object mode without forceobj=True, but has lifted loops.\n",
      "\n",
      "File \"../curraun/su3.py\", line 480:\n",
      "def sq(a): # TODO: rename to tr_sq? or tr_abs_sq?\n",
      "    <source elided>\n",
      "\n",
      "    s = GROUP_TYPE_REAL(0)\n",
      "    ^\n",
      "\n",
      "  warnings.warn(errors.NumbaWarning(warn_msg,\n",
      "/home2/carlos.lamas/condacurraun/lib/python3.10/site-packages/numba/core/object_mode_passes.py:161: NumbaDeprecationWarning: \n",
      "Fall-back from the nopython compilation path to the object mode compilation path has been detected, this is deprecated behaviour.\n",
      "\n",
      "For more information visit https://numba.readthedocs.io/en/stable/reference/deprecation.html#deprecation-of-object-mode-fall-back-behaviour-when-using-jit\n",
      "\n",
      "File \"../curraun/su3.py\", line 480:\n",
      "def sq(a): # TODO: rename to tr_sq? or tr_abs_sq?\n",
      "    <source elided>\n",
      "\n",
      "    s = GROUP_TYPE_REAL(0)\n",
      "    ^\n",
      "\n",
      "  warnings.warn(errors.NumbaDeprecationWarning(msg,\n",
      "/lustre/HQCD/carlos.lamas/curraun/curraun/su3.py:460: NumbaWarning: Code running in object mode won't allow parallel execution despite nogil=True.\n",
      "  @myjit\n",
      "/lustre/HQCD/carlos.lamas/curraun/curraun/su3.py:460: NumbaWarning: \n",
      "Compilation is falling back to object mode WITHOUT looplifting enabled because Function \"sq\" failed type inference due to: No implementation of function Function(<built-in function iadd>) found for signature:\n",
      " \n",
      " >>> iadd(float64, array(float64, 2d, C))\n",
      " \n",
      "There are 16 candidate implementations:\n",
      "    - Of which 14 did not match due to:\n",
      "    Overload of function 'iadd': File: <numerous>: Line N/A.\n",
      "      With argument(s): '(float64, array(float64, 2d, C))':\n",
      "     No match.\n",
      "    - Of which 2 did not match due to:\n",
      "    Operator Overload in function 'iadd': File: unknown: Line unknown.\n",
      "      With argument(s): '(float64, array(float64, 2d, C))':\n",
      "     No match for registered cases:\n",
      "      * (int64, int64) -> int64\n",
      "      * (int64, uint64) -> int64\n",
      "      * (uint64, int64) -> int64\n",
      "      * (uint64, uint64) -> uint64\n",
      "      * (float32, float32) -> float32\n",
      "      * (float64, float64) -> float64\n",
      "      * (complex64, complex64) -> complex64\n",
      "      * (complex128, complex128) -> complex128\n",
      "\n",
      "During: typing of intrinsic-call at /lustre/HQCD/carlos.lamas/curraun/curraun/su3.py (482)\n",
      "\n",
      "File \"../curraun/su3.py\", line 482:\n",
      "def sq(a): # TODO: rename to tr_sq? or tr_abs_sq?\n",
      "    <source elided>\n",
      "    for i in range(9):\n",
      "        s += a[i].real * a[i].real + a[i].imag * a[i].imag\n",
      "        ^\n",
      "\n",
      "  @myjit\n"
     ]
    },
    {
     "name": "stdout",
     "output_type": "stream",
     "text": [
      "[[ 23.92176409-8.66558256j   0.78810399-0.43073418j\n",
      "   -0.97740051-0.13416603j ...  -0.87258145+0.29526754j\n",
      "   -0.2119541 +0.3578259j  170.32582031+4.7650879j ]\n",
      " [ 23.92158283-8.66553834j   0.78810223-0.43070656j\n",
      "   -0.97754536-0.1342077j  ...  -0.87252387+0.29528877j\n",
      "   -0.21196044+0.35778194j 170.33006946+4.76512344j]\n",
      " [ 23.92140133-8.66549404j   0.78810047-0.43067893j\n",
      "   -0.97769022-0.13424939j ...  -0.87246623+0.29530994j\n",
      "   -0.21196677+0.35773797j 170.33431412+4.76515885j]\n",
      " ...\n",
      " [ 23.89718382-8.65934193j   0.78780394-0.42724679j\n",
      "   -0.99553318-0.1395329j  ...  -0.86486729+0.29750459j\n",
      "   -0.21266595+0.35230617j 170.82179753+4.76851548j]\n",
      " [ 23.89697161-8.65928622j   0.78780088-0.42721862j\n",
      "   -0.99567832-0.13957715j ...  -0.86480163+0.29751925j\n",
      "   -0.21267099+0.35226184j 170.82547679+4.76853459j]\n",
      " [ 23.89675915-8.65923042j   0.78779782-0.42719044j\n",
      "   -0.99582346-0.13962141j ...  -0.86473591+0.29753385j\n",
      "   -0.21267603+0.3522175j  170.82915143+4.76855357j]]\n",
      "[[ 8.67492288e+03-2268.4212781j  -3.13485242e+02 +665.21650055j\n",
      "   1.57944693e+03-3087.21540222j ...  8.89103484e+02+1307.30490677j\n",
      "  -5.33123418e+02 +193.34696149j  3.93875210e+03 +860.65505294j]\n",
      " [ 8.96137102e+03-2351.13101479j -3.22960140e+02 +675.65105288j\n",
      "   1.59933262e+03-3145.73616247j ...  9.04618908e+02+1330.46568611j\n",
      "  -5.44492816e+02 +199.68580514j  4.08011716e+03 +892.51617843j]\n",
      " [ 9.25902433e+03-2437.3322946j  -3.32805947e+02 +686.27222158j\n",
      "   1.61960543e+03-3205.99811671j ...  9.20613908e+02+1354.26115151j\n",
      "  -5.56237722e+02 +206.30802878j  4.22839550e+03 +925.96264387j]\n",
      " ...\n",
      " [ 5.11201517e+03-1859.85056107j -1.66428781e+01 -949.10896194j\n",
      "  -1.44160806e+03+3134.67181185j ... -5.67468109e+02-1534.78469091j\n",
      "   2.27484597e+02 -225.95839614j  4.75689972e+03+1174.6411239j ]\n",
      " [ 4.93690711e+03-1798.58453219j -1.04610235e+01 -933.49148369j\n",
      "  -1.40630406e+03+3080.75155276j ... -5.56845735e+02-1506.80837403j\n",
      "   2.22089854e+02 -228.2397489j   4.59680667e+03+1135.83056953j]\n",
      " [ 4.76944577e+03-1739.90318861j -4.60843040e+00 -918.23988322j\n",
      "  -1.37222076e+03+3028.23058803j ... -5.46501116e+02-1479.65136391j\n",
      "   2.16737690e+02 -230.37681022j  4.44402305e+03+1098.76995774j]]\n",
      "[[ 8.76366144e+14+2.28410839e+14j -1.76747790e+14+1.72692248e+14j\n",
      "   3.63453275e+13-3.06922809e+14j ... -2.64193987e+13+2.75026038e+14j\n",
      "  -1.93751628e+14-2.21053656e+14j  5.61641793e+15-7.18351579e+14j]\n",
      " [ 9.16670375e+14+2.37277552e+14j -1.81962124e+14+1.77656068e+14j\n",
      "   3.85125293e+13-3.13148153e+14j ... -2.53630031e+13+2.80953041e+14j\n",
      "  -1.99069030e+14-2.27985895e+14j  5.83046138e+15-7.44197899e+14j]\n",
      " [ 9.58848346e+14+2.46472806e+14j -1.87359455e+14+1.82773893e+14j\n",
      "   4.07654858e+13-3.19486753e+14j ... -2.42287991e+13+2.86999339e+14j\n",
      "  -2.04557418e+14-2.35176249e+14j  6.01613397e+15-7.66262818e+14j]\n",
      " ...\n",
      " [ 1.85125002e+14+2.32131655e+13j -4.07850033e+14-5.34627142e+14j\n",
      "  -9.66876697e+13+1.28770916e+14j ... -5.90900993e+13-9.89894521e+13j\n",
      "   9.59945634e+13+4.05046107e+14j  1.73144811e+14-1.26968143e+13j]\n",
      " [ 1.77059460e+14+2.22124051e+13j -3.98884269e+14-5.17459041e+14j\n",
      "  -9.40161275e+13+1.24855456e+14j ... -5.76416381e+13-9.61008705e+13j\n",
      "   9.26286451e+13+3.93870891e+14j  1.66146993e+14-1.21586952e+13j]\n",
      " [ 1.69454508e+14+2.12693830e+13j -3.90037871e+14-5.00834845e+14j\n",
      "  -9.14344040e+13+1.21086198e+14j ... -5.62339621e+13-9.33154380e+13j\n",
      "   8.93888532e+13+3.83020784e+14j  1.59515493e+14-1.16499646e+13j]]\n",
      "[[ 6.01964317e+41-1.83406174e+42j -4.06445558e+41+6.18063293e+41j\n",
      "   9.81938568e+41+1.44781520e+42j ... -8.87162101e+40+1.11965639e+41j\n",
      "   7.12443652e+40-5.14619579e+40j -4.91196625e+40-2.17525142e+41j]\n",
      " [ 6.57354960e+41-2.01394646e+42j -4.32493268e+41+6.56068966e+41j\n",
      "   1.05369654e+42+1.55362530e+42j ... -9.46696143e+40+1.19851530e+41j\n",
      "   7.60797377e+40-5.47752903e+40j -5.31143113e+40-2.35646670e+41j]\n",
      " [ 7.18897972e+41-2.21498982e+42j -4.60161879e+41+6.96260589e+41j\n",
      "   1.13054354e+42+1.66694996e+42j ... -1.01003021e+41+1.28273431e+41j\n",
      "   8.12477231e+40-5.82985142e+40j -5.74580725e+40-2.55393883e+41j]\n",
      " ...\n",
      " [ 2.23389325e+40-1.36417302e+41j -1.06505998e+41-3.89994927e+41j\n",
      "  -1.01202610e+42-1.58873158e+42j ...  6.17731844e+40-9.99309380e+40j\n",
      "  -8.42619912e+39-5.67004021e+41j -1.05094996e+41-5.71251922e+41j]\n",
      " [ 2.09097140e+40-1.27623471e+41j -1.00363389e+41-3.65491564e+41j\n",
      "  -9.58170578e+41-1.50413887e+42j ...  5.84632706e+40-9.45938508e+40j\n",
      "  -6.98686500e+39-5.34399252e+41j -9.89853660e+40-5.38031815e+41j]\n",
      " [ 1.95772399e+40-1.19431674e+41j -9.45651655e+40-3.42569204e+41j\n",
      "  -9.07245566e+41-1.42415624e+42j ...  5.53334110e+40-8.95453382e+40j\n",
      "  -5.73765185e+39-5.03742980e+41j -9.32705685e+40-5.06958789e+41j]]\n",
      "[[ 3.30126343e+69+1.25331720e+69j -2.89969127e+68+1.73921380e+68j\n",
      "  -1.96414836e+68+3.16613580e+67j ... -5.46521474e+67-4.56279403e+67j\n",
      "   1.31077187e+67-2.72304541e+66j  1.55544771e+66+4.09127156e+65j]\n",
      " [ 3.53156614e+69+1.33150590e+69j -3.02926304e+68+1.81034040e+68j\n",
      "  -2.08102360e+68+3.36359922e+67j ... -5.77124397e+67-4.80102480e+67j\n",
      "   1.38712247e+67-2.85015961e+66j  1.67038353e+66+4.40161550e+65j]\n",
      " [ 3.78184416e+69+1.41584822e+69j -3.16437497e+68+1.88394497e+68j\n",
      "  -2.20470761e+68+3.57309686e+67j ... -6.09418559e+67-5.05143144e+67j\n",
      "   1.46799221e+67-2.98145117e+66j  1.79474775e+66+4.73791290e+65j]\n",
      " ...\n",
      " [ 7.66456292e+66+1.30989732e+66j  4.38474878e+66-7.15002428e+66j\n",
      "   4.44352305e+67-6.36218944e+66j ...  8.55281067e+66+6.03547362e+66j\n",
      "   7.73449465e+66-5.29419856e+66j  1.20523037e+67+3.72380825e+66j]\n",
      " [ 6.92824131e+66+1.18438216e+66j  3.97287070e+66-6.47625552e+66j\n",
      "   4.09013474e+67-5.85851725e+66j ...  7.85587423e+66+5.54356558e+66j\n",
      "   7.11755975e+66-4.86951320e+66j  1.11740962e+67+3.45253526e+66j]\n",
      " [ 6.26358621e+66+1.07103039e+66j  3.59978793e+66-5.86622621e+66j\n",
      "   3.76425810e+67-5.39379973e+66j ...  7.21444767e+66+5.09086865e+66j\n",
      "   6.54886401e+66-4.47828979e+66j  1.03620021e+67+3.20167349e+66j]]\n",
      "[[ 3.54994987e+88+1.31486774e+88j -6.78111441e+87+6.73914454e+87j\n",
      "   2.22161658e+88+3.22374056e+88j ...  3.80805645e+88-2.34387581e+88j\n",
      "   5.51361626e+87+1.54035807e+88j  3.70299174e+88+2.32926226e+87j]\n",
      " [ 3.78125388e+88+1.40071174e+88j -7.25520092e+87+6.91558310e+87j\n",
      "   2.34813931e+88+3.40664996e+88j ...  4.02506783e+88-2.47729626e+88j\n",
      "   5.51683590e+87+1.62412659e+88j  3.90505615e+88+2.45470473e+87j]\n",
      " [ 4.02919627e+88+1.49274716e+88j -7.76350310e+87+7.08791711e+87j\n",
      "   2.48173652e+88+3.59972269e+88j ...  4.25426228e+88-2.61819324e+88j\n",
      "   5.48712361e+87+1.71223434e+88j  4.11885661e+88+2.58728705e+87j]\n",
      " ...\n",
      " [ 8.34104786e+86+3.07347040e+86j  1.05761749e+87-2.88787032e+87j\n",
      "  -2.58393662e+87-3.75120381e+87j ... -3.83331165e+87+2.31529240e+87j\n",
      "   9.17430519e+87+1.49042994e+88j  1.15439755e+88+8.20669356e+86j]\n",
      " [ 7.59734523e+86+2.79939668e+86j  9.64251289e+86-2.63143175e+87j\n",
      "  -2.35811806e+87-3.42330943e+87j ... -3.49802594e+87+2.11276559e+87j\n",
      "   8.36151746e+87+1.35838344e+88j  1.05308353e+88+7.48646114e+86j]\n",
      " [ 6.92057561e+86+2.54999420e+86j  8.79104832e+86-2.39780785e+87j\n",
      "  -2.15202866e+87-3.12406979e+87j ... -3.19205676e+87+1.92794886e+87j\n",
      "   7.62074226e+87+1.23804987e+88j  9.60808602e+87+6.83047521e+86j]]\n"
     ]
    },
    {
     "name": "stderr",
     "output_type": "stream",
     "text": [
      "/home2/carlos.lamas/condacurraun/lib/python3.10/site-packages/numba/core/object_mode_passes.py:151: NumbaWarning: Function \"sq\" was compiled in object mode without forceobj=True.\n",
      "\n",
      "File \"../curraun/su3.py\", line 481:\n",
      "def sq(a): # TODO: rename to tr_sq? or tr_abs_sq?\n",
      "    <source elided>\n",
      "    s = GROUP_TYPE_REAL(0)\n",
      "    for i in range(9):\n",
      "    ^\n",
      "\n",
      "  warnings.warn(errors.NumbaWarning(warn_msg,\n",
      "/home2/carlos.lamas/condacurraun/lib/python3.10/site-packages/numba/core/object_mode_passes.py:161: NumbaDeprecationWarning: \n",
      "Fall-back from the nopython compilation path to the object mode compilation path has been detected, this is deprecated behaviour.\n",
      "\n",
      "For more information visit https://numba.readthedocs.io/en/stable/reference/deprecation.html#deprecation-of-object-mode-fall-back-behaviour-when-using-jit\n",
      "\n",
      "File \"../curraun/su3.py\", line 481:\n",
      "def sq(a): # TODO: rename to tr_sq? or tr_abs_sq?\n",
      "    <source elided>\n",
      "    s = GROUP_TYPE_REAL(0)\n",
      "    for i in range(9):\n",
      "    ^\n",
      "\n",
      "  warnings.warn(errors.NumbaDeprecationWarning(msg,\n",
      "/lustre/HQCD/carlos.lamas/curraun/curraun/su3.py:460: NumbaWarning: Code running in object mode won't allow parallel execution despite nogil=True.\n",
      "  @myjit\n"
     ]
    }
   ],
   "source": [
    "for t in range (t_steps//10):\n",
    "\n",
    "    n = su.tr(np.array(su.mul(u_plus_temp[10*t, N//2, :], su.dagger(uplus_LC[10*t, N//2, :]))) - su.unit())\n",
    "    d = su.sq(u_plus_temp[10*t, N//2, :] - su.unit())\n",
    "\n",
    "    r = n/d\n",
    "    print(r)\n",
    "# plt.imshow(p.real, cmap='turbo', vmin=-0.1, vmax=1) \n"
   ]
  }
 ],
 "metadata": {
  "kernelspec": {
   "display_name": "Python 3",
   "language": "python",
   "name": "python3"
  },
  "language_info": {
   "codemirror_mode": {
    "name": "ipython",
    "version": 3
   },
   "file_extension": ".py",
   "mimetype": "text/x-python",
   "name": "python",
   "nbconvert_exporter": "python",
   "pygments_lexer": "ipython3",
   "version": "3.6.8"
  }
 },
 "nbformat": 4,
 "nbformat_minor": 2
}
