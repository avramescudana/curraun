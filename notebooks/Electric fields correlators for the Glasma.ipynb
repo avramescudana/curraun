{
 "cells": [
  {
   "cell_type": "markdown",
   "source": [
    "# **Correlators of the color electric fields in the Glasma**"
   ],
   "metadata": {}
  },
  {
   "cell_type": "markdown",
   "source": [
    "Electric fields correlators of the Glasma $\\langle E(\\tau_\\mathrm{form})E(\\tau)\\rangle$, as a function of proper time $\\tau$, evaluated starting from a formation time $\\tau_{\\mathrm{form}}$, averaged over the transverse simulation plane where the fields reside. In this example, the choice for the saturation scale $Q_s$ is suitable for a $\\mathrm{Pb}\\text{-}\\mathrm{Pb}$ collision at LHC energy $\\sqrt{s}=5.02\\,\\mathrm{TeV}$."
   ],
   "metadata": {}
  },
  {
   "cell_type": "markdown",
   "source": [
    "Import all the necessary modules and packages."
   ],
   "metadata": {}
  },
  {
   "cell_type": "code",
   "execution_count": 1,
   "source": [
    "# Set environment variables \n",
    "import os\n",
    "os.environ[\"MY_NUMBA_TARGET\"] = \"cuda\"\n",
    "os.environ[\"GAUGE_GROUP\"] = \"su3\"\n",
    "os.environ[\"PRECISION\"] = \"double\"\n",
    "\n",
    "# Import curraun and other packages\n",
    "import sys\n",
    "sys.path.append('..')\n",
    "\n",
    "import curraun.core as core\n",
    "import curraun.mv as mv\n",
    "import curraun.initial as initial\n",
    "initial.DEBUG = False\n",
    "from curraun.electric_fields import ElectricFields\n",
    "from curraun.electric_fields_correlators import ElectricFieldsCorrelators\n",
    "\n",
    "from curraun.numba_target import use_cuda, use_numba\n",
    "if use_cuda:\n",
    "    from numba import cuda\n",
    "\n",
    "import numpy as np\n",
    "import pickle\n",
    "from tqdm.notebook import tqdm"
   ],
   "outputs": [
    {
     "output_type": "stream",
     "name": "stdout",
     "text": [
      "Using CUDA\n",
      "Using SU(3)\n",
      "Using double precision\n",
      "Using double precision\n"
     ]
    }
   ],
   "metadata": {}
  },
  {
   "cell_type": "markdown",
   "source": [
    "Simulation routine for a single event, where all the parameters are stored in a dictionary."
   ],
   "metadata": {}
  },
  {
   "cell_type": "code",
   "execution_count": 2,
   "source": [
    "# Define hbar*c [GeV*fm]\n",
    "hbarc = 0.197326 \n",
    "\n",
    "def simulate(p):    \n",
    "    # Derived parameters\n",
    "    a = p['L'] / p['N']\n",
    "    E0 = p['N'] / p['L'] * hbarc\n",
    "    p['E0'] = E0\n",
    "    DT = 1.0 / p['DTS']\n",
    "    maxt = int(p['TMAX'] / a) * p['DTS']\n",
    "    formt = int(p['TFORM'] / a) * p['DTS']\n",
    "\n",
    "    s = core.Simulation(p['N'], DT, p['G'])\n",
    "    va = mv.wilson(s, mu=p['MU'] / E0, m=p['M'] / E0, uv=p['UV'] / E0, num_sheets=p['NS'])\n",
    "    vb = mv.wilson(s, mu=p['MU'] / E0, m=p['M'] / E0, uv=p['UV'] / E0, num_sheets=p['NS'])\n",
    "    initial.init(s, va, vb)\n",
    "\n",
    "    elfields = ElectricFields(s)\n",
    "    elfieldscorr = ElectricFieldsCorrelators(s)\n",
    "\n",
    "    if use_cuda:\n",
    "        s.copy_to_device()\n",
    "\n",
    "    tau = []\n",
    "    corr_ex, corr_ey, corr_ez  = [], [], []\n",
    "\n",
    "    for t in range(maxt):\n",
    "        core.evolve_leapfrog(s)\n",
    "\n",
    "        if t==formt:  \n",
    "            elfields = elfields.compute()\n",
    "            Exform, Eyform, Ezform = elfields[:, 0], elfields[:, 1], elfields[:, 2]\n",
    "\n",
    "        elif t>=formt:\n",
    "            ExformEx, EyformEy, EzformEz = elfieldscorr.compute(Exform, Eyform, Ezform)\n",
    "            # Fields correlator units [GeV / fm^3]\n",
    "            units = E0 ** 4 / hbarc ** 3\n",
    "            corr_ex.append(ExformEx * units)\n",
    "            corr_ey.append(EyformEy * units)\n",
    "            corr_ez.append(EzformEz * units)\n",
    "\n",
    "            current_tau = t / p['DTS'] * a\n",
    "            tau.append(current_tau)\n",
    "\n",
    "    if use_cuda:\n",
    "        s.copy_to_host()\n",
    "        \n",
    "    return p, s, tau, corr_ex, corr_ey, corr_ez"
   ],
   "outputs": [],
   "metadata": {}
  },
  {
   "cell_type": "markdown",
   "source": [
    "Parameters used in the simulation."
   ],
   "metadata": {}
  },
  {
   "cell_type": "code",
   "execution_count": 3,
   "source": [
    "# Number of color sheets\n",
    "ns = 50\n",
    "# Ratio Qs/g^2\\mu\n",
    "factor = 0.8\n",
    "# Mass number for Pb\n",
    "A = 207\n",
    "# Center-of-mass energy for Pb-Pb at 5.02 TeV [GeV]\n",
    "sqrts = 5020\n",
    "# Saturation scale [GeV]\n",
    "Qs = np.sqrt(0.13 * A**(1/3) * sqrts**0.25)\t\t\n",
    "# Running coupling constant\n",
    "g = np.pi * np.sqrt(1 / np.log(Qs / 0.2))\t\t\n",
    "# MV model parameter [GeV]\n",
    "mu = Qs / (g**2 * factor)\t\n",
    "# Infrared regulator [GeV]\n",
    "m = 0.1 * g**2 * mu   \n",
    "\n",
    "# Formation times [GeV/fm]\n",
    "taus_form = [0, 0.05, 0.1]\n",
    "# Simulation time [GeV/fm]\n",
    "tau_s = 0.3\n",
    "\n",
    "# Length of simulation box [fm]\n",
    "L = 15\n",
    "# Number of discretization points\n",
    "N = 1024\n",
    "# Numerical time interval\n",
    "DTS = 16\n",
    "# Number of events\n",
    "n_events = 20"
   ],
   "outputs": [],
   "metadata": {}
  },
  {
   "cell_type": "markdown",
   "source": [
    "Running the simulation for multiple events and various values of formation times."
   ],
   "metadata": {}
  },
  {
   "cell_type": "code",
   "execution_count": 4,
   "source": [
    "for tau_form in taus_form:\n",
    "    print(\"Formation time = {:1.2f} [GeV/fm]\".format(tau_form))\n",
    "\n",
    "    all_corr_ex, all_corr_ey, all_corr_ez = [], [], []\n",
    "\n",
    "    # Standard MV model paramaters\n",
    "    p = {\n",
    "        # Parameters for simulation box\n",
    "        'L':    L,           # transverse size [fm]\n",
    "        'N':    N,            # lattice size\n",
    "        'DTS':  DTS,             # time steps per transverse spacing\n",
    "        'TMAX': tau_s,          # max. proper time (tau) [fm/c]\n",
    "        'TFORM': tau_form,       # formation time of the HQ [fm/c]\n",
    "\n",
    "        # Parameters for MV model\n",
    "        'G':    g,            # YM coupling constant\n",
    "        'MU':   mu,             # MV model parameter [GeV]\n",
    "        'M':    m,              # IR regulator [GeV]\n",
    "        # 'UV':   10000.0,      # UV regulator [GeV]\n",
    "        'UV':   10.0, \n",
    "        'NS':   ns,             # number of color sheets\n",
    "    }\n",
    "\n",
    "    with tqdm(total=n_events, file=sys.stdout) as pbar:\n",
    "        for nev in range(0, n_events):\n",
    "            p, s, tau, mean_corr_ex, mean_corr_ey, mean_corr_ez = simulate(p)\n",
    "\n",
    "            all_corr_ex.append(mean_corr_ex)\n",
    "            all_corr_ey.append(mean_corr_ey)\n",
    "            all_corr_ez.append(mean_corr_ez)\n",
    "\n",
    "            pbar.set_description('Event {} / {}'.format(nev+1, n_events))\n",
    "            pbar.update(1)\n",
    "\n",
    "    avg_corr_ex, avg_corr_ey, avg_corr_ez = np.mean(all_corr_ex, axis = 0), np.mean(all_corr_ey, axis = 0), np.mean(all_corr_ez, axis = 0)\n",
    "    std_corr_ex, std_corr_ey, std_corr_ez = np.std(all_corr_ex, axis = 0), np.std(all_corr_ey, axis = 0), np.std(all_corr_ez, axis = 0)\n",
    "\n",
    "    output = {}\n",
    "    output[\"avg_corr_ex\"], output[\"std_corr_ex\"] = avg_corr_ex, std_corr_ex\n",
    "    output[\"avg_corr_ey\"], output[\"std_corr_ey\"] = avg_corr_ey, std_corr_ey\n",
    "    output[\"avg_corr_ez\"], output[\"std_corr_ez\"] = avg_corr_ez, std_corr_ez\n",
    "\n",
    "    fname = \"./elfieldscorr_tauform_{:1.2f}.pickle\".format(tau_form)\n",
    "    pickle.dump(output, open(fname, \"wb\"))\n",
    "    # print(\"Output: {}\".format(fname))"
   ],
   "outputs": [
    {
     "output_type": "stream",
     "name": "stdout",
     "text": [
      "Formation time = 0.00 [GeV/fm]\n"
     ]
    },
    {
     "output_type": "display_data",
     "data": {
      "text/plain": [
       "  0%|          | 0/20 [00:00<?, ?it/s]"
      ],
      "application/vnd.jupyter.widget-view+json": {
       "version_major": 2,
       "version_minor": 0,
       "model_id": "4aa47c8a3886409f8ae4dc9581c889c1"
      }
     },
     "metadata": {}
    },
    {
     "output_type": "stream",
     "name": "stdout",
     "text": [
      "Formation time = 0.05 [GeV/fm]\n"
     ]
    },
    {
     "output_type": "display_data",
     "data": {
      "text/plain": [
       "  0%|          | 0/20 [00:00<?, ?it/s]"
      ],
      "application/vnd.jupyter.widget-view+json": {
       "version_major": 2,
       "version_minor": 0,
       "model_id": "6c15ef7cc5484278b1b174964a847a2a"
      }
     },
     "metadata": {}
    },
    {
     "output_type": "stream",
     "name": "stdout",
     "text": [
      "Formation time = 0.10 [GeV/fm]\n"
     ]
    },
    {
     "output_type": "display_data",
     "data": {
      "text/plain": [
       "  0%|          | 0/20 [00:00<?, ?it/s]"
      ],
      "application/vnd.jupyter.widget-view+json": {
       "version_major": 2,
       "version_minor": 0,
       "model_id": "9750a4adc0134de096e7b9f2fe67d569"
      }
     },
     "metadata": {}
    }
   ],
   "metadata": {}
  },
  {
   "cell_type": "markdown",
   "source": [
    "Read data from files."
   ],
   "metadata": {}
  },
  {
   "cell_type": "code",
   "execution_count": 5,
   "source": [
    "taus_form = [0, 0.05, 0.1]\n",
    "fnames = [\"elfieldscorr_tauform_{:1.2f}.pickle\".format(tau_form) for tau_form in taus_form]\n",
    "ress = []\n",
    "for fname in fnames:\n",
    "    res = pickle.load(open(\"./{}\".format(fname), \"rb\"))\n",
    "    ress.append(res)"
   ],
   "outputs": [],
   "metadata": {}
  },
  {
   "cell_type": "markdown",
   "source": [
    "Various commands for plotting. Extract the decay time for the correlator evaluated since $\\tau_\\mathrm{form}=0\\,\\mathrm{[GeV/fm]}$, which yields $\\tau_\\mathrm{decay}\\approx 0.04\\,\\mathrm{[GeV/fm]}$."
   ],
   "metadata": {}
  },
  {
   "cell_type": "code",
   "execution_count": 6,
   "source": [
    "# Hide a warning from scipy.optimize\n",
    "import warnings\n",
    "warnings.filterwarnings('ignore')\n",
    "\n",
    "import matplotlib.pyplot as plt\n",
    "from matplotlib import rc\n",
    "import scipy.optimize as opt\n",
    "\n",
    "plt.rcParams['text.usetex'] = True\n",
    "plt.rcParams[\"figure.figsize\"] = (9, 6)\n",
    "plt.rcParams.update({'font.size':13})\n",
    "\n",
    "plt.figure()\n",
    "plt.title(r'$\\mathrm{Pb+Pb\\,\\,5.02\\,\\,TeV}$', size = 18)\n",
    "plt.xlabel(r'$\\tau\\,\\mathrm{[fm/c]}$', size = 18)\n",
    "plt.ylabel(r'$\\Big\\langle E(\\tau_\\mathrm{form})E(\\tau)\\Big\\rangle\\,\\mathrm{[GeV/fm^3]}$', size = 18)\n",
    "\n",
    "ax = plt.gca()\n",
    "ax.spines[\"top\"].set_visible(False)\n",
    "ax.spines[\"right\"].set_visible(False)\n",
    "ax.spines['bottom'].set_color('gray')\n",
    "ax.spines['left'].set_color('gray') \n",
    "ax.tick_params(direction='in', grid_color='gray', grid_alpha=0.5)\n",
    "# ax.tick_params(direction='in', colors='gray',grid_color='gray', grid_alpha=0.5)\n",
    "plt.grid(color = 'gray', linestyle = '-', linewidth = 1, alpha=0.2)\n",
    "\n",
    "colors = ['#8FBCBB', '#A3BE8C', '#B48EAD']\n",
    "tau_labels = [r'$0$', r'$0.05$', r'$0.1$']\n",
    "\n",
    "taus_decay = []\n",
    "for i, r in enumerate(ress):\n",
    "\n",
    "    avg_corr = r[\"avg_corr_ex\"] + r[\"avg_corr_ey\"] + r[\"avg_corr_ez\"]\n",
    "    std_corr = r[\"std_corr_ex\"] + r[\"std_corr_ey\"] + r[\"std_corr_ez\"]\n",
    "    a = L/N\n",
    "    maxt = int(tau_s / a) * DTS\n",
    "    formt = int(taus_form[i] / a) * DTS\n",
    "    tau = np.linspace(taus_form[i], tau_s, maxt-formt-1)\n",
    "\n",
    "    plt.plot(tau, avg_corr, '-', color = colors[i], markersize = 0, linewidth = 2.5, label = tau_labels[i])\n",
    "    # plt.fill_between(tau, avg_corr-std_corr, avg_corr+std_corr, color = colors[i], alpha=0.2)\n",
    "    plt.fill_between(tau, avg_corr, color = colors[i], alpha=0.2)\n",
    "\n",
    "    def func(tau, corr, tau_decay, const):\n",
    "        return corr*np.exp(tau*tau_decay) + const\n",
    "\n",
    "    popt, pcov = opt.curve_fit(func, tau, avg_corr)\n",
    "    corr, tau_decay, const = popt\n",
    "    taus_decay.append(-1/tau_decay)\n",
    "\n",
    "textstr = '\\n'.join((\n",
    "    r'$\\mathrm{Parameters}$',\n",
    "    r'$g^2\\mu=%.2f\\,\\mathrm{[GeV]}$' % (g*g*mu, ),\n",
    "    r'$Q_s=%.2f\\,\\mathrm{[GeV]}$' % (Qs, ),\n",
    "    r'$m=0.1\\,g^2\\mu$',\n",
    "    r'$N_\\mathrm{sheets}=50$',\n",
    "    '',\n",
    "    r'$\\mathrm{Decay\\,time}$',\n",
    "    r'$\\tau_\\mathrm{decay}=%.2f\\,\\mathrm{[fm/c]}$' % (taus_decay[0], )))\n",
    "props = dict(boxstyle='square', facecolor='white', alpha=0.7, edgecolor='silver', pad=0.5)\n",
    "ax.text(0.74, 0.957, textstr, transform=ax.transAxes, fontsize=16, verticalalignment='top', bbox=props)\n",
    "\n",
    "leg = ax.legend(fontsize = 16, loc = 'upper center', bbox_to_anchor=(0.62,0.985))\n",
    "leg.get_frame().set_boxstyle('square')\n",
    "leg.set_title(r'$\\tau_\\mathrm{form}\\,\\mathrm{[fm/c]}$',prop={'size':18})\n",
    "plt.tight_layout()\n",
    "\n",
    "plt.show()"
   ],
   "outputs": [
    {
     "output_type": "display_data",
     "data": {
      "text/plain": [
       "<Figure size 648x432 with 1 Axes>"
      ],
      "image/png": "[encoded data removed]"
     },
     "metadata": {
      "needs_background": "light"
     }
    }
   ],
   "metadata": {}
  },
  {
   "cell_type": "code",
   "execution_count": null,
   "source": [],
   "outputs": [],
   "metadata": {}
  }
 ],
 "metadata": {
  "interpreter": {
   "hash": "66b31cdbddf669999fcb207de0f85b9a136e33c1dd522229764e55c1583da068"
  },
  "kernelspec": {
   "display_name": "Python 3.6.13 64-bit ('curraun': conda)",
   "name": "python3"
  },
  "language_info": {
   "codemirror_mode": {
    "name": "ipython",
    "version": 3
   },
   "file_extension": ".py",
   "mimetype": "text/x-python",
   "name": "python",
   "nbconvert_exporter": "python",
   "pygments_lexer": "ipython3",
   "version": "3.6.13"
  },
  "orig_nbformat": 4
 },
 "nbformat": 4,
 "nbformat_minor": 2
}