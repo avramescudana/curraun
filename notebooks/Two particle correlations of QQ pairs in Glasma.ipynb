{
 "cells": [
  {
   "cell_type": "code",
   "execution_count": 1,
   "metadata": {},
   "outputs": [],
   "source": [
    "from numba.core.errors import NumbaPerformanceWarning\n",
    "import warnings\n",
    "\n",
    "warnings.simplefilter('ignore', category=NumbaPerformanceWarning)"
   ]
  },
  {
   "cell_type": "markdown",
   "metadata": {},
   "source": [
    "# Version 1: simple toy model\n",
    "All pairs are produced randomly in the transverse plane, back-to-back, with periodic boundary conditions."
   ]
  },
  {
   "cell_type": "markdown",
   "metadata": {},
   "source": [
    "### Default simulation parameters for the Glasma and the Wong solvers"
   ]
  },
  {
   "cell_type": "code",
   "execution_count": 2,
   "metadata": {},
   "outputs": [],
   "source": [
    "import numpy as np\n",
    "\n",
    "# hbar * c [GeV * fm]\n",
    "hbarc = 0.197326 \n",
    "\n",
    "# Simulation box \n",
    "L = 10      \n",
    "N = 512    \n",
    "tau_sim = 1.0     \n",
    "DTS = 8     \n",
    "\n",
    "# Glasma for Pb-Pb at 5.02 TeV\n",
    "su_group = 'su3'\n",
    "A = 207     \n",
    "sqrts = 5020        \n",
    "ns = 50     \n",
    "factor = 0.8        \n",
    "Qs = np.sqrt(0.13 * A**(1/3) * sqrts**0.25)        \n",
    "g = np.pi * np.sqrt(1 / np.log(Qs / 0.2))          \n",
    "mu = Qs / (g**2 * factor)          \t\n",
    "ir = 0.1 * g**2 * mu         \n",
    "uv = 10.0                     \n",
    "\n",
    "# Wong\n",
    "quark = 'jet'    \n",
    "mass = 1      \n",
    "# tau_form = 1/(2*mass)*hbarc\n",
    "tau_form = 0\n",
    "initialization = 'toy'         \n",
    "pT = 100    \n",
    "ntp = 10*5  \n",
    "nevents = 1    \n",
    "representation = 'fundamental'      \n",
    "boundary = 'periodic'       \n",
    "\n",
    "# Results folder\n",
    "folder = quark + '_pT_' + str(pT)       \n",
    "\n",
    "# Store relevant parameters in a dictionary\n",
    "p = {\n",
    "    'QUARK': quark,\n",
    "    'MASS': mass,           \n",
    "    'TFORM': tau_form,   \n",
    "    'NTP':  ntp,    \n",
    "    'PT': pT,          \n",
    "    'FOLDER': folder,         \n",
    "    }"
   ]
  },
  {
   "cell_type": "markdown",
   "metadata": {},
   "source": [
    "### Set environment variables"
   ]
  },
  {
   "cell_type": "code",
   "execution_count": 3,
   "metadata": {},
   "outputs": [
    {
     "name": "stdout",
     "output_type": "stream",
     "text": [
      "Using CUDA\n",
      "Using SU(3)\n",
      "Using double precision\n",
      "Using double precision\n"
     ]
    }
   ],
   "source": [
    "import os\n",
    "os.environ[\"MY_NUMBA_TARGET\"] = \"cuda\"\n",
    "os.environ[\"PRECISION\"] = \"double\"\n",
    "os.environ[\"GAUGE_GROUP\"] = su_group\n",
    "\n",
    "# Import relevant modules\n",
    "import sys\n",
    "sys.path.append('..')\n",
    "\n",
    "# Glasma modules\n",
    "import curraun.core as core\n",
    "import curraun.mv as mv\n",
    "import curraun.initial as initial\n",
    "initial.DEBUG = False\n",
    "\n",
    "import curraun.su as su\n",
    "from curraun.numba_target import use_cuda\n",
    "if use_cuda:\n",
    "    from numba import cuda\n",
    "\n",
    "# Wong modules\n",
    "from curraun import wong\n",
    "wong.BOUNDARY = boundary\n",
    "wong.WONG_TO_HOST = True\n",
    "from curraun.wong import init_pos, init_charge, init_mom_toy\n",
    "# init_mom_fonll\n",
    "from curraun.particles_correlators import Angles"
   ]
  },
  {
   "cell_type": "markdown",
   "metadata": {},
   "source": [
    "### Simulation routine for evolving the Glasma & solving Wong's equations\n",
    "Quark and antiquark pair initialized at the same position, with opposite momenta and random charge. Momenta $(p^\\tau, p^x,p^y,p^\\eta, p^z)$ "
   ]
  },
  {
   "cell_type": "code",
   "execution_count": 4,
   "metadata": {},
   "outputs": [],
   "source": [
    "import pickle\n",
    "from tqdm import tqdm\n",
    "\n",
    "current_path = os.getcwd() \n",
    "results_folder = 'results'\n",
    "if not os.path.isdir(results_folder):\n",
    "    os.makedirs(results_folder)\n",
    "results_path = current_path + '/' + results_folder + '/'\n",
    "\n",
    "def simulate(p, ev): \n",
    "    os.chdir(results_path)\n",
    "\n",
    "    output = {}\n",
    "    output['parameters'] = p.copy()\n",
    "\n",
    "    # Derived parameters\n",
    "    a = L/N\n",
    "    E0 = N/L * hbarc\n",
    "    DT = 1.0 / DTS\n",
    "    formt = int(p['TFORM'] / a * DTS)\n",
    "    maxt = int(tau_sim / a * DTS)\n",
    "\n",
    "    # Initialize Glasma fields\n",
    "    s = core.Simulation(N, DT, g)\n",
    "    va = mv.wilson(s, mu=mu / E0, m=ir / E0, uv=uv / E0, num_sheets=ns)\n",
    "    vb = mv.wilson(s, mu=mu / E0, m=ir / E0, uv=uv / E0, num_sheets=ns)\n",
    "    initial.init(s, va, vb)\n",
    "\n",
    "    # if initialization=='fonll':\n",
    "    #     pTs_fonll, ntp_fonll = init_mom_fonll(p)\n",
    "    #     ntp = ntp_fonll\n",
    "\n",
    "    if initialization=='toy':\n",
    "        pT = p['PT'] / E0\n",
    "        ntp = p['NTP']\n",
    "\n",
    "    # Initialize the Wong solver\n",
    "    wong_solver_q = wong.WongSolver(s, ntp)\n",
    "    wong_solver_aq = wong.WongSolver(s, ntp)\n",
    "    x0s_q, p0s_q, q0s_q = np.zeros((ntp, 3)), np.zeros((ntp, 5)), np.zeros((ntp, su.ALGEBRA_ELEMENTS))\n",
    "    x0s_aq, p0s_aq, q0s_aq = np.zeros((ntp, 3)), np.zeros((ntp, 5)), np.zeros((ntp, su.ALGEBRA_ELEMENTS))\n",
    "    masses = mass / E0 * np.ones(ntp)\n",
    "\n",
    "    for i in range(ntp):\n",
    "        if initialization=='toy':\n",
    "            p0_q = init_mom_toy('pT', pT / E0)            \n",
    "        # elif initialization=='fonll':\n",
    "        #     pT_q = pTs_fonll[i] / E0\n",
    "        #     p0_q = init_mom_toy('pT', pT_q / E0)\n",
    "        p0_aq = [-p for p in p0_q]\n",
    "        p0s_q[i, :], p0s_aq[i, :] = np.array(p0_q, dtype=object), np.array(p0_aq, dtype=object)\n",
    "\n",
    "        x0_q, q0_q = init_pos(s.n), init_charge(representation)\n",
    "        x0s_q[i, :], q0s_q[i, :] = x0_q, q0_q\n",
    "        x0_aq, q0_aq = x0_q, init_charge(representation)\n",
    "        x0s_aq[i, :], q0s_aq[i, :] = x0_aq, q0_aq\n",
    "    \n",
    "    wong_solver_q.initialize(x0s_q, p0s_q, q0s_q, masses)\n",
    "    wong_solver_aq.initialize(x0s_aq, p0s_aq, q0s_aq, masses)\n",
    "\n",
    "    # p_q, p_aq = np.zeros((maxt-formt, ntp, 5)), np.zeros((maxt-formt, ntp, 5))\n",
    "    # active_q, active_aq = np.zeros((maxt-formt, ntp)), np.zeros((maxt-formt, ntp))\n",
    "    qqbar_angle = Angles(wong_solver_q, wong_solver_aq, ntp)\n",
    "\n",
    "    deta, dphi = np.zeros((maxt-formt, ntp)), np.zeros((maxt-formt, ntp))\n",
    "    pTs = np.zeros((maxt-formt, ntp, 2))\n",
    "\n",
    "    with tqdm(total=maxt) as pbar:\n",
    "        for t in range(maxt):\n",
    "            # Evolve Glasma fields\n",
    "            core.evolve_leapfrog(s)\n",
    "\n",
    "            # Solve Wong's equations\n",
    "            if t>=formt:  \n",
    "                qqbar_angle.compute()\n",
    "                deta[t-formt] = qqbar_angle.deta.copy()\n",
    "                dphi[t-formt] = qqbar_angle.dphi.copy()\n",
    "                pTs[t-formt] = qqbar_angle.pT.copy() * E0\n",
    "                \n",
    "                wong_solver_q.evolve()\n",
    "                # pmu_q = wong_solver_q.p.copy()\n",
    "                # p_q[t-formt] = pmu_q\n",
    "                # active_q[t-formt] = wong_solver_q.active.copy()\n",
    "                # indices = np.argwhere(active_q[t-formt] == 0)\n",
    "\n",
    "                wong_solver_aq.evolve()\n",
    "                # pmu_aq = wong_solver_aq.p.copy()\n",
    "                # p_aq[t-formt] = pmu_aq\n",
    "                # active_aq[t-formt] = wong_solver_aq.active.copy()\n",
    "\n",
    "            pbar.set_description(\"Event \" + str(ev+1))\n",
    "            pbar.update(1)\n",
    "\n",
    "    # output['p_q'], output['p_aq'] = p_q, p_aq\n",
    "    # output['active_q'], output['active_aq'] = active_q, active_aq\n",
    "\n",
    "    tau = np.linspace(p['TFORM'], tau_sim, maxt-formt)\n",
    "    output['tau'] = tau\n",
    "    output['deta'], output['dphi'], output['pTs'] = deta, dphi, pTs\n",
    "\n",
    "    wong_folder = p['FOLDER']\n",
    "    if not os.path.isdir(wong_folder):\n",
    "        os.makedirs(wong_folder)\n",
    "    wong_path = results_path + '/' + wong_folder + '/'\n",
    "    os.chdir(wong_path)\n",
    "\n",
    "    filename = 'event_' + str(ev+1) + '.pickle'\n",
    "    with open(filename, 'wb') as handle:\n",
    "        pickle.dump(output, handle)\n",
    "    return output"
   ]
  },
  {
   "cell_type": "markdown",
   "metadata": {},
   "source": [
    "### Running the Wong solver over multiple Glasma events"
   ]
  },
  {
   "cell_type": "code",
   "execution_count": 5,
   "metadata": {},
   "outputs": [
    {
     "name": "stdout",
     "output_type": "stream",
     "text": [
      "Jet quark\n",
      "Transverse momentum 100 GeV\n"
     ]
    },
    {
     "name": "stderr",
     "output_type": "stream",
     "text": [
      "Event 1: 100%|██████████| 409/409 [04:07<00:00,  1.65it/s]\n"
     ]
    }
   ],
   "source": [
    "quarks = ['jet']\n",
    "quark_masses = [1]\n",
    "pTs = [100]\n",
    "formation_times = [0]\n",
    "\n",
    "for iq in range(len(quarks)):\n",
    "    print(quarks[iq].capitalize() + \" quark\")\n",
    "    p['QUARK'], p['MASS'] = quarks[iq], quark_masses[iq]\n",
    "    # p['TFORM'] = 1/(2*p['MASS'])*hbarc \n",
    "    p['TFORM'] = formation_times[iq]\n",
    "\n",
    "    for pT in pTs:\n",
    "        print('Transverse momentum', pT, 'GeV')\n",
    "        p['PT'] = pT\n",
    "        tag = quarks[iq] + '_pT_' + str(pT)\n",
    "        p['FOLDER'] = 'corr_toy_pT_' + str(pT) + '_' + quarks[iq] \n",
    "\n",
    "        for ev in range(nevents):\n",
    "            simulate(p, ev)"
   ]
  },
  {
   "cell_type": "code",
   "execution_count": null,
   "metadata": {},
   "outputs": [],
   "source": []
  }
 ],
 "metadata": {
  "kernelspec": {
   "display_name": "Python 3 (ipykernel)",
   "language": "python",
   "name": "python3"
  },
  "language_info": {
   "codemirror_mode": {
    "name": "ipython",
    "version": 3
   },
   "file_extension": ".py",
   "mimetype": "text/x-python",
   "name": "python",
   "nbconvert_exporter": "python",
   "pygments_lexer": "ipython3",
   "version": "3.9.13"
  }
 },
 "nbformat": 4,
 "nbformat_minor": 2
}
