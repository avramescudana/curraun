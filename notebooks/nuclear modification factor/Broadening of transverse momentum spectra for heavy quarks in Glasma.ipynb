{
 "cells": [
  {
   "cell_type": "code",
   "execution_count": 1,
   "metadata": {},
   "outputs": [],
   "source": [
    "import numpy as np\n",
    "\n",
    "# hbar * c [GeV * fm]\n",
    "hbarc = 0.197326 \n",
    "\n",
    "# Simulation box \n",
    "L = 10      \n",
    "N = 512 \n",
    "tau_sim = 1.0        \n",
    "# tau_sim = 0.6 \n",
    "# tau_sim = 0.3\n",
    "DTS = 8     \n",
    "\n",
    "# Glasma\n",
    "su_group = 'su3'\n",
    "Qs = 2.0     \n",
    "ns = 50      \n",
    "factor = 0.8        \n",
    "uv = 10.0 \n",
    "\n",
    "# Wong\n",
    "quark = 'charm'    \n",
    "mass = 1.275   \n",
    "tau_form = 1/(2*mass)*hbarc    \n",
    "\n",
    "# tau_sim += tau_form\n",
    "\n",
    "initialization = 'pT'         \n",
    "ntp = 10**5 \n",
    "\n",
    "# From trials, 1-2 events with 10^5 particles is enough to get a good estimate of the pT distribution\n",
    "nevents = 1\n",
    "\n",
    "representation = 'fundamental' \n",
    "boundary = 'periodic'  \n",
    "form_time = 'm'\n",
    "\n",
    "# pTs = [0, 0.5, 1, 5]\n",
    "# binning = 'pT2'\n",
    "binning = 'pT'\n",
    "npTbins = 10\n",
    "pTmax = 9\n",
    "if binning=='pT':\n",
    "    pTbins = np.linspace(0, pTmax, npTbins)\n",
    "elif binning=='pT2':\n",
    "    pTbins = np.linspace(0, pTmax**2, npTbins)\n",
    "deltapTbin = pTbins[1] - pTbins[0]\n",
    "\n",
    "# Store relevant parameters in a dictionary\n",
    "p = {\n",
    "    'QUARK': quark,\n",
    "    'MASS': mass,   \n",
    "    'TFORM': tau_form,\n",
    "    'TSIM': tau_sim,\n",
    "    'QS': Qs,            \n",
    "    'NEVENTS': nevents,\n",
    "    'NTP': ntp,   \n",
    "    'PTS': pTbins,\n",
    "    'NPTBINS': npTbins,\n",
    "    'PTMAX': pTmax,\n",
    "    'REPR': representation,\n",
    "    'SUGROUP': su_group,\n",
    "    'FORMTIME': form_time,\n",
    "    'BINNING': binning,\n",
    "    }"
   ]
  },
  {
   "cell_type": "code",
   "execution_count": 2,
   "metadata": {},
   "outputs": [],
   "source": [
    "# rest of parameters  \n",
    "g2mu = p[\"QS\"] / factor     \n",
    "g = np.pi * np.sqrt(1 / np.log(p[\"QS\"] / 0.2))          \t\t\n",
    "mu = g2mu / g**2          \t\n",
    "ir = 0.1 * g2mu     \n",
    "\n",
    "tau_form = 1/(2*p[\"MASS\"])*hbarc\n",
    "tau_sim += tau_form\n",
    "\n",
    "if representation == 'quantum fundamental':\n",
    "    repr_name = 'qfund'\n",
    "elif representation == 'fundamental':\n",
    "    repr_name = 'fund'\n",
    "elif representation == 'adjoint':\n",
    "    repr_name = 'adj'\n",
    "elif representation == 'test':\n",
    "    repr_name = 'test'"
   ]
  },
  {
   "cell_type": "code",
   "execution_count": 3,
   "metadata": {},
   "outputs": [
    {
     "name": "stdout",
     "output_type": "stream",
     "text": [
      "Using CUDA\n",
      "Using SU(3)\n",
      "Using double precision\n",
      "Using double precision\n"
     ]
    }
   ],
   "source": [
    "import os\n",
    "\n",
    "os.environ[\"CUDA_VISIBLE_DEVICES\"]=\"2,3\"\n",
    "\n",
    "os.environ[\"MY_NUMBA_TARGET\"] = \"cuda\"\n",
    "os.environ[\"PRECISION\"] = \"double\"\n",
    "os.environ[\"GAUGE_GROUP\"] = p[\"SUGROUP\"]\n",
    "\n",
    "# Import relevant modules\n",
    "import sys\n",
    "sys.path.append('..')\n",
    "\n",
    "# Glasma modules\n",
    "import curraun.core as core\n",
    "import curraun.mv as mv\n",
    "import curraun.initial as initial\n",
    "initial.DEBUG = False\n",
    "\n",
    "import curraun.su as su\n",
    "from curraun.numba_target import use_cuda\n",
    "if use_cuda:\n",
    "    from numba import cuda\n",
    "\n",
    "# Wong modules\n",
    "from curraun import wong\n",
    "wong.BOUNDARY = boundary\n",
    "wong.WONG_TO_HOST = True\n",
    "from curraun.wong import init_pos, init_charge, init_mom_toy\n",
    "from curraun.particles_correlators import TransMom"
   ]
  },
  {
   "cell_type": "code",
   "execution_count": 4,
   "metadata": {},
   "outputs": [],
   "source": [
    "import pickle\n",
    "from tqdm import tqdm\n",
    "\n",
    "current_path = os.getcwd() \n",
    "results_folder = 'results'\n",
    "if not os.path.isdir(results_folder):\n",
    "    os.makedirs(results_folder)\n",
    "results_path = current_path + '/' + results_folder + '/'"
   ]
  },
  {
   "cell_type": "code",
   "execution_count": 5,
   "metadata": {},
   "outputs": [],
   "source": [
    "def simulate(p, ev): \n",
    "    # Derived parameters\n",
    "    a = L/N\n",
    "    E0 = N/L * hbarc\n",
    "    DT = 1.0 / DTS\n",
    "\n",
    "    pT = p[\"PT\"]\n",
    "\n",
    "    if p[\"FORMTIME\"]=='m':\n",
    "        tau_form = 1/(2*p[\"MASS\"])*hbarc\n",
    "    elif p[\"FORMTIME\"]=='mT':\n",
    "        # transverse mass\n",
    "        mT = np.sqrt(p[\"MASS\"]**2+pT**2)   \n",
    "        # formation time given by inverse of transverse mass\n",
    "        tau_form = 1/(2*mT)*hbarc\n",
    "\n",
    "    p[\"TFORM\"] = tau_form\n",
    "\n",
    "    tau_sim = p[\"TSIM\"] + tau_form \n",
    "\n",
    "    formt = int(tau_form / a * DTS)\n",
    "    maxt = int(tau_sim / a * DTS)\n",
    "\n",
    "    # Initialize Glasma fields\n",
    "    s = core.Simulation(N, DT, g)\n",
    "    va = mv.wilson(s, mu=mu / E0, m=ir / E0, uv=uv / E0, num_sheets=ns)\n",
    "    vb = mv.wilson(s, mu=mu / E0, m=ir / E0, uv=uv / E0, num_sheets=ns)\n",
    "    initial.init(s, va, vb)\n",
    "\n",
    "   \n",
    "    # Initialize the Wong solver\n",
    "    wong_solver = wong.WongSolver(s, ntp)\n",
    "    x0s, p0s, q0s = np.zeros((ntp, 3)), np.zeros((ntp, 5)), np.zeros((ntp, su.ALGEBRA_ELEMENTS))\n",
    "    masses = p[\"MASS\"] / E0 * np.ones(ntp)\n",
    "\n",
    "\n",
    "    for i in range(ntp):\n",
    "        x0, p0, q0 = init_pos(s.n), init_mom_toy('pT', pT / E0), init_charge(representation)\n",
    "        x0s[i, :], p0s[i, :], q0s[i, :] = x0, p0, q0\n",
    "    \n",
    "    wong_solver.initialize(x0s, p0s, q0s, masses)\n",
    "\n",
    "    # px = np.zeros((maxt-formt, ntp))\n",
    "    # py = np.zeros((maxt-formt, ntp))\n",
    "\n",
    "    compute_pT = TransMom(wong_solver, ntp)\n",
    "    # p2s = np.zeros((maxt-formt, ntp, 3))\n",
    "    # sigmapTs = np.zeros(maxt-formt)\n",
    "    pTs = np.zeros((maxt-formt, ntp))\n",
    "\n",
    "    with tqdm(total=maxt) as pbar:\n",
    "        for t in range(maxt):\n",
    "            # Evolve Glasma fields\n",
    "            core.evolve_leapfrog(s)\n",
    "\n",
    "            # Solve Wong's equations\n",
    "            if t>=formt:  \n",
    "                # pmu = wong_solver.p.copy() \n",
    "                \n",
    "                # px[t-formt] = pmu[:, 1] * E0\n",
    "                # py[t-formt] = pmu[:, 2] * E0\n",
    "\n",
    "                # wong_solver.compute_mom_broad()\n",
    "                \n",
    "                wong_solver.evolve()\n",
    "\n",
    "                compute_pT.compute()\n",
    "                # p2s_sim = compute_pT.p2.copy() * E0**2\n",
    "                # p2s_sim = compute_pT.p2.copy() * E0**2 - pT**2\n",
    "                # p2s_sim = (compute_pT.pT.copy() * E0 - pT) ** 2\n",
    "                # p2s_sim = (compute_pT.pT.copy() * E0) ** 2\n",
    "                # p2s[t-formt] = p2s_sim\n",
    "                # sigmapTs[t-formt] = np.sqrt(np.std(p2s_sim))\n",
    "                pTs[t-formt] = compute_pT.pT.copy() * E0\n",
    "\n",
    "\n",
    "            pbar.set_description(\"Event \" + str(ev+1))\n",
    "            pbar.update(1)\n",
    "\n",
    "    # output[str(pT)]['pTs_event_'+ str(ev+1)] = pTs\n",
    "    # output[str(pT)]['initial_pTs_event_'+ str(ev+1)] = initial_pTs\n",
    "\n",
    "    tau = np.linspace(0, tau_sim-tau_form, maxt-formt)\n",
    "    # output['tau'] = tau\n",
    "\n",
    "    # return tau, px, py\n",
    "    # return tau, p2s\n",
    "    # return tau, sigmapTs\n",
    "    return tau, pTs"
   ]
  },
  {
   "cell_type": "code",
   "execution_count": 6,
   "metadata": {},
   "outputs": [
    {
     "name": "stdout",
     "output_type": "stream",
     "text": [
      "Charm quark\n",
      "pT = 0 GeV\n"
     ]
    },
    {
     "name": "stderr",
     "output_type": "stream",
     "text": [
      "Event 1: 100%|██████████| 441/441 [03:28<00:00,  2.11it/s]\n"
     ]
    },
    {
     "name": "stdout",
     "output_type": "stream",
     "text": [
      "pT = 3 GeV\n"
     ]
    },
    {
     "name": "stderr",
     "output_type": "stream",
     "text": [
      "Event 1: 100%|██████████| 441/441 [03:08<00:00,  2.33it/s]\n"
     ]
    },
    {
     "name": "stdout",
     "output_type": "stream",
     "text": [
      "pT = 6 GeV\n"
     ]
    },
    {
     "name": "stderr",
     "output_type": "stream",
     "text": [
      "Event 1: 100%|██████████| 441/441 [02:54<00:00,  2.53it/s]\n"
     ]
    },
    {
     "name": "stdout",
     "output_type": "stream",
     "text": [
      "pT = 9 GeV\n"
     ]
    },
    {
     "name": "stderr",
     "output_type": "stream",
     "text": [
      "Event 1: 100%|██████████| 441/441 [02:02<00:00,  3.59it/s]\n"
     ]
    },
    {
     "name": "stdout",
     "output_type": "stream",
     "text": [
      "pT = 12 GeV\n"
     ]
    },
    {
     "name": "stderr",
     "output_type": "stream",
     "text": [
      "Event 1: 100%|██████████| 441/441 [02:00<00:00,  3.67it/s]\n"
     ]
    }
   ],
   "source": [
    "print(p['QUARK'].capitalize() + \" quark\")\n",
    "os.chdir(results_path)\n",
    "\n",
    "# px_tau, py_tau = {}, {}\n",
    "# p2s_tau = {}\n",
    "# sigmapTs = {}\n",
    "all_pTs = {}\n",
    "\n",
    "#TODO: Remove this after testing\n",
    "p['PTS'] = [0, 3, 6, 9, 12]\n",
    "# p['PTS'] = [0]\n",
    "\n",
    "for ipT, pT in enumerate(p['PTS']):\n",
    "    print(\"pT = \" + str(pT) + \" GeV\")\n",
    "    p[\"PT\"] =  pT\n",
    "\n",
    "    # px_tau[str(pT)], py_tau[str(pT)] = {}, {}\n",
    "    # collect_sigmapTs = [] \n",
    "\n",
    "    # output[str(pT)] = {}\n",
    "    for iev, ev in enumerate(range(0, p[\"NEVENTS\"])):\n",
    "        # print(\"event \" + str(iev+1))\n",
    "        # tau, px_tau, py_tau = simulate(p, ev)\n",
    "        # px_tau[str(pT)], py_tau[str(pT)] = px, py\n",
    "\n",
    "        # tau, sigmapT_ev = simulate(p, ev)\n",
    "\n",
    "        # filename_pT_ev = 'pT_' + str(pT) + '_ev_' + str(iev+1)\n",
    "        # np.savez_compressed(filename_pT_ev, px=px, py=py)\n",
    "        # np.savez_compressed(filename_pT_ev, p2s=p2s_tau[str(pT)], tau=tau)\n",
    "\n",
    "        # collect_sigmapTs.append(sigmapT_ev)\n",
    "        tau, pTs_tau = simulate(p, ev)\n",
    "        all_pTs[str(pT)] = pTs_tau\n",
    "\n",
    "    # sigmapTs[str(pT)] = np.mean(collect_sigmapTs, axis=0)\n",
    "\n",
    "\n",
    "p[\"TAU\"] = tau\n",
    "\n",
    "# with open('parameters.pickle', 'wb') as handle:\n",
    "#     pickle.dump(p, handle)"
   ]
  },
  {
   "cell_type": "code",
   "execution_count": null,
   "metadata": {},
   "outputs": [],
   "source": [
    "# output = {}\n",
    "\n",
    "# output['parameters'] = p.copy()\n",
    "# output['sigmapT'] = sigmapTs\n",
    "# output['tau'] = tau\n",
    "# output['pTs'] = p['PTS']\n",
    "\n",
    "# with open(current_path + '/notebooks/final_test3_gaussian_broadening_' + p[\"QUARK\"] + '_Qs_' + str(p[\"QS\"]) + '.pickle', 'wb') as handle:\n",
    "#     pickle.dump(output, handle)\n",
    "\n",
    "# output = {}\n",
    "\n",
    "# output['parameters'] = p.copy()\n",
    "# output['px'], output['py'] = px_tau, py_tau\n",
    "# output['tau'] = tau\n",
    "# output['pTs'] = p['PTS']\n",
    "\n",
    "# # with open(current_path + '/notebooks/final_test3_gaussian_broadening_' + p[\"QUARK\"] + '_Qs_' + str(p[\"QS\"]) + '.pickle', 'wb') as handle:\n",
    "# with open(current_path + '/notebooks/gaussian_broadening_px_py.pickle', 'wb') as handle:\n",
    "#     pickle.dump(output, handle)\n",
    "\n",
    "output = {}\n",
    "\n",
    "output['parameters'] = p.copy()\n",
    "output['pTs_tau'] = all_pTs\n",
    "output['tau'] = tau\n",
    "output['pTs'] = p['PTS']\n",
    "\n",
    "# with open(current_path + '/notebooks/final_test3_gaussian_broadening_' + p[\"QUARK\"] + '_Qs_' + str(p[\"QS\"]) + '.pickle', 'wb') as handle:\n",
    "with open(current_path + '/notebooks/gaussian_broadening_pTs_fund.pickle', 'wb') as handle:\n",
    "    pickle.dump(output, handle)"
   ]
  },
  {
   "cell_type": "code",
   "execution_count": null,
   "metadata": {},
   "outputs": [],
   "source": [
    "import numpy as np\n",
    "import matplotlib.pyplot as plt\n",
    "\n",
    "for pT in p['PTS']:\n",
    "    plt.plot(tau, sigmapTs[str(pT)], label=str(pT))\n",
    "\n",
    "plt.legend()\n",
    "plt.grid(True)\n",
    "plt.show()"
   ]
  }
 ],
 "metadata": {
  "kernelspec": {
   "display_name": "Python 3",
   "language": "python",
   "name": "python3"
  },
  "language_info": {
   "codemirror_mode": {
    "name": "ipython",
    "version": 3
   },
   "file_extension": ".py",
   "mimetype": "text/x-python",
   "name": "python",
   "nbconvert_exporter": "python",
   "pygments_lexer": "ipython3",
   "version": "3.6.8"
  }
 },
 "nbformat": 4,
 "nbformat_minor": 2
}
