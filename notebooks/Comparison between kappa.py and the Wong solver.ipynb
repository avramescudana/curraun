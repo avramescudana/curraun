{
    "cells": [
        {
            "cell_type": "markdown",
            "metadata": {},
            "source": [
                "# **Comparison between the kappa.py and wong.py modules**"
            ]
        },
        {
            "cell_type": "markdown",
            "metadata": {},
            "source": [
                "This notebook contains a comparison between the module `kappa.py` and `wong.py`. The `kappa.py` module computes the momentum accumulated by a static parton, assuming that its position is fixed and the momentum changes only by virtue of the electric fields of the Glasma. The `wong.py` module contains the Wong solver for dynamic partons moving through the Glasma. "
            ]
        },
        {
            "cell_type": "markdown",
            "metadata": {},
            "source": [
                "## Default simulation parameters for the Glasma and the Wong solvers"
            ]
        },
        {
            "cell_type": "code",
            "execution_count": 1,
            "metadata": {},
            "outputs": [],
            "source": [
                "import numpy as np\n",
                "\n",
                "# Define hbar * c in units of GeV * fm\n",
                "hbarc = 0.197326 \n",
                "\n",
                "# General parameters\n",
                "su_group = 'su3'        # Gauge group\n",
                "representation = 'fundamental'      # Fundamental or adjoint representation\n",
                "boundary = 'periodic'        # Periodic boundary conditions or frozen dynamics at boundary\n",
                "\n",
                "# Simulation box parameters\n",
                "L = 10      # Length of simulation box [fm]\n",
                "N = 512     # Number of lattice sites\n",
                "tau_sim = 1.0     # Simulation time [fm/c]\n",
                "DTS = 8     # Time step\n",
                "\n",
                "# MV model parameters\n",
                "Qs = 2              # Saturation momentum [GeV]\t\n",
                "ns = 50     # Number of color sheets\n",
                "factor = 0.8        # Ratio between Qs/g^2\\mu for Ns = 50 color sheets\n",
                "g = np.pi * np.sqrt(1 / np.log(Qs / 0.2))           # Running coupling constant\t\t\n",
                "mu = Qs / (g**2 * factor)           # MV model parameter\t\n",
                "ir = 0.1 * g**2 * mu         # Infrared regulator [GeV]\n",
                "uv = 10.0           # Ultraviolet regulator [GeV]\n",
                "\n",
                "# Heavy quark related parameters, chosen here for a charm quark\n",
                "quark = 'charm'     # Quark type\n",
                "mass = 1.27      # Heavy quark mass [GeV]\n",
                "tau_form = 1/(2*mass)*hbarc     # Formation time [fm/c]\n",
                "pT = 0.5    # Initial transverse momentum [GeV]\n",
                "ntp = 100000   # Number of test particles\n",
                "\n",
                "# Other numerical parameters\n",
                "nevents = 10    # Number of Glasma events\n",
                "folder = su_group + '_pT_' + str(pT) + '_' + quark       # Results folder\n",
                "\n",
                "# Store relevant parameters in a dictionary\n",
                "p = {\n",
                "    'QUARK': quark,\n",
                "    'MASS': mass,           \n",
                "    'TFORM': tau_form,       \n",
                "    'PT': pT,          \n",
                "    'FOLDER': folder,         \n",
                "    }"
            ]
        },
        {
            "cell_type": "markdown",
            "metadata": {},
            "source": [
                "## Set environment variables"
            ]
        },
        {
            "cell_type": "code",
            "execution_count": 2,
            "metadata": {},
            "outputs": [
                {
                    "name": "stdout",
                    "output_type": "stream",
                    "text": [
                        "Using CUDA\n",
                        "Using SU(3)\n",
                        "Using double precision\n",
                        "Using double precision\n"
                    ]
                }
            ],
            "source": [
                "import os\n",
                "os.environ[\"MY_NUMBA_TARGET\"] = \"cuda\"\n",
                "os.environ[\"PRECISION\"] = \"double\"\n",
                "os.environ[\"GAUGE_GROUP\"] = su_group\n",
                "os.environ[\"REPRESENTATION\"] = representation\n",
                "os.environ[\"BOUNDARY\"] = boundary\n",
                "\n",
                "# Import relevant modules\n",
                "import sys\n",
                "sys.path.append('..')\n",
                "\n",
                "# Glasma modules\n",
                "import curraun.core as core\n",
                "import curraun.mv as mv\n",
                "import curraun.initial as initial\n",
                "initial.DEBUG = False\n",
                "# Wong modules\n",
                "from curraun import wong\n",
                "wong.DEBUG = False\n",
                "from curraun.wong import init_charge\n",
                "# Kappa module\n",
                "import curraun.kappa as kappa\n",
                "\n",
                "import curraun.su as su\n",
                "from curraun.numba_target import use_cuda\n",
                "if use_cuda:\n",
                "    from numba import cuda"
            ]
        },
        {
            "cell_type": "markdown",
            "metadata": {},
            "source": [
                "## Simulation routine for evolving the Glasma & solving Wong's equations\n",
                "Computes the transverse momentum variance."
            ]
        },
        {
            "cell_type": "code",
            "execution_count": 3,
            "metadata": {},
            "outputs": [],
            "source": [
                "import pickle\n",
                "from tqdm import tqdm\n",
                "\n",
                "# Path where results are saved\n",
                "current_path = os.getcwd() \n",
                "results_folder = 'results'\n",
                "if not os.path.isdir(results_folder):\n",
                "    os.makedirs(results_folder)\n",
                "os.chdir(current_path + '/' + results_folder)\n",
                "\n",
                "# Simulation routine\n",
                "def simulate(p, ev): \n",
                "    output = {}\n",
                "    output[\"parameters\"] = p.copy()\n",
                "\n",
                "    # Derived parameters\n",
                "    a = L / N\n",
                "    E0 = N / L * hbarc\n",
                "    DT = 1.0 / DTS\n",
                "    formt = int(p['TFORM'] / a * DTS)\n",
                "    maxt = int(tau_sim / a * DTS)\n",
                "\n",
                "    # Initialize Glasma fields\n",
                "    s = core.Simulation(N, DT, g)\n",
                "    va = mv.wilson(s, mu=mu / E0, m=ir / E0, uv=uv / E0, num_sheets=ns)\n",
                "    vb = mv.wilson(s, mu=mu / E0, m=ir / E0, uv=uv / E0, num_sheets=ns)\n",
                "    initial.init(s, va, vb)\n",
                "\n",
                "    # Initialize the Wong solver\n",
                "    wong_solver = wong.WongSolver(s, ntp)\n",
                "    pT = p['PT'] / E0\n",
                "    x0s, p0s, q0s = np.zeros((ntp, 3)), np.zeros((ntp, 4)), np.zeros((ntp, su.ALGEBRA_ELEMENTS))\n",
                "    mass = p['MASS'] / E0 \n",
                "    m = mass * np.ones(ntp)\n",
                "\n",
                "    for i in range(ntp):\n",
                "        # Positions\n",
                "        xT = np.random.rand(2) * s.n\n",
                "        x0 = [xT[0], xT[1], 0.0]\n",
                "        # Momenta\n",
                "        angle = 2*np.pi*np.random.rand(1)\n",
                "        p0 = [0.0, pT * np.cos(angle), pT * np.sin(angle), 0.0]\n",
                "        # Charges\n",
                "        q0 = init_charge()\n",
                "\n",
                "        x0s[i, :], p0s[i, :], q0s[i, :] = x0, p0, q0\n",
                "\n",
                "    wong_solver.initialize(x0s, p0s, q0s, m)\n",
                "\n",
                "    sigmapt_avg = np.zeros(maxt-formt)\n",
                "\n",
                "    with tqdm(total=maxt) as pbar:\n",
                "        for t in range(maxt):\n",
                "            # Evolve Glasma fields\n",
                "            core.evolve_leapfrog(s)\n",
                "\n",
                "            # Solve Wong's equations\n",
                "            if t>=formt:  \n",
                "                wong_solver.evolve()\n",
                "                # Compute transverse momentum broadening\n",
                "                if t==formt:\n",
                "                    pmu0 = wong_solver.p.copy()\n",
                "                    px0, py0 = pmu0[:, 1], pmu0[:, 2]\n",
                "                pmu = wong_solver.p.copy()\n",
                "                px, py = pmu[:, 1], pmu[:, 2]\n",
                "                sigmapt = (px-px0)**2 + (py-py0)**2\n",
                "                sigmapt_avg[t-formt] = np.mean(sigmapt) * E0**2\n",
                "\n",
                "            pbar.set_description(\"Event \" + str(ev+1))\n",
                "            pbar.update(1)\n",
                "\n",
                "    # Save results to a specific folder\n",
                "    wong_folder = p['FOLDER']\n",
                "    if not os.path.isdir(wong_folder):\n",
                "        os.makedirs(wong_folder)\n",
                "    wong_path = current_path + '/' + results_folder + '/' + wong_folder + '/'\n",
                "    os.chdir(wong_path)\n",
                "\n",
                "    output['sigmapt'] = sigmapt_avg\n",
                "    filename = 'ev_' + str(ev+1) + '.pickle'\n",
                "    with open(filename, 'wb') as handle:\n",
                "        pickle.dump(output, handle)\n",
                "\n",
                "    os.chdir(current_path + '/' + results_folder)\n",
                "\n",
                "    return output"
            ]
        },
        {
            "cell_type": "markdown",
            "metadata": {},
            "source": [
                "## Running the Wong solver over multiple Glasma events\n",
                "This is done for various quarks and values of initial transverse momenta, afterwards perform averages and store the results to a dictionary. The masses for charm and beauty quarks are taken from [PDGLive](https://pdglive.lbl.gov/Viewer.action), the formation time is chosen as $\\tau_\\mathrm{form}=1/(2m_\\mathrm{quark})$. "
            ]
        },
        {
            "cell_type": "code",
            "execution_count": 4,
            "metadata": {},
            "outputs": [
                {
                    "name": "stdout",
                    "output_type": "stream",
                    "text": [
                        "Charm quark\n",
                        "Transverse momentum 0.5 GeV\n"
                    ]
                },
                {
                    "name": "stderr",
                    "output_type": "stream",
                    "text": [
                        "Event 1: 100%|██████████| 409/409 [02:13<00:00,  3.07it/s]\n",
                        "Event 2: 100%|██████████| 409/409 [02:08<00:00,  3.19it/s]\n",
                        "Event 3: 100%|██████████| 409/409 [02:08<00:00,  3.19it/s]\n",
                        "Event 4: 100%|██████████| 409/409 [02:08<00:00,  3.19it/s]\n",
                        "Event 5: 100%|██████████| 409/409 [02:08<00:00,  3.19it/s]\n",
                        "Event 6: 100%|██████████| 409/409 [02:08<00:00,  3.19it/s]\n",
                        "Event 7: 100%|██████████| 409/409 [02:08<00:00,  3.19it/s]\n",
                        "Event 8: 100%|██████████| 409/409 [02:08<00:00,  3.19it/s]\n",
                        "Event 9: 100%|██████████| 409/409 [02:08<00:00,  3.19it/s]\n",
                        "Event 10: 100%|██████████| 409/409 [02:08<00:00,  3.19it/s]\n"
                    ]
                },
                {
                    "name": "stdout",
                    "output_type": "stream",
                    "text": [
                        "Transverse momentum 5.0 GeV\n"
                    ]
                },
                {
                    "name": "stderr",
                    "output_type": "stream",
                    "text": [
                        "Event 1: 100%|██████████| 409/409 [02:08<00:00,  3.19it/s]\n",
                        "Event 2: 100%|██████████| 409/409 [02:08<00:00,  3.18it/s]\n",
                        "Event 3: 100%|██████████| 409/409 [02:08<00:00,  3.19it/s]\n",
                        "Event 4: 100%|██████████| 409/409 [02:08<00:00,  3.19it/s]\n",
                        "Event 5: 100%|██████████| 409/409 [02:08<00:00,  3.19it/s]\n",
                        "Event 6: 100%|██████████| 409/409 [02:08<00:00,  3.19it/s]\n",
                        "Event 7: 100%|██████████| 409/409 [02:08<00:00,  3.19it/s]\n",
                        "Event 8: 100%|██████████| 409/409 [02:08<00:00,  3.19it/s]\n",
                        "Event 9: 100%|██████████| 409/409 [02:08<00:00,  3.19it/s]\n",
                        "Event 10: 100%|██████████| 409/409 [02:08<00:00,  3.19it/s]\n"
                    ]
                },
                {
                    "name": "stdout",
                    "output_type": "stream",
                    "text": [
                        "Transverse momentum 10.0 GeV\n"
                    ]
                },
                {
                    "name": "stderr",
                    "output_type": "stream",
                    "text": [
                        "Event 1: 100%|██████████| 409/409 [02:08<00:00,  3.19it/s]\n",
                        "Event 2: 100%|██████████| 409/409 [02:08<00:00,  3.19it/s]\n",
                        "Event 3: 100%|██████████| 409/409 [02:36<00:00,  2.62it/s]\n",
                        "Event 4: 100%|██████████| 409/409 [02:36<00:00,  2.62it/s]\n",
                        "Event 5: 100%|██████████| 409/409 [02:08<00:00,  3.19it/s]\n",
                        "Event 6: 100%|██████████| 409/409 [02:08<00:00,  3.19it/s]\n",
                        "Event 7: 100%|██████████| 409/409 [02:08<00:00,  3.19it/s]\n",
                        "Event 8: 100%|██████████| 409/409 [02:08<00:00,  3.19it/s]\n",
                        "Event 9: 100%|██████████| 409/409 [02:08<00:00,  3.19it/s]\n",
                        "Event 10: 100%|██████████| 409/409 [02:08<00:00,  3.19it/s]\n"
                    ]
                },
                {
                    "name": "stdout",
                    "output_type": "stream",
                    "text": [
                        "Beauty quark\n",
                        "Transverse momentum 0.5 GeV\n"
                    ]
                },
                {
                    "name": "stderr",
                    "output_type": "stream",
                    "text": [
                        "Event 1: 100%|██████████| 409/409 [02:11<00:00,  3.10it/s]\n",
                        "Event 2: 100%|██████████| 409/409 [02:11<00:00,  3.10it/s]\n",
                        "Event 3: 100%|██████████| 409/409 [02:11<00:00,  3.10it/s]\n",
                        "Event 4: 100%|██████████| 409/409 [02:11<00:00,  3.10it/s]\n",
                        "Event 5: 100%|██████████| 409/409 [02:11<00:00,  3.10it/s]\n",
                        "Event 6: 100%|██████████| 409/409 [02:11<00:00,  3.10it/s]\n",
                        "Event 7: 100%|██████████| 409/409 [02:11<00:00,  3.10it/s]\n",
                        "Event 8: 100%|██████████| 409/409 [02:11<00:00,  3.10it/s]\n",
                        "Event 9: 100%|██████████| 409/409 [02:11<00:00,  3.10it/s]\n",
                        "Event 10: 100%|██████████| 409/409 [02:11<00:00,  3.11it/s]\n"
                    ]
                },
                {
                    "name": "stdout",
                    "output_type": "stream",
                    "text": [
                        "Transverse momentum 5.0 GeV\n"
                    ]
                },
                {
                    "name": "stderr",
                    "output_type": "stream",
                    "text": [
                        "Event 1: 100%|██████████| 409/409 [02:11<00:00,  3.10it/s]\n",
                        "Event 2: 100%|██████████| 409/409 [02:11<00:00,  3.10it/s]\n",
                        "Event 3: 100%|██████████| 409/409 [02:11<00:00,  3.10it/s]\n",
                        "Event 4: 100%|██████████| 409/409 [02:11<00:00,  3.10it/s]\n",
                        "Event 5: 100%|██████████| 409/409 [02:11<00:00,  3.10it/s]\n",
                        "Event 6: 100%|██████████| 409/409 [02:11<00:00,  3.10it/s]\n",
                        "Event 7: 100%|██████████| 409/409 [02:34<00:00,  2.65it/s]\n",
                        "Event 8: 100%|██████████| 409/409 [02:44<00:00,  2.49it/s]\n",
                        "Event 9: 100%|██████████| 409/409 [02:34<00:00,  2.64it/s]\n",
                        "Event 10: 100%|██████████| 409/409 [03:02<00:00,  2.24it/s]\n"
                    ]
                },
                {
                    "name": "stdout",
                    "output_type": "stream",
                    "text": [
                        "Transverse momentum 10.0 GeV\n"
                    ]
                },
                {
                    "name": "stderr",
                    "output_type": "stream",
                    "text": [
                        "Event 1: 100%|██████████| 409/409 [03:01<00:00,  2.26it/s]\n",
                        "Event 2: 100%|██████████| 409/409 [03:01<00:00,  2.25it/s]\n",
                        "Event 3: 100%|██████████| 409/409 [03:01<00:00,  2.25it/s]\n",
                        "Event 4: 100%|██████████| 409/409 [02:11<00:00,  3.10it/s]\n",
                        "Event 5: 100%|██████████| 409/409 [02:11<00:00,  3.10it/s]\n",
                        "Event 6: 100%|██████████| 409/409 [02:11<00:00,  3.10it/s]\n",
                        "Event 7: 100%|██████████| 409/409 [02:11<00:00,  3.10it/s]\n",
                        "Event 8: 100%|██████████| 409/409 [02:11<00:00,  3.10it/s]\n",
                        "Event 9: 100%|██████████| 409/409 [02:11<00:00,  3.10it/s]\n",
                        "Event 10: 100%|██████████| 409/409 [02:11<00:00,  3.10it/s]\n"
                    ]
                },
                {
                    "name": "stdout",
                    "output_type": "stream",
                    "text": [
                        "Massive quark\n",
                        "Transverse momentum 0.5 GeV\n"
                    ]
                },
                {
                    "name": "stderr",
                    "output_type": "stream",
                    "text": [
                        "Event 1: 100%|██████████| 409/409 [02:13<00:00,  3.07it/s]\n",
                        "Event 2: 100%|██████████| 409/409 [02:12<00:00,  3.08it/s]\n",
                        "Event 3: 100%|██████████| 409/409 [02:12<00:00,  3.08it/s]\n",
                        "Event 4: 100%|██████████| 409/409 [02:13<00:00,  3.07it/s]\n",
                        "Event 5: 100%|██████████| 409/409 [02:13<00:00,  3.07it/s]\n",
                        "Event 6: 100%|██████████| 409/409 [02:13<00:00,  3.07it/s]\n",
                        "Event 7: 100%|██████████| 409/409 [02:13<00:00,  3.07it/s]\n",
                        "Event 8: 100%|██████████| 409/409 [02:13<00:00,  3.07it/s]\n",
                        "Event 9: 100%|██████████| 409/409 [02:13<00:00,  3.07it/s]\n",
                        "Event 10: 100%|██████████| 409/409 [02:13<00:00,  3.07it/s]\n"
                    ]
                },
                {
                    "name": "stdout",
                    "output_type": "stream",
                    "text": [
                        "Transverse momentum 5.0 GeV\n"
                    ]
                },
                {
                    "name": "stderr",
                    "output_type": "stream",
                    "text": [
                        "Event 1: 100%|██████████| 409/409 [02:13<00:00,  3.07it/s]\n",
                        "Event 2: 100%|██████████| 409/409 [02:13<00:00,  3.07it/s]\n",
                        "Event 3: 100%|██████████| 409/409 [02:13<00:00,  3.07it/s]\n",
                        "Event 4: 100%|██████████| 409/409 [02:13<00:00,  3.07it/s]\n",
                        "Event 5: 100%|██████████| 409/409 [02:13<00:00,  3.07it/s]\n",
                        "Event 6: 100%|██████████| 409/409 [02:13<00:00,  3.07it/s]\n",
                        "Event 7: 100%|██████████| 409/409 [02:13<00:00,  3.07it/s]\n",
                        "Event 8: 100%|██████████| 409/409 [02:13<00:00,  3.07it/s]\n",
                        "Event 9: 100%|██████████| 409/409 [02:13<00:00,  3.07it/s]\n",
                        "Event 10: 100%|██████████| 409/409 [02:13<00:00,  3.07it/s]\n"
                    ]
                },
                {
                    "name": "stdout",
                    "output_type": "stream",
                    "text": [
                        "Transverse momentum 10.0 GeV\n"
                    ]
                },
                {
                    "name": "stderr",
                    "output_type": "stream",
                    "text": [
                        "Event 1: 100%|██████████| 409/409 [02:13<00:00,  3.07it/s]\n",
                        "Event 2: 100%|██████████| 409/409 [02:13<00:00,  3.07it/s]\n",
                        "Event 3: 100%|██████████| 409/409 [02:13<00:00,  3.07it/s]\n",
                        "Event 4: 100%|██████████| 409/409 [02:13<00:00,  3.07it/s]\n",
                        "Event 5: 100%|██████████| 409/409 [02:13<00:00,  3.07it/s]\n",
                        "Event 6: 100%|██████████| 409/409 [02:13<00:00,  3.07it/s]\n",
                        "Event 7: 100%|██████████| 409/409 [02:13<00:00,  3.08it/s]\n",
                        "Event 8: 100%|██████████| 409/409 [02:13<00:00,  3.07it/s]\n",
                        "Event 9: 100%|██████████| 409/409 [02:13<00:00,  3.07it/s]\n",
                        "Event 10: 100%|██████████| 409/409 [02:13<00:00,  3.07it/s]\n"
                    ]
                }
            ],
            "source": [
                "quarks = ['charm', 'beauty', 'massive']\n",
                "quark_masses = [1.27, 4.18, 1000]\n",
                "pTs = [0.5, 5.0, 10.0]\n",
                "# formation_times = [0.02, 0.08, 0]\n",
                "\n",
                "sigmapt, tau = {}, {}\n",
                "for iq in range(len(quarks)):\n",
                "    print(quarks[iq].capitalize() + \" quark\")\n",
                "    p['QUARK'], p['MASS'] = quarks[iq], quark_masses[iq]\n",
                "    p['TFORM'] = 1/(2*p['MASS'])*hbarc \n",
                "    # p['TFORM'] = formation_times[iq]\n",
                "\n",
                "    for pT in pTs:\n",
                "        print('Transverse momentum', pT, 'GeV')\n",
                "        p['PT'] = pT\n",
                "        tag = quarks[iq] + '_pT_' + str(pT)\n",
                "        p['FOLDER'] = su_group + '_pT_' + str(pT) + '_' + quarks[iq] \n",
                "        \n",
                "        formt, maxt = int(p['TFORM'] / L * N * DTS), int(tau_sim / L * N * DTS)\n",
                "        taus = np.linspace(p['TFORM'], tau_sim, maxt-formt)\n",
                "\n",
                "        sigmapts = []\n",
                "        for ev in range(nevents):\n",
                "            output = simulate(p, ev)\n",
                "            sigmapts.append(output['sigmapt'])\n",
                "\n",
                "        sigmapt[tag] = np.mean(sigmapts, axis=0)\n",
                "        tau[tag] = taus\n",
                "\n",
                "output = {}\n",
                "output['quarks'], output['pTs'], output['masses'] = quarks, pTs, quark_masses\n",
                "output['sigmapt'], output['tau'] = sigmapt, tau\n",
                "filename = 'sigmapt.pickle'\n",
                "with open(filename, 'wb') as handle:\n",
                "    pickle.dump(output, handle)"
            ]
        },
        {
            "cell_type": "markdown",
            "metadata": {},
            "source": [
                "## Simulation routine for the static quark case"
            ]
        },
        {
            "cell_type": "code",
            "execution_count": 5,
            "metadata": {},
            "outputs": [],
            "source": [
                "def simulate_kappa(p, ev): \n",
                "    output = {}\n",
                "    output[\"parameters\"] = p.copy()\n",
                "\n",
                "    # Derived parameters\n",
                "    a = L / N\n",
                "    E0 = N / L * hbarc\n",
                "    DT = 1.0 / DTS\n",
                "    formt = int(p['TFORM'] / a * DTS)\n",
                "    maxt = int(tau_sim / a * DTS)\n",
                "\n",
                "    # Initialize Glasma fields\n",
                "    s = core.Simulation(N, DT, g)\n",
                "    va = mv.wilson(s, mu=mu / E0, m=ir / E0, uv=uv / E0, num_sheets=ns)\n",
                "    vb = mv.wilson(s, mu=mu / E0, m=ir / E0, uv=uv / E0, num_sheets=ns)\n",
                "    initial.init(s, va, vb)\n",
                "\n",
                "    kappa_tforce = kappa.TransportedForce(s)\n",
                "    kappapt, tau =  [0], [formt*a/DTS]\n",
                "\n",
                "    if use_cuda:\n",
                "        s.copy_to_device()\n",
                "        kappa_tforce.copy_to_device()\n",
                "\n",
                "    with tqdm(total=maxt) as pbar:\n",
                "        for t in range(maxt):\n",
                "            # Evolve Glasma fields\n",
                "            core.evolve_leapfrog(s)\n",
                "\n",
                "            if t>=formt:  \n",
                "\n",
                "                if t % DTS == 0:\n",
                "                    if use_cuda:\n",
                "                        kappa_tforce.copy_mean_to_host()\n",
                "\n",
                "                    px_kappa, py_kappa = kappa_tforce.p_perp_mean[0], kappa_tforce.p_perp_mean[1]\n",
                "                    kappapt.append((px_kappa + py_kappa) * E0 ** 2)\n",
                "                    tau.append(t*a/DTS)\n",
                "                    \n",
                "                    if use_cuda:\n",
                "                        kappa_tforce.copy_mean_to_device()\n",
                "\n",
                "                kappa_tforce.compute()\n",
                "\n",
                "            pbar.set_description(\"Event \" + str(ev+1))\n",
                "            pbar.update(1)\n",
                "\n",
                "    kappa_folder = p['FOLDER']\n",
                "    if not os.path.isdir(kappa_folder):\n",
                "        os.makedirs(kappa_folder)\n",
                "    kappa_path = current_path + '/' + results_folder + '/' + kappa_folder + '/'\n",
                "    os.chdir(kappa_path)\n",
                "\n",
                "    output['kappapt'] = kappapt\n",
                "    output['tau'] = tau\n",
                "    filename = 'ev_' + str(ev+1) + '.pickle'\n",
                "    with open(filename, 'wb') as handle:\n",
                "        pickle.dump(output, handle)\n",
                "\n",
                "    os.chdir(current_path + '/' + results_folder)\n",
                "\n",
                "    if use_cuda:\n",
                "        cuda.current_context().deallocations.clear()\n",
                "\n",
                "    return output"
            ]
        },
        {
            "cell_type": "markdown",
            "metadata": {},
            "source": [
                "## Run over multiple Glasma events and do averages"
            ]
        },
        {
            "cell_type": "code",
            "execution_count": 6,
            "metadata": {},
            "outputs": [
                {
                    "name": "stdout",
                    "output_type": "stream",
                    "text": [
                        "Charm quark\n"
                    ]
                },
                {
                    "name": "stderr",
                    "output_type": "stream",
                    "text": [
                        "Event 1: 100%|██████████| 409/409 [00:07<00:00, 56.19it/s]\n",
                        "Event 2: 100%|██████████| 409/409 [00:05<00:00, 72.65it/s]\n",
                        "Event 3: 100%|██████████| 409/409 [00:05<00:00, 72.27it/s]\n",
                        "Event 4: 100%|██████████| 409/409 [00:05<00:00, 72.28it/s]\n",
                        "Event 5: 100%|██████████| 409/409 [00:05<00:00, 72.19it/s]\n",
                        "Event 6: 100%|██████████| 409/409 [00:05<00:00, 72.16it/s]\n",
                        "Event 7: 100%|██████████| 409/409 [00:05<00:00, 72.16it/s]\n",
                        "Event 8: 100%|██████████| 409/409 [00:05<00:00, 72.18it/s]\n",
                        "Event 9: 100%|██████████| 409/409 [00:05<00:00, 72.20it/s]\n",
                        "Event 10: 100%|██████████| 409/409 [00:05<00:00, 72.17it/s]\n"
                    ]
                },
                {
                    "name": "stdout",
                    "output_type": "stream",
                    "text": [
                        "Beauty quark\n"
                    ]
                },
                {
                    "name": "stderr",
                    "output_type": "stream",
                    "text": [
                        "Event 1: 100%|██████████| 409/409 [00:05<00:00, 71.99it/s]\n",
                        "Event 2: 100%|██████████| 409/409 [00:05<00:00, 71.92it/s]\n",
                        "Event 3: 100%|██████████| 409/409 [00:05<00:00, 71.97it/s]\n",
                        "Event 4: 100%|██████████| 409/409 [00:05<00:00, 71.96it/s]\n",
                        "Event 5: 100%|██████████| 409/409 [00:05<00:00, 72.00it/s]\n",
                        "Event 6: 100%|██████████| 409/409 [00:05<00:00, 71.95it/s]\n",
                        "Event 7: 100%|██████████| 409/409 [00:05<00:00, 71.95it/s]\n",
                        "Event 8: 100%|██████████| 409/409 [00:05<00:00, 71.93it/s]\n",
                        "Event 9: 100%|██████████| 409/409 [00:05<00:00, 72.01it/s]\n",
                        "Event 10: 100%|██████████| 409/409 [00:05<00:00, 72.00it/s]\n"
                    ]
                },
                {
                    "name": "stdout",
                    "output_type": "stream",
                    "text": [
                        "Massive quark\n"
                    ]
                },
                {
                    "name": "stderr",
                    "output_type": "stream",
                    "text": [
                        "Event 1: 100%|██████████| 409/409 [00:05<00:00, 71.85it/s]\n",
                        "Event 2: 100%|██████████| 409/409 [00:05<00:00, 71.84it/s]\n",
                        "Event 3: 100%|██████████| 409/409 [00:05<00:00, 71.83it/s]\n",
                        "Event 4: 100%|██████████| 409/409 [00:05<00:00, 71.78it/s]\n",
                        "Event 5: 100%|██████████| 409/409 [00:05<00:00, 71.82it/s]\n",
                        "Event 6: 100%|██████████| 409/409 [00:05<00:00, 71.82it/s]\n",
                        "Event 7: 100%|██████████| 409/409 [00:05<00:00, 71.80it/s]\n",
                        "Event 8: 100%|██████████| 409/409 [00:05<00:00, 71.86it/s]\n",
                        "Event 9: 100%|██████████| 409/409 [00:05<00:00, 71.88it/s]\n",
                        "Event 10: 100%|██████████| 409/409 [00:05<00:00, 71.81it/s]\n"
                    ]
                }
            ],
            "source": [
                "quarks = ['charm', 'beauty', 'massive']\n",
                "quark_masses = [1.27, 4.18, 100]\n",
                "pTs = [0.5, 5.0, 10.0]\n",
                "# formation_times = [0.02, 0.08, 0]\n",
                "\n",
                "kappapt, tau = {}, {}\n",
                "for iq in range(len(quarks)):\n",
                "    print(quarks[iq].capitalize() + \" quark\")\n",
                "    p['QUARK'], p['MASS'] = quarks[iq], quark_masses[iq]\n",
                "    p['TFORM'] = 1/(2*p['MASS'])*hbarc\n",
                "    # p['TOFMR'] = formation_times[iq]\n",
                "\n",
                "    tag = quarks[iq]\n",
                "    p['FOLDER'] = su_group + '_kappa_' + quarks[iq] \n",
                "\n",
                "    kappapts = []\n",
                "    for ev in range(nevents):\n",
                "        output = simulate_kappa(p, ev)\n",
                "        kappapts.append(output['kappapt'])\n",
                "        tau[tag] = output['tau']\n",
                "\n",
                "    kappapt[tag] = np.mean(kappapts, axis=0)\n",
                "\n",
                "output = {}\n",
                "output['quarks'], output['masses'] = quarks, quark_masses\n",
                "output['kappapt'], output['tau'] = kappapt, tau\n",
                "filename = 'kappapt.pickle'\n",
                "with open(filename, 'wb') as handle:\n",
                "    pickle.dump(output, handle)"
            ]
        },
        {
            "cell_type": "markdown",
            "metadata": {},
            "source": [
                "## Read data from files using Julia"
            ]
        },
        {
            "cell_type": "code",
            "execution_count": 2,
            "metadata": {},
            "outputs": [
                {
                    "data": {
                        "text/plain": [
                            "3-element Vector{String}:\n",
                            " \"0.5\"\n",
                            " \"5.0\"\n",
                            " \"10.0\""
                        ]
                    },
                    "execution_count": 2,
                    "metadata": {},
                    "output_type": "execute_result"
                }
            ],
            "source": [
                "using Pickle\n",
                "\n",
                "results = [\"sigmapt\", \"kappapt\"]\n",
                "\n",
                "function string_as_varname(s::AbstractString,v::Any)\n",
                "    s=Symbol(s)\n",
                "    return @eval (($s) = ($v))\n",
                "end\n",
                "\n",
                "for r in results\n",
                "    file = string_as_varname(\"file_\" * r, \"results/\" * r * \".pickle\")\n",
                "    data = string_as_varname(\"data_\" * r, Pickle.npyload(file))\n",
                "    string_as_varname(r,  data[r])\n",
                "    string_as_varname(\"tau_\" * r,  data[\"tau\"])\n",
                "end\n",
                "\n",
                "quarks = data_sigmapt[\"quarks\"]\n",
                "pTs = string.(data_sigmapt[\"pTs\"])"
            ]
        },
        {
            "cell_type": "markdown",
            "metadata": {},
            "source": [
                "## Plot the results using Makie from Julia"
            ]
        },
        {
            "cell_type": "code",
            "execution_count": 3,
            "metadata": {},
            "outputs": [
                {
                    "data": {
                        "image/png": "[encoded data removed]",
                        "text/plain": [
                            "Scene (1500px, 400px):\n",
                            "  54 Plots:\n",
                            "    ├ Combined{Makie.poly, Tuple{Vector{Vector{Point{2, Float32}}}}}\n",
                            "    ├ LineSegments{Tuple{Vector{Point{2, Float32}}}}\n",
                            "    ├ LineSegments{Tuple{Vector{Point{2, Float32}}}}\n",
                            "    ├ LineSegments{Tuple{Vector{Point{2, Float32}}}}\n",
                            "    ├ LineSegments{Tuple{Vector{Point{2, Float32}}}}\n",
                            "    ├ LineSegments{Tuple{Vector{Point{2, Float32}}}}\n",
                            "    ├ LineSegments{Tuple{Vector{Point{2, Float32}}}}\n",
                            "    ├ MakieCore.Text{Tuple{LaTeXStrings.LaTeXString}}\n",
                            "    ├ Lines{Tuple{Vector{Point{2, Float32}}}}\n",
                            "    ├ MakieCore.Text{Tuple{Vector{Tuple{AbstractString, Point{2, Float32}}}}}\n",
                            "    ├ LineSegments{Tuple{Vector{Point{2, Float32}}}}\n",
                            "    ├ LineSegments{Tuple{Vector{Point{2, Float32}}}}\n",
                            "    ├ MakieCore.Text{Tuple{LaTeXStrings.LaTeXString}}\n",
                            "    ├ Lines{Tuple{Vector{Point{2, Float32}}}}\n",
                            "    ├ MakieCore.Text{Tuple{Vector{Tuple{AbstractString, Point{2, Float32}}}}}\n",
                            "    ├ Lines{Tuple{Vector{Point{2, Float32}}}}\n",
                            "    ├ Lines{Tuple{Vector{Point{2, Float32}}}}\n",
                            "    ├ MakieCore.Text{Tuple{String}}\n",
                            "    ├ Combined{Makie.poly, Tuple{Vector{Vector{Point{2, Float32}}}}}\n",
                            "    ├ LineSegments{Tuple{Vector{Point{2, Float32}}}}\n",
                            "    ├ LineSegments{Tuple{Vector{Point{2, Float32}}}}\n",
                            "    ├ LineSegments{Tuple{Vector{Point{2, Float32}}}}\n",
                            "    ├ LineSegments{Tuple{Vector{Point{2, Float32}}}}\n",
                            "    ├ LineSegments{Tuple{Vector{Point{2, Float32}}}}\n",
                            "    ├ LineSegments{Tuple{Vector{Point{2, Float32}}}}\n",
                            "    ├ MakieCore.Text{Tuple{LaTeXStrings.LaTeXString}}\n",
                            "    ├ Lines{Tuple{Vector{Point{2, Float32}}}}\n",
                            "    ├ MakieCore.Text{Tuple{Vector{Tuple{AbstractString, Point{2, Float32}}}}}\n",
                            "    ├ LineSegments{Tuple{Vector{Point{2, Float32}}}}\n",
                            "    ├ LineSegments{Tuple{Vector{Point{2, Float32}}}}\n",
                            "    ├ MakieCore.Text{Tuple{LaTeXStrings.LaTeXString}}\n",
                            "    ├ Lines{Tuple{Vector{Point{2, Float32}}}}\n",
                            "    ├ MakieCore.Text{Tuple{Vector{Tuple{AbstractString, Point{2, Float32}}}}}\n",
                            "    ├ Lines{Tuple{Vector{Point{2, Float32}}}}\n",
                            "    ├ Lines{Tuple{Vector{Point{2, Float32}}}}\n",
                            "    ├ MakieCore.Text{Tuple{String}}\n",
                            "    ├ Combined{Makie.poly, Tuple{Vector{Vector{Point{2, Float32}}}}}\n",
                            "    ├ LineSegments{Tuple{Vector{Point{2, Float32}}}}\n",
                            "    ├ LineSegments{Tuple{Vector{Point{2, Float32}}}}\n",
                            "    ├ LineSegments{Tuple{Vector{Point{2, Float32}}}}\n",
                            "    ├ LineSegments{Tuple{Vector{Point{2, Float32}}}}\n",
                            "    ├ LineSegments{Tuple{Vector{Point{2, Float32}}}}\n",
                            "    ├ LineSegments{Tuple{Vector{Point{2, Float32}}}}\n",
                            "    ├ MakieCore.Text{Tuple{LaTeXStrings.LaTeXString}}\n",
                            "    ├ Lines{Tuple{Vector{Point{2, Float32}}}}\n",
                            "    ├ MakieCore.Text{Tuple{Vector{Tuple{AbstractString, Point{2, Float32}}}}}\n",
                            "    ├ LineSegments{Tuple{Vector{Point{2, Float32}}}}\n",
                            "    ├ LineSegments{Tuple{Vector{Point{2, Float32}}}}\n",
                            "    ├ MakieCore.Text{Tuple{LaTeXStrings.LaTeXString}}\n",
                            "    ├ Lines{Tuple{Vector{Point{2, Float32}}}}\n",
                            "    ├ MakieCore.Text{Tuple{Vector{Tuple{AbstractString, Point{2, Float32}}}}}\n",
                            "    ├ Lines{Tuple{Vector{Point{2, Float32}}}}\n",
                            "    ├ Lines{Tuple{Vector{Point{2, Float32}}}}\n",
                            "    └ MakieCore.Text{Tuple{String}}\n",
                            "  5 Child Scenes:\n",
                            "    ├ Scene (455px, 321px)\n",
                            "    ├ Scene (456px, 321px)\n",
                            "    ├ Scene (456px, 321px)\n",
                            "    ├ Scene (1500px, 400px)\n",
                            "    └ Scene (1500px, 400px)"
                        ]
                    },
                    "metadata": {},
                    "output_type": "display_data"
                },
                {
                    "data": {
                        "text/plain": [
                            "CairoScreen{Cairo.CairoSurfaceBase{UInt32}} with surface:\n",
                            "Cairo.CairoSurfaceBase{UInt32}(Ptr{Nothing} @0x00000000083dded0, 7500.0, 2000.0)\n"
                        ]
                    },
                    "execution_count": 3,
                    "metadata": {},
                    "output_type": "execute_result"
                }
            ],
            "source": [
                "using CairoMakie\n",
                "using ColorSchemes\n",
                "\n",
                "starrynight = cgrad(:starrynight, 11, categorical = true)\n",
                "colors = [starrynight[3], starrynight[6], starrynight[9]]\n",
                "linestyles = [:dash, :dashdot, :dot]\n",
                "\n",
                "fig = Figure(resolution = (1500, 400), font = \"CMU Serif\")\n",
                "axes = [Axis(fig[1, i], \n",
                "        xlabel=L\"\\tau\\,\\mathrm{[fm/c]}\", ylabel=L\"\\langle p_T^2\\,\\rangle\\,\\mathrm{[GeV^2]}\",\n",
                "        rightspinevisible = false, topspinevisible = false, xlabelsize = 22, ylabelsize= 22, xticklabelsize=16, yticklabelsize=16,\n",
                "        xtickalign = 1, xticksize=8, ytickalign=1, yticksize=5,  xlabelpadding = -5) \n",
                "     for i in 1:3]\n",
                "\n",
                "i = 1\n",
                "for iq in 1:length(quarks)\n",
                "    for ipT in 1:length(pTs)\n",
                "        tag_sigmapt = quarks[iq] * \"_pT_\" * pTs[ipT]\n",
                "        string_as_varname(\"linepT\"*string(i), lines!(axes[iq], tau_sigmapt[tag_sigmapt], sigmapt[tag_sigmapt], linewidth = 1.5, color=colors[iq], linestyle=linestyles[ipT]))\n",
                "        i = i+1\n",
                "\n",
                "        next_tag_sigmapt = quarks[iq] * \"_pT_\" * pTs[mod(ipT+1, 3)+1]\n",
                "        band!(axes[iq], tau_sigmapt[tag_sigmapt], sigmapt[tag_sigmapt], sigmapt[next_tag_sigmapt]; color = (colors[iq], 0.1))\n",
                "    end\n",
                "    tag_kappapt = quarks[iq]\n",
                "    string_as_varname(\"lineq\"*string(iq), lines!(axes[iq], Float64.(tau_kappapt[tag_kappapt]), kappapt[tag_kappapt], linewidth = 2.5, color=colors[iq]))\n",
                "\n",
                "    ylims!(axes[iq], 0, 7)\n",
                "    xlims!(axes[iq], 0, 1.05)\n",
                "    axes[iq].xticks = (0.25*(0:4), [\"0\", \"0.25\", \"0.5\", \"0.75\", \"1\"])\n",
                "    axes[iq].yticks = (2*(0:3), [\"\", \"2\", \"4\", \"6\"])\n",
                "end\n",
                "\n",
                "linkaxes!(axes[1], axes[2], axes[3])\n",
                "hideydecorations!(axes[2], grid = false)\n",
                "hideydecorations!(axes[3], grid = false)\n",
                "legendq = [L\"\\mathrm{Charm}\", L\"\\mathrm{Beauty}\", L\"\\mathrm{Infinitely\\,massive}\"]\n",
                "axislegend(axes[1], [lineq1, lineq2, lineq3], legendq, L\"\\mathrm{Static\\,quarks}\", labelsize=17, titlesize=19,\n",
                "    position = :ct, orientation = :horizontal, bgcolor = (:white, 0.7), framecolor=(:grey80, 0))\n",
                "legendpT = [L\"0.5\", L\"5.0\", L\"10.0\"]\n",
                "axislegend(axes[2], [linepT1, linepT2, linepT3], legendpT, L\"\\mathrm{Dynamic\\,quarks\\,with\\,}p_T\\,\\mathrm{[GeV]}\", labelsize=17, titlesize=19,\n",
                "    position = :ct, orientation = :horizontal, bgcolor = (:white, 0.7), framecolor=(:grey80, 0))\n",
                "\n",
                "display(fig)\n",
                "save(\"sigmapt_kappa.png\", fig, px_per_unit = 5.0) "
            ]
        },
        {
            "cell_type": "code",
            "execution_count": null,
            "metadata": {},
            "outputs": [],
            "source": []
        }
    ],
    "metadata": {
        "interpreter": {
            "hash": "50fba519a3e3a4634f635ec7332619e3aceac5abb997750bdb88b5674357649c"
        },
        "kernelspec": {
            "display_name": "Julia 1.6.3",
            "language": "julia",
            "name": "julia-1.6"
        },
        "language_info": {
            "file_extension": ".jl",
            "mimetype": "application/julia",
            "name": "julia",
            "version": "1.6.3"
        },
        "orig_nbformat": 4
    },
    "nbformat": 4,
    "nbformat_minor": 2
}
