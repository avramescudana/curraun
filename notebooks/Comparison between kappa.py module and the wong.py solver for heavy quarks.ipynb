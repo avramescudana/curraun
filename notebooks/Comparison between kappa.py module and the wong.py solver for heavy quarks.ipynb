{
    "cells": [
        {
            "cell_type": "markdown",
            "metadata": {},
            "source": [
                "# **Comparison between the kappa.py and wong.py modules**"
            ]
        },
        {
            "cell_type": "markdown",
            "metadata": {},
            "source": [
                "This notebook contains a comparison between the modules `kappa.py` and `wong.py`. The `kappa.py` module computes the momentum accumulated by a static parton, assuming that its position is fixed and the momentum changes only by virtue of the electric fields of the Glasma. The `wong.py` module contains the Wong solver for dynamic partons moving through the Glasma. "
            ]
        },
        {
            "cell_type": "markdown",
            "metadata": {},
            "source": [
                "## Default simulation parameters for the Glasma and the Wong solvers"
            ]
        },
        {
            "cell_type": "code",
            "execution_count": 1,
            "metadata": {},
            "outputs": [],
            "source": [
                "import numpy as np\n",
                "\n",
                "# hbar * c [GeV * fm]\n",
                "hbarc = 0.197326 \n",
                "\n",
                "# Simulation box \n",
                "L = 10      \n",
                "N = 512    \n",
                "tau_sim = 1.0     \n",
                "DTS = 8     \n",
                "\n",
                "# Glasma\n",
                "su_group = 'su3'\n",
                "Qs = 2.0        \n",
                "ns = 50    \n",
                "factor = 0.8        \n",
                "g2mu = Qs / factor     \n",
                "g = np.pi * np.sqrt(1 / np.log(Qs / 0.2))          \t\t\n",
                "mu = g2mu / g**2          \t\n",
                "ir = 0.1 * g**2 * mu         \n",
                "uv = 10.0           \n",
                "\n",
                "# Wong\n",
                "quark = 'charm'     \n",
                "mass = 1.275     \n",
                "tau_form = 0.06   \n",
                "pT = 0.5    \n",
                "ntp = 10**5  \n",
                "nevents = 5    \n",
                "representation = 'fundamental'      \n",
                "boundary = 'periodic'\n",
                "initialization = 'toy'       \n",
                "\n",
                "# Store relevant parameters in a dictionary\n",
                "p = {\n",
                "    'QUARK': quark,\n",
                "    'MASS': mass,           \n",
                "    'TFORM': tau_form,       \n",
                "    'PT': pT,       \n",
                "    'NTP' : ntp,\n",
                "    }"
            ]
        },
        {
            "cell_type": "markdown",
            "metadata": {},
            "source": [
                "## Set environment variables"
            ]
        },
        {
            "cell_type": "code",
            "execution_count": 2,
            "metadata": {},
            "outputs": [
                {
                    "name": "stdout",
                    "output_type": "stream",
                    "text": [
                        "Using CUDA\n",
                        "Using SU(3)\n",
                        "Using double precision\n",
                        "Using double precision\n"
                    ]
                }
            ],
            "source": [
                "import os\n",
                "os.environ[\"MY_NUMBA_TARGET\"] = \"cuda\"\n",
                "os.environ[\"PRECISION\"] = \"double\"\n",
                "os.environ[\"GAUGE_GROUP\"] = su_group\n",
                "\n",
                "# Import relevant modules\n",
                "import sys\n",
                "sys.path.append('..')\n",
                "\n",
                "# Glasma modules\n",
                "import curraun.core as core\n",
                "import curraun.mv as mv\n",
                "import curraun.initial as initial\n",
                "initial.DEBUG = False\n",
                "\n",
                "import curraun.su as su\n",
                "from curraun.numba_target import use_cuda\n",
                "if use_cuda:\n",
                "    from numba import cuda\n",
                "\n",
                "# Wong modules\n",
                "from curraun import wong\n",
                "wong.BOUNDARY = boundary\n",
                "from curraun.wong import init_pos, init_charge, init_mom_toy\n",
                "\n",
                "# Kappa module\n",
                "import curraun.kappa as kappa"
            ]
        },
        {
            "cell_type": "markdown",
            "metadata": {},
            "source": [
                "## Simulation routine for evolving the Glasma & solving Wong's equations\n",
                "Computes the transverse momentum variance."
            ]
        },
        {
            "cell_type": "code",
            "execution_count": 3,
            "metadata": {},
            "outputs": [],
            "source": [
                "import pickle\n",
                "from tqdm import tqdm\n",
                "\n",
                "# Simulation routine\n",
                "def simulate(p, ev): \n",
                "    mass = p['MASS']\n",
                "    pT = p['PT']\n",
                "    tau_form = p['TFORM']\n",
                "\n",
                "    # Derived parameters\n",
                "    a = L / N\n",
                "    E0 = N / L * hbarc\n",
                "    DT = 1.0 / DTS\n",
                "    formt = int(tau_form / a * DTS)\n",
                "    maxt = int(tau_sim / a * DTS)\n",
                "\n",
                "    tau = np.linspace(tau_form, tau_sim, maxt-formt)\n",
                "\n",
                "    # Initialize Glasma fields\n",
                "    s = core.Simulation(N, DT, g)\n",
                "    va = mv.wilson(s, mu=mu / E0, m=ir / E0, uv=uv / E0, num_sheets=ns)\n",
                "    vb = mv.wilson(s, mu=mu / E0, m=ir / E0, uv=uv / E0, num_sheets=ns)\n",
                "    initial.init(s, va, vb)\n",
                "\n",
                "    # Initialize the Wong solver\n",
                "    wong_solver = wong.WongSolver(s, ntp)\n",
                "    x0s, p0s, q0s = np.zeros((ntp, 3)), np.zeros((ntp, 5)), np.zeros((ntp, su.ALGEBRA_ELEMENTS))\n",
                "    masses = mass / E0 * np.ones(ntp)\n",
                "\n",
                "    for i in range(ntp):\n",
                "        x0, p0, q0 = init_pos(s.n), init_mom_toy('pT', pT / E0), init_charge(representation)\n",
                "        x0s[i, :], p0s[i, :], q0s[i, :] = x0, p0, q0\n",
                "\n",
                "    wong_solver.initialize(x0s, p0s, q0s, masses)\n",
                "\n",
                "    # Momentum broadening from the Wong solver\n",
                "    mom_broad = np.zeros((maxt-formt, 4))\n",
                "\n",
                "    with tqdm(total=maxt) as pbar:\n",
                "        for t in range(maxt):\n",
                "            # Solve Wong's equations\n",
                "            if t>=formt:  \n",
                "                # Compute momentum broadening from Wong solver\n",
                "                mom_broad[t-formt] = wong_solver.p_sq_mean * E0**2\n",
                "                wong_solver.evolve()\n",
                "                wong_solver.compute_mom_broad()\n",
                "\n",
                "            # Evolve Glasma fields\n",
                "            core.evolve_leapfrog(s)\n",
                "\n",
                "            pbar.set_description(\"Event \" + str(ev+1))\n",
                "            pbar.update(1)\n",
                "\n",
                "    return mom_broad, tau"
            ]
        },
        {
            "cell_type": "markdown",
            "metadata": {},
            "source": [
                "## Running the Wong solver over multiple Glasma events\n",
                "This is done for various quarks and values of initial transverse momenta, afterwards perform averages and store the results to a dictionary. The masses for charm and beauty quarks are taken from [PDGLive](https://pdglive.lbl.gov/Viewer.action), the formation time is chosen as $\\tau_\\mathrm{form}=1/(2m_\\mathrm{quark})$. "
            ]
        },
        {
            "cell_type": "code",
            "execution_count": 4,
            "metadata": {},
            "outputs": [
                {
                    "name": "stdout",
                    "output_type": "stream",
                    "text": [
                        "Charm quark\n",
                        "Transverse momentum 0.5 GeV\n"
                    ]
                },
                {
                    "name": "stderr",
                    "output_type": "stream",
                    "text": [
                        "Event 1: 100%|██████████| 409/409 [02:11<00:00,  3.10it/s]\n",
                        "Event 2: 100%|██████████| 409/409 [02:06<00:00,  3.23it/s]\n",
                        "Event 3: 100%|██████████| 409/409 [02:07<00:00,  3.22it/s]\n",
                        "Event 4: 100%|██████████| 409/409 [02:06<00:00,  3.22it/s]\n",
                        "Event 5: 100%|██████████| 409/409 [02:06<00:00,  3.23it/s]\n"
                    ]
                },
                {
                    "name": "stdout",
                    "output_type": "stream",
                    "text": [
                        "Transverse momentum 5.0 GeV\n"
                    ]
                },
                {
                    "name": "stderr",
                    "output_type": "stream",
                    "text": [
                        "Event 1: 100%|██████████| 409/409 [02:07<00:00,  3.22it/s]\n",
                        "Event 2: 100%|██████████| 409/409 [02:07<00:00,  3.22it/s]\n",
                        "Event 3: 100%|██████████| 409/409 [02:08<00:00,  3.19it/s]\n",
                        "Event 4: 100%|██████████| 409/409 [02:07<00:00,  3.20it/s]\n",
                        "Event 5: 100%|██████████| 409/409 [02:08<00:00,  3.19it/s]\n"
                    ]
                },
                {
                    "name": "stdout",
                    "output_type": "stream",
                    "text": [
                        "Transverse momentum 10.0 GeV\n"
                    ]
                },
                {
                    "name": "stderr",
                    "output_type": "stream",
                    "text": [
                        "Event 1: 100%|██████████| 409/409 [02:08<00:00,  3.19it/s]\n",
                        "Event 2: 100%|██████████| 409/409 [02:07<00:00,  3.20it/s]\n",
                        "Event 3: 100%|██████████| 409/409 [02:07<00:00,  3.20it/s]\n",
                        "Event 4: 100%|██████████| 409/409 [02:08<00:00,  3.19it/s]\n",
                        "Event 5: 100%|██████████| 409/409 [02:08<00:00,  3.19it/s]\n"
                    ]
                },
                {
                    "name": "stdout",
                    "output_type": "stream",
                    "text": [
                        "Beauty quark\n",
                        "Transverse momentum 0.5 GeV\n"
                    ]
                },
                {
                    "name": "stderr",
                    "output_type": "stream",
                    "text": [
                        "Event 1: 100%|██████████| 409/409 [02:10<00:00,  3.13it/s]\n",
                        "Event 2: 100%|██████████| 409/409 [02:10<00:00,  3.13it/s]\n",
                        "Event 3: 100%|██████████| 409/409 [02:10<00:00,  3.13it/s]\n",
                        "Event 4: 100%|██████████| 409/409 [02:10<00:00,  3.13it/s]\n",
                        "Event 5: 100%|██████████| 409/409 [02:10<00:00,  3.13it/s]\n"
                    ]
                },
                {
                    "name": "stdout",
                    "output_type": "stream",
                    "text": [
                        "Transverse momentum 5.0 GeV\n"
                    ]
                },
                {
                    "name": "stderr",
                    "output_type": "stream",
                    "text": [
                        "Event 1: 100%|██████████| 409/409 [02:10<00:00,  3.14it/s]\n",
                        "Event 2: 100%|██████████| 409/409 [02:10<00:00,  3.13it/s]\n",
                        "Event 3: 100%|██████████| 409/409 [02:10<00:00,  3.13it/s]\n",
                        "Event 4: 100%|██████████| 409/409 [02:10<00:00,  3.13it/s]\n",
                        "Event 5: 100%|██████████| 409/409 [02:10<00:00,  3.13it/s]\n"
                    ]
                },
                {
                    "name": "stdout",
                    "output_type": "stream",
                    "text": [
                        "Transverse momentum 10.0 GeV\n"
                    ]
                },
                {
                    "name": "stderr",
                    "output_type": "stream",
                    "text": [
                        "Event 1: 100%|██████████| 409/409 [02:10<00:00,  3.13it/s]\n",
                        "Event 2: 100%|██████████| 409/409 [02:10<00:00,  3.13it/s]\n",
                        "Event 3: 100%|██████████| 409/409 [02:10<00:00,  3.13it/s]\n",
                        "Event 4: 100%|██████████| 409/409 [02:10<00:00,  3.13it/s]\n",
                        "Event 5: 100%|██████████| 409/409 [02:10<00:00,  3.13it/s]\n"
                    ]
                },
                {
                    "name": "stdout",
                    "output_type": "stream",
                    "text": [
                        "Massive quark\n",
                        "Transverse momentum 0.5 GeV\n"
                    ]
                },
                {
                    "name": "stderr",
                    "output_type": "stream",
                    "text": [
                        "Event 1: 100%|██████████| 409/409 [02:11<00:00,  3.10it/s]\n",
                        "Event 2: 100%|██████████| 409/409 [02:11<00:00,  3.10it/s]\n",
                        "Event 3: 100%|██████████| 409/409 [02:11<00:00,  3.11it/s]\n",
                        "Event 4: 100%|██████████| 409/409 [02:11<00:00,  3.10it/s]\n",
                        "Event 5: 100%|██████████| 409/409 [02:11<00:00,  3.10it/s]\n"
                    ]
                },
                {
                    "name": "stdout",
                    "output_type": "stream",
                    "text": [
                        "Transverse momentum 5.0 GeV\n"
                    ]
                },
                {
                    "name": "stderr",
                    "output_type": "stream",
                    "text": [
                        "Event 1: 100%|██████████| 409/409 [02:11<00:00,  3.10it/s]\n",
                        "Event 2: 100%|██████████| 409/409 [02:11<00:00,  3.11it/s]\n",
                        "Event 3: 100%|██████████| 409/409 [02:11<00:00,  3.10it/s]\n",
                        "Event 4: 100%|██████████| 409/409 [02:12<00:00,  3.10it/s]\n",
                        "Event 5: 100%|██████████| 409/409 [02:11<00:00,  3.11it/s]\n"
                    ]
                },
                {
                    "name": "stdout",
                    "output_type": "stream",
                    "text": [
                        "Transverse momentum 10.0 GeV\n"
                    ]
                },
                {
                    "name": "stderr",
                    "output_type": "stream",
                    "text": [
                        "Event 1: 100%|██████████| 409/409 [02:11<00:00,  3.11it/s]\n",
                        "Event 2: 100%|██████████| 409/409 [02:11<00:00,  3.10it/s]\n",
                        "Event 3: 100%|██████████| 409/409 [02:11<00:00,  3.10it/s]\n",
                        "Event 4: 100%|██████████| 409/409 [02:11<00:00,  3.11it/s]\n",
                        "Event 5: 100%|██████████| 409/409 [02:11<00:00,  3.10it/s]\n"
                    ]
                }
            ],
            "source": [
                "quarks = ['charm', 'beauty', 'massive']\n",
                "quark_masses = [1.27, 4.18, 1000]\n",
                "pTs = [0.5, 5.0, 10.0]\n",
                "# formation_times = [0.02, 0.08, 0]\n",
                "\n",
                "mom_broad, tau = {}, {}\n",
                "for iq in range(len(quarks)):\n",
                "    print(quarks[iq].capitalize() + \" quark\")\n",
                "    p['QUARK'], p['MASS'] = quarks[iq], quark_masses[iq]\n",
                "    p['TFORM'] = 1/(2*p['MASS'])*hbarc \n",
                "    # p['TFORM'] = formation_times[iq]\n",
                "\n",
                "    for pT in pTs:\n",
                "        print('Transverse momentum', pT, 'GeV')\n",
                "        p['PT'] = pT\n",
                "        tag = quarks[iq] + '_pT_' + str(pT)\n",
                "        p['FOLDER'] = su_group + '_pT_' + str(pT) + '_' + quarks[iq] \n",
                "        \n",
                "        # formt, maxt = int(p['TFORM'] / L * N * DTS), int(tau_sim / L * N * DTS)\n",
                "        # taus = np.linspace(p['TFORM'], tau_sim, maxt-formt)\n",
                "\n",
                "        mom_broads = []\n",
                "        for ev in range(nevents):\n",
                "            mom_broad_ev, tau_wong = simulate(p, ev)\n",
                "            mom_broads.append(mom_broad_ev)\n",
                "\n",
                "        mom_broad[tag] = np.mean(mom_broads, axis=0)\n",
                "        tau[tag] = tau_wong\n",
                "\n",
                "output = {}\n",
                "output['quarks'], output['pTs'], output['masses'] = quarks, pTs, quark_masses\n",
                "output['mom_broad'], output['tau'] = mom_broad, tau\n",
                "filename = 'mom_broad_wong_qs_' + str(Qs) + '.pickle'\n",
                "with open(filename, 'wb') as handle:\n",
                "    pickle.dump(output, handle)"
            ]
        },
        {
            "cell_type": "markdown",
            "metadata": {},
            "source": [
                "## Simulation routine for the static quark case"
            ]
        },
        {
            "cell_type": "code",
            "execution_count": 5,
            "metadata": {},
            "outputs": [],
            "source": [
                "def simulate_kappa(p, ev): \n",
                "    # Derived parameters\n",
                "    a = L / N\n",
                "    E0 = N / L * hbarc\n",
                "    DT = 1.0 / DTS\n",
                "    formt = int(p['TFORM'] / a * DTS)\n",
                "    maxt = int(tau_sim / a * DTS)\n",
                "\n",
                "    # Initialize Glasma fields\n",
                "    s = core.Simulation(N, DT, g)\n",
                "    va = mv.wilson(s, mu=mu / E0, m=ir / E0, uv=uv / E0, num_sheets=ns)\n",
                "    vb = mv.wilson(s, mu=mu / E0, m=ir / E0, uv=uv / E0, num_sheets=ns)\n",
                "    initial.init(s, va, vb)\n",
                "\n",
                "    # Initialize the Kappa module\n",
                "    kappa_tforce = kappa.TransportedForce(s)\n",
                "    mom_broad_kappa, tau_kappa =  [], []\n",
                "\n",
                "    if use_cuda:\n",
                "        kappa_tforce.copy_to_device()\n",
                "\n",
                "    with tqdm(total=maxt) as pbar:\n",
                "        for t in range(maxt):\n",
                "            if t>=formt:  \n",
                "                # Compute momentum broadening from Kappa module\n",
                "                if t % DTS == 0:\n",
                "                    if use_cuda:\n",
                "                        kappa_tforce.copy_mean_to_host()\n",
                "\n",
                "                    mom_broad_kappa.append(kappa_tforce.p_perp_mean * E0 ** 2)\n",
                "                    tau_kappa.append(t*a/DTS)\n",
                "                    \n",
                "                    if use_cuda:\n",
                "                        kappa_tforce.copy_mean_to_device()\n",
                "                kappa_tforce.compute()\n",
                "\n",
                "            # Evolve Glasma fields\n",
                "            core.evolve_leapfrog(s)\n",
                "\n",
                "            pbar.set_description(\"Event \" + str(ev+1))\n",
                "            pbar.update(1)\n",
                "\n",
                "    return mom_broad_kappa, tau_kappa"
            ]
        },
        {
            "cell_type": "markdown",
            "metadata": {},
            "source": [
                "## Run over multiple Glasma events and do averages"
            ]
        },
        {
            "cell_type": "code",
            "execution_count": 6,
            "metadata": {},
            "outputs": [
                {
                    "name": "stdout",
                    "output_type": "stream",
                    "text": [
                        "Charm quark\n"
                    ]
                },
                {
                    "name": "stderr",
                    "output_type": "stream",
                    "text": [
                        "Event 1: 100%|██████████| 409/409 [01:12<00:00,  5.65it/s]\n",
                        "Event 2: 100%|██████████| 409/409 [01:11<00:00,  5.71it/s]\n",
                        "Event 3: 100%|██████████| 409/409 [01:15<00:00,  5.40it/s]\n",
                        "Event 4: 100%|██████████| 409/409 [01:56<00:00,  3.50it/s]\n",
                        "Event 5: 100%|██████████| 409/409 [01:54<00:00,  3.57it/s]\n"
                    ]
                },
                {
                    "name": "stdout",
                    "output_type": "stream",
                    "text": [
                        "Beauty quark\n"
                    ]
                },
                {
                    "name": "stderr",
                    "output_type": "stream",
                    "text": [
                        "Event 1: 100%|██████████| 409/409 [02:04<00:00,  3.28it/s]\n",
                        "Event 2: 100%|██████████| 409/409 [01:52<00:00,  3.63it/s]\n",
                        "Event 3: 100%|██████████| 409/409 [01:47<00:00,  3.80it/s]\n",
                        "Event 4: 100%|██████████| 409/409 [01:51<00:00,  3.65it/s]\n",
                        "Event 5: 100%|██████████| 409/409 [01:59<00:00,  3.43it/s]\n"
                    ]
                },
                {
                    "name": "stdout",
                    "output_type": "stream",
                    "text": [
                        "Massive quark\n"
                    ]
                },
                {
                    "name": "stderr",
                    "output_type": "stream",
                    "text": [
                        "Event 1: 100%|██████████| 409/409 [02:04<00:00,  3.28it/s]\n",
                        "Event 2: 100%|██████████| 409/409 [01:57<00:00,  3.49it/s]\n",
                        "Event 3: 100%|██████████| 409/409 [01:44<00:00,  3.90it/s]\n",
                        "Event 4: 100%|██████████| 409/409 [01:45<00:00,  3.89it/s]\n",
                        "Event 5: 100%|██████████| 409/409 [01:40<00:00,  4.06it/s]\n"
                    ]
                }
            ],
            "source": [
                "quarks = ['charm', 'beauty', 'massive']\n",
                "quark_masses = [1.27, 4.18, 100]\n",
                "pTs = [0.5, 5.0, 10.0]\n",
                "# formation_times = [0.02, 0.08, 0]\n",
                "\n",
                "mom_broad, tau = {}, {}\n",
                "for iq in range(len(quarks)):\n",
                "    print(quarks[iq].capitalize() + \" quark\")\n",
                "    p['QUARK'], p['MASS'] = quarks[iq], quark_masses[iq]\n",
                "    p['TFORM'] = 1/(2*p['MASS'])*hbarc\n",
                "    # p['TOFMR'] = formation_times[iq]\n",
                "\n",
                "    tag = quarks[iq]\n",
                "    p['FOLDER'] = su_group + '_kappa_' + quarks[iq] \n",
                "\n",
                "    mom_broads = []\n",
                "    for ev in range(nevents):\n",
                "        mom_broad_ev, tau[tag] = simulate_kappa(p, ev)\n",
                "        mom_broads.append(mom_broad_ev)\n",
                "\n",
                "    mom_broad[tag] = np.mean(mom_broads, axis=0)\n",
                "\n",
                "output = {}\n",
                "output['quarks'], output['masses'] = quarks, quark_masses\n",
                "output['mom_broad'], output['tau'] = mom_broad, tau\n",
                "filename = 'mom_broad_kappa_qs_' + str(Qs) + '.pickle'\n",
                "with open(filename, 'wb') as handle:\n",
                "    pickle.dump(output, handle)"
            ]
        },
        {
            "cell_type": "markdown",
            "metadata": {},
            "source": [
                "## Read data from files using Julia"
            ]
        },
        {
            "cell_type": "code",
            "execution_count": 1,
            "metadata": {},
            "outputs": [
                {
                    "data": {
                        "text/plain": [
                            "3-element Vector{String}:\n",
                            " \"0.5\"\n",
                            " \"5.0\"\n",
                            " \"10.0\""
                        ]
                    },
                    "execution_count": 1,
                    "metadata": {},
                    "output_type": "execute_result"
                }
            ],
            "source": [
                "using Pickle\n",
                "\n",
                "Qs = 2.0\n",
                "results = [\"wong\", \"kappa\"]\n",
                "\n",
                "function string_as_varname(s::AbstractString,v::Any)\n",
                "    s=Symbol(s)\n",
                "    return @eval (($s) = ($v))\n",
                "end\n",
                "\n",
                "for r in results\n",
                "    file = string_as_varname(\"file_\" * r, \"mom_broad_\" * r * \"_lhc.pickle\")\n",
                "    data = string_as_varname(\"data_\" * r, Pickle.npyload(file))\n",
                "    string_as_varname(\"mom_broad_\" * r,  data[\"mom_broad\"])\n",
                "    string_as_varname(\"tau_\" * r,  data[\"tau\"])\n",
                "end\n",
                "\n",
                "quarks = data_wong[\"quarks\"]\n",
                "pTs = string.(data_wong[\"pTs\"])"
            ]
        },
        {
            "cell_type": "markdown",
            "metadata": {},
            "source": [
                "## Plot the results using Makie from Julia"
            ]
        },
        {
            "cell_type": "code",
            "execution_count": 8,
            "metadata": {},
            "outputs": [
                {
                    "data": {
                        "image/png": "[encoded data removed]",
                        "text/plain": [
                            "Scene (1500px, 400px):\n",
                            "  54 Plots:\n",
                            "    ├ Combined{Makie.poly, Tuple{Vector{Vector{Point{2, Float32}}}}}\n",
                            "    ├ LineSegments{Tuple{Vector{Point{2, Float32}}}}\n",
                            "    ├ LineSegments{Tuple{Vector{Point{2, Float32}}}}\n",
                            "    ├ LineSegments{Tuple{Vector{Point{2, Float32}}}}\n",
                            "    ├ LineSegments{Tuple{Vector{Point{2, Float32}}}}\n",
                            "    ├ LineSegments{Tuple{Vector{Point{2, Float32}}}}\n",
                            "    ├ LineSegments{Tuple{Vector{Point{2, Float32}}}}\n",
                            "    ├ MakieCore.Text{Tuple{LaTeXStrings.LaTeXString}}\n",
                            "    ├ Lines{Tuple{Vector{Point{2, Float32}}}}\n",
                            "    ├ MakieCore.Text{Tuple{Vector{Tuple{AbstractString, Point{2, Float32}}}}}\n",
                            "    ├ LineSegments{Tuple{Vector{Point{2, Float32}}}}\n",
                            "    ├ LineSegments{Tuple{Vector{Point{2, Float32}}}}\n",
                            "    ├ MakieCore.Text{Tuple{LaTeXStrings.LaTeXString}}\n",
                            "    ├ Lines{Tuple{Vector{Point{2, Float32}}}}\n",
                            "    ├ MakieCore.Text{Tuple{Vector{Tuple{AbstractString, Point{2, Float32}}}}}\n",
                            "    ├ Lines{Tuple{Vector{Point{2, Float32}}}}\n",
                            "    ├ Lines{Tuple{Vector{Point{2, Float32}}}}\n",
                            "    ├ MakieCore.Text{Tuple{String}}\n",
                            "    ├ Combined{Makie.poly, Tuple{Vector{Vector{Point{2, Float32}}}}}\n",
                            "    ├ LineSegments{Tuple{Vector{Point{2, Float32}}}}\n",
                            "    ├ LineSegments{Tuple{Vector{Point{2, Float32}}}}\n",
                            "    ├ LineSegments{Tuple{Vector{Point{2, Float32}}}}\n",
                            "    ├ LineSegments{Tuple{Vector{Point{2, Float32}}}}\n",
                            "    ├ LineSegments{Tuple{Vector{Point{2, Float32}}}}\n",
                            "    ├ LineSegments{Tuple{Vector{Point{2, Float32}}}}\n",
                            "    ├ MakieCore.Text{Tuple{LaTeXStrings.LaTeXString}}\n",
                            "    ├ Lines{Tuple{Vector{Point{2, Float32}}}}\n",
                            "    ├ MakieCore.Text{Tuple{Vector{Tuple{AbstractString, Point{2, Float32}}}}}\n",
                            "    ├ LineSegments{Tuple{Vector{Point{2, Float32}}}}\n",
                            "    ├ LineSegments{Tuple{Vector{Point{2, Float32}}}}\n",
                            "    ├ MakieCore.Text{Tuple{LaTeXStrings.LaTeXString}}\n",
                            "    ├ Lines{Tuple{Vector{Point{2, Float32}}}}\n",
                            "    ├ MakieCore.Text{Tuple{Vector{Tuple{AbstractString, Point{2, Float32}}}}}\n",
                            "    ├ Lines{Tuple{Vector{Point{2, Float32}}}}\n",
                            "    ├ Lines{Tuple{Vector{Point{2, Float32}}}}\n",
                            "    ├ MakieCore.Text{Tuple{String}}\n",
                            "    ├ Combined{Makie.poly, Tuple{Vector{Vector{Point{2, Float32}}}}}\n",
                            "    ├ LineSegments{Tuple{Vector{Point{2, Float32}}}}\n",
                            "    ├ LineSegments{Tuple{Vector{Point{2, Float32}}}}\n",
                            "    ├ LineSegments{Tuple{Vector{Point{2, Float32}}}}\n",
                            "    ├ LineSegments{Tuple{Vector{Point{2, Float32}}}}\n",
                            "    ├ LineSegments{Tuple{Vector{Point{2, Float32}}}}\n",
                            "    ├ LineSegments{Tuple{Vector{Point{2, Float32}}}}\n",
                            "    ├ MakieCore.Text{Tuple{LaTeXStrings.LaTeXString}}\n",
                            "    ├ Lines{Tuple{Vector{Point{2, Float32}}}}\n",
                            "    ├ MakieCore.Text{Tuple{Vector{Tuple{AbstractString, Point{2, Float32}}}}}\n",
                            "    ├ LineSegments{Tuple{Vector{Point{2, Float32}}}}\n",
                            "    ├ LineSegments{Tuple{Vector{Point{2, Float32}}}}\n",
                            "    ├ MakieCore.Text{Tuple{LaTeXStrings.LaTeXString}}\n",
                            "    ├ Lines{Tuple{Vector{Point{2, Float32}}}}\n",
                            "    ├ MakieCore.Text{Tuple{Vector{Tuple{AbstractString, Point{2, Float32}}}}}\n",
                            "    ├ Lines{Tuple{Vector{Point{2, Float32}}}}\n",
                            "    ├ Lines{Tuple{Vector{Point{2, Float32}}}}\n",
                            "    └ MakieCore.Text{Tuple{String}}\n",
                            "  5 Child Scenes:\n",
                            "    ├ Scene (453px, 318px)\n",
                            "    ├ Scene (452px, 318px)\n",
                            "    ├ Scene (453px, 318px)\n",
                            "    ├ Scene (1500px, 400px)\n",
                            "    └ Scene (1500px, 400px)"
                        ]
                    },
                    "metadata": {},
                    "output_type": "display_data"
                },
                {
                    "data": {
                        "text/plain": [
                            "CairoScreen{Cairo.CairoSurfaceBase{UInt32}} with surface:\n",
                            "Cairo.CairoSurfaceBase{UInt32}(Ptr{Nothing} @0x000000000b9bf380, 7500.0, 2000.0)\n"
                        ]
                    },
                    "execution_count": 8,
                    "metadata": {},
                    "output_type": "execute_result"
                }
            ],
            "source": [
                "using CairoMakie\n",
                "using ColorSchemes\n",
                "\n",
                "starrynight = cgrad(:starrynight, 11, categorical = true)\n",
                "colors = [starrynight[3], starrynight[6], starrynight[9]]\n",
                "linestyles = [:dash, :dashdot, :dot]\n",
                "\n",
                "fig = Figure(resolution = (1500, 400), font = \"CMU Serif\")\n",
                "axes = [Axis(fig[1, i], \n",
                "        xlabel=L\"\\tau\\,\\mathrm{[fm/c]}\", ylabel=L\"\\langle p_T^2\\,\\rangle\\,\\mathrm{[GeV^2]}\",\n",
                "        rightspinevisible = false, topspinevisible = false, xlabelsize = 24, ylabelsize= 24, xticklabelsize=16, yticklabelsize=16,\n",
                "        xtickalign = 1, xticksize=8, ytickalign=1, yticksize=5,  xlabelpadding = -5) \n",
                "     for i in 1:3]\n",
                "\n",
                "i = 1\n",
                "for iq in 1:length(quarks)\n",
                "    for ipT in 1:length(pTs)\n",
                "        tag_wong = quarks[iq] * \"_pT_\" * pTs[ipT]\n",
                "        mom_broad_T_wong = (mom_broad_wong[tag_wong][:, 1] + mom_broad_wong[tag_wong][:, 2])\n",
                "        string_as_varname(\"linepT\"*string(i), lines!(axes[iq], tau_wong[tag_wong], mom_broad_T_wong, linewidth = 1.5, color=colors[iq], linestyle=linestyles[ipT]))\n",
                "        i = i+1\n",
                "\n",
                "        next_tag_wong = quarks[iq] * \"_pT_\" * pTs[mod(ipT+1, 3)+1]\n",
                "        next_mom_broad_T_wong = (mom_broad_wong[next_tag_wong][:, 1] + mom_broad_wong[next_tag_wong][:, 2])\n",
                "        band!(axes[iq], tau_wong[tag_wong], mom_broad_T_wong, next_mom_broad_T_wong; color = (colors[iq], 0.1))\n",
                "    end\n",
                "    tag_kappa = quarks[iq]\n",
                "    mom_broad_T_kappa = (mom_broad_kappa[tag_kappa][:, 1] + mom_broad_kappa[tag_kappa][:, 2])\n",
                "    string_as_varname(\"lineq\"*string(iq), lines!(axes[iq], Float64.(tau_kappa[tag_kappa]), mom_broad_T_kappa, linewidth = 2.5, color=colors[iq]))\n",
                "\n",
                "    xlims!(axes[iq], 0, 1.05)\n",
                "    axes[iq].xticks = (0.25*(0:4), [\"0\", \"0.25\", \"0.5\", \"0.75\", \"1\"])\n",
                "    # Qs = 1.0\n",
                "    # ylims!(axes[iq], 0, 2.1)\n",
                "    # axes[iq].yticks = (0.5*(0:4), [\"\", \"0.5\", \"1\", \"1.5\", \"2\"])\n",
                "    # Qs = 2.0\n",
                "    ylims!(axes[iq], 0, 13)\n",
                "    axes[iq].yticks = (3*(0:4), [\"\", \"3\", \"6\", \"9\", \"12\"])\n",
                "    # Qs = 3.0\n",
                "    # ylims!(axes[iq], 0, 19)\n",
                "    # axes[iq].yticks = (4*(0:4), [\"\", \"4\", \"8\", \"12\", \"16\"])\n",
                "\n",
                "    # ylims!(axes[iq], 0, 9)\n",
                "    # axes[iq].yticks = (2*(0:4), [\"\", \"2\", \"4\", \"6\", \"8\"])\n",
                "end\n",
                "\n",
                "linkaxes!(axes[1], axes[2], axes[3])\n",
                "hideydecorations!(axes[2], grid = false)\n",
                "hideydecorations!(axes[3], grid = false)\n",
                "legendq = [L\"\\mathrm{Charm}\", L\"\\mathrm{Beauty}\", L\"\\mathrm{Infinitely\\,massive}\"]\n",
                "axislegend(axes[1], [lineq1, lineq2, lineq3], legendq, L\"\\mathrm{Static\\,quarks}\", labelsize=17, titlesize=19,\n",
                "    position = :ct, orientation = :horizontal, bgcolor = (:white, 0.7), framecolor=(:grey80, 0))\n",
                "legendpT = [L\"0.5\", L\"5.0\", L\"10.0\"]\n",
                "axislegend(axes[2], [linepT1, linepT2, linepT3], legendpT, L\"\\mathrm{Dynamic\\,quarks\\,with\\,}p_T\\,\\mathrm{[GeV]}\", labelsize=17, titlesize=19,\n",
                "    position = :ct, orientation = :horizontal, bgcolor = (:white, 0.7), framecolor=(:grey80, 0))\n",
                "\n",
                "display(fig)\n",
                "save(\"mom_broad_wong_vs_kappa_qs_\" * string(Qs) * \".png\", fig, px_per_unit = 5.0) "
            ]
        }
    ],
    "metadata": {
        "interpreter": {
            "hash": "50fba519a3e3a4634f635ec7332619e3aceac5abb997750bdb88b5674357649c"
        },
        "kernelspec": {
            "display_name": "Julia 1.6.3",
            "language": "julia",
            "name": "julia-1.6"
        },
        "language_info": {
            "file_extension": ".jl",
            "mimetype": "application/julia",
            "name": "julia",
            "version": "1.6.3"
        },
        "orig_nbformat": 4
    },
    "nbformat": 4,
    "nbformat_minor": 2
}
