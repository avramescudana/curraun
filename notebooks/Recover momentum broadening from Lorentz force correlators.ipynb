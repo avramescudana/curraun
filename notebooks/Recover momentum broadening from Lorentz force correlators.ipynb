{
    "cells": [
        {
            "cell_type": "markdown",
            "metadata": {},
            "source": [
                "# **Recover the transverse momentum broadening from correlators of Lorentz forces**"
            ]
        },
        {
            "cell_type": "markdown",
            "metadata": {},
            "source": [
                "## Default simulation parameters for the Glasma and the Wong solvers"
            ]
        },
        {
            "cell_type": "code",
            "execution_count": 1,
            "metadata": {},
            "outputs": [],
            "source": [
                "import numpy as np\n",
                "\n",
                "# Define hbar * c in units of GeV * fm\n",
                "hbarc = 0.197326 \n",
                "\n",
                "# General parameters\n",
                "su_group = 'su3'        # Gauge group\n",
                "representation = 'fundamental'      # Fundamental or adjoint representation\n",
                "boundary = 'periodic'        # Periodic boundary conditions or frozen dynamics at boundary\n",
                "\n",
                "# Simulation box parameters\n",
                "L = 10      # Length of simulation box [fm]\n",
                "N = 512     # Number of lattice sites\n",
                "tau_sim = 0.5     # Simulation time [fm/c]\n",
                "DTS = 8     # Time step\n",
                "\n",
                "# MV model parameters\n",
                "Qs = 2              # Saturation momentum [GeV]\t\n",
                "ns = 50     # Number of color sheets\n",
                "factor = 0.8        # Ratio between Qs/g^2\\mu for Ns = 50 color sheets\n",
                "g = np.pi * np.sqrt(1 / np.log(Qs / 0.2))           # Running coupling constant\t\t\n",
                "mu = Qs / (g**2 * factor)           # MV model parameter\t\n",
                "ir = 0.1 * g**2 * mu         # Infrared regulator [GeV]\n",
                "uv = 10.0           # Ultraviolet regulator [GeV]\n",
                "\n",
                "# Heavy quark related parameters, chosen here for a charm quark\n",
                "quark = 'massive'     # Quark type\n",
                "mass = 1000      # Heavy quark mass [GeV]\n",
                "tau_form = 1/(2*mass)*hbarc     # Formation time [fm/c]\n",
                "pT = 0.5    # Initial transverse momentum [GeV]\n",
                "ntp = 100000   # Number of test particles\n",
                "\n",
                "# Other numerical parameters\n",
                "nevents = 1    # Number of Glasma events\n",
                "\n",
                "# Store relevant parameters in a dictionary\n",
                "p = {\n",
                "    'QUARK': quark,\n",
                "    'MASS': mass,           \n",
                "    'TFORM': tau_form,       \n",
                "    'PT': pT,          \n",
                "    }"
            ]
        },
        {
            "cell_type": "markdown",
            "metadata": {},
            "source": [
                "## Set environment variables and import all relevant modules"
            ]
        },
        {
            "cell_type": "code",
            "execution_count": 2,
            "metadata": {},
            "outputs": [
                {
                    "name": "stdout",
                    "output_type": "stream",
                    "text": [
                        "Using CUDA\n",
                        "Using SU(3)\n",
                        "Using double precision\n",
                        "Using double precision\n"
                    ]
                }
            ],
            "source": [
                "import os\n",
                "os.environ[\"MY_NUMBA_TARGET\"] = \"cuda\"\n",
                "os.environ[\"PRECISION\"] = \"double\"\n",
                "os.environ[\"GAUGE_GROUP\"] = su_group\n",
                "os.environ[\"REPRESENTATION\"] = representation\n",
                "os.environ[\"BOUNDARY\"] = boundary\n",
                "\n",
                "# Import relevant modules\n",
                "import sys\n",
                "sys.path.append('..')\n",
                "\n",
                "# Glasma modules\n",
                "import curraun.core as core\n",
                "import curraun.mv as mv\n",
                "import curraun.initial as initial\n",
                "initial.DEBUG = False\n",
                "from curraun.fields_correlators import FieldsCorrelators\n",
                "# Wong modules\n",
                "from curraun import wong\n",
                "wong.DEBUG = False\n",
                "from curraun.wong import init_charge\n",
                "from curraun.wong_correlators import ForceCorrelators\n",
                "import curraun.kappa_wong as kappa_wong\n",
                "import curraun.kappa as kappa\n",
                "\n",
                "import curraun.su as su\n",
                "from curraun.numba_target import use_cuda\n",
                "if use_cuda:\n",
                "    from numba import cuda"
            ]
        },
        {
            "cell_type": "markdown",
            "metadata": {},
            "source": [
                "# Method 1: momentum broadening from post processing\n",
                "## Run the Wong solver, store the Lorentz forces and Wilson lines"
            ]
        },
        {
            "cell_type": "code",
            "execution_count": 3,
            "metadata": {},
            "outputs": [
                {
                    "name": "stderr",
                    "output_type": "stream",
                    "text": [
                        "100%|██████████| 204/204 [01:41<00:00,  2.00it/s]\n"
                    ]
                }
            ],
            "source": [
                "from tqdm import tqdm\n",
                "\n",
                "# Derived parameters\n",
                "a = L / N\n",
                "E0 = N / L * hbarc\n",
                "DT = 1.0 / DTS\n",
                "formt = int(p['TFORM'] / a * DTS)\n",
                "maxt = int(tau_sim / a * DTS)\n",
                "\n",
                "# Initialize Glasma fields\n",
                "s = core.Simulation(N, DT, g)\n",
                "va = mv.wilson(s, mu=mu / E0, m=ir / E0, uv=uv / E0, num_sheets=ns)\n",
                "vb = mv.wilson(s, mu=mu / E0, m=ir / E0, uv=uv / E0, num_sheets=ns)\n",
                "initial.init(s, va, vb)\n",
                "\n",
                "# Initialize the Wong solver\n",
                "wong_solver = wong.WongSolver(s, ntp)\n",
                "pT = p['PT'] / E0\n",
                "x0s, p0s, q0s = np.zeros((ntp, 3)), np.zeros((ntp, 4)), np.zeros((ntp, su.ALGEBRA_ELEMENTS))\n",
                "mass = p['MASS'] / E0 \n",
                "m = mass * np.ones(ntp)\n",
                "fcorr = ForceCorrelators(s, wong_solver, ntp)\n",
                "\n",
                "for i in range(ntp):\n",
                "    # Positions\n",
                "    xT = np.random.rand(2) * s.n\n",
                "    x0 = [xT[0], xT[1], 0.0]\n",
                "    # Momenta\n",
                "    angle = 2*np.pi*np.random.rand(1)\n",
                "    p0 = [0.0, pT * np.cos(angle), pT * np.sin(angle), 0.0]\n",
                "    # Charges\n",
                "    q0 = init_charge()\n",
                "\n",
                "    x0s[i, :], p0s[i, :], q0s[i, :] = x0, p0, q0\n",
                "\n",
                "wong_solver.initialize(x0s, p0s, q0s, m)\n",
                "\n",
                "ws, fs = np.zeros((maxt-formt, ntp, su.GROUP_ELEMENTS)), np.zeros((maxt-formt, ntp, 3, su.GROUP_ELEMENTS))\n",
                "sigmapt_avg = np.zeros(maxt-formt)\n",
                "\n",
                "with tqdm(total=maxt) as pbar:\n",
                "    for t in range(maxt):\n",
                "        # Evolve Glasma fields\n",
                "        core.evolve_leapfrog(s)\n",
                "\n",
                "        # Solve Wong's equations\n",
                "        if t>=formt:  \n",
                "            wong_solver.evolve()\n",
                "            \n",
                "            # Store the Lorentz forces and Wilson lines\n",
                "            fcorr.compute_lorentz_force()\n",
                "            fs[t-formt] = fcorr.f.copy()\n",
                "            ws[t-formt] = wong_solver.w.copy()\n",
                "           \n",
                "            # Compute the momentum broadening\n",
                "            if t==formt:\n",
                "                pmu0 = wong_solver.p.copy()\n",
                "                px0, py0 = pmu0[:, 1], pmu0[:, 2]\n",
                "            pmu = wong_solver.p.copy()\n",
                "            px, py = pmu[:, 1], pmu[:, 2]\n",
                "            sigmapt = (px-px0)**2 + (py-py0)**2\n",
                "            sigmapt_avg[t-formt] = np.mean(sigmapt) * E0**2\n",
                "\n",
                "        pbar.update(1)"
            ]
        },
        {
            "cell_type": "markdown",
            "metadata": {},
            "source": [
                "## Version 1 \n",
                "Compute the trace of the autocorrelation function $\\mathrm{Tr}\\{ F_i(\\tau_n) W(\\tau_n, \\tau_m) F_i(\\tau_m) W^\\dagger(\\tau_n, \\tau_m)\\rangle \\}$, where the appropriate Wilson lines are inserted, and afterwards recover the momentum broadening as $\\langle p_i^2\\rangle(\\tau) = g^2\\sum\\limits_{\\tau_n}^{\\tau}\\sum\\limits_{\\tau_m}^{\\tau} (\\delta\\tau)^2 \\langle \\mathrm{Tr}\\{F_i(\\tau_n) W(\\tau_n, \\tau_m) F_i(\\tau_m) W^\\dagger(\\tau_n, \\tau_m)\\}\\rangle$. Here, the Lorentz forces $F_i(\\tau_n)\\equiv F_i\\big(x_T(\\tau_n))\\big)$ are evaluated along the particle's trajectory and the Wilson lines $W(\\tau_n,\\tau_m)\\equiv W\\big(x_T(\\tau_n), x_T(\\tau_m))\\big)$ are computed as $W(\\tau_n,\\tau_m)=U(\\tau_m)U^\\dagger(\\tau_n)$, in which $U(\\tau_n)\\equiv U\\big(x_T(\\tau_n)\\big)$ are the Wilson lines used in solving the rotation of the color charge."
            ]
        },
        {
            "cell_type": "code",
            "execution_count": 4,
            "metadata": {},
            "outputs": [],
            "source": [
                "autocorr = np.zeros(((maxt-formt)//DTS+1, ntp, 3))\n",
                "# Set the time step to the numerical one used in the leapfrog solver\n",
                "dt = 1/DTS\n",
                "\n",
                "tau_autocorr = []\n",
                "for tau in range(formt, maxt, DTS):\n",
                "    tau_autocorr.append(tau)\n",
                "    tau_step = round((tau-formt)/DTS)\n",
                "    autocorr_tau = 0\n",
                "    for tau_n in range(formt, tau, DTS):\n",
                "        for tau_m in range(formt, tau, DTS):\n",
                "            fcorr.compute_lorentz_force_autocorrelator(fs[tau_n, :, :, :], fs[tau_m, :, :, :], ws[tau_n, :, :], ws[tau_m, :, :])\n",
                "            ftau_n_ftau_m = fcorr.auto_corr.copy().real\n",
                "            # autocorr_tau += ftau_n_ftau_m * dt**2\n",
                "            autocorr_tau += ftau_n_ftau_m\n",
                "    autocorr[tau_step] = autocorr_tau\n",
                "\n",
                "autocorr_avg = np.mean(autocorr, axis=1)\n",
                "autocorr_T = (autocorr_avg[:,0]+autocorr_avg[:,1])* E0**2"
            ]
        },
        {
            "cell_type": "code",
            "execution_count": 5,
            "metadata": {},
            "outputs": [
                {
                    "data": {
                        "image/png": "[encoded data removed]",
                        "text/plain": [
                            "<Figure size 648x432 with 1 Axes>"
                        ]
                    },
                    "metadata": {},
                    "output_type": "display_data"
                }
            ],
            "source": [
                "import matplotlib.pyplot as plt\n",
                "\n",
                "plt.rcParams['text.usetex'] = True\n",
                "plt.rcParams[\"figure.figsize\"] = (9, 6)\n",
                "plt.rcParams.update({'font.size':14})\n",
                "\n",
                "fig = plt.figure()\n",
                "ax = plt.subplot()\n",
                "\n",
                "plt.xlabel(r'$\\tau\\,\\mathrm{[fm/c]}$', size = 20)\n",
                "plt.ylabel(r'$\\langle p_i^2\\rangle(\\tau)\\,\\mathrm{[GeV^2]}$', size = 20)\n",
                "\n",
                "ax.spines[\"top\"].set_visible(False)\n",
                "ax.spines[\"right\"].set_visible(False)\n",
                "ax.tick_params(direction='in')\n",
                "\n",
                "tau_corr = np.multiply(tau_autocorr, a/DTS)\n",
                "ax.plot(tau_corr, autocorr_T, color='r')\n",
                "tau = np.multiply(range(formt, maxt, 1), a/DTS)\n",
                "ax.plot(tau, sigmapt_avg, color='b')\n",
                "\n",
                "lines = ax.get_lines()\n",
                "legend1 = plt.legend([lines[i] for i in [0, 1]], [r'$\\mathrm{correlators}$', r'$\\mathrm{wong\\,solver}$'], loc = 'upper right', ncol=1, bbox_to_anchor=(0.35,0.95), fontsize='16')\n",
                "legend1.get_frame().set_boxstyle('square')\n",
                "legend1.get_title().set_fontsize('18')\n",
                "\n",
                "fig.patch.set_facecolor('white')"
            ]
        },
        {
            "cell_type": "markdown",
            "metadata": {},
            "source": [
                "## Version 2\n",
                "The momentum broadening at a certain time $\\langle p_i^2\\rangle(\\tau) = \\sum\\limits_{\\tau^\\prime}^\\tau\\sum\\limits_{\\tau^{\\prime\\prime}}^\\tau\\delta\\tau^\\prime\\delta\\tau^{\\prime\\prime}\\langle F_i(\\tau^\\prime)F_i(\\tau^{\\prime\\prime})\\rangle_{W}$ may be used to express the momentum broadening at the next time as $\\langle p_i^2\\rangle(\\tau+\\delta\\tau)=\\langle p_i^2\\rangle(\\tau)+2\\sum\\limits_{\\tau^\\prime}^\\tau \\delta\\tau^\\prime\\langle F_i(\\tau^\\prime)F_i(\\tau+\\delta\\tau)\\rangle_W + \\langle F_i(\\tau+\\delta\\tau)F_i(\\tau+\\delta\\tau)\\rangle_W$, where $\\langle FF\\rangle_W$ denotes the correlator of Lorentz force transported with the appropriate Wilson lines $W$."
            ]
        },
        {
            "cell_type": "code",
            "execution_count": 6,
            "metadata": {},
            "outputs": [],
            "source": [
                "autocorr = np.zeros(((maxt-formt)//DTS+1, ntp, 3))\n",
                "\n",
                "for t in range(formt, maxt, DTS):\n",
                "    sumprime = 0\n",
                "    for tprime in range(formt, t, DTS):\n",
                "        fcorr.compute_lorentz_force_autocorrelator(fs[(t-formt), :, :, :], fs[(tprime-formt), :, :, :], ws[(t-formt), :, :], ws[(tprime-formt), :, :])\n",
                "        ftprimeftnplus = fcorr.auto_corr.copy().real\n",
                "        sumprime += ftprimeftnplus\n",
                "    fcorr.compute_lorentz_force_autocorrelator(fs[(t-formt), :, :, :], fs[(t-formt), :, :, :], ws[(t-formt), :, :], ws[(t-formt), :, :])\n",
                "    ftnplusftnplus = fcorr.auto_corr.copy().real\n",
                "    autocorr[(t-formt)//DTS] += autocorr[(t-formt)//DTS-1] + (2*sumprime + ftnplusftnplus) \n",
                "\n",
                "autocorr_avg = np.mean(autocorr, axis=1)\n",
                "autocorr_T = np.multiply((autocorr_avg[:,0]+autocorr_avg[:,1]), E0**2)"
            ]
        },
        {
            "cell_type": "code",
            "execution_count": 8,
            "metadata": {},
            "outputs": [
                {
                    "data": {
                        "image/png": "[encoded data removed]",
                        "text/plain": [
                            "<Figure size 648x432 with 1 Axes>"
                        ]
                    },
                    "metadata": {},
                    "output_type": "display_data"
                }
            ],
            "source": [
                "import matplotlib.pyplot as plt\n",
                "\n",
                "plt.rcParams['text.usetex'] = True\n",
                "plt.rcParams[\"figure.figsize\"] = (9, 6)\n",
                "plt.rcParams.update({'font.size':14})\n",
                "\n",
                "fig = plt.figure()\n",
                "ax = plt.subplot()\n",
                "\n",
                "plt.xlabel(r'$\\tau\\,\\mathrm{[fm/c]}$', size = 20)\n",
                "plt.ylabel(r'$\\langle p_i^2\\rangle(\\tau)\\,\\mathrm{[GeV^2]}$', size = 20)\n",
                "\n",
                "ax.spines[\"top\"].set_visible(False)\n",
                "ax.spines[\"right\"].set_visible(False)\n",
                "ax.tick_params(direction='in')\n",
                "\n",
                "tau_corr = np.multiply(range(formt, maxt,DTS), a/DTS)\n",
                "ax.plot(tau_corr, autocorr_T, color='r')\n",
                "tau = np.multiply(range(formt, maxt, 1), a/DTS)\n",
                "ax.plot(tau, sigmapt_avg, color='b')\n",
                "\n",
                "lines = ax.get_lines()\n",
                "legend1 = plt.legend([lines[i] for i in [0, 1]], [r'$\\mathrm{correlators}$', r'$\\mathrm{wong\\,solver}$'], loc = 'upper right', ncol=1, bbox_to_anchor=(0.35,0.95), fontsize='16')\n",
                "legend1.get_frame().set_boxstyle('square')\n",
                "legend1.get_title().set_fontsize('18')\n",
                "\n",
                "fig.patch.set_facecolor('white')"
            ]
        },
        {
            "cell_type": "markdown",
            "metadata": {},
            "source": [
                "# Method 2: momentum broadening from `kappa_wong.py`\n",
                "## Compute momentum broadening similarly as in `kappa.py` but with Lorentz forces along the trajectories"
            ]
        },
        {
            "cell_type": "code",
            "execution_count": 9,
            "metadata": {},
            "outputs": [
                {
                    "name": "stderr",
                    "output_type": "stream",
                    "text": [
                        "100%|██████████| 204/204 [00:21<00:00,  9.70it/s]\n"
                    ]
                }
            ],
            "source": [
                "from tqdm import tqdm\n",
                "\n",
                "# Derived parameters\n",
                "a = L / N\n",
                "E0 = N / L * hbarc\n",
                "DT = 1.0 / DTS\n",
                "formt = int(p['TFORM'] / a * DTS)\n",
                "maxt = int(tau_sim / a * DTS)\n",
                "\n",
                "# Initialize Glasma fields\n",
                "s = core.Simulation(N, DT, g)\n",
                "va = mv.wilson(s, mu=mu / E0, m=ir / E0, uv=uv / E0, num_sheets=ns)\n",
                "vb = mv.wilson(s, mu=mu / E0, m=ir / E0, uv=uv / E0, num_sheets=ns)\n",
                "initial.init(s, va, vb)\n",
                "\n",
                "# Initialize the Wong solver\n",
                "wong_solver = wong.WongSolver(s, ntp)\n",
                "pT = p['PT'] / E0\n",
                "x0s, p0s, q0s = np.zeros((ntp, 3)), np.zeros((ntp, 4)), np.zeros((ntp, su.ALGEBRA_ELEMENTS))\n",
                "mass = p['MASS'] / E0 \n",
                "m = mass * np.ones(ntp)\n",
                "\n",
                "for i in range(ntp):\n",
                "    # Positions\n",
                "    xT = np.random.rand(2) * s.n\n",
                "    x0 = [xT[0], xT[1], 0.0]\n",
                "    # Momenta\n",
                "    angle = 2*np.pi*np.random.rand(1)\n",
                "    p0 = [0.0, pT * np.cos(angle), pT * np.sin(angle), 0.0]\n",
                "    # Charges\n",
                "    q0 = init_charge()\n",
                "\n",
                "    x0s[i, :], p0s[i, :], q0s[i, :] = x0, p0, q0\n",
                "\n",
                "wong_solver.initialize(x0s, p0s, q0s, m)\n",
                "\n",
                "kappa_wong_tforce = kappa_wong.TransportedForce(s, wong_solver, ntp)\n",
                "kappawongpt, tau =  [], []\n",
                "\n",
                "kappa_tforce = kappa.TransportedForce(s)\n",
                "kappapt =  []\n",
                "\n",
                "if use_cuda:\n",
                "    s.copy_to_device()\n",
                "    kappa_tforce.copy_to_device()\n",
                "    kappa_wong_tforce.copy_to_device()\n",
                "\n",
                "sigmapt_avg = np.zeros(maxt-formt)\n",
                "# ps = np.zeros((maxt-formt, ntp, 4))\n",
                "\n",
                "with tqdm(total=maxt) as pbar:\n",
                "    for t in range(maxt):\n",
                "        # Evolve Glasma fields\n",
                "        core.evolve_leapfrog(s)\n",
                "\n",
                "        # Solve Wong's equations\n",
                "        if t>=formt:  \n",
                "            if t % DTS == 0:\n",
                "                if use_cuda:\n",
                "                    kappa_wong_tforce.copy_mean_to_host()\n",
                "                    kappa_tforce.copy_mean_to_host()\n",
                "\n",
                "                px_kappa, py_kappa = kappa_wong_tforce.p_perp_mean[0], kappa_wong_tforce.p_perp_mean[1]\n",
                "                kappawongpt.append((px_kappa + py_kappa) * E0 ** 2)\n",
                "                tau.append(t*a/DTS)\n",
                "\n",
                "                px_kappa, py_kappa = kappa_tforce.p_perp_mean[0], kappa_tforce.p_perp_mean[1]\n",
                "                kappapt.append((px_kappa + py_kappa) * E0 ** 2)\n",
                "                \n",
                "                if use_cuda:\n",
                "                    kappa_wong_tforce.copy_mean_to_device()\n",
                "                    kappa_tforce.copy_mean_to_device()\n",
                "\n",
                "            kappa_wong_tforce.compute(wong_solver)\n",
                "            kappa_tforce.compute()\n",
                "\n",
                "            wong_solver.evolve()\n",
                "\n",
                "            if t==formt:\n",
                "                pmu0 = wong_solver.p.copy()\n",
                "                px0, py0 = pmu0[:, 1], pmu0[:, 2]\n",
                "            pmu = wong_solver.p.copy()\n",
                "            px, py = pmu[:, 1], pmu[:, 2]\n",
                "            sigmapt = (px-px0)**2 + (py-py0)**2\n",
                "            sigmapt_avg[t-formt] = np.mean(sigmapt) * E0**2\n",
                "            # ps[t-formt] = wong_solver.p.copy()\n",
                "\n",
                "        pbar.update(1)"
            ]
        },
        {
            "cell_type": "code",
            "execution_count": 10,
            "metadata": {},
            "outputs": [
                {
                    "data": {
                        "image/png": "[encoded data removed]",
                        "text/plain": [
                            "<Figure size 648x432 with 1 Axes>"
                        ]
                    },
                    "metadata": {},
                    "output_type": "display_data"
                }
            ],
            "source": [
                "import matplotlib.pyplot as plt\n",
                "\n",
                "plt.rcParams['text.usetex'] = True\n",
                "plt.rcParams[\"figure.figsize\"] = (9, 6)\n",
                "plt.rcParams.update({'font.size':14})\n",
                "\n",
                "fig = plt.figure()\n",
                "ax = plt.subplot()\n",
                "\n",
                "plt.xlabel(r'$\\tau\\,\\mathrm{[fm/c]}$', size = 20)\n",
                "plt.ylabel(r'$\\langle p_i^2\\rangle(\\tau)\\,\\mathrm{[GeV^2]}$', size = 20)\n",
                "\n",
                "ax.spines[\"top\"].set_visible(False)\n",
                "ax.spines[\"right\"].set_visible(False)\n",
                "ax.tick_params(direction='in')\n",
                "\n",
                "ax.plot(tau, kappawongpt, color='r')\n",
                "ax.plot(tau, kappapt, color='g')\n",
                "tau_sigmapt = np.multiply(range(formt, maxt, 1), a/DTS)\n",
                "ax.plot(tau_sigmapt, sigmapt_avg, color='b')\n",
                "\n",
                "lines = ax.get_lines()\n",
                "legend1 = plt.legend([lines[i] for i in [0, 1, 2]], [r'$\\mathrm{kappa\\_wong.py}$', r'$\\mathrm{kappa.py}$', r'$\\mathrm{wong.py}$'], loc = 'upper right', ncol=1, bbox_to_anchor=(0.95,0.35), fontsize='16')\n",
                "legend1.get_frame().set_boxstyle('square')\n",
                "legend1.get_title().set_fontsize('18')\n",
                "\n",
                "fig.patch.set_facecolor('white')"
            ]
        }
    ],
    "metadata": {
        "interpreter": {
            "hash": "50fba519a3e3a4634f635ec7332619e3aceac5abb997750bdb88b5674357649c"
        },
        "kernelspec": {
            "display_name": "Python 3.6.13 64-bit ('curraun': conda)",
            "name": "python3"
        },
        "language_info": {
            "codemirror_mode": {
                "name": "ipython",
                "version": 3
            },
            "file_extension": ".py",
            "mimetype": "text/x-python",
            "name": "python",
            "nbconvert_exporter": "python",
            "pygments_lexer": "ipython3",
            "version": "3.6.13"
        },
        "orig_nbformat": 4
    },
    "nbformat": 4,
    "nbformat_minor": 2
}
