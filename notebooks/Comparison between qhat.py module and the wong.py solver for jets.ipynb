{
    "cells": [
        {
            "cell_type": "markdown",
            "metadata": {},
            "source": [
                "# **Comparison between the qhat.py and wong.py modules**"
            ]
        },
        {
            "cell_type": "markdown",
            "metadata": {},
            "source": [
                "This notebook contains a comparison between the modules `qhat.py` and `wong.py`. The `qhat.py` module computes the momentum accumulated by a jet moving along the $x$-axis. The `wong.py` module contains the Wong solver for dynamic partons moving through the Glasma. "
            ]
        },
        {
            "cell_type": "markdown",
            "metadata": {},
            "source": [
                "## Default simulation parameters for the Glasma and the Wong solvers"
            ]
        },
        {
            "cell_type": "code",
            "execution_count": 1,
            "metadata": {},
            "outputs": [],
            "source": [
                "import numpy as np\n",
                "import pickle\n",
                "from tqdm import tqdm\n",
                "\n",
                "# Define hbar * c in units of GeV * fm\n",
                "hbarc = 0.197326 \n",
                "\n",
                "# General parameters\n",
                "su_group = 'su3'        # Gauge group\n",
                "\n",
                "# Simulation box parameters\n",
                "L = 10      # Length of simulation box [fm]\n",
                "N = 512     # Number of lattice sites\n",
                "tau_sim = 1.0     # Simulation time [fm/c]\n",
                "DTS = 8     # Time step\n",
                "\n",
                "# MV model parameters\n",
                "Qs = 2              # Saturation momentum [GeV]\t\n",
                "ns = 50     # Number of color sheets\n",
                "factor = 0.8        # Ratio between Qs/g^2\\mu for Ns = 50 color sheets\n",
                "g = np.pi * np.sqrt(1 / np.log(Qs / 0.2))           # Running coupling constant\t\t\n",
                "mu = Qs / (g**2 * factor)           # MV model parameter\t\n",
                "ir = 0.1 * g**2 * mu         # Infrared regulator [GeV]\n",
                "uv = 10.0           # Ultraviolet regulator [GeV]\n",
                "\n",
                "# Jet related parameters\n",
                "mass = 2.16/10**3      # Quark mass, up quark for example [GeV]\n",
                "px = 1000    # Initial transverse momentum [GeV]\n",
                "ntp = 100000   # Number of test particles\n",
                "\n",
                "# Other numerical parameters\n",
                "nevents = 1    # Number of Glasma events\n",
                "folder = su_group + '_jets'       # Results folder\n",
                "\n",
                "# Store relevant parameters in a dictionary\n",
                "p = {\n",
                "    'MASS': mass,           \n",
                "    'PX': px,          \n",
                "    'FOLDER': folder,         \n",
                "    }"
            ]
        },
        {
            "cell_type": "markdown",
            "metadata": {},
            "source": [
                "## Set environment variables"
            ]
        },
        {
            "cell_type": "code",
            "execution_count": 2,
            "metadata": {},
            "outputs": [
                {
                    "name": "stdout",
                    "output_type": "stream",
                    "text": [
                        "Using CUDA\n",
                        "Using SU(3)\n",
                        "Using double precision\n",
                        "Using double precision\n"
                    ]
                }
            ],
            "source": [
                "import os\n",
                "os.environ[\"MY_NUMBA_TARGET\"] = \"cuda\"\n",
                "os.environ[\"PRECISION\"] = \"double\"\n",
                "os.environ[\"GAUGE_GROUP\"] = su_group\n",
                "\n",
                "# Import relevant modules\n",
                "import sys\n",
                "sys.path.append('..')\n",
                "\n",
                "# Glasma modules\n",
                "import curraun.core as core\n",
                "import curraun.mv as mv\n",
                "import curraun.initial as initial\n",
                "initial.DEBUG = False\n",
                "# Wong modules\n",
                "from curraun import wong\n",
                "wong.DEBUG = False\n",
                "wong.REPRESENTATION = 'fundamental'\n",
                "wong.BOUNDARY = 'periodic'\n",
                "from curraun.wong import init_charge\n",
                "# Kappa module\n",
                "import curraun.qhat as qhat\n",
                "\n",
                "import curraun.su as su\n",
                "from curraun.numba_target import use_cuda\n",
                "if use_cuda:\n",
                "    from numba import cuda\n",
                "\n",
                "# Path where results are saved\n",
                "current_path = os.getcwd() \n",
                "results_folder = 'results'\n",
                "if not os.path.isdir(results_folder):\n",
                "    os.makedirs(results_folder)\n",
                "os.chdir(current_path + '/' + results_folder)"
            ]
        },
        {
            "cell_type": "markdown",
            "metadata": {},
            "source": [
                "## Simulation routine for evolving the Glasma & solving Wong's equations\n",
                "Stores $\\langle p_y^2\\rangle$ and $\\langle p_\\eta^2\\rangle$."
            ]
        },
        {
            "cell_type": "code",
            "execution_count": 3,
            "metadata": {},
            "outputs": [],
            "source": [
                "# Simulation routine\n",
                "def simulate(p, ev): \n",
                "    output = {}\n",
                "\n",
                "    # Derived parameters\n",
                "    a = L / N\n",
                "    E0 = N / L * hbarc\n",
                "    DT = 1.0 / DTS\n",
                "    maxt = int(tau_sim / a * DTS)\n",
                "    tau = np.linspace(0, tau_sim, maxt)\n",
                "\n",
                "    # Initialize Glasma fields\n",
                "    s = core.Simulation(N, DT, g)\n",
                "    va = mv.wilson(s, mu=mu / E0, m=ir / E0, uv=uv / E0, num_sheets=ns)\n",
                "    vb = mv.wilson(s, mu=mu / E0, m=ir / E0, uv=uv / E0, num_sheets=ns)\n",
                "    initial.init(s, va, vb)\n",
                "\n",
                "    # Initialize the Wong solver\n",
                "    wong_solver = wong.WongSolver(s, ntp)\n",
                "    px = p['PX'] / E0\n",
                "    x0s, p0s, q0s = np.zeros((ntp, 3)), np.zeros((ntp, 4)), np.zeros((ntp, su.ALGEBRA_ELEMENTS))\n",
                "    mass = p['MASS'] / E0 \n",
                "    m = mass * np.ones(ntp)\n",
                "\n",
                "    for i in range(ntp):\n",
                "        # Positions\n",
                "        xT = np.random.rand(2) * s.n\n",
                "        x0 = [xT[0], xT[1], 0.0]\n",
                "        # Momenta, only along x-axis\n",
                "        p0 = [0.0, px, 0, 0.0]\n",
                "        # Charges\n",
                "        q0 = init_charge()\n",
                "\n",
                "        x0s[i, :], p0s[i, :], q0s[i, :] = x0, p0, q0\n",
                "\n",
                "    wong_solver.initialize(x0s, p0s, q0s, m)\n",
                "\n",
                "    # xs = np.zeros((maxt-formt, ntp, 4))\n",
                "    # ps = np.zeros((maxt-formt, ntp, 4))\n",
                "    py, peta = np.zeros(maxt), np.zeros(maxt)\n",
                "\n",
                "    with tqdm(total=maxt) as pbar:\n",
                "        for t in range(maxt):\n",
                "            # Evolve Glasma fields\n",
                "            core.evolve_leapfrog(s)\n",
                "\n",
                "            # Solve Wong's equations\n",
                "            wong_solver.evolve()\n",
                "            # xs[t] = wong_solver.x0.copy()\n",
                "            # ps[t] = wong_solver.p.copy()\n",
                "            pmu = wong_solver.p.copy()\n",
                "            py[t], peta[t] = np.mean(pmu[:, 2]**2), np.mean(pmu[:, 3]**2)\n",
                "\n",
                "            pbar.set_description(\"Event \" + str(ev+1))\n",
                "            pbar.update(1)\n",
                "\n",
                "    # Save results to a specific folder\n",
                "    wong_folder = p['FOLDER']\n",
                "    if not os.path.isdir(wong_folder):\n",
                "        os.makedirs(wong_folder)\n",
                "    wong_path = current_path + '/' + results_folder + '/' + wong_folder + '/'\n",
                "    os.chdir(wong_path)\n",
                "\n",
                "    # output['xs'], output['ps'] = xs, ps\n",
                "    output['py'], output['peta'], output['tau'] = py, peta, tau\n",
                "    filename = 'ev_' + str(ev+1) + '.pickle'\n",
                "    with open(filename, 'wb') as handle:\n",
                "        pickle.dump(output, handle)\n",
                "\n",
                "    os.chdir(current_path + '/' + results_folder)\n",
                "\n",
                "    return output"
            ]
        },
        {
            "cell_type": "markdown",
            "metadata": {},
            "source": [
                "## Running the Wong solver over multiple Glasma events"
            ]
        },
        {
            "cell_type": "code",
            "execution_count": 4,
            "metadata": {},
            "outputs": [
                {
                    "name": "stderr",
                    "output_type": "stream",
                    "text": [
                        "Event 1: 100%|██████████| 409/409 [02:17<00:00,  2.97it/s]\n"
                    ]
                }
            ],
            "source": [
                "pys, petas = [], []\n",
                "for ev in range(nevents):\n",
                "    output = simulate(p, ev)\n",
                "    pys.append(output['py'])\n",
                "    petas.append(output['peta'])\n",
                "\n",
                "py_avg, peta_avg = np.mean(pys, axis=0), np.mean(petas, axis=0)\n",
                "\n",
                "results = {}\n",
                "results['py'], results['peta'], results['tau'] = py_avg, peta_avg, output['tau']\n",
                "filename = 'wong_mom_broad_jets.pickle'\n",
                "with open(filename, 'wb') as handle:\n",
                "    pickle.dump(results, handle)"
            ]
        },
        {
            "cell_type": "markdown",
            "metadata": {},
            "source": [
                "## Simulation routine for jets"
            ]
        },
        {
            "cell_type": "code",
            "execution_count": 5,
            "metadata": {},
            "outputs": [],
            "source": [
                "def simulate_qhat(p, ev): \n",
                "    output = {}\n",
                "\n",
                "    # Derived parameters\n",
                "    a = L / N\n",
                "    E0 = N / L * hbarc\n",
                "    DT = 1.0 / DTS\n",
                "    maxt = int(tau_sim / a * DTS)\n",
                "\n",
                "    # Initialize Glasma fields\n",
                "    s = core.Simulation(N, DT, g)\n",
                "    va = mv.wilson(s, mu=mu / E0, m=ir / E0, uv=uv / E0, num_sheets=ns)\n",
                "    vb = mv.wilson(s, mu=mu / E0, m=ir / E0, uv=uv / E0, num_sheets=ns)\n",
                "    initial.init(s, va, vb)\n",
                "\n",
                "    qhat_tforce = qhat.TransportedForce(s)\n",
                "    py_qhat, pz_qhat = [], []\n",
                "    tau_qhat = []\n",
                "\n",
                "    if use_cuda:\n",
                "        s.copy_to_device()\n",
                "        qhat_tforce.copy_to_device()\n",
                "\n",
                "    with tqdm(total=maxt) as pbar:\n",
                "        for t in range(maxt):\n",
                "            # Evolve Glasma fields\n",
                "            core.evolve_leapfrog(s)\n",
                "\n",
                "            if t % DTS == 0:\n",
                "                if use_cuda:\n",
                "                    qhat_tforce.copy_mean_to_host()\n",
                "\n",
                "                py_qhat.append(qhat_tforce.p_perp_mean[1]) \n",
                "                pz_qhat.append(qhat_tforce.p_perp_mean[2])\n",
                "                tau_qhat.append(t*a/DTS)\n",
                "                \n",
                "                if use_cuda:\n",
                "                    qhat_tforce.copy_mean_to_device()\n",
                "\n",
                "            qhat_tforce.compute()\n",
                "\n",
                "            pbar.set_description(\"Event \" + str(ev+1))\n",
                "            pbar.update(1)\n",
                "\n",
                "    qhat_folder = su_group + '_qhat'\n",
                "    if not os.path.isdir(qhat_folder):\n",
                "        os.makedirs(qhat_folder)\n",
                "    qhat_path = current_path + '/' + results_folder + '/' + qhat_folder + '/'\n",
                "    os.chdir(qhat_path)\n",
                "\n",
                "    output['py'], output['pz'], output['tau'] = np.array(py_qhat), np.array(pz_qhat), np.array(tau_qhat)\n",
                "    filename = 'ev_' + str(ev+1) + '.pickle'\n",
                "    with open(filename, 'wb') as handle:\n",
                "        pickle.dump(output, handle)\n",
                "\n",
                "    os.chdir(current_path + '/' + results_folder)\n",
                "\n",
                "    if use_cuda:\n",
                "        cuda.current_context().deallocations.clear()\n",
                "\n",
                "    return output"
            ]
        },
        {
            "cell_type": "markdown",
            "metadata": {},
            "source": [
                "## Run over multiple Glasma events and do averages"
            ]
        },
        {
            "cell_type": "code",
            "execution_count": 6,
            "metadata": {},
            "outputs": [
                {
                    "name": "stderr",
                    "output_type": "stream",
                    "text": [
                        "Event 1: 100%|██████████| 409/409 [00:10<00:00, 38.12it/s]\n"
                    ]
                }
            ],
            "source": [
                "pys, pzs = [], []\n",
                "for ev in range(nevents):\n",
                "    output = simulate_qhat(p, ev)\n",
                "    pys.append(output['py'])\n",
                "    pzs.append(output['pz'])\n",
                "\n",
                "py_avg, pz_avg = np.mean(pys, axis=0), np.mean(pzs, axis=0)\n",
                "\n",
                "results = {}\n",
                "results ['py'], results ['pz'], results ['tau'] = py_avg, pz_avg, output['tau']\n",
                "filename = 'qhat_mom_broad_jets.pickle'\n",
                "with open(filename, 'wb') as handle:\n",
                "    pickle.dump(results , handle)"
            ]
        },
        {
            "cell_type": "markdown",
            "metadata": {},
            "source": [
                "## Read data from files using Julia"
            ]
        },
        {
            "cell_type": "code",
            "execution_count": 1,
            "metadata": {},
            "outputs": [],
            "source": [
                "using Pickle\n",
                "\n",
                "results = [\"wong\", \"qhat\"]\n",
                "\n",
                "function string_as_varname(s::AbstractString,v::Any)\n",
                "    s=Symbol(s)\n",
                "    return @eval (($s) = ($v))\n",
                "end\n",
                "\n",
                "for r in results\n",
                "    file = string_as_varname(\"file_\" * r, \"results/\" * r * \"_mom_broad_jets.pickle\")\n",
                "    data = string_as_varname(\"data_\" * r, Pickle.npyload(file))\n",
                "    string_as_varname(r,  data)\n",
                "    string_as_varname(\"tau_\" * r,  data[\"tau\"])\n",
                "end"
            ]
        },
        {
            "cell_type": "markdown",
            "metadata": {},
            "source": [
                "## Plot the results using Makie from Julia"
            ]
        },
        {
            "cell_type": "code",
            "execution_count": 2,
            "metadata": {},
            "outputs": [
                {
                    "data": {
                        "image/png": "[encoded data removed]",
                        "text/plain": [
                            "Scene (600px, 400px):\n",
                            "  18 Plots:\n",
                            "    ├ Combined{Makie.poly, Tuple{Vector{Vector{Point{2, Float32}}}}}\n",
                            "    ├ LineSegments{Tuple{Vector{Point{2, Float32}}}}\n",
                            "    ├ LineSegments{Tuple{Vector{Point{2, Float32}}}}\n",
                            "    ├ LineSegments{Tuple{Vector{Point{2, Float32}}}}\n",
                            "    ├ LineSegments{Tuple{Vector{Point{2, Float32}}}}\n",
                            "    ├ LineSegments{Tuple{Vector{Point{2, Float32}}}}\n",
                            "    ├ LineSegments{Tuple{Vector{Point{2, Float32}}}}\n",
                            "    ├ MakieCore.Text{Tuple{LaTeXStrings.LaTeXString}}\n",
                            "    ├ Lines{Tuple{Vector{Point{2, Float32}}}}\n",
                            "    ├ MakieCore.Text{Tuple{Vector{Tuple{AbstractString, Point{2, Float32}}}}}\n",
                            "    ├ LineSegments{Tuple{Vector{Point{2, Float32}}}}\n",
                            "    ├ LineSegments{Tuple{Vector{Point{2, Float32}}}}\n",
                            "    ├ MakieCore.Text{Tuple{LaTeXStrings.LaTeXString}}\n",
                            "    ├ Lines{Tuple{Vector{Point{2, Float32}}}}\n",
                            "    ├ MakieCore.Text{Tuple{Vector{Tuple{AbstractString, Point{2, Float32}}}}}\n",
                            "    ├ Lines{Tuple{Vector{Point{2, Float32}}}}\n",
                            "    ├ Lines{Tuple{Vector{Point{2, Float32}}}}\n",
                            "    └ MakieCore.Text{Tuple{String}}\n",
                            "  3 Child Scenes:\n",
                            "    ├ Scene (495px, 321px)\n",
                            "    ├ Scene (600px, 400px)\n",
                            "    └ Scene (600px, 400px)"
                        ]
                    },
                    "metadata": {},
                    "output_type": "display_data"
                }
            ],
            "source": [
                "using CairoMakie\n",
                "using ColorSchemes\n",
                "\n",
                "starrynight = cgrad(:starrynight, 11, categorical = true)\n",
                "colors = [starrynight[3], starrynight[6], starrynight[9]]\n",
                "linestyles = [:dash, :dashdot, :dot]\n",
                "\n",
                "fig = Figure(resolution = (600, 400), font = \"CMU Serif\")\n",
                "axes = Axis(fig[1, 1], \n",
                "        xlabel=L\"\\tau\\,\\mathrm{[fm/c]}\", ylabel=L\"\\langle p_T^2\\,\\rangle\\,\\mathrm{[GeV^2]}\",\n",
                "        rightspinevisible = false, topspinevisible = false, xlabelsize = 22, ylabelsize= 22, xticklabelsize=16, yticklabelsize=16,\n",
                "        xtickalign = 1, xticksize=8, ytickalign=1, yticksize=5,  xlabelpadding = -5) \n",
                "\n",
                "wongy = lines!(axes, tau_wong, wong[\"py\"], linewidth = 1.5, color=colors[1])\n",
                "qhaty = lines!(axes, tau_qhat, qhat[\"py\"], linewidth = 1.5, color=colors[2])\n",
                "\n",
                "wongeta = lines!(axes, tau_wong, wong[\"peta\"], linewidth = 1.5, color=colors[1], linestyle=linestyles[1])\n",
                "qhatz = lines!(axes, tau_qhat, qhat[\"pz\"], linewidth = 1.5, color=colors[2], linestyle=linestyles[1])\n",
                "\n",
                "axislegend(axes, [wongy, qhaty], [L\"(p_y^2)^\\mathrm{wong}\", L\"(p_y^2)^\\mathrm{qhat}\"], labelsize=17, titlesize=19,\n",
                "    position = :lt, orientation = :horizontal, bgcolor = (:white, 0.7), framecolor=(:grey80, 0))\n",
                "\n",
                "axislegend(axes, [wongeta, qhatz], [L\"(p_\\eta^2)^\\mathrm{wong}\", L\"(p_z^2)^\\mathrm{qhat}\"], labelsize=17, titlesize=19,\n",
                "    position = :rt, orientation = :horizontal, bgcolor = (:white, 0.7), framecolor=(:grey80, 0))\n",
                "\n",
                "display(fig)\n",
                "# save(\"mom_broad_qhat_wong.png\", fig, px_per_unit = 5.0) "
            ]
        }
    ],
    "metadata": {
        "interpreter": {
            "hash": "50fba519a3e3a4634f635ec7332619e3aceac5abb997750bdb88b5674357649c"
        },
        "kernelspec": {
            "display_name": "Julia 1.6.3",
            "language": "julia",
            "name": "julia-1.6"
        },
        "language_info": {
            "file_extension": ".jl",
            "mimetype": "application/julia",
            "name": "julia",
            "version": "1.6.3"
        },
        "orig_nbformat": 4
    },
    "nbformat": 4,
    "nbformat_minor": 2
}
