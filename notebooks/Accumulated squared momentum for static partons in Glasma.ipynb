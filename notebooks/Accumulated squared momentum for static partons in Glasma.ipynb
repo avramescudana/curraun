{
    "cells": [
        {
            "cell_type": "markdown",
            "source": [
                "# **Accumulated squared momentum for static partons in Glasma**"
            ],
            "metadata": {}
        },
        {
            "cell_type": "code",
            "execution_count": 1,
            "source": [
                "# Set environment variables \n",
                "import os\n",
                "os.environ[\"MY_NUMBA_TARGET\"] = \"cuda\"\n",
                "os.environ[\"GAUGE_GROUP\"] = \"su2\"\n",
                "os.environ[\"PRECISION\"] = \"double\"\n",
                "su_group = os.environ[\"GAUGE_GROUP\"]\n",
                "quark = 'infmass'\n",
                "\n",
                "# Import curraun and other packages\n",
                "import sys\n",
                "sys.path.append('..')\n",
                "\n",
                "import curraun.core as core\n",
                "import curraun.mv as mv\n",
                "import curraun.kappa as kappa\n",
                "import curraun.initial as initial\n",
                "initial.DEBUG = False\n",
                "\n",
                "from curraun.numba_target import use_cuda, use_numba\n",
                "if use_cuda:\n",
                "    from numba import cuda\n",
                "\n",
                "import numpy as np\n",
                "from tqdm.notebook import tqdm"
            ],
            "outputs": [
                {
                    "output_type": "stream",
                    "name": "stdout",
                    "text": [
                        "Using CUDA\n",
                        "Using SU(2)\n",
                        "Using double precision\n",
                        "Using double precision\n",
                        "Using double precision\n"
                    ]
                }
            ],
            "metadata": {}
        },
        {
            "cell_type": "code",
            "execution_count": 2,
            "source": [
                "# define hbar * c in units of GeV * fm\n",
                "hbarc = 0.197326 \n",
                "\n",
                "def compute(p):    \n",
                "\n",
                "    # derived parameters\n",
                "    a = p['L'] / p['N']\n",
                "    E0 = p['N'] / p['L'] * hbarc\n",
                "    DT = 1.0 / p['DTS']\n",
                "    maxt = int(p['TMAX'] / a) * p['DTS']\n",
                "    formt = int(p['TFORM'] / a) * p['DTS']\n",
                "\n",
                "    all_px, all_py, all_pz = [], [], []\n",
                "    \n",
                "    # event loop\n",
                "    for e in range(p['NE']):\n",
                "        s = core.Simulation(p['N'], DT, p['G'])\n",
                "        va = mv.wilson(s, mu=p['MU'] / E0, m=p['M'] / E0, uv=p['UV'] / E0, num_sheets=p['NS'])\n",
                "        vb = mv.wilson(s, mu=p['MU'] / E0, m=p['M'] / E0, uv=p['UV'] / E0, num_sheets=p['NS'])\n",
                "        initial.init(s, va, vb)\n",
                "        \n",
                "        kappa_tforce = kappa.TransportedForce(s)\n",
                "        px, py, pz = [], [], []\n",
                "        tau = []\n",
                "\n",
                "        if use_cuda:\n",
                "            s.copy_to_device()\n",
                "            kappa_tforce.copy_to_device()\n",
                "            meminfo = cuda.current_context().get_memory_info()\n",
                "        \n",
                "        with tqdm(total=(maxt+1-formt), file=sys.stdout) as pbar:\n",
                "            for t in range(maxt+1):\n",
                "                core.evolve_leapfrog(s)\n",
                "                \n",
                "                if t>= formt:\n",
                "                    if t % p['DTS'] == 0:\n",
                "                        if use_cuda:\n",
                "                            kappa_tforce.copy_mean_to_host()\n",
                "\n",
                "                        # unit factors (GeV^2)\n",
                "                        units = E0 ** 2 / (s.g ** 2)\n",
                "\n",
                "                        # color factors (for quarks)\n",
                "                        Nc = core.su.NC\n",
                "                        f = 2 * s.g ** 2 / (2 * Nc)\n",
                "                        px.append(kappa_tforce.p_perp_mean[0] * units * f)\n",
                "                        py.append(kappa_tforce.p_perp_mean[1] * units * f)\n",
                "                        pz.append(kappa_tforce.p_perp_mean[2] * units * f)\n",
                "\n",
                "                        tau.append(t*a/p['DTS'])\n",
                "                        \n",
                "                        if use_cuda:\n",
                "                            kappa_tforce.copy_mean_to_device()\n",
                "\n",
                "                    kappa_tforce.compute()\n",
                "\n",
                "                    pbar.set_description('Event {:3d} | {:.2f} GB / {:.2f} GB'.format(e,\n",
                "                                                                                    meminfo[0] / 1024 ** 3,\n",
                "                                                                                    meminfo[1] / 1024 ** 3))\n",
                "                    pbar.update(1)\n",
                "        \n",
                "        px = np.array(px)\n",
                "        py = np.array(py)\n",
                "        pz = np.array(pz)\n",
                "\n",
                "        filename = 'tauform_' + str(p['TFORM']) + '_ev_' + str(e) + '.npz'\n",
                "        np.savez(filename, px=px, py=py, pz=pz, tau=tau)\n",
                "\n",
                "        all_px.append(px)\n",
                "        all_py.append(py)\n",
                "        all_pz.append(pz)\n",
                "\n",
                "    px_mean, px_std = np.mean(all_px, axis=0), np.std(all_px, axis=0)\n",
                "    py_mean, py_std = np.mean(all_py, axis=0), np.std(all_py, axis=0)\n",
                "    pz_mean, pz_std = np.mean(all_pz, axis=0), np.std(all_pz, axis=0)\n",
                "\n",
                "    filename = 'tauform_' + str(p['TFORM']) + '_mean.npz'\n",
                "    np.savez(filename, px_mean=px_mean, px_std=px_std, py_mean=py_mean, py_std=py_std, pz_mean=pz_mean, pz_std=pz_std, tau=tau)\n",
                "    \n",
                "    if use_cuda:\n",
                "        cuda.current_context().deallocations.clear()"
            ],
            "outputs": [],
            "metadata": {}
        },
        {
            "cell_type": "code",
            "execution_count": 3,
            "source": [
                "current_path = os.getcwd() \n",
                "results_folder = 'results'\n",
                "check_results_folder = os.path.isdir(results_folder)\n",
                "if not check_results_folder:\n",
                "    os.makedirs(results_folder)\n",
                "results_path = current_path + '/' + results_folder + '/'\n",
                "os.chdir(results_path)\n",
                "\n",
                "kappa_folder = 'pb+pb_5020gev_' + su_group + '_kappa'\n",
                "check_kappa_folder = os.path.isdir(kappa_folder)\n",
                "if not check_kappa_folder:\n",
                "    os.makedirs(kappa_folder)\n",
                "kappa_path = results_path + '/' + kappa_folder + '/'\n",
                "os.chdir(kappa_path)\n",
                "\n",
                "def run_simulation():\n",
                "    p = {\n",
                "        'L':    L,               # transverse size [fm]\n",
                "        'N':    N,            # lattice size\n",
                "        'DTS':  DTS,              # time steps per transverse spacing\n",
                "        'TMAX': tau_s,         # max. proper time (tau) [fm/c]\n",
                "\n",
                "        'G':    g,               # YM coupling constant\n",
                "        'MU':   mu,              # MV model parameter [GeV]\n",
                "        'M':    m,               # IR regulator [GeV]\n",
                "        'UV':   10.0,       # UV regulator [GeV]\n",
                "        'NS':   ns,              # number of color sheets\n",
                "\n",
                "        'NE':   20,              # number of events\n",
                "        'TFORM': tau_form,      # formation time\n",
                "    }\n",
                "    \n",
                "    compute(p)"
            ],
            "outputs": [],
            "metadata": {}
        },
        {
            "cell_type": "code",
            "execution_count": 4,
            "source": [
                "# Length of simulation box [fm]\n",
                "L = 10\n",
                "# Number of lattice sites\n",
                "N = 512\n",
                "# Simulation time [fm/c]\n",
                "tau_s = 2.0\n",
                "# Time step\n",
                "DTS = 8\n",
                "# Formation time [fm/c]\n",
                "if quark=='charm':\n",
                "    tau_form = 0.06\n",
                "elif quark=='beauty':\n",
                "    tau_form = 0.02\n",
                "elif quark=='infmass':\n",
                "    tau_form = 0.00\n",
                "\n",
                "# MV model parameters for Pb-Pb 5.02 TeV\n",
                "ns = 50\n",
                "factor = 0.8\n",
                "A = 207\n",
                "sqrts = 5020\n",
                "\n",
                "Qs = np.sqrt(0.13 * A**(1/3) * sqrts**0.25)\t\t\n",
                "g = np.pi * np.sqrt(1 / np.log(Qs / 0.2))\t\t\n",
                "mu = Qs / (g**2 * factor)\t\n",
                "m = 0.1 * g**2 * mu   \n",
                "\n",
                "run_simulation()"
            ],
            "outputs": [
                {
                    "output_type": "display_data",
                    "data": {
                        "text/plain": [
                            "  0%|          | 0/817 [00:00<?, ?it/s]"
                        ],
                        "application/vnd.jupyter.widget-view+json": {
                            "version_major": 2,
                            "version_minor": 0,
                            "model_id": "db02e45e378342e8893b4785038d9e6e"
                        }
                    },
                    "metadata": {}
                },
                {
                    "output_type": "display_data",
                    "data": {
                        "text/plain": [
                            "  0%|          | 0/817 [00:00<?, ?it/s]"
                        ],
                        "application/vnd.jupyter.widget-view+json": {
                            "version_major": 2,
                            "version_minor": 0,
                            "model_id": "404bc34daab54692b66cde92c4c5224f"
                        }
                    },
                    "metadata": {}
                },
                {
                    "output_type": "display_data",
                    "data": {
                        "text/plain": [
                            "  0%|          | 0/817 [00:00<?, ?it/s]"
                        ],
                        "application/vnd.jupyter.widget-view+json": {
                            "version_major": 2,
                            "version_minor": 0,
                            "model_id": "3379f937eb4d419a8754914d6b3d02e4"
                        }
                    },
                    "metadata": {}
                },
                {
                    "output_type": "display_data",
                    "data": {
                        "text/plain": [
                            "  0%|          | 0/817 [00:00<?, ?it/s]"
                        ],
                        "application/vnd.jupyter.widget-view+json": {
                            "version_major": 2,
                            "version_minor": 0,
                            "model_id": "a91a0b0b2f2f45009c6a97c362e981d2"
                        }
                    },
                    "metadata": {}
                },
                {
                    "output_type": "display_data",
                    "data": {
                        "text/plain": [
                            "  0%|          | 0/817 [00:00<?, ?it/s]"
                        ],
                        "application/vnd.jupyter.widget-view+json": {
                            "version_major": 2,
                            "version_minor": 0,
                            "model_id": "6e03168060204e6182d6800cb6250cb6"
                        }
                    },
                    "metadata": {}
                },
                {
                    "output_type": "display_data",
                    "data": {
                        "text/plain": [
                            "  0%|          | 0/817 [00:00<?, ?it/s]"
                        ],
                        "application/vnd.jupyter.widget-view+json": {
                            "version_major": 2,
                            "version_minor": 0,
                            "model_id": "4616a2f9d7c247d4ab7397599b93f43a"
                        }
                    },
                    "metadata": {}
                },
                {
                    "output_type": "display_data",
                    "data": {
                        "text/plain": [
                            "  0%|          | 0/817 [00:00<?, ?it/s]"
                        ],
                        "application/vnd.jupyter.widget-view+json": {
                            "version_major": 2,
                            "version_minor": 0,
                            "model_id": "95a210db29eb40308d2e76a96430e5f9"
                        }
                    },
                    "metadata": {}
                },
                {
                    "output_type": "display_data",
                    "data": {
                        "text/plain": [
                            "  0%|          | 0/817 [00:00<?, ?it/s]"
                        ],
                        "application/vnd.jupyter.widget-view+json": {
                            "version_major": 2,
                            "version_minor": 0,
                            "model_id": "46ccf881939f4155a0ba38044924a218"
                        }
                    },
                    "metadata": {}
                },
                {
                    "output_type": "display_data",
                    "data": {
                        "text/plain": [
                            "  0%|          | 0/817 [00:00<?, ?it/s]"
                        ],
                        "application/vnd.jupyter.widget-view+json": {
                            "version_major": 2,
                            "version_minor": 0,
                            "model_id": "72a544e4beae4222a30130622cf238e2"
                        }
                    },
                    "metadata": {}
                },
                {
                    "output_type": "display_data",
                    "data": {
                        "text/plain": [
                            "  0%|          | 0/817 [00:00<?, ?it/s]"
                        ],
                        "application/vnd.jupyter.widget-view+json": {
                            "version_major": 2,
                            "version_minor": 0,
                            "model_id": "83f560b3ce9e44de84f7df1066d728e8"
                        }
                    },
                    "metadata": {}
                },
                {
                    "output_type": "display_data",
                    "data": {
                        "text/plain": [
                            "  0%|          | 0/817 [00:00<?, ?it/s]"
                        ],
                        "application/vnd.jupyter.widget-view+json": {
                            "version_major": 2,
                            "version_minor": 0,
                            "model_id": "21a71175ec8448a29da6112d164d3d6a"
                        }
                    },
                    "metadata": {}
                },
                {
                    "output_type": "display_data",
                    "data": {
                        "text/plain": [
                            "  0%|          | 0/817 [00:00<?, ?it/s]"
                        ],
                        "application/vnd.jupyter.widget-view+json": {
                            "version_major": 2,
                            "version_minor": 0,
                            "model_id": "ff601357d57440d8aae4519d51df5764"
                        }
                    },
                    "metadata": {}
                },
                {
                    "output_type": "display_data",
                    "data": {
                        "text/plain": [
                            "  0%|          | 0/817 [00:00<?, ?it/s]"
                        ],
                        "application/vnd.jupyter.widget-view+json": {
                            "version_major": 2,
                            "version_minor": 0,
                            "model_id": "9f81344a154d49108e7c75374e980aec"
                        }
                    },
                    "metadata": {}
                },
                {
                    "output_type": "display_data",
                    "data": {
                        "text/plain": [
                            "  0%|          | 0/817 [00:00<?, ?it/s]"
                        ],
                        "application/vnd.jupyter.widget-view+json": {
                            "version_major": 2,
                            "version_minor": 0,
                            "model_id": "3e18f4f6afd54cb7ae4f55868b03ca5b"
                        }
                    },
                    "metadata": {}
                },
                {
                    "output_type": "display_data",
                    "data": {
                        "text/plain": [
                            "  0%|          | 0/817 [00:00<?, ?it/s]"
                        ],
                        "application/vnd.jupyter.widget-view+json": {
                            "version_major": 2,
                            "version_minor": 0,
                            "model_id": "8b53f0bda9994d6bb86390ec96538e45"
                        }
                    },
                    "metadata": {}
                },
                {
                    "output_type": "display_data",
                    "data": {
                        "text/plain": [
                            "  0%|          | 0/817 [00:00<?, ?it/s]"
                        ],
                        "application/vnd.jupyter.widget-view+json": {
                            "version_major": 2,
                            "version_minor": 0,
                            "model_id": "877eccf453834197855558be59338095"
                        }
                    },
                    "metadata": {}
                },
                {
                    "output_type": "display_data",
                    "data": {
                        "text/plain": [
                            "  0%|          | 0/817 [00:00<?, ?it/s]"
                        ],
                        "application/vnd.jupyter.widget-view+json": {
                            "version_major": 2,
                            "version_minor": 0,
                            "model_id": "eb95f5ac25de459e8b12a7f02f1e7f57"
                        }
                    },
                    "metadata": {}
                },
                {
                    "output_type": "display_data",
                    "data": {
                        "text/plain": [
                            "  0%|          | 0/817 [00:00<?, ?it/s]"
                        ],
                        "application/vnd.jupyter.widget-view+json": {
                            "version_major": 2,
                            "version_minor": 0,
                            "model_id": "25698bc03a6145f89ba0708765c93bbf"
                        }
                    },
                    "metadata": {}
                },
                {
                    "output_type": "display_data",
                    "data": {
                        "text/plain": [
                            "  0%|          | 0/817 [00:00<?, ?it/s]"
                        ],
                        "application/vnd.jupyter.widget-view+json": {
                            "version_major": 2,
                            "version_minor": 0,
                            "model_id": "08c8fa7e8145404986c16768d1816efb"
                        }
                    },
                    "metadata": {}
                },
                {
                    "output_type": "display_data",
                    "data": {
                        "text/plain": [
                            "  0%|          | 0/817 [00:00<?, ?it/s]"
                        ],
                        "application/vnd.jupyter.widget-view+json": {
                            "version_major": 2,
                            "version_minor": 0,
                            "model_id": "802cd31614d04d7086cae854b9db074e"
                        }
                    },
                    "metadata": {}
                }
            ],
            "metadata": {}
        },
        {
            "cell_type": "code",
            "execution_count": null,
            "source": [
                "import matplotlib.pyplot as plt\n",
                "from matplotlib.ticker import MultipleLocator\n",
                "import pickle\n",
                "\n",
                "plt.rcParams['text.usetex'] = True\n",
                "plt.rcParams[\"figure.figsize\"] = (9, 6)\n",
                "plt.rcParams.update({'font.size':14})\n",
                "\n",
                "fig = plt.figure()\n",
                "ax = plt.subplot(111)\n",
                "\n",
                "plt.xlabel(r'$\\tau\\,\\mathrm{[fm/c]}$', size = 18)\n",
                "plt.ylabel(r'$\\sigma_{p_T}\\,\\mathrm{[GeV^2]}$', size = 18)\n",
                "\n",
                "if su_group=='su2':\n",
                "    if quark=='charm':\n",
                "        plt.title(r'$\\sqrt{s_\\mathrm{PbPb}}=5.02\\,\\,\\mathrm{TeV}\\,\\,\\,\\mathrm{SU(2)}\\,\\,\\,\\mathrm{Charm\\,quark}$', size = 18)\n",
                "        ax.set_xlim(0,2.06)\n",
                "        ax.set_ylim(0,2.4)\n",
                "        ax.yaxis.set_major_locator(MultipleLocator(0.8))\n",
                "        ax.yaxis.set_minor_locator(MultipleLocator(0.4))\n",
                "    if quark=='beauty':\n",
                "        plt.title(r'$\\sqrt{s_\\mathrm{PbPb}}=5.02\\,\\,\\mathrm{TeV}\\,\\,\\,\\mathrm{SU(2)}\\,\\,\\,\\mathrm{Beauty\\,quark}$', size = 18)\n",
                "        ax.set_xlim(0,2.06)\n",
                "        ax.set_ylim(0,3.4)\n",
                "        ax.yaxis.set_major_locator(MultipleLocator(0.8))\n",
                "        ax.yaxis.set_minor_locator(MultipleLocator(0.4))\n",
                "    if quark=='infmass':\n",
                "        plt.title(r'$\\sqrt{s_\\mathrm{PbPb}}=5.02\\,\\,\\mathrm{TeV}\\,\\,\\,\\mathrm{SU(2)}$', size = 18)\n",
                "        ax.set_xlim(0,2.06)\n",
                "        ax.set_ylim(0,3)\n",
                "        ax.yaxis.set_major_locator(MultipleLocator(0.8))\n",
                "        ax.yaxis.set_minor_locator(MultipleLocator(0.4))\n",
                "\n",
                "    ax.xaxis.set_major_locator(MultipleLocator(0.5))\n",
                "    ax.xaxis.set_minor_locator(MultipleLocator(0.25))\n",
                "    \n",
                "elif su_group=='su3':\n",
                "    if quark=='charm':\n",
                "        plt.title(r'$\\mathrm{Pb+Pb}\\,\\,\\, 5.02\\,\\,\\mathrm{TeV}\\,\\,\\,\\mathrm{SU(3)}\\,\\,\\,\\mathrm{Charm\\,quark}$', size = 18)\n",
                "    if quark=='beauty':\n",
                "        plt.title(r'$\\sqrt{s_\\mathrm{PbPb}}=5.02\\,\\,\\mathrm{TeV}\\,\\,\\,\\mathrm{SU(3)}\\,\\,\\,\\mathrm{Beauty\\,quark}$', size = 18)\n",
                "\n",
                "ax.spines[\"top\"].set_visible(False)\n",
                "ax.spines[\"right\"].set_visible(False)\n",
                "ax.spines['bottom'].set_color('gray')\n",
                "ax.spines['left'].set_color('gray') \n",
                "# ax.tick_params(direction='in', colors='gray',grid_color='gray', grid_alpha=0.5)\n",
                "ax.yaxis.get_major_ticks()[1].label1.set_visible(False)\n",
                "plt.grid(color = 'gray', linestyle = '-', linewidth = 1, alpha=0.2)\n",
                "ax.xaxis.grid(True, which='minor')\n",
                "ax.yaxis.grid(True, which='minor')\n",
                "plt.grid(b=True, which='minor', color='gray', alpha=0.1)\n",
                "\n",
                "os.chdir(kappa_path)\n",
                "if quark=='massinf':\n",
                "    tau_form = 0.0\n",
                "\n",
                "# tau_form = 0.0\n",
                "data = np.load('tauform_' + str(tau_form) + '_mean.npz')\n",
                "px_mean, px_std = data[\"px_mean\"], data[\"px_std\"]\n",
                "py_mean, py_std = data[\"py_mean\"], data[\"py_std\"]\n",
                "tau = data[\"tau\"]\n",
                "\n",
                "Nc = core.su.NC \n",
                "# sigmap_mean = Nc * (px_mean+py_mean)\n",
                "# sigmap_std = Nc * (px_std+py_std)\n",
                "sigmap_mean = (px_mean+py_mean)\n",
                "sigmap_std = (px_std+py_std)\n",
                "\n",
                "s, = ax.plot(tau, sigmap_mean, '-', color = '#B48EAD', markersize = 0, linewidth = 3, label=r'$\\mathrm{Static\\,parton}$')\n",
                "ax.fill_between(tau, sigmap_mean-sigmap_std/2, sigmap_mean+sigmap_std/2, color = '#B48EAD', alpha=0.3)\n",
                "h1 = [s]\n",
                "lab1 = [ h.get_label() for h in h1]\n",
                "leg1 = plt.legend(h1,lab1, fontsize = 16, loc = 'upper left', ncol=2, bbox_to_anchor=(0.033,0.98))\n",
                "leg1.get_frame().set_boxstyle('square')\n",
                "\n",
                "pTs = [0.5, 5.0, 10.0]\n",
                "sigmapt_mean, sigmapt_std = {}, {}\n",
                "\n",
                "hq = [None] * 3\n",
                "for pT in pTs:\n",
                "    # wong_folder = 'pb+pb_5020gev_su2_pT_' + str(pT) + '_wilson_lines_' + quark\n",
                "    wong_folder = 'pb+pb_5020gev_su2_pT_' + str(pT) + '_' + quark\n",
                "    wong_path = results_path + wong_folder + '/' \n",
                "    os.chdir(wong_path)\n",
                "    data = pickle.load(open('avg.npz', \"rb\"))\n",
                "    sigmapt_mean[str(pT)], sigmapt_std[str(pT)], tau = data['sigmapt_mean'], data['sigmapt_std'], data['tau']\n",
                "\n",
                "colors = ['#8FBCBB', '#A3BE8C', '#EBCB8B']\n",
                "pTs = [0.5, 5.0, 10.0]\n",
                "labels = [r'$0.5$', r'$5.0$', r'$10.0$']\n",
                "\n",
                "i = 0\n",
                "for pT in pTs:\n",
                "    hq[i], = ax.plot(tau[1:len(tau)], sigmapt_mean[str(pT)], '-', color = colors[i], markersize = 0, linewidth = 3, label=labels[i])\n",
                "    ax.fill_between(tau[1:len(tau)], sigmapt_mean[str(pT)]-sigmapt_std[str(pT)]/2, sigmapt_mean[str(pT)]+sigmapt_std[str(pT)]/2, color = colors[i], alpha=0.1)\n",
                "    i=i+1\n",
                "h2 = [hq[0], hq[1], hq[2]]\n",
                "\n",
                "lab2 = [h.get_label() for h in h2]\n",
                "leg2 = plt.legend(h2, lab2, fontsize = 16, loc = 'upper left', ncol=3, bbox_to_anchor=(0.033,0.85))\n",
                "leg2.get_frame().set_boxstyle('square')\n",
                "leg2.set_title(r'$\\mathrm{Parton\\,with\\,}\\,m\\rightarrow\\infty\\,\\mathrm{and}\\,p_T\\,[\\mathrm{GeV}]$') \n",
                "leg2.get_title().set_fontsize('16')\n",
                "leg2._legend_box.align = \"left\"\n",
                "plt.gca().add_artist(leg1)  \n",
                "\n",
                "\n",
                "\n",
                "plt.tight_layout()\n",
                "os.chdir(current_path)\n",
                "# plt.savefig('plots/sigmapT_kappa_' + su_group + '_pb+pb_5020gev_' + quark + '.png', dpi = 300,  facecolor='white', transparent=False)\n",
                "plt.show()"
            ],
            "outputs": [],
            "metadata": {}
        },
        {
            "cell_type": "code",
            "execution_count": null,
            "source": [],
            "outputs": [],
            "metadata": {}
        }
    ],
    "metadata": {
        "orig_nbformat": 4,
        "language_info": {
            "name": "python",
            "version": "3.6.13",
            "mimetype": "text/x-python",
            "codemirror_mode": {
                "name": "ipython",
                "version": 3
            },
            "pygments_lexer": "ipython3",
            "nbconvert_exporter": "python",
            "file_extension": ".py"
        },
        "kernelspec": {
            "name": "python3",
            "display_name": "Python 3.6.13 64-bit ('curraun': conda)"
        },
        "interpreter": {
            "hash": "66b31cdbddf669999fcb207de0f85b9a136e33c1dd522229764e55c1583da068"
        }
    },
    "nbformat": 4,
    "nbformat_minor": 2
}