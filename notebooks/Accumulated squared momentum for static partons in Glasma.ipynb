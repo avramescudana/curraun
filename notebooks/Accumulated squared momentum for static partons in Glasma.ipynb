{
    "cells": [
        {
            "cell_type": "markdown",
            "source": [
                "# **Accumulated squared momentum for static partons in Glasma**"
            ],
            "metadata": {}
        },
        {
            "cell_type": "code",
            "execution_count": 1,
            "source": [
                "# Set environment variables \n",
                "import os\n",
                "os.environ[\"MY_NUMBA_TARGET\"] = \"cuda\"\n",
                "os.environ[\"GAUGE_GROUP\"] = \"su3\"\n",
                "os.environ[\"PRECISION\"] = \"double\"\n",
                "\n",
                "# Import curraun and other packages\n",
                "import sys\n",
                "sys.path.append('..')\n",
                "\n",
                "import curraun.core as core\n",
                "import curraun.mv as mv\n",
                "import curraun.kappa as kappa\n",
                "import curraun.initial as initial\n",
                "initial.DEBUG = False\n",
                "\n",
                "from curraun.numba_target import use_cuda, use_numba\n",
                "if use_cuda:\n",
                "    from numba import cuda\n",
                "\n",
                "import numpy as np\n",
                "from tqdm.notebook import tqdm"
            ],
            "outputs": [
                {
                    "output_type": "stream",
                    "name": "stdout",
                    "text": [
                        "Using CUDA\n",
                        "Using SU(3)\n",
                        "Using double precision\n",
                        "Using double precision\n"
                    ]
                }
            ],
            "metadata": {}
        },
        {
            "cell_type": "code",
            "execution_count": 2,
            "source": [
                "# define hbar * c in units of GeV * fm\n",
                "hbarc = 0.197326 \n",
                "\n",
                "def compute(p):    \n",
                "\n",
                "    # derived parameters\n",
                "    a = p['L'] / p['N']\n",
                "    E0 = p['N'] / p['L'] * hbarc\n",
                "    DT = 1.0 / p['DTS']\n",
                "    maxt = int(p['TMAX'] / a) * p['DTS']\n",
                "    formt = int(p['TFORM'] / a) * p['DTS']\n",
                "\n",
                "    all_px, all_py, all_pz = [], [], []\n",
                "    \n",
                "    # event loop\n",
                "    for e in range(p['NE']):\n",
                "        s = core.Simulation(p['N'], DT, p['G'])\n",
                "        va = mv.wilson(s, mu=p['MU'] / E0, m=p['M'] / E0, uv=p['UV'] / E0, num_sheets=p['NS'])\n",
                "        vb = mv.wilson(s, mu=p['MU'] / E0, m=p['M'] / E0, uv=p['UV'] / E0, num_sheets=p['NS'])\n",
                "        initial.init(s, va, vb)\n",
                "        \n",
                "        kappa_tforce = kappa.TransportedForce(s)\n",
                "        px, py, pz = [], [], []\n",
                "        tau = []\n",
                "\n",
                "        if use_cuda:\n",
                "            s.copy_to_device()\n",
                "            kappa_tforce.copy_to_device()\n",
                "            meminfo = cuda.current_context().get_memory_info()\n",
                "        \n",
                "        with tqdm(total=(maxt-formt), file=sys.stdout) as pbar:\n",
                "            for t in range(maxt):\n",
                "                core.evolve_leapfrog(s)\n",
                "                \n",
                "                if t>= formt:\n",
                "                    if t % p['DTS'] == 0:\n",
                "                        if use_cuda:\n",
                "                            kappa_tforce.copy_mean_to_host()\n",
                "\n",
                "                        # unit factors (GeV^2)\n",
                "                        units = E0 ** 2 / (s.g ** 2)\n",
                "\n",
                "                        # color factors (for quarks)\n",
                "                        Nc = core.su.NC\n",
                "                        f = 2 * s.g ** 2 / (2 * Nc)\n",
                "                        px.append(kappa_tforce.p_perp_mean[0] * units * f)\n",
                "                        py.append(kappa_tforce.p_perp_mean[1] * units * f)\n",
                "                        pz.append(kappa_tforce.p_perp_mean[2] * units * f)\n",
                "\n",
                "                        tau.append(t*a/p['DTS'])\n",
                "                        \n",
                "                        if use_cuda:\n",
                "                            kappa_tforce.copy_mean_to_device()\n",
                "\n",
                "                    kappa_tforce.compute()\n",
                "\n",
                "                    pbar.set_description('Event {:3d} | {:.2f} GB / {:.2f} GB'.format(e,\n",
                "                                                                                    meminfo[0] / 1024 ** 3,\n",
                "                                                                                    meminfo[1] / 1024 ** 3))\n",
                "                    pbar.update(1)\n",
                "        \n",
                "        px = np.array(px)\n",
                "        py = np.array(py)\n",
                "        pz = np.array(pz)\n",
                "\n",
                "        filename = 'tauform_' + str(p['TFORM']) + '_ev_' + str(e) + '.npz'\n",
                "        np.savez(filename, px=px, py=py, pz=pz, tau=tau)\n",
                "\n",
                "        all_px.append(px)\n",
                "        all_py.append(py)\n",
                "        all_pz.append(pz)\n",
                "\n",
                "    px_mean, px_std = np.mean(all_px, axis=0), np.std(all_px, axis=0)\n",
                "    py_mean, py_std = np.mean(all_py, axis=0), np.std(all_py, axis=0)\n",
                "    pz_mean, pz_std = np.mean(all_pz, axis=0), np.std(all_pz, axis=0)\n",
                "\n",
                "    filename = 'tauform_' + str(p['TFORM']) + '_mean.npz'\n",
                "    np.savez(filename, px_mean=px_mean, px_std=px_std, py_mean=py_mean, py_std=py_std, pz_mean=pz_mean, pz_std=pz_std, tau=tau)\n",
                "    \n",
                "    if use_cuda:\n",
                "        cuda.current_context().deallocations.clear()"
            ],
            "outputs": [],
            "metadata": {}
        },
        {
            "cell_type": "code",
            "execution_count": 3,
            "source": [
                "current_path = os.getcwd() \n",
                "results_folder = 'results'\n",
                "check_results_folder = os.path.isdir(results_folder)\n",
                "if not check_results_folder:\n",
                "    os.makedirs(results_folder)\n",
                "results_path = current_path + '/' + results_folder + '/'\n",
                "os.chdir(results_path)\n",
                "\n",
                "kappa_folder = 'pb+pb_5020gev_su3_kappa_su3'\n",
                "check_kappa_folder = os.path.isdir(kappa_folder)\n",
                "if not check_kappa_folder:\n",
                "    os.makedirs(kappa_folder)\n",
                "kappa_path = results_path + '/' + kappa_folder + '/'\n",
                "os.chdir(kappa_path)\n",
                "\n",
                "def run_simulation():\n",
                "    p = {\n",
                "        'L':    L,               # transverse size [fm]\n",
                "        'N':    N,            # lattice size\n",
                "        'DTS':  DTS,              # time steps per transverse spacing\n",
                "        'TMAX': tau_s,         # max. proper time (tau) [fm/c]\n",
                "\n",
                "        'G':    g,               # YM coupling constant\n",
                "        'MU':   mu,              # MV model parameter [GeV]\n",
                "        'M':    m,               # IR regulator [GeV]\n",
                "        'UV':   10.0,       # UV regulator [GeV]\n",
                "        'NS':   ns,              # number of color sheets\n",
                "\n",
                "        'NE':   20,              # number of events\n",
                "        'TFORM': tau_form,      # formation time\n",
                "    }\n",
                "    \n",
                "    compute(p)"
            ],
            "outputs": [],
            "metadata": {}
        },
        {
            "cell_type": "code",
            "execution_count": 4,
            "source": [
                "# Length of simulation box [fm]\n",
                "L = 10\n",
                "# Number of lattice sites\n",
                "N = 512\n",
                "# Simulation time [fm/c]\n",
                "tau_s = 2.0\n",
                "# Time step\n",
                "DTS = 8\n",
                "# Formation time [fm/c]\n",
                "tau_form = 0.06\n",
                "\n",
                "# MV model parameters for Pb-Pb 5.02 TeV\n",
                "ns = 50\n",
                "factor = 0.8\n",
                "A = 207\n",
                "sqrts = 5020\n",
                "\n",
                "Qs = np.sqrt(0.13 * A**(1/3) * sqrts**0.25)\t\t\n",
                "g = np.pi * np.sqrt(1 / np.log(Qs / 0.2))\t\t\n",
                "mu = Qs / (g**2 * factor)\t\n",
                "m = 0.1 * g**2 * mu   \n",
                "\n",
                "\n",
                "run_simulation()"
            ],
            "outputs": [
                {
                    "output_type": "display_data",
                    "data": {
                        "text/plain": [
                            "  0%|          | 0/792 [00:00<?, ?it/s]"
                        ],
                        "application/vnd.jupyter.widget-view+json": {
                            "version_major": 2,
                            "version_minor": 0,
                            "model_id": "1432e79325f44a6c87fd1eceb55a7697"
                        }
                    },
                    "metadata": {}
                },
                {
                    "output_type": "display_data",
                    "data": {
                        "text/plain": [
                            "  0%|          | 0/792 [00:00<?, ?it/s]"
                        ],
                        "application/vnd.jupyter.widget-view+json": {
                            "version_major": 2,
                            "version_minor": 0,
                            "model_id": "fd3f86e1550b472a852f8a1cf98f8481"
                        }
                    },
                    "metadata": {}
                },
                {
                    "output_type": "display_data",
                    "data": {
                        "text/plain": [
                            "  0%|          | 0/792 [00:00<?, ?it/s]"
                        ],
                        "application/vnd.jupyter.widget-view+json": {
                            "version_major": 2,
                            "version_minor": 0,
                            "model_id": "c5fd4636eab044c3bbd048e9f63b754e"
                        }
                    },
                    "metadata": {}
                },
                {
                    "output_type": "display_data",
                    "data": {
                        "text/plain": [
                            "  0%|          | 0/792 [00:00<?, ?it/s]"
                        ],
                        "application/vnd.jupyter.widget-view+json": {
                            "version_major": 2,
                            "version_minor": 0,
                            "model_id": "ae7a3b9c604b4250868c2cdbf3f3a3db"
                        }
                    },
                    "metadata": {}
                },
                {
                    "output_type": "display_data",
                    "data": {
                        "text/plain": [
                            "  0%|          | 0/792 [00:00<?, ?it/s]"
                        ],
                        "application/vnd.jupyter.widget-view+json": {
                            "version_major": 2,
                            "version_minor": 0,
                            "model_id": "337fc4e9be8b435d8e4562d69679bd4e"
                        }
                    },
                    "metadata": {}
                },
                {
                    "output_type": "display_data",
                    "data": {
                        "text/plain": [
                            "  0%|          | 0/792 [00:00<?, ?it/s]"
                        ],
                        "application/vnd.jupyter.widget-view+json": {
                            "version_major": 2,
                            "version_minor": 0,
                            "model_id": "949b3d35c66c45118efd3fc6042c8788"
                        }
                    },
                    "metadata": {}
                },
                {
                    "output_type": "display_data",
                    "data": {
                        "text/plain": [
                            "  0%|          | 0/792 [00:00<?, ?it/s]"
                        ],
                        "application/vnd.jupyter.widget-view+json": {
                            "version_major": 2,
                            "version_minor": 0,
                            "model_id": "c50ffd3d5f334f57bcaee1d9c9757487"
                        }
                    },
                    "metadata": {}
                },
                {
                    "output_type": "display_data",
                    "data": {
                        "text/plain": [
                            "  0%|          | 0/792 [00:00<?, ?it/s]"
                        ],
                        "application/vnd.jupyter.widget-view+json": {
                            "version_major": 2,
                            "version_minor": 0,
                            "model_id": "d4a4a780edfc4096ac5173270e690aa5"
                        }
                    },
                    "metadata": {}
                },
                {
                    "output_type": "display_data",
                    "data": {
                        "text/plain": [
                            "  0%|          | 0/792 [00:00<?, ?it/s]"
                        ],
                        "application/vnd.jupyter.widget-view+json": {
                            "version_major": 2,
                            "version_minor": 0,
                            "model_id": "24479646b95d401a84578daba47b9308"
                        }
                    },
                    "metadata": {}
                },
                {
                    "output_type": "display_data",
                    "data": {
                        "text/plain": [
                            "  0%|          | 0/792 [00:00<?, ?it/s]"
                        ],
                        "application/vnd.jupyter.widget-view+json": {
                            "version_major": 2,
                            "version_minor": 0,
                            "model_id": "fbf218c7538d4c65b18b7cdc3e5b489b"
                        }
                    },
                    "metadata": {}
                },
                {
                    "output_type": "display_data",
                    "data": {
                        "text/plain": [
                            "  0%|          | 0/792 [00:00<?, ?it/s]"
                        ],
                        "application/vnd.jupyter.widget-view+json": {
                            "version_major": 2,
                            "version_minor": 0,
                            "model_id": "d9b2ec01eb55401c949696ee648832d5"
                        }
                    },
                    "metadata": {}
                },
                {
                    "output_type": "display_data",
                    "data": {
                        "text/plain": [
                            "  0%|          | 0/792 [00:00<?, ?it/s]"
                        ],
                        "application/vnd.jupyter.widget-view+json": {
                            "version_major": 2,
                            "version_minor": 0,
                            "model_id": "c5c5ed51bfb24a8ba0fd0f85cea0b1a8"
                        }
                    },
                    "metadata": {}
                },
                {
                    "output_type": "display_data",
                    "data": {
                        "text/plain": [
                            "  0%|          | 0/792 [00:00<?, ?it/s]"
                        ],
                        "application/vnd.jupyter.widget-view+json": {
                            "version_major": 2,
                            "version_minor": 0,
                            "model_id": "dc820d76e9cc4fb48644e537822e2c81"
                        }
                    },
                    "metadata": {}
                },
                {
                    "output_type": "display_data",
                    "data": {
                        "text/plain": [
                            "  0%|          | 0/792 [00:00<?, ?it/s]"
                        ],
                        "application/vnd.jupyter.widget-view+json": {
                            "version_major": 2,
                            "version_minor": 0,
                            "model_id": "504e617f6747437db8eeca4e69c300e0"
                        }
                    },
                    "metadata": {}
                },
                {
                    "output_type": "display_data",
                    "data": {
                        "text/plain": [
                            "  0%|          | 0/792 [00:00<?, ?it/s]"
                        ],
                        "application/vnd.jupyter.widget-view+json": {
                            "version_major": 2,
                            "version_minor": 0,
                            "model_id": "48755b3af8af4e44a0a41d162024fa2b"
                        }
                    },
                    "metadata": {}
                },
                {
                    "output_type": "display_data",
                    "data": {
                        "text/plain": [
                            "  0%|          | 0/792 [00:00<?, ?it/s]"
                        ],
                        "application/vnd.jupyter.widget-view+json": {
                            "version_major": 2,
                            "version_minor": 0,
                            "model_id": "41f92cbf8a064865bcbc2d86739d09ca"
                        }
                    },
                    "metadata": {}
                },
                {
                    "output_type": "display_data",
                    "data": {
                        "text/plain": [
                            "  0%|          | 0/792 [00:00<?, ?it/s]"
                        ],
                        "application/vnd.jupyter.widget-view+json": {
                            "version_major": 2,
                            "version_minor": 0,
                            "model_id": "af1f0518177845a2a338ec0437bb0063"
                        }
                    },
                    "metadata": {}
                },
                {
                    "output_type": "display_data",
                    "data": {
                        "text/plain": [
                            "  0%|          | 0/792 [00:00<?, ?it/s]"
                        ],
                        "application/vnd.jupyter.widget-view+json": {
                            "version_major": 2,
                            "version_minor": 0,
                            "model_id": "d97002520dae49abbd19b2473936e760"
                        }
                    },
                    "metadata": {}
                },
                {
                    "output_type": "display_data",
                    "data": {
                        "text/plain": [
                            "  0%|          | 0/792 [00:00<?, ?it/s]"
                        ],
                        "application/vnd.jupyter.widget-view+json": {
                            "version_major": 2,
                            "version_minor": 0,
                            "model_id": "12bec933f18d43d882a12b58eef2f920"
                        }
                    },
                    "metadata": {}
                },
                {
                    "output_type": "display_data",
                    "data": {
                        "text/plain": [
                            "  0%|          | 0/792 [00:00<?, ?it/s]"
                        ],
                        "application/vnd.jupyter.widget-view+json": {
                            "version_major": 2,
                            "version_minor": 0,
                            "model_id": "d0039930bc6c4b8e8384057f437089ff"
                        }
                    },
                    "metadata": {}
                }
            ],
            "metadata": {}
        },
        {
            "cell_type": "code",
            "execution_count": 12,
            "source": [
                "import matplotlib.pyplot as plt\n",
                "from matplotlib.ticker import MultipleLocator\n",
                "\n",
                "plt.rcParams['text.usetex'] = True\n",
                "plt.rcParams[\"figure.figsize\"] = (9, 6)\n",
                "plt.rcParams.update({'font.size':14})\n",
                "\n",
                "fig = plt.figure()\n",
                "ax = plt.subplot(111)\n",
                "plt.title(r'$\\mathrm{Pb+Pb}\\,\\,\\, 5.02\\,\\,\\mathrm{TeV}\\,\\,\\,\\mathrm{SU(3)}$', size = 18)\n",
                "plt.xlabel(r'$\\tau\\,\\mathrm{[fm/c]}$', size = 18)\n",
                "plt.ylabel(r'$\\langle p_T^2\\rangle\\,\\mathrm{[GeV^2]}$', size = 18)\n",
                "\n",
                "# ax.set_xlim(0,2.06)\n",
                "# ax.set_xlim(0,1.06)\n",
                "ax.set_ylim(-0.2,4)\n",
                "\n",
                "ax.xaxis.set_major_locator(MultipleLocator(0.5))\n",
                "ax.xaxis.set_minor_locator(MultipleLocator(0.25))\n",
                "ax.yaxis.set_major_locator(MultipleLocator(1))\n",
                "ax.yaxis.set_minor_locator(MultipleLocator(0.5))\n",
                "\n",
                "ax.spines[\"top\"].set_visible(False)\n",
                "ax.spines[\"right\"].set_visible(False)\n",
                "ax.spines['bottom'].set_color('gray')\n",
                "ax.spines['left'].set_color('gray') \n",
                "ax.tick_params(direction='in', colors='gray',grid_color='gray', grid_alpha=0.5)\n",
                "# ax.yaxis.get_major_ticks()[0].label1.set_visible(False)\n",
                "plt.grid(color = 'gray', linestyle = '-', linewidth = 1, alpha=0.2)\n",
                "\n",
                "os.chdir(kappa_path)\n",
                "data = np.load('tauform_0.06_mean.npz')\n",
                "px_mean, px_std = data[\"px_mean\"], data[\"px_std\"]\n",
                "py_mean, py_std = data[\"py_mean\"], data[\"py_std\"]\n",
                "tau =data[\"tau\"]\n",
                "\n",
                "Nc = 3\n",
                "sigmap_mean = Nc * np.sqrt(px_mean+py_mean)\n",
                "sigmap_std = Nc * np.sqrt(px_std+py_std)\n",
                "# sigmap_mean = np.sqrt(px_mean+py_mean)\n",
                "# sigmap_std = np.sqrt(px_std+py_std)\n",
                "\n",
                "# ax.plot(tau, sigmap_mean, '-', color = '#B48EAD', markersize = 0, linewidth = 3, label=r'$0.06$')\n",
                "ax.plot(tau, sigmap_mean, '-', color = '#B48EAD', markersize = 0, linewidth = 3)\n",
                "# ax.fill_between(tau, sigmap_mean-sigmap_std/2, sigmap_mean+sigmap_std/2, color = '#B48EAD', alpha=0.15)\n",
                "\n",
                "# leg = ax.legend(loc='upper left', fontsize=14)\n",
                "# leg.set_title(r'$\\tau_\\mathrm{form}\\,\\mathrm{[fm/c]}$',prop={'size':18})\n",
                "# leg.get_frame().set_boxstyle('square')\n",
                "\n",
                "wong_folder = 'pb+pb_5020gev_su3_interp_pT_0.5'\n",
                "wong_path = results_path + '/' + wong_folder + '/'\n",
                "os.chdir(wong_path)\n",
                "data = np.load('avg.npz')\n",
                "sigmapt_mean, sigmapt_std, tau = data['sigmapt_mean'], data['sigmapt_std'], data['tau']\n",
                "\n",
                "ax.plot(tau[1:len(tau)], sigmapt_mean, '-', color = '#8FBCBB', markersize = 0, linewidth = 3)\n",
                "# ax.fill_between(tau[1:len(tau)], sigmapt_mean-sigmapt_std/2, sigmapt_mean+sigmapt_std/2, color = '#8FBCBB', alpha=0.3)\n",
                "\n",
                "plt.tight_layout()\n",
                "plt.savefig('sigmap_kappa_pT_su3_pb+pb_5020gev.png', dpi = 300,  facecolor='white', transparent=False)\n",
                "plt.show()"
            ],
            "outputs": [
                {
                    "output_type": "display_data",
                    "data": {
                        "text/plain": [
                            "<Figure size 648x432 with 1 Axes>"
                        ],
                        "image/png": "[encoded data removed]",
                        "image/svg+xml": "<?xml version=\"1.0\" encoding=\"utf-8\" standalone=\"no\"?>\n<!DOCTYPE svg PUBLIC \"-//W3C//DTD SVG 1.1//EN\"\n  \"http://www.w3.org/Graphics/SVG/1.1/DTD/svg11.dtd\">\n<!-- Created with matplotlib (https://matplotlib.org/) -->\n<svg height=\"416.16pt\" version=\"1.1\" viewBox=\"0 0 632.16 416.16\" width=\"632.16pt\" xmlns=\"http://www.w3.org/2000/svg\" xmlns:xlink=\"http://www.w3.org/1999/xlink\">\n <metadata>\n  <rdf:RDF xmlns:cc=\"http://creativecommons.org/ns#\" xmlns:dc=\"http://purl.org/dc/elements/1.1/\" xmlns:rdf=\"http://www.w3.org/1999/02/22-rdf-syntax-ns#\">\n   <cc:Work>\n    <dc:type rdf:resource=\"http://purl.org/dc/dcmitype/StillImage\"/>\n    <dc:date>2021-07-21T17:04:52.007600</dc:date>\n    <dc:format>image/svg+xml</dc:format>\n    <dc:creator>\n     <cc:Agent>\n      <dc:title>Matplotlib v3.3.4, https://matplotlib.org/</dc:title>\n     </cc:Agent>\n    </dc:creator>\n   </cc:Work>\n  </rdf:RDF>\n </metadata>\n <defs>\n  <style type=\"text/css\">*{stroke-linecap:butt;stroke-linejoin:round;}</style>\n </defs>\n <g id=\"figure_1\">\n  <g id=\"patch_1\">\n   <path d=\"M 0 416.16 \nL 632.16 416.16 \nL 632.16 0 \nL 0 0 \nz\n\" style=\"fill:none;\"/>\n  </g>\n  <g id=\"axes_1\">\n   <g id=\"patch_2\">\n    <path d=\"M 41.065029 371.129343 \nL 624.96 371.129343 \nL 624.96 26.63342 \nL 41.065029 26.63342 \nz\n\" style=\"fill:#ffffff;\"/>\n   </g>\n   <g id=\"matplotlib.axis_1\">\n    <g id=\"xtick_1\">\n     <g id=\"line2d_1\">\n      <path clip-path=\"url(#p24489732b9)\" d=\"M 51.560965 371.129343 \nL 51.560965 26.63342 \n\" style=\"fill:none;stroke:#808080;stroke-linecap:square;stroke-opacity:0.2;\"/>\n     </g>\n     <g id=\"line2d_2\">\n      <defs>\n       <path d=\"M 0 0 \nL 0 -3.5 \n\" id=\"mc2b98a7df9\" style=\"stroke:#808080;stroke-width:0.8;\"/>\n      </defs>\n      <g>\n       <use style=\"fill:#808080;stroke:#808080;stroke-width:0.8;\" x=\"51.560965\" xlink:href=\"#mc2b98a7df9\" y=\"371.129343\"/>\n      </g>\n     </g>\n     <g id=\"text_1\">\n      <!-- $\\mathdefault{0.0}$ -->\n      <g style=\"fill:#808080;\" transform=\"translate(42.835674 384.315219)scale(0.14 -0.14)\">\n       <defs>\n        <path d=\"M 42 31.84375 \nC 42 37.96875 41.90625 48.421875 37.703125 56.453125 \nC 34 63.484375 28.09375 66 22.90625 66 \nC 18.09375 66 12 63.78125 8.203125 56.5625 \nC 4.203125 49.015625 3.796875 39.671875 3.796875 31.84375 \nC 3.796875 26.109375 3.90625 17.375 7 9.734375 \nC 11.296875 -0.609375 19 -2 22.90625 -2 \nC 27.5 -2 34.5 -0.109375 38.59375 9.4375 \nC 41.59375 16.375 42 24.5 42 31.84375 \nz\nM 22.90625 -0.40625 \nC 16.5 -0.40625 12.703125 5.125 11.296875 12.75 \nC 10.203125 18.6875 10.203125 27.328125 10.203125 32.953125 \nC 10.203125 40.6875 10.203125 47.109375 11.5 53.234375 \nC 13.40625 61.78125 19 64.390625 22.90625 64.390625 \nC 27 64.390625 32.296875 61.671875 34.203125 53.4375 \nC 35.5 47.71875 35.59375 40.984375 35.59375 32.953125 \nC 35.59375 26.421875 35.59375 18.375 34.40625 12.453125 \nC 32.296875 1.5 26.40625 -0.40625 22.90625 -0.40625 \nz\n\" id=\"CMR17-48\"/>\n        <path d=\"M 18.40625 4.796875 \nC 18.40625 7.6875 16 9.6875 13.59375 9.6875 \nC 10.703125 9.6875 8.703125 7.296875 8.703125 4.890625 \nC 8.703125 2 11.09375 0 13.5 0 \nC 16.40625 0 18.40625 2.390625 18.40625 4.796875 \nz\n\" id=\"CMMI12-58\"/>\n       </defs>\n       <use transform=\"scale(0.996264)\" xlink:href=\"#CMR17-48\"/>\n       <use transform=\"translate(45.690477 0)scale(0.996264)\" xlink:href=\"#CMMI12-58\"/>\n       <use transform=\"translate(72.787654 0)scale(0.996264)\" xlink:href=\"#CMR17-48\"/>\n      </g>\n     </g>\n    </g>\n    <g id=\"xtick_2\">\n     <g id=\"line2d_3\">\n      <path clip-path=\"url(#p24489732b9)\" d=\"M 188.476113 371.129343 \nL 188.476113 26.63342 \n\" style=\"fill:none;stroke:#808080;stroke-linecap:square;stroke-opacity:0.2;\"/>\n     </g>\n     <g id=\"line2d_4\">\n      <g>\n       <use style=\"fill:#808080;stroke:#808080;stroke-width:0.8;\" x=\"188.476113\" xlink:href=\"#mc2b98a7df9\" y=\"371.129343\"/>\n      </g>\n     </g>\n     <g id=\"text_2\">\n      <!-- $\\mathdefault{0.5}$ -->\n      <g style=\"fill:#808080;\" transform=\"translate(179.750822 384.315219)scale(0.14 -0.14)\">\n       <defs>\n        <path d=\"M 11.40625 58.59375 \nC 12.40625 58.1875 16.5 56.890625 20.703125 56.890625 \nC 30 56.890625 35.09375 61.890625 38 64.6875 \nC 38 65.484375 38 66 37.40625 66 \nC 37.296875 66 37.09375 66 36.296875 65.59375 \nC 32.796875 64.09375 28.703125 63 23.703125 63 \nC 20.703125 63 16.203125 63.359375 11.296875 65.484375 \nC 10.203125 66 10 66 9.90625 66 \nC 9.40625 66 9.296875 65.890625 9.296875 63.90625 \nL 9.296875 34.859375 \nC 9.296875 33.015625 9.296875 32.5 10.296875 32.5 \nC 10.796875 32.5 11 32.703125 11.5 33.421875 \nC 14.703125 38.046875 19.09375 40 24.09375 40 \nC 27.59375 40 35.09375 37.734375 35.09375 20.203125 \nC 35.09375 16.984375 35.09375 11.1875 32.09375 6.59375 \nC 29.59375 2.484375 25.703125 0.390625 21.40625 0.390625 \nC 14.796875 0.390625 8.09375 4.984375 6.296875 12.6875 \nC 6.703125 12.59375 7.5 12.390625 7.90625 12.390625 \nC 9.203125 12.390625 11.703125 13.09375 11.703125 16.1875 \nC 11.703125 18.890625 9.796875 20 7.90625 20 \nC 5.59375 20 4.09375 18.59375 4.09375 15.796875 \nC 4.09375 7.09375 11 -2 21.59375 -2 \nC 31.90625 -2 41.703125 6.890625 41.703125 19.796875 \nC 41.703125 32.09375 33.90625 41.59375 24.203125 41.59375 \nC 19.09375 41.59375 14.796875 39.6875 11.40625 36 \nz\n\" id=\"CMR17-53\"/>\n       </defs>\n       <use transform=\"scale(0.996264)\" xlink:href=\"#CMR17-48\"/>\n       <use transform=\"translate(45.690477 0)scale(0.996264)\" xlink:href=\"#CMMI12-58\"/>\n       <use transform=\"translate(72.787654 0)scale(0.996264)\" xlink:href=\"#CMR17-53\"/>\n      </g>\n     </g>\n    </g>\n    <g id=\"xtick_3\">\n     <g id=\"line2d_5\">\n      <path clip-path=\"url(#p24489732b9)\" d=\"M 325.391261 371.129343 \nL 325.391261 26.63342 \n\" style=\"fill:none;stroke:#808080;stroke-linecap:square;stroke-opacity:0.2;\"/>\n     </g>\n     <g id=\"line2d_6\">\n      <g>\n       <use style=\"fill:#808080;stroke:#808080;stroke-width:0.8;\" x=\"325.391261\" xlink:href=\"#mc2b98a7df9\" y=\"371.129343\"/>\n      </g>\n     </g>\n     <g id=\"text_3\">\n      <!-- $\\mathdefault{1.0}$ -->\n      <g style=\"fill:#808080;\" transform=\"translate(316.66597 384.315219)scale(0.14 -0.14)\">\n       <defs>\n        <path d=\"M 26.59375 63.796875 \nC 26.59375 65.890625 26.5 66 25.09375 66 \nC 21.203125 61.359375 15.296875 59.890625 9.703125 59.6875 \nC 9.40625 59.6875 8.90625 59.6875 8.796875 59.5 \nC 8.703125 59.296875 8.703125 59.09375 8.703125 57 \nC 11.796875 57 17 57.59375 21 59.984375 \nL 21 7.296875 \nC 21 3.796875 20.796875 2.59375 12.203125 2.59375 \nL 9.203125 2.59375 \nL 9.203125 0 \nC 14 0.09375 19 0.1875 23.796875 0.1875 \nC 28.59375 0.1875 33.59375 0.09375 38.40625 0 \nL 38.40625 2.59375 \nL 35.40625 2.59375 \nC 26.796875 2.59375 26.59375 3.6875 26.59375 7.296875 \nz\n\" id=\"CMR17-49\"/>\n       </defs>\n       <use transform=\"scale(0.996264)\" xlink:href=\"#CMR17-49\"/>\n       <use transform=\"translate(45.690477 0)scale(0.996264)\" xlink:href=\"#CMMI12-58\"/>\n       <use transform=\"translate(72.787654 0)scale(0.996264)\" xlink:href=\"#CMR17-48\"/>\n      </g>\n     </g>\n    </g>\n    <g id=\"xtick_4\">\n     <g id=\"line2d_7\">\n      <path clip-path=\"url(#p24489732b9)\" d=\"M 462.306409 371.129343 \nL 462.306409 26.63342 \n\" style=\"fill:none;stroke:#808080;stroke-linecap:square;stroke-opacity:0.2;\"/>\n     </g>\n     <g id=\"line2d_8\">\n      <g>\n       <use style=\"fill:#808080;stroke:#808080;stroke-width:0.8;\" x=\"462.306409\" xlink:href=\"#mc2b98a7df9\" y=\"371.129343\"/>\n      </g>\n     </g>\n     <g id=\"text_4\">\n      <!-- $\\mathdefault{1.5}$ -->\n      <g style=\"fill:#808080;\" transform=\"translate(453.581118 384.315219)scale(0.14 -0.14)\">\n       <use transform=\"scale(0.996264)\" xlink:href=\"#CMR17-49\"/>\n       <use transform=\"translate(45.690477 0)scale(0.996264)\" xlink:href=\"#CMMI12-58\"/>\n       <use transform=\"translate(72.787654 0)scale(0.996264)\" xlink:href=\"#CMR17-53\"/>\n      </g>\n     </g>\n    </g>\n    <g id=\"xtick_5\">\n     <g id=\"line2d_9\">\n      <path clip-path=\"url(#p24489732b9)\" d=\"M 599.221557 371.129343 \nL 599.221557 26.63342 \n\" style=\"fill:none;stroke:#808080;stroke-linecap:square;stroke-opacity:0.2;\"/>\n     </g>\n     <g id=\"line2d_10\">\n      <g>\n       <use style=\"fill:#808080;stroke:#808080;stroke-width:0.8;\" x=\"599.221557\" xlink:href=\"#mc2b98a7df9\" y=\"371.129343\"/>\n      </g>\n     </g>\n     <g id=\"text_5\">\n      <!-- $\\mathdefault{2.0}$ -->\n      <g style=\"fill:#808080;\" transform=\"translate(590.496266 384.315219)scale(0.14 -0.14)\">\n       <defs>\n        <path d=\"M 41.703125 15.46875 \nL 39.90625 15.46875 \nC 38.90625 8.390625 38.09375 7.1875 37.703125 6.59375 \nC 37.203125 5.796875 30 5.796875 28.59375 5.796875 \nL 9.40625 5.796875 \nC 13 9.6875 20 16.765625 28.5 24.9375 \nC 34.59375 30.71875 41.703125 37.5 41.703125 47.390625 \nC 41.703125 59.1875 32.296875 66 21.796875 66 \nC 10.796875 66 4.09375 56.296875 4.09375 47.296875 \nC 4.09375 43.390625 7 42.890625 8.203125 42.890625 \nC 9.203125 42.890625 12.203125 43.484375 12.203125 46.984375 \nC 12.203125 50.09375 9.59375 51 8.203125 51 \nC 7.59375 51 7 50.890625 6.59375 50.6875 \nC 8.5 59.1875 14.296875 63.390625 20.40625 63.390625 \nC 29.09375 63.390625 34.796875 56.5 34.796875 47.390625 \nC 34.796875 38.703125 29.703125 31.21875 24 24.734375 \nL 4.09375 2.296875 \nL 4.09375 0 \nL 39.296875 0 \nz\n\" id=\"CMR17-50\"/>\n       </defs>\n       <use transform=\"scale(0.996264)\" xlink:href=\"#CMR17-50\"/>\n       <use transform=\"translate(45.690477 0)scale(0.996264)\" xlink:href=\"#CMMI12-58\"/>\n       <use transform=\"translate(72.787654 0)scale(0.996264)\" xlink:href=\"#CMR17-48\"/>\n      </g>\n     </g>\n    </g>\n    <g id=\"xtick_6\">\n     <g id=\"line2d_11\">\n      <defs>\n       <path d=\"M 0 0 \nL 0 2 \n\" id=\"m4de27bc8d6\" style=\"stroke:#000000;stroke-width:0.6;\"/>\n      </defs>\n      <g>\n       <use style=\"stroke:#000000;stroke-width:0.6;\" x=\"120.018539\" xlink:href=\"#m4de27bc8d6\" y=\"371.129343\"/>\n      </g>\n     </g>\n    </g>\n    <g id=\"xtick_7\">\n     <g id=\"line2d_12\">\n      <g>\n       <use style=\"stroke:#000000;stroke-width:0.6;\" x=\"256.933687\" xlink:href=\"#m4de27bc8d6\" y=\"371.129343\"/>\n      </g>\n     </g>\n    </g>\n    <g id=\"xtick_8\">\n     <g id=\"line2d_13\">\n      <g>\n       <use style=\"stroke:#000000;stroke-width:0.6;\" x=\"393.848835\" xlink:href=\"#m4de27bc8d6\" y=\"371.129343\"/>\n      </g>\n     </g>\n    </g>\n    <g id=\"xtick_9\">\n     <g id=\"line2d_14\">\n      <g>\n       <use style=\"stroke:#000000;stroke-width:0.6;\" x=\"530.763983\" xlink:href=\"#m4de27bc8d6\" y=\"371.129343\"/>\n      </g>\n     </g>\n    </g>\n    <g id=\"text_6\">\n     <!-- $\\tau\\,\\mathrm{[fm/c]}$ -->\n     <g transform=\"translate(304.798303 404.476812)scale(0.18 -0.18)\">\n      <defs>\n       <path d=\"M 28.703125 37.59375 \nL 45.296875 37.59375 \nC 46.59375 37.59375 49.90625 37.59375 49.90625 40.796875 \nC 49.90625 43 48 43 46.203125 43 \nL 18.703125 43 \nC 16.40625 43 13 43 8.40625 38.09375 \nC 5.796875 35.203125 2.59375 29.9375 2.59375 29.34375 \nC 2.59375 28.734375 3.09375 28.546875 3.703125 28.546875 \nC 4.40625 28.546875 4.5 28.84375 5 29.4375 \nC 10.203125 37.59375 15.40625 37.59375 17.90625 37.59375 \nL 26.203125 37.59375 \nL 15.796875 3.484375 \nC 15.296875 1.984375 15.296875 1.78125 15.296875 1.484375 \nC 15.296875 0.390625 16 -1 18 -1 \nC 21.09375 -1 21.59375 1.6875 21.90625 3.1875 \nz\n\" id=\"CMMI12-28\"/>\n       <path d=\"M 23.5 -25 \nL 23.5 -21.5 \nL 14.09375 -21.5 \nL 14.09375 71.484375 \nL 23.5 71.484375 \nL 23.5 75 \nL 10.59375 75 \nL 10.59375 -25 \nz\n\" id=\"CMR17-91\"/>\n       <path d=\"M 15.296875 40.390625 \nL 26.703125 40.390625 \nL 26.703125 43 \nL 15.09375 43 \nL 15.09375 55.296875 \nC 15.09375 63.6875 19.296875 68.390625 23.59375 68.390625 \nC 24.90625 68.390625 26.40625 68.171875 27.40625 67.796875 \nC 26.59375 67.59375 24.5 66.890625 24.5 64.390625 \nC 24.5 61.796875 26.5 61 27.90625 61 \nC 29.296875 61 31.296875 61.796875 31.296875 64.390625 \nC 31.296875 68.015625 27.703125 70 23.703125 70 \nC 18 70 10.203125 65.796875 10.203125 55.09375 \nL 10.203125 43 \nL 2.203125 43 \nL 2.203125 40.390625 \nL 10.203125 40.390625 \nL 10.203125 6.890625 \nC 10.203125 3.09375 9.796875 2.59375 3.40625 2.59375 \nL 3.40625 0 \nC 5.796875 0.1875 10.40625 0.1875 13 0.1875 \nC 15.90625 0.1875 21 0.1875 23.703125 0 \nL 23.703125 2.59375 \nC 16.5 2.59375 15.296875 2.59375 15.296875 7.09375 \nz\n\" id=\"CMR17-102\"/>\n       <path d=\"M 67.59375 30.53125 \nC 67.59375 35.5625 66.703125 44 54.796875 44 \nC 48 44 43.296875 39.375 41.5 33.953125 \nL 41.40625 33.953125 \nC 40.203125 42.1875 34.296875 44 28.703125 44 \nC 20.796875 44 16.703125 37.875 15.203125 33.84375 \nL 15.09375 33.84375 \nL 15.09375 44 \nL 3.296875 42.890625 \nL 3.296875 40.28125 \nC 9.203125 40.28125 10.09375 39.6875 10.09375 34.859375 \nL 10.09375 6.921875 \nC 10.09375 3.09375 9.703125 2.59375 3.296875 2.59375 \nL 3.296875 0 \nC 5.703125 0.1875 10.09375 0.1875 12.703125 0.1875 \nC 15.296875 0.1875 19.796875 0.1875 22.203125 0 \nL 22.203125 2.59375 \nC 15.796875 2.59375 15.40625 3 15.40625 6.921875 \nL 15.40625 26.21875 \nC 15.40625 35.453125 21 42.390625 28 42.390625 \nC 35.40625 42.390625 36.203125 35.765625 36.203125 30.9375 \nL 36.203125 6.921875 \nC 36.203125 3.09375 35.796875 2.59375 29.40625 2.59375 \nL 29.40625 0 \nC 31.796875 0.1875 36.203125 0.1875 38.796875 0.1875 \nC 41.40625 0.1875 45.90625 0.1875 48.296875 0 \nL 48.296875 2.59375 \nC 41.90625 2.59375 41.5 3 41.5 6.921875 \nL 41.5 26.21875 \nC 41.5 35.453125 47.09375 42.390625 54.09375 42.390625 \nC 61.5 42.390625 62.296875 35.765625 62.296875 30.9375 \nL 62.296875 6.921875 \nC 62.296875 3.09375 61.90625 2.59375 55.5 2.59375 \nL 55.5 0 \nC 57.90625 0.1875 62.296875 0.1875 64.90625 0.1875 \nC 67.5 0.1875 72 0.1875 74.40625 0 \nL 74.40625 2.59375 \nC 68 2.59375 67.59375 3 67.59375 6.921875 \nz\n\" id=\"CMR17-109\"/>\n       <path d=\"M 42.90625 71.296875 \nC 42.90625 71.390625 43.5 72.890625 43.5 73.09375 \nC 43.5 74.296875 42.5 75 41.703125 75 \nC 41.203125 75 40.296875 75 39.5 72.796875 \nL 6 -21.3125 \nC 6 -21.40625 5.40625 -22.90625 5.40625 -23.109375 \nC 5.40625 -24.3125 6.40625 -25 7.203125 -25 \nC 7.796875 -25 8.703125 -24.90625 9.40625 -22.8125 \nz\n\" id=\"CMMI12-61\"/>\n       <path d=\"M 34.90625 35 \nC 33 35 30.203125 35 30.203125 31.484375 \nC 30.203125 28.6875 32.5 27.890625 33.796875 27.890625 \nC 34.5 27.890625 37.40625 28.1875 37.40625 31.6875 \nC 37.40625 38.6875 30.59375 44 22.90625 44 \nC 12.296875 44 3.296875 34.390625 3.296875 21.546875 \nC 3.296875 8.140625 12.703125 -1 22.90625 -1 \nC 35.296875 -1 38.40625 10.5625 38.40625 11.671875 \nC 38.40625 12.078125 38.296875 12.375 37.59375 12.375 \nC 36.90625 12.375 36.796875 12.28125 36.40625 10.96875 \nC 33.796875 2.8125 28.09375 0.796875 23.796875 0.796875 \nC 17.40625 0.796875 9.703125 6.734375 9.703125 21.640625 \nC 9.703125 36.84375 17.09375 42.1875 23 42.1875 \nC 26.90625 42.1875 32.703125 40.34375 34.90625 35 \nz\n\" id=\"CMR17-99\"/>\n       <path d=\"M 14.296875 75 \nL 1.40625 75 \nL 1.40625 71.484375 \nL 10.796875 71.484375 \nL 10.796875 -21.5 \nL 1.40625 -21.5 \nL 1.40625 -25 \nL 14.296875 -25 \nz\n\" id=\"CMR17-93\"/>\n      </defs>\n      <use transform=\"scale(0.996264)\" xlink:href=\"#CMMI12-28\"/>\n      <use transform=\"translate(70.095571 0)scale(0.996264)\" xlink:href=\"#CMR17-91\"/>\n      <use transform=\"translate(94.966629 0)scale(0.996264)\" xlink:href=\"#CMR17-102\"/>\n      <use transform=\"translate(122.440141 0)scale(0.996264)\" xlink:href=\"#CMR17-109\"/>\n      <use transform=\"translate(199.359731 0)scale(0.996264)\" xlink:href=\"#CMMI12-61\"/>\n      <use transform=\"translate(248.13465 0)scale(0.996264)\" xlink:href=\"#CMR17-99\"/>\n      <use transform=\"translate(288.620311 0)scale(0.996264)\" xlink:href=\"#CMR17-93\"/>\n     </g>\n    </g>\n   </g>\n   <g id=\"matplotlib.axis_2\">\n    <g id=\"ytick_1\">\n     <g id=\"line2d_15\">\n      <path clip-path=\"url(#p24489732b9)\" d=\"M 41.065029 354.724775 \nL 624.96 354.724775 \n\" style=\"fill:none;stroke:#808080;stroke-linecap:square;stroke-opacity:0.2;\"/>\n     </g>\n     <g id=\"line2d_16\">\n      <defs>\n       <path d=\"M 0 0 \nL 3.5 0 \n\" id=\"mb52c51ab3b\" style=\"stroke:#808080;stroke-width:0.8;\"/>\n      </defs>\n      <g>\n       <use style=\"fill:#808080;stroke:#808080;stroke-width:0.8;\" x=\"41.065029\" xlink:href=\"#mb52c51ab3b\" y=\"354.724775\"/>\n      </g>\n     </g>\n     <g id=\"text_7\">\n      <!-- $\\mathdefault{0}$ -->\n      <g style=\"fill:#808080;\" transform=\"translate(30.73654 359.567713)scale(0.14 -0.14)\">\n       <use transform=\"scale(0.996264)\" xlink:href=\"#CMR17-48\"/>\n      </g>\n     </g>\n    </g>\n    <g id=\"ytick_2\">\n     <g id=\"line2d_17\">\n      <path clip-path=\"url(#p24489732b9)\" d=\"M 41.065029 272.701936 \nL 624.96 272.701936 \n\" style=\"fill:none;stroke:#808080;stroke-linecap:square;stroke-opacity:0.2;\"/>\n     </g>\n     <g id=\"line2d_18\">\n      <g>\n       <use style=\"fill:#808080;stroke:#808080;stroke-width:0.8;\" x=\"41.065029\" xlink:href=\"#mb52c51ab3b\" y=\"272.701936\"/>\n      </g>\n     </g>\n     <g id=\"text_8\">\n      <!-- $\\mathdefault{1}$ -->\n      <g style=\"fill:#808080;\" transform=\"translate(30.73654 277.544875)scale(0.14 -0.14)\">\n       <use transform=\"scale(0.996264)\" xlink:href=\"#CMR17-49\"/>\n      </g>\n     </g>\n    </g>\n    <g id=\"ytick_3\">\n     <g id=\"line2d_19\">\n      <path clip-path=\"url(#p24489732b9)\" d=\"M 41.065029 190.679098 \nL 624.96 190.679098 \n\" style=\"fill:none;stroke:#808080;stroke-linecap:square;stroke-opacity:0.2;\"/>\n     </g>\n     <g id=\"line2d_20\">\n      <g>\n       <use style=\"fill:#808080;stroke:#808080;stroke-width:0.8;\" x=\"41.065029\" xlink:href=\"#mb52c51ab3b\" y=\"190.679098\"/>\n      </g>\n     </g>\n     <g id=\"text_9\">\n      <!-- $\\mathdefault{2}$ -->\n      <g style=\"fill:#808080;\" transform=\"translate(30.73654 195.522036)scale(0.14 -0.14)\">\n       <use transform=\"scale(0.996264)\" xlink:href=\"#CMR17-50\"/>\n      </g>\n     </g>\n    </g>\n    <g id=\"ytick_4\">\n     <g id=\"line2d_21\">\n      <path clip-path=\"url(#p24489732b9)\" d=\"M 41.065029 108.656259 \nL 624.96 108.656259 \n\" style=\"fill:none;stroke:#808080;stroke-linecap:square;stroke-opacity:0.2;\"/>\n     </g>\n     <g id=\"line2d_22\">\n      <g>\n       <use style=\"fill:#808080;stroke:#808080;stroke-width:0.8;\" x=\"41.065029\" xlink:href=\"#mb52c51ab3b\" y=\"108.656259\"/>\n      </g>\n     </g>\n     <g id=\"text_10\">\n      <!-- $\\mathdefault{3}$ -->\n      <g style=\"fill:#808080;\" transform=\"translate(30.73654 113.499197)scale(0.14 -0.14)\">\n       <defs>\n        <path d=\"M 22.09375 34 \nC 31 34 34.90625 26.140625 34.90625 17.09375 \nC 34.90625 5.03125 28.5 0.390625 22.703125 0.390625 \nC 17.40625 0.390625 8.796875 3.015625 6.09375 10.796875 \nC 6.59375 10.59375 7.09375 10.59375 7.59375 10.59375 \nC 10 10.59375 11.796875 12.1875 11.796875 14.796875 \nC 11.796875 17.6875 9.59375 19 7.59375 19 \nC 5.90625 19 3.296875 18.1875 3.296875 14.484375 \nC 3.296875 5.234375 12.296875 -2 22.90625 -2 \nC 34 -2 42.5 6.75 42.5 16.984375 \nC 42.5 26.84375 34.5 34 25 35.09375 \nC 32.59375 36.671875 39.90625 43.375 39.90625 52.390625 \nC 39.90625 60.25 32 66 23 66 \nC 13.90625 66 5.90625 60.34375 5.90625 52.296875 \nC 5.90625 48.796875 8.5 48.1875 9.796875 48.1875 \nC 11.90625 48.1875 13.703125 49.484375 13.703125 52.09375 \nC 13.703125 54.6875 11.90625 56 9.796875 56 \nC 9.40625 56 8.90625 56 8.5 55.796875 \nC 11.40625 62.484375 19.296875 63.6875 22.796875 63.6875 \nC 26.296875 63.6875 32.90625 61.96875 32.90625 52.296875 \nC 32.90625 49.484375 32.5 44.546875 29.09375 40.21875 \nC 26.09375 36.390625 22.703125 36.1875 19.40625 35.890625 \nC 18.90625 35.890625 16.59375 35.6875 16.203125 35.6875 \nC 15.5 35.59375 15.09375 35.5 15.09375 34.796875 \nC 15.09375 34.09375 15.203125 34 17.203125 34 \nz\n\" id=\"CMR17-51\"/>\n       </defs>\n       <use transform=\"scale(0.996264)\" xlink:href=\"#CMR17-51\"/>\n      </g>\n     </g>\n    </g>\n    <g id=\"ytick_5\">\n     <g id=\"line2d_23\">\n      <path clip-path=\"url(#p24489732b9)\" d=\"M 41.065029 26.63342 \nL 624.96 26.63342 \n\" style=\"fill:none;stroke:#808080;stroke-linecap:square;stroke-opacity:0.2;\"/>\n     </g>\n     <g id=\"line2d_24\">\n      <g>\n       <use style=\"fill:#808080;stroke:#808080;stroke-width:0.8;\" x=\"41.065029\" xlink:href=\"#mb52c51ab3b\" y=\"26.63342\"/>\n      </g>\n     </g>\n     <g id=\"text_11\">\n      <!-- $\\mathdefault{4}$ -->\n      <g style=\"fill:#808080;\" transform=\"translate(30.73654 31.476358)scale(0.14 -0.14)\">\n       <defs>\n        <path d=\"M 33.59375 64.796875 \nC 33.59375 66.890625 33.5 67 31.703125 67 \nL 2 19.59375 \nL 2 17 \nL 27.796875 17 \nL 27.796875 7.1875 \nC 27.796875 3.59375 27.59375 2.59375 20.59375 2.59375 \nL 18.703125 2.59375 \nL 18.703125 0 \nC 21.90625 0.1875 27.296875 0.1875 30.703125 0.1875 \nC 34.09375 0.1875 39.5 0.1875 42.703125 0 \nL 42.703125 2.59375 \nL 40.796875 2.59375 \nC 33.796875 2.59375 33.59375 3.59375 33.59375 7.1875 \nL 33.59375 17 \nL 43.796875 17 \nL 43.796875 19.59375 \nL 33.59375 19.59375 \nz\nM 28.09375 58.171875 \nL 28.09375 19.59375 \nL 4 19.59375 \nz\n\" id=\"CMR17-52\"/>\n       </defs>\n       <use transform=\"scale(0.996264)\" xlink:href=\"#CMR17-52\"/>\n      </g>\n     </g>\n    </g>\n    <g id=\"ytick_6\">\n     <g id=\"line2d_25\">\n      <defs>\n       <path d=\"M 0 0 \nL -2 0 \n\" id=\"m02af4e79e5\" style=\"stroke:#000000;stroke-width:0.6;\"/>\n      </defs>\n      <g>\n       <use style=\"stroke:#000000;stroke-width:0.6;\" x=\"41.065029\" xlink:href=\"#m02af4e79e5\" y=\"313.713356\"/>\n      </g>\n     </g>\n    </g>\n    <g id=\"ytick_7\">\n     <g id=\"line2d_26\">\n      <g>\n       <use style=\"stroke:#000000;stroke-width:0.6;\" x=\"41.065029\" xlink:href=\"#m02af4e79e5\" y=\"231.690517\"/>\n      </g>\n     </g>\n    </g>\n    <g id=\"ytick_8\">\n     <g id=\"line2d_27\">\n      <g>\n       <use style=\"stroke:#000000;stroke-width:0.6;\" x=\"41.065029\" xlink:href=\"#m02af4e79e5\" y=\"149.667678\"/>\n      </g>\n     </g>\n    </g>\n    <g id=\"ytick_9\">\n     <g id=\"line2d_28\">\n      <g>\n       <use style=\"stroke:#000000;stroke-width:0.6;\" x=\"41.065029\" xlink:href=\"#m02af4e79e5\" y=\"67.644839\"/>\n      </g>\n     </g>\n    </g>\n    <g id=\"text_12\">\n     <!-- $\\langle p_T^2\\rangle\\,\\mathrm{[GeV^2]}$ -->\n     <g transform=\"translate(21.797284 240.748587)rotate(-90)scale(0.18 -0.18)\">\n      <defs>\n       <path d=\"M 32.796875 71.203125 \nC 33.296875 72.296875 33.296875 72.5 33.296875 73 \nC 33.296875 74.09375 32.40625 75 31.296875 75 \nC 30.40625 75 29.703125 74.5 29 72.703125 \nL 11.5 26.796875 \nC 11.296875 26.203125 11 25.59375 11 25 \nC 11 24.6875 11 24.5 11.5 23.296875 \nL 29 -22.609375 \nC 29.40625 -23.703125 29.90625 -25 31.296875 -25 \nC 32.40625 -25 33.296875 -24.109375 33.296875 -23 \nC 33.296875 -22.703125 33.296875 -22.5 32.796875 -21.40625 \nL 15.09375 25 \nz\n\" id=\"CMSY10-104\"/>\n       <path d=\"M 4.296875 -12.40625 \nC 3.59375 -15.328125 3.203125 -16.109375 -0.90625 -16.109375 \nC -2.109375 -16.109375 -3.109375 -16.109375 -3.109375 -18 \nC -3.109375 -18.203125 -3 -19 -1.90625 -19 \nC -0.609375 -19 0.796875 -18.8125 2.09375 -18.8125 \nL 6.40625 -18.8125 \nC 8.5 -18.8125 13.59375 -19 15.703125 -19 \nC 16.296875 -19 17.5 -19 17.5 -17.203125 \nC 17.5 -16.109375 16.796875 -16.109375 15.09375 -16.109375 \nC 10.5 -16.109375 10.203125 -15.421875 10.203125 -14.640625 \nC 10.203125 -13.484375 14.703125 3.390625 15.296875 5.6875 \nC 16.40625 2.890625 19.09375 -1 24.296875 -1 \nC 35.59375 -1 47.796875 13.65625 47.796875 28.328125 \nC 47.796875 37.5 42.59375 44 35.09375 44 \nC 28.703125 44 23.296875 37.796875 22.203125 36.40625 \nC 21.40625 41.390625 17.5 44 13.5 44 \nC 10.59375 44 8.296875 42.59375 6.40625 38.796875 \nC 4.59375 35.203125 3.203125 29.125 3.203125 28.71875 \nC 3.203125 28.328125 3.59375 27.828125 4.296875 27.828125 \nC 5.09375 27.828125 5.203125 27.921875 5.796875 30.21875 \nC 7.296875 36.109375 9.203125 41.984375 13.203125 41.984375 \nC 15.5 41.984375 16.296875 40.390625 16.296875 37.40625 \nC 16.296875 35.015625 16 34.015625 15.59375 32.21875 \nz\nM 21.59375 31.125 \nC 22.296875 33.90625 25.09375 36.8125 26.703125 38.203125 \nC 27.796875 39.203125 31.09375 41.984375 34.90625 41.984375 \nC 39.296875 41.984375 41.296875 37.609375 41.296875 32.421875 \nC 41.296875 27.625 38.5 16.359375 36 11.171875 \nC 33.5 5.78125 28.90625 1 24.296875 1 \nC 17.5 1 16.40625 9.578125 16.40625 9.96875 \nC 16.40625 10.265625 16.59375 11.0625 16.703125 11.5625 \nz\n\" id=\"CMMI12-112\"/>\n       <path d=\"M 41.703125 60.71875 \nC 42.296875 63.09375 42.5 64 44 64.390625 \nC 44.796875 64.59375 48.09375 64.59375 50.203125 64.59375 \nC 60.203125 64.59375 64.90625 64.203125 64.90625 56.4375 \nC 64.90625 54.9375 64.5 51.15625 63.90625 47.46875 \nL 63.796875 46.28125 \nC 63.796875 45.890625 64.203125 45.28125 64.796875 45.28125 \nC 65.796875 45.28125 65.796875 45.78125 66.09375 47.375 \nL 69 64.984375 \nC 69.203125 65.890625 69.203125 66.09375 69.203125 66.390625 \nC 69.203125 67.484375 68.59375 67.484375 66.59375 67.484375 \nL 11.90625 67.484375 \nC 9.59375 67.484375 9.5 67.390625 8.90625 65.59375 \nL 2.796875 47.671875 \nC 2.703125 47.46875 2.40625 46.375 2.40625 46.28125 \nC 2.40625 45.78125 2.796875 45.28125 3.40625 45.28125 \nC 4.203125 45.28125 4.40625 45.6875 4.796875 46.984375 \nC 9 59.015625 11.09375 64.59375 24.40625 64.59375 \nL 31.09375 64.59375 \nC 33.5 64.59375 34.5 64.59375 34.5 63.5 \nC 34.5 63.203125 34.5 63 34 61.203125 \nL 20.59375 7.765625 \nC 19.59375 3.890625 19.40625 2.890625 8.796875 2.890625 \nC 6.296875 2.890625 5.59375 2.890625 5.59375 1 \nC 5.59375 0 6.703125 0 7.203125 0 \nC 9.703125 0 12.296875 0.1875 14.796875 0.1875 \nL 30.40625 0.1875 \nC 32.90625 0.1875 35.59375 0 38.09375 0 \nC 39.203125 0 40.203125 0 40.203125 1.890625 \nC 40.203125 2.890625 39.5 2.890625 36.90625 2.890625 \nC 27.90625 2.890625 27.90625 3.78125 27.90625 5.28125 \nC 27.90625 5.375 27.90625 6.078125 28.296875 7.671875 \nz\n\" id=\"CMMI12-84\"/>\n       <path d=\"M 27.296875 23.296875 \nC 27.796875 24.5 27.796875 24.6875 27.796875 25 \nC 27.796875 25.296875 27.796875 25.5 27.296875 26.703125 \nL 9.796875 72.703125 \nC 9.203125 74.390625 8.59375 75 7.5 75 \nC 6.40625 75 5.5 74.09375 5.5 73 \nC 5.5 72.703125 5.5 72.5 6 71.390625 \nL 23.703125 25 \nL 6 -21.203125 \nC 5.5 -22.3125 5.5 -22.5 5.5 -23 \nC 5.5 -24.109375 6.40625 -25 7.5 -25 \nC 8.796875 -25 9.203125 -24 9.59375 -23 \nz\n\" id=\"CMSY10-105\"/>\n       <path d=\"M 62.09375 19.65625 \nC 62.09375 23.484375 62.40625 24 68.59375 24 \nL 68.59375 26.59375 \nC 66.203125 26.390625 60.796875 26.390625 58.09375 26.390625 \nC 55.296875 26.390625 47.5 26.5 43.703125 26.59375 \nL 43.703125 24 \nL 46.703125 24 \nC 55.296875 24 55.5 22.875 55.5 19.25 \nL 55.5 12.59375 \nC 55.5 1.5 42.5 0.59375 39.40625 0.59375 \nC 29.09375 0.59375 12.203125 7.75 12.203125 34.046875 \nC 12.203125 60.34375 28.796875 67.390625 38.5 67.390625 \nC 49.796875 67.390625 58 57.515625 59.90625 43.515625 \nC 60.09375 42.3125 60.09375 42.109375 61 42.109375 \nC 62.09375 42.109375 62.09375 42.3125 62.09375 44.125 \nL 62.09375 67.984375 \nC 62.09375 69.796875 62 69.890625 61.40625 69.890625 \nC 61 69.890625 60.90625 69.796875 60.203125 68.59375 \nL 55.796875 60.140625 \nC 50.90625 66.390625 44.90625 70 37.203125 70 \nC 20.09375 70 4.59375 54.796875 4.59375 34.046875 \nC 4.59375 13.40625 19.796875 -2 37.40625 -2 \nC 45.5 -2 53.40625 0.890625 56.5 6.640625 \nC 58.203125 2.515625 61 -0.3125 61.5 -0.3125 \nC 62 -0.3125 62.09375 -0.203125 62.09375 1.59375 \nz\n\" id=\"CMR17-71\"/>\n       <path d=\"M 38.09375 23.484375 \nC 38.5 23.890625 38.5 24.09375 38.5 25.09375 \nC 38.5 35.171875 33.09375 44 21.703125 44 \nC 11.09375 44 2.703125 33.984375 2.703125 21.78125 \nC 2.703125 8.65625 12.203125 -1 22.796875 -1 \nC 34 -1 38.40625 9.671875 38.40625 11.796875 \nC 38.40625 12.5 37.796875 12.5 37.59375 12.5 \nC 36.90625 12.5 36.796875 12.296875 36.40625 11.078125 \nC 34.203125 4.21875 28.703125 0.796875 23.5 0.796875 \nC 19.203125 0.796875 14.90625 3.21875 12.203125 7.65625 \nC 9.09375 12.796875 9.09375 18.75 9.09375 23.484375 \nz\nM 9.203125 25 \nC 9.90625 39.234375 17.59375 42.390625 21.59375 42.390625 \nC 28.40625 42.390625 33 36.0625 33.09375 25 \nz\n\" id=\"CMR17-101\"/>\n       <path d=\"M 59 58.78125 \nC 59.90625 60.984375 61.5 65.296875 68.203125 65.390625 \nL 68.203125 68 \nC 65.90625 67.796875 63.296875 67.796875 60.796875 67.796875 \nC 58.40625 67.796875 54.296875 67.796875 52 68 \nL 52 65.390625 \nC 57 65.09375 57.203125 61.59375 57.203125 60.984375 \nC 57.203125 59.890625 56.90625 59.1875 56.59375 58.390625 \nL 36.90625 7 \nL 16.296875 60.984375 \nC 16 61.6875 15.796875 62.1875 15.796875 62.6875 \nC 15.796875 65.390625 19.796875 65.390625 21.90625 65.390625 \nL 21.90625 68 \nC 18.703125 67.796875 14 67.796875 10.703125 67.796875 \nC 8.09375 67.796875 3.40625 67.796875 1 68 \nL 1 65.390625 \nC 6.796875 65.390625 7.90625 65 9.09375 61.796875 \nL 32.90625 -0.40625 \nC 33.40625 -1.8125 33.5 -2 34.59375 -2 \nC 35.703125 -2 35.796875 -1.8125 36.296875 -0.40625 \nz\n\" id=\"CMR17-86\"/>\n      </defs>\n      <use transform=\"scale(0.996264)\" xlink:href=\"#CMSY10-104\"/>\n      <use transform=\"translate(38.743734 0)scale(0.996264)\" xlink:href=\"#CMMI12-112\"/>\n      <use transform=\"translate(87.703248 36.153639)scale(0.697382)\" xlink:href=\"#CMR17-50\"/>\n      <use transform=\"translate(87.703248 -27.44057)scale(0.697382)\" xlink:href=\"#CMMI12-84\"/>\n      <use transform=\"translate(137.707702 0)scale(0.996264)\" xlink:href=\"#CMSY10-105\"/>\n      <use transform=\"translate(193.055841 0)scale(0.996264)\" xlink:href=\"#CMR17-91\"/>\n      <use transform=\"translate(217.926899 0)scale(0.996264)\" xlink:href=\"#CMR17-71\"/>\n      <use transform=\"translate(290.282245 0)scale(0.996264)\" xlink:href=\"#CMR17-101\"/>\n      <use transform=\"translate(330.767906 0)scale(0.996264)\" xlink:href=\"#CMR17-86\"/>\n      <use transform=\"translate(401.141502 36.153639)scale(0.697382)\" xlink:href=\"#CMR17-50\"/>\n      <use transform=\"translate(433.622816 0)scale(0.996264)\" xlink:href=\"#CMR17-93\"/>\n     </g>\n    </g>\n   </g>\n   <g id=\"line2d_29\">\n    <path clip-path=\"url(#p24489732b9)\" d=\"M 67.605709 354.724775 \nL 72.953957 294.147966 \nL 78.302205 244.89084 \nL 83.650453 207.401636 \nL 88.998701 180.161091 \nL 94.346949 160.57075 \nL 99.695197 146.146088 \nL 105.043445 135.120305 \nL 110.391693 126.419841 \nL 115.739941 119.408975 \nL 121.088189 113.684484 \nL 126.436437 108.965781 \nL 131.784685 105.046368 \nL 137.132933 101.7707 \nL 142.481181 99.021376 \nL 147.829429 96.710348 \nL 153.177677 94.769869 \nL 158.525925 93.144825 \nL 163.874173 91.786255 \nL 169.222421 90.647038 \nL 174.570669 89.684361 \nL 179.918917 88.862716 \nL 185.267164 88.154168 \nL 190.615412 87.535805 \nL 195.96366 86.989044 \nL 201.311908 86.500149 \nL 206.660156 86.060497 \nL 212.008404 85.664039 \nL 217.356652 85.303256 \nL 222.7049 84.972048 \nL 228.053148 84.666787 \nL 233.401396 84.384 \nL 238.749644 84.120304 \nL 244.097892 83.871661 \nL 249.44614 83.635423 \nL 254.794388 83.412316 \nL 260.142636 83.204576 \nL 265.490884 83.014688 \nL 270.839132 82.843967 \nL 276.18738 82.69112 \nL 281.535628 82.553251 \nL 286.883876 82.427712 \nL 292.232124 82.313143 \nL 297.580372 82.208891 \nL 302.92862 82.113384 \nL 308.276868 82.024779 \nL 313.625116 81.943007 \nL 318.973364 81.867848 \nL 324.321611 81.798128 \nL 329.669859 81.732379 \nL 335.018107 81.668798 \nL 340.366355 81.607103 \nL 345.714603 81.547563 \nL 351.062851 81.489426 \nL 356.411099 81.432164 \nL 361.759347 81.37512 \nL 367.107595 81.316539 \nL 372.455843 81.254561 \nL 377.804091 81.18792 \nL 383.152339 81.115925 \nL 388.500587 81.039189 \nL 393.848835 80.958963 \nL 399.197083 80.875897 \nL 404.545331 80.790492 \nL 409.893579 80.70319 \nL 415.241827 80.614517 \nL 420.590075 80.525423 \nL 425.938323 80.436002 \nL 431.286571 80.345204 \nL 436.634819 80.25294 \nL 441.983067 80.160069 \nL 447.331315 80.067555 \nL 452.679563 79.977014 \nL 458.027811 79.889661 \nL 463.376058 79.804995 \nL 468.724306 79.721834 \nL 474.072554 79.639618 \nL 479.420802 79.558465 \nL 484.76905 79.479019 \nL 490.117298 79.402156 \nL 495.465546 79.328367 \nL 500.813794 79.257114 \nL 506.162042 79.187579 \nL 511.51029 79.119948 \nL 516.858538 79.054798 \nL 522.206786 78.991845 \nL 527.555034 78.930161 \nL 532.903282 78.869099 \nL 538.25153 78.808478 \nL 543.599778 78.748239 \nL 548.948026 78.687754 \nL 554.296274 78.625582 \nL 559.644522 78.56079 \nL 564.99277 78.493511 \nL 570.341018 78.42355 \nL 575.689266 78.349952 \nL 581.037514 78.272213 \nL 586.385762 78.191014 \nL 591.73401 78.107925 \n\" style=\"fill:none;stroke:#b48ead;stroke-linecap:square;stroke-width:3;\"/>\n   </g>\n   <g id=\"line2d_30\">\n    <path clip-path=\"url(#p24489732b9)\" d=\"M 67.605709 354.577518 \nL 68.27424 354.147393 \nL 68.942771 353.452376 \nL 69.611302 352.511123 \nL 70.948364 349.966976 \nL 72.285426 346.672034 \nL 73.622488 342.779871 \nL 75.628081 336.126761 \nL 78.302205 326.339858 \nL 86.993108 293.811048 \nL 90.335763 282.344978 \nL 93.678418 271.703162 \nL 97.021073 261.865677 \nL 100.363728 252.725552 \nL 103.706383 244.22308 \nL 107.049038 236.323042 \nL 111.060224 227.45254 \nL 115.07141 219.094736 \nL 118.414065 212.627328 \nL 121.75672 206.676261 \nL 124.430844 202.330173 \nL 127.104968 198.407835 \nL 129.779092 194.946984 \nL 132.453216 191.90799 \nL 135.12734 189.206428 \nL 139.138526 185.519924 \nL 146.492367 179.108494 \nL 151.172084 175.275957 \nL 155.851801 171.740341 \nL 161.86858 167.183854 \nL 165.879766 163.866927 \nL 174.570669 156.534051 \nL 177.913324 154.053984 \nL 180.587448 152.31395 \nL 183.261572 150.823728 \nL 185.935695 149.606008 \nL 188.609819 148.6259 \nL 192.621005 147.41969 \nL 199.306315 145.444789 \nL 202.64897 144.205118 \nL 214.682528 139.377651 \nL 219.362245 137.890766 \nL 224.710493 136.400054 \nL 228.053148 135.731243 \nL 231.395803 135.334564 \nL 239.418175 134.64103 \nL 242.092299 134.075322 \nL 244.766423 133.284288 \nL 248.777609 131.840748 \nL 256.13145 129.166638 \nL 260.142636 127.964272 \nL 265.490884 126.667587 \nL 274.181787 124.521258 \nL 282.87269 122.464553 \nL 288.220938 121.113069 \nL 294.906248 119.436996 \nL 299.585965 118.485692 \nL 305.602744 117.537609 \nL 311.619523 116.779803 \nL 317.636302 116.222421 \nL 335.018107 115.027834 \nL 348.388727 114.318733 \nL 351.731382 113.714433 \nL 363.096409 111.210442 \nL 367.107595 110.71575 \nL 380.478215 109.347436 \nL 398.528552 107.17636 \nL 405.882393 106.36217 \nL 410.56211 105.586436 \nL 419.253013 103.852745 \nL 432.623633 100.946838 \nL 445.325722 98.536289 \nL 453.348094 97.518123 \nL 467.387244 95.687964 \nL 475.409616 94.451577 \nL 479.420802 94.072008 \nL 482.763457 93.971438 \nL 488.111705 94.079309 \nL 494.128484 94.148942 \nL 501.482325 93.947633 \nL 506.162042 93.63297 \nL 515.521476 92.640312 \nL 522.206786 91.859617 \nL 528.223565 90.968951 \nL 538.920061 89.250598 \nL 543.599778 88.849085 \nL 548.948026 88.582614 \nL 553.627743 88.580427 \nL 558.975991 88.575369 \nL 564.99277 88.270048 \nL 571.67808 87.764167 \nL 575.020735 87.303998 \nL 578.36339 86.594627 \nL 581.706045 85.639296 \nL 589.059886 83.394519 \nL 592.402541 82.635109 \nL 596.413727 81.991672 \nL 598.419319 81.772676 \nL 598.419319 81.772676 \n\" style=\"fill:none;stroke:#8fbcbb;stroke-linecap:square;stroke-width:3;\"/>\n   </g>\n   <g id=\"patch_3\">\n    <path d=\"M 41.065029 371.129343 \nL 41.065029 26.63342 \n\" style=\"fill:none;stroke:#808080;stroke-linecap:square;stroke-linejoin:miter;stroke-width:0.8;\"/>\n   </g>\n   <g id=\"patch_4\">\n    <path d=\"M 41.065029 371.129343 \nL 624.96 371.129343 \n\" style=\"fill:none;stroke:#808080;stroke-linecap:square;stroke-linejoin:miter;stroke-width:0.8;\"/>\n   </g>\n   <g id=\"text_13\">\n    <!-- $\\mathrm{Pb+Pb}\\,\\,\\, 5.02\\,\\,\\mathrm{TeV}\\,\\,\\,\\mathrm{SU(3)}$ -->\n    <g transform=\"translate(238.895787 20.63342)scale(0.18 -0.18)\">\n     <defs>\n      <path d=\"M 19.796875 32 \nL 35.796875 32 \nC 48.703125 32 58.09375 40.359375 58.09375 49.796875 \nC 58.09375 59.234375 48.90625 68 35.796875 68 \nL 5.203125 68 \nL 5.203125 65.390625 \nC 12.09375 65.390625 13.203125 65.390625 13.203125 60.921875 \nL 13.203125 7.078125 \nC 13.203125 2.59375 12.09375 2.59375 5.203125 2.59375 \nL 5.203125 0 \nC 8.09375 0.1875 13.40625 0.1875 16.5 0.1875 \nC 19.59375 0.1875 24.90625 0.1875 27.796875 0 \nL 27.796875 2.59375 \nC 20.90625 2.59375 19.796875 2.59375 19.796875 7.078125 \nz\nM 19.59375 34.09375 \nL 19.59375 61.515625 \nC 19.59375 64.890625 19.796875 65.390625 23.796875 65.390625 \nL 33.90625 65.390625 \nC 46.796875 65.390625 50.5 58.046875 50.5 49.796875 \nC 50.5 40.75 46.09375 34.09375 33.90625 34.09375 \nz\n\" id=\"CMR17-80\"/>\n      <path d=\"M 15 69 \nL 3.09375 67.890625 \nL 3.09375 65.296875 \nC 9 65.296875 9.90625 64.703125 9.90625 60.046875 \nL 9.90625 -0.203125 \nL 11.703125 -0.203125 \nL 14.59375 6.953125 \nC 17.5 2.203125 21.796875 -1 27.59375 -1 \nC 37.59375 -1 47.703125 7.859375 47.703125 21.59375 \nC 47.703125 34.515625 38.703125 44 28.59375 44 \nC 22.40625 44 18 40.671875 15 36.734375 \nz\nM 15.203125 31.59375 \nC 15.203125 33.40625 15.203125 33.703125 16.59375 35.828125 \nC 20.5 41.890625 26.09375 42.390625 28 42.390625 \nC 31 42.390625 41.296875 40.78125 41.296875 21.6875 \nC 41.296875 1.703125 29.5 0.59375 27.09375 0.59375 \nC 24 0.59375 19.5 1.796875 16.296875 7.65625 \nC 15.203125 9.578125 15.203125 9.78125 15.203125 11.59375 \nz\n\" id=\"CMR17-98\"/>\n      <path d=\"M 37.703125 23 \nL 64.203125 23 \nC 65.59375 23 67.296875 23 67.296875 24.6875 \nC 67.296875 26.5 65.703125 26.5 64.203125 26.5 \nL 37.703125 26.5 \nL 37.703125 52.890625 \nC 37.703125 54.296875 37.703125 56 36 56 \nC 34.203125 56 34.203125 54.390625 34.203125 52.890625 \nL 34.203125 26.5 \nL 7.703125 26.5 \nC 6.296875 26.5 4.59375 26.5 4.59375 24.796875 \nC 4.59375 23 6.203125 23 7.703125 23 \nL 34.203125 23 \nL 34.203125 -3.03125 \nC 34.203125 -4.40625 34.203125 -6.109375 35.90625 -6.109375 \nC 37.703125 -6.109375 37.703125 -4.515625 37.703125 -3.03125 \nz\n\" id=\"CMR17-43\"/>\n      <path d=\"M 62.203125 67.6875 \nL 4.5 67.6875 \nL 2.796875 45.6875 \nL 4.59375 45.6875 \nC 5.90625 62.203125 7.296875 65.09375 22.703125 65.09375 \nC 24.5 65.09375 27.40625 65.09375 28.203125 64.984375 \nC 30.09375 64.6875 30.09375 63.5 30.09375 61.203125 \nL 30.09375 7.265625 \nC 30.09375 3.6875 29.796875 2.59375 21.5 2.59375 \nL 18.703125 2.59375 \nL 18.703125 0 \nC 23.5 0.09375 28.5 0.1875 33.40625 0.1875 \nC 38.296875 0.1875 43.296875 0.09375 48.09375 0 \nL 48.09375 2.59375 \nL 45.296875 2.59375 \nC 37 2.59375 36.703125 3.6875 36.703125 7.265625 \nL 36.703125 61.203125 \nC 36.703125 63.390625 36.703125 64.59375 38.5 64.984375 \nC 39.296875 65.09375 42.203125 65.09375 44 65.09375 \nC 59.296875 65.09375 60.796875 62.203125 62.09375 45.6875 \nL 63.90625 45.6875 \nz\n\" id=\"CMR17-84\"/>\n      <path d=\"M 43.796875 67.984375 \nC 43.796875 69.796875 43.703125 69.890625 43.09375 69.890625 \nC 42.5 69.890625 42.296875 69.484375 41.90625 68.59375 \nL 38.90625 61.953125 \nC 35.09375 67.5 29.296875 70 23 70 \nC 12.796875 70 4.59375 61.84375 4.59375 51.578125 \nC 4.59375 48.453125 5.296875 44.015625 8.703125 39.78125 \nC 12.40625 35.15625 15.90625 34.34375 23.90625 32.234375 \nC 26.90625 31.421875 31.90625 30.109375 32.90625 29.703125 \nC 38.59375 27.296875 41.59375 21.25 41.59375 15.609375 \nC 41.59375 8.34375 36.5 0.59375 27.796875 0.59375 \nC 17.09375 0.59375 7.09375 6.640625 6.40625 20.75 \nC 6.296875 22.359375 6.203125 22.453125 5.5 22.453125 \nC 4.703125 22.453125 4.59375 22.359375 4.59375 20.34375 \nL 4.59375 0 \nC 4.59375 -1.8125 4.703125 -1.90625 5.296875 -1.90625 \nC 6 -1.90625 6.203125 -1.40625 7.59375 1.703125 \nC 7.703125 2 7.703125 2.203125 9.59375 6.03125 \nC 14.59375 -0.609375 23 -2 27.796875 -2 \nC 38.703125 -2 46.40625 7.140625 46.40625 17.828125 \nC 46.40625 23.0625 44.5 27.09375 43.40625 28.90625 \nC 39.203125 35.359375 34.703125 36.5625 29.90625 37.765625 \nC 29.203125 38.078125 29 38.078125 23.40625 39.484375 \nC 18 40.890625 15.703125 41.59375 13.203125 44.3125 \nC 10.40625 47.4375 9.40625 50.671875 9.40625 53.890625 \nC 9.40625 60.4375 14.59375 67.59375 23.09375 67.59375 \nC 33.703125 67.59375 40.296875 60.03125 41.796875 47.4375 \nC 42.09375 45.625 42.203125 45.53125 42.90625 45.53125 \nC 43.796875 45.53125 43.796875 45.828125 43.796875 47.546875 \nz\n\" id=\"CMR17-83\"/>\n      <path d=\"M 54 22.53125 \nC 54 9.109375 45.296875 0.59375 35.796875 0.59375 \nC 30.703125 0.59375 26.09375 3.296875 23.296875 7.5 \nC 20.09375 12.3125 19.703125 18.515625 19.703125 22.03125 \nL 19.703125 60.890625 \nC 19.703125 65.390625 20.796875 65.390625 27.703125 65.390625 \nL 27.703125 68 \nC 24.796875 67.796875 19.5 67.796875 16.40625 67.796875 \nC 13.296875 67.796875 8 67.796875 5.09375 68 \nL 5.09375 65.390625 \nC 12 65.390625 13.09375 65.390625 13.09375 60.890625 \nL 13.09375 22.53125 \nC 13.09375 8.109375 24 -2 35.59375 -2 \nC 48.59375 -2 56.09375 11.3125 56.09375 21.125 \nL 56.09375 59.1875 \nC 56.09375 64.796875 61.203125 65.390625 64.09375 65.390625 \nL 64.09375 68 \nC 61.796875 67.796875 57.59375 67.796875 55.09375 67.796875 \nC 52.59375 67.796875 48.296875 67.796875 46 68 \nL 46 65.390625 \nC 54 65.390625 54 60.6875 54 58.1875 \nz\n\" id=\"CMR17-85\"/>\n      <path d=\"M 30.59375 -24.40625 \nC 30.59375 -24.3125 30.59375 -24.109375 30.296875 -23.8125 \nC 25.703125 -19.109375 13.40625 -6.296875 13.40625 24.9375 \nC 13.40625 56.171875 25.5 68.875 30.40625 73.890625 \nC 30.40625 73.984375 30.59375 74.1875 30.59375 74.484375 \nC 30.59375 74.796875 30.296875 75 29.90625 75 \nC 28.796875 75 20.296875 67.578125 15.40625 56.5625 \nC 10.40625 45.453125 9 34.65625 9 25.046875 \nC 9 17.828125 9.703125 5.625 15.703125 -7.296875 \nC 20.5 -17.703125 28.703125 -25 29.90625 -25 \nC 30.40625 -25 30.59375 -24.8125 30.59375 -24.40625 \nz\n\" id=\"CMR17-40\"/>\n      <path d=\"M 26.296875 24.9375 \nC 26.296875 32.140625 25.59375 44.359375 19.59375 57.265625 \nC 14.796875 67.6875 6.59375 75 5.40625 75 \nC 5.09375 75 4.703125 74.890625 4.703125 74.390625 \nC 4.703125 74.1875 4.796875 74.09375 4.90625 73.890625 \nC 9.703125 68.875 21.90625 56.171875 21.90625 25.046875 \nC 21.90625 -6.1875 9.796875 -18.90625 4.90625 -23.90625 \nC 4.796875 -24.109375 4.703125 -24.203125 4.703125 -24.40625 \nC 4.703125 -24.90625 5.09375 -25 5.40625 -25 \nC 6.5 -25 15 -17.609375 19.90625 -6.59375 \nC 24.90625 4.515625 26.296875 15.328125 26.296875 24.9375 \nz\n\" id=\"CMR17-41\"/>\n     </defs>\n     <use transform=\"scale(0.996264)\" xlink:href=\"#CMR17-80\"/>\n     <use transform=\"translate(62.586301 0)scale(0.996264)\" xlink:href=\"#CMR17-98\"/>\n     <use transform=\"translate(135.620877 0)scale(0.996264)\" xlink:href=\"#CMR17-43\"/>\n     <use transform=\"translate(229.474873 0)scale(0.996264)\" xlink:href=\"#CMR17-80\"/>\n     <use transform=\"translate(292.061173 0)scale(0.996264)\" xlink:href=\"#CMR17-98\"/>\n     <use transform=\"translate(392.769759 0)scale(0.996264)\" xlink:href=\"#CMR17-53\"/>\n     <use transform=\"translate(438.460236 0)scale(0.996264)\" xlink:href=\"#CMMI12-58\"/>\n     <use transform=\"translate(465.557413 0)scale(0.996264)\" xlink:href=\"#CMR17-48\"/>\n     <use transform=\"translate(511.24789 0)scale(0.996264)\" xlink:href=\"#CMR17-50\"/>\n     <use transform=\"translate(590.147178 0)scale(0.996264)\" xlink:href=\"#CMR17-84\"/>\n     <use transform=\"translate(648.849803 0)scale(0.996264)\" xlink:href=\"#CMR17-101\"/>\n     <use transform=\"translate(689.335463 0)scale(0.996264)\" xlink:href=\"#CMR17-86\"/>\n     <use transform=\"translate(809.522275 0)scale(0.996264)\" xlink:href=\"#CMR17-83\"/>\n     <use transform=\"translate(860.417645 0)scale(0.996264)\" xlink:href=\"#CMR17-85\"/>\n     <use transform=\"translate(929.490074 0)scale(0.996264)\" xlink:href=\"#CMR17-40\"/>\n     <use transform=\"translate(964.770842 0)scale(0.996264)\" xlink:href=\"#CMR17-51\"/>\n     <use transform=\"translate(1010.461319 0)scale(0.996264)\" xlink:href=\"#CMR17-41\"/>\n    </g>\n   </g>\n  </g>\n </g>\n <defs>\n  <clipPath id=\"p24489732b9\">\n   <rect height=\"344.495923\" width=\"583.894971\" x=\"41.065029\" y=\"26.63342\"/>\n  </clipPath>\n </defs>\n</svg>\n"
                    },
                    "metadata": {
                        "needs_background": "dark"
                    }
                }
            ],
            "metadata": {}
        }
    ],
    "metadata": {
        "orig_nbformat": 4,
        "language_info": {
            "name": "python",
            "version": "3.6.13",
            "mimetype": "text/x-python",
            "codemirror_mode": {
                "name": "ipython",
                "version": 3
            },
            "pygments_lexer": "ipython3",
            "nbconvert_exporter": "python",
            "file_extension": ".py"
        },
        "kernelspec": {
            "name": "python3",
            "display_name": "Python 3.6.13 64-bit ('curraun': conda)"
        },
        "interpreter": {
            "hash": "66b31cdbddf669999fcb207de0f85b9a136e33c1dd522229764e55c1583da068"
        }
    },
    "nbformat": 4,
    "nbformat_minor": 2
}