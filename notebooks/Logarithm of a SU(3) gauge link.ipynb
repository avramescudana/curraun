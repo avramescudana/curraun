{
 "cells": [
  {
   "cell_type": "markdown",
   "metadata": {},
   "source": [
    "### Extract the logatirhm of a SU(3) gauge link\n",
    "Dana's method"
   ]
  },
  {
   "cell_type": "code",
   "execution_count": 1,
   "metadata": {},
   "outputs": [],
   "source": [
    "import numpy as np\n",
    "import math"
   ]
  },
  {
   "cell_type": "markdown",
   "metadata": {},
   "source": [
    "Gell-Mann matrices"
   ]
  },
  {
   "cell_type": "code",
   "execution_count": 2,
   "metadata": {},
   "outputs": [],
   "source": [
    "def complex_tuple(*t):\n",
    "    return tuple(map(np.complex128, t))\n",
    "\n",
    "Nc = 3\n",
    "\n",
    "# Gell-Mann matrices\n",
    "id0 = complex_tuple(1, 0, 0, 0, 1, 0, 0, 0, 1)\n",
    "s1 = complex_tuple(0, 1, 0, 1, 0, 0, 0, 0, 0)\n",
    "s2 = complex_tuple(0, -1j, 0, 1j, 0, 0, 0, 0, 0)\n",
    "s3 = complex_tuple(1, 0, 0, 0, -1, 0, 0, 0, 0)\n",
    "s4 = complex_tuple(0, 0, 1, 0, 0, 0, 1, 0, 0)\n",
    "s5 = complex_tuple(0, 0, -1j, 0, 0, 0, 1j, 0, 0)\n",
    "s6 = complex_tuple(0, 0, 0, 0, 0, 1, 0, 1, 0)\n",
    "s7 = complex_tuple(0, 0, 0, 0, 0, -1j, 0, 1j, 0)\n",
    "s8 = complex_tuple(1 / math.sqrt(3), 0, 0, 0, 1 / math.sqrt(3), 0, 0, 0, -2 / math.sqrt(3))\n",
    "\n",
    "slist = (id0, s1, s2, s3, s4, s5, s6, s7, s8)"
   ]
  },
  {
   "cell_type": "markdown",
   "metadata": {},
   "source": [
    "SU(3) matrix operations"
   ]
  },
  {
   "cell_type": "code",
   "execution_count": 3,
   "metadata": {},
   "outputs": [],
   "source": [
    "\"\"\"\n",
    "    SU(3) group & algebra functions\n",
    "\"\"\"\n",
    "\n",
    "# SU(3) group elements are given by 3x3 complex matrices:\n",
    "#   a[0] a[1] a[2]\n",
    "#   a[3] a[4] a[5]\n",
    "#   a[6] a[7] a[8]\n",
    "# (layout corresponds to C-order of numpy array)\n",
    "\n",
    "# su3 multiplication\n",
    "\n",
    "# Generate the matrix multiplication code:\n",
    "# print(\"\\n\".join([\"r{} = \".format(j) + \" + \".join([\"a[{}] * b[{}]\".format(3 * (j // 3) + i, 3 * i + (j % 3)) for i in range(3)]) for j in range(9)]))\n",
    "\n",
    "def mul(a, b):\n",
    "    \"\"\"SU(3) multiplication: 3x3 matrix multiplication\n",
    "\n",
    "    >>> a=[1,2,3,4,5,6,7,8,9]\n",
    "    >>> b=[3,6,8,4,3,2,1,3,4]\n",
    "    >>> c=mul(a,b)\n",
    "    >>> c\n",
    "    (14, 21, 24, 38, 57, 66, 62, 93, 108)\n",
    "\n",
    "    # Check with numpy\n",
    "    >>> import numpy as np\n",
    "    >>> ma = np.asarray(a).reshape(3,3)\n",
    "    >>> mb = np.asarray(b).reshape(3,3)\n",
    "    >>> mc = np.matmul(ma, mb)\n",
    "    >>> mc\n",
    "    array([[ 14,  21,  24],\n",
    "           [ 38,  57,  66],\n",
    "           [ 62,  93, 108]])\n",
    "\n",
    "    >>> tuple(mc.flatten()) == c\n",
    "    True\n",
    "    \"\"\"\n",
    "    r0 = a[0] * b[0] + a[1] * b[3] + a[2] * b[6]\n",
    "    r1 = a[0] * b[1] + a[1] * b[4] + a[2] * b[7]\n",
    "    r2 = a[0] * b[2] + a[1] * b[5] + a[2] * b[8]\n",
    "    r3 = a[3] * b[0] + a[4] * b[3] + a[5] * b[6]\n",
    "    r4 = a[3] * b[1] + a[4] * b[4] + a[5] * b[7]\n",
    "    r5 = a[3] * b[2] + a[4] * b[5] + a[5] * b[8]\n",
    "    r6 = a[6] * b[0] + a[7] * b[3] + a[8] * b[6]\n",
    "    r7 = a[6] * b[1] + a[7] * b[4] + a[8] * b[7]\n",
    "    r8 = a[6] * b[2] + a[7] * b[5] + a[8] * b[8]\n",
    "    return r0, r1, r2, r3, r4, r5, r6, r7, r8\n",
    "\n",
    "EXP_MIN_TERMS = -1 # minimum number of terms in Taylor series\n",
    "EXP_MAX_TERMS = 100 # maximum number of terms in Taylor series\n",
    "EXP_ACCURACY_SQUARED = 1.e-40 # 1.e-32 # accuracy\n",
    "\n",
    "# exponential map\n",
    "def mexp(a):\n",
    "    \"\"\" Calculate exponential using Taylor series\n",
    "\n",
    "    mexp(a) = 1 + a + a^2 / 2 + a^3 / 6 + ...\n",
    "\n",
    "    >>> a = id0\n",
    "    >>> mexp(a)\n",
    "    ((2.7182818284590455+0j), 0j, 0j, 0j, (2.7182818284590455+0j), 0j, 0j, 0j, (2.7182818284590455+0j))\n",
    "\n",
    "    \"\"\"\n",
    "    res = id0\n",
    "    t = id0\n",
    "    for i in range(1, EXP_MAX_TERMS):\n",
    "        t = mul(t, a)\n",
    "        t = mul_s(t, 1/i)\n",
    "        res = add(res, t)\n",
    "        n = sq(t)  # TODO: Is it possible to improve performance by checking this not so often?\n",
    "        if (i > EXP_MIN_TERMS) and (math.fabs(n.real) < EXP_ACCURACY_SQUARED):\n",
    "            break\n",
    "    else:\n",
    "        # print(\"Exponential did not reach desired accuracy: {}\".format(a))   # TODO: remove debugging code\n",
    "        print(\"Exponential did not reach desired accuracy\")  # TODO: remove debugging code\n",
    "    return res\n",
    "\n",
    "LOG_MIN_TERMS = -1 # minimum number of terms in Taylor series\n",
    "LOG_MAX_TERMS = 100 # maximum number of terms in Taylor series\n",
    "LOG_ACCURACY_SQUARED = 1.e-32 # 1.e-32 # accuracy\n",
    "\n",
    "# logarithm map\n",
    "def mlog(a):\n",
    "    \"\"\"\n",
    "    Computes logarithm of a matrix using Taylor series\n",
    "\n",
    "    mlog(a) = (a-id0) - (a-id0)^2 / 2 + (a-id0)^3 / 3 - (a-id0)^4 / 4 + ...\n",
    "\n",
    "    Works for matrices close to identity (for example gauge links)\n",
    "    \"\"\"\n",
    "    res = add(a, mul_s(id0, -1))\n",
    "    t = add(a, mul_s(id0, -1))\n",
    "    sign = -1\n",
    "    for i in range(1, LOG_MAX_TERMS):\n",
    "        t = mul(t, add(a, mul_s(id0, -1)))\n",
    "        buff = mul_s(t, sign/(i+1))\n",
    "        res = add(res, buff)\n",
    "        sign = sign * (-1)\n",
    "        n = sq(t) \n",
    "        if (i > LOG_MIN_TERMS) and (math.fabs(n.real) < LOG_ACCURACY_SQUARED):\n",
    "            break\n",
    "        # else:\n",
    "            # print(\"Logarithm did not reach desired accuracy\") \n",
    "\n",
    "    return res\n",
    "\n",
    "# determinant\n",
    "def det(a):\n",
    "    res  = a[0] * (a[4] * a[8] - a[5] * a[7])\n",
    "    res += a[1] * (a[5] * a[6] - a[3] * a[8])\n",
    "    res += a[2] * (a[3] * a[7] - a[4] * a[6])\n",
    "    return res\n",
    "\n",
    "# group add: g0 = g0 + f * g1\n",
    "def add(g0, g1):\n",
    "    # Unfortunately, tuple creation from list comprehension does not work in numba:\n",
    "    # see https://github.com/numba/numba/issues/2771\n",
    "    #\n",
    "    # result = tuple(g0[i] + g1[i] for i in range(9))\n",
    "    # return result\n",
    "    r0 = g0[0] + g1[0]\n",
    "    r1 = g0[1] + g1[1]\n",
    "    r2 = g0[2] + g1[2]\n",
    "    r3 = g0[3] + g1[3]\n",
    "    r4 = g0[4] + g1[4]\n",
    "    r5 = g0[5] + g1[5]\n",
    "    r6 = g0[6] + g1[6]\n",
    "    r7 = g0[7] + g1[7]\n",
    "    r8 = g0[8] + g1[8]\n",
    "    return r0, r1, r2, r3, r4, r5, r6, r7, r8\n",
    "\n",
    "# multiply by scalar\n",
    "def mul_s(g0, f):\n",
    "    # Unfortunately, tuple creation from list comprehension does not work in numba:\n",
    "    # see https://github.com/numba/numba/issues/2771\n",
    "    #\n",
    "    # result = tuple(f * g0[i] for i in range(9))\n",
    "    # return result\n",
    "    r0 = np.complex128(f) * g0[0]\n",
    "    r1 = np.complex128(f) * g0[1]\n",
    "    r2 = np.complex128(f) * g0[2]\n",
    "    r3 = np.complex128(f) * g0[3]\n",
    "    r4 = np.complex128(f) * g0[4]\n",
    "    r5 = np.complex128(f) * g0[5]\n",
    "    r6 = np.complex128(f) * g0[6]\n",
    "    r7 = np.complex128(f) * g0[7]\n",
    "    r8 = np.complex128(f) * g0[8]\n",
    "    return r0, r1, r2, r3, r4, r5, r6, r7, r8\n",
    "\n",
    "# conjugate transpose\n",
    "def dagger(a):\n",
    "    r0 = a[0].conjugate()\n",
    "    r1 = a[3].conjugate()\n",
    "    r2 = a[6].conjugate()\n",
    "    r3 = a[1].conjugate()\n",
    "    r4 = a[4].conjugate()\n",
    "    r5 = a[7].conjugate()\n",
    "    r6 = a[2].conjugate()\n",
    "    r7 = a[5].conjugate()\n",
    "    r8 = a[8].conjugate()\n",
    "    return r0, r1, r2, r3, r4, r5, r6, r7, r8\n",
    "\n",
    "# trace\n",
    "def tr(a):\n",
    "    return a[0] + a[4] + a[8]\n",
    "\n",
    "# trace ( a . dagger(a) )\n",
    "def sq(a): # TODO: rename to tr_sq? or tr_abs_sq?\n",
    "    \"\"\"\n",
    "    >>> a = (1,2,3,4,6,8,9,5,4)\n",
    "    >>> ta = sq(a)\n",
    "    >>> ta\n",
    "    252\n",
    "\n",
    "    >>> tma = tr(mul(a, dagger(a))).real\n",
    "    >>> tma\n",
    "    252\n",
    "\n",
    "    >>> tma == ta\n",
    "    True\n",
    "\n",
    "    :param a:\n",
    "    :return:\n",
    "    \"\"\"\n",
    "    # return tr(mul(a, dagger(a))).real\n",
    "\n",
    "    s = np.float64(0)\n",
    "    for i in range(9):\n",
    "        s += a[i].real * a[i].real + a[i].imag * a[i].imag\n",
    "    return s\n",
    "\n",
    "def check_unitary(u):  # TODO: remove debugging code\n",
    "    x = mul(u, dagger(u))\n",
    "    d = add(x, mul_s(id0, -1))\n",
    "    s = sq(d)\n",
    "    # if s > 1e-8:\n",
    "    #    print(\"Unitarity violated\")  # TODO: remove debugging code\n",
    "    return s"
   ]
  },
  {
   "cell_type": "markdown",
   "metadata": {},
   "source": [
    "Input Pooja's gauge link"
   ]
  },
  {
   "cell_type": "code",
   "execution_count": 4,
   "metadata": {},
   "outputs": [],
   "source": [
    "# Pooja's gauge link\n",
    "ux = complex_tuple(0.999773332297265+1.200901570480802E-002j, 9.337536969798815E-003+9.373516471449303E-003j,-1.157649128313104E-002+-3.300514581480528E-006j,\n",
    "    -9.049799378893927E-003+9.456078543778054E-003j, 0.999470695182973+-2.638751157253443E-002j, 1.305022491015412E-002+-4.517083466599165E-003j,\n",
    "    1.173464879673716E-002+2.220279658133394E-004j, -1.299671643839491E-002+-4.249900891929569E-003j, 0.999734175041685+1.438233914040814E-002j)"
   ]
  },
  {
   "cell_type": "markdown",
   "metadata": {},
   "source": [
    "Check the unitarity of the gauge link"
   ]
  },
  {
   "cell_type": "code",
   "execution_count": 5,
   "metadata": {},
   "outputs": [
    {
     "data": {
      "text/plain": [
       "1.4823476966401162e-31"
      ]
     },
     "execution_count": 5,
     "metadata": {},
     "output_type": "execute_result"
    }
   ],
   "source": [
    "check_unitary(ux)"
   ]
  },
  {
   "cell_type": "markdown",
   "metadata": {},
   "source": [
    "Compute the determinant of the gauge link"
   ]
  },
  {
   "cell_type": "code",
   "execution_count": 6,
   "metadata": {},
   "outputs": [
    {
     "name": "stdout",
     "output_type": "stream",
     "text": [
      "The determinant is (1.0000000000000002-3.470743971154097e-18j)\n"
     ]
    }
   ],
   "source": [
    "print(\"The determinant is\", det(ux))"
   ]
  },
  {
   "cell_type": "markdown",
   "metadata": {},
   "source": [
    "Extract the logarithm as a Taylor series $\\boxed{\\mathrm{ln}\\, U=\\displaystyle\\sum_n\\dfrac{(-1)^n(U-\\mathcal{I})^n}{n}}$"
   ]
  },
  {
   "cell_type": "code",
   "execution_count": 7,
   "metadata": {},
   "outputs": [
    {
     "data": {
      "text/plain": [
       "array([ 1.92188480e-16+0.01200978j,  9.19523417e-03+0.0094164j ,\n",
       "       -1.16575554e-02+0.00010938j, -9.19523417e-03+0.0094164j ,\n",
       "        1.08408557e-16-0.02639329j,  1.30256890e-02-0.00438424j,\n",
       "        1.16575554e-02+0.00010938j, -1.30256890e-02-0.00438424j,\n",
       "       -4.53993708e-17+0.01438351j])"
      ]
     },
     "execution_count": 7,
     "metadata": {},
     "output_type": "execute_result"
    }
   ],
   "source": [
    "lnux_taylor = np.array(mlog(ux))\n",
    "lnux_taylor"
   ]
  },
  {
   "cell_type": "markdown",
   "metadata": {},
   "source": [
    "Extract the logaritm as the anti-hermitian part of the gauge link $\\boxed{\\mathrm{ln}\\, U=\\dfrac{1}{2}\\left(U-U^\\dagger\\right)}$"
   ]
  },
  {
   "cell_type": "code",
   "execution_count": 8,
   "metadata": {},
   "outputs": [
    {
     "data": {
      "text/plain": [
       "array([ 0.        +0.01200902j,  0.00919367+0.0094148j ,\n",
       "       -0.01165557+0.00010936j, -0.00919367+0.0094148j ,\n",
       "        0.        -0.02638751j,  0.01302347-0.00438349j,\n",
       "        0.01165557+0.00010936j, -0.01302347-0.00438349j,\n",
       "        0.        +0.01438234j])"
      ]
     },
     "execution_count": 8,
     "metadata": {},
     "output_type": "execute_result"
    }
   ],
   "source": [
    "lnux_uudag = np.array(mul_s(add(ux, mul_s(dagger(ux), -1)), 0.5))\n",
    "lnux_uudag"
   ]
  },
  {
   "cell_type": "markdown",
   "metadata": {},
   "source": [
    "Extract the logarithm using ```Scipy```"
   ]
  },
  {
   "cell_type": "code",
   "execution_count": 9,
   "metadata": {},
   "outputs": [
    {
     "data": {
      "text/plain": [
       "array([-2.18141477e-16+0.01200978j,  9.19523417e-03+0.0094164j ,\n",
       "       -1.16575554e-02+0.00010938j, -9.19523417e-03+0.0094164j ,\n",
       "       -3.41740525e-16-0.02639329j,  1.30256890e-02-0.00438424j,\n",
       "        1.16575554e-02+0.00010938j, -1.30256890e-02-0.00438424j,\n",
       "       -1.73472348e-16+0.01438351j])"
      ]
     },
     "execution_count": 9,
     "metadata": {},
     "output_type": "execute_result"
    }
   ],
   "source": [
    "from scipy.linalg import logm\n",
    "lnux_scipy = np.reshape(logm(np.reshape(ux, (Nc, Nc))), Nc*Nc)\n",
    "lnux_scipy"
   ]
  },
  {
   "cell_type": "markdown",
   "metadata": {},
   "source": [
    "Compare ```Scipy``` with the Taylor series logarithm"
   ]
  },
  {
   "cell_type": "code",
   "execution_count": 10,
   "metadata": {},
   "outputs": [
    {
     "data": {
      "text/plain": [
       "array([ 4.10329958e-16-1.04083409e-17j,  2.02962647e-16+3.62557206e-16j,\n",
       "        1.26634814e-16-5.69409428e-16j,  2.22044605e-16-5.39499001e-16j,\n",
       "        4.50149081e-16+1.80411242e-16j,  1.21430643e-17+1.26634814e-16j,\n",
       "       -9.02056208e-17+5.02663232e-16j, -4.51028104e-17-3.20923843e-16j,\n",
       "        1.28072977e-16-4.85722573e-17j])"
      ]
     },
     "execution_count": 10,
     "metadata": {},
     "output_type": "execute_result"
    }
   ],
   "source": [
    "lnux_taylor - lnux_scipy"
   ]
  },
  {
   "cell_type": "markdown",
   "metadata": {},
   "source": [
    "Compare ```Scipy``` with the anti-hermitian logarithm"
   ]
  },
  {
   "cell_type": "code",
   "execution_count": 11,
   "metadata": {},
   "outputs": [
    {
     "data": {
      "text/plain": [
       "array([ 2.18141477e-16-7.64224652e-07j, -1.56599257e-06-1.60364535e-06j,\n",
       "        1.98535885e-06-1.86182703e-08j,  1.56599257e-06-1.60364535e-06j,\n",
       "        3.41740525e-16+5.77598560e-06j, -2.21832781e-06+7.46662893e-07j,\n",
       "       -1.98535885e-06-1.86182693e-08j,  2.21832781e-06+7.46662893e-07j,\n",
       "        1.73472348e-16-1.16848827e-06j])"
      ]
     },
     "execution_count": 11,
     "metadata": {},
     "output_type": "execute_result"
    }
   ],
   "source": [
    "lnux_uudag - lnux_scipy"
   ]
  },
  {
   "cell_type": "markdown",
   "metadata": {},
   "source": [
    "- - -\n",
    "Load Pooja's Fortran subroutines for extracting the logarithm"
   ]
  },
  {
   "cell_type": "code",
   "execution_count": 12,
   "metadata": {},
   "outputs": [
    {
     "data": {
      "application/javascript": "new Promise(function(resolve, reject) {\n\tvar script = document.createElement(\"script\");\n\tscript.onload = resolve;\n\tscript.onerror = reject;\n\tscript.src = \"https://raw.github.com/marijnh/CodeMirror/master/mode/fortran/fortran.js\";\n\tdocument.head.appendChild(script);\n}).then(() => {\nIPython.config.cell_magic_highlight['magic_fortran'] = {'reg':[/^%%fortran/]};\n});"
     },
     "metadata": {},
     "output_type": "display_data"
    }
   ],
   "source": [
    "%load_ext fortranmagic"
   ]
  },
  {
   "cell_type": "markdown",
   "metadata": {},
   "source": [
    "Extract the logarithm as a Taylor series"
   ]
  },
  {
   "cell_type": "code",
   "execution_count": 13,
   "metadata": {},
   "outputs": [],
   "source": [
    "%%fortran --extra \"-DF2PY_REPORT_ON_ARRAY_COPY=1\"\n",
    "subroutine mlog_taylor_pooja(input, output)\n",
    "   complex(8), dimension(3, 3), intent(in) :: input\n",
    "   complex(8), dimension(3, 3), intent(out) :: output\n",
    "\n",
    "   complex(8), parameter :: i = (0.0D0, 1.0D0)\t\n",
    "   complex(8), dimension(3, 3) :: II, mat_U, mat_U_I, mat_U_I_pow, log_U\n",
    "   integer :: j5\n",
    "\n",
    "   mat_U = input\n",
    "\n",
    "   II = 0.0D0\t\n",
    "   II(1,1) = (1.0D0, 0.0D0) ;\tII(2,2) = (1.0D0, 0.0D0) ;\tII(3,3) = (1.0D0, 0.0D0)\n",
    "\n",
    "   mat_U_I      =  mat_U - II\t\t\n",
    "   mat_U_I_pow  =  II\t\t\t\t\n",
    "   log_U = (0.0D0, 0.0D0)\t\n",
    "\n",
    "   DO j5 = 1, 100\n",
    "      mat_U_I_pow  =  MATMUL(mat_U_I, mat_U_I_pow)\n",
    "      log_U        =  log_U + (((-1.0D0)**(j5+1) )/DBLE(j5))*mat_U_I_pow\t\t\t\t\n",
    "   ENDDO\n",
    "\n",
    "   output = log_U\n",
    "\n",
    "end subroutine"
   ]
  },
  {
   "cell_type": "code",
   "execution_count": 14,
   "metadata": {},
   "outputs": [
    {
     "data": {
      "text/plain": [
       "array([[ 1.92188190e-16+0.01200978j,  9.19523417e-03+0.0094164j ,\n",
       "        -1.16575554e-02+0.00010938j],\n",
       "       [-9.19523417e-03+0.0094164j ,  1.08407143e-16-0.02639329j,\n",
       "         1.30256890e-02-0.00438424j],\n",
       "       [ 1.16575554e-02+0.00010938j, -1.30256890e-02-0.00438424j,\n",
       "        -4.53995715e-17+0.01438351j]])"
      ]
     },
     "execution_count": 14,
     "metadata": {},
     "output_type": "execute_result"
    }
   ],
   "source": [
    "ux_array = np.reshape(np.array(ux), (Nc, Nc))\n",
    "lnux_taylor_pooja = mlog_taylor_pooja(ux_array)\n",
    "lnux_taylor_pooja"
   ]
  },
  {
   "cell_type": "markdown",
   "metadata": {},
   "source": [
    "Compare our results"
   ]
  },
  {
   "cell_type": "code",
   "execution_count": 15,
   "metadata": {},
   "outputs": [
    {
     "data": {
      "text/plain": [
       "array([[2.90822564e-22+0.j, 0.00000000e+00+0.j, 0.00000000e+00+0.j],\n",
       "       [0.00000000e+00+0.j, 1.41389243e-21+0.j, 0.00000000e+00+0.j],\n",
       "       [0.00000000e+00+0.j, 0.00000000e+00+0.j, 2.00668696e-22+0.j]])"
      ]
     },
     "execution_count": 15,
     "metadata": {},
     "output_type": "execute_result"
    }
   ],
   "source": [
    "np.reshape(np.array(lnux_taylor), (Nc, Nc)) - lnux_taylor_pooja"
   ]
  },
  {
   "cell_type": "markdown",
   "metadata": {},
   "source": [
    "Extract the logarithm from the anit-hermitian part"
   ]
  },
  {
   "cell_type": "code",
   "execution_count": 16,
   "metadata": {},
   "outputs": [],
   "source": [
    "%%fortran --extra \"-DF2PY_REPORT_ON_ARRAY_COPY=1\"\n",
    "subroutine mlog_uudag_pooja(input, output)\n",
    "   complex(8), dimension(3, 3), intent(in) :: input\n",
    "   complex(8), dimension(3, 3), intent(out) :: output\n",
    "\n",
    "   complex(8), parameter :: i = (0.0D0, 1.0D0)\t\n",
    "   complex(8), dimension(3, 3) :: mat_U, mat_U_dag, log_U\n",
    "   integer :: j5\n",
    "\n",
    "   mat_U = input\n",
    "\n",
    "   mat_U_dag  = DCONJG(TRANSPOSE(mat_U))\t\t\t\t\n",
    "   log_U =\t(1/2.0D0)*(mat_U - mat_U_dag)\n",
    "\n",
    "   output = log_U\n",
    "\n",
    "end subroutine"
   ]
  },
  {
   "cell_type": "code",
   "execution_count": 17,
   "metadata": {},
   "outputs": [
    {
     "data": {
      "text/plain": [
       "array([[ 0.        +0.01200902j,  0.00919367+0.0094148j ,\n",
       "        -0.01165557+0.00010936j],\n",
       "       [-0.00919367+0.0094148j ,  0.        -0.02638751j,\n",
       "         0.01302347-0.00438349j],\n",
       "       [ 0.01165557+0.00010936j, -0.01302347-0.00438349j,\n",
       "         0.        +0.01438234j]])"
      ]
     },
     "execution_count": 17,
     "metadata": {},
     "output_type": "execute_result"
    }
   ],
   "source": [
    "lnux_uudag_pooja = mlog_uudag_pooja(ux_array)\n",
    "lnux_uudag_pooja"
   ]
  },
  {
   "cell_type": "markdown",
   "metadata": {},
   "source": [
    "Compare our results"
   ]
  },
  {
   "cell_type": "code",
   "execution_count": 18,
   "metadata": {},
   "outputs": [
    {
     "data": {
      "text/plain": [
       "array([[0.+0.j, 0.+0.j, 0.+0.j],\n",
       "       [0.+0.j, 0.+0.j, 0.+0.j],\n",
       "       [0.+0.j, 0.+0.j, 0.+0.j]])"
      ]
     },
     "execution_count": 18,
     "metadata": {},
     "output_type": "execute_result"
    }
   ],
   "source": [
    "np.reshape(np.array(lnux_uudag), (Nc, Nc)) - lnux_uudag_pooja"
   ]
  }
 ],
 "metadata": {
  "kernelspec": {
   "display_name": "Python 3",
   "language": "python",
   "name": "python3"
  },
  "language_info": {
   "codemirror_mode": {
    "name": "ipython",
    "version": 3
   },
   "file_extension": ".py",
   "mimetype": "text/x-python",
   "name": "python",
   "nbconvert_exporter": "python",
   "pygments_lexer": "ipython3",
   "version": "3.6.8"
  },
  "orig_nbformat": 4
 },
 "nbformat": 4,
 "nbformat_minor": 2
}
