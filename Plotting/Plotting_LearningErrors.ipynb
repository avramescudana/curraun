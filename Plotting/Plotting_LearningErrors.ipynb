{
 "cells": [
  {
   "cell_type": "markdown",
   "metadata": {},
   "source": [
    "# Plotting : Learning Errors\n",
    "\n",
    "scipy.optimize.\n",
    "curve_fit\n",
    "curve_fit(f, xdata, ydata, p0=None, sigma=None, absolute_sigma=False, check_finite=None, bounds=(-inf, inf), method=None, jac=None, *, full_output=False, nan_policy=None, **kwargs)[source]\n",
    "\n"
   ]
  },
  {
   "cell_type": "code",
   "execution_count": 6,
   "metadata": {},
   "outputs": [
    {
     "ename": "ValueError",
     "evalue": "Unable to determine number of fit parameters.",
     "output_type": "error",
     "traceback": [
      "\u001b[0;31m---------------------------------------------------------------------------\u001b[0m",
      "\u001b[0;31mValueError\u001b[0m                                Traceback (most recent call last)",
      "Cell \u001b[0;32mIn[6], line 19\u001b[0m\n\u001b[1;32m     14\u001b[0m     \u001b[38;5;28;01mreturn\u001b[39;00m x \u001b[38;5;241m*\u001b[39m\u001b[38;5;241m*\u001b[39m \u001b[38;5;241m2\u001b[39m  \u001b[38;5;66;03m# No parameters to fit!\u001b[39;00m\n\u001b[1;32m     18\u001b[0m \u001b[38;5;66;03m# This will raise ValueError!\u001b[39;00m\n\u001b[0;32m---> 19\u001b[0m params, covariance \u001b[38;5;241m=\u001b[39m curve_fit(fitting_function, xdata, ydata)\n",
      "File \u001b[0;32m~/condacurraun/lib/python3.12/site-packages/scipy/optimize/_minpack_py.py:903\u001b[0m, in \u001b[0;36mcurve_fit\u001b[0;34m(f, xdata, ydata, p0, sigma, absolute_sigma, check_finite, bounds, method, jac, full_output, nan_policy, **kwargs)\u001b[0m\n\u001b[1;32m    901\u001b[0m     args \u001b[38;5;241m=\u001b[39m sig\u001b[38;5;241m.\u001b[39margs\n\u001b[1;32m    902\u001b[0m     \u001b[38;5;28;01mif\u001b[39;00m \u001b[38;5;28mlen\u001b[39m(args) \u001b[38;5;241m<\u001b[39m \u001b[38;5;241m2\u001b[39m:\n\u001b[0;32m--> 903\u001b[0m         \u001b[38;5;28;01mraise\u001b[39;00m \u001b[38;5;167;01mValueError\u001b[39;00m(\u001b[38;5;124m\"\u001b[39m\u001b[38;5;124mUnable to determine number of fit parameters.\u001b[39m\u001b[38;5;124m\"\u001b[39m)\n\u001b[1;32m    904\u001b[0m     n \u001b[38;5;241m=\u001b[39m \u001b[38;5;28mlen\u001b[39m(args) \u001b[38;5;241m-\u001b[39m \u001b[38;5;241m1\u001b[39m\n\u001b[1;32m    905\u001b[0m \u001b[38;5;28;01melse\u001b[39;00m:\n",
      "\u001b[0;31mValueError\u001b[0m: Unable to determine number of fit parameters."
     ]
    }
   ],
   "source": [
    "# Understanding p0\n",
    "\n",
    "import numpy as np\n",
    "from scipy.optimize import curve_fit\n",
    "\n",
    "# Data\n",
    "xdata = np.array([1, 2, 3])\n",
    "ydata = np.array([1, 4, 9])\n",
    "\n",
    "\n",
    "\n",
    "# Model function with ambiguous parameters\n",
    "def fitting_function(x):\n",
    "    return x ** 2  # No parameters to fit!\n",
    "\n",
    "\n",
    "\n",
    "# This will raise ValueError!\n",
    "params, covariance = curve_fit(fitting_function, xdata, ydata)\n",
    "#params, _ = curve_fit(fitting_function, xdata, ydata)                        # If you don’t need covariance, use _ to discard it.\n",
    "                                                                            # _ is a placeholder for unused return values.\n",
    "\n",
    "# In Python, _ is a convention for ignoring a value. Here, it ignores the covariance matrix returned by curve_fit.\n",
    "\n",
    "# params = best-fit values\n",
    "# covariance = uncertainty matrix\n",
    "\n",
    "\n",
    "\n",
    "# Why It Fails\n",
    "    # No Parameters in Model: The fitting_function(x) takes only x and has no parameters to fit (like A, B, etc.).\n",
    "    # curve_fit cannot determine how many parameters to optimize.\n",
    "\n",
    "\n"
   ]
  },
  {
   "cell_type": "code",
   "execution_count": 22,
   "metadata": {},
   "outputs": [
    {
     "name": "stdout",
     "output_type": "stream",
     "text": [
      "xdata = [1 2 3 1 2 3]\n",
      "ydata = [ 1.   4.  10.   1.   4.5  3.8]\n",
      "Parameters [A,B] = [0.71632653 0.70714286]\n",
      "Parameters [A,B] = [ 2.95 -1.85]\n"
     ]
    }
   ],
   "source": [
    "# Understanding p0\n",
    "\n",
    "\n",
    "import numpy as np\n",
    "from scipy.optimize import curve_fit\n",
    "\n",
    "# Data\n",
    "xdata = np.array([1, 2, 3, 1, 2, 3])\n",
    "ydata = np.array([1, 4, 10, 1, 4.5, 3.8])\n",
    "\n",
    "print(\"xdata =\", xdata)  \n",
    "print(\"ydata =\", ydata)  \n",
    "\n",
    "\n",
    "def correct_model(x, A, B):                                                             # Now has 2 parameters (A, B)\n",
    "    return A * x ** 2 + B  \n",
    "\n",
    "# Works fine\n",
    "params, _ = curve_fit(correct_model, xdata, ydata, p0=[1, 0])                           # p0 optional\n",
    "print(\"Parameters [A,B] =\", params) \n",
    "\n",
    "\n",
    "def working_model(x, A, B):                                                             # Now has 2 parameters\n",
    "    return A * x + B\n",
    "\n",
    "params, _ = curve_fit(working_model, xdata, ydata, p0=[1, 0])                           # p0 is optional\n",
    "print(\"Parameters [A,B] =\", params)                                                    # Output: [A, B] (e.g., [2.0, -1.0])\n",
    "\n",
    "\n"
   ]
  },
  {
   "cell_type": "code",
   "execution_count": 64,
   "metadata": {},
   "outputs": [
    {
     "name": "stdout",
     "output_type": "stream",
     "text": [
      "[0.         0.10204082 0.20408163 0.30612245 0.40816327 0.51020408\n",
      " 0.6122449  0.71428571 0.81632653 0.91836735 1.02040816 1.12244898\n",
      " 1.2244898  1.32653061 1.42857143 1.53061224 1.63265306 1.73469388\n",
      " 1.83673469 1.93877551 2.04081633 2.14285714 2.24489796 2.34693878\n",
      " 2.44897959 2.55102041 2.65306122 2.75510204 2.85714286 2.95918367\n",
      " 3.06122449 3.16326531 3.26530612 3.36734694 3.46938776 3.57142857\n",
      " 3.67346939 3.7755102  3.87755102 3.97959184 4.08163265 4.18367347\n",
      " 4.28571429 4.3877551  4.48979592 4.59183673 4.69387755 4.79591837\n",
      " 4.89795918 5.        ]\n",
      "[2.0043562  2.04545527 1.83163118 1.75085631 1.62074769 1.66794847\n",
      " 1.58691036 1.52106913 1.32287894 1.2564079  1.02717453 1.13648555\n",
      " 1.05735749 1.00490482 0.79834167 0.82011297 0.90590212 1.00085828\n",
      " 0.72608795 0.7696855  0.78086085 0.52962461 0.85817079 0.67931309\n",
      " 0.43564682 0.51809651 0.55059778 0.4443829  0.29149689 0.49033423\n",
      " 0.23602027 0.34933009 0.43009885 0.54175458 0.1086644  0.12156874\n",
      " 0.3909678  0.29277102 0.31772107 0.14832183 0.02504923 0.1090229\n",
      " 0.3325512  0.13703522 0.26923162 0.07747145 0.18614351 0.07719512\n",
      " 0.23645616 0.07173066]\n",
      "\n",
      "Original parameters [A_true, B_true] = [ 2.0 -0.5 ]\n",
      "[ 2.09274001 -0.55008609]\n",
      "\n",
      "Fitted parameters [A,B] = [ 2.09274001 -0.55008609]\n",
      "\n",
      "Covariance matrix:\n",
      "[[ 0.00246523 -0.00068945]\n",
      " [-0.00068945  0.00039211]]\n",
      "\n",
      "A_err, B_err: 0.04965104090645462 0.019801867684479346\n",
      "\n",
      "A_err^2, B_err^2: 0.00246522586309443 0.0003921139637936274\n",
      "\n",
      "\n",
      "A ± A_err = 2.09274 ± 0.04965\n",
      "B ± B_err = -0.55009 ± 0.01980\n"
     ]
    }
   ],
   "source": [
    "#   Understanding covariance matrix\n",
    "\n",
    "import numpy as np\n",
    "from scipy.optimize import curve_fit\n",
    "\n",
    "# True parameters\n",
    "A_true = 2.0\n",
    "B_true = -0.5\n",
    "\n",
    "# Generate noisy data\n",
    "xdata = np.linspace(0, 5, 50)\n",
    "ydata = A_true * np.exp(B_true * xdata) + 0.1 * np.random.normal(size=len(xdata))\n",
    "\n",
    "print(xdata)\n",
    "print(ydata)\n",
    "print(\"\\nOriginal parameters [A_true, B_true] =\", \"[\", A_true,  B_true, \"]\")                                                   \n",
    "\n",
    "\n",
    "\n",
    "\n",
    "\n",
    "def exponential_fit(x, A, B):\n",
    "    return A * np.exp(B * x)\n",
    "\n",
    "# Perform the fit\n",
    "p0 = [1, -1]\n",
    "params, pcov = curve_fit(exponential_fit, xdata, ydata, p0 = p0)\n",
    "print(params)\n",
    "A, B = params\n",
    "A_err, B_err = np.sqrt(np.diag(pcov))                                                           # Standard errors of parameters : Standard deviation of parameters\n",
    "\n",
    "print(\"\\nFitted parameters [A,B] =\", params)                                                    # Output: [A, B] (e.g., [2.0, -1.0])\n",
    "\n",
    "print(\"\\nCovariance matrix:\")\n",
    "print(pcov)\n",
    "\n",
    "print(\"\\nA_err, B_err:\", A_err, B_err)\n",
    "\n",
    "print(\"\\nA_err^2, B_err^2:\", A_err*A_err, B_err*B_err)\n",
    "\n",
    "print(\"\\n\")\n",
    "print(f\"A ± A_err = {A:.5f} ± {A_err:.5f}\")\n",
    "print(f\"B ± B_err = {B:.5f} ± {B_err:.5f}\")\n",
    "\n",
    "# Var(a) is the variance of parameters a=[a1, a2, .. aN]\n",
    "# It is calculated from the diagonal of pcov.\n"
   ]
  },
  {
   "cell_type": "code",
   "execution_count": 65,
   "metadata": {},
   "outputs": [
    {
     "name": "stdout",
     "output_type": "stream",
     "text": [
      "Optimal params: [1.05       0.02222222]\n"
     ]
    }
   ],
   "source": [
    "# Use of sigma\n",
    "\n",
    "import numpy as np\n",
    "from scipy.optimize import curve_fit\n",
    "\n",
    "\n",
    "xdata = np.array([1, 2, 3])\n",
    "ydata = np.array([1.1, 1.9, 3.2])\n",
    "sigma = np.array([0.1, 0.2, 0.1])           # Standard deviations for each ydata point\n",
    "\n",
    "# Model and data\n",
    "def model(x, A, B):\n",
    "    return A * x + B\n",
    "\n",
    "\n",
    "popt, pcov = curve_fit(model, xdata, ydata, sigma=sigma)\n",
    "print(\"Optimal params:\", popt)"
   ]
  },
  {
   "cell_type": "code",
   "execution_count": null,
   "metadata": {},
   "outputs": [
    {
     "name": "stdout",
     "output_type": "stream",
     "text": [
      "\n",
      "xdata :\n",
      " [0.         0.55555556 1.11111111 1.66666667 2.22222222 2.77777778\n",
      " 3.33333333 3.88888889 4.44444444 5.        ]\n",
      "\n",
      "ydata :\n",
      " [ 2.1914234   1.3747252   1.20253942  1.0937708   0.90972445  0.61428408\n",
      "  0.39868694  0.18439508 -0.1024604   0.2746691 ]\n",
      "\n",
      "sigma :\n",
      " [0.05, 0.06, 0.08, 0.0001, 0.11, 0.13, 0.15, 0.16, 0.18, 1e-07]\n",
      "\n",
      "Original parameters [A_true, B_true] = [ 2.0 -0.5 ]\n"
     ]
    },
    {
     "data": {
      "image/png": "[encoded data removed]",
      "text/plain": [
       "<Figure size 640x480 with 1 Axes>"
      ]
     },
     "metadata": {},
     "output_type": "display_data"
    }
   ],
   "source": [
    "# Use of sigma\n",
    "\n",
    "\n",
    "import numpy as np\n",
    "from scipy.optimize import curve_fit\n",
    "import matplotlib.pyplot as plt\n",
    "\n",
    "\n",
    "# True parameters\n",
    "A_true = 2.0\n",
    "B_true = -0.5\n",
    "\n",
    "# Synthetic data with noise\n",
    "xdata = np.linspace(0, 5, 10)\n",
    "ydata = A_true * np.exp(B_true * xdata) + 0.1 * np.random.normal(size=len(xdata))\n",
    "\n",
    "# Assign uncertainties (sigma) to ydata\n",
    "# sigma = 0.1 * np.ones_like(ydata)  # Uniform error for all points\n",
    "#sigma = np.linspace(0.05, 0.2, len(ydata))                                  # Or: variable errors\n",
    "\n",
    "sigma =  [0.05, 0.06, 0.08, 0.0001, 0.11, 0.13,  0.15, 0.16, 0.18, 0.0000001 ]\n",
    "# Change sigma to see how fitting curve changes. You will see curves passes through the lowest sigma (means high precision value) values.\n",
    "\n",
    "#How sigma Influences the Fit\n",
    "\n",
    "    #If sigma is small for a point:\n",
    "    #The fit prioritizes matching that point closely (high confidence).\n",
    "    #Example: If sigma[0] = 0.01 (very precise), the fit will force the curve near (x0,y0)(x0​,y0​).\n",
    "\n",
    "    #If sigma is large for a point:\n",
    "    #The fit treats it as less important (low confidence).\n",
    "    #Example: If sigma[-1] = 0.5 (noisy), the fit may deviate slightly at x_max​.\n",
    "\n",
    "print(\"\\nxdata :\\n\", xdata)\n",
    "print(\"\\nydata :\\n\", ydata)\n",
    "print(\"\\nsigma :\\n\", sigma)\n",
    "print(\"\\nOriginal parameters [A_true, B_true] =\", \"[\", A_true,  B_true, \"]\")    \n",
    "\n",
    "\n",
    "def model(x, A, B):\n",
    "    return A * np.exp(B * x)\n",
    "\n",
    "popt, pcov = curve_fit(model, xdata, ydata, sigma=sigma, absolute_sigma=True)\n",
    "A_fit, B_fit = popt\n",
    "A_err, B_err = np.sqrt(np.diag(pcov))                               # Standard errors\n",
    "\n",
    "\n",
    "# Error bars show sigma. The fit avoids overfitting noisy points (large sigma).\n",
    "plt.errorbar(xdata, ydata, yerr=sigma, fmt='o', label='Data with errors')\n",
    "\n",
    "\n",
    "plt.plot(xdata, model(xdata, *popt), 'r--', label=f'Fit: A={A_fit:.2f}±{A_err:.2f}, B={B_fit:.2f}±{B_err:.2f}')\n",
    "plt.legend()\n",
    "plt.xlabel('x')\n",
    "plt.ylabel('y')\n",
    "plt.title('Exponential Fit with sigma-weighted errors')\n",
    "plt.show()\n",
    "\n"
   ]
  },
  {
   "cell_type": "code",
   "execution_count": null,
   "metadata": {},
   "outputs": [],
   "source": []
  }
 ],
 "metadata": {
  "kernelspec": {
   "display_name": "Python 3",
   "language": "python",
   "name": "python3"
  },
  "language_info": {
   "codemirror_mode": {
    "name": "ipython",
    "version": 3
   },
   "file_extension": ".py",
   "mimetype": "text/x-python",
   "name": "python",
   "nbconvert_exporter": "python",
   "pygments_lexer": "ipython3",
   "version": "3.12.7"
  }
 },
 "nbformat": 4,
 "nbformat_minor": 4
}
